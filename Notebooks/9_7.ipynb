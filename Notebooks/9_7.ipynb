{
 "cells": [
  {
   "cell_type": "code",
   "execution_count": 2,
   "id": "83d74a91",
   "metadata": {},
   "outputs": [
    {
     "data": {
      "application/vnd.microsoft.datawrangler.viewer.v0+json": {
       "columns": [
        {
         "name": "index",
         "rawType": "int64",
         "type": "integer"
        },
        {
         "name": "clean_line1",
         "rawType": "object",
         "type": "unknown"
        },
        {
         "name": "clean_line2",
         "rawType": "object",
         "type": "unknown"
        },
        {
         "name": "line3",
         "rawType": "object",
         "type": "unknown"
        },
        {
         "name": "city",
         "rawType": "object",
         "type": "unknown"
        },
        {
         "name": "zip_code",
         "rawType": "int64",
         "type": "integer"
        },
        {
         "name": "label",
         "rawType": "object",
         "type": "unknown"
        },
        {
         "name": "phone",
         "rawType": "object",
         "type": "string"
        },
        {
         "name": "year",
         "rawType": "int64",
         "type": "integer"
        },
        {
         "name": "major_city",
         "rawType": "object",
         "type": "string"
        },
        {
         "name": "state",
         "rawType": "object",
         "type": "string"
        },
        {
         "name": "chain",
         "rawType": "object",
         "type": "unknown"
        },
        {
         "name": "address_standardized_ON_parenthesis",
         "rawType": "object",
         "type": "unknown"
        },
        {
         "name": "address_standardized_OFF_parenthesis",
         "rawType": "object",
         "type": "unknown"
        },
        {
         "name": "Address_Type",
         "rawType": "object",
         "type": "string"
        },
        {
         "name": "Exit_Number",
         "rawType": "object",
         "type": "unknown"
        },
        {
         "name": "Exit_From_Address",
         "rawType": "object",
         "type": "unknown"
        },
        {
         "name": "Exit_From_Label",
         "rawType": "float64",
         "type": "float"
        },
        {
         "name": "Flagged",
         "rawType": "bool",
         "type": "boolean"
        },
        {
         "name": "Flag_Reason",
         "rawType": "object",
         "type": "unknown"
        },
        {
         "name": "Is_Unclear_OCR",
         "rawType": "bool",
         "type": "boolean"
        },
        {
         "name": "Main_Road",
         "rawType": "object",
         "type": "unknown"
        },
        {
         "name": "Secondary_Road",
         "rawType": "object",
         "type": "unknown"
        },
        {
         "name": "Exit_Number_2",
         "rawType": "float64",
         "type": "float"
        },
        {
         "name": "Exit_Number_3",
         "rawType": "float64",
         "type": "float"
        },
        {
         "name": "Tertiary_Road",
         "rawType": "object",
         "type": "unknown"
        },
        {
         "name": "phone_scraped_matches_row_ids",
         "rawType": "object",
         "type": "string"
        },
        {
         "name": "ZIP_scraped_matches_row_ids",
         "rawType": "object",
         "type": "string"
        },
        {
         "name": "City_scraped_matches_row_ids",
         "rawType": "object",
         "type": "string"
        },
        {
         "name": "Exit_scraped_matches_row_ids",
         "rawType": "object",
         "type": "string"
        },
        {
         "name": "State_scraped_matches_row_ids",
         "rawType": "object",
         "type": "string"
        },
        {
         "name": "Road_scraped_matches_row_ids",
         "rawType": "object",
         "type": "string"
        },
        {
         "name": "Chain_scraped_matches_row_ids",
         "rawType": "object",
         "type": "string"
        },
        {
         "name": "Label_scraped_matches_row_ids",
         "rawType": "object",
         "type": "string"
        },
        {
         "name": "all_matches",
         "rawType": "object",
         "type": "string"
        },
        {
         "name": "Phone_scraped_matches_row_ids",
         "rawType": "object",
         "type": "string"
        },
        {
         "name": "has_phone_match",
         "rawType": "bool",
         "type": "boolean"
        },
        {
         "name": "ZIP_scraped_matches_row_ids_parsed",
         "rawType": "object",
         "type": "string"
        },
        {
         "name": "State_scraped_matches_row_ids_parsed",
         "rawType": "object",
         "type": "string"
        },
        {
         "name": "City_scraped_matches_row_ids_parsed",
         "rawType": "object",
         "type": "string"
        },
        {
         "name": "Exit_scraped_matches_row_ids_parsed",
         "rawType": "object",
         "type": "string"
        },
        {
         "name": "Road_scraped_matches_row_ids_parsed",
         "rawType": "object",
         "type": "string"
        },
        {
         "name": "Label_scraped_matches_row_ids_parsed",
         "rawType": "object",
         "type": "string"
        },
        {
         "name": "Chain_scraped_matches_row_ids_parsed",
         "rawType": "object",
         "type": "string"
        },
        {
         "name": "Scraped_zipcode_to_label_match_rate",
         "rawType": "object",
         "type": "string"
        },
        {
         "name": "Scraped_phone_match_rate",
         "rawType": "bool",
         "type": "boolean"
        },
        {
         "name": "Phone_Yelp_matches_row_ids",
         "rawType": "object",
         "type": "unknown"
        },
        {
         "name": "Yelp_phone_match_rate",
         "rawType": "bool",
         "type": "boolean"
        },
        {
         "name": "place_identifier(year)",
         "rawType": "int64",
         "type": "integer"
        },
        {
         "name": "Phone_Yellowpages_matches_row_ids",
         "rawType": "object",
         "type": "string"
        },
        {
         "name": "Yellowbook_phone_match_rate",
         "rawType": "bool",
         "type": "boolean"
        },
        {
         "name": "Webscraped_Phone_state_id",
         "rawType": "object",
         "type": "unknown"
        },
        {
         "name": "Webscraped_Phone_state",
         "rawType": "object",
         "type": "unknown"
        },
        {
         "name": "Webscraped_Phone_name",
         "rawType": "object",
         "type": "unknown"
        },
        {
         "name": "Webscraped_Phone_full_url",
         "rawType": "object",
         "type": "unknown"
        },
        {
         "name": "Webscraped_Phone_stop_type",
         "rawType": "object",
         "type": "unknown"
        },
        {
         "name": "Webscraped_Phone_Chain",
         "rawType": "object",
         "type": "unknown"
        },
        {
         "name": "Webscraped_Phone_Latitude",
         "rawType": "object",
         "type": "unknown"
        },
        {
         "name": "Webscraped_Phone_Longitude",
         "rawType": "object",
         "type": "unknown"
        },
        {
         "name": "Webscraped_Phone_LD_URL",
         "rawType": "object",
         "type": "unknown"
        },
        {
         "name": "Webscraped_Phone_LD_Latitude",
         "rawType": "object",
         "type": "unknown"
        },
        {
         "name": "Webscraped_Phone_LD_Longitude",
         "rawType": "object",
         "type": "unknown"
        },
        {
         "name": "Webscraped_Phone_Highway",
         "rawType": "object",
         "type": "unknown"
        },
        {
         "name": "Webscraped_Phone_Exit",
         "rawType": "object",
         "type": "unknown"
        },
        {
         "name": "Webscraped_Phone_Street Address",
         "rawType": "object",
         "type": "unknown"
        },
        {
         "name": "Webscraped_Phone_City",
         "rawType": "object",
         "type": "unknown"
        },
        {
         "name": "Webscraped_Phone_State",
         "rawType": "object",
         "type": "unknown"
        },
        {
         "name": "Webscraped_Phone_Postal Code",
         "rawType": "object",
         "type": "unknown"
        },
        {
         "name": "Webscraped_Phone_Phone",
         "rawType": "object",
         "type": "unknown"
        },
        {
         "name": "Webscraped_Phone_Fax",
         "rawType": "object",
         "type": "unknown"
        },
        {
         "name": "Webscraped_Phone_Phone 2",
         "rawType": "object",
         "type": "unknown"
        },
        {
         "name": "Webscraped_Phone_Phone 3",
         "rawType": "object",
         "type": "unknown"
        },
        {
         "name": "Webscraped_Phone_Phone 4",
         "rawType": "object",
         "type": "unknown"
        },
        {
         "name": "Webscraped_Phone_Phone 5",
         "rawType": "object",
         "type": "unknown"
        },
        {
         "name": "Webscraped_Phone_Mile Marker",
         "rawType": "object",
         "type": "unknown"
        },
        {
         "name": "Webscraped_Phone_Road Name",
         "rawType": "object",
         "type": "unknown"
        },
        {
         "name": "Webscraped_Phone_https",
         "rawType": "object",
         "type": "unknown"
        },
        {
         "name": "Webscraped_Phone_http",
         "rawType": "object",
         "type": "unknown"
        },
        {
         "name": "Webscraped_Place_Match",
         "rawType": "object",
         "type": "string"
        },
        {
         "name": "Webscraped_PlacedMatched_state_id",
         "rawType": "object",
         "type": "unknown"
        },
        {
         "name": "Webscraped_PlacedMatched_state",
         "rawType": "object",
         "type": "unknown"
        },
        {
         "name": "Webscraped_PlacedMatched_name",
         "rawType": "object",
         "type": "unknown"
        },
        {
         "name": "Webscraped_PlacedMatched_full_url",
         "rawType": "object",
         "type": "unknown"
        },
        {
         "name": "Webscraped_PlacedMatched_stop_type",
         "rawType": "object",
         "type": "unknown"
        },
        {
         "name": "Webscraped_PlacedMatched_Chain",
         "rawType": "object",
         "type": "unknown"
        },
        {
         "name": "Webscraped_PlacedMatched_Latitude",
         "rawType": "object",
         "type": "unknown"
        },
        {
         "name": "Webscraped_PlacedMatched_Longitude",
         "rawType": "object",
         "type": "unknown"
        },
        {
         "name": "Webscraped_PlacedMatched_LD_URL",
         "rawType": "object",
         "type": "unknown"
        },
        {
         "name": "Webscraped_PlacedMatched_LD_Latitude",
         "rawType": "object",
         "type": "unknown"
        },
        {
         "name": "Webscraped_PlacedMatched_LD_Longitude",
         "rawType": "object",
         "type": "unknown"
        },
        {
         "name": "Webscraped_PlacedMatched_Highway",
         "rawType": "object",
         "type": "unknown"
        },
        {
         "name": "Webscraped_PlacedMatched_Exit",
         "rawType": "object",
         "type": "unknown"
        },
        {
         "name": "Webscraped_PlacedMatched_Street Address",
         "rawType": "object",
         "type": "unknown"
        },
        {
         "name": "Webscraped_PlacedMatched_City",
         "rawType": "object",
         "type": "unknown"
        },
        {
         "name": "Webscraped_PlacedMatched_State",
         "rawType": "object",
         "type": "unknown"
        },
        {
         "name": "Webscraped_PlacedMatched_Postal Code",
         "rawType": "object",
         "type": "unknown"
        },
        {
         "name": "Webscraped_PlacedMatched_Phone",
         "rawType": "object",
         "type": "unknown"
        },
        {
         "name": "Webscraped_PlacedMatched_Fax",
         "rawType": "object",
         "type": "unknown"
        },
        {
         "name": "Webscraped_PlacedMatched_Phone 2",
         "rawType": "object",
         "type": "unknown"
        },
        {
         "name": "Webscraped_PlacedMatched_Phone 3",
         "rawType": "object",
         "type": "unknown"
        },
        {
         "name": "Webscraped_PlacedMatched_Phone 4",
         "rawType": "object",
         "type": "unknown"
        },
        {
         "name": "Webscraped_PlacedMatched_Phone 5",
         "rawType": "object",
         "type": "unknown"
        },
        {
         "name": "Webscraped_PlacedMatched_Mile Marker",
         "rawType": "object",
         "type": "unknown"
        },
        {
         "name": "Webscraped_PlacedMatched_Road Name",
         "rawType": "object",
         "type": "unknown"
        },
        {
         "name": "Webscraped_PlacedMatched_https",
         "rawType": "object",
         "type": "unknown"
        },
        {
         "name": "Webscraped_PlacedMatched_http",
         "rawType": "object",
         "type": "unknown"
        },
        {
         "name": "Yelp_Original_Phone",
         "rawType": "object",
         "type": "unknown"
        },
        {
         "name": "Yelp_Name",
         "rawType": "object",
         "type": "unknown"
        },
        {
         "name": "Yelp_Rating",
         "rawType": "object",
         "type": "unknown"
        },
        {
         "name": "Yelp_Review_Count",
         "rawType": "object",
         "type": "unknown"
        },
        {
         "name": "Yelp_Address",
         "rawType": "object",
         "type": "unknown"
        },
        {
         "name": "Yelp_City",
         "rawType": "object",
         "type": "unknown"
        },
        {
         "name": "Yelp_State",
         "rawType": "object",
         "type": "unknown"
        },
        {
         "name": "Yelp_Zip_Code",
         "rawType": "object",
         "type": "unknown"
        },
        {
         "name": "Yelp_Phone",
         "rawType": "object",
         "type": "unknown"
        },
        {
         "name": "Yelp_Categories",
         "rawType": "object",
         "type": "unknown"
        },
        {
         "name": "Yelp_Latitude",
         "rawType": "object",
         "type": "unknown"
        },
        {
         "name": "Yelp_Longitude",
         "rawType": "object",
         "type": "unknown"
        },
        {
         "name": "Yelp_Price",
         "rawType": "object",
         "type": "unknown"
        },
        {
         "name": "Yelp_Is_Closed",
         "rawType": "object",
         "type": "unknown"
        },
        {
         "name": "Yelp_URL",
         "rawType": "object",
         "type": "unknown"
        },
        {
         "name": "YellowPages_ADDRESS",
         "rawType": "object",
         "type": "unknown"
        },
        {
         "name": "YellowPages_AKA",
         "rawType": "object",
         "type": "unknown"
        },
        {
         "name": "YellowPages_BUSINESS_NAME",
         "rawType": "object",
         "type": "unknown"
        },
        {
         "name": "YellowPages_BUSINESS_URL",
         "rawType": "object",
         "type": "unknown"
        },
        {
         "name": "YellowPages_CATEGORIES",
         "rawType": "object",
         "type": "unknown"
        },
        {
         "name": "YellowPages_EXTRA_PHONES",
         "rawType": "object",
         "type": "unknown"
        },
        {
         "name": "YellowPages_FORMATTED_PHONE",
         "rawType": "object",
         "type": "unknown"
        },
        {
         "name": "YellowPages_JSONLD_CITY_1",
         "rawType": "object",
         "type": "unknown"
        },
        {
         "name": "YellowPages_JSONLD_LAT_1",
         "rawType": "object",
         "type": "unknown"
        },
        {
         "name": "YellowPages_JSONLD_LNG_1",
         "rawType": "object",
         "type": "unknown"
        },
        {
         "name": "YellowPages_JSONLD_NAME_1",
         "rawType": "object",
         "type": "unknown"
        },
        {
         "name": "YellowPages_JSONLD_PHONE_1",
         "rawType": "object",
         "type": "unknown"
        },
        {
         "name": "YellowPages_JSONLD_STATE_1",
         "rawType": "object",
         "type": "unknown"
        },
        {
         "name": "YellowPages_JSONLD_STREET_1",
         "rawType": "object",
         "type": "unknown"
        },
        {
         "name": "YellowPages_JSONLD_ZIP_1",
         "rawType": "object",
         "type": "unknown"
        },
        {
         "name": "YellowPages_ORIGINAL_PHONE",
         "rawType": "object",
         "type": "string"
        },
        {
         "name": "YellowPages_PHONE",
         "rawType": "object",
         "type": "unknown"
        },
        {
         "name": "YellowPages_SCRAPED_AT",
         "rawType": "object",
         "type": "string"
        },
        {
         "name": "YellowPages_SEARCH_URL",
         "rawType": "object",
         "type": "string"
        },
        {
         "name": "YellowPages_STATUS",
         "rawType": "object",
         "type": "unknown"
        },
        {
         "name": "YellowPages_WEBSITE",
         "rawType": "object",
         "type": "unknown"
        },
        {
         "name": "max_distance_miles",
         "rawType": "float64",
         "type": "float"
        },
        {
         "name": "max_distance_sources",
         "rawType": "object",
         "type": "unknown"
        },
        {
         "name": "min_distance_miles",
         "rawType": "float64",
         "type": "float"
        },
        {
         "name": "min_distance_sources",
         "rawType": "object",
         "type": "unknown"
        },
        {
         "name": "min_distance_miles_unconstrained",
         "rawType": "float64",
         "type": "float"
        },
        {
         "name": "min_distance_sources_unconstrained",
         "rawType": "object",
         "type": "unknown"
        },
        {
         "name": "Mid_Lat",
         "rawType": "float64",
         "type": "float"
        },
        {
         "name": "Mid_Long",
         "rawType": "float64",
         "type": "float"
        },
        {
         "name": "Match_Comments",
         "rawType": "object",
         "type": "unknown"
        },
        {
         "name": "Manual_Match",
         "rawType": "object",
         "type": "unknown"
        },
        {
         "name": "Manual_Lat",
         "rawType": "float64",
         "type": "float"
        },
        {
         "name": "Manual_Long",
         "rawType": "float64",
         "type": "float"
        },
        {
         "name": "Final_Lat",
         "rawType": "float64",
         "type": "float"
        },
        {
         "name": "Final_Long",
         "rawType": "float64",
         "type": "float"
        },
        {
         "name": "Geocoding_API_geo_status",
         "rawType": "object",
         "type": "unknown"
        },
        {
         "name": "Geocoding_API_formatted_address",
         "rawType": "object",
         "type": "unknown"
        },
        {
         "name": "Geocoding_API_lat",
         "rawType": "float64",
         "type": "float"
        },
        {
         "name": "Geocoding_API_lng",
         "rawType": "float64",
         "type": "float"
        },
        {
         "name": "Geocoding_API_place_id",
         "rawType": "object",
         "type": "unknown"
        },
        {
         "name": "Geocoding_API_types",
         "rawType": "object",
         "type": "unknown"
        }
       ],
       "ref": "2245ec0d-ab91-466a-8288-a0ae20a4a573",
       "rows": [
        [
         "0",
         "Coalville , 84017 Holiday Hills ( 66 )",
         "435-336-4421 I-80 Exit 162 ( UT 280 )",
         "MO",
         "Coalville",
         "84017",
         "Holiday Hills ( 66 )",
         "435-336-4421",
         "2006",
         "Coalville",
         "UT",
         null,
         "( UT 280 )",
         "I-80 Exit 162 ",
         "Exit",
         "162",
         "162",
         null,
         "False",
         null,
         "False",
         "I-80",
         null,
         null,
         null,
         null,
         "[424, 876]",
         "[424, 876]",
         "[424, 876]",
         "[40, 424, 521, 876]",
         "[398, 399, 400, 401, 402, 403, 404, 405, 406, 407, 408, 409, 410, 411, 412, 413, 414, 415, 416, 417, 418, 419, 420, 421, 422, 423, 424, 425, 426, 427, 428, 429, 430, 431, 432, 433, 434, 435, 436, 437, 438, 439, 440, 441, 442, 443, 444, 445, 446, 447, 448, 449, 450, 451, 452, 453, 454, 455, 456, 457, 458, 459, 460, 461, 462, 463, 464, 465, 466, 467, 468, 469, 470, 471, 472, 473, 474, 475, 476, 477, 478, 479, 480, 481, 482, 483, 484, 848, 849, 850, 851, 852, 853, 854, 855, 856, 857, 858, 859, 860, 861, 862, 863, 864, 865, 866, 867, 868, 869, 870, 871, 872, 873, 874, 875, 876, 877, 878, 879, 880, 881, 882, 883, 884, 885, 886, 887, 888, 889, 890, 891, 892, 893, 894, 895, 896, 897, 898, 899, 900, 901, 902, 903, 904, 905, 906, 907, 908, 909, 910, 911, 912, 913, 914, 915, 916, 917, 918, 919, 920, 921, 922, 923, 924, 925, 926, 927, 928, 929, 930, 931, 932, 933, 934, 935]",
         "[89, 108, 172, 217, 221, 239, 264, 280, 321, 342, 343, 344, 345, 346, 349, 351, 352, 355, 357, 359, 364, 368, 371, 372, 373, 374, 376, 377, 387, 392, 393, 403, 409, 411, 414, 424, 430, 449, 454, 470, 480, 560, 584, 643, 685, 703, 724, 739, 779, 798, 799, 800, 801, 804, 806, 807, 810, 812, 814, 816, 821, 822, 823, 824, 826, 827, 837, 842, 843, 852, 859, 862, 865, 869, 876, 882, 897, 901, 917, 932]",
         "[]",
         "[200, 270, 401, 402, 424, 427, 464, 469, 671, 729, 850, 851, 876, 879, 911, 916]",
         "[916, 917, 521, 918, 387, 919, 920, 921, 922, 923, 40, 924, 925, 560, 926, 927, 928, 929, 930, 584, 931, 932, 933, 89, 934, 935, 108, 643, 392, 372, 671, 393, 373, 172, 685, 342, 343, 703, 344, 374, 345, 200, 346, 724, 217, 729, 349, 221, 739, 351, 352, 239, 376, 355, 357, 264, 779, 377, 359, 270, 280, 798, 799, 800, 801, 804, 806, 807, 364, 810, 812, 814, 816, 821, 822, 823, 824, 826, 827, 368, 321, 837, 842, 371, 843, 848, 849, 850, 851, 852, 853, 854, 855, 856, 857, 858, 859, 860, 861, 862, 863, 864, 865, 866, 867, 868, 869, 870, 871, 872, 873, 874, 875, 876, 877, 878, 879, 880, 881, 882, 883, 884, 885, 886, 887, 888, 889, 890, 891, 892, 893, 894, 895, 896, 897, 898, 899, 900, 901, 902, 903, 904, 905, 906, 907, 908, 909, 398, 399, 400, 401, 402, 403, 404, 405, 406, 407, 408, 409, 410, 411, 412, 413, 414, 415, 416, 417, 418, 419, 420, 421, 422, 423, 424, 425, 426, 427, 428, 429, 430, 431, 432, 433, 434, 435, 436, 437, 438, 439, 440, 441, 442, 443, 444, 445, 446, 447, 448, 449, 450, 451, 452, 453, 454, 455, 456, 457, 458, 459, 460, 461, 462, 463, 464, 465, 466, 467, 468, 469, 470, 471, 472, 473, 474, 475, 476, 477, 478, 479, 480, 481, 482, 483, 484, 910, 911, 912, 913, 914, 915]",
         "[424, 876]",
         "True",
         "[424, 876]",
         "[398, 399, 400, 401, 402, 403, 404, 405, 406, 407, 408, 409, 410, 411, 412, 413, 414, 415, 416, 417, 418, 419, 420, 421, 422, 423, 424, 425, 426, 427, 428, 429, 430, 431, 432, 433, 434, 435, 436, 437, 438, 439, 440, 441, 442, 443, 444, 445, 446, 447, 448, 449, 450, 451, 452, 453, 454, 455, 456, 457, 458, 459, 460, 461, 462, 463, 464, 465, 466, 467, 468, 469, 470, 471, 472, 473, 474, 475, 476, 477, 478, 479, 480, 481, 482, 483, 484, 848, 849, 850, 851, 852, 853, 854, 855, 856, 857, 858, 859, 860, 861, 862, 863, 864, 865, 866, 867, 868, 869, 870, 871, 872, 873, 874, 875, 876, 877, 878, 879, 880, 881, 882, 883, 884, 885, 886, 887, 888, 889, 890, 891, 892, 893, 894, 895, 896, 897, 898, 899, 900, 901, 902, 903, 904, 905, 906, 907, 908, 909, 910, 911, 912, 913, 914, 915, 916, 917, 918, 919, 920, 921, 922, 923, 924, 925, 926, 927, 928, 929, 930, 931, 932, 933, 934, 935]",
         "[424, 876]",
         "[40, 424, 521, 876]",
         "[89, 108, 172, 217, 221, 239, 264, 280, 321, 342, 343, 344, 345, 346, 349, 351, 352, 355, 357, 359, 364, 368, 371, 372, 373, 374, 376, 377, 387, 392, 393, 403, 409, 411, 414, 424, 430, 449, 454, 470, 480, 560, 584, 643, 685, 703, 724, 739, 779, 798, 799, 800, 801, 804, 806, 807, 810, 812, 814, 816, 821, 822, 823, 824, 826, 827, 837, 842, 843, 852, 859, 862, 865, 869, 876, 882, 897, 901, 917, 932]",
         "[200, 270, 401, 402, 424, 427, 464, 469, 671, 729, 850, 851, 876, 879, 911, 916]",
         "[]",
         "7/6 successful match",
         "True",
         "[357]",
         "True",
         "1",
         "[0, 1, 2]",
         "True",
         "46; 46",
         "Utah; Utah",
         "HOLIDAY HILLS RV PARK; HOLIDAY HILLS RV PARK",
         "https://www.truckstopsandservices.com/location_details.php?id=1336; http://www.rvandtravelers.com/location_details.php?id=1336",
         "Trucker; RVer",
         "66 gas; 66 gas",
         "40.911066; nan",
         "-111.403867; nan",
         "nan; nan",
         "40.911066; 40.911066",
         "-111.403867; -111.403867",
         "I-80; I-80",
         "162; 162",
         "118 S 500 W; 118 S 500 W",
         "COALVILLE; COALVILLE",
         "UT; UT",
         "84017; 84017",
         "435-336-4421 (TRAVEL CENTER); 435-336-4421 (TRAVEL CENTER)",
         "nan; nan",
         "nan; nan",
         "nan; nan",
         "nan; nan",
         "nan; nan",
         "nan; nan",
         "nan; nan",
         "nan; nan",
         "nan; nan",
         "[424, 876]",
         "46; 46",
         "Utah; Utah",
         "HOLIDAY HILLS RV PARK; HOLIDAY HILLS RV PARK",
         "https://www.truckstopsandservices.com/location_details.php?id=1336; http://www.rvandtravelers.com/location_details.php?id=1336",
         "Trucker; RVer",
         "66 gas; 66 gas",
         "40.911066; nan",
         "-111.403867; nan",
         "nan; nan",
         "40.911066; 40.911066",
         "-111.403867; -111.403867",
         "I-80; I-80",
         "162; 162",
         "118 S 500 W; 118 S 500 W",
         "COALVILLE; COALVILLE",
         "UT; UT",
         "84017; 84017",
         "435-336-4421 (TRAVEL CENTER); 435-336-4421 (TRAVEL CENTER)",
         "nan; nan",
         "nan; nan",
         "nan; nan",
         "nan; nan",
         "nan; nan",
         "nan; nan",
         "nan; nan",
         "nan; nan",
         "nan; nan",
         "14353364421",
         "Holiday Hills Rv Park",
         "3.7",
         "17.0",
         "500 W 1st St, Coalville, UT 84017",
         "Coalville",
         "UT",
         "84017.0",
         "(435) 336-4421",
         "Campgrounds",
         "40.91082982794845",
         "-111.40519057258884",
         null,
         "False",
         "https://www.yelp.com/biz/holiday-hills-rv-park-coalville?adjust_creative=xElCeMfmOucjLmXEMhJkIg&utm_campaign=yelp_api_v3&utm_medium=api_v3_phone_search&utm_source=xElCeMfmOucjLmXEMhJkIg",
         "200 S 200 WCoalville, UT 84017; 200 W 500 SCoalville, UT 84017; 212 S 500 WCoalville, UT 84017",
         "nan; nan; nan",
         "Phillips 66; Phillips 66; Phillips 66",
         "https://www.yellowpages.com/coalville-ut/mip/phillips-66-512990363; https://www.yellowpages.com/coalville-ut/mip/phillips-66-559578913; https://www.yellowpages.com/coalville-ut/mip/phillips-66-578775392",
         "Gas Stations; Gas Stations; Gas Stations",
         "nan; nan; nan",
         "nan; nan; nan",
         "Coalville; Coalville; Coalville",
         "40.91481; 40.9085; 40.909794",
         "-111.39134; -111.3703; -111.401375",
         "Phillips 66; Phillips 66; Phillips 66",
         "(435) 336-4421; (435) 336-4421; (435) 336-4421",
         "UT; UT; UT",
         "200 S 200 W; 200 W 500 S; 212 S 500 W",
         "84017.0; 84017.0; 84017.0",
         "435-336-4421; 435-336-4421; 435-336-4421",
         "(435) 336-4421Call; (435) 336-4421Call; (435) 336-4421Call",
         "2025-07-07T04:11:50.073Z; 2025-07-07T04:11:53.749Z; 2025-07-07T04:11:57.455Z",
         "https://www.yellowpages.com/search?search_terms=435+336+4421; https://www.yellowpages.com/search?search_terms=435+336+4421; https://www.yellowpages.com/search?search_terms=435+336+4421",
         "nan; nan; nan",
         "http://www.phillips66gas.com; https://www.phillips66gas.com; https://www.phillips66gas.com/station/66-HOLIDAY-HILLS-0000819688",
         "1.8289921675769871",
         "Yelp (Phone) vs YellowPages (Phone)",
         "0.0710124605853269",
         "Webscraped vs Yelp (Phone)",
         "0.0710124605853269",
         "Webscraped vs Yelp (Phone)",
         "40.91094791397423",
         "-111.40452878629442",
         null,
         null,
         null,
         null,
         "40.91094791397423",
         "-111.40452878629442",
         null,
         null,
         null,
         null,
         null,
         null
        ],
        [
         "1",
         "Coalville , 84017 Hills ( 66 )",
         "435-336-4421 I-80 Holiday Exit 162 ( UT 280 )",
         "M <U+25A1>",
         "Coalville",
         "84017",
         "Hills ( 66 )",
         "435-336-4421",
         "2007",
         "Coalville",
         "UT",
         null,
         "( UT 280 )",
         "I-80 Holiday Exit 162 ",
         "Exit",
         "162",
         "162",
         null,
         "False",
         null,
         "False",
         "I-80",
         null,
         null,
         null,
         null,
         "[424, 876]",
         "[424, 876]",
         "[424, 876]",
         "[40, 424, 521, 876]",
         "[398, 399, 400, 401, 402, 403, 404, 405, 406, 407, 408, 409, 410, 411, 412, 413, 414, 415, 416, 417, 418, 419, 420, 421, 422, 423, 424, 425, 426, 427, 428, 429, 430, 431, 432, 433, 434, 435, 436, 437, 438, 439, 440, 441, 442, 443, 444, 445, 446, 447, 448, 449, 450, 451, 452, 453, 454, 455, 456, 457, 458, 459, 460, 461, 462, 463, 464, 465, 466, 467, 468, 469, 470, 471, 472, 473, 474, 475, 476, 477, 478, 479, 480, 481, 482, 483, 484, 848, 849, 850, 851, 852, 853, 854, 855, 856, 857, 858, 859, 860, 861, 862, 863, 864, 865, 866, 867, 868, 869, 870, 871, 872, 873, 874, 875, 876, 877, 878, 879, 880, 881, 882, 883, 884, 885, 886, 887, 888, 889, 890, 891, 892, 893, 894, 895, 896, 897, 898, 899, 900, 901, 902, 903, 904, 905, 906, 907, 908, 909, 910, 911, 912, 913, 914, 915, 916, 917, 918, 919, 920, 921, 922, 923, 924, 925, 926, 927, 928, 929, 930, 931, 932, 933, 934, 935]",
         "[89, 108, 172, 217, 221, 239, 264, 280, 321, 342, 343, 344, 345, 346, 349, 351, 352, 355, 357, 359, 364, 368, 371, 372, 373, 374, 376, 377, 387, 392, 393, 403, 409, 411, 414, 424, 430, 449, 454, 470, 480, 560, 584, 643, 685, 703, 724, 739, 779, 798, 799, 800, 801, 804, 806, 807, 810, 812, 814, 816, 821, 822, 823, 824, 826, 827, 837, 842, 843, 852, 859, 862, 865, 869, 876, 882, 897, 901, 917, 932]",
         "[]",
         "[200, 270, 401, 402, 424, 427, 464, 469, 671, 729, 850, 851, 876, 879, 911, 916]",
         "[916, 917, 521, 918, 387, 919, 920, 921, 922, 923, 40, 924, 925, 560, 926, 927, 928, 929, 930, 584, 931, 932, 933, 89, 934, 935, 108, 643, 392, 372, 671, 393, 373, 172, 685, 342, 343, 703, 344, 374, 345, 200, 346, 724, 217, 729, 349, 221, 739, 351, 352, 239, 376, 355, 357, 264, 779, 377, 359, 270, 280, 798, 799, 800, 801, 804, 806, 807, 364, 810, 812, 814, 816, 821, 822, 823, 824, 826, 827, 368, 321, 837, 842, 371, 843, 848, 849, 850, 851, 852, 853, 854, 855, 856, 857, 858, 859, 860, 861, 862, 863, 864, 865, 866, 867, 868, 869, 870, 871, 872, 873, 874, 875, 876, 877, 878, 879, 880, 881, 882, 883, 884, 885, 886, 887, 888, 889, 890, 891, 892, 893, 894, 895, 896, 897, 898, 899, 900, 901, 902, 903, 904, 905, 906, 907, 908, 909, 398, 399, 400, 401, 402, 403, 404, 405, 406, 407, 408, 409, 410, 411, 412, 413, 414, 415, 416, 417, 418, 419, 420, 421, 422, 423, 424, 425, 426, 427, 428, 429, 430, 431, 432, 433, 434, 435, 436, 437, 438, 439, 440, 441, 442, 443, 444, 445, 446, 447, 448, 449, 450, 451, 452, 453, 454, 455, 456, 457, 458, 459, 460, 461, 462, 463, 464, 465, 466, 467, 468, 469, 470, 471, 472, 473, 474, 475, 476, 477, 478, 479, 480, 481, 482, 483, 484, 910, 911, 912, 913, 914, 915]",
         "[424, 876]",
         "True",
         "[424, 876]",
         "[398, 399, 400, 401, 402, 403, 404, 405, 406, 407, 408, 409, 410, 411, 412, 413, 414, 415, 416, 417, 418, 419, 420, 421, 422, 423, 424, 425, 426, 427, 428, 429, 430, 431, 432, 433, 434, 435, 436, 437, 438, 439, 440, 441, 442, 443, 444, 445, 446, 447, 448, 449, 450, 451, 452, 453, 454, 455, 456, 457, 458, 459, 460, 461, 462, 463, 464, 465, 466, 467, 468, 469, 470, 471, 472, 473, 474, 475, 476, 477, 478, 479, 480, 481, 482, 483, 484, 848, 849, 850, 851, 852, 853, 854, 855, 856, 857, 858, 859, 860, 861, 862, 863, 864, 865, 866, 867, 868, 869, 870, 871, 872, 873, 874, 875, 876, 877, 878, 879, 880, 881, 882, 883, 884, 885, 886, 887, 888, 889, 890, 891, 892, 893, 894, 895, 896, 897, 898, 899, 900, 901, 902, 903, 904, 905, 906, 907, 908, 909, 910, 911, 912, 913, 914, 915, 916, 917, 918, 919, 920, 921, 922, 923, 924, 925, 926, 927, 928, 929, 930, 931, 932, 933, 934, 935]",
         "[424, 876]",
         "[40, 424, 521, 876]",
         "[89, 108, 172, 217, 221, 239, 264, 280, 321, 342, 343, 344, 345, 346, 349, 351, 352, 355, 357, 359, 364, 368, 371, 372, 373, 374, 376, 377, 387, 392, 393, 403, 409, 411, 414, 424, 430, 449, 454, 470, 480, 560, 584, 643, 685, 703, 724, 739, 779, 798, 799, 800, 801, 804, 806, 807, 810, 812, 814, 816, 821, 822, 823, 824, 826, 827, 837, 842, 843, 852, 859, 862, 865, 869, 876, 882, 897, 901, 917, 932]",
         "[200, 270, 401, 402, 424, 427, 464, 469, 671, 729, 850, 851, 876, 879, 911, 916]",
         "[]",
         "7/6 successful match",
         "True",
         "[357]",
         "True",
         "1",
         "[0, 1, 2]",
         "True",
         "46; 46",
         "Utah; Utah",
         "HOLIDAY HILLS RV PARK; HOLIDAY HILLS RV PARK",
         "https://www.truckstopsandservices.com/location_details.php?id=1336; http://www.rvandtravelers.com/location_details.php?id=1336",
         "Trucker; RVer",
         "66 gas; 66 gas",
         "40.911066; nan",
         "-111.403867; nan",
         "nan; nan",
         "40.911066; 40.911066",
         "-111.403867; -111.403867",
         "I-80; I-80",
         "162; 162",
         "118 S 500 W; 118 S 500 W",
         "COALVILLE; COALVILLE",
         "UT; UT",
         "84017; 84017",
         "435-336-4421 (TRAVEL CENTER); 435-336-4421 (TRAVEL CENTER)",
         "nan; nan",
         "nan; nan",
         "nan; nan",
         "nan; nan",
         "nan; nan",
         "nan; nan",
         "nan; nan",
         "nan; nan",
         "nan; nan",
         "[424, 876]",
         "46; 46",
         "Utah; Utah",
         "HOLIDAY HILLS RV PARK; HOLIDAY HILLS RV PARK",
         "https://www.truckstopsandservices.com/location_details.php?id=1336; http://www.rvandtravelers.com/location_details.php?id=1336",
         "Trucker; RVer",
         "66 gas; 66 gas",
         "40.911066; nan",
         "-111.403867; nan",
         "nan; nan",
         "40.911066; 40.911066",
         "-111.403867; -111.403867",
         "I-80; I-80",
         "162; 162",
         "118 S 500 W; 118 S 500 W",
         "COALVILLE; COALVILLE",
         "UT; UT",
         "84017; 84017",
         "435-336-4421 (TRAVEL CENTER); 435-336-4421 (TRAVEL CENTER)",
         "nan; nan",
         "nan; nan",
         "nan; nan",
         "nan; nan",
         "nan; nan",
         "nan; nan",
         "nan; nan",
         "nan; nan",
         "nan; nan",
         "14353364421",
         "Holiday Hills Rv Park",
         "3.7",
         "17.0",
         "500 W 1st St, Coalville, UT 84017",
         "Coalville",
         "UT",
         "84017.0",
         "(435) 336-4421",
         "Campgrounds",
         "40.91082982794845",
         "-111.40519057258884",
         null,
         "False",
         "https://www.yelp.com/biz/holiday-hills-rv-park-coalville?adjust_creative=xElCeMfmOucjLmXEMhJkIg&utm_campaign=yelp_api_v3&utm_medium=api_v3_phone_search&utm_source=xElCeMfmOucjLmXEMhJkIg",
         "200 S 200 WCoalville, UT 84017; 200 W 500 SCoalville, UT 84017; 212 S 500 WCoalville, UT 84017",
         "nan; nan; nan",
         "Phillips 66; Phillips 66; Phillips 66",
         "https://www.yellowpages.com/coalville-ut/mip/phillips-66-512990363; https://www.yellowpages.com/coalville-ut/mip/phillips-66-559578913; https://www.yellowpages.com/coalville-ut/mip/phillips-66-578775392",
         "Gas Stations; Gas Stations; Gas Stations",
         "nan; nan; nan",
         "nan; nan; nan",
         "Coalville; Coalville; Coalville",
         "40.91481; 40.9085; 40.909794",
         "-111.39134; -111.3703; -111.401375",
         "Phillips 66; Phillips 66; Phillips 66",
         "(435) 336-4421; (435) 336-4421; (435) 336-4421",
         "UT; UT; UT",
         "200 S 200 W; 200 W 500 S; 212 S 500 W",
         "84017.0; 84017.0; 84017.0",
         "435-336-4421; 435-336-4421; 435-336-4421",
         "(435) 336-4421Call; (435) 336-4421Call; (435) 336-4421Call",
         "2025-07-07T04:11:50.073Z; 2025-07-07T04:11:53.749Z; 2025-07-07T04:11:57.455Z",
         "https://www.yellowpages.com/search?search_terms=435+336+4421; https://www.yellowpages.com/search?search_terms=435+336+4421; https://www.yellowpages.com/search?search_terms=435+336+4421",
         "nan; nan; nan",
         "http://www.phillips66gas.com; https://www.phillips66gas.com; https://www.phillips66gas.com/station/66-HOLIDAY-HILLS-0000819688",
         "1.8289921675769871",
         "Yelp (Phone) vs YellowPages (Phone)",
         "0.0710124605853269",
         "Webscraped vs Yelp (Phone)",
         "0.0710124605853269",
         "Webscraped vs Yelp (Phone)",
         "40.91094791397423",
         "-111.40452878629442",
         null,
         null,
         null,
         null,
         "40.91094791397423",
         "-111.40452878629442",
         null,
         null,
         null,
         null,
         null,
         null
        ],
        [
         "2",
         "D Coalville , 84017 Holiday Hills ( 66 ) )",
         "4 435-336-4421 I-80 Exit 162 ( UT 280 )",
         "M <U+2610> <U+2610> <U+2610>",
         "Coalville",
         "84017",
         "Holiday Hills ( 66 ) )",
         "435-336-4421",
         "2008",
         "Coalville",
         "UT",
         null,
         "( UT 280 )",
         "I-80 Exit 162 ",
         "Exit",
         "162",
         "162",
         null,
         "False",
         null,
         "False",
         "I-80",
         null,
         null,
         null,
         null,
         "[424, 876]",
         "[424, 876]",
         "[424, 876]",
         "[40, 424, 521, 876]",
         "[398, 399, 400, 401, 402, 403, 404, 405, 406, 407, 408, 409, 410, 411, 412, 413, 414, 415, 416, 417, 418, 419, 420, 421, 422, 423, 424, 425, 426, 427, 428, 429, 430, 431, 432, 433, 434, 435, 436, 437, 438, 439, 440, 441, 442, 443, 444, 445, 446, 447, 448, 449, 450, 451, 452, 453, 454, 455, 456, 457, 458, 459, 460, 461, 462, 463, 464, 465, 466, 467, 468, 469, 470, 471, 472, 473, 474, 475, 476, 477, 478, 479, 480, 481, 482, 483, 484, 848, 849, 850, 851, 852, 853, 854, 855, 856, 857, 858, 859, 860, 861, 862, 863, 864, 865, 866, 867, 868, 869, 870, 871, 872, 873, 874, 875, 876, 877, 878, 879, 880, 881, 882, 883, 884, 885, 886, 887, 888, 889, 890, 891, 892, 893, 894, 895, 896, 897, 898, 899, 900, 901, 902, 903, 904, 905, 906, 907, 908, 909, 910, 911, 912, 913, 914, 915, 916, 917, 918, 919, 920, 921, 922, 923, 924, 925, 926, 927, 928, 929, 930, 931, 932, 933, 934, 935]",
         "[89, 108, 172, 217, 221, 239, 264, 280, 321, 342, 343, 344, 345, 346, 349, 351, 352, 355, 357, 359, 364, 368, 371, 372, 373, 374, 376, 377, 387, 392, 393, 403, 409, 411, 414, 424, 430, 449, 454, 470, 480, 560, 584, 643, 685, 703, 724, 739, 779, 798, 799, 800, 801, 804, 806, 807, 810, 812, 814, 816, 821, 822, 823, 824, 826, 827, 837, 842, 843, 852, 859, 862, 865, 869, 876, 882, 897, 901, 917, 932]",
         "[]",
         "[200, 270, 401, 402, 424, 427, 464, 469, 671, 729, 850, 851, 876, 879, 911, 916]",
         "[916, 917, 521, 918, 387, 919, 920, 921, 922, 923, 40, 924, 925, 560, 926, 927, 928, 929, 930, 584, 931, 932, 933, 89, 934, 935, 108, 643, 392, 372, 671, 393, 373, 172, 685, 342, 343, 703, 344, 374, 345, 200, 346, 724, 217, 729, 349, 221, 739, 351, 352, 239, 376, 355, 357, 264, 779, 377, 359, 270, 280, 798, 799, 800, 801, 804, 806, 807, 364, 810, 812, 814, 816, 821, 822, 823, 824, 826, 827, 368, 321, 837, 842, 371, 843, 848, 849, 850, 851, 852, 853, 854, 855, 856, 857, 858, 859, 860, 861, 862, 863, 864, 865, 866, 867, 868, 869, 870, 871, 872, 873, 874, 875, 876, 877, 878, 879, 880, 881, 882, 883, 884, 885, 886, 887, 888, 889, 890, 891, 892, 893, 894, 895, 896, 897, 898, 899, 900, 901, 902, 903, 904, 905, 906, 907, 908, 909, 398, 399, 400, 401, 402, 403, 404, 405, 406, 407, 408, 409, 410, 411, 412, 413, 414, 415, 416, 417, 418, 419, 420, 421, 422, 423, 424, 425, 426, 427, 428, 429, 430, 431, 432, 433, 434, 435, 436, 437, 438, 439, 440, 441, 442, 443, 444, 445, 446, 447, 448, 449, 450, 451, 452, 453, 454, 455, 456, 457, 458, 459, 460, 461, 462, 463, 464, 465, 466, 467, 468, 469, 470, 471, 472, 473, 474, 475, 476, 477, 478, 479, 480, 481, 482, 483, 484, 910, 911, 912, 913, 914, 915]",
         "[424, 876]",
         "True",
         "[424, 876]",
         "[398, 399, 400, 401, 402, 403, 404, 405, 406, 407, 408, 409, 410, 411, 412, 413, 414, 415, 416, 417, 418, 419, 420, 421, 422, 423, 424, 425, 426, 427, 428, 429, 430, 431, 432, 433, 434, 435, 436, 437, 438, 439, 440, 441, 442, 443, 444, 445, 446, 447, 448, 449, 450, 451, 452, 453, 454, 455, 456, 457, 458, 459, 460, 461, 462, 463, 464, 465, 466, 467, 468, 469, 470, 471, 472, 473, 474, 475, 476, 477, 478, 479, 480, 481, 482, 483, 484, 848, 849, 850, 851, 852, 853, 854, 855, 856, 857, 858, 859, 860, 861, 862, 863, 864, 865, 866, 867, 868, 869, 870, 871, 872, 873, 874, 875, 876, 877, 878, 879, 880, 881, 882, 883, 884, 885, 886, 887, 888, 889, 890, 891, 892, 893, 894, 895, 896, 897, 898, 899, 900, 901, 902, 903, 904, 905, 906, 907, 908, 909, 910, 911, 912, 913, 914, 915, 916, 917, 918, 919, 920, 921, 922, 923, 924, 925, 926, 927, 928, 929, 930, 931, 932, 933, 934, 935]",
         "[424, 876]",
         "[40, 424, 521, 876]",
         "[89, 108, 172, 217, 221, 239, 264, 280, 321, 342, 343, 344, 345, 346, 349, 351, 352, 355, 357, 359, 364, 368, 371, 372, 373, 374, 376, 377, 387, 392, 393, 403, 409, 411, 414, 424, 430, 449, 454, 470, 480, 560, 584, 643, 685, 703, 724, 739, 779, 798, 799, 800, 801, 804, 806, 807, 810, 812, 814, 816, 821, 822, 823, 824, 826, 827, 837, 842, 843, 852, 859, 862, 865, 869, 876, 882, 897, 901, 917, 932]",
         "[200, 270, 401, 402, 424, 427, 464, 469, 671, 729, 850, 851, 876, 879, 911, 916]",
         "[]",
         "7/6 successful match",
         "True",
         "[357]",
         "True",
         "1",
         "[0, 1, 2]",
         "True",
         "46; 46",
         "Utah; Utah",
         "HOLIDAY HILLS RV PARK; HOLIDAY HILLS RV PARK",
         "https://www.truckstopsandservices.com/location_details.php?id=1336; http://www.rvandtravelers.com/location_details.php?id=1336",
         "Trucker; RVer",
         "66 gas; 66 gas",
         "40.911066; nan",
         "-111.403867; nan",
         "nan; nan",
         "40.911066; 40.911066",
         "-111.403867; -111.403867",
         "I-80; I-80",
         "162; 162",
         "118 S 500 W; 118 S 500 W",
         "COALVILLE; COALVILLE",
         "UT; UT",
         "84017; 84017",
         "435-336-4421 (TRAVEL CENTER); 435-336-4421 (TRAVEL CENTER)",
         "nan; nan",
         "nan; nan",
         "nan; nan",
         "nan; nan",
         "nan; nan",
         "nan; nan",
         "nan; nan",
         "nan; nan",
         "nan; nan",
         "[424, 876]",
         "46; 46",
         "Utah; Utah",
         "HOLIDAY HILLS RV PARK; HOLIDAY HILLS RV PARK",
         "https://www.truckstopsandservices.com/location_details.php?id=1336; http://www.rvandtravelers.com/location_details.php?id=1336",
         "Trucker; RVer",
         "66 gas; 66 gas",
         "40.911066; nan",
         "-111.403867; nan",
         "nan; nan",
         "40.911066; 40.911066",
         "-111.403867; -111.403867",
         "I-80; I-80",
         "162; 162",
         "118 S 500 W; 118 S 500 W",
         "COALVILLE; COALVILLE",
         "UT; UT",
         "84017; 84017",
         "435-336-4421 (TRAVEL CENTER); 435-336-4421 (TRAVEL CENTER)",
         "nan; nan",
         "nan; nan",
         "nan; nan",
         "nan; nan",
         "nan; nan",
         "nan; nan",
         "nan; nan",
         "nan; nan",
         "nan; nan",
         "14353364421",
         "Holiday Hills Rv Park",
         "3.7",
         "17.0",
         "500 W 1st St, Coalville, UT 84017",
         "Coalville",
         "UT",
         "84017.0",
         "(435) 336-4421",
         "Campgrounds",
         "40.91082982794845",
         "-111.40519057258884",
         null,
         "False",
         "https://www.yelp.com/biz/holiday-hills-rv-park-coalville?adjust_creative=xElCeMfmOucjLmXEMhJkIg&utm_campaign=yelp_api_v3&utm_medium=api_v3_phone_search&utm_source=xElCeMfmOucjLmXEMhJkIg",
         "200 S 200 WCoalville, UT 84017; 200 W 500 SCoalville, UT 84017; 212 S 500 WCoalville, UT 84017",
         "nan; nan; nan",
         "Phillips 66; Phillips 66; Phillips 66",
         "https://www.yellowpages.com/coalville-ut/mip/phillips-66-512990363; https://www.yellowpages.com/coalville-ut/mip/phillips-66-559578913; https://www.yellowpages.com/coalville-ut/mip/phillips-66-578775392",
         "Gas Stations; Gas Stations; Gas Stations",
         "nan; nan; nan",
         "nan; nan; nan",
         "Coalville; Coalville; Coalville",
         "40.91481; 40.9085; 40.909794",
         "-111.39134; -111.3703; -111.401375",
         "Phillips 66; Phillips 66; Phillips 66",
         "(435) 336-4421; (435) 336-4421; (435) 336-4421",
         "UT; UT; UT",
         "200 S 200 W; 200 W 500 S; 212 S 500 W",
         "84017.0; 84017.0; 84017.0",
         "435-336-4421; 435-336-4421; 435-336-4421",
         "(435) 336-4421Call; (435) 336-4421Call; (435) 336-4421Call",
         "2025-07-07T04:11:50.073Z; 2025-07-07T04:11:53.749Z; 2025-07-07T04:11:57.455Z",
         "https://www.yellowpages.com/search?search_terms=435+336+4421; https://www.yellowpages.com/search?search_terms=435+336+4421; https://www.yellowpages.com/search?search_terms=435+336+4421",
         "nan; nan; nan",
         "http://www.phillips66gas.com; https://www.phillips66gas.com; https://www.phillips66gas.com/station/66-HOLIDAY-HILLS-0000819688",
         "1.8289921675769871",
         "Yelp (Phone) vs YellowPages (Phone)",
         "0.0710124605853269",
         "Webscraped vs Yelp (Phone)",
         "0.0710124605853269",
         "Webscraped vs Yelp (Phone)",
         "40.91094791397423",
         "-111.40452878629442",
         null,
         null,
         null,
         null,
         "40.91094791397423",
         "-111.40452878629442",
         null,
         null,
         null,
         null,
         null,
         null
        ],
        [
         "3",
         "D Coalville ( 84017 ) Holiday Hills ( 66 )",
         "435-336-4421 I-80 Exit 162 ( UT 280 )",
         "M <U+25A1> <U+2610>",
         "Coalville",
         "84017",
         "Holiday Hills ( 66 )",
         "435-336-4421",
         "2014",
         "Coalville",
         "UT",
         null,
         "( UT 280 )",
         "I-80 Exit 162 ",
         "Exit",
         "162",
         "162",
         null,
         "False",
         null,
         "False",
         "I-80",
         null,
         null,
         null,
         null,
         "[424, 876]",
         "[424, 876]",
         "[424, 876]",
         "[40, 424, 521, 876]",
         "[398, 399, 400, 401, 402, 403, 404, 405, 406, 407, 408, 409, 410, 411, 412, 413, 414, 415, 416, 417, 418, 419, 420, 421, 422, 423, 424, 425, 426, 427, 428, 429, 430, 431, 432, 433, 434, 435, 436, 437, 438, 439, 440, 441, 442, 443, 444, 445, 446, 447, 448, 449, 450, 451, 452, 453, 454, 455, 456, 457, 458, 459, 460, 461, 462, 463, 464, 465, 466, 467, 468, 469, 470, 471, 472, 473, 474, 475, 476, 477, 478, 479, 480, 481, 482, 483, 484, 848, 849, 850, 851, 852, 853, 854, 855, 856, 857, 858, 859, 860, 861, 862, 863, 864, 865, 866, 867, 868, 869, 870, 871, 872, 873, 874, 875, 876, 877, 878, 879, 880, 881, 882, 883, 884, 885, 886, 887, 888, 889, 890, 891, 892, 893, 894, 895, 896, 897, 898, 899, 900, 901, 902, 903, 904, 905, 906, 907, 908, 909, 910, 911, 912, 913, 914, 915, 916, 917, 918, 919, 920, 921, 922, 923, 924, 925, 926, 927, 928, 929, 930, 931, 932, 933, 934, 935]",
         "[89, 108, 172, 217, 221, 239, 264, 280, 321, 342, 343, 344, 345, 346, 349, 351, 352, 355, 357, 359, 364, 368, 371, 372, 373, 374, 376, 377, 387, 392, 393, 403, 409, 411, 414, 424, 430, 449, 454, 470, 480, 560, 584, 643, 685, 703, 724, 739, 779, 798, 799, 800, 801, 804, 806, 807, 810, 812, 814, 816, 821, 822, 823, 824, 826, 827, 837, 842, 843, 852, 859, 862, 865, 869, 876, 882, 897, 901, 917, 932]",
         "[]",
         "[200, 270, 401, 402, 424, 427, 464, 469, 671, 729, 850, 851, 876, 879, 911, 916]",
         "[916, 917, 521, 918, 387, 919, 920, 921, 922, 923, 40, 924, 925, 560, 926, 927, 928, 929, 930, 584, 931, 932, 933, 89, 934, 935, 108, 643, 392, 372, 671, 393, 373, 172, 685, 342, 343, 703, 344, 374, 345, 200, 346, 724, 217, 729, 349, 221, 739, 351, 352, 239, 376, 355, 357, 264, 779, 377, 359, 270, 280, 798, 799, 800, 801, 804, 806, 807, 364, 810, 812, 814, 816, 821, 822, 823, 824, 826, 827, 368, 321, 837, 842, 371, 843, 848, 849, 850, 851, 852, 853, 854, 855, 856, 857, 858, 859, 860, 861, 862, 863, 864, 865, 866, 867, 868, 869, 870, 871, 872, 873, 874, 875, 876, 877, 878, 879, 880, 881, 882, 883, 884, 885, 886, 887, 888, 889, 890, 891, 892, 893, 894, 895, 896, 897, 898, 899, 900, 901, 902, 903, 904, 905, 906, 907, 908, 909, 398, 399, 400, 401, 402, 403, 404, 405, 406, 407, 408, 409, 410, 411, 412, 413, 414, 415, 416, 417, 418, 419, 420, 421, 422, 423, 424, 425, 426, 427, 428, 429, 430, 431, 432, 433, 434, 435, 436, 437, 438, 439, 440, 441, 442, 443, 444, 445, 446, 447, 448, 449, 450, 451, 452, 453, 454, 455, 456, 457, 458, 459, 460, 461, 462, 463, 464, 465, 466, 467, 468, 469, 470, 471, 472, 473, 474, 475, 476, 477, 478, 479, 480, 481, 482, 483, 484, 910, 911, 912, 913, 914, 915]",
         "[424, 876]",
         "True",
         "[424, 876]",
         "[398, 399, 400, 401, 402, 403, 404, 405, 406, 407, 408, 409, 410, 411, 412, 413, 414, 415, 416, 417, 418, 419, 420, 421, 422, 423, 424, 425, 426, 427, 428, 429, 430, 431, 432, 433, 434, 435, 436, 437, 438, 439, 440, 441, 442, 443, 444, 445, 446, 447, 448, 449, 450, 451, 452, 453, 454, 455, 456, 457, 458, 459, 460, 461, 462, 463, 464, 465, 466, 467, 468, 469, 470, 471, 472, 473, 474, 475, 476, 477, 478, 479, 480, 481, 482, 483, 484, 848, 849, 850, 851, 852, 853, 854, 855, 856, 857, 858, 859, 860, 861, 862, 863, 864, 865, 866, 867, 868, 869, 870, 871, 872, 873, 874, 875, 876, 877, 878, 879, 880, 881, 882, 883, 884, 885, 886, 887, 888, 889, 890, 891, 892, 893, 894, 895, 896, 897, 898, 899, 900, 901, 902, 903, 904, 905, 906, 907, 908, 909, 910, 911, 912, 913, 914, 915, 916, 917, 918, 919, 920, 921, 922, 923, 924, 925, 926, 927, 928, 929, 930, 931, 932, 933, 934, 935]",
         "[424, 876]",
         "[40, 424, 521, 876]",
         "[89, 108, 172, 217, 221, 239, 264, 280, 321, 342, 343, 344, 345, 346, 349, 351, 352, 355, 357, 359, 364, 368, 371, 372, 373, 374, 376, 377, 387, 392, 393, 403, 409, 411, 414, 424, 430, 449, 454, 470, 480, 560, 584, 643, 685, 703, 724, 739, 779, 798, 799, 800, 801, 804, 806, 807, 810, 812, 814, 816, 821, 822, 823, 824, 826, 827, 837, 842, 843, 852, 859, 862, 865, 869, 876, 882, 897, 901, 917, 932]",
         "[200, 270, 401, 402, 424, 427, 464, 469, 671, 729, 850, 851, 876, 879, 911, 916]",
         "[]",
         "7/6 successful match",
         "True",
         "[357]",
         "True",
         "1",
         "[0, 1, 2]",
         "True",
         "46; 46",
         "Utah; Utah",
         "HOLIDAY HILLS RV PARK; HOLIDAY HILLS RV PARK",
         "https://www.truckstopsandservices.com/location_details.php?id=1336; http://www.rvandtravelers.com/location_details.php?id=1336",
         "Trucker; RVer",
         "66 gas; 66 gas",
         "40.911066; nan",
         "-111.403867; nan",
         "nan; nan",
         "40.911066; 40.911066",
         "-111.403867; -111.403867",
         "I-80; I-80",
         "162; 162",
         "118 S 500 W; 118 S 500 W",
         "COALVILLE; COALVILLE",
         "UT; UT",
         "84017; 84017",
         "435-336-4421 (TRAVEL CENTER); 435-336-4421 (TRAVEL CENTER)",
         "nan; nan",
         "nan; nan",
         "nan; nan",
         "nan; nan",
         "nan; nan",
         "nan; nan",
         "nan; nan",
         "nan; nan",
         "nan; nan",
         "[424, 876]",
         "46; 46",
         "Utah; Utah",
         "HOLIDAY HILLS RV PARK; HOLIDAY HILLS RV PARK",
         "https://www.truckstopsandservices.com/location_details.php?id=1336; http://www.rvandtravelers.com/location_details.php?id=1336",
         "Trucker; RVer",
         "66 gas; 66 gas",
         "40.911066; nan",
         "-111.403867; nan",
         "nan; nan",
         "40.911066; 40.911066",
         "-111.403867; -111.403867",
         "I-80; I-80",
         "162; 162",
         "118 S 500 W; 118 S 500 W",
         "COALVILLE; COALVILLE",
         "UT; UT",
         "84017; 84017",
         "435-336-4421 (TRAVEL CENTER); 435-336-4421 (TRAVEL CENTER)",
         "nan; nan",
         "nan; nan",
         "nan; nan",
         "nan; nan",
         "nan; nan",
         "nan; nan",
         "nan; nan",
         "nan; nan",
         "nan; nan",
         "14353364421",
         "Holiday Hills Rv Park",
         "3.7",
         "17.0",
         "500 W 1st St, Coalville, UT 84017",
         "Coalville",
         "UT",
         "84017.0",
         "(435) 336-4421",
         "Campgrounds",
         "40.91082982794845",
         "-111.40519057258884",
         null,
         "False",
         "https://www.yelp.com/biz/holiday-hills-rv-park-coalville?adjust_creative=xElCeMfmOucjLmXEMhJkIg&utm_campaign=yelp_api_v3&utm_medium=api_v3_phone_search&utm_source=xElCeMfmOucjLmXEMhJkIg",
         "200 S 200 WCoalville, UT 84017; 200 W 500 SCoalville, UT 84017; 212 S 500 WCoalville, UT 84017",
         "nan; nan; nan",
         "Phillips 66; Phillips 66; Phillips 66",
         "https://www.yellowpages.com/coalville-ut/mip/phillips-66-512990363; https://www.yellowpages.com/coalville-ut/mip/phillips-66-559578913; https://www.yellowpages.com/coalville-ut/mip/phillips-66-578775392",
         "Gas Stations; Gas Stations; Gas Stations",
         "nan; nan; nan",
         "nan; nan; nan",
         "Coalville; Coalville; Coalville",
         "40.91481; 40.9085; 40.909794",
         "-111.39134; -111.3703; -111.401375",
         "Phillips 66; Phillips 66; Phillips 66",
         "(435) 336-4421; (435) 336-4421; (435) 336-4421",
         "UT; UT; UT",
         "200 S 200 W; 200 W 500 S; 212 S 500 W",
         "84017.0; 84017.0; 84017.0",
         "435-336-4421; 435-336-4421; 435-336-4421",
         "(435) 336-4421Call; (435) 336-4421Call; (435) 336-4421Call",
         "2025-07-07T04:11:50.073Z; 2025-07-07T04:11:53.749Z; 2025-07-07T04:11:57.455Z",
         "https://www.yellowpages.com/search?search_terms=435+336+4421; https://www.yellowpages.com/search?search_terms=435+336+4421; https://www.yellowpages.com/search?search_terms=435+336+4421",
         "nan; nan; nan",
         "http://www.phillips66gas.com; https://www.phillips66gas.com; https://www.phillips66gas.com/station/66-HOLIDAY-HILLS-0000819688",
         "1.8289921675769871",
         "Yelp (Phone) vs YellowPages (Phone)",
         "0.0710124605853269",
         "Webscraped vs Yelp (Phone)",
         "0.0710124605853269",
         "Webscraped vs Yelp (Phone)",
         "40.91094791397423",
         "-111.40452878629442",
         null,
         null,
         null,
         null,
         "40.91094791397423",
         "-111.40452878629442",
         null,
         null,
         null,
         null,
         null,
         null
        ],
        [
         "4",
         "D Coalville ( 84017 ) Holiday Hills ( 66 )",
         "4 435-336-4421 I-80 Exit 162 ( UT 280 )",
         "D M <U+25A1> D D",
         "Coalville",
         "84017",
         "Holiday Hills ( 66 )",
         "435-336-4421",
         "2015",
         "Coalville",
         "UT",
         null,
         "( UT 280 )",
         "I-80 Exit 162 ",
         "Exit",
         "162",
         "162",
         null,
         "False",
         null,
         "False",
         "I-80",
         null,
         null,
         null,
         null,
         "[424, 876]",
         "[424, 876]",
         "[424, 876]",
         "[40, 424, 521, 876]",
         "[398, 399, 400, 401, 402, 403, 404, 405, 406, 407, 408, 409, 410, 411, 412, 413, 414, 415, 416, 417, 418, 419, 420, 421, 422, 423, 424, 425, 426, 427, 428, 429, 430, 431, 432, 433, 434, 435, 436, 437, 438, 439, 440, 441, 442, 443, 444, 445, 446, 447, 448, 449, 450, 451, 452, 453, 454, 455, 456, 457, 458, 459, 460, 461, 462, 463, 464, 465, 466, 467, 468, 469, 470, 471, 472, 473, 474, 475, 476, 477, 478, 479, 480, 481, 482, 483, 484, 848, 849, 850, 851, 852, 853, 854, 855, 856, 857, 858, 859, 860, 861, 862, 863, 864, 865, 866, 867, 868, 869, 870, 871, 872, 873, 874, 875, 876, 877, 878, 879, 880, 881, 882, 883, 884, 885, 886, 887, 888, 889, 890, 891, 892, 893, 894, 895, 896, 897, 898, 899, 900, 901, 902, 903, 904, 905, 906, 907, 908, 909, 910, 911, 912, 913, 914, 915, 916, 917, 918, 919, 920, 921, 922, 923, 924, 925, 926, 927, 928, 929, 930, 931, 932, 933, 934, 935]",
         "[89, 108, 172, 217, 221, 239, 264, 280, 321, 342, 343, 344, 345, 346, 349, 351, 352, 355, 357, 359, 364, 368, 371, 372, 373, 374, 376, 377, 387, 392, 393, 403, 409, 411, 414, 424, 430, 449, 454, 470, 480, 560, 584, 643, 685, 703, 724, 739, 779, 798, 799, 800, 801, 804, 806, 807, 810, 812, 814, 816, 821, 822, 823, 824, 826, 827, 837, 842, 843, 852, 859, 862, 865, 869, 876, 882, 897, 901, 917, 932]",
         "[]",
         "[200, 270, 401, 402, 424, 427, 464, 469, 671, 729, 850, 851, 876, 879, 911, 916]",
         "[916, 917, 521, 918, 387, 919, 920, 921, 922, 923, 40, 924, 925, 560, 926, 927, 928, 929, 930, 584, 931, 932, 933, 89, 934, 935, 108, 643, 392, 372, 671, 393, 373, 172, 685, 342, 343, 703, 344, 374, 345, 200, 346, 724, 217, 729, 349, 221, 739, 351, 352, 239, 376, 355, 357, 264, 779, 377, 359, 270, 280, 798, 799, 800, 801, 804, 806, 807, 364, 810, 812, 814, 816, 821, 822, 823, 824, 826, 827, 368, 321, 837, 842, 371, 843, 848, 849, 850, 851, 852, 853, 854, 855, 856, 857, 858, 859, 860, 861, 862, 863, 864, 865, 866, 867, 868, 869, 870, 871, 872, 873, 874, 875, 876, 877, 878, 879, 880, 881, 882, 883, 884, 885, 886, 887, 888, 889, 890, 891, 892, 893, 894, 895, 896, 897, 898, 899, 900, 901, 902, 903, 904, 905, 906, 907, 908, 909, 398, 399, 400, 401, 402, 403, 404, 405, 406, 407, 408, 409, 410, 411, 412, 413, 414, 415, 416, 417, 418, 419, 420, 421, 422, 423, 424, 425, 426, 427, 428, 429, 430, 431, 432, 433, 434, 435, 436, 437, 438, 439, 440, 441, 442, 443, 444, 445, 446, 447, 448, 449, 450, 451, 452, 453, 454, 455, 456, 457, 458, 459, 460, 461, 462, 463, 464, 465, 466, 467, 468, 469, 470, 471, 472, 473, 474, 475, 476, 477, 478, 479, 480, 481, 482, 483, 484, 910, 911, 912, 913, 914, 915]",
         "[424, 876]",
         "True",
         "[424, 876]",
         "[398, 399, 400, 401, 402, 403, 404, 405, 406, 407, 408, 409, 410, 411, 412, 413, 414, 415, 416, 417, 418, 419, 420, 421, 422, 423, 424, 425, 426, 427, 428, 429, 430, 431, 432, 433, 434, 435, 436, 437, 438, 439, 440, 441, 442, 443, 444, 445, 446, 447, 448, 449, 450, 451, 452, 453, 454, 455, 456, 457, 458, 459, 460, 461, 462, 463, 464, 465, 466, 467, 468, 469, 470, 471, 472, 473, 474, 475, 476, 477, 478, 479, 480, 481, 482, 483, 484, 848, 849, 850, 851, 852, 853, 854, 855, 856, 857, 858, 859, 860, 861, 862, 863, 864, 865, 866, 867, 868, 869, 870, 871, 872, 873, 874, 875, 876, 877, 878, 879, 880, 881, 882, 883, 884, 885, 886, 887, 888, 889, 890, 891, 892, 893, 894, 895, 896, 897, 898, 899, 900, 901, 902, 903, 904, 905, 906, 907, 908, 909, 910, 911, 912, 913, 914, 915, 916, 917, 918, 919, 920, 921, 922, 923, 924, 925, 926, 927, 928, 929, 930, 931, 932, 933, 934, 935]",
         "[424, 876]",
         "[40, 424, 521, 876]",
         "[89, 108, 172, 217, 221, 239, 264, 280, 321, 342, 343, 344, 345, 346, 349, 351, 352, 355, 357, 359, 364, 368, 371, 372, 373, 374, 376, 377, 387, 392, 393, 403, 409, 411, 414, 424, 430, 449, 454, 470, 480, 560, 584, 643, 685, 703, 724, 739, 779, 798, 799, 800, 801, 804, 806, 807, 810, 812, 814, 816, 821, 822, 823, 824, 826, 827, 837, 842, 843, 852, 859, 862, 865, 869, 876, 882, 897, 901, 917, 932]",
         "[200, 270, 401, 402, 424, 427, 464, 469, 671, 729, 850, 851, 876, 879, 911, 916]",
         "[]",
         "7/6 successful match",
         "True",
         "[357]",
         "True",
         "1",
         "[0, 1, 2]",
         "True",
         "46; 46",
         "Utah; Utah",
         "HOLIDAY HILLS RV PARK; HOLIDAY HILLS RV PARK",
         "https://www.truckstopsandservices.com/location_details.php?id=1336; http://www.rvandtravelers.com/location_details.php?id=1336",
         "Trucker; RVer",
         "66 gas; 66 gas",
         "40.911066; nan",
         "-111.403867; nan",
         "nan; nan",
         "40.911066; 40.911066",
         "-111.403867; -111.403867",
         "I-80; I-80",
         "162; 162",
         "118 S 500 W; 118 S 500 W",
         "COALVILLE; COALVILLE",
         "UT; UT",
         "84017; 84017",
         "435-336-4421 (TRAVEL CENTER); 435-336-4421 (TRAVEL CENTER)",
         "nan; nan",
         "nan; nan",
         "nan; nan",
         "nan; nan",
         "nan; nan",
         "nan; nan",
         "nan; nan",
         "nan; nan",
         "nan; nan",
         "[424, 876]",
         "46; 46",
         "Utah; Utah",
         "HOLIDAY HILLS RV PARK; HOLIDAY HILLS RV PARK",
         "https://www.truckstopsandservices.com/location_details.php?id=1336; http://www.rvandtravelers.com/location_details.php?id=1336",
         "Trucker; RVer",
         "66 gas; 66 gas",
         "40.911066; nan",
         "-111.403867; nan",
         "nan; nan",
         "40.911066; 40.911066",
         "-111.403867; -111.403867",
         "I-80; I-80",
         "162; 162",
         "118 S 500 W; 118 S 500 W",
         "COALVILLE; COALVILLE",
         "UT; UT",
         "84017; 84017",
         "435-336-4421 (TRAVEL CENTER); 435-336-4421 (TRAVEL CENTER)",
         "nan; nan",
         "nan; nan",
         "nan; nan",
         "nan; nan",
         "nan; nan",
         "nan; nan",
         "nan; nan",
         "nan; nan",
         "nan; nan",
         "14353364421",
         "Holiday Hills Rv Park",
         "3.7",
         "17.0",
         "500 W 1st St, Coalville, UT 84017",
         "Coalville",
         "UT",
         "84017.0",
         "(435) 336-4421",
         "Campgrounds",
         "40.91082982794845",
         "-111.40519057258884",
         null,
         "False",
         "https://www.yelp.com/biz/holiday-hills-rv-park-coalville?adjust_creative=xElCeMfmOucjLmXEMhJkIg&utm_campaign=yelp_api_v3&utm_medium=api_v3_phone_search&utm_source=xElCeMfmOucjLmXEMhJkIg",
         "200 S 200 WCoalville, UT 84017; 200 W 500 SCoalville, UT 84017; 212 S 500 WCoalville, UT 84017",
         "nan; nan; nan",
         "Phillips 66; Phillips 66; Phillips 66",
         "https://www.yellowpages.com/coalville-ut/mip/phillips-66-512990363; https://www.yellowpages.com/coalville-ut/mip/phillips-66-559578913; https://www.yellowpages.com/coalville-ut/mip/phillips-66-578775392",
         "Gas Stations; Gas Stations; Gas Stations",
         "nan; nan; nan",
         "nan; nan; nan",
         "Coalville; Coalville; Coalville",
         "40.91481; 40.9085; 40.909794",
         "-111.39134; -111.3703; -111.401375",
         "Phillips 66; Phillips 66; Phillips 66",
         "(435) 336-4421; (435) 336-4421; (435) 336-4421",
         "UT; UT; UT",
         "200 S 200 W; 200 W 500 S; 212 S 500 W",
         "84017.0; 84017.0; 84017.0",
         "435-336-4421; 435-336-4421; 435-336-4421",
         "(435) 336-4421Call; (435) 336-4421Call; (435) 336-4421Call",
         "2025-07-07T04:11:50.073Z; 2025-07-07T04:11:53.749Z; 2025-07-07T04:11:57.455Z",
         "https://www.yellowpages.com/search?search_terms=435+336+4421; https://www.yellowpages.com/search?search_terms=435+336+4421; https://www.yellowpages.com/search?search_terms=435+336+4421",
         "nan; nan; nan",
         "http://www.phillips66gas.com; https://www.phillips66gas.com; https://www.phillips66gas.com/station/66-HOLIDAY-HILLS-0000819688",
         "1.8289921675769871",
         "Yelp (Phone) vs YellowPages (Phone)",
         "0.0710124605853269",
         "Webscraped vs Yelp (Phone)",
         "0.0710124605853269",
         "Webscraped vs Yelp (Phone)",
         "40.91094791397423",
         "-111.40452878629442",
         null,
         null,
         null,
         null,
         "40.91094791397423",
         "-111.40452878629442",
         null,
         null,
         null,
         null,
         null,
         null
        ],
        [
         "5",
         "D Coalville ( 84017 ) Holiday Hills ( 66 )",
         "4 435-336-4421 I-80 Exit 162 ( UT 280 )",
         "<U+25A1> <U+2610> <U+2610> <U+2610> <U+2610>",
         "Coalville",
         "84017",
         "Holiday Hills ( 66 )",
         "435-336-4421",
         "2016",
         "Coalville",
         "UT",
         null,
         "( UT 280 )",
         "I-80 Exit 162 ",
         "Exit",
         "162",
         "162",
         null,
         "False",
         null,
         "False",
         "I-80",
         null,
         null,
         null,
         null,
         "[424, 876]",
         "[424, 876]",
         "[424, 876]",
         "[40, 424, 521, 876]",
         "[398, 399, 400, 401, 402, 403, 404, 405, 406, 407, 408, 409, 410, 411, 412, 413, 414, 415, 416, 417, 418, 419, 420, 421, 422, 423, 424, 425, 426, 427, 428, 429, 430, 431, 432, 433, 434, 435, 436, 437, 438, 439, 440, 441, 442, 443, 444, 445, 446, 447, 448, 449, 450, 451, 452, 453, 454, 455, 456, 457, 458, 459, 460, 461, 462, 463, 464, 465, 466, 467, 468, 469, 470, 471, 472, 473, 474, 475, 476, 477, 478, 479, 480, 481, 482, 483, 484, 848, 849, 850, 851, 852, 853, 854, 855, 856, 857, 858, 859, 860, 861, 862, 863, 864, 865, 866, 867, 868, 869, 870, 871, 872, 873, 874, 875, 876, 877, 878, 879, 880, 881, 882, 883, 884, 885, 886, 887, 888, 889, 890, 891, 892, 893, 894, 895, 896, 897, 898, 899, 900, 901, 902, 903, 904, 905, 906, 907, 908, 909, 910, 911, 912, 913, 914, 915, 916, 917, 918, 919, 920, 921, 922, 923, 924, 925, 926, 927, 928, 929, 930, 931, 932, 933, 934, 935]",
         "[89, 108, 172, 217, 221, 239, 264, 280, 321, 342, 343, 344, 345, 346, 349, 351, 352, 355, 357, 359, 364, 368, 371, 372, 373, 374, 376, 377, 387, 392, 393, 403, 409, 411, 414, 424, 430, 449, 454, 470, 480, 560, 584, 643, 685, 703, 724, 739, 779, 798, 799, 800, 801, 804, 806, 807, 810, 812, 814, 816, 821, 822, 823, 824, 826, 827, 837, 842, 843, 852, 859, 862, 865, 869, 876, 882, 897, 901, 917, 932]",
         "[]",
         "[200, 270, 401, 402, 424, 427, 464, 469, 671, 729, 850, 851, 876, 879, 911, 916]",
         "[916, 917, 521, 918, 387, 919, 920, 921, 922, 923, 40, 924, 925, 560, 926, 927, 928, 929, 930, 584, 931, 932, 933, 89, 934, 935, 108, 643, 392, 372, 671, 393, 373, 172, 685, 342, 343, 703, 344, 374, 345, 200, 346, 724, 217, 729, 349, 221, 739, 351, 352, 239, 376, 355, 357, 264, 779, 377, 359, 270, 280, 798, 799, 800, 801, 804, 806, 807, 364, 810, 812, 814, 816, 821, 822, 823, 824, 826, 827, 368, 321, 837, 842, 371, 843, 848, 849, 850, 851, 852, 853, 854, 855, 856, 857, 858, 859, 860, 861, 862, 863, 864, 865, 866, 867, 868, 869, 870, 871, 872, 873, 874, 875, 876, 877, 878, 879, 880, 881, 882, 883, 884, 885, 886, 887, 888, 889, 890, 891, 892, 893, 894, 895, 896, 897, 898, 899, 900, 901, 902, 903, 904, 905, 906, 907, 908, 909, 398, 399, 400, 401, 402, 403, 404, 405, 406, 407, 408, 409, 410, 411, 412, 413, 414, 415, 416, 417, 418, 419, 420, 421, 422, 423, 424, 425, 426, 427, 428, 429, 430, 431, 432, 433, 434, 435, 436, 437, 438, 439, 440, 441, 442, 443, 444, 445, 446, 447, 448, 449, 450, 451, 452, 453, 454, 455, 456, 457, 458, 459, 460, 461, 462, 463, 464, 465, 466, 467, 468, 469, 470, 471, 472, 473, 474, 475, 476, 477, 478, 479, 480, 481, 482, 483, 484, 910, 911, 912, 913, 914, 915]",
         "[424, 876]",
         "True",
         "[424, 876]",
         "[398, 399, 400, 401, 402, 403, 404, 405, 406, 407, 408, 409, 410, 411, 412, 413, 414, 415, 416, 417, 418, 419, 420, 421, 422, 423, 424, 425, 426, 427, 428, 429, 430, 431, 432, 433, 434, 435, 436, 437, 438, 439, 440, 441, 442, 443, 444, 445, 446, 447, 448, 449, 450, 451, 452, 453, 454, 455, 456, 457, 458, 459, 460, 461, 462, 463, 464, 465, 466, 467, 468, 469, 470, 471, 472, 473, 474, 475, 476, 477, 478, 479, 480, 481, 482, 483, 484, 848, 849, 850, 851, 852, 853, 854, 855, 856, 857, 858, 859, 860, 861, 862, 863, 864, 865, 866, 867, 868, 869, 870, 871, 872, 873, 874, 875, 876, 877, 878, 879, 880, 881, 882, 883, 884, 885, 886, 887, 888, 889, 890, 891, 892, 893, 894, 895, 896, 897, 898, 899, 900, 901, 902, 903, 904, 905, 906, 907, 908, 909, 910, 911, 912, 913, 914, 915, 916, 917, 918, 919, 920, 921, 922, 923, 924, 925, 926, 927, 928, 929, 930, 931, 932, 933, 934, 935]",
         "[424, 876]",
         "[40, 424, 521, 876]",
         "[89, 108, 172, 217, 221, 239, 264, 280, 321, 342, 343, 344, 345, 346, 349, 351, 352, 355, 357, 359, 364, 368, 371, 372, 373, 374, 376, 377, 387, 392, 393, 403, 409, 411, 414, 424, 430, 449, 454, 470, 480, 560, 584, 643, 685, 703, 724, 739, 779, 798, 799, 800, 801, 804, 806, 807, 810, 812, 814, 816, 821, 822, 823, 824, 826, 827, 837, 842, 843, 852, 859, 862, 865, 869, 876, 882, 897, 901, 917, 932]",
         "[200, 270, 401, 402, 424, 427, 464, 469, 671, 729, 850, 851, 876, 879, 911, 916]",
         "[]",
         "7/6 successful match",
         "True",
         "[357]",
         "True",
         "1",
         "[0, 1, 2]",
         "True",
         "46; 46",
         "Utah; Utah",
         "HOLIDAY HILLS RV PARK; HOLIDAY HILLS RV PARK",
         "https://www.truckstopsandservices.com/location_details.php?id=1336; http://www.rvandtravelers.com/location_details.php?id=1336",
         "Trucker; RVer",
         "66 gas; 66 gas",
         "40.911066; nan",
         "-111.403867; nan",
         "nan; nan",
         "40.911066; 40.911066",
         "-111.403867; -111.403867",
         "I-80; I-80",
         "162; 162",
         "118 S 500 W; 118 S 500 W",
         "COALVILLE; COALVILLE",
         "UT; UT",
         "84017; 84017",
         "435-336-4421 (TRAVEL CENTER); 435-336-4421 (TRAVEL CENTER)",
         "nan; nan",
         "nan; nan",
         "nan; nan",
         "nan; nan",
         "nan; nan",
         "nan; nan",
         "nan; nan",
         "nan; nan",
         "nan; nan",
         "[424, 876]",
         "46; 46",
         "Utah; Utah",
         "HOLIDAY HILLS RV PARK; HOLIDAY HILLS RV PARK",
         "https://www.truckstopsandservices.com/location_details.php?id=1336; http://www.rvandtravelers.com/location_details.php?id=1336",
         "Trucker; RVer",
         "66 gas; 66 gas",
         "40.911066; nan",
         "-111.403867; nan",
         "nan; nan",
         "40.911066; 40.911066",
         "-111.403867; -111.403867",
         "I-80; I-80",
         "162; 162",
         "118 S 500 W; 118 S 500 W",
         "COALVILLE; COALVILLE",
         "UT; UT",
         "84017; 84017",
         "435-336-4421 (TRAVEL CENTER); 435-336-4421 (TRAVEL CENTER)",
         "nan; nan",
         "nan; nan",
         "nan; nan",
         "nan; nan",
         "nan; nan",
         "nan; nan",
         "nan; nan",
         "nan; nan",
         "nan; nan",
         "14353364421",
         "Holiday Hills Rv Park",
         "3.7",
         "17.0",
         "500 W 1st St, Coalville, UT 84017",
         "Coalville",
         "UT",
         "84017.0",
         "(435) 336-4421",
         "Campgrounds",
         "40.91082982794845",
         "-111.40519057258884",
         null,
         "False",
         "https://www.yelp.com/biz/holiday-hills-rv-park-coalville?adjust_creative=xElCeMfmOucjLmXEMhJkIg&utm_campaign=yelp_api_v3&utm_medium=api_v3_phone_search&utm_source=xElCeMfmOucjLmXEMhJkIg",
         "200 S 200 WCoalville, UT 84017; 200 W 500 SCoalville, UT 84017; 212 S 500 WCoalville, UT 84017",
         "nan; nan; nan",
         "Phillips 66; Phillips 66; Phillips 66",
         "https://www.yellowpages.com/coalville-ut/mip/phillips-66-512990363; https://www.yellowpages.com/coalville-ut/mip/phillips-66-559578913; https://www.yellowpages.com/coalville-ut/mip/phillips-66-578775392",
         "Gas Stations; Gas Stations; Gas Stations",
         "nan; nan; nan",
         "nan; nan; nan",
         "Coalville; Coalville; Coalville",
         "40.91481; 40.9085; 40.909794",
         "-111.39134; -111.3703; -111.401375",
         "Phillips 66; Phillips 66; Phillips 66",
         "(435) 336-4421; (435) 336-4421; (435) 336-4421",
         "UT; UT; UT",
         "200 S 200 W; 200 W 500 S; 212 S 500 W",
         "84017.0; 84017.0; 84017.0",
         "435-336-4421; 435-336-4421; 435-336-4421",
         "(435) 336-4421Call; (435) 336-4421Call; (435) 336-4421Call",
         "2025-07-07T04:11:50.073Z; 2025-07-07T04:11:53.749Z; 2025-07-07T04:11:57.455Z",
         "https://www.yellowpages.com/search?search_terms=435+336+4421; https://www.yellowpages.com/search?search_terms=435+336+4421; https://www.yellowpages.com/search?search_terms=435+336+4421",
         "nan; nan; nan",
         "http://www.phillips66gas.com; https://www.phillips66gas.com; https://www.phillips66gas.com/station/66-HOLIDAY-HILLS-0000819688",
         "1.8289921675769871",
         "Yelp (Phone) vs YellowPages (Phone)",
         "0.0710124605853269",
         "Webscraped vs Yelp (Phone)",
         "0.0710124605853269",
         "Webscraped vs Yelp (Phone)",
         "40.91094791397423",
         "-111.40452878629442",
         null,
         null,
         null,
         null,
         "40.91094791397423",
         "-111.40452878629442",
         null,
         null,
         null,
         null,
         null,
         null
        ],
        [
         "6",
         "E Heber City , 84032 Heber Mart ( Chevron )",
         "435-654-4642 US 40 & US 189 ( 1/2 mi E )",
         "<U+2610> 000",
         "Heber City",
         "84032",
         "Heber Mart ( Chevron )",
         "435-654-4642",
         "2006",
         "Heber City",
         "UT",
         "Chevron",
         "( 1/2 mi E )",
         "US 40 & US 189",
         "empty",
         null,
         null,
         null,
         "False",
         null,
         "False",
         "US 40",
         "US 189",
         null,
         null,
         null,
         "[426, 878]",
         "[426, 455, 878, 902]",
         "[426, 455, 878, 902]",
         "[]",
         "[398, 399, 400, 401, 402, 403, 404, 405, 406, 407, 408, 409, 410, 411, 412, 413, 414, 415, 416, 417, 418, 419, 420, 421, 422, 423, 424, 425, 426, 427, 428, 429, 430, 431, 432, 433, 434, 435, 436, 437, 438, 439, 440, 441, 442, 443, 444, 445, 446, 447, 448, 449, 450, 451, 452, 453, 454, 455, 456, 457, 458, 459, 460, 461, 462, 463, 464, 465, 466, 467, 468, 469, 470, 471, 472, 473, 474, 475, 476, 477, 478, 479, 480, 481, 482, 483, 484, 848, 849, 850, 851, 852, 853, 854, 855, 856, 857, 858, 859, 860, 861, 862, 863, 864, 865, 866, 867, 868, 869, 870, 871, 872, 873, 874, 875, 876, 877, 878, 879, 880, 881, 882, 883, 884, 885, 886, 887, 888, 889, 890, 891, 892, 893, 894, 895, 896, 897, 898, 899, 900, 901, 902, 903, 904, 905, 906, 907, 908, 909, 910, 911, 912, 913, 914, 915, 916, 917, 918, 919, 920, 921, 922, 923, 924, 925, 926, 927, 928, 929, 930, 931, 932, 933, 934, 935]",
         "[4, 11, 18, 21, 23, 26, 27, 28, 31, 35, 36, 43, 45, 52, 55, 56, 60, 62, 64, 70, 71, 80, 90, 94, 97, 102, 183, 197, 232, 334, 426, 455, 472, 477, 478, 480, 483, 484, 490, 496, 505, 507, 509, 510, 511, 514, 516, 517, 523, 525, 529, 532, 533, 536, 538, 545, 546, 552, 561, 565, 568, 573, 654, 668, 696, 790, 857, 878, 902, 919, 928, 929, 932, 934, 935]",
         "[12, 24, 25, 28, 88, 100, 104, 119, 123, 129, 136, 137, 139, 140, 141, 148, 155, 169, 172, 179, 183, 185, 188, 196, 198, 217, 237, 267, 270, 278, 319, 321, 324, 325, 330, 334, 335, 354, 366, 369, 380, 383, 384, 386, 395, 407, 411, 423, 428, 436, 437, 452, 453, 456, 467, 471, 477, 478, 479, 497, 508, 511, 559, 571, 575, 590, 594, 600, 607, 608, 610, 611, 612, 619, 627, 640, 643, 650, 654, 656, 659, 667, 669, 685, 701, 726, 729, 737, 777, 779, 782, 783, 787, 790, 791, 809, 817, 819, 830, 833, 834, 836, 845, 856, 857, 860, 862, 875, 880, 887, 888, 899, 900, 914, 918, 921, 928, 929, 930]",
         "[12, 24, 25, 28, 88, 100, 104, 119, 123, 129, 136, 137, 139, 140, 141, 148, 155, 169, 172, 179, 183, 185, 188, 196, 198, 217, 237, 267, 270, 278, 319, 321, 324, 325, 330, 334, 335, 354, 366, 369, 380, 383, 384, 386, 395, 407, 411, 423, 428, 436, 437, 452, 453, 456, 467, 471, 477, 478, 479, 497, 508, 511, 559, 571, 575, 590, 594, 600, 607, 608, 610, 611, 612, 619, 627, 640, 643, 650, 654, 656, 659, 667, 669, 685, 701, 726, 729, 737, 777, 779, 782, 783, 787, 790, 791, 809, 817, 819, 830, 833, 834, 836, 845, 856, 857, 860, 862, 875, 880, 887, 888, 899, 900, 914, 918, 921, 928, 929, 930]",
         "[4, 11, 12, 18, 21, 23, 24, 25, 26, 27, 28, 31, 35, 36, 43, 45, 52, 55, 56, 60, 62, 64, 70, 71, 80, 88, 90, 94, 97, 100, 102, 104, 119, 123, 129, 136, 137, 139, 140, 141, 148, 155, 169, 172, 179, 183, 185, 188, 196, 197, 198, 217, 232, 237, 267, 270, 278, 319, 321, 324, 325, 330, 334, 335, 354, 366, 369, 380, 383, 384, 386, 395, 398, 399, 400, 401, 402, 403, 404, 405, 406, 407, 408, 409, 410, 411, 412, 413, 414, 415, 416, 417, 418, 419, 420, 421, 422, 423, 424, 425, 426, 427, 428, 429, 430, 431, 432, 433, 434, 435, 436, 437, 438, 439, 440, 441, 442, 443, 444, 445, 446, 447, 448, 449, 450, 451, 452, 453, 454, 455, 456, 457, 458, 459, 460, 461, 462, 463, 464, 465, 466, 467, 468, 469, 470, 471, 472, 473, 474, 475, 476, 477, 478, 479, 480, 481, 482, 483, 484, 490, 496, 497, 505, 507, 508, 509, 510, 511, 514, 516, 517, 523, 525, 529, 532, 533, 536, 538, 545, 546, 552, 559, 561, 565, 568, 571, 573, 575, 590, 594, 600, 607, 608, 610, 611, 612, 619, 627, 640, 643, 650, 654, 656, 659, 667, 668, 669, 685, 696, 701, 726, 729, 737, 777, 779, 782, 783, 787, 790, 791, 809, 817, 819, 830, 833, 834, 836, 845, 848, 849, 850, 851, 852, 853, 854, 855, 856, 857, 858, 859, 860, 861, 862, 863, 864, 865, 866, 867, 868, 869, 870, 871, 872, 873, 874, 875, 876, 877, 878, 879, 880, 881, 882, 883, 884, 885, 886, 887, 888, 889, 890, 891, 892, 893, 894, 895, 896, 897, 898, 899, 900, 901, 902, 903, 904, 905, 906, 907, 908, 909, 910, 911, 912, 913, 914, 915, 916, 917, 918, 919, 920, 921, 922, 923, 924, 925, 926, 927, 928, 929, 930, 931, 932, 933, 934, 935]",
         "[426, 878]",
         "True",
         "[426, 455, 878, 902]",
         "[398, 399, 400, 401, 402, 403, 404, 405, 406, 407, 408, 409, 410, 411, 412, 413, 414, 415, 416, 417, 418, 419, 420, 421, 422, 423, 424, 425, 426, 427, 428, 429, 430, 431, 432, 433, 434, 435, 436, 437, 438, 439, 440, 441, 442, 443, 444, 445, 446, 447, 448, 449, 450, 451, 452, 453, 454, 455, 456, 457, 458, 459, 460, 461, 462, 463, 464, 465, 466, 467, 468, 469, 470, 471, 472, 473, 474, 475, 476, 477, 478, 479, 480, 481, 482, 483, 484, 848, 849, 850, 851, 852, 853, 854, 855, 856, 857, 858, 859, 860, 861, 862, 863, 864, 865, 866, 867, 868, 869, 870, 871, 872, 873, 874, 875, 876, 877, 878, 879, 880, 881, 882, 883, 884, 885, 886, 887, 888, 889, 890, 891, 892, 893, 894, 895, 896, 897, 898, 899, 900, 901, 902, 903, 904, 905, 906, 907, 908, 909, 910, 911, 912, 913, 914, 915, 916, 917, 918, 919, 920, 921, 922, 923, 924, 925, 926, 927, 928, 929, 930, 931, 932, 933, 934, 935]",
         "[426, 455, 878, 902]",
         "[]",
         "[4, 11, 18, 21, 23, 26, 27, 28, 31, 35, 36, 43, 45, 52, 55, 56, 60, 62, 64, 70, 71, 80, 90, 94, 97, 102, 183, 197, 232, 334, 426, 455, 472, 477, 478, 480, 483, 484, 490, 496, 505, 507, 509, 510, 511, 514, 516, 517, 523, 525, 529, 532, 533, 536, 538, 545, 546, 552, 561, 565, 568, 573, 654, 668, 696, 790, 857, 878, 902, 919, 928, 929, 932, 934, 935]",
         "[12, 24, 25, 28, 88, 100, 104, 119, 123, 129, 136, 137, 139, 140, 141, 148, 155, 169, 172, 179, 183, 185, 188, 196, 198, 217, 237, 267, 270, 278, 319, 321, 324, 325, 330, 334, 335, 354, 366, 369, 380, 383, 384, 386, 395, 407, 411, 423, 428, 436, 437, 452, 453, 456, 467, 471, 477, 478, 479, 497, 508, 511, 559, 571, 575, 590, 594, 600, 607, 608, 610, 611, 612, 619, 627, 640, 643, 650, 654, 656, 659, 667, 669, 685, 701, 726, 729, 737, 777, 779, 782, 783, 787, 790, 791, 809, 817, 819, 830, 833, 834, 836, 845, 856, 857, 860, 862, 875, 880, 887, 888, 899, 900, 914, 918, 921, 928, 929, 930]",
         "[12, 24, 25, 28, 88, 100, 104, 119, 123, 129, 136, 137, 139, 140, 141, 148, 155, 169, 172, 179, 183, 185, 188, 196, 198, 217, 237, 267, 270, 278, 319, 321, 324, 325, 330, 334, 335, 354, 366, 369, 380, 383, 384, 386, 395, 407, 411, 423, 428, 436, 437, 452, 453, 456, 467, 471, 477, 478, 479, 497, 508, 511, 559, 571, 575, 590, 594, 600, 607, 608, 610, 611, 612, 619, 627, 640, 643, 650, 654, 656, 659, 667, 669, 685, 701, 726, 729, 737, 777, 779, 782, 783, 787, 790, 791, 809, 817, 819, 830, 833, 834, 836, 845, 856, 857, 860, 862, 875, 880, 887, 888, 899, 900, 914, 918, 921, 928, 929, 930]",
         "5/6 successful match",
         "True",
         null,
         "False",
         "2",
         "[3, 4, 5]",
         "True",
         "46; 46",
         "Utah; Utah",
         "K&T'S SILVER EAGLE; K&T'S SILVER EAGLE",
         "https://www.truckstopsandservices.com/location_details.php?id=12441; http://www.rvandtravelers.com/location_details.php?id=12441",
         "Trucker; RVer",
         "ind dealer; ind dealer",
         "40.487707; nan",
         "-111.408197; nan",
         "nan; nan",
         "40.487707; 40.487707",
         "-111.408197; -111.408197",
         "US 40; US 40",
         "HALF MILE S OF US 89; HALF MILE S OF US 89",
         "1590 S HWY 40; 1590 S HWY 40",
         "HEBER CITY; HEBER CITY",
         "UT; UT",
         "84032; 84032",
         "435-654-4642 (TRAVEL CENTER); 435-654-4642 (TRAVEL CENTER)",
         "nan; nan",
         "435-654-4642 (SUBWAY); 435-654-4642 (SUBWAY)",
         "nan; nan",
         "nan; nan",
         "nan; nan",
         "nan; nan",
         "nan; nan",
         "nan; nan",
         "nan; nan",
         "[]",
         null,
         null,
         null,
         null,
         null,
         null,
         null,
         null,
         null,
         null,
         null,
         null,
         null,
         null,
         null,
         null,
         null,
         null,
         null,
         null,
         null,
         null,
         null,
         null,
         null,
         null,
         null,
         null,
         null,
         null,
         null,
         null,
         null,
         null,
         null,
         null,
         null,
         null,
         null,
         null,
         null,
         null,
         "1590 S Highway 40Heber City, UT 84032; 1590 S Highway 40Heber City, UT 84032; 1590 S Highway 40Heber City, UT 84032",
         "nan; Silver Eagle Country Store, K & T's Silver Eagle; nan",
         "Subway; Silver Eagle; Subway",
         "https://www.yellowpages.com/heber-city-ut/mip/subway-512313932; https://www.yellowpages.com/heber-city-ut/mip/silver-eagle-503945875; https://www.yellowpages.com/heber-city-ut/mip/subway-512313932?lid=512313932#gallery",
         "Fast Food Restaurants, Restaurants, Sandwich Shops; Convenience Stores, Gas Stations, Variety Stores; Fast Food Restaurants, Restaurants, Sandwich Shops",
         "nan; 435 654 1951; nan",
         "nan; nan; nan",
         "Heber City; Heber City; Heber City",
         "40.487484; 40.487484; 40.487484",
         "-111.407845; -111.407845; -111.407845",
         "Subway; Silver Eagle; Subway",
         "(435) 654-4642; (435) 654-4642; (435) 654-4642",
         "UT; UT; UT",
         "1590 S Highway 40; 1590 S Highway 40; 1590 S Highway 40",
         "84032.0; 84032.0; 84032.0",
         "435-654-4642; 435-654-4642; 435-654-4642",
         "(435) 654-4642Call; (435) 654-4642Call; (435) 654-4642Call",
         "2025-07-07T04:12:06.979Z; 2025-07-07T04:12:09.901Z; 2025-07-07T04:12:13.054Z",
         "https://www.yellowpages.com/search?search_terms=435+654+4642; https://www.yellowpages.com/search?search_terms=435+654+4642; https://www.yellowpages.com/search?search_terms=435+654+4642",
         "nan; nan; nan",
         "https://restaurants.subway.com/united-states/ut/heber/1590-south-highway-40?utm_source=yext-other&utm_medium=local&utm_term=acq&utm_content=65636&utm_campaign=evergreen-2020&y_source=1_MTQ4OTc3MjEtNTUzLWxvY2F0aW9uLndlYnNpdGU%3D; https://www.rhinehartoil.com; https://restaurants.subway.com/united-states/ut/heber/1590-south-highway-40?utm_source=yext-other&utm_medium=local&utm_term=acq&utm_content=65636&utm_campaign=evergreen-2020&y_source=1_MTQ4OTc3MjEtNTUzLWxvY2F0aW9uLndlYnNpdGU%3D",
         "0.0240740048806534",
         "Webscraped vs YellowPages (Phone)",
         "0.0240740048806534",
         "Webscraped vs YellowPages (Phone)",
         "0.0240740048806534",
         "Webscraped vs YellowPages (Phone)",
         "40.4875955",
         "-111.408021",
         null,
         null,
         null,
         null,
         "40.4875955",
         "-111.408021",
         null,
         null,
         null,
         null,
         null,
         null
        ],
        [
         "7",
         "Heber Mart ( Chevron )",
         "FHeber 4435-654-4642 City , 84032 US 40 & US 189 ( 1/2 mi E )",
         "0000 n",
         null,
         "84032",
         null,
         "435-654-4642",
         "2007",
         "Heber City",
         "UT",
         null,
         "( 1/2 mi E )",
         "City , 84032 US 40 & US 189",
         "empty",
         null,
         null,
         null,
         "False",
         null,
         "False",
         "US 40",
         "US 189",
         null,
         null,
         null,
         "[426, 878]",
         "[426, 455, 878, 902]",
         "[426, 455, 878, 902]",
         "[]",
         "[398, 399, 400, 401, 402, 403, 404, 405, 406, 407, 408, 409, 410, 411, 412, 413, 414, 415, 416, 417, 418, 419, 420, 421, 422, 423, 424, 425, 426, 427, 428, 429, 430, 431, 432, 433, 434, 435, 436, 437, 438, 439, 440, 441, 442, 443, 444, 445, 446, 447, 448, 449, 450, 451, 452, 453, 454, 455, 456, 457, 458, 459, 460, 461, 462, 463, 464, 465, 466, 467, 468, 469, 470, 471, 472, 473, 474, 475, 476, 477, 478, 479, 480, 481, 482, 483, 484, 848, 849, 850, 851, 852, 853, 854, 855, 856, 857, 858, 859, 860, 861, 862, 863, 864, 865, 866, 867, 868, 869, 870, 871, 872, 873, 874, 875, 876, 877, 878, 879, 880, 881, 882, 883, 884, 885, 886, 887, 888, 889, 890, 891, 892, 893, 894, 895, 896, 897, 898, 899, 900, 901, 902, 903, 904, 905, 906, 907, 908, 909, 910, 911, 912, 913, 914, 915, 916, 917, 918, 919, 920, 921, 922, 923, 924, 925, 926, 927, 928, 929, 930, 931, 932, 933, 934, 935]",
         "[4, 11, 18, 21, 23, 26, 27, 28, 31, 35, 36, 43, 45, 52, 55, 56, 60, 62, 64, 70, 71, 80, 90, 94, 97, 102, 183, 197, 232, 334, 426, 455, 472, 477, 478, 480, 483, 484, 490, 496, 505, 507, 509, 510, 511, 514, 516, 517, 523, 525, 529, 532, 533, 536, 538, 545, 546, 552, 561, 565, 568, 573, 654, 668, 696, 790, 857, 878, 902, 919, 928, 929, 932, 934, 935]",
         "[]",
         "[]",
         "[916, 514, 4, 516, 917, 517, 918, 11, 523, 525, 919, 529, 18, 532, 920, 21, 23, 533, 536, 921, 26, 27, 28, 538, 922, 31, 545, 546, 35, 923, 36, 552, 924, 43, 45, 925, 561, 926, 52, 565, 55, 927, 56, 568, 60, 573, 928, 62, 64, 929, 70, 71, 930, 931, 80, 932, 933, 90, 934, 94, 935, 97, 102, 654, 668, 183, 696, 197, 232, 790, 334, 848, 849, 850, 851, 852, 853, 854, 855, 856, 857, 858, 859, 860, 861, 862, 863, 864, 865, 866, 867, 868, 869, 870, 871, 872, 873, 874, 875, 876, 877, 878, 879, 880, 881, 882, 883, 884, 885, 886, 887, 888, 889, 890, 891, 892, 893, 894, 895, 896, 897, 898, 899, 900, 901, 902, 903, 904, 905, 906, 907, 908, 909, 398, 399, 400, 401, 402, 403, 404, 405, 406, 407, 408, 409, 410, 411, 412, 413, 414, 415, 416, 417, 418, 419, 420, 421, 422, 423, 424, 425, 426, 427, 428, 429, 430, 431, 432, 433, 434, 435, 436, 437, 438, 439, 440, 441, 442, 443, 444, 445, 446, 447, 448, 449, 450, 451, 452, 453, 454, 455, 456, 457, 458, 459, 460, 461, 462, 463, 464, 465, 466, 467, 468, 469, 470, 471, 472, 473, 474, 475, 476, 477, 478, 479, 480, 481, 482, 483, 484, 910, 911, 490, 912, 496, 913, 914, 505, 507, 915, 509, 510, 511]",
         "[426, 878]",
         "True",
         "[426, 455, 878, 902]",
         "[398, 399, 400, 401, 402, 403, 404, 405, 406, 407, 408, 409, 410, 411, 412, 413, 414, 415, 416, 417, 418, 419, 420, 421, 422, 423, 424, 425, 426, 427, 428, 429, 430, 431, 432, 433, 434, 435, 436, 437, 438, 439, 440, 441, 442, 443, 444, 445, 446, 447, 448, 449, 450, 451, 452, 453, 454, 455, 456, 457, 458, 459, 460, 461, 462, 463, 464, 465, 466, 467, 468, 469, 470, 471, 472, 473, 474, 475, 476, 477, 478, 479, 480, 481, 482, 483, 484, 848, 849, 850, 851, 852, 853, 854, 855, 856, 857, 858, 859, 860, 861, 862, 863, 864, 865, 866, 867, 868, 869, 870, 871, 872, 873, 874, 875, 876, 877, 878, 879, 880, 881, 882, 883, 884, 885, 886, 887, 888, 889, 890, 891, 892, 893, 894, 895, 896, 897, 898, 899, 900, 901, 902, 903, 904, 905, 906, 907, 908, 909, 910, 911, 912, 913, 914, 915, 916, 917, 918, 919, 920, 921, 922, 923, 924, 925, 926, 927, 928, 929, 930, 931, 932, 933, 934, 935]",
         "[426, 455, 878, 902]",
         "[]",
         "[4, 11, 18, 21, 23, 26, 27, 28, 31, 35, 36, 43, 45, 52, 55, 56, 60, 62, 64, 70, 71, 80, 90, 94, 97, 102, 183, 197, 232, 334, 426, 455, 472, 477, 478, 480, 483, 484, 490, 496, 505, 507, 509, 510, 511, 514, 516, 517, 523, 525, 529, 532, 533, 536, 538, 545, 546, 552, 561, 565, 568, 573, 654, 668, 696, 790, 857, 878, 902, 919, 928, 929, 932, 934, 935]",
         "[]",
         "[]",
         "7/6 successful match",
         "True",
         null,
         "False",
         "2",
         "[3, 4, 5]",
         "True",
         "46; 46",
         "Utah; Utah",
         "K&T'S SILVER EAGLE; K&T'S SILVER EAGLE",
         "https://www.truckstopsandservices.com/location_details.php?id=12441; http://www.rvandtravelers.com/location_details.php?id=12441",
         "Trucker; RVer",
         "ind dealer; ind dealer",
         "40.487707; nan",
         "-111.408197; nan",
         "nan; nan",
         "40.487707; 40.487707",
         "-111.408197; -111.408197",
         "US 40; US 40",
         "HALF MILE S OF US 89; HALF MILE S OF US 89",
         "1590 S HWY 40; 1590 S HWY 40",
         "HEBER CITY; HEBER CITY",
         "UT; UT",
         "84032; 84032",
         "435-654-4642 (TRAVEL CENTER); 435-654-4642 (TRAVEL CENTER)",
         "nan; nan",
         "435-654-4642 (SUBWAY); 435-654-4642 (SUBWAY)",
         "nan; nan",
         "nan; nan",
         "nan; nan",
         "nan; nan",
         "nan; nan",
         "nan; nan",
         "nan; nan",
         "[]",
         null,
         null,
         null,
         null,
         null,
         null,
         null,
         null,
         null,
         null,
         null,
         null,
         null,
         null,
         null,
         null,
         null,
         null,
         null,
         null,
         null,
         null,
         null,
         null,
         null,
         null,
         null,
         null,
         null,
         null,
         null,
         null,
         null,
         null,
         null,
         null,
         null,
         null,
         null,
         null,
         null,
         null,
         "1590 S Highway 40Heber City, UT 84032; 1590 S Highway 40Heber City, UT 84032; 1590 S Highway 40Heber City, UT 84032",
         "nan; Silver Eagle Country Store, K & T's Silver Eagle; nan",
         "Subway; Silver Eagle; Subway",
         "https://www.yellowpages.com/heber-city-ut/mip/subway-512313932; https://www.yellowpages.com/heber-city-ut/mip/silver-eagle-503945875; https://www.yellowpages.com/heber-city-ut/mip/subway-512313932?lid=512313932#gallery",
         "Fast Food Restaurants, Restaurants, Sandwich Shops; Convenience Stores, Gas Stations, Variety Stores; Fast Food Restaurants, Restaurants, Sandwich Shops",
         "nan; 435 654 1951; nan",
         "nan; nan; nan",
         "Heber City; Heber City; Heber City",
         "40.487484; 40.487484; 40.487484",
         "-111.407845; -111.407845; -111.407845",
         "Subway; Silver Eagle; Subway",
         "(435) 654-4642; (435) 654-4642; (435) 654-4642",
         "UT; UT; UT",
         "1590 S Highway 40; 1590 S Highway 40; 1590 S Highway 40",
         "84032.0; 84032.0; 84032.0",
         "435-654-4642; 435-654-4642; 435-654-4642",
         "(435) 654-4642Call; (435) 654-4642Call; (435) 654-4642Call",
         "2025-07-07T04:12:06.979Z; 2025-07-07T04:12:09.901Z; 2025-07-07T04:12:13.054Z",
         "https://www.yellowpages.com/search?search_terms=435+654+4642; https://www.yellowpages.com/search?search_terms=435+654+4642; https://www.yellowpages.com/search?search_terms=435+654+4642",
         "nan; nan; nan",
         "https://restaurants.subway.com/united-states/ut/heber/1590-south-highway-40?utm_source=yext-other&utm_medium=local&utm_term=acq&utm_content=65636&utm_campaign=evergreen-2020&y_source=1_MTQ4OTc3MjEtNTUzLWxvY2F0aW9uLndlYnNpdGU%3D; https://www.rhinehartoil.com; https://restaurants.subway.com/united-states/ut/heber/1590-south-highway-40?utm_source=yext-other&utm_medium=local&utm_term=acq&utm_content=65636&utm_campaign=evergreen-2020&y_source=1_MTQ4OTc3MjEtNTUzLWxvY2F0aW9uLndlYnNpdGU%3D",
         "0.0240740048806534",
         "Webscraped vs YellowPages (Phone)",
         "0.0240740048806534",
         "Webscraped vs YellowPages (Phone)",
         "0.0240740048806534",
         "Webscraped vs YellowPages (Phone)",
         "40.4875955",
         "-111.408021",
         null,
         null,
         null,
         null,
         "40.4875955",
         "-111.408021",
         null,
         null,
         null,
         null,
         null,
         null
        ],
        [
         "8",
         "Heber City , 84032 K & T's Last Stop ( Chevron )",
         "435-654-4642 1590 US 40 S ( 1/2 mi S of jct US 189 )",
         ") <U+2610> 0 <U+2610> <U+2610>",
         "Heber City",
         "84032",
         "K & T's Last Stop ( Chevron )",
         "435-654-4642",
         "2008",
         "Heber City",
         "UT",
         "Chevron",
         "( 1/2 mi S of jct US 189 )",
         "1590 US 40 S",
         "Proper",
         null,
         null,
         null,
         "False",
         null,
         "False",
         "US 40",
         null,
         null,
         null,
         null,
         "[426, 878]",
         "[426, 455, 878, 902]",
         "[426, 455, 878, 902]",
         "[]",
         "[398, 399, 400, 401, 402, 403, 404, 405, 406, 407, 408, 409, 410, 411, 412, 413, 414, 415, 416, 417, 418, 419, 420, 421, 422, 423, 424, 425, 426, 427, 428, 429, 430, 431, 432, 433, 434, 435, 436, 437, 438, 439, 440, 441, 442, 443, 444, 445, 446, 447, 448, 449, 450, 451, 452, 453, 454, 455, 456, 457, 458, 459, 460, 461, 462, 463, 464, 465, 466, 467, 468, 469, 470, 471, 472, 473, 474, 475, 476, 477, 478, 479, 480, 481, 482, 483, 484, 848, 849, 850, 851, 852, 853, 854, 855, 856, 857, 858, 859, 860, 861, 862, 863, 864, 865, 866, 867, 868, 869, 870, 871, 872, 873, 874, 875, 876, 877, 878, 879, 880, 881, 882, 883, 884, 885, 886, 887, 888, 889, 890, 891, 892, 893, 894, 895, 896, 897, 898, 899, 900, 901, 902, 903, 904, 905, 906, 907, 908, 909, 910, 911, 912, 913, 914, 915, 916, 917, 918, 919, 920, 921, 922, 923, 924, 925, 926, 927, 928, 929, 930, 931, 932, 933, 934, 935]",
         "[4, 11, 18, 21, 23, 26, 27, 28, 31, 35, 36, 43, 45, 52, 55, 56, 60, 62, 64, 70, 71, 80, 90, 94, 97, 183, 197, 232, 334, 426, 455, 472, 477, 478, 480, 483, 484, 490, 496, 505, 507, 509, 510, 511, 514, 516, 517, 523, 525, 529, 532, 533, 536, 538, 545, 546, 552, 561, 565, 568, 654, 668, 696, 790, 857, 878, 902, 919, 928, 929, 932, 934, 935]",
         "[12, 24, 25, 28, 88, 100, 104, 119, 123, 129, 136, 137, 139, 140, 141, 148, 155, 169, 172, 179, 183, 185, 188, 196, 198, 217, 237, 267, 270, 278, 319, 321, 324, 325, 330, 334, 335, 354, 366, 369, 380, 383, 384, 386, 395, 407, 411, 423, 428, 436, 437, 452, 453, 456, 467, 471, 477, 478, 479, 497, 508, 511, 559, 571, 575, 590, 594, 600, 607, 608, 610, 611, 612, 619, 627, 640, 643, 650, 654, 656, 659, 667, 669, 685, 701, 726, 729, 737, 777, 779, 782, 783, 787, 790, 791, 809, 817, 819, 830, 833, 834, 836, 845, 856, 857, 860, 862, 875, 880, 887, 888, 899, 900, 914, 918, 921, 928, 929, 930]",
         "[12, 24, 25, 28, 30, 88, 100, 104, 119, 123, 129, 136, 137, 139, 140, 141, 148, 155, 169, 172, 179, 183, 185, 188, 196, 198, 217, 237, 267, 270, 278, 319, 321, 324, 325, 330, 334, 335, 354, 366, 369, 380, 383, 384, 386, 395, 407, 411, 423, 428, 436, 437, 452, 453, 456, 467, 471, 477, 478, 479, 497, 508, 511, 513, 559, 571, 575, 590, 594, 600, 607, 608, 610, 611, 612, 619, 627, 640, 643, 650, 654, 656, 659, 667, 669, 685, 701, 726, 729, 737, 777, 779, 782, 783, 787, 790, 791, 809, 817, 819, 830, 833, 834, 836, 845, 856, 857, 860, 862, 875, 880, 887, 888, 899, 900, 914, 918, 921, 928, 929, 930]",
         "[4, 11, 12, 18, 21, 23, 24, 25, 26, 27, 28, 30, 31, 35, 36, 43, 45, 52, 55, 56, 60, 62, 64, 70, 71, 80, 88, 90, 94, 97, 100, 104, 119, 123, 129, 136, 137, 139, 140, 141, 148, 155, 169, 172, 179, 183, 185, 188, 196, 197, 198, 217, 232, 237, 267, 270, 278, 319, 321, 324, 325, 330, 334, 335, 354, 366, 369, 380, 383, 384, 386, 395, 398, 399, 400, 401, 402, 403, 404, 405, 406, 407, 408, 409, 410, 411, 412, 413, 414, 415, 416, 417, 418, 419, 420, 421, 422, 423, 424, 425, 426, 427, 428, 429, 430, 431, 432, 433, 434, 435, 436, 437, 438, 439, 440, 441, 442, 443, 444, 445, 446, 447, 448, 449, 450, 451, 452, 453, 454, 455, 456, 457, 458, 459, 460, 461, 462, 463, 464, 465, 466, 467, 468, 469, 470, 471, 472, 473, 474, 475, 476, 477, 478, 479, 480, 481, 482, 483, 484, 490, 496, 497, 505, 507, 508, 509, 510, 511, 513, 514, 516, 517, 523, 525, 529, 532, 533, 536, 538, 545, 546, 552, 559, 561, 565, 568, 571, 575, 590, 594, 600, 607, 608, 610, 611, 612, 619, 627, 640, 643, 650, 654, 656, 659, 667, 668, 669, 685, 696, 701, 726, 729, 737, 777, 779, 782, 783, 787, 790, 791, 809, 817, 819, 830, 833, 834, 836, 845, 848, 849, 850, 851, 852, 853, 854, 855, 856, 857, 858, 859, 860, 861, 862, 863, 864, 865, 866, 867, 868, 869, 870, 871, 872, 873, 874, 875, 876, 877, 878, 879, 880, 881, 882, 883, 884, 885, 886, 887, 888, 889, 890, 891, 892, 893, 894, 895, 896, 897, 898, 899, 900, 901, 902, 903, 904, 905, 906, 907, 908, 909, 910, 911, 912, 913, 914, 915, 916, 917, 918, 919, 920, 921, 922, 923, 924, 925, 926, 927, 928, 929, 930, 931, 932, 933, 934, 935]",
         "[426, 878]",
         "True",
         "[426, 455, 878, 902]",
         "[398, 399, 400, 401, 402, 403, 404, 405, 406, 407, 408, 409, 410, 411, 412, 413, 414, 415, 416, 417, 418, 419, 420, 421, 422, 423, 424, 425, 426, 427, 428, 429, 430, 431, 432, 433, 434, 435, 436, 437, 438, 439, 440, 441, 442, 443, 444, 445, 446, 447, 448, 449, 450, 451, 452, 453, 454, 455, 456, 457, 458, 459, 460, 461, 462, 463, 464, 465, 466, 467, 468, 469, 470, 471, 472, 473, 474, 475, 476, 477, 478, 479, 480, 481, 482, 483, 484, 848, 849, 850, 851, 852, 853, 854, 855, 856, 857, 858, 859, 860, 861, 862, 863, 864, 865, 866, 867, 868, 869, 870, 871, 872, 873, 874, 875, 876, 877, 878, 879, 880, 881, 882, 883, 884, 885, 886, 887, 888, 889, 890, 891, 892, 893, 894, 895, 896, 897, 898, 899, 900, 901, 902, 903, 904, 905, 906, 907, 908, 909, 910, 911, 912, 913, 914, 915, 916, 917, 918, 919, 920, 921, 922, 923, 924, 925, 926, 927, 928, 929, 930, 931, 932, 933, 934, 935]",
         "[426, 455, 878, 902]",
         "[]",
         "[4, 11, 18, 21, 23, 26, 27, 28, 31, 35, 36, 43, 45, 52, 55, 56, 60, 62, 64, 70, 71, 80, 90, 94, 97, 183, 197, 232, 334, 426, 455, 472, 477, 478, 480, 483, 484, 490, 496, 505, 507, 509, 510, 511, 514, 516, 517, 523, 525, 529, 532, 533, 536, 538, 545, 546, 552, 561, 565, 568, 654, 668, 696, 790, 857, 878, 902, 919, 928, 929, 932, 934, 935]",
         "[12, 24, 25, 28, 30, 88, 100, 104, 119, 123, 129, 136, 137, 139, 140, 141, 148, 155, 169, 172, 179, 183, 185, 188, 196, 198, 217, 237, 267, 270, 278, 319, 321, 324, 325, 330, 334, 335, 354, 366, 369, 380, 383, 384, 386, 395, 407, 411, 423, 428, 436, 437, 452, 453, 456, 467, 471, 477, 478, 479, 497, 508, 511, 513, 559, 571, 575, 590, 594, 600, 607, 608, 610, 611, 612, 619, 627, 640, 643, 650, 654, 656, 659, 667, 669, 685, 701, 726, 729, 737, 777, 779, 782, 783, 787, 790, 791, 809, 817, 819, 830, 833, 834, 836, 845, 856, 857, 860, 862, 875, 880, 887, 888, 899, 900, 914, 918, 921, 928, 929, 930]",
         "[12, 24, 25, 28, 88, 100, 104, 119, 123, 129, 136, 137, 139, 140, 141, 148, 155, 169, 172, 179, 183, 185, 188, 196, 198, 217, 237, 267, 270, 278, 319, 321, 324, 325, 330, 334, 335, 354, 366, 369, 380, 383, 384, 386, 395, 407, 411, 423, 428, 436, 437, 452, 453, 456, 467, 471, 477, 478, 479, 497, 508, 511, 559, 571, 575, 590, 594, 600, 607, 608, 610, 611, 612, 619, 627, 640, 643, 650, 654, 656, 659, 667, 669, 685, 701, 726, 729, 737, 777, 779, 782, 783, 787, 790, 791, 809, 817, 819, 830, 833, 834, 836, 845, 856, 857, 860, 862, 875, 880, 887, 888, 899, 900, 914, 918, 921, 928, 929, 930]",
         "5/6 successful match",
         "True",
         null,
         "False",
         "2",
         "[3, 4, 5]",
         "True",
         "46; 46",
         "Utah; Utah",
         "K&T'S SILVER EAGLE; K&T'S SILVER EAGLE",
         "https://www.truckstopsandservices.com/location_details.php?id=12441; http://www.rvandtravelers.com/location_details.php?id=12441",
         "Trucker; RVer",
         "ind dealer; ind dealer",
         "40.487707; nan",
         "-111.408197; nan",
         "nan; nan",
         "40.487707; 40.487707",
         "-111.408197; -111.408197",
         "US 40; US 40",
         "HALF MILE S OF US 89; HALF MILE S OF US 89",
         "1590 S HWY 40; 1590 S HWY 40",
         "HEBER CITY; HEBER CITY",
         "UT; UT",
         "84032; 84032",
         "435-654-4642 (TRAVEL CENTER); 435-654-4642 (TRAVEL CENTER)",
         "nan; nan",
         "435-654-4642 (SUBWAY); 435-654-4642 (SUBWAY)",
         "nan; nan",
         "nan; nan",
         "nan; nan",
         "nan; nan",
         "nan; nan",
         "nan; nan",
         "nan; nan",
         "[]",
         null,
         null,
         null,
         null,
         null,
         null,
         null,
         null,
         null,
         null,
         null,
         null,
         null,
         null,
         null,
         null,
         null,
         null,
         null,
         null,
         null,
         null,
         null,
         null,
         null,
         null,
         null,
         null,
         null,
         null,
         null,
         null,
         null,
         null,
         null,
         null,
         null,
         null,
         null,
         null,
         null,
         null,
         "1590 S Highway 40Heber City, UT 84032; 1590 S Highway 40Heber City, UT 84032; 1590 S Highway 40Heber City, UT 84032",
         "nan; Silver Eagle Country Store, K & T's Silver Eagle; nan",
         "Subway; Silver Eagle; Subway",
         "https://www.yellowpages.com/heber-city-ut/mip/subway-512313932; https://www.yellowpages.com/heber-city-ut/mip/silver-eagle-503945875; https://www.yellowpages.com/heber-city-ut/mip/subway-512313932?lid=512313932#gallery",
         "Fast Food Restaurants, Restaurants, Sandwich Shops; Convenience Stores, Gas Stations, Variety Stores; Fast Food Restaurants, Restaurants, Sandwich Shops",
         "nan; 435 654 1951; nan",
         "nan; nan; nan",
         "Heber City; Heber City; Heber City",
         "40.487484; 40.487484; 40.487484",
         "-111.407845; -111.407845; -111.407845",
         "Subway; Silver Eagle; Subway",
         "(435) 654-4642; (435) 654-4642; (435) 654-4642",
         "UT; UT; UT",
         "1590 S Highway 40; 1590 S Highway 40; 1590 S Highway 40",
         "84032.0; 84032.0; 84032.0",
         "435-654-4642; 435-654-4642; 435-654-4642",
         "(435) 654-4642Call; (435) 654-4642Call; (435) 654-4642Call",
         "2025-07-07T04:12:06.979Z; 2025-07-07T04:12:09.901Z; 2025-07-07T04:12:13.054Z",
         "https://www.yellowpages.com/search?search_terms=435+654+4642; https://www.yellowpages.com/search?search_terms=435+654+4642; https://www.yellowpages.com/search?search_terms=435+654+4642",
         "nan; nan; nan",
         "https://restaurants.subway.com/united-states/ut/heber/1590-south-highway-40?utm_source=yext-other&utm_medium=local&utm_term=acq&utm_content=65636&utm_campaign=evergreen-2020&y_source=1_MTQ4OTc3MjEtNTUzLWxvY2F0aW9uLndlYnNpdGU%3D; https://www.rhinehartoil.com; https://restaurants.subway.com/united-states/ut/heber/1590-south-highway-40?utm_source=yext-other&utm_medium=local&utm_term=acq&utm_content=65636&utm_campaign=evergreen-2020&y_source=1_MTQ4OTc3MjEtNTUzLWxvY2F0aW9uLndlYnNpdGU%3D",
         "0.0240740048806534",
         "Webscraped vs YellowPages (Phone)",
         "0.0240740048806534",
         "Webscraped vs YellowPages (Phone)",
         "0.0240740048806534",
         "Webscraped vs YellowPages (Phone)",
         "40.4875955",
         "-111.408021",
         null,
         null,
         null,
         null,
         "40.4875955",
         "-111.408021",
         "OK",
         "1590 US-40, Heber City, UT 84032, USA",
         "40.4878994",
         "-111.4084917",
         "ChIJmVOuQLf1TYcR9iVDdulusIM",
         "premise,street_address"
        ],
        [
         "9",
         "Heber City ( 84032 ) Silver Eagle Country Store",
         "435-654-4642 1590 US 40 S ( 1/2 mi S of jct US 189 )",
         "189 ) <U+25A1> <U+2610><U+2610> <U+25A1>",
         "Heber City",
         "84032",
         "Silver Eagle Country Store",
         "435-654-4642",
         "2014",
         "Heber City",
         "UT",
         null,
         "( 1/2 mi S of jct US 189 )",
         "1590 US 40 S",
         "Proper",
         null,
         null,
         null,
         "False",
         null,
         "False",
         "US 40",
         null,
         null,
         null,
         null,
         "[426, 878]",
         "[426, 455, 878, 902]",
         "[426, 455, 878, 902]",
         "[]",
         "[398, 399, 400, 401, 402, 403, 404, 405, 406, 407, 408, 409, 410, 411, 412, 413, 414, 415, 416, 417, 418, 419, 420, 421, 422, 423, 424, 425, 426, 427, 428, 429, 430, 431, 432, 433, 434, 435, 436, 437, 438, 439, 440, 441, 442, 443, 444, 445, 446, 447, 448, 449, 450, 451, 452, 453, 454, 455, 456, 457, 458, 459, 460, 461, 462, 463, 464, 465, 466, 467, 468, 469, 470, 471, 472, 473, 474, 475, 476, 477, 478, 479, 480, 481, 482, 483, 484, 848, 849, 850, 851, 852, 853, 854, 855, 856, 857, 858, 859, 860, 861, 862, 863, 864, 865, 866, 867, 868, 869, 870, 871, 872, 873, 874, 875, 876, 877, 878, 879, 880, 881, 882, 883, 884, 885, 886, 887, 888, 889, 890, 891, 892, 893, 894, 895, 896, 897, 898, 899, 900, 901, 902, 903, 904, 905, 906, 907, 908, 909, 910, 911, 912, 913, 914, 915, 916, 917, 918, 919, 920, 921, 922, 923, 924, 925, 926, 927, 928, 929, 930, 931, 932, 933, 934, 935]",
         "[4, 11, 18, 21, 23, 26, 27, 28, 31, 35, 36, 43, 45, 52, 55, 56, 60, 62, 64, 70, 71, 80, 90, 94, 97, 183, 197, 232, 334, 426, 455, 472, 477, 478, 480, 483, 484, 490, 496, 505, 507, 509, 510, 511, 514, 516, 517, 523, 525, 529, 532, 533, 536, 538, 545, 546, 552, 561, 565, 568, 654, 668, 696, 790, 857, 878, 902, 919, 928, 929, 932, 934, 935]",
         "[]",
         "[15, 386, 412, 413, 426, 500, 836, 863, 864, 878]",
         "[916, 514, 4, 516, 917, 517, 918, 11, 523, 525, 15, 919, 529, 18, 532, 920, 21, 23, 533, 536, 921, 26, 27, 28, 538, 922, 31, 545, 546, 35, 923, 36, 552, 924, 43, 45, 925, 561, 926, 52, 565, 55, 927, 56, 568, 60, 928, 62, 64, 929, 70, 71, 930, 931, 80, 932, 933, 90, 934, 94, 935, 97, 654, 668, 183, 696, 197, 232, 790, 836, 334, 848, 849, 850, 851, 852, 853, 854, 855, 856, 857, 858, 859, 860, 861, 862, 863, 864, 865, 866, 867, 868, 869, 870, 871, 872, 873, 874, 875, 876, 877, 878, 879, 880, 881, 882, 883, 884, 885, 886, 887, 888, 889, 890, 891, 892, 893, 894, 895, 896, 897, 898, 899, 900, 901, 902, 903, 904, 905, 906, 907, 908, 909, 398, 399, 400, 401, 402, 403, 404, 405, 406, 407, 408, 409, 410, 411, 412, 413, 414, 415, 416, 417, 418, 419, 420, 421, 422, 423, 424, 425, 426, 427, 428, 429, 430, 431, 432, 433, 434, 435, 436, 437, 438, 439, 440, 441, 442, 443, 444, 445, 446, 447, 448, 449, 450, 451, 452, 453, 454, 455, 456, 457, 458, 459, 460, 461, 462, 463, 464, 465, 466, 467, 468, 469, 470, 471, 472, 473, 474, 475, 476, 477, 478, 479, 480, 481, 482, 483, 484, 910, 911, 490, 912, 496, 913, 386, 500, 914, 505, 507, 915, 509, 510, 511]",
         "[426, 878]",
         "True",
         "[426, 455, 878, 902]",
         "[398, 399, 400, 401, 402, 403, 404, 405, 406, 407, 408, 409, 410, 411, 412, 413, 414, 415, 416, 417, 418, 419, 420, 421, 422, 423, 424, 425, 426, 427, 428, 429, 430, 431, 432, 433, 434, 435, 436, 437, 438, 439, 440, 441, 442, 443, 444, 445, 446, 447, 448, 449, 450, 451, 452, 453, 454, 455, 456, 457, 458, 459, 460, 461, 462, 463, 464, 465, 466, 467, 468, 469, 470, 471, 472, 473, 474, 475, 476, 477, 478, 479, 480, 481, 482, 483, 484, 848, 849, 850, 851, 852, 853, 854, 855, 856, 857, 858, 859, 860, 861, 862, 863, 864, 865, 866, 867, 868, 869, 870, 871, 872, 873, 874, 875, 876, 877, 878, 879, 880, 881, 882, 883, 884, 885, 886, 887, 888, 889, 890, 891, 892, 893, 894, 895, 896, 897, 898, 899, 900, 901, 902, 903, 904, 905, 906, 907, 908, 909, 910, 911, 912, 913, 914, 915, 916, 917, 918, 919, 920, 921, 922, 923, 924, 925, 926, 927, 928, 929, 930, 931, 932, 933, 934, 935]",
         "[426, 455, 878, 902]",
         "[]",
         "[4, 11, 18, 21, 23, 26, 27, 28, 31, 35, 36, 43, 45, 52, 55, 56, 60, 62, 64, 70, 71, 80, 90, 94, 97, 183, 197, 232, 334, 426, 455, 472, 477, 478, 480, 483, 484, 490, 496, 505, 507, 509, 510, 511, 514, 516, 517, 523, 525, 529, 532, 533, 536, 538, 545, 546, 552, 561, 565, 568, 654, 668, 696, 790, 857, 878, 902, 919, 928, 929, 932, 934, 935]",
         "[15, 386, 412, 413, 426, 500, 836, 863, 864, 878]",
         "[]",
         "7/6 successful match",
         "True",
         null,
         "False",
         "2",
         "[3, 4, 5]",
         "True",
         "46; 46",
         "Utah; Utah",
         "K&T'S SILVER EAGLE; K&T'S SILVER EAGLE",
         "https://www.truckstopsandservices.com/location_details.php?id=12441; http://www.rvandtravelers.com/location_details.php?id=12441",
         "Trucker; RVer",
         "ind dealer; ind dealer",
         "40.487707; nan",
         "-111.408197; nan",
         "nan; nan",
         "40.487707; 40.487707",
         "-111.408197; -111.408197",
         "US 40; US 40",
         "HALF MILE S OF US 89; HALF MILE S OF US 89",
         "1590 S HWY 40; 1590 S HWY 40",
         "HEBER CITY; HEBER CITY",
         "UT; UT",
         "84032; 84032",
         "435-654-4642 (TRAVEL CENTER); 435-654-4642 (TRAVEL CENTER)",
         "nan; nan",
         "435-654-4642 (SUBWAY); 435-654-4642 (SUBWAY)",
         "nan; nan",
         "nan; nan",
         "nan; nan",
         "nan; nan",
         "nan; nan",
         "nan; nan",
         "nan; nan",
         "[426, 878]",
         "46; 46",
         "Utah; Utah",
         "K&T'S SILVER EAGLE; K&T'S SILVER EAGLE",
         "https://www.truckstopsandservices.com/location_details.php?id=12441; http://www.rvandtravelers.com/location_details.php?id=12441",
         "Trucker; RVer",
         "ind dealer; ind dealer",
         "40.487707; nan",
         "-111.408197; nan",
         "nan; nan",
         "40.487707; 40.487707",
         "-111.408197; -111.408197",
         "US 40; US 40",
         "HALF MILE S OF US 89; HALF MILE S OF US 89",
         "1590 S HWY 40; 1590 S HWY 40",
         "HEBER CITY; HEBER CITY",
         "UT; UT",
         "84032; 84032",
         "435-654-4642 (TRAVEL CENTER); 435-654-4642 (TRAVEL CENTER)",
         "nan; nan",
         "435-654-4642 (SUBWAY); 435-654-4642 (SUBWAY)",
         "nan; nan",
         "nan; nan",
         "nan; nan",
         "nan; nan",
         "nan; nan",
         "nan; nan",
         "nan; nan",
         null,
         null,
         null,
         null,
         null,
         null,
         null,
         null,
         null,
         null,
         null,
         null,
         null,
         null,
         null,
         "1590 S Highway 40Heber City, UT 84032; 1590 S Highway 40Heber City, UT 84032; 1590 S Highway 40Heber City, UT 84032",
         "nan; Silver Eagle Country Store, K & T's Silver Eagle; nan",
         "Subway; Silver Eagle; Subway",
         "https://www.yellowpages.com/heber-city-ut/mip/subway-512313932; https://www.yellowpages.com/heber-city-ut/mip/silver-eagle-503945875; https://www.yellowpages.com/heber-city-ut/mip/subway-512313932?lid=512313932#gallery",
         "Fast Food Restaurants, Restaurants, Sandwich Shops; Convenience Stores, Gas Stations, Variety Stores; Fast Food Restaurants, Restaurants, Sandwich Shops",
         "nan; 435 654 1951; nan",
         "nan; nan; nan",
         "Heber City; Heber City; Heber City",
         "40.487484; 40.487484; 40.487484",
         "-111.407845; -111.407845; -111.407845",
         "Subway; Silver Eagle; Subway",
         "(435) 654-4642; (435) 654-4642; (435) 654-4642",
         "UT; UT; UT",
         "1590 S Highway 40; 1590 S Highway 40; 1590 S Highway 40",
         "84032.0; 84032.0; 84032.0",
         "435-654-4642; 435-654-4642; 435-654-4642",
         "(435) 654-4642Call; (435) 654-4642Call; (435) 654-4642Call",
         "2025-07-07T04:12:06.979Z; 2025-07-07T04:12:09.901Z; 2025-07-07T04:12:13.054Z",
         "https://www.yellowpages.com/search?search_terms=435+654+4642; https://www.yellowpages.com/search?search_terms=435+654+4642; https://www.yellowpages.com/search?search_terms=435+654+4642",
         "nan; nan; nan",
         "https://restaurants.subway.com/united-states/ut/heber/1590-south-highway-40?utm_source=yext-other&utm_medium=local&utm_term=acq&utm_content=65636&utm_campaign=evergreen-2020&y_source=1_MTQ4OTc3MjEtNTUzLWxvY2F0aW9uLndlYnNpdGU%3D; https://www.rhinehartoil.com; https://restaurants.subway.com/united-states/ut/heber/1590-south-highway-40?utm_source=yext-other&utm_medium=local&utm_term=acq&utm_content=65636&utm_campaign=evergreen-2020&y_source=1_MTQ4OTc3MjEtNTUzLWxvY2F0aW9uLndlYnNpdGU%3D",
         "0.0240740048806534",
         "Webscraped vs YellowPages (Phone)",
         "0.0240740048806534",
         "Webscraped vs YellowPages (Phone)",
         "0.0240740048806534",
         "Webscraped vs YellowPages (Phone)",
         "40.4875955",
         "-111.408021",
         null,
         null,
         null,
         null,
         "40.4875955",
         "-111.408021",
         "OK",
         "1590 US-40, Heber City, UT 84032, USA",
         "40.4878994",
         "-111.4084917",
         "ChIJmVOuQLf1TYcR9iVDdulusIM",
         "premise,street_address"
        ],
        [
         "10",
         "E Heber City ( 84032 ) Silver Eagle Country Store",
         "435-654-4642 1590 US 40 S ( 1/2 mi S of jct US 189 )",
         "<U+2610><U+2610>",
         "Heber City",
         "84032",
         "Silver Eagle Country Store",
         "435-654-4642",
         "2015",
         "Heber City",
         "UT",
         null,
         "( 1/2 mi S of jct US 189 )",
         "1590 US 40 S",
         "Proper",
         null,
         null,
         null,
         "False",
         null,
         "False",
         "US 40",
         null,
         null,
         null,
         null,
         "[426, 878]",
         "[426, 455, 878, 902]",
         "[426, 455, 878, 902]",
         "[]",
         "[398, 399, 400, 401, 402, 403, 404, 405, 406, 407, 408, 409, 410, 411, 412, 413, 414, 415, 416, 417, 418, 419, 420, 421, 422, 423, 424, 425, 426, 427, 428, 429, 430, 431, 432, 433, 434, 435, 436, 437, 438, 439, 440, 441, 442, 443, 444, 445, 446, 447, 448, 449, 450, 451, 452, 453, 454, 455, 456, 457, 458, 459, 460, 461, 462, 463, 464, 465, 466, 467, 468, 469, 470, 471, 472, 473, 474, 475, 476, 477, 478, 479, 480, 481, 482, 483, 484, 848, 849, 850, 851, 852, 853, 854, 855, 856, 857, 858, 859, 860, 861, 862, 863, 864, 865, 866, 867, 868, 869, 870, 871, 872, 873, 874, 875, 876, 877, 878, 879, 880, 881, 882, 883, 884, 885, 886, 887, 888, 889, 890, 891, 892, 893, 894, 895, 896, 897, 898, 899, 900, 901, 902, 903, 904, 905, 906, 907, 908, 909, 910, 911, 912, 913, 914, 915, 916, 917, 918, 919, 920, 921, 922, 923, 924, 925, 926, 927, 928, 929, 930, 931, 932, 933, 934, 935]",
         "[4, 11, 18, 21, 23, 26, 27, 28, 31, 35, 36, 43, 45, 52, 55, 56, 60, 62, 64, 70, 71, 80, 90, 94, 97, 183, 197, 232, 334, 426, 455, 472, 477, 478, 480, 483, 484, 490, 496, 505, 507, 509, 510, 511, 514, 516, 517, 523, 525, 529, 532, 533, 536, 538, 545, 546, 552, 561, 565, 568, 654, 668, 696, 790, 857, 878, 902, 919, 928, 929, 932, 934, 935]",
         "[]",
         "[15, 386, 412, 413, 426, 500, 836, 863, 864, 878]",
         "[916, 514, 4, 516, 917, 517, 918, 11, 523, 525, 15, 919, 529, 18, 532, 920, 21, 23, 533, 536, 921, 26, 27, 28, 538, 922, 31, 545, 546, 35, 923, 36, 552, 924, 43, 45, 925, 561, 926, 52, 565, 55, 927, 56, 568, 60, 928, 62, 64, 929, 70, 71, 930, 931, 80, 932, 933, 90, 934, 94, 935, 97, 654, 668, 183, 696, 197, 232, 790, 836, 334, 848, 849, 850, 851, 852, 853, 854, 855, 856, 857, 858, 859, 860, 861, 862, 863, 864, 865, 866, 867, 868, 869, 870, 871, 872, 873, 874, 875, 876, 877, 878, 879, 880, 881, 882, 883, 884, 885, 886, 887, 888, 889, 890, 891, 892, 893, 894, 895, 896, 897, 898, 899, 900, 901, 902, 903, 904, 905, 906, 907, 908, 909, 398, 399, 400, 401, 402, 403, 404, 405, 406, 407, 408, 409, 410, 411, 412, 413, 414, 415, 416, 417, 418, 419, 420, 421, 422, 423, 424, 425, 426, 427, 428, 429, 430, 431, 432, 433, 434, 435, 436, 437, 438, 439, 440, 441, 442, 443, 444, 445, 446, 447, 448, 449, 450, 451, 452, 453, 454, 455, 456, 457, 458, 459, 460, 461, 462, 463, 464, 465, 466, 467, 468, 469, 470, 471, 472, 473, 474, 475, 476, 477, 478, 479, 480, 481, 482, 483, 484, 910, 911, 490, 912, 496, 913, 386, 500, 914, 505, 507, 915, 509, 510, 511]",
         "[426, 878]",
         "True",
         "[426, 455, 878, 902]",
         "[398, 399, 400, 401, 402, 403, 404, 405, 406, 407, 408, 409, 410, 411, 412, 413, 414, 415, 416, 417, 418, 419, 420, 421, 422, 423, 424, 425, 426, 427, 428, 429, 430, 431, 432, 433, 434, 435, 436, 437, 438, 439, 440, 441, 442, 443, 444, 445, 446, 447, 448, 449, 450, 451, 452, 453, 454, 455, 456, 457, 458, 459, 460, 461, 462, 463, 464, 465, 466, 467, 468, 469, 470, 471, 472, 473, 474, 475, 476, 477, 478, 479, 480, 481, 482, 483, 484, 848, 849, 850, 851, 852, 853, 854, 855, 856, 857, 858, 859, 860, 861, 862, 863, 864, 865, 866, 867, 868, 869, 870, 871, 872, 873, 874, 875, 876, 877, 878, 879, 880, 881, 882, 883, 884, 885, 886, 887, 888, 889, 890, 891, 892, 893, 894, 895, 896, 897, 898, 899, 900, 901, 902, 903, 904, 905, 906, 907, 908, 909, 910, 911, 912, 913, 914, 915, 916, 917, 918, 919, 920, 921, 922, 923, 924, 925, 926, 927, 928, 929, 930, 931, 932, 933, 934, 935]",
         "[426, 455, 878, 902]",
         "[]",
         "[4, 11, 18, 21, 23, 26, 27, 28, 31, 35, 36, 43, 45, 52, 55, 56, 60, 62, 64, 70, 71, 80, 90, 94, 97, 183, 197, 232, 334, 426, 455, 472, 477, 478, 480, 483, 484, 490, 496, 505, 507, 509, 510, 511, 514, 516, 517, 523, 525, 529, 532, 533, 536, 538, 545, 546, 552, 561, 565, 568, 654, 668, 696, 790, 857, 878, 902, 919, 928, 929, 932, 934, 935]",
         "[15, 386, 412, 413, 426, 500, 836, 863, 864, 878]",
         "[]",
         "7/6 successful match",
         "True",
         null,
         "False",
         "2",
         "[3, 4, 5]",
         "True",
         "46; 46",
         "Utah; Utah",
         "K&T'S SILVER EAGLE; K&T'S SILVER EAGLE",
         "https://www.truckstopsandservices.com/location_details.php?id=12441; http://www.rvandtravelers.com/location_details.php?id=12441",
         "Trucker; RVer",
         "ind dealer; ind dealer",
         "40.487707; nan",
         "-111.408197; nan",
         "nan; nan",
         "40.487707; 40.487707",
         "-111.408197; -111.408197",
         "US 40; US 40",
         "HALF MILE S OF US 89; HALF MILE S OF US 89",
         "1590 S HWY 40; 1590 S HWY 40",
         "HEBER CITY; HEBER CITY",
         "UT; UT",
         "84032; 84032",
         "435-654-4642 (TRAVEL CENTER); 435-654-4642 (TRAVEL CENTER)",
         "nan; nan",
         "435-654-4642 (SUBWAY); 435-654-4642 (SUBWAY)",
         "nan; nan",
         "nan; nan",
         "nan; nan",
         "nan; nan",
         "nan; nan",
         "nan; nan",
         "nan; nan",
         "[426, 878]",
         "46; 46",
         "Utah; Utah",
         "K&T'S SILVER EAGLE; K&T'S SILVER EAGLE",
         "https://www.truckstopsandservices.com/location_details.php?id=12441; http://www.rvandtravelers.com/location_details.php?id=12441",
         "Trucker; RVer",
         "ind dealer; ind dealer",
         "40.487707; nan",
         "-111.408197; nan",
         "nan; nan",
         "40.487707; 40.487707",
         "-111.408197; -111.408197",
         "US 40; US 40",
         "HALF MILE S OF US 89; HALF MILE S OF US 89",
         "1590 S HWY 40; 1590 S HWY 40",
         "HEBER CITY; HEBER CITY",
         "UT; UT",
         "84032; 84032",
         "435-654-4642 (TRAVEL CENTER); 435-654-4642 (TRAVEL CENTER)",
         "nan; nan",
         "435-654-4642 (SUBWAY); 435-654-4642 (SUBWAY)",
         "nan; nan",
         "nan; nan",
         "nan; nan",
         "nan; nan",
         "nan; nan",
         "nan; nan",
         "nan; nan",
         null,
         null,
         null,
         null,
         null,
         null,
         null,
         null,
         null,
         null,
         null,
         null,
         null,
         null,
         null,
         "1590 S Highway 40Heber City, UT 84032; 1590 S Highway 40Heber City, UT 84032; 1590 S Highway 40Heber City, UT 84032",
         "nan; Silver Eagle Country Store, K & T's Silver Eagle; nan",
         "Subway; Silver Eagle; Subway",
         "https://www.yellowpages.com/heber-city-ut/mip/subway-512313932; https://www.yellowpages.com/heber-city-ut/mip/silver-eagle-503945875; https://www.yellowpages.com/heber-city-ut/mip/subway-512313932?lid=512313932#gallery",
         "Fast Food Restaurants, Restaurants, Sandwich Shops; Convenience Stores, Gas Stations, Variety Stores; Fast Food Restaurants, Restaurants, Sandwich Shops",
         "nan; 435 654 1951; nan",
         "nan; nan; nan",
         "Heber City; Heber City; Heber City",
         "40.487484; 40.487484; 40.487484",
         "-111.407845; -111.407845; -111.407845",
         "Subway; Silver Eagle; Subway",
         "(435) 654-4642; (435) 654-4642; (435) 654-4642",
         "UT; UT; UT",
         "1590 S Highway 40; 1590 S Highway 40; 1590 S Highway 40",
         "84032.0; 84032.0; 84032.0",
         "435-654-4642; 435-654-4642; 435-654-4642",
         "(435) 654-4642Call; (435) 654-4642Call; (435) 654-4642Call",
         "2025-07-07T04:12:06.979Z; 2025-07-07T04:12:09.901Z; 2025-07-07T04:12:13.054Z",
         "https://www.yellowpages.com/search?search_terms=435+654+4642; https://www.yellowpages.com/search?search_terms=435+654+4642; https://www.yellowpages.com/search?search_terms=435+654+4642",
         "nan; nan; nan",
         "https://restaurants.subway.com/united-states/ut/heber/1590-south-highway-40?utm_source=yext-other&utm_medium=local&utm_term=acq&utm_content=65636&utm_campaign=evergreen-2020&y_source=1_MTQ4OTc3MjEtNTUzLWxvY2F0aW9uLndlYnNpdGU%3D; https://www.rhinehartoil.com; https://restaurants.subway.com/united-states/ut/heber/1590-south-highway-40?utm_source=yext-other&utm_medium=local&utm_term=acq&utm_content=65636&utm_campaign=evergreen-2020&y_source=1_MTQ4OTc3MjEtNTUzLWxvY2F0aW9uLndlYnNpdGU%3D",
         "0.0240740048806534",
         "Webscraped vs YellowPages (Phone)",
         "0.0240740048806534",
         "Webscraped vs YellowPages (Phone)",
         "0.0240740048806534",
         "Webscraped vs YellowPages (Phone)",
         "40.4875955",
         "-111.408021",
         null,
         null,
         null,
         null,
         "40.4875955",
         "-111.408021",
         "OK",
         "1590 US-40, Heber City, UT 84032, USA",
         "40.4878994",
         "-111.4084917",
         "ChIJmVOuQLf1TYcR9iVDdulusIM",
         "premise,street_address"
        ],
        [
         "11",
         "Heber City ( 84032 ) Silver Eagle Country Store",
         "435-654-4642 1590 US 40 S ( 1/2 mi S of jct US 189 )",
         "<U+2610> D",
         "Heber City",
         "84032",
         "Silver Eagle Country Store",
         "435-654-4642",
         "2016",
         "Heber City",
         "UT",
         null,
         "( 1/2 mi S of jct US 189 )",
         "1590 US 40 S",
         "Proper",
         null,
         null,
         null,
         "False",
         null,
         "False",
         "US 40",
         null,
         null,
         null,
         null,
         "[426, 878]",
         "[426, 455, 878, 902]",
         "[426, 455, 878, 902]",
         "[]",
         "[398, 399, 400, 401, 402, 403, 404, 405, 406, 407, 408, 409, 410, 411, 412, 413, 414, 415, 416, 417, 418, 419, 420, 421, 422, 423, 424, 425, 426, 427, 428, 429, 430, 431, 432, 433, 434, 435, 436, 437, 438, 439, 440, 441, 442, 443, 444, 445, 446, 447, 448, 449, 450, 451, 452, 453, 454, 455, 456, 457, 458, 459, 460, 461, 462, 463, 464, 465, 466, 467, 468, 469, 470, 471, 472, 473, 474, 475, 476, 477, 478, 479, 480, 481, 482, 483, 484, 848, 849, 850, 851, 852, 853, 854, 855, 856, 857, 858, 859, 860, 861, 862, 863, 864, 865, 866, 867, 868, 869, 870, 871, 872, 873, 874, 875, 876, 877, 878, 879, 880, 881, 882, 883, 884, 885, 886, 887, 888, 889, 890, 891, 892, 893, 894, 895, 896, 897, 898, 899, 900, 901, 902, 903, 904, 905, 906, 907, 908, 909, 910, 911, 912, 913, 914, 915, 916, 917, 918, 919, 920, 921, 922, 923, 924, 925, 926, 927, 928, 929, 930, 931, 932, 933, 934, 935]",
         "[4, 11, 18, 21, 23, 26, 27, 28, 31, 35, 36, 43, 45, 52, 55, 56, 60, 62, 64, 70, 71, 80, 90, 94, 97, 183, 197, 232, 334, 426, 455, 472, 477, 478, 480, 483, 484, 490, 496, 505, 507, 509, 510, 511, 514, 516, 517, 523, 525, 529, 532, 533, 536, 538, 545, 546, 552, 561, 565, 568, 654, 668, 696, 790, 857, 878, 902, 919, 928, 929, 932, 934, 935]",
         "[]",
         "[15, 386, 412, 413, 426, 500, 836, 863, 864, 878]",
         "[916, 514, 4, 516, 917, 517, 918, 11, 523, 525, 15, 919, 529, 18, 532, 920, 21, 23, 533, 536, 921, 26, 27, 28, 538, 922, 31, 545, 546, 35, 923, 36, 552, 924, 43, 45, 925, 561, 926, 52, 565, 55, 927, 56, 568, 60, 928, 62, 64, 929, 70, 71, 930, 931, 80, 932, 933, 90, 934, 94, 935, 97, 654, 668, 183, 696, 197, 232, 790, 836, 334, 848, 849, 850, 851, 852, 853, 854, 855, 856, 857, 858, 859, 860, 861, 862, 863, 864, 865, 866, 867, 868, 869, 870, 871, 872, 873, 874, 875, 876, 877, 878, 879, 880, 881, 882, 883, 884, 885, 886, 887, 888, 889, 890, 891, 892, 893, 894, 895, 896, 897, 898, 899, 900, 901, 902, 903, 904, 905, 906, 907, 908, 909, 398, 399, 400, 401, 402, 403, 404, 405, 406, 407, 408, 409, 410, 411, 412, 413, 414, 415, 416, 417, 418, 419, 420, 421, 422, 423, 424, 425, 426, 427, 428, 429, 430, 431, 432, 433, 434, 435, 436, 437, 438, 439, 440, 441, 442, 443, 444, 445, 446, 447, 448, 449, 450, 451, 452, 453, 454, 455, 456, 457, 458, 459, 460, 461, 462, 463, 464, 465, 466, 467, 468, 469, 470, 471, 472, 473, 474, 475, 476, 477, 478, 479, 480, 481, 482, 483, 484, 910, 911, 490, 912, 496, 913, 386, 500, 914, 505, 507, 915, 509, 510, 511]",
         "[426, 878]",
         "True",
         "[426, 455, 878, 902]",
         "[398, 399, 400, 401, 402, 403, 404, 405, 406, 407, 408, 409, 410, 411, 412, 413, 414, 415, 416, 417, 418, 419, 420, 421, 422, 423, 424, 425, 426, 427, 428, 429, 430, 431, 432, 433, 434, 435, 436, 437, 438, 439, 440, 441, 442, 443, 444, 445, 446, 447, 448, 449, 450, 451, 452, 453, 454, 455, 456, 457, 458, 459, 460, 461, 462, 463, 464, 465, 466, 467, 468, 469, 470, 471, 472, 473, 474, 475, 476, 477, 478, 479, 480, 481, 482, 483, 484, 848, 849, 850, 851, 852, 853, 854, 855, 856, 857, 858, 859, 860, 861, 862, 863, 864, 865, 866, 867, 868, 869, 870, 871, 872, 873, 874, 875, 876, 877, 878, 879, 880, 881, 882, 883, 884, 885, 886, 887, 888, 889, 890, 891, 892, 893, 894, 895, 896, 897, 898, 899, 900, 901, 902, 903, 904, 905, 906, 907, 908, 909, 910, 911, 912, 913, 914, 915, 916, 917, 918, 919, 920, 921, 922, 923, 924, 925, 926, 927, 928, 929, 930, 931, 932, 933, 934, 935]",
         "[426, 455, 878, 902]",
         "[]",
         "[4, 11, 18, 21, 23, 26, 27, 28, 31, 35, 36, 43, 45, 52, 55, 56, 60, 62, 64, 70, 71, 80, 90, 94, 97, 183, 197, 232, 334, 426, 455, 472, 477, 478, 480, 483, 484, 490, 496, 505, 507, 509, 510, 511, 514, 516, 517, 523, 525, 529, 532, 533, 536, 538, 545, 546, 552, 561, 565, 568, 654, 668, 696, 790, 857, 878, 902, 919, 928, 929, 932, 934, 935]",
         "[15, 386, 412, 413, 426, 500, 836, 863, 864, 878]",
         "[]",
         "7/6 successful match",
         "True",
         null,
         "False",
         "2",
         "[3, 4, 5]",
         "True",
         "46; 46",
         "Utah; Utah",
         "K&T'S SILVER EAGLE; K&T'S SILVER EAGLE",
         "https://www.truckstopsandservices.com/location_details.php?id=12441; http://www.rvandtravelers.com/location_details.php?id=12441",
         "Trucker; RVer",
         "ind dealer; ind dealer",
         "40.487707; nan",
         "-111.408197; nan",
         "nan; nan",
         "40.487707; 40.487707",
         "-111.408197; -111.408197",
         "US 40; US 40",
         "HALF MILE S OF US 89; HALF MILE S OF US 89",
         "1590 S HWY 40; 1590 S HWY 40",
         "HEBER CITY; HEBER CITY",
         "UT; UT",
         "84032; 84032",
         "435-654-4642 (TRAVEL CENTER); 435-654-4642 (TRAVEL CENTER)",
         "nan; nan",
         "435-654-4642 (SUBWAY); 435-654-4642 (SUBWAY)",
         "nan; nan",
         "nan; nan",
         "nan; nan",
         "nan; nan",
         "nan; nan",
         "nan; nan",
         "nan; nan",
         "[426, 878]",
         "46; 46",
         "Utah; Utah",
         "K&T'S SILVER EAGLE; K&T'S SILVER EAGLE",
         "https://www.truckstopsandservices.com/location_details.php?id=12441; http://www.rvandtravelers.com/location_details.php?id=12441",
         "Trucker; RVer",
         "ind dealer; ind dealer",
         "40.487707; nan",
         "-111.408197; nan",
         "nan; nan",
         "40.487707; 40.487707",
         "-111.408197; -111.408197",
         "US 40; US 40",
         "HALF MILE S OF US 89; HALF MILE S OF US 89",
         "1590 S HWY 40; 1590 S HWY 40",
         "HEBER CITY; HEBER CITY",
         "UT; UT",
         "84032; 84032",
         "435-654-4642 (TRAVEL CENTER); 435-654-4642 (TRAVEL CENTER)",
         "nan; nan",
         "435-654-4642 (SUBWAY); 435-654-4642 (SUBWAY)",
         "nan; nan",
         "nan; nan",
         "nan; nan",
         "nan; nan",
         "nan; nan",
         "nan; nan",
         "nan; nan",
         null,
         null,
         null,
         null,
         null,
         null,
         null,
         null,
         null,
         null,
         null,
         null,
         null,
         null,
         null,
         "1590 S Highway 40Heber City, UT 84032; 1590 S Highway 40Heber City, UT 84032; 1590 S Highway 40Heber City, UT 84032",
         "nan; Silver Eagle Country Store, K & T's Silver Eagle; nan",
         "Subway; Silver Eagle; Subway",
         "https://www.yellowpages.com/heber-city-ut/mip/subway-512313932; https://www.yellowpages.com/heber-city-ut/mip/silver-eagle-503945875; https://www.yellowpages.com/heber-city-ut/mip/subway-512313932?lid=512313932#gallery",
         "Fast Food Restaurants, Restaurants, Sandwich Shops; Convenience Stores, Gas Stations, Variety Stores; Fast Food Restaurants, Restaurants, Sandwich Shops",
         "nan; 435 654 1951; nan",
         "nan; nan; nan",
         "Heber City; Heber City; Heber City",
         "40.487484; 40.487484; 40.487484",
         "-111.407845; -111.407845; -111.407845",
         "Subway; Silver Eagle; Subway",
         "(435) 654-4642; (435) 654-4642; (435) 654-4642",
         "UT; UT; UT",
         "1590 S Highway 40; 1590 S Highway 40; 1590 S Highway 40",
         "84032.0; 84032.0; 84032.0",
         "435-654-4642; 435-654-4642; 435-654-4642",
         "(435) 654-4642Call; (435) 654-4642Call; (435) 654-4642Call",
         "2025-07-07T04:12:06.979Z; 2025-07-07T04:12:09.901Z; 2025-07-07T04:12:13.054Z",
         "https://www.yellowpages.com/search?search_terms=435+654+4642; https://www.yellowpages.com/search?search_terms=435+654+4642; https://www.yellowpages.com/search?search_terms=435+654+4642",
         "nan; nan; nan",
         "https://restaurants.subway.com/united-states/ut/heber/1590-south-highway-40?utm_source=yext-other&utm_medium=local&utm_term=acq&utm_content=65636&utm_campaign=evergreen-2020&y_source=1_MTQ4OTc3MjEtNTUzLWxvY2F0aW9uLndlYnNpdGU%3D; https://www.rhinehartoil.com; https://restaurants.subway.com/united-states/ut/heber/1590-south-highway-40?utm_source=yext-other&utm_medium=local&utm_term=acq&utm_content=65636&utm_campaign=evergreen-2020&y_source=1_MTQ4OTc3MjEtNTUzLWxvY2F0aW9uLndlYnNpdGU%3D",
         "0.0240740048806534",
         "Webscraped vs YellowPages (Phone)",
         "0.0240740048806534",
         "Webscraped vs YellowPages (Phone)",
         "0.0240740048806534",
         "Webscraped vs YellowPages (Phone)",
         "40.4875955",
         "-111.408021",
         null,
         null,
         null,
         null,
         "40.4875955",
         "-111.408021",
         "OK",
         "1590 US-40, Heber City, UT 84032, USA",
         "40.4878994",
         "-111.4084917",
         "ChIJmVOuQLf1TYcR9iVDdulusIM",
         "premise,street_address"
        ],
        [
         "12",
         "( N ) , 84054 Flying J Fuel Stop # 0500100",
         "801-936-1408 Salt Lake City I-215 Exit 28 ( UT 68 ) #",
         "MU 24 <U+2610> <U+2610>",
         null,
         "84054",
         "Flying J Fuel Stop # 0500100",
         "801-936-1408",
         "2006",
         "North Salt Lake",
         "UT",
         "Flying J",
         "( UT 68 ) #",
         "Salt Lake City I-215 Exit 28 ",
         "Exit",
         "28",
         "28",
         null,
         "False",
         null,
         "False",
         "I-215",
         null,
         null,
         null,
         null,
         "[872, 420]",
         "[420, 450, 872]",
         "[43, 66, 71, 104, 411, 414, 417, 420, 430, 441, 446, 448, 449, 450, 468, 523, 541, 546, 575, 860, 862, 865, 868, 869, 872, 882, 896, 897, 915]",
         "[18]",
         "[398, 399, 400, 401, 402, 403, 404, 405, 406, 407, 408, 409, 410, 411, 412, 413, 414, 415, 416, 417, 418, 419, 420, 421, 422, 423, 424, 425, 426, 427, 428, 429, 430, 431, 432, 433, 434, 435, 436, 437, 438, 439, 440, 441, 442, 443, 444, 445, 446, 447, 448, 449, 450, 451, 452, 453, 454, 455, 456, 457, 458, 459, 460, 461, 462, 463, 464, 465, 466, 467, 468, 469, 470, 471, 472, 473, 474, 475, 476, 477, 478, 479, 480, 481, 482, 483, 484, 848, 849, 850, 851, 852, 853, 854, 855, 856, 857, 858, 859, 860, 861, 862, 863, 864, 865, 866, 867, 868, 869, 870, 871, 872, 873, 874, 875, 876, 877, 878, 879, 880, 881, 882, 883, 884, 885, 886, 887, 888, 889, 890, 891, 892, 893, 894, 895, 896, 897, 898, 899, 900, 901, 902, 903, 904, 905, 906, 907, 908, 909, 910, 911, 912, 913, 914, 915, 916, 917, 918, 919, 920, 921, 922, 923, 924, 925, 926, 927, 928, 929, 930, 931, 932, 933, 934, 935]",
         "[140, 315, 318, 420, 446, 448, 450, 468, 611, 773, 776, 860, 872, 896, 915]",
         "[17, 18, 19, 20, 21, 22, 23, 156, 157, 158, 159, 160, 161, 162, 163, 164, 165, 166, 167, 341, 342, 343, 344, 345, 412, 413, 414, 415, 416, 417, 418, 419, 420, 421, 422, 502, 503, 504, 505, 506, 507, 628, 629, 630, 631, 632, 633, 634, 635, 636, 637, 638, 639, 792, 797, 798, 799, 800, 801, 863, 864, 865, 866, 867, 868, 869, 870, 871, 872, 873, 874]",
         "[17, 18, 19, 20, 21, 22, 23, 156, 157, 158, 159, 160, 161, 162, 163, 164, 165, 166, 167, 168, 340, 341, 342, 343, 344, 345, 346, 412, 413, 414, 415, 416, 417, 418, 419, 420, 421, 422, 502, 503, 504, 505, 506, 507, 628, 629, 630, 631, 632, 633, 634, 635, 636, 637, 638, 639, 792, 796, 797, 798, 799, 800, 801, 863, 864, 865, 866, 867, 868, 869, 870, 871, 872, 873, 874]",
         "[916, 917, 523, 918, 919, 17, 18, 19, 20, 920, 21, 22, 23, 921, 541, 922, 546, 923, 924, 43, 925, 926, 927, 928, 575, 66, 929, 71, 930, 931, 932, 933, 934, 935, 611, 104, 628, 629, 630, 631, 632, 633, 634, 635, 636, 637, 638, 639, 140, 156, 157, 158, 159, 160, 161, 162, 163, 164, 165, 166, 167, 168, 340, 442, 341, 342, 343, 344, 345, 346, 773, 776, 792, 796, 797, 798, 799, 800, 801, 315, 318, 848, 849, 850, 851, 852, 853, 854, 855, 856, 857, 858, 859, 860, 861, 862, 863, 864, 865, 866, 867, 868, 869, 870, 871, 872, 873, 874, 875, 876, 877, 878, 879, 880, 881, 882, 883, 884, 885, 886, 887, 888, 889, 890, 891, 892, 893, 894, 895, 896, 897, 898, 899, 900, 901, 902, 903, 904, 905, 906, 907, 908, 909, 398, 399, 400, 401, 402, 915, 403, 404, 405, 406, 407, 408, 409, 411, 410, 412, 414, 413, 415, 417, 416, 418, 420, 419, 421, 422, 423, 424, 425, 426, 427, 428, 430, 429, 431, 432, 433, 434, 435, 436, 437, 438, 439, 441, 440, 443, 444, 445, 446, 447, 448, 449, 450, 451, 452, 453, 454, 455, 456, 457, 458, 459, 460, 461, 462, 463, 464, 465, 466, 467, 468, 469, 470, 471, 472, 473, 474, 475, 476, 477, 478, 479, 480, 481, 482, 483, 484, 910, 503, 911, 912, 913, 502, 914, 504, 505, 506, 507]",
         "[872, 420]",
         "True",
         "[420, 450, 872]",
         "[398, 399, 400, 401, 402, 403, 404, 405, 406, 407, 408, 409, 410, 411, 412, 413, 414, 415, 416, 417, 418, 419, 420, 421, 422, 423, 424, 425, 426, 427, 428, 429, 430, 431, 432, 433, 434, 435, 436, 437, 438, 439, 440, 441, 442, 443, 444, 445, 446, 447, 448, 449, 450, 451, 452, 453, 454, 455, 456, 457, 458, 459, 460, 461, 462, 463, 464, 465, 466, 467, 468, 469, 470, 471, 472, 473, 474, 475, 476, 477, 478, 479, 480, 481, 482, 483, 484, 848, 849, 850, 851, 852, 853, 854, 855, 856, 857, 858, 859, 860, 861, 862, 863, 864, 865, 866, 867, 868, 869, 870, 871, 872, 873, 874, 875, 876, 877, 878, 879, 880, 881, 882, 883, 884, 885, 886, 887, 888, 889, 890, 891, 892, 893, 894, 895, 896, 897, 898, 899, 900, 901, 902, 903, 904, 905, 906, 907, 908, 909, 910, 911, 912, 913, 914, 915, 916, 917, 918, 919, 920, 921, 922, 923, 924, 925, 926, 927, 928, 929, 930, 931, 932, 933, 934, 935]",
         "[43, 66, 71, 104, 411, 414, 417, 420, 430, 441, 446, 448, 449, 450, 468, 523, 541, 546, 575, 860, 862, 865, 868, 869, 872, 882, 896, 897, 915]",
         "[18]",
         "[140, 315, 318, 420, 446, 448, 450, 468, 611, 773, 776, 860, 872, 896, 915]",
         "[17, 18, 19, 20, 21, 22, 23, 156, 157, 158, 159, 160, 161, 162, 163, 164, 165, 166, 167, 168, 340, 341, 342, 343, 344, 345, 346, 412, 413, 414, 415, 416, 417, 418, 419, 420, 421, 422, 502, 503, 504, 505, 506, 507, 628, 629, 630, 631, 632, 633, 634, 635, 636, 637, 638, 639, 792, 796, 797, 798, 799, 800, 801, 863, 864, 865, 866, 867, 868, 869, 870, 871, 872, 873, 874]",
         "[17, 18, 19, 20, 21, 22, 23, 156, 157, 158, 159, 160, 161, 162, 163, 164, 165, 166, 167, 341, 342, 343, 344, 345, 412, 413, 414, 415, 416, 417, 418, 419, 420, 421, 422, 502, 503, 504, 505, 506, 507, 628, 629, 630, 631, 632, 633, 634, 635, 636, 637, 638, 639, 792, 797, 798, 799, 800, 801, 863, 864, 865, 866, 867, 868, 869, 870, 871, 872, 873, 874]",
         "7/6 successful match",
         "True",
         "[605]",
         "True",
         "3",
         "[6, 7, 8]",
         "True",
         "46; 46",
         "Utah; Utah",
         "FLYING J TRAVEL CENTER #772; FLYING J TRAVEL CENTER #772",
         "http://www.rvandtravelers.com/location_details.php?id=18340; https://www.truckstopsandservices.com/location_details.php?id=18340",
         "RVer; Trucker",
         "flying j; flying j",
         "nan; 40.836537",
         "nan; -111.933561",
         "http://https://pilotflyingj.com/stores/772; https://pilotflyingj.com/stores/772",
         "40.836537; 40.836537",
         "-111.933561; -111.933561",
         "I-215; I-215",
         "27; 27",
         "885 N POINT CIRCLE; 885 N POINT CIRCLE",
         "NORTH SALT LAKE CITY; NORTH SALT LAKE CITY",
         "UT; UT",
         "84054; 84054",
         "801-936-1408 (TRAVEL CENTER); 801-936-1408 (TRAVEL CENTER)",
         "801-936-1457; 801-936-1457",
         "nan; nan",
         "nan; nan",
         "nan; nan",
         "nan; nan",
         "nan; nan",
         "nan; nan",
         "pilotflyingj.com/stores/772; nan",
         "nan; nan",
         "[420, 872]",
         "46; 46",
         "Utah; Utah",
         "FLYING J TRAVEL CENTER #772; FLYING J TRAVEL CENTER #772",
         "https://www.truckstopsandservices.com/location_details.php?id=18340; http://www.rvandtravelers.com/location_details.php?id=18340",
         "Trucker; RVer",
         "flying j; flying j",
         "40.836537; nan",
         "-111.933561; nan",
         "https://pilotflyingj.com/stores/772; http://https://pilotflyingj.com/stores/772",
         "40.836537; 40.836537",
         "-111.933561; -111.933561",
         "I-215; I-215",
         "27; 27",
         "885 N POINT CIRCLE; 885 N POINT CIRCLE",
         "NORTH SALT LAKE CITY; NORTH SALT LAKE CITY",
         "UT; UT",
         "84054; 84054",
         "801-936-1408 (TRAVEL CENTER); 801-936-1408 (TRAVEL CENTER)",
         "801-936-1457; 801-936-1457",
         "nan; nan",
         "nan; nan",
         "nan; nan",
         "nan; nan",
         "nan; nan",
         "nan; nan",
         "nan; pilotflyingj.com/stores/772",
         "nan; nan",
         "18019361408",
         "Flying J Travel Center",
         "2.4",
         "8.0",
         "885 N Pointe Cir, North Salt Lake, UT 84054",
         "North Salt Lake",
         "UT",
         "84054.0",
         "(801) 936-1408",
         "Gas Stations, Convenience Stores",
         "40.8361748",
         "-111.9341113",
         "$$",
         "False",
         "https://www.yelp.com/biz/flying-j-travel-center-north-salt-lake-3?adjust_creative=xElCeMfmOucjLmXEMhJkIg&utm_campaign=yelp_api_v3&utm_medium=api_v3_phone_search&utm_source=xElCeMfmOucjLmXEMhJkIg",
         "885 Northpointe CirNorth Salt Lake, UT 84054; 885 Eagle Point CirNorth Salt Lake, UT 84054; 885 Northpointe CirNorth Salt Lake, UT 84054",
         "Western Union Agent Location; nan; Western Union Agent Location",
         "Western Union; Pilot Travel Centers; Western Union",
         "https://www.yellowpages.com/north-salt-lake-ut/mip/western-union-502909440; https://www.yellowpages.com/north-salt-lake-ut/mip/pilot-travel-centers-537273499; https://www.yellowpages.com/north-salt-lake-ut/mip/western-union-502909440?lid=502909440#gallery",
         "Money Transfer Service, Money Order Service; Truck Stops, Diesel Fuel, Gas Stations; Money Transfer Service, Money Order Service",
         "901 465 4551; 801 936 1457; 901 465 4551",
         "nan; nan; nan",
         "North Salt Lake; North Salt Lake; North Salt Lake",
         "40.83657; 40.82545; 40.83657",
         "-111.93377; -111.899956; -111.93377",
         "Western Union; Pilot Travel Centers; Western Union",
         "(801) 936-1408; (801) 936-1408; (801) 936-1408",
         "UT; UT; UT",
         "885 Northpointe Cir; 885 Eagle Point Cir; 885 Northpointe Cir",
         "84054.0; 84054.0; 84054.0",
         "801-936-1408; 801-936-1408; 801-936-1408",
         "(801) 936-1408Call; (801) 936-1408Call; (801) 936-1408Call",
         "2025-07-07T04:12:22.820Z; 2025-07-07T04:12:26.165Z; 2025-07-07T04:12:29.687Z",
         "https://www.yellowpages.com/search?search_terms=801+936+1408; https://www.yellowpages.com/search?search_terms=801+936+1408; https://www.yellowpages.com/search?search_terms=801+936+1408",
         "nan; nan; nan",
         "https://www.westernunion.com/global-services/find-locations/us/ut/north-salt-lake/1a30c5dc46493dcac9a0e6c181838987; http://www.pilotflyingj.com; https://www.westernunion.com/global-services/find-locations/us/ut/north-salt-lake/1a30c5dc46493dcac9a0e6c181838987",
         "1.933279427510341",
         "Yelp (Phone) vs YellowPages (Phone)",
         "0.0111608790659399",
         "Webscraped vs YellowPages (Phone)",
         "0.0111608790659399",
         "Webscraped vs YellowPages (Phone)",
         "40.8365535",
         "-111.9336655",
         null,
         null,
         null,
         null,
         "40.8365535",
         "-111.9336655",
         null,
         null,
         null,
         null,
         null,
         null
        ],
        [
         "13",
         "ISalt Lake City ( N ) Flying J Fuel Stop # 0500100",
         "801-936-1408 I-215 Exit 28 ( UT 68 )",
         "M <U+2610>",
         null,
         "84054",
         "00",
         "801-936-1408",
         "2007",
         "North Salt Lake",
         "UT",
         null,
         "( UT 68 )",
         "I-215 Exit 28 ",
         "Exit",
         "28",
         "28",
         null,
         "False",
         null,
         "False",
         "I-215",
         null,
         null,
         null,
         null,
         "[872, 420]",
         "[420, 450, 872]",
         "[43, 66, 71, 104, 411, 414, 417, 420, 430, 441, 446, 448, 449, 450, 468, 523, 541, 546, 575, 860, 862, 865, 868, 869, 872, 882, 896, 897, 915]",
         "[18]",
         "[398, 399, 400, 401, 402, 403, 404, 405, 406, 407, 408, 409, 410, 411, 412, 413, 414, 415, 416, 417, 418, 419, 420, 421, 422, 423, 424, 425, 426, 427, 428, 429, 430, 431, 432, 433, 434, 435, 436, 437, 438, 439, 440, 441, 442, 443, 444, 445, 446, 447, 448, 449, 450, 451, 452, 453, 454, 455, 456, 457, 458, 459, 460, 461, 462, 463, 464, 465, 466, 467, 468, 469, 470, 471, 472, 473, 474, 475, 476, 477, 478, 479, 480, 481, 482, 483, 484, 848, 849, 850, 851, 852, 853, 854, 855, 856, 857, 858, 859, 860, 861, 862, 863, 864, 865, 866, 867, 868, 869, 870, 871, 872, 873, 874, 875, 876, 877, 878, 879, 880, 881, 882, 883, 884, 885, 886, 887, 888, 889, 890, 891, 892, 893, 894, 895, 896, 897, 898, 899, 900, 901, 902, 903, 904, 905, 906, 907, 908, 909, 910, 911, 912, 913, 914, 915, 916, 917, 918, 919, 920, 921, 922, 923, 924, 925, 926, 927, 928, 929, 930, 931, 932, 933, 934, 935]",
         "[140, 315, 318, 420, 446, 448, 450, 468, 611, 773, 776, 860, 872, 896, 915]",
         "[]",
         "[]",
         "[916, 917, 523, 918, 919, 18, 920, 921, 541, 922, 546, 923, 924, 43, 925, 926, 927, 928, 575, 66, 929, 71, 930, 931, 932, 933, 934, 935, 611, 104, 140, 442, 773, 776, 315, 318, 848, 849, 850, 851, 852, 853, 854, 855, 856, 857, 858, 859, 860, 861, 862, 863, 864, 865, 866, 867, 868, 869, 870, 871, 872, 873, 874, 875, 876, 877, 878, 879, 880, 881, 882, 883, 884, 885, 886, 887, 888, 889, 890, 891, 892, 893, 894, 895, 896, 897, 898, 899, 900, 901, 902, 903, 904, 905, 906, 907, 908, 909, 398, 399, 400, 401, 402, 915, 403, 404, 405, 406, 407, 408, 409, 411, 410, 412, 414, 413, 415, 417, 416, 418, 420, 419, 421, 422, 423, 424, 425, 426, 427, 428, 430, 429, 431, 432, 433, 434, 435, 436, 437, 438, 439, 441, 440, 443, 444, 445, 446, 447, 448, 449, 450, 451, 452, 453, 454, 455, 456, 457, 458, 459, 460, 461, 462, 463, 464, 465, 466, 467, 468, 469, 470, 471, 472, 473, 474, 475, 476, 477, 478, 479, 480, 481, 482, 483, 484, 910, 911, 912, 913, 914]",
         "[872, 420]",
         "True",
         "[420, 450, 872]",
         "[398, 399, 400, 401, 402, 403, 404, 405, 406, 407, 408, 409, 410, 411, 412, 413, 414, 415, 416, 417, 418, 419, 420, 421, 422, 423, 424, 425, 426, 427, 428, 429, 430, 431, 432, 433, 434, 435, 436, 437, 438, 439, 440, 441, 442, 443, 444, 445, 446, 447, 448, 449, 450, 451, 452, 453, 454, 455, 456, 457, 458, 459, 460, 461, 462, 463, 464, 465, 466, 467, 468, 469, 470, 471, 472, 473, 474, 475, 476, 477, 478, 479, 480, 481, 482, 483, 484, 848, 849, 850, 851, 852, 853, 854, 855, 856, 857, 858, 859, 860, 861, 862, 863, 864, 865, 866, 867, 868, 869, 870, 871, 872, 873, 874, 875, 876, 877, 878, 879, 880, 881, 882, 883, 884, 885, 886, 887, 888, 889, 890, 891, 892, 893, 894, 895, 896, 897, 898, 899, 900, 901, 902, 903, 904, 905, 906, 907, 908, 909, 910, 911, 912, 913, 914, 915, 916, 917, 918, 919, 920, 921, 922, 923, 924, 925, 926, 927, 928, 929, 930, 931, 932, 933, 934, 935]",
         "[43, 66, 71, 104, 411, 414, 417, 420, 430, 441, 446, 448, 449, 450, 468, 523, 541, 546, 575, 860, 862, 865, 868, 869, 872, 882, 896, 897, 915]",
         "[18]",
         "[140, 315, 318, 420, 446, 448, 450, 468, 611, 773, 776, 860, 872, 896, 915]",
         "[]",
         "[]",
         "7/6 successful match",
         "True",
         "[605]",
         "True",
         "3",
         "[6, 7, 8]",
         "True",
         "46; 46",
         "Utah; Utah",
         "FLYING J TRAVEL CENTER #772; FLYING J TRAVEL CENTER #772",
         "http://www.rvandtravelers.com/location_details.php?id=18340; https://www.truckstopsandservices.com/location_details.php?id=18340",
         "RVer; Trucker",
         "flying j; flying j",
         "nan; 40.836537",
         "nan; -111.933561",
         "http://https://pilotflyingj.com/stores/772; https://pilotflyingj.com/stores/772",
         "40.836537; 40.836537",
         "-111.933561; -111.933561",
         "I-215; I-215",
         "27; 27",
         "885 N POINT CIRCLE; 885 N POINT CIRCLE",
         "NORTH SALT LAKE CITY; NORTH SALT LAKE CITY",
         "UT; UT",
         "84054; 84054",
         "801-936-1408 (TRAVEL CENTER); 801-936-1408 (TRAVEL CENTER)",
         "801-936-1457; 801-936-1457",
         "nan; nan",
         "nan; nan",
         "nan; nan",
         "nan; nan",
         "nan; nan",
         "nan; nan",
         "pilotflyingj.com/stores/772; nan",
         "nan; nan",
         "[]",
         null,
         null,
         null,
         null,
         null,
         null,
         null,
         null,
         null,
         null,
         null,
         null,
         null,
         null,
         null,
         null,
         null,
         null,
         null,
         null,
         null,
         null,
         null,
         null,
         null,
         null,
         null,
         "18019361408",
         "Flying J Travel Center",
         "2.4",
         "8.0",
         "885 N Pointe Cir, North Salt Lake, UT 84054",
         "North Salt Lake",
         "UT",
         "84054.0",
         "(801) 936-1408",
         "Gas Stations, Convenience Stores",
         "40.8361748",
         "-111.9341113",
         "$$",
         "False",
         "https://www.yelp.com/biz/flying-j-travel-center-north-salt-lake-3?adjust_creative=xElCeMfmOucjLmXEMhJkIg&utm_campaign=yelp_api_v3&utm_medium=api_v3_phone_search&utm_source=xElCeMfmOucjLmXEMhJkIg",
         "885 Northpointe CirNorth Salt Lake, UT 84054; 885 Eagle Point CirNorth Salt Lake, UT 84054; 885 Northpointe CirNorth Salt Lake, UT 84054",
         "Western Union Agent Location; nan; Western Union Agent Location",
         "Western Union; Pilot Travel Centers; Western Union",
         "https://www.yellowpages.com/north-salt-lake-ut/mip/western-union-502909440; https://www.yellowpages.com/north-salt-lake-ut/mip/pilot-travel-centers-537273499; https://www.yellowpages.com/north-salt-lake-ut/mip/western-union-502909440?lid=502909440#gallery",
         "Money Transfer Service, Money Order Service; Truck Stops, Diesel Fuel, Gas Stations; Money Transfer Service, Money Order Service",
         "901 465 4551; 801 936 1457; 901 465 4551",
         "nan; nan; nan",
         "North Salt Lake; North Salt Lake; North Salt Lake",
         "40.83657; 40.82545; 40.83657",
         "-111.93377; -111.899956; -111.93377",
         "Western Union; Pilot Travel Centers; Western Union",
         "(801) 936-1408; (801) 936-1408; (801) 936-1408",
         "UT; UT; UT",
         "885 Northpointe Cir; 885 Eagle Point Cir; 885 Northpointe Cir",
         "84054.0; 84054.0; 84054.0",
         "801-936-1408; 801-936-1408; 801-936-1408",
         "(801) 936-1408Call; (801) 936-1408Call; (801) 936-1408Call",
         "2025-07-07T04:12:22.820Z; 2025-07-07T04:12:26.165Z; 2025-07-07T04:12:29.687Z",
         "https://www.yellowpages.com/search?search_terms=801+936+1408; https://www.yellowpages.com/search?search_terms=801+936+1408; https://www.yellowpages.com/search?search_terms=801+936+1408",
         "nan; nan; nan",
         "https://www.westernunion.com/global-services/find-locations/us/ut/north-salt-lake/1a30c5dc46493dcac9a0e6c181838987; http://www.pilotflyingj.com; https://www.westernunion.com/global-services/find-locations/us/ut/north-salt-lake/1a30c5dc46493dcac9a0e6c181838987",
         "1.933279427510341",
         "Yelp (Phone) vs YellowPages (Phone)",
         "0.0111608790659399",
         "Webscraped vs YellowPages (Phone)",
         "0.0111608790659399",
         "Webscraped vs YellowPages (Phone)",
         "40.8365535",
         "-111.9336655",
         null,
         null,
         null,
         null,
         "40.8365535",
         "-111.9336655",
         null,
         null,
         null,
         null,
         null,
         null
        ],
        [
         "14",
         "Salt Lake City ( N ) , 84054 Flying J Fuel Stop # 0500100 124",
         "3 801-936-1408 I-215 Exit 28 ( UT 68 )",
         "124 M",
         "Salt Lake City",
         "84054",
         "Flying J Fuel Stop # 0500100 124",
         "801-936-1408",
         "2008",
         "North Salt Lake",
         "UT",
         "Flying J",
         "( UT 68 )",
         "I-215 Exit 28 ",
         "Exit",
         "28",
         "28",
         null,
         "False",
         null,
         "False",
         "I-215",
         null,
         null,
         null,
         null,
         "[872, 420]",
         "[420, 450, 872]",
         "[43, 66, 71, 104, 411, 414, 417, 420, 430, 441, 446, 448, 449, 450, 468, 523, 541, 546, 575, 860, 862, 865, 868, 869, 872, 882, 896, 897, 915]",
         "[18]",
         "[398, 399, 400, 401, 402, 403, 404, 405, 406, 407, 408, 409, 410, 411, 412, 413, 414, 415, 416, 417, 418, 419, 420, 421, 422, 423, 424, 425, 426, 427, 428, 429, 430, 431, 432, 433, 434, 435, 436, 437, 438, 439, 440, 441, 442, 443, 444, 445, 446, 447, 448, 449, 450, 451, 452, 453, 454, 455, 456, 457, 458, 459, 460, 461, 462, 463, 464, 465, 466, 467, 468, 469, 470, 471, 472, 473, 474, 475, 476, 477, 478, 479, 480, 481, 482, 483, 484, 848, 849, 850, 851, 852, 853, 854, 855, 856, 857, 858, 859, 860, 861, 862, 863, 864, 865, 866, 867, 868, 869, 870, 871, 872, 873, 874, 875, 876, 877, 878, 879, 880, 881, 882, 883, 884, 885, 886, 887, 888, 889, 890, 891, 892, 893, 894, 895, 896, 897, 898, 899, 900, 901, 902, 903, 904, 905, 906, 907, 908, 909, 910, 911, 912, 913, 914, 915, 916, 917, 918, 919, 920, 921, 922, 923, 924, 925, 926, 927, 928, 929, 930, 931, 932, 933, 934, 935]",
         "[140, 315, 318, 420, 446, 448, 450, 468, 611, 773, 776, 860, 872, 896, 915]",
         "[17, 18, 19, 20, 21, 22, 23, 156, 157, 158, 159, 160, 161, 162, 163, 164, 165, 166, 167, 341, 342, 343, 344, 345, 412, 413, 414, 415, 416, 417, 418, 419, 420, 421, 422, 502, 503, 504, 505, 506, 507, 628, 629, 630, 631, 632, 633, 634, 635, 636, 637, 638, 639, 792, 797, 798, 799, 800, 801, 863, 864, 865, 866, 867, 868, 869, 870, 871, 872, 873, 874]",
         "[17, 18, 19, 20, 21, 22, 23, 156, 157, 158, 159, 160, 161, 162, 163, 164, 165, 166, 167, 168, 340, 341, 342, 343, 344, 345, 346, 412, 413, 414, 415, 416, 417, 418, 419, 420, 421, 422, 502, 503, 504, 505, 506, 507, 628, 629, 630, 631, 632, 633, 634, 635, 636, 637, 638, 639, 792, 796, 797, 798, 799, 800, 801, 863, 864, 865, 866, 867, 868, 869, 870, 871, 872, 873, 874]",
         "[916, 917, 523, 918, 919, 17, 18, 19, 20, 920, 21, 22, 23, 921, 541, 922, 546, 923, 924, 43, 925, 926, 927, 928, 575, 66, 929, 71, 930, 931, 932, 933, 934, 935, 611, 104, 628, 629, 630, 631, 632, 633, 634, 635, 636, 637, 638, 639, 140, 156, 157, 158, 159, 160, 161, 162, 163, 164, 165, 166, 167, 168, 340, 442, 341, 342, 343, 344, 345, 346, 773, 776, 792, 796, 797, 798, 799, 800, 801, 315, 318, 848, 849, 850, 851, 852, 853, 854, 855, 856, 857, 858, 859, 860, 861, 862, 863, 864, 865, 866, 867, 868, 869, 870, 871, 872, 873, 874, 875, 876, 877, 878, 879, 880, 881, 882, 883, 884, 885, 886, 887, 888, 889, 890, 891, 892, 893, 894, 895, 896, 897, 898, 899, 900, 901, 902, 903, 904, 905, 906, 907, 908, 909, 398, 399, 400, 401, 402, 915, 403, 404, 405, 406, 407, 408, 409, 411, 410, 412, 414, 413, 415, 417, 416, 418, 420, 419, 421, 422, 423, 424, 425, 426, 427, 428, 430, 429, 431, 432, 433, 434, 435, 436, 437, 438, 439, 441, 440, 443, 444, 445, 446, 447, 448, 449, 450, 451, 452, 453, 454, 455, 456, 457, 458, 459, 460, 461, 462, 463, 464, 465, 466, 467, 468, 469, 470, 471, 472, 473, 474, 475, 476, 477, 478, 479, 480, 481, 482, 483, 484, 910, 503, 911, 912, 913, 502, 914, 504, 505, 506, 507]",
         "[872, 420]",
         "True",
         "[420, 450, 872]",
         "[398, 399, 400, 401, 402, 403, 404, 405, 406, 407, 408, 409, 410, 411, 412, 413, 414, 415, 416, 417, 418, 419, 420, 421, 422, 423, 424, 425, 426, 427, 428, 429, 430, 431, 432, 433, 434, 435, 436, 437, 438, 439, 440, 441, 442, 443, 444, 445, 446, 447, 448, 449, 450, 451, 452, 453, 454, 455, 456, 457, 458, 459, 460, 461, 462, 463, 464, 465, 466, 467, 468, 469, 470, 471, 472, 473, 474, 475, 476, 477, 478, 479, 480, 481, 482, 483, 484, 848, 849, 850, 851, 852, 853, 854, 855, 856, 857, 858, 859, 860, 861, 862, 863, 864, 865, 866, 867, 868, 869, 870, 871, 872, 873, 874, 875, 876, 877, 878, 879, 880, 881, 882, 883, 884, 885, 886, 887, 888, 889, 890, 891, 892, 893, 894, 895, 896, 897, 898, 899, 900, 901, 902, 903, 904, 905, 906, 907, 908, 909, 910, 911, 912, 913, 914, 915, 916, 917, 918, 919, 920, 921, 922, 923, 924, 925, 926, 927, 928, 929, 930, 931, 932, 933, 934, 935]",
         "[43, 66, 71, 104, 411, 414, 417, 420, 430, 441, 446, 448, 449, 450, 468, 523, 541, 546, 575, 860, 862, 865, 868, 869, 872, 882, 896, 897, 915]",
         "[18]",
         "[140, 315, 318, 420, 446, 448, 450, 468, 611, 773, 776, 860, 872, 896, 915]",
         "[17, 18, 19, 20, 21, 22, 23, 156, 157, 158, 159, 160, 161, 162, 163, 164, 165, 166, 167, 168, 340, 341, 342, 343, 344, 345, 346, 412, 413, 414, 415, 416, 417, 418, 419, 420, 421, 422, 502, 503, 504, 505, 506, 507, 628, 629, 630, 631, 632, 633, 634, 635, 636, 637, 638, 639, 792, 796, 797, 798, 799, 800, 801, 863, 864, 865, 866, 867, 868, 869, 870, 871, 872, 873, 874]",
         "[17, 18, 19, 20, 21, 22, 23, 156, 157, 158, 159, 160, 161, 162, 163, 164, 165, 166, 167, 341, 342, 343, 344, 345, 412, 413, 414, 415, 416, 417, 418, 419, 420, 421, 422, 502, 503, 504, 505, 506, 507, 628, 629, 630, 631, 632, 633, 634, 635, 636, 637, 638, 639, 792, 797, 798, 799, 800, 801, 863, 864, 865, 866, 867, 868, 869, 870, 871, 872, 873, 874]",
         "7/6 successful match",
         "True",
         "[605]",
         "True",
         "3",
         "[6, 7, 8]",
         "True",
         "46; 46",
         "Utah; Utah",
         "FLYING J TRAVEL CENTER #772; FLYING J TRAVEL CENTER #772",
         "http://www.rvandtravelers.com/location_details.php?id=18340; https://www.truckstopsandservices.com/location_details.php?id=18340",
         "RVer; Trucker",
         "flying j; flying j",
         "nan; 40.836537",
         "nan; -111.933561",
         "http://https://pilotflyingj.com/stores/772; https://pilotflyingj.com/stores/772",
         "40.836537; 40.836537",
         "-111.933561; -111.933561",
         "I-215; I-215",
         "27; 27",
         "885 N POINT CIRCLE; 885 N POINT CIRCLE",
         "NORTH SALT LAKE CITY; NORTH SALT LAKE CITY",
         "UT; UT",
         "84054; 84054",
         "801-936-1408 (TRAVEL CENTER); 801-936-1408 (TRAVEL CENTER)",
         "801-936-1457; 801-936-1457",
         "nan; nan",
         "nan; nan",
         "nan; nan",
         "nan; nan",
         "nan; nan",
         "nan; nan",
         "pilotflyingj.com/stores/772; nan",
         "nan; nan",
         "[420, 872]",
         "46; 46",
         "Utah; Utah",
         "FLYING J TRAVEL CENTER #772; FLYING J TRAVEL CENTER #772",
         "https://www.truckstopsandservices.com/location_details.php?id=18340; http://www.rvandtravelers.com/location_details.php?id=18340",
         "Trucker; RVer",
         "flying j; flying j",
         "40.836537; nan",
         "-111.933561; nan",
         "https://pilotflyingj.com/stores/772; http://https://pilotflyingj.com/stores/772",
         "40.836537; 40.836537",
         "-111.933561; -111.933561",
         "I-215; I-215",
         "27; 27",
         "885 N POINT CIRCLE; 885 N POINT CIRCLE",
         "NORTH SALT LAKE CITY; NORTH SALT LAKE CITY",
         "UT; UT",
         "84054; 84054",
         "801-936-1408 (TRAVEL CENTER); 801-936-1408 (TRAVEL CENTER)",
         "801-936-1457; 801-936-1457",
         "nan; nan",
         "nan; nan",
         "nan; nan",
         "nan; nan",
         "nan; nan",
         "nan; nan",
         "nan; pilotflyingj.com/stores/772",
         "nan; nan",
         "18019361408",
         "Flying J Travel Center",
         "2.4",
         "8.0",
         "885 N Pointe Cir, North Salt Lake, UT 84054",
         "North Salt Lake",
         "UT",
         "84054.0",
         "(801) 936-1408",
         "Gas Stations, Convenience Stores",
         "40.8361748",
         "-111.9341113",
         "$$",
         "False",
         "https://www.yelp.com/biz/flying-j-travel-center-north-salt-lake-3?adjust_creative=xElCeMfmOucjLmXEMhJkIg&utm_campaign=yelp_api_v3&utm_medium=api_v3_phone_search&utm_source=xElCeMfmOucjLmXEMhJkIg",
         "885 Northpointe CirNorth Salt Lake, UT 84054; 885 Eagle Point CirNorth Salt Lake, UT 84054; 885 Northpointe CirNorth Salt Lake, UT 84054",
         "Western Union Agent Location; nan; Western Union Agent Location",
         "Western Union; Pilot Travel Centers; Western Union",
         "https://www.yellowpages.com/north-salt-lake-ut/mip/western-union-502909440; https://www.yellowpages.com/north-salt-lake-ut/mip/pilot-travel-centers-537273499; https://www.yellowpages.com/north-salt-lake-ut/mip/western-union-502909440?lid=502909440#gallery",
         "Money Transfer Service, Money Order Service; Truck Stops, Diesel Fuel, Gas Stations; Money Transfer Service, Money Order Service",
         "901 465 4551; 801 936 1457; 901 465 4551",
         "nan; nan; nan",
         "North Salt Lake; North Salt Lake; North Salt Lake",
         "40.83657; 40.82545; 40.83657",
         "-111.93377; -111.899956; -111.93377",
         "Western Union; Pilot Travel Centers; Western Union",
         "(801) 936-1408; (801) 936-1408; (801) 936-1408",
         "UT; UT; UT",
         "885 Northpointe Cir; 885 Eagle Point Cir; 885 Northpointe Cir",
         "84054.0; 84054.0; 84054.0",
         "801-936-1408; 801-936-1408; 801-936-1408",
         "(801) 936-1408Call; (801) 936-1408Call; (801) 936-1408Call",
         "2025-07-07T04:12:22.820Z; 2025-07-07T04:12:26.165Z; 2025-07-07T04:12:29.687Z",
         "https://www.yellowpages.com/search?search_terms=801+936+1408; https://www.yellowpages.com/search?search_terms=801+936+1408; https://www.yellowpages.com/search?search_terms=801+936+1408",
         "nan; nan; nan",
         "https://www.westernunion.com/global-services/find-locations/us/ut/north-salt-lake/1a30c5dc46493dcac9a0e6c181838987; http://www.pilotflyingj.com; https://www.westernunion.com/global-services/find-locations/us/ut/north-salt-lake/1a30c5dc46493dcac9a0e6c181838987",
         "1.933279427510341",
         "Yelp (Phone) vs YellowPages (Phone)",
         "0.0111608790659399",
         "Webscraped vs YellowPages (Phone)",
         "0.0111608790659399",
         "Webscraped vs YellowPages (Phone)",
         "40.8365535",
         "-111.9336655",
         null,
         null,
         null,
         null,
         "40.8365535",
         "-111.9336655",
         null,
         null,
         null,
         null,
         null,
         null
        ],
        [
         "15",
         "D Salt Lake City ( North ) ( 84054 ) Flying J Fuel Stop # 772",
         "3 801-936-1408 I-215 Exit 27 ( UT 68 N )",
         "24 M",
         "Salt Lake City",
         "84054",
         "Flying J Fuel Stop # 772",
         "801-936-1408",
         "2014",
         "North Salt Lake",
         "UT",
         "Flying J",
         "( UT 68 N )",
         "I-215 Exit 27 ",
         "Exit",
         "27",
         "27",
         null,
         "False",
         null,
         "False",
         "I-215",
         null,
         null,
         null,
         null,
         "[872, 420]",
         "[420, 450, 872]",
         "[43, 66, 71, 104, 411, 414, 417, 420, 430, 441, 446, 448, 449, 450, 468, 523, 541, 546, 575, 860, 862, 865, 868, 869, 872, 882, 896, 897, 915]",
         "[420, 450, 872]",
         "[398, 399, 400, 401, 402, 403, 404, 405, 406, 407, 408, 409, 410, 411, 412, 413, 414, 415, 416, 417, 418, 419, 420, 421, 422, 423, 424, 425, 426, 427, 428, 429, 430, 431, 432, 433, 434, 435, 436, 437, 438, 439, 440, 441, 442, 443, 444, 445, 446, 447, 448, 449, 450, 451, 452, 453, 454, 455, 456, 457, 458, 459, 460, 461, 462, 463, 464, 465, 466, 467, 468, 469, 470, 471, 472, 473, 474, 475, 476, 477, 478, 479, 480, 481, 482, 483, 484, 848, 849, 850, 851, 852, 853, 854, 855, 856, 857, 858, 859, 860, 861, 862, 863, 864, 865, 866, 867, 868, 869, 870, 871, 872, 873, 874, 875, 876, 877, 878, 879, 880, 881, 882, 883, 884, 885, 886, 887, 888, 889, 890, 891, 892, 893, 894, 895, 896, 897, 898, 899, 900, 901, 902, 903, 904, 905, 906, 907, 908, 909, 910, 911, 912, 913, 914, 915, 916, 917, 918, 919, 920, 921, 922, 923, 924, 925, 926, 927, 928, 929, 930, 931, 932, 933, 934, 935]",
         "[140, 315, 318, 420, 446, 448, 450, 468, 611, 773, 776, 860, 872, 896, 915]",
         "[17, 18, 19, 20, 21, 22, 23, 156, 157, 158, 159, 160, 161, 162, 163, 164, 165, 166, 167, 341, 342, 343, 344, 345, 412, 413, 414, 415, 416, 417, 418, 419, 420, 421, 422, 502, 503, 504, 505, 506, 507, 628, 629, 630, 631, 632, 633, 634, 635, 636, 637, 638, 639, 792, 797, 798, 799, 800, 801, 863, 864, 865, 866, 867, 868, 869, 870, 871, 872, 873, 874]",
         "[17, 18, 19, 20, 21, 22, 23, 156, 157, 158, 159, 160, 161, 162, 163, 164, 165, 166, 167, 168, 340, 341, 342, 343, 344, 345, 346, 412, 413, 414, 415, 416, 417, 418, 419, 420, 421, 422, 502, 503, 504, 505, 506, 507, 628, 629, 630, 631, 632, 633, 634, 635, 636, 637, 638, 639, 792, 796, 797, 798, 799, 800, 801, 863, 864, 865, 866, 867, 868, 869, 870, 871, 872, 873, 874]",
         "[916, 917, 523, 918, 919, 17, 18, 19, 20, 920, 21, 22, 23, 921, 541, 922, 546, 923, 924, 43, 925, 926, 927, 928, 575, 66, 929, 71, 930, 931, 932, 933, 934, 935, 611, 104, 628, 629, 630, 631, 632, 633, 634, 635, 636, 637, 638, 639, 140, 156, 157, 158, 159, 160, 161, 162, 163, 164, 165, 166, 167, 168, 340, 442, 341, 342, 343, 344, 345, 346, 773, 776, 792, 796, 797, 798, 799, 800, 801, 315, 318, 848, 849, 850, 851, 852, 853, 854, 855, 856, 857, 858, 859, 860, 861, 862, 863, 864, 865, 866, 867, 868, 869, 870, 871, 872, 873, 874, 875, 876, 877, 878, 879, 880, 881, 882, 883, 884, 885, 886, 887, 888, 889, 890, 891, 892, 893, 894, 895, 896, 897, 898, 899, 900, 901, 902, 903, 904, 905, 906, 907, 908, 909, 398, 399, 400, 401, 402, 915, 403, 404, 405, 406, 407, 408, 409, 411, 410, 412, 414, 413, 415, 417, 416, 418, 420, 419, 421, 422, 423, 424, 425, 426, 427, 428, 430, 429, 431, 432, 433, 434, 435, 436, 437, 438, 439, 441, 440, 443, 444, 445, 446, 447, 448, 449, 450, 451, 452, 453, 454, 455, 456, 457, 458, 459, 460, 461, 462, 463, 464, 465, 466, 467, 468, 469, 470, 471, 472, 473, 474, 475, 476, 477, 478, 479, 480, 481, 482, 483, 484, 910, 503, 911, 912, 913, 502, 914, 504, 505, 506, 507]",
         "[872, 420]",
         "True",
         "[420, 450, 872]",
         "[398, 399, 400, 401, 402, 403, 404, 405, 406, 407, 408, 409, 410, 411, 412, 413, 414, 415, 416, 417, 418, 419, 420, 421, 422, 423, 424, 425, 426, 427, 428, 429, 430, 431, 432, 433, 434, 435, 436, 437, 438, 439, 440, 441, 442, 443, 444, 445, 446, 447, 448, 449, 450, 451, 452, 453, 454, 455, 456, 457, 458, 459, 460, 461, 462, 463, 464, 465, 466, 467, 468, 469, 470, 471, 472, 473, 474, 475, 476, 477, 478, 479, 480, 481, 482, 483, 484, 848, 849, 850, 851, 852, 853, 854, 855, 856, 857, 858, 859, 860, 861, 862, 863, 864, 865, 866, 867, 868, 869, 870, 871, 872, 873, 874, 875, 876, 877, 878, 879, 880, 881, 882, 883, 884, 885, 886, 887, 888, 889, 890, 891, 892, 893, 894, 895, 896, 897, 898, 899, 900, 901, 902, 903, 904, 905, 906, 907, 908, 909, 910, 911, 912, 913, 914, 915, 916, 917, 918, 919, 920, 921, 922, 923, 924, 925, 926, 927, 928, 929, 930, 931, 932, 933, 934, 935]",
         "[43, 66, 71, 104, 411, 414, 417, 420, 430, 441, 446, 448, 449, 450, 468, 523, 541, 546, 575, 860, 862, 865, 868, 869, 872, 882, 896, 897, 915]",
         "[420, 450, 872]",
         "[140, 315, 318, 420, 446, 448, 450, 468, 611, 773, 776, 860, 872, 896, 915]",
         "[17, 18, 19, 20, 21, 22, 23, 156, 157, 158, 159, 160, 161, 162, 163, 164, 165, 166, 167, 168, 340, 341, 342, 343, 344, 345, 346, 412, 413, 414, 415, 416, 417, 418, 419, 420, 421, 422, 502, 503, 504, 505, 506, 507, 628, 629, 630, 631, 632, 633, 634, 635, 636, 637, 638, 639, 792, 796, 797, 798, 799, 800, 801, 863, 864, 865, 866, 867, 868, 869, 870, 871, 872, 873, 874]",
         "[17, 18, 19, 20, 21, 22, 23, 156, 157, 158, 159, 160, 161, 162, 163, 164, 165, 166, 167, 341, 342, 343, 344, 345, 412, 413, 414, 415, 416, 417, 418, 419, 420, 421, 422, 502, 503, 504, 505, 506, 507, 628, 629, 630, 631, 632, 633, 634, 635, 636, 637, 638, 639, 792, 797, 798, 799, 800, 801, 863, 864, 865, 866, 867, 868, 869, 870, 871, 872, 873, 874]",
         "7/6 successful match",
         "True",
         "[605]",
         "True",
         "3",
         "[6, 7, 8]",
         "True",
         "46; 46",
         "Utah; Utah",
         "FLYING J TRAVEL CENTER #772; FLYING J TRAVEL CENTER #772",
         "http://www.rvandtravelers.com/location_details.php?id=18340; https://www.truckstopsandservices.com/location_details.php?id=18340",
         "RVer; Trucker",
         "flying j; flying j",
         "nan; 40.836537",
         "nan; -111.933561",
         "http://https://pilotflyingj.com/stores/772; https://pilotflyingj.com/stores/772",
         "40.836537; 40.836537",
         "-111.933561; -111.933561",
         "I-215; I-215",
         "27; 27",
         "885 N POINT CIRCLE; 885 N POINT CIRCLE",
         "NORTH SALT LAKE CITY; NORTH SALT LAKE CITY",
         "UT; UT",
         "84054; 84054",
         "801-936-1408 (TRAVEL CENTER); 801-936-1408 (TRAVEL CENTER)",
         "801-936-1457; 801-936-1457",
         "nan; nan",
         "nan; nan",
         "nan; nan",
         "nan; nan",
         "nan; nan",
         "nan; nan",
         "pilotflyingj.com/stores/772; nan",
         "nan; nan",
         "[420, 872]",
         "46; 46",
         "Utah; Utah",
         "FLYING J TRAVEL CENTER #772; FLYING J TRAVEL CENTER #772",
         "https://www.truckstopsandservices.com/location_details.php?id=18340; http://www.rvandtravelers.com/location_details.php?id=18340",
         "Trucker; RVer",
         "flying j; flying j",
         "40.836537; nan",
         "-111.933561; nan",
         "https://pilotflyingj.com/stores/772; http://https://pilotflyingj.com/stores/772",
         "40.836537; 40.836537",
         "-111.933561; -111.933561",
         "I-215; I-215",
         "27; 27",
         "885 N POINT CIRCLE; 885 N POINT CIRCLE",
         "NORTH SALT LAKE CITY; NORTH SALT LAKE CITY",
         "UT; UT",
         "84054; 84054",
         "801-936-1408 (TRAVEL CENTER); 801-936-1408 (TRAVEL CENTER)",
         "801-936-1457; 801-936-1457",
         "nan; nan",
         "nan; nan",
         "nan; nan",
         "nan; nan",
         "nan; nan",
         "nan; nan",
         "nan; pilotflyingj.com/stores/772",
         "nan; nan",
         "18019361408",
         "Flying J Travel Center",
         "2.4",
         "8.0",
         "885 N Pointe Cir, North Salt Lake, UT 84054",
         "North Salt Lake",
         "UT",
         "84054.0",
         "(801) 936-1408",
         "Gas Stations, Convenience Stores",
         "40.8361748",
         "-111.9341113",
         "$$",
         "False",
         "https://www.yelp.com/biz/flying-j-travel-center-north-salt-lake-3?adjust_creative=xElCeMfmOucjLmXEMhJkIg&utm_campaign=yelp_api_v3&utm_medium=api_v3_phone_search&utm_source=xElCeMfmOucjLmXEMhJkIg",
         "885 Northpointe CirNorth Salt Lake, UT 84054; 885 Eagle Point CirNorth Salt Lake, UT 84054; 885 Northpointe CirNorth Salt Lake, UT 84054",
         "Western Union Agent Location; nan; Western Union Agent Location",
         "Western Union; Pilot Travel Centers; Western Union",
         "https://www.yellowpages.com/north-salt-lake-ut/mip/western-union-502909440; https://www.yellowpages.com/north-salt-lake-ut/mip/pilot-travel-centers-537273499; https://www.yellowpages.com/north-salt-lake-ut/mip/western-union-502909440?lid=502909440#gallery",
         "Money Transfer Service, Money Order Service; Truck Stops, Diesel Fuel, Gas Stations; Money Transfer Service, Money Order Service",
         "901 465 4551; 801 936 1457; 901 465 4551",
         "nan; nan; nan",
         "North Salt Lake; North Salt Lake; North Salt Lake",
         "40.83657; 40.82545; 40.83657",
         "-111.93377; -111.899956; -111.93377",
         "Western Union; Pilot Travel Centers; Western Union",
         "(801) 936-1408; (801) 936-1408; (801) 936-1408",
         "UT; UT; UT",
         "885 Northpointe Cir; 885 Eagle Point Cir; 885 Northpointe Cir",
         "84054.0; 84054.0; 84054.0",
         "801-936-1408; 801-936-1408; 801-936-1408",
         "(801) 936-1408Call; (801) 936-1408Call; (801) 936-1408Call",
         "2025-07-07T04:12:22.820Z; 2025-07-07T04:12:26.165Z; 2025-07-07T04:12:29.687Z",
         "https://www.yellowpages.com/search?search_terms=801+936+1408; https://www.yellowpages.com/search?search_terms=801+936+1408; https://www.yellowpages.com/search?search_terms=801+936+1408",
         "nan; nan; nan",
         "https://www.westernunion.com/global-services/find-locations/us/ut/north-salt-lake/1a30c5dc46493dcac9a0e6c181838987; http://www.pilotflyingj.com; https://www.westernunion.com/global-services/find-locations/us/ut/north-salt-lake/1a30c5dc46493dcac9a0e6c181838987",
         "1.933279427510341",
         "Yelp (Phone) vs YellowPages (Phone)",
         "0.0111608790659399",
         "Webscraped vs YellowPages (Phone)",
         "0.0111608790659399",
         "Webscraped vs YellowPages (Phone)",
         "40.8365535",
         "-111.9336655",
         null,
         null,
         null,
         null,
         "40.8365535",
         "-111.9336655",
         null,
         null,
         null,
         null,
         null,
         null
        ],
        [
         "16",
         "Salt Lake City ( N ) ( 84054 ) Flying J Fuel Stop # 772",
         "801-936-1408 I-215 Exit 27 ( UT 68 N ) FLYING J",
         "FLYING J 24 DOMO",
         "Salt Lake City",
         "84054",
         "Flying J Fuel Stop # 772",
         "801-936-1408",
         "2015",
         "North Salt Lake",
         "UT",
         "Flying J",
         "( UT 68 N ) FLYING J",
         "I-215 Exit 27 ",
         "Exit",
         "27",
         "27",
         null,
         "False",
         null,
         "False",
         "I-215",
         null,
         null,
         null,
         null,
         "[872, 420]",
         "[420, 450, 872]",
         "[43, 66, 71, 104, 411, 414, 417, 420, 430, 441, 446, 448, 449, 450, 468, 523, 541, 546, 575, 860, 862, 865, 868, 869, 872, 882, 896, 897, 915]",
         "[420, 450, 872]",
         "[398, 399, 400, 401, 402, 403, 404, 405, 406, 407, 408, 409, 410, 411, 412, 413, 414, 415, 416, 417, 418, 419, 420, 421, 422, 423, 424, 425, 426, 427, 428, 429, 430, 431, 432, 433, 434, 435, 436, 437, 438, 439, 440, 441, 442, 443, 444, 445, 446, 447, 448, 449, 450, 451, 452, 453, 454, 455, 456, 457, 458, 459, 460, 461, 462, 463, 464, 465, 466, 467, 468, 469, 470, 471, 472, 473, 474, 475, 476, 477, 478, 479, 480, 481, 482, 483, 484, 848, 849, 850, 851, 852, 853, 854, 855, 856, 857, 858, 859, 860, 861, 862, 863, 864, 865, 866, 867, 868, 869, 870, 871, 872, 873, 874, 875, 876, 877, 878, 879, 880, 881, 882, 883, 884, 885, 886, 887, 888, 889, 890, 891, 892, 893, 894, 895, 896, 897, 898, 899, 900, 901, 902, 903, 904, 905, 906, 907, 908, 909, 910, 911, 912, 913, 914, 915, 916, 917, 918, 919, 920, 921, 922, 923, 924, 925, 926, 927, 928, 929, 930, 931, 932, 933, 934, 935]",
         "[140, 315, 318, 420, 446, 448, 450, 468, 611, 773, 776, 860, 872, 896, 915]",
         "[17, 18, 19, 20, 21, 22, 23, 156, 157, 158, 159, 160, 161, 162, 163, 164, 165, 166, 167, 341, 342, 343, 344, 345, 412, 413, 414, 415, 416, 417, 418, 419, 420, 421, 422, 502, 503, 504, 505, 506, 507, 628, 629, 630, 631, 632, 633, 634, 635, 636, 637, 638, 639, 792, 797, 798, 799, 800, 801, 863, 864, 865, 866, 867, 868, 869, 870, 871, 872, 873, 874]",
         "[17, 18, 19, 20, 21, 22, 23, 156, 157, 158, 159, 160, 161, 162, 163, 164, 165, 166, 167, 168, 340, 341, 342, 343, 344, 345, 346, 412, 413, 414, 415, 416, 417, 418, 419, 420, 421, 422, 502, 503, 504, 505, 506, 507, 628, 629, 630, 631, 632, 633, 634, 635, 636, 637, 638, 639, 792, 796, 797, 798, 799, 800, 801, 863, 864, 865, 866, 867, 868, 869, 870, 871, 872, 873, 874]",
         "[916, 917, 523, 918, 919, 17, 18, 19, 20, 920, 21, 22, 23, 921, 541, 922, 546, 923, 924, 43, 925, 926, 927, 928, 575, 66, 929, 71, 930, 931, 932, 933, 934, 935, 611, 104, 628, 629, 630, 631, 632, 633, 634, 635, 636, 637, 638, 639, 140, 156, 157, 158, 159, 160, 161, 162, 163, 164, 165, 166, 167, 168, 340, 442, 341, 342, 343, 344, 345, 346, 773, 776, 792, 796, 797, 798, 799, 800, 801, 315, 318, 848, 849, 850, 851, 852, 853, 854, 855, 856, 857, 858, 859, 860, 861, 862, 863, 864, 865, 866, 867, 868, 869, 870, 871, 872, 873, 874, 875, 876, 877, 878, 879, 880, 881, 882, 883, 884, 885, 886, 887, 888, 889, 890, 891, 892, 893, 894, 895, 896, 897, 898, 899, 900, 901, 902, 903, 904, 905, 906, 907, 908, 909, 398, 399, 400, 401, 402, 915, 403, 404, 405, 406, 407, 408, 409, 411, 410, 412, 414, 413, 415, 417, 416, 418, 420, 419, 421, 422, 423, 424, 425, 426, 427, 428, 430, 429, 431, 432, 433, 434, 435, 436, 437, 438, 439, 441, 440, 443, 444, 445, 446, 447, 448, 449, 450, 451, 452, 453, 454, 455, 456, 457, 458, 459, 460, 461, 462, 463, 464, 465, 466, 467, 468, 469, 470, 471, 472, 473, 474, 475, 476, 477, 478, 479, 480, 481, 482, 483, 484, 910, 503, 911, 912, 913, 502, 914, 504, 505, 506, 507]",
         "[872, 420]",
         "True",
         "[420, 450, 872]",
         "[398, 399, 400, 401, 402, 403, 404, 405, 406, 407, 408, 409, 410, 411, 412, 413, 414, 415, 416, 417, 418, 419, 420, 421, 422, 423, 424, 425, 426, 427, 428, 429, 430, 431, 432, 433, 434, 435, 436, 437, 438, 439, 440, 441, 442, 443, 444, 445, 446, 447, 448, 449, 450, 451, 452, 453, 454, 455, 456, 457, 458, 459, 460, 461, 462, 463, 464, 465, 466, 467, 468, 469, 470, 471, 472, 473, 474, 475, 476, 477, 478, 479, 480, 481, 482, 483, 484, 848, 849, 850, 851, 852, 853, 854, 855, 856, 857, 858, 859, 860, 861, 862, 863, 864, 865, 866, 867, 868, 869, 870, 871, 872, 873, 874, 875, 876, 877, 878, 879, 880, 881, 882, 883, 884, 885, 886, 887, 888, 889, 890, 891, 892, 893, 894, 895, 896, 897, 898, 899, 900, 901, 902, 903, 904, 905, 906, 907, 908, 909, 910, 911, 912, 913, 914, 915, 916, 917, 918, 919, 920, 921, 922, 923, 924, 925, 926, 927, 928, 929, 930, 931, 932, 933, 934, 935]",
         "[43, 66, 71, 104, 411, 414, 417, 420, 430, 441, 446, 448, 449, 450, 468, 523, 541, 546, 575, 860, 862, 865, 868, 869, 872, 882, 896, 897, 915]",
         "[420, 450, 872]",
         "[140, 315, 318, 420, 446, 448, 450, 468, 611, 773, 776, 860, 872, 896, 915]",
         "[17, 18, 19, 20, 21, 22, 23, 156, 157, 158, 159, 160, 161, 162, 163, 164, 165, 166, 167, 168, 340, 341, 342, 343, 344, 345, 346, 412, 413, 414, 415, 416, 417, 418, 419, 420, 421, 422, 502, 503, 504, 505, 506, 507, 628, 629, 630, 631, 632, 633, 634, 635, 636, 637, 638, 639, 792, 796, 797, 798, 799, 800, 801, 863, 864, 865, 866, 867, 868, 869, 870, 871, 872, 873, 874]",
         "[17, 18, 19, 20, 21, 22, 23, 156, 157, 158, 159, 160, 161, 162, 163, 164, 165, 166, 167, 341, 342, 343, 344, 345, 412, 413, 414, 415, 416, 417, 418, 419, 420, 421, 422, 502, 503, 504, 505, 506, 507, 628, 629, 630, 631, 632, 633, 634, 635, 636, 637, 638, 639, 792, 797, 798, 799, 800, 801, 863, 864, 865, 866, 867, 868, 869, 870, 871, 872, 873, 874]",
         "7/6 successful match",
         "True",
         "[605]",
         "True",
         "3",
         "[6, 7, 8]",
         "True",
         "46; 46",
         "Utah; Utah",
         "FLYING J TRAVEL CENTER #772; FLYING J TRAVEL CENTER #772",
         "http://www.rvandtravelers.com/location_details.php?id=18340; https://www.truckstopsandservices.com/location_details.php?id=18340",
         "RVer; Trucker",
         "flying j; flying j",
         "nan; 40.836537",
         "nan; -111.933561",
         "http://https://pilotflyingj.com/stores/772; https://pilotflyingj.com/stores/772",
         "40.836537; 40.836537",
         "-111.933561; -111.933561",
         "I-215; I-215",
         "27; 27",
         "885 N POINT CIRCLE; 885 N POINT CIRCLE",
         "NORTH SALT LAKE CITY; NORTH SALT LAKE CITY",
         "UT; UT",
         "84054; 84054",
         "801-936-1408 (TRAVEL CENTER); 801-936-1408 (TRAVEL CENTER)",
         "801-936-1457; 801-936-1457",
         "nan; nan",
         "nan; nan",
         "nan; nan",
         "nan; nan",
         "nan; nan",
         "nan; nan",
         "pilotflyingj.com/stores/772; nan",
         "nan; nan",
         "[420, 872]",
         "46; 46",
         "Utah; Utah",
         "FLYING J TRAVEL CENTER #772; FLYING J TRAVEL CENTER #772",
         "https://www.truckstopsandservices.com/location_details.php?id=18340; http://www.rvandtravelers.com/location_details.php?id=18340",
         "Trucker; RVer",
         "flying j; flying j",
         "40.836537; nan",
         "-111.933561; nan",
         "https://pilotflyingj.com/stores/772; http://https://pilotflyingj.com/stores/772",
         "40.836537; 40.836537",
         "-111.933561; -111.933561",
         "I-215; I-215",
         "27; 27",
         "885 N POINT CIRCLE; 885 N POINT CIRCLE",
         "NORTH SALT LAKE CITY; NORTH SALT LAKE CITY",
         "UT; UT",
         "84054; 84054",
         "801-936-1408 (TRAVEL CENTER); 801-936-1408 (TRAVEL CENTER)",
         "801-936-1457; 801-936-1457",
         "nan; nan",
         "nan; nan",
         "nan; nan",
         "nan; nan",
         "nan; nan",
         "nan; nan",
         "nan; pilotflyingj.com/stores/772",
         "nan; nan",
         "18019361408",
         "Flying J Travel Center",
         "2.4",
         "8.0",
         "885 N Pointe Cir, North Salt Lake, UT 84054",
         "North Salt Lake",
         "UT",
         "84054.0",
         "(801) 936-1408",
         "Gas Stations, Convenience Stores",
         "40.8361748",
         "-111.9341113",
         "$$",
         "False",
         "https://www.yelp.com/biz/flying-j-travel-center-north-salt-lake-3?adjust_creative=xElCeMfmOucjLmXEMhJkIg&utm_campaign=yelp_api_v3&utm_medium=api_v3_phone_search&utm_source=xElCeMfmOucjLmXEMhJkIg",
         "885 Northpointe CirNorth Salt Lake, UT 84054; 885 Eagle Point CirNorth Salt Lake, UT 84054; 885 Northpointe CirNorth Salt Lake, UT 84054",
         "Western Union Agent Location; nan; Western Union Agent Location",
         "Western Union; Pilot Travel Centers; Western Union",
         "https://www.yellowpages.com/north-salt-lake-ut/mip/western-union-502909440; https://www.yellowpages.com/north-salt-lake-ut/mip/pilot-travel-centers-537273499; https://www.yellowpages.com/north-salt-lake-ut/mip/western-union-502909440?lid=502909440#gallery",
         "Money Transfer Service, Money Order Service; Truck Stops, Diesel Fuel, Gas Stations; Money Transfer Service, Money Order Service",
         "901 465 4551; 801 936 1457; 901 465 4551",
         "nan; nan; nan",
         "North Salt Lake; North Salt Lake; North Salt Lake",
         "40.83657; 40.82545; 40.83657",
         "-111.93377; -111.899956; -111.93377",
         "Western Union; Pilot Travel Centers; Western Union",
         "(801) 936-1408; (801) 936-1408; (801) 936-1408",
         "UT; UT; UT",
         "885 Northpointe Cir; 885 Eagle Point Cir; 885 Northpointe Cir",
         "84054.0; 84054.0; 84054.0",
         "801-936-1408; 801-936-1408; 801-936-1408",
         "(801) 936-1408Call; (801) 936-1408Call; (801) 936-1408Call",
         "2025-07-07T04:12:22.820Z; 2025-07-07T04:12:26.165Z; 2025-07-07T04:12:29.687Z",
         "https://www.yellowpages.com/search?search_terms=801+936+1408; https://www.yellowpages.com/search?search_terms=801+936+1408; https://www.yellowpages.com/search?search_terms=801+936+1408",
         "nan; nan; nan",
         "https://www.westernunion.com/global-services/find-locations/us/ut/north-salt-lake/1a30c5dc46493dcac9a0e6c181838987; http://www.pilotflyingj.com; https://www.westernunion.com/global-services/find-locations/us/ut/north-salt-lake/1a30c5dc46493dcac9a0e6c181838987",
         "1.933279427510341",
         "Yelp (Phone) vs YellowPages (Phone)",
         "0.0111608790659399",
         "Webscraped vs YellowPages (Phone)",
         "0.0111608790659399",
         "Webscraped vs YellowPages (Phone)",
         "40.8365535",
         "-111.9336655",
         null,
         null,
         null,
         null,
         "40.8365535",
         "-111.9336655",
         null,
         null,
         null,
         null,
         null,
         null
        ],
        [
         "17",
         "Salt Lake City ( N ) ( 84054 ) Flying J Fuel Stop # 772",
         "801-936-1408 I-215 Exit 27 ( UT 68 N ) FLYING",
         "FLYING J 24",
         "Salt Lake City",
         "84054",
         "Flying J Fuel Stop # 772",
         "801-936-1408",
         "2016",
         "North Salt Lake",
         "UT",
         "Flying J",
         "( UT 68 N ) FLYING",
         "I-215 Exit 27 ",
         "Exit",
         "27",
         "27",
         null,
         "False",
         null,
         "False",
         "I-215",
         null,
         null,
         null,
         null,
         "[872, 420]",
         "[420, 450, 872]",
         "[43, 66, 71, 104, 411, 414, 417, 420, 430, 441, 446, 448, 449, 450, 468, 523, 541, 546, 575, 860, 862, 865, 868, 869, 872, 882, 896, 897, 915]",
         "[420, 450, 872]",
         "[398, 399, 400, 401, 402, 403, 404, 405, 406, 407, 408, 409, 410, 411, 412, 413, 414, 415, 416, 417, 418, 419, 420, 421, 422, 423, 424, 425, 426, 427, 428, 429, 430, 431, 432, 433, 434, 435, 436, 437, 438, 439, 440, 441, 442, 443, 444, 445, 446, 447, 448, 449, 450, 451, 452, 453, 454, 455, 456, 457, 458, 459, 460, 461, 462, 463, 464, 465, 466, 467, 468, 469, 470, 471, 472, 473, 474, 475, 476, 477, 478, 479, 480, 481, 482, 483, 484, 848, 849, 850, 851, 852, 853, 854, 855, 856, 857, 858, 859, 860, 861, 862, 863, 864, 865, 866, 867, 868, 869, 870, 871, 872, 873, 874, 875, 876, 877, 878, 879, 880, 881, 882, 883, 884, 885, 886, 887, 888, 889, 890, 891, 892, 893, 894, 895, 896, 897, 898, 899, 900, 901, 902, 903, 904, 905, 906, 907, 908, 909, 910, 911, 912, 913, 914, 915, 916, 917, 918, 919, 920, 921, 922, 923, 924, 925, 926, 927, 928, 929, 930, 931, 932, 933, 934, 935]",
         "[140, 315, 318, 420, 446, 448, 450, 468, 611, 773, 776, 860, 872, 896, 915]",
         "[17, 18, 19, 20, 21, 22, 23, 156, 157, 158, 159, 160, 161, 162, 163, 164, 165, 166, 167, 341, 342, 343, 344, 345, 412, 413, 414, 415, 416, 417, 418, 419, 420, 421, 422, 502, 503, 504, 505, 506, 507, 628, 629, 630, 631, 632, 633, 634, 635, 636, 637, 638, 639, 792, 797, 798, 799, 800, 801, 863, 864, 865, 866, 867, 868, 869, 870, 871, 872, 873, 874]",
         "[17, 18, 19, 20, 21, 22, 23, 156, 157, 158, 159, 160, 161, 162, 163, 164, 165, 166, 167, 168, 340, 341, 342, 343, 344, 345, 346, 412, 413, 414, 415, 416, 417, 418, 419, 420, 421, 422, 502, 503, 504, 505, 506, 507, 628, 629, 630, 631, 632, 633, 634, 635, 636, 637, 638, 639, 792, 796, 797, 798, 799, 800, 801, 863, 864, 865, 866, 867, 868, 869, 870, 871, 872, 873, 874]",
         "[916, 917, 523, 918, 919, 17, 18, 19, 20, 920, 21, 22, 23, 921, 541, 922, 546, 923, 924, 43, 925, 926, 927, 928, 575, 66, 929, 71, 930, 931, 932, 933, 934, 935, 611, 104, 628, 629, 630, 631, 632, 633, 634, 635, 636, 637, 638, 639, 140, 156, 157, 158, 159, 160, 161, 162, 163, 164, 165, 166, 167, 168, 340, 442, 341, 342, 343, 344, 345, 346, 773, 776, 792, 796, 797, 798, 799, 800, 801, 315, 318, 848, 849, 850, 851, 852, 853, 854, 855, 856, 857, 858, 859, 860, 861, 862, 863, 864, 865, 866, 867, 868, 869, 870, 871, 872, 873, 874, 875, 876, 877, 878, 879, 880, 881, 882, 883, 884, 885, 886, 887, 888, 889, 890, 891, 892, 893, 894, 895, 896, 897, 898, 899, 900, 901, 902, 903, 904, 905, 906, 907, 908, 909, 398, 399, 400, 401, 402, 915, 403, 404, 405, 406, 407, 408, 409, 411, 410, 412, 414, 413, 415, 417, 416, 418, 420, 419, 421, 422, 423, 424, 425, 426, 427, 428, 430, 429, 431, 432, 433, 434, 435, 436, 437, 438, 439, 441, 440, 443, 444, 445, 446, 447, 448, 449, 450, 451, 452, 453, 454, 455, 456, 457, 458, 459, 460, 461, 462, 463, 464, 465, 466, 467, 468, 469, 470, 471, 472, 473, 474, 475, 476, 477, 478, 479, 480, 481, 482, 483, 484, 910, 503, 911, 912, 913, 502, 914, 504, 505, 506, 507]",
         "[872, 420]",
         "True",
         "[420, 450, 872]",
         "[398, 399, 400, 401, 402, 403, 404, 405, 406, 407, 408, 409, 410, 411, 412, 413, 414, 415, 416, 417, 418, 419, 420, 421, 422, 423, 424, 425, 426, 427, 428, 429, 430, 431, 432, 433, 434, 435, 436, 437, 438, 439, 440, 441, 442, 443, 444, 445, 446, 447, 448, 449, 450, 451, 452, 453, 454, 455, 456, 457, 458, 459, 460, 461, 462, 463, 464, 465, 466, 467, 468, 469, 470, 471, 472, 473, 474, 475, 476, 477, 478, 479, 480, 481, 482, 483, 484, 848, 849, 850, 851, 852, 853, 854, 855, 856, 857, 858, 859, 860, 861, 862, 863, 864, 865, 866, 867, 868, 869, 870, 871, 872, 873, 874, 875, 876, 877, 878, 879, 880, 881, 882, 883, 884, 885, 886, 887, 888, 889, 890, 891, 892, 893, 894, 895, 896, 897, 898, 899, 900, 901, 902, 903, 904, 905, 906, 907, 908, 909, 910, 911, 912, 913, 914, 915, 916, 917, 918, 919, 920, 921, 922, 923, 924, 925, 926, 927, 928, 929, 930, 931, 932, 933, 934, 935]",
         "[43, 66, 71, 104, 411, 414, 417, 420, 430, 441, 446, 448, 449, 450, 468, 523, 541, 546, 575, 860, 862, 865, 868, 869, 872, 882, 896, 897, 915]",
         "[420, 450, 872]",
         "[140, 315, 318, 420, 446, 448, 450, 468, 611, 773, 776, 860, 872, 896, 915]",
         "[17, 18, 19, 20, 21, 22, 23, 156, 157, 158, 159, 160, 161, 162, 163, 164, 165, 166, 167, 168, 340, 341, 342, 343, 344, 345, 346, 412, 413, 414, 415, 416, 417, 418, 419, 420, 421, 422, 502, 503, 504, 505, 506, 507, 628, 629, 630, 631, 632, 633, 634, 635, 636, 637, 638, 639, 792, 796, 797, 798, 799, 800, 801, 863, 864, 865, 866, 867, 868, 869, 870, 871, 872, 873, 874]",
         "[17, 18, 19, 20, 21, 22, 23, 156, 157, 158, 159, 160, 161, 162, 163, 164, 165, 166, 167, 341, 342, 343, 344, 345, 412, 413, 414, 415, 416, 417, 418, 419, 420, 421, 422, 502, 503, 504, 505, 506, 507, 628, 629, 630, 631, 632, 633, 634, 635, 636, 637, 638, 639, 792, 797, 798, 799, 800, 801, 863, 864, 865, 866, 867, 868, 869, 870, 871, 872, 873, 874]",
         "7/6 successful match",
         "True",
         "[605]",
         "True",
         "3",
         "[6, 7, 8]",
         "True",
         "46; 46",
         "Utah; Utah",
         "FLYING J TRAVEL CENTER #772; FLYING J TRAVEL CENTER #772",
         "http://www.rvandtravelers.com/location_details.php?id=18340; https://www.truckstopsandservices.com/location_details.php?id=18340",
         "RVer; Trucker",
         "flying j; flying j",
         "nan; 40.836537",
         "nan; -111.933561",
         "http://https://pilotflyingj.com/stores/772; https://pilotflyingj.com/stores/772",
         "40.836537; 40.836537",
         "-111.933561; -111.933561",
         "I-215; I-215",
         "27; 27",
         "885 N POINT CIRCLE; 885 N POINT CIRCLE",
         "NORTH SALT LAKE CITY; NORTH SALT LAKE CITY",
         "UT; UT",
         "84054; 84054",
         "801-936-1408 (TRAVEL CENTER); 801-936-1408 (TRAVEL CENTER)",
         "801-936-1457; 801-936-1457",
         "nan; nan",
         "nan; nan",
         "nan; nan",
         "nan; nan",
         "nan; nan",
         "nan; nan",
         "pilotflyingj.com/stores/772; nan",
         "nan; nan",
         "[420, 872]",
         "46; 46",
         "Utah; Utah",
         "FLYING J TRAVEL CENTER #772; FLYING J TRAVEL CENTER #772",
         "https://www.truckstopsandservices.com/location_details.php?id=18340; http://www.rvandtravelers.com/location_details.php?id=18340",
         "Trucker; RVer",
         "flying j; flying j",
         "40.836537; nan",
         "-111.933561; nan",
         "https://pilotflyingj.com/stores/772; http://https://pilotflyingj.com/stores/772",
         "40.836537; 40.836537",
         "-111.933561; -111.933561",
         "I-215; I-215",
         "27; 27",
         "885 N POINT CIRCLE; 885 N POINT CIRCLE",
         "NORTH SALT LAKE CITY; NORTH SALT LAKE CITY",
         "UT; UT",
         "84054; 84054",
         "801-936-1408 (TRAVEL CENTER); 801-936-1408 (TRAVEL CENTER)",
         "801-936-1457; 801-936-1457",
         "nan; nan",
         "nan; nan",
         "nan; nan",
         "nan; nan",
         "nan; nan",
         "nan; nan",
         "nan; pilotflyingj.com/stores/772",
         "nan; nan",
         "18019361408",
         "Flying J Travel Center",
         "2.4",
         "8.0",
         "885 N Pointe Cir, North Salt Lake, UT 84054",
         "North Salt Lake",
         "UT",
         "84054.0",
         "(801) 936-1408",
         "Gas Stations, Convenience Stores",
         "40.8361748",
         "-111.9341113",
         "$$",
         "False",
         "https://www.yelp.com/biz/flying-j-travel-center-north-salt-lake-3?adjust_creative=xElCeMfmOucjLmXEMhJkIg&utm_campaign=yelp_api_v3&utm_medium=api_v3_phone_search&utm_source=xElCeMfmOucjLmXEMhJkIg",
         "885 Northpointe CirNorth Salt Lake, UT 84054; 885 Eagle Point CirNorth Salt Lake, UT 84054; 885 Northpointe CirNorth Salt Lake, UT 84054",
         "Western Union Agent Location; nan; Western Union Agent Location",
         "Western Union; Pilot Travel Centers; Western Union",
         "https://www.yellowpages.com/north-salt-lake-ut/mip/western-union-502909440; https://www.yellowpages.com/north-salt-lake-ut/mip/pilot-travel-centers-537273499; https://www.yellowpages.com/north-salt-lake-ut/mip/western-union-502909440?lid=502909440#gallery",
         "Money Transfer Service, Money Order Service; Truck Stops, Diesel Fuel, Gas Stations; Money Transfer Service, Money Order Service",
         "901 465 4551; 801 936 1457; 901 465 4551",
         "nan; nan; nan",
         "North Salt Lake; North Salt Lake; North Salt Lake",
         "40.83657; 40.82545; 40.83657",
         "-111.93377; -111.899956; -111.93377",
         "Western Union; Pilot Travel Centers; Western Union",
         "(801) 936-1408; (801) 936-1408; (801) 936-1408",
         "UT; UT; UT",
         "885 Northpointe Cir; 885 Eagle Point Cir; 885 Northpointe Cir",
         "84054.0; 84054.0; 84054.0",
         "801-936-1408; 801-936-1408; 801-936-1408",
         "(801) 936-1408Call; (801) 936-1408Call; (801) 936-1408Call",
         "2025-07-07T04:12:22.820Z; 2025-07-07T04:12:26.165Z; 2025-07-07T04:12:29.687Z",
         "https://www.yellowpages.com/search?search_terms=801+936+1408; https://www.yellowpages.com/search?search_terms=801+936+1408; https://www.yellowpages.com/search?search_terms=801+936+1408",
         "nan; nan; nan",
         "https://www.westernunion.com/global-services/find-locations/us/ut/north-salt-lake/1a30c5dc46493dcac9a0e6c181838987; http://www.pilotflyingj.com; https://www.westernunion.com/global-services/find-locations/us/ut/north-salt-lake/1a30c5dc46493dcac9a0e6c181838987",
         "1.933279427510341",
         "Yelp (Phone) vs YellowPages (Phone)",
         "0.0111608790659399",
         "Webscraped vs YellowPages (Phone)",
         "0.0111608790659399",
         "Webscraped vs YellowPages (Phone)",
         "40.8365535",
         "-111.9336655",
         null,
         null,
         null,
         null,
         "40.8365535",
         "-111.9336655",
         null,
         null,
         null,
         null,
         null,
         null
        ],
        [
         "18",
         "D Silver Creek , 84060 Bell's Silver Creek Junction ( Sinclair )",
         "435-649-9243 I-80 Exit 146 ( US 40 )",
         "MO",
         "Silver Creek",
         "84060",
         "Bell's Silver Creek Junction ( Sinclair )",
         "435-649-9243",
         "2006",
         "Park City",
         "UT",
         "Sinclair",
         "( US 40 )",
         "I-80 Exit 146 ",
         "Exit",
         "146",
         "146",
         null,
         "False",
         null,
         "False",
         "I-80",
         null,
         null,
         null,
         null,
         "[403, 852]",
         "[]",
         "[289, 403, 748, 852]",
         "[62, 202, 307, 403, 672, 765, 852]",
         "[398, 399, 400, 401, 402, 403, 404, 405, 406, 407, 408, 409, 410, 411, 412, 413, 414, 415, 416, 417, 418, 419, 420, 421, 422, 423, 424, 425, 426, 427, 428, 429, 430, 431, 432, 433, 434, 435, 436, 437, 438, 439, 440, 441, 442, 443, 444, 445, 446, 447, 448, 449, 450, 451, 452, 453, 454, 455, 456, 457, 458, 459, 460, 461, 462, 463, 464, 465, 466, 467, 468, 469, 470, 471, 472, 473, 474, 475, 476, 477, 478, 479, 480, 481, 482, 483, 484, 848, 849, 850, 851, 852, 853, 854, 855, 856, 857, 858, 859, 860, 861, 862, 863, 864, 865, 866, 867, 868, 869, 870, 871, 872, 873, 874, 875, 876, 877, 878, 879, 880, 881, 882, 883, 884, 885, 886, 887, 888, 889, 890, 891, 892, 893, 894, 895, 896, 897, 898, 899, 900, 901, 902, 903, 904, 905, 906, 907, 908, 909, 910, 911, 912, 913, 914, 915, 916, 917, 918, 919, 920, 921, 922, 923, 924, 925, 926, 927, 928, 929, 930, 931, 932, 933, 934, 935]",
         "[89, 108, 172, 217, 221, 239, 264, 280, 321, 342, 343, 344, 345, 346, 349, 351, 352, 355, 357, 359, 364, 368, 371, 372, 373, 374, 376, 377, 387, 392, 393, 403, 409, 411, 414, 424, 430, 449, 454, 470, 480, 560, 584, 643, 685, 703, 724, 739, 779, 798, 799, 800, 801, 804, 806, 807, 810, 812, 814, 816, 821, 822, 823, 824, 826, 827, 837, 842, 843, 852, 859, 862, 865, 869, 876, 882, 897, 901, 917, 932]",
         "[31, 142, 147, 180, 338, 352, 367, 387, 403, 405, 408, 410, 455, 465, 466, 468, 470, 472, 473, 483, 484, 514, 613, 618, 651, 794, 807, 837, 852, 854, 858, 861, 902, 912, 913, 915, 917, 919, 920, 931, 934, 935]",
         "[31, 142, 147, 179, 180, 338, 352, 353, 367, 386, 387, 402, 403, 405, 408, 410, 426, 428, 455, 465, 466, 468, 470, 472, 473, 483, 484, 514, 613, 618, 650, 651, 794, 807, 808, 836, 837, 851, 852, 854, 858, 861, 878, 880, 902, 912, 913, 915, 917, 919, 920, 931, 934, 935]",
         "[916, 514, 917, 918, 387, 919, 920, 921, 922, 31, 923, 924, 925, 560, 926, 927, 62, 928, 929, 930, 584, 931, 932, 933, 89, 934, 935, 613, 618, 108, 643, 392, 651, 650, 142, 372, 147, 672, 393, 338, 373, 172, 685, 179, 180, 342, 343, 703, 344, 374, 345, 202, 346, 724, 217, 349, 221, 739, 351, 748, 352, 239, 353, 376, 355, 765, 357, 264, 779, 377, 359, 280, 794, 798, 799, 800, 289, 801, 804, 806, 807, 364, 808, 810, 812, 814, 816, 307, 821, 822, 823, 824, 367, 826, 827, 368, 321, 836, 837, 842, 371, 843, 848, 849, 850, 851, 852, 853, 854, 855, 856, 857, 858, 859, 860, 861, 862, 863, 864, 865, 866, 867, 868, 869, 870, 871, 872, 873, 874, 875, 876, 877, 878, 879, 880, 881, 882, 883, 884, 885, 886, 887, 888, 889, 890, 891, 892, 893, 894, 895, 896, 897, 898, 899, 900, 901, 902, 903, 904, 905, 906, 907, 908, 909, 398, 399, 400, 401, 402, 403, 404, 405, 406, 407, 408, 409, 410, 411, 412, 413, 414, 415, 416, 417, 418, 419, 420, 421, 422, 423, 424, 425, 426, 427, 428, 429, 430, 431, 432, 433, 434, 435, 436, 437, 438, 439, 440, 441, 442, 443, 444, 445, 446, 447, 448, 449, 450, 451, 452, 453, 454, 455, 456, 457, 458, 459, 460, 461, 462, 463, 464, 465, 466, 467, 468, 469, 470, 471, 472, 473, 474, 475, 476, 477, 478, 479, 480, 481, 482, 483, 484, 910, 911, 912, 913, 386, 914, 915]",
         "[403, 852]",
         "True",
         "[]",
         "[398, 399, 400, 401, 402, 403, 404, 405, 406, 407, 408, 409, 410, 411, 412, 413, 414, 415, 416, 417, 418, 419, 420, 421, 422, 423, 424, 425, 426, 427, 428, 429, 430, 431, 432, 433, 434, 435, 436, 437, 438, 439, 440, 441, 442, 443, 444, 445, 446, 447, 448, 449, 450, 451, 452, 453, 454, 455, 456, 457, 458, 459, 460, 461, 462, 463, 464, 465, 466, 467, 468, 469, 470, 471, 472, 473, 474, 475, 476, 477, 478, 479, 480, 481, 482, 483, 484, 848, 849, 850, 851, 852, 853, 854, 855, 856, 857, 858, 859, 860, 861, 862, 863, 864, 865, 866, 867, 868, 869, 870, 871, 872, 873, 874, 875, 876, 877, 878, 879, 880, 881, 882, 883, 884, 885, 886, 887, 888, 889, 890, 891, 892, 893, 894, 895, 896, 897, 898, 899, 900, 901, 902, 903, 904, 905, 906, 907, 908, 909, 910, 911, 912, 913, 914, 915, 916, 917, 918, 919, 920, 921, 922, 923, 924, 925, 926, 927, 928, 929, 930, 931, 932, 933, 934, 935]",
         "[289, 403, 748, 852]",
         "[62, 202, 307, 403, 672, 765, 852]",
         "[89, 108, 172, 217, 221, 239, 264, 280, 321, 342, 343, 344, 345, 346, 349, 351, 352, 355, 357, 359, 364, 368, 371, 372, 373, 374, 376, 377, 387, 392, 393, 403, 409, 411, 414, 424, 430, 449, 454, 470, 480, 560, 584, 643, 685, 703, 724, 739, 779, 798, 799, 800, 801, 804, 806, 807, 810, 812, 814, 816, 821, 822, 823, 824, 826, 827, 837, 842, 843, 852, 859, 862, 865, 869, 876, 882, 897, 901, 917, 932]",
         "[31, 142, 147, 179, 180, 338, 352, 353, 367, 386, 387, 402, 403, 405, 408, 410, 426, 428, 455, 465, 466, 468, 470, 472, 473, 483, 484, 514, 613, 618, 650, 651, 794, 807, 808, 836, 837, 851, 852, 854, 858, 861, 878, 880, 902, 912, 913, 915, 917, 919, 920, 931, 934, 935]",
         "[31, 142, 147, 180, 338, 352, 367, 387, 403, 405, 408, 410, 455, 465, 466, 468, 470, 472, 473, 483, 484, 514, 613, 618, 651, 794, 807, 837, 852, 854, 858, 861, 902, 912, 913, 915, 917, 919, 920, 931, 934, 935]",
         "7/6 successful match",
         "True",
         "[385, 386, 387]",
         "True",
         "4",
         "[9, 10, 11]",
         "True",
         "46; 46",
         "Utah; Utah",
         "BELL'S SILVERCREEK JUNCTION; BELL'S SILVERCREEK JUNCTION",
         "https://www.truckstopsandservices.com/location_details.php?id=319; http://www.rvandtravelers.com/location_details.php?id=319",
         "Trucker; RVer",
         "sinclair oil .svg; sinclair oil .svg",
         "40.734404; nan",
         "-111.498391; nan",
         "nan; nan",
         "40.734404; 40.734404",
         "-111.498391; -111.498391",
         "I-80; I-80",
         "146; 146",
         "7100 SILVER CREEK RD; 7100 SILVER CREEK RD",
         "SILVER CREEK; SILVER CREEK",
         "UT; UT",
         "84098; 84098",
         "435-649-9243 (TRAVEL CENTER); 435-649-9243 (TRAVEL CENTER)",
         "435-649-9245; 435-649-9245",
         "435-649-9243 (SUBWAY); 435-649-9243 (SUBWAY)",
         "435-649-9243 (PIZZA HUT); 435-649-9243 (PIZZA HUT)",
         "nan; nan",
         "nan; nan",
         "nan; nan",
         "nan; nan",
         "nan; nan",
         "nan; nan",
         "[403, 852]",
         "46; 46",
         "Utah; Utah",
         "BELL'S SILVERCREEK JUNCTION; BELL'S SILVERCREEK JUNCTION",
         "https://www.truckstopsandservices.com/location_details.php?id=319; http://www.rvandtravelers.com/location_details.php?id=319",
         "Trucker; RVer",
         "sinclair oil .svg; sinclair oil .svg",
         "40.734404; nan",
         "-111.498391; nan",
         "nan; nan",
         "40.734404; 40.734404",
         "-111.498391; -111.498391",
         "I-80; I-80",
         "146; 146",
         "7100 SILVER CREEK RD; 7100 SILVER CREEK RD",
         "SILVER CREEK; SILVER CREEK",
         "UT; UT",
         "84098; 84098",
         "435-649-9243 (TRAVEL CENTER); 435-649-9243 (TRAVEL CENTER)",
         "435-649-9245; 435-649-9245",
         "435-649-9243 (SUBWAY); 435-649-9243 (SUBWAY)",
         "435-649-9243 (PIZZA HUT); 435-649-9243 (PIZZA HUT)",
         "nan; nan",
         "nan; nan",
         "nan; nan",
         "nan; nan",
         "nan; nan",
         "nan; nan",
         "14356499243; 14356499243; 14356499243",
         "Blimpie; Bell's Silver Creek; Subway",
         "4.0; 1.8; 2.7",
         "1.0; 9.0; 3.0",
         "7100 Silver Creek Rd, Park City, UT 84098; 7100 Silver Creek Rd, Park City, UT 84098; 7100 Silver Creek Rd, Park City, UT 84098",
         "Park City; Park City; Park City",
         "UT; UT; UT",
         "84098.0; 84098.0; 84098.0",
         "(435) 649-9243; (435) 649-9243; (435) 649-9243",
         "Sandwiches; Convenience Stores; Sandwiches, Fast Food",
         "40.73416; 40.73416; 40.73416151067082",
         "-111.49884; -111.49884; -111.49888136867628",
         "nan; nan; nan",
         "True; False; False",
         "https://www.yelp.com/biz/blimpie-park-city?adjust_creative=xElCeMfmOucjLmXEMhJkIg&utm_campaign=yelp_api_v3&utm_medium=api_v3_phone_search&utm_source=xElCeMfmOucjLmXEMhJkIg; https://www.yelp.com/biz/bells-silver-creek-park-city?adjust_creative=xElCeMfmOucjLmXEMhJkIg&utm_campaign=yelp_api_v3&utm_medium=api_v3_phone_search&utm_source=xElCeMfmOucjLmXEMhJkIg; https://www.yelp.com/biz/subway-park-city-10?adjust_creative=xElCeMfmOucjLmXEMhJkIg&utm_campaign=yelp_api_v3&utm_medium=api_v3_phone_search&utm_source=xElCeMfmOucjLmXEMhJkIg",
         "7100 Silver Creek RdPark City, UT 84098; 7100 Silver Creek RdPark City, UT 84098; 7100 Silver Creek RdPark City, UT 84098",
         "nan; nan; Cng America - Bells Silver Creek - Sinclair",
         "Sinclair Gas Station; Subway; Bells Silver Creek",
         "https://www.yellowpages.com/park-city-ut/mip/sinclair-gas-station-476008800; https://www.yellowpages.com/park-city-ut/mip/subway-530022502; https://www.yellowpages.com/park-city-ut/mip/bells-silver-creek-458137400",
         "Gas Stations, Convenience Stores; Fast Food Restaurants, Restaurants, Sandwich Shops; Pizza, Convenience Stores, Restaurants",
         "nan; nan; 435 649 9245",
         "nan; nan; nan",
         "Park City; Park City; Park City",
         "40.73355; 40.73355; 40.73355",
         "-111.498886; -111.498886; -111.498886",
         "Sinclair Gas Station; Subway; Bells Silver Creek",
         "(435) 649-9243; (435) 649-9243; (435) 649-9243",
         "UT; UT; UT",
         "7100 Silver Creek Rd; 7100 Silver Creek Rd; 7100 Silver Creek Rd",
         "84098.0; 84098.0; 84098.0",
         "435-649-9243; 435-649-9243; 435-649-9243",
         "(435) 649-9243Call; (435) 649-9243Call; (435) 649-9243Call",
         "2025-07-07T04:12:39.934Z; 2025-07-07T04:12:42.946Z; 2025-07-07T04:12:46.659Z",
         "https://www.yellowpages.com/search?search_terms=435+649+9243; https://www.yellowpages.com/search?search_terms=435+649+9243; https://www.yellowpages.com/search?search_terms=435+649+9243",
         "nan; nan; nan",
         "nan; https://restaurants.subway.com/united-states/ut/park-city/7100-silver-creek-road?utm_source=yext-other&utm_medium=local&utm_term=acq&utm_content=67161&utm_campaign=evergreen-2020&y_source=1_MTQ5MDIyNjUtNTUzLWxvY2F0aW9uLndlYnNpdGU%3D; https://am-best.com",
         "0.0644468574755644",
         "Webscraped vs YellowPages (Phone)",
         "0.0289281104719189",
         "Webscraped vs Yelp (Phone)",
         "0.0289281104719189",
         "Webscraped vs Yelp (Phone)",
         "40.734282",
         "-111.4986155",
         null,
         null,
         null,
         null,
         "40.734282",
         "-111.4986155",
         null,
         null,
         null,
         null,
         null,
         null
        ],
        [
         "19",
         "D Silver Creek , 84060 Bell's Silver Creek Junction ( Sinclair )",
         "435-649-9243 I-80 Exit 146 ( US 40 )",
         ") 24 MO D",
         "Silver Creek",
         "84060",
         "Bell's Silver Creek Junction ( Sinclair )",
         "435-649-9243",
         "2007",
         "Park City",
         "UT",
         "Sinclair",
         "( US 40 )",
         "I-80 Exit 146 ",
         "Exit",
         "146",
         "146",
         null,
         "False",
         null,
         "False",
         "I-80",
         null,
         null,
         null,
         null,
         "[403, 852]",
         "[]",
         "[289, 403, 748, 852]",
         "[62, 202, 307, 403, 672, 765, 852]",
         "[398, 399, 400, 401, 402, 403, 404, 405, 406, 407, 408, 409, 410, 411, 412, 413, 414, 415, 416, 417, 418, 419, 420, 421, 422, 423, 424, 425, 426, 427, 428, 429, 430, 431, 432, 433, 434, 435, 436, 437, 438, 439, 440, 441, 442, 443, 444, 445, 446, 447, 448, 449, 450, 451, 452, 453, 454, 455, 456, 457, 458, 459, 460, 461, 462, 463, 464, 465, 466, 467, 468, 469, 470, 471, 472, 473, 474, 475, 476, 477, 478, 479, 480, 481, 482, 483, 484, 848, 849, 850, 851, 852, 853, 854, 855, 856, 857, 858, 859, 860, 861, 862, 863, 864, 865, 866, 867, 868, 869, 870, 871, 872, 873, 874, 875, 876, 877, 878, 879, 880, 881, 882, 883, 884, 885, 886, 887, 888, 889, 890, 891, 892, 893, 894, 895, 896, 897, 898, 899, 900, 901, 902, 903, 904, 905, 906, 907, 908, 909, 910, 911, 912, 913, 914, 915, 916, 917, 918, 919, 920, 921, 922, 923, 924, 925, 926, 927, 928, 929, 930, 931, 932, 933, 934, 935]",
         "[89, 108, 172, 217, 221, 239, 264, 280, 321, 342, 343, 344, 345, 346, 349, 351, 352, 355, 357, 359, 364, 368, 371, 372, 373, 374, 376, 377, 387, 392, 393, 403, 409, 411, 414, 424, 430, 449, 454, 470, 480, 560, 584, 643, 685, 703, 724, 739, 779, 798, 799, 800, 801, 804, 806, 807, 810, 812, 814, 816, 821, 822, 823, 824, 826, 827, 837, 842, 843, 852, 859, 862, 865, 869, 876, 882, 897, 901, 917, 932]",
         "[31, 142, 147, 180, 338, 352, 367, 387, 403, 405, 408, 410, 455, 465, 466, 468, 470, 472, 473, 483, 484, 514, 613, 618, 651, 794, 807, 837, 852, 854, 858, 861, 902, 912, 913, 915, 917, 919, 920, 931, 934, 935]",
         "[31, 142, 147, 179, 180, 338, 352, 353, 367, 386, 387, 402, 403, 405, 408, 410, 426, 428, 455, 465, 466, 468, 470, 472, 473, 483, 484, 514, 613, 618, 650, 651, 794, 807, 808, 836, 837, 851, 852, 854, 858, 861, 878, 880, 902, 912, 913, 915, 917, 919, 920, 931, 934, 935]",
         "[916, 514, 917, 918, 387, 919, 920, 921, 922, 31, 923, 924, 925, 560, 926, 927, 62, 928, 929, 930, 584, 931, 932, 933, 89, 934, 935, 613, 618, 108, 643, 392, 651, 650, 142, 372, 147, 672, 393, 338, 373, 172, 685, 179, 180, 342, 343, 703, 344, 374, 345, 202, 346, 724, 217, 349, 221, 739, 351, 748, 352, 239, 353, 376, 355, 765, 357, 264, 779, 377, 359, 280, 794, 798, 799, 800, 289, 801, 804, 806, 807, 364, 808, 810, 812, 814, 816, 307, 821, 822, 823, 824, 367, 826, 827, 368, 321, 836, 837, 842, 371, 843, 848, 849, 850, 851, 852, 853, 854, 855, 856, 857, 858, 859, 860, 861, 862, 863, 864, 865, 866, 867, 868, 869, 870, 871, 872, 873, 874, 875, 876, 877, 878, 879, 880, 881, 882, 883, 884, 885, 886, 887, 888, 889, 890, 891, 892, 893, 894, 895, 896, 897, 898, 899, 900, 901, 902, 903, 904, 905, 906, 907, 908, 909, 398, 399, 400, 401, 402, 403, 404, 405, 406, 407, 408, 409, 410, 411, 412, 413, 414, 415, 416, 417, 418, 419, 420, 421, 422, 423, 424, 425, 426, 427, 428, 429, 430, 431, 432, 433, 434, 435, 436, 437, 438, 439, 440, 441, 442, 443, 444, 445, 446, 447, 448, 449, 450, 451, 452, 453, 454, 455, 456, 457, 458, 459, 460, 461, 462, 463, 464, 465, 466, 467, 468, 469, 470, 471, 472, 473, 474, 475, 476, 477, 478, 479, 480, 481, 482, 483, 484, 910, 911, 912, 913, 386, 914, 915]",
         "[403, 852]",
         "True",
         "[]",
         "[398, 399, 400, 401, 402, 403, 404, 405, 406, 407, 408, 409, 410, 411, 412, 413, 414, 415, 416, 417, 418, 419, 420, 421, 422, 423, 424, 425, 426, 427, 428, 429, 430, 431, 432, 433, 434, 435, 436, 437, 438, 439, 440, 441, 442, 443, 444, 445, 446, 447, 448, 449, 450, 451, 452, 453, 454, 455, 456, 457, 458, 459, 460, 461, 462, 463, 464, 465, 466, 467, 468, 469, 470, 471, 472, 473, 474, 475, 476, 477, 478, 479, 480, 481, 482, 483, 484, 848, 849, 850, 851, 852, 853, 854, 855, 856, 857, 858, 859, 860, 861, 862, 863, 864, 865, 866, 867, 868, 869, 870, 871, 872, 873, 874, 875, 876, 877, 878, 879, 880, 881, 882, 883, 884, 885, 886, 887, 888, 889, 890, 891, 892, 893, 894, 895, 896, 897, 898, 899, 900, 901, 902, 903, 904, 905, 906, 907, 908, 909, 910, 911, 912, 913, 914, 915, 916, 917, 918, 919, 920, 921, 922, 923, 924, 925, 926, 927, 928, 929, 930, 931, 932, 933, 934, 935]",
         "[289, 403, 748, 852]",
         "[62, 202, 307, 403, 672, 765, 852]",
         "[89, 108, 172, 217, 221, 239, 264, 280, 321, 342, 343, 344, 345, 346, 349, 351, 352, 355, 357, 359, 364, 368, 371, 372, 373, 374, 376, 377, 387, 392, 393, 403, 409, 411, 414, 424, 430, 449, 454, 470, 480, 560, 584, 643, 685, 703, 724, 739, 779, 798, 799, 800, 801, 804, 806, 807, 810, 812, 814, 816, 821, 822, 823, 824, 826, 827, 837, 842, 843, 852, 859, 862, 865, 869, 876, 882, 897, 901, 917, 932]",
         "[31, 142, 147, 179, 180, 338, 352, 353, 367, 386, 387, 402, 403, 405, 408, 410, 426, 428, 455, 465, 466, 468, 470, 472, 473, 483, 484, 514, 613, 618, 650, 651, 794, 807, 808, 836, 837, 851, 852, 854, 858, 861, 878, 880, 902, 912, 913, 915, 917, 919, 920, 931, 934, 935]",
         "[31, 142, 147, 180, 338, 352, 367, 387, 403, 405, 408, 410, 455, 465, 466, 468, 470, 472, 473, 483, 484, 514, 613, 618, 651, 794, 807, 837, 852, 854, 858, 861, 902, 912, 913, 915, 917, 919, 920, 931, 934, 935]",
         "7/6 successful match",
         "True",
         "[385, 386, 387]",
         "True",
         "4",
         "[9, 10, 11]",
         "True",
         "46; 46",
         "Utah; Utah",
         "BELL'S SILVERCREEK JUNCTION; BELL'S SILVERCREEK JUNCTION",
         "https://www.truckstopsandservices.com/location_details.php?id=319; http://www.rvandtravelers.com/location_details.php?id=319",
         "Trucker; RVer",
         "sinclair oil .svg; sinclair oil .svg",
         "40.734404; nan",
         "-111.498391; nan",
         "nan; nan",
         "40.734404; 40.734404",
         "-111.498391; -111.498391",
         "I-80; I-80",
         "146; 146",
         "7100 SILVER CREEK RD; 7100 SILVER CREEK RD",
         "SILVER CREEK; SILVER CREEK",
         "UT; UT",
         "84098; 84098",
         "435-649-9243 (TRAVEL CENTER); 435-649-9243 (TRAVEL CENTER)",
         "435-649-9245; 435-649-9245",
         "435-649-9243 (SUBWAY); 435-649-9243 (SUBWAY)",
         "435-649-9243 (PIZZA HUT); 435-649-9243 (PIZZA HUT)",
         "nan; nan",
         "nan; nan",
         "nan; nan",
         "nan; nan",
         "nan; nan",
         "nan; nan",
         "[403, 852]",
         "46; 46",
         "Utah; Utah",
         "BELL'S SILVERCREEK JUNCTION; BELL'S SILVERCREEK JUNCTION",
         "https://www.truckstopsandservices.com/location_details.php?id=319; http://www.rvandtravelers.com/location_details.php?id=319",
         "Trucker; RVer",
         "sinclair oil .svg; sinclair oil .svg",
         "40.734404; nan",
         "-111.498391; nan",
         "nan; nan",
         "40.734404; 40.734404",
         "-111.498391; -111.498391",
         "I-80; I-80",
         "146; 146",
         "7100 SILVER CREEK RD; 7100 SILVER CREEK RD",
         "SILVER CREEK; SILVER CREEK",
         "UT; UT",
         "84098; 84098",
         "435-649-9243 (TRAVEL CENTER); 435-649-9243 (TRAVEL CENTER)",
         "435-649-9245; 435-649-9245",
         "435-649-9243 (SUBWAY); 435-649-9243 (SUBWAY)",
         "435-649-9243 (PIZZA HUT); 435-649-9243 (PIZZA HUT)",
         "nan; nan",
         "nan; nan",
         "nan; nan",
         "nan; nan",
         "nan; nan",
         "nan; nan",
         "14356499243; 14356499243; 14356499243",
         "Blimpie; Bell's Silver Creek; Subway",
         "4.0; 1.8; 2.7",
         "1.0; 9.0; 3.0",
         "7100 Silver Creek Rd, Park City, UT 84098; 7100 Silver Creek Rd, Park City, UT 84098; 7100 Silver Creek Rd, Park City, UT 84098",
         "Park City; Park City; Park City",
         "UT; UT; UT",
         "84098.0; 84098.0; 84098.0",
         "(435) 649-9243; (435) 649-9243; (435) 649-9243",
         "Sandwiches; Convenience Stores; Sandwiches, Fast Food",
         "40.73416; 40.73416; 40.73416151067082",
         "-111.49884; -111.49884; -111.49888136867628",
         "nan; nan; nan",
         "True; False; False",
         "https://www.yelp.com/biz/blimpie-park-city?adjust_creative=xElCeMfmOucjLmXEMhJkIg&utm_campaign=yelp_api_v3&utm_medium=api_v3_phone_search&utm_source=xElCeMfmOucjLmXEMhJkIg; https://www.yelp.com/biz/bells-silver-creek-park-city?adjust_creative=xElCeMfmOucjLmXEMhJkIg&utm_campaign=yelp_api_v3&utm_medium=api_v3_phone_search&utm_source=xElCeMfmOucjLmXEMhJkIg; https://www.yelp.com/biz/subway-park-city-10?adjust_creative=xElCeMfmOucjLmXEMhJkIg&utm_campaign=yelp_api_v3&utm_medium=api_v3_phone_search&utm_source=xElCeMfmOucjLmXEMhJkIg",
         "7100 Silver Creek RdPark City, UT 84098; 7100 Silver Creek RdPark City, UT 84098; 7100 Silver Creek RdPark City, UT 84098",
         "nan; nan; Cng America - Bells Silver Creek - Sinclair",
         "Sinclair Gas Station; Subway; Bells Silver Creek",
         "https://www.yellowpages.com/park-city-ut/mip/sinclair-gas-station-476008800; https://www.yellowpages.com/park-city-ut/mip/subway-530022502; https://www.yellowpages.com/park-city-ut/mip/bells-silver-creek-458137400",
         "Gas Stations, Convenience Stores; Fast Food Restaurants, Restaurants, Sandwich Shops; Pizza, Convenience Stores, Restaurants",
         "nan; nan; 435 649 9245",
         "nan; nan; nan",
         "Park City; Park City; Park City",
         "40.73355; 40.73355; 40.73355",
         "-111.498886; -111.498886; -111.498886",
         "Sinclair Gas Station; Subway; Bells Silver Creek",
         "(435) 649-9243; (435) 649-9243; (435) 649-9243",
         "UT; UT; UT",
         "7100 Silver Creek Rd; 7100 Silver Creek Rd; 7100 Silver Creek Rd",
         "84098.0; 84098.0; 84098.0",
         "435-649-9243; 435-649-9243; 435-649-9243",
         "(435) 649-9243Call; (435) 649-9243Call; (435) 649-9243Call",
         "2025-07-07T04:12:39.934Z; 2025-07-07T04:12:42.946Z; 2025-07-07T04:12:46.659Z",
         "https://www.yellowpages.com/search?search_terms=435+649+9243; https://www.yellowpages.com/search?search_terms=435+649+9243; https://www.yellowpages.com/search?search_terms=435+649+9243",
         "nan; nan; nan",
         "nan; https://restaurants.subway.com/united-states/ut/park-city/7100-silver-creek-road?utm_source=yext-other&utm_medium=local&utm_term=acq&utm_content=67161&utm_campaign=evergreen-2020&y_source=1_MTQ5MDIyNjUtNTUzLWxvY2F0aW9uLndlYnNpdGU%3D; https://am-best.com",
         "0.0644468574755644",
         "Webscraped vs YellowPages (Phone)",
         "0.0289281104719189",
         "Webscraped vs Yelp (Phone)",
         "0.0289281104719189",
         "Webscraped vs Yelp (Phone)",
         "40.734282",
         "-111.4986155",
         null,
         null,
         null,
         null,
         "40.734282",
         "-111.4986155",
         null,
         null,
         null,
         null,
         null,
         null
        ],
        [
         "20",
         "D Silver Creek , 84060 Bell's Silver Creek Junction ( Sinclair )",
         "435-649-9243 I-80 Exit 146 ( US 40 )",
         "24 M <U+25A1> <U+25A1> <U+2610>",
         "Silver Creek",
         "84060",
         "Bell's Silver Creek Junction ( Sinclair )",
         "435-649-9243",
         "2008",
         "Park City",
         "UT",
         "Sinclair",
         "( US 40 )",
         "I-80 Exit 146 ",
         "Exit",
         "146",
         "146",
         null,
         "False",
         null,
         "False",
         "I-80",
         null,
         null,
         null,
         null,
         "[403, 852]",
         "[]",
         "[289, 403, 748, 852]",
         "[62, 202, 307, 403, 672, 765, 852]",
         "[398, 399, 400, 401, 402, 403, 404, 405, 406, 407, 408, 409, 410, 411, 412, 413, 414, 415, 416, 417, 418, 419, 420, 421, 422, 423, 424, 425, 426, 427, 428, 429, 430, 431, 432, 433, 434, 435, 436, 437, 438, 439, 440, 441, 442, 443, 444, 445, 446, 447, 448, 449, 450, 451, 452, 453, 454, 455, 456, 457, 458, 459, 460, 461, 462, 463, 464, 465, 466, 467, 468, 469, 470, 471, 472, 473, 474, 475, 476, 477, 478, 479, 480, 481, 482, 483, 484, 848, 849, 850, 851, 852, 853, 854, 855, 856, 857, 858, 859, 860, 861, 862, 863, 864, 865, 866, 867, 868, 869, 870, 871, 872, 873, 874, 875, 876, 877, 878, 879, 880, 881, 882, 883, 884, 885, 886, 887, 888, 889, 890, 891, 892, 893, 894, 895, 896, 897, 898, 899, 900, 901, 902, 903, 904, 905, 906, 907, 908, 909, 910, 911, 912, 913, 914, 915, 916, 917, 918, 919, 920, 921, 922, 923, 924, 925, 926, 927, 928, 929, 930, 931, 932, 933, 934, 935]",
         "[89, 108, 172, 217, 221, 239, 264, 280, 321, 342, 343, 344, 345, 346, 349, 351, 352, 355, 357, 359, 364, 368, 371, 372, 373, 374, 376, 377, 387, 392, 393, 403, 409, 411, 414, 424, 430, 449, 454, 470, 480, 560, 584, 643, 685, 703, 724, 739, 779, 798, 799, 800, 801, 804, 806, 807, 810, 812, 814, 816, 821, 822, 823, 824, 826, 827, 837, 842, 843, 852, 859, 862, 865, 869, 876, 882, 897, 901, 917, 932]",
         "[31, 142, 147, 180, 338, 352, 367, 387, 403, 405, 408, 410, 455, 465, 466, 468, 470, 472, 473, 483, 484, 514, 613, 618, 651, 794, 807, 837, 852, 854, 858, 861, 902, 912, 913, 915, 917, 919, 920, 931, 934, 935]",
         "[31, 142, 147, 179, 180, 338, 352, 353, 367, 386, 387, 402, 403, 405, 408, 410, 426, 428, 455, 465, 466, 468, 470, 472, 473, 483, 484, 514, 613, 618, 650, 651, 794, 807, 808, 836, 837, 851, 852, 854, 858, 861, 878, 880, 902, 912, 913, 915, 917, 919, 920, 931, 934, 935]",
         "[916, 514, 917, 918, 387, 919, 920, 921, 922, 31, 923, 924, 925, 560, 926, 927, 62, 928, 929, 930, 584, 931, 932, 933, 89, 934, 935, 613, 618, 108, 643, 392, 651, 650, 142, 372, 147, 672, 393, 338, 373, 172, 685, 179, 180, 342, 343, 703, 344, 374, 345, 202, 346, 724, 217, 349, 221, 739, 351, 748, 352, 239, 353, 376, 355, 765, 357, 264, 779, 377, 359, 280, 794, 798, 799, 800, 289, 801, 804, 806, 807, 364, 808, 810, 812, 814, 816, 307, 821, 822, 823, 824, 367, 826, 827, 368, 321, 836, 837, 842, 371, 843, 848, 849, 850, 851, 852, 853, 854, 855, 856, 857, 858, 859, 860, 861, 862, 863, 864, 865, 866, 867, 868, 869, 870, 871, 872, 873, 874, 875, 876, 877, 878, 879, 880, 881, 882, 883, 884, 885, 886, 887, 888, 889, 890, 891, 892, 893, 894, 895, 896, 897, 898, 899, 900, 901, 902, 903, 904, 905, 906, 907, 908, 909, 398, 399, 400, 401, 402, 403, 404, 405, 406, 407, 408, 409, 410, 411, 412, 413, 414, 415, 416, 417, 418, 419, 420, 421, 422, 423, 424, 425, 426, 427, 428, 429, 430, 431, 432, 433, 434, 435, 436, 437, 438, 439, 440, 441, 442, 443, 444, 445, 446, 447, 448, 449, 450, 451, 452, 453, 454, 455, 456, 457, 458, 459, 460, 461, 462, 463, 464, 465, 466, 467, 468, 469, 470, 471, 472, 473, 474, 475, 476, 477, 478, 479, 480, 481, 482, 483, 484, 910, 911, 912, 913, 386, 914, 915]",
         "[403, 852]",
         "True",
         "[]",
         "[398, 399, 400, 401, 402, 403, 404, 405, 406, 407, 408, 409, 410, 411, 412, 413, 414, 415, 416, 417, 418, 419, 420, 421, 422, 423, 424, 425, 426, 427, 428, 429, 430, 431, 432, 433, 434, 435, 436, 437, 438, 439, 440, 441, 442, 443, 444, 445, 446, 447, 448, 449, 450, 451, 452, 453, 454, 455, 456, 457, 458, 459, 460, 461, 462, 463, 464, 465, 466, 467, 468, 469, 470, 471, 472, 473, 474, 475, 476, 477, 478, 479, 480, 481, 482, 483, 484, 848, 849, 850, 851, 852, 853, 854, 855, 856, 857, 858, 859, 860, 861, 862, 863, 864, 865, 866, 867, 868, 869, 870, 871, 872, 873, 874, 875, 876, 877, 878, 879, 880, 881, 882, 883, 884, 885, 886, 887, 888, 889, 890, 891, 892, 893, 894, 895, 896, 897, 898, 899, 900, 901, 902, 903, 904, 905, 906, 907, 908, 909, 910, 911, 912, 913, 914, 915, 916, 917, 918, 919, 920, 921, 922, 923, 924, 925, 926, 927, 928, 929, 930, 931, 932, 933, 934, 935]",
         "[289, 403, 748, 852]",
         "[62, 202, 307, 403, 672, 765, 852]",
         "[89, 108, 172, 217, 221, 239, 264, 280, 321, 342, 343, 344, 345, 346, 349, 351, 352, 355, 357, 359, 364, 368, 371, 372, 373, 374, 376, 377, 387, 392, 393, 403, 409, 411, 414, 424, 430, 449, 454, 470, 480, 560, 584, 643, 685, 703, 724, 739, 779, 798, 799, 800, 801, 804, 806, 807, 810, 812, 814, 816, 821, 822, 823, 824, 826, 827, 837, 842, 843, 852, 859, 862, 865, 869, 876, 882, 897, 901, 917, 932]",
         "[31, 142, 147, 179, 180, 338, 352, 353, 367, 386, 387, 402, 403, 405, 408, 410, 426, 428, 455, 465, 466, 468, 470, 472, 473, 483, 484, 514, 613, 618, 650, 651, 794, 807, 808, 836, 837, 851, 852, 854, 858, 861, 878, 880, 902, 912, 913, 915, 917, 919, 920, 931, 934, 935]",
         "[31, 142, 147, 180, 338, 352, 367, 387, 403, 405, 408, 410, 455, 465, 466, 468, 470, 472, 473, 483, 484, 514, 613, 618, 651, 794, 807, 837, 852, 854, 858, 861, 902, 912, 913, 915, 917, 919, 920, 931, 934, 935]",
         "7/6 successful match",
         "True",
         "[385, 386, 387]",
         "True",
         "4",
         "[9, 10, 11]",
         "True",
         "46; 46",
         "Utah; Utah",
         "BELL'S SILVERCREEK JUNCTION; BELL'S SILVERCREEK JUNCTION",
         "https://www.truckstopsandservices.com/location_details.php?id=319; http://www.rvandtravelers.com/location_details.php?id=319",
         "Trucker; RVer",
         "sinclair oil .svg; sinclair oil .svg",
         "40.734404; nan",
         "-111.498391; nan",
         "nan; nan",
         "40.734404; 40.734404",
         "-111.498391; -111.498391",
         "I-80; I-80",
         "146; 146",
         "7100 SILVER CREEK RD; 7100 SILVER CREEK RD",
         "SILVER CREEK; SILVER CREEK",
         "UT; UT",
         "84098; 84098",
         "435-649-9243 (TRAVEL CENTER); 435-649-9243 (TRAVEL CENTER)",
         "435-649-9245; 435-649-9245",
         "435-649-9243 (SUBWAY); 435-649-9243 (SUBWAY)",
         "435-649-9243 (PIZZA HUT); 435-649-9243 (PIZZA HUT)",
         "nan; nan",
         "nan; nan",
         "nan; nan",
         "nan; nan",
         "nan; nan",
         "nan; nan",
         "[403, 852]",
         "46; 46",
         "Utah; Utah",
         "BELL'S SILVERCREEK JUNCTION; BELL'S SILVERCREEK JUNCTION",
         "https://www.truckstopsandservices.com/location_details.php?id=319; http://www.rvandtravelers.com/location_details.php?id=319",
         "Trucker; RVer",
         "sinclair oil .svg; sinclair oil .svg",
         "40.734404; nan",
         "-111.498391; nan",
         "nan; nan",
         "40.734404; 40.734404",
         "-111.498391; -111.498391",
         "I-80; I-80",
         "146; 146",
         "7100 SILVER CREEK RD; 7100 SILVER CREEK RD",
         "SILVER CREEK; SILVER CREEK",
         "UT; UT",
         "84098; 84098",
         "435-649-9243 (TRAVEL CENTER); 435-649-9243 (TRAVEL CENTER)",
         "435-649-9245; 435-649-9245",
         "435-649-9243 (SUBWAY); 435-649-9243 (SUBWAY)",
         "435-649-9243 (PIZZA HUT); 435-649-9243 (PIZZA HUT)",
         "nan; nan",
         "nan; nan",
         "nan; nan",
         "nan; nan",
         "nan; nan",
         "nan; nan",
         "14356499243; 14356499243; 14356499243",
         "Blimpie; Bell's Silver Creek; Subway",
         "4.0; 1.8; 2.7",
         "1.0; 9.0; 3.0",
         "7100 Silver Creek Rd, Park City, UT 84098; 7100 Silver Creek Rd, Park City, UT 84098; 7100 Silver Creek Rd, Park City, UT 84098",
         "Park City; Park City; Park City",
         "UT; UT; UT",
         "84098.0; 84098.0; 84098.0",
         "(435) 649-9243; (435) 649-9243; (435) 649-9243",
         "Sandwiches; Convenience Stores; Sandwiches, Fast Food",
         "40.73416; 40.73416; 40.73416151067082",
         "-111.49884; -111.49884; -111.49888136867628",
         "nan; nan; nan",
         "True; False; False",
         "https://www.yelp.com/biz/blimpie-park-city?adjust_creative=xElCeMfmOucjLmXEMhJkIg&utm_campaign=yelp_api_v3&utm_medium=api_v3_phone_search&utm_source=xElCeMfmOucjLmXEMhJkIg; https://www.yelp.com/biz/bells-silver-creek-park-city?adjust_creative=xElCeMfmOucjLmXEMhJkIg&utm_campaign=yelp_api_v3&utm_medium=api_v3_phone_search&utm_source=xElCeMfmOucjLmXEMhJkIg; https://www.yelp.com/biz/subway-park-city-10?adjust_creative=xElCeMfmOucjLmXEMhJkIg&utm_campaign=yelp_api_v3&utm_medium=api_v3_phone_search&utm_source=xElCeMfmOucjLmXEMhJkIg",
         "7100 Silver Creek RdPark City, UT 84098; 7100 Silver Creek RdPark City, UT 84098; 7100 Silver Creek RdPark City, UT 84098",
         "nan; nan; Cng America - Bells Silver Creek - Sinclair",
         "Sinclair Gas Station; Subway; Bells Silver Creek",
         "https://www.yellowpages.com/park-city-ut/mip/sinclair-gas-station-476008800; https://www.yellowpages.com/park-city-ut/mip/subway-530022502; https://www.yellowpages.com/park-city-ut/mip/bells-silver-creek-458137400",
         "Gas Stations, Convenience Stores; Fast Food Restaurants, Restaurants, Sandwich Shops; Pizza, Convenience Stores, Restaurants",
         "nan; nan; 435 649 9245",
         "nan; nan; nan",
         "Park City; Park City; Park City",
         "40.73355; 40.73355; 40.73355",
         "-111.498886; -111.498886; -111.498886",
         "Sinclair Gas Station; Subway; Bells Silver Creek",
         "(435) 649-9243; (435) 649-9243; (435) 649-9243",
         "UT; UT; UT",
         "7100 Silver Creek Rd; 7100 Silver Creek Rd; 7100 Silver Creek Rd",
         "84098.0; 84098.0; 84098.0",
         "435-649-9243; 435-649-9243; 435-649-9243",
         "(435) 649-9243Call; (435) 649-9243Call; (435) 649-9243Call",
         "2025-07-07T04:12:39.934Z; 2025-07-07T04:12:42.946Z; 2025-07-07T04:12:46.659Z",
         "https://www.yellowpages.com/search?search_terms=435+649+9243; https://www.yellowpages.com/search?search_terms=435+649+9243; https://www.yellowpages.com/search?search_terms=435+649+9243",
         "nan; nan; nan",
         "nan; https://restaurants.subway.com/united-states/ut/park-city/7100-silver-creek-road?utm_source=yext-other&utm_medium=local&utm_term=acq&utm_content=67161&utm_campaign=evergreen-2020&y_source=1_MTQ5MDIyNjUtNTUzLWxvY2F0aW9uLndlYnNpdGU%3D; https://am-best.com",
         "0.0644468574755644",
         "Webscraped vs YellowPages (Phone)",
         "0.0289281104719189",
         "Webscraped vs Yelp (Phone)",
         "0.0289281104719189",
         "Webscraped vs Yelp (Phone)",
         "40.734282",
         "-111.4986155",
         null,
         null,
         null,
         null,
         "40.734282",
         "-111.4986155",
         null,
         null,
         null,
         null,
         null,
         null
        ],
        [
         "21",
         "D Silver Creek ( 84060 ) Bell's Silver Creek Junction ( Sinclair )",
         "435-649-9243 I-80 Exit 146 ( US 40 )",
         "24 S",
         "Silver Creek",
         "84060",
         "Bell's Silver Creek Junction ( Sinclair )",
         "435-649-9243",
         "2014",
         "Park City",
         "UT",
         "Sinclair",
         "( US 40 )",
         "I-80 Exit 146 ",
         "Exit",
         "146",
         "146",
         null,
         "False",
         null,
         "False",
         "I-80",
         null,
         null,
         null,
         null,
         "[403, 852]",
         "[]",
         "[289, 403, 748, 852]",
         "[62, 202, 307, 403, 672, 765, 852]",
         "[398, 399, 400, 401, 402, 403, 404, 405, 406, 407, 408, 409, 410, 411, 412, 413, 414, 415, 416, 417, 418, 419, 420, 421, 422, 423, 424, 425, 426, 427, 428, 429, 430, 431, 432, 433, 434, 435, 436, 437, 438, 439, 440, 441, 442, 443, 444, 445, 446, 447, 448, 449, 450, 451, 452, 453, 454, 455, 456, 457, 458, 459, 460, 461, 462, 463, 464, 465, 466, 467, 468, 469, 470, 471, 472, 473, 474, 475, 476, 477, 478, 479, 480, 481, 482, 483, 484, 848, 849, 850, 851, 852, 853, 854, 855, 856, 857, 858, 859, 860, 861, 862, 863, 864, 865, 866, 867, 868, 869, 870, 871, 872, 873, 874, 875, 876, 877, 878, 879, 880, 881, 882, 883, 884, 885, 886, 887, 888, 889, 890, 891, 892, 893, 894, 895, 896, 897, 898, 899, 900, 901, 902, 903, 904, 905, 906, 907, 908, 909, 910, 911, 912, 913, 914, 915, 916, 917, 918, 919, 920, 921, 922, 923, 924, 925, 926, 927, 928, 929, 930, 931, 932, 933, 934, 935]",
         "[89, 108, 172, 217, 221, 239, 264, 280, 321, 342, 343, 344, 345, 346, 349, 351, 352, 355, 357, 359, 364, 368, 371, 372, 373, 374, 376, 377, 387, 392, 393, 403, 409, 411, 414, 424, 430, 449, 454, 470, 480, 560, 584, 643, 685, 703, 724, 739, 779, 798, 799, 800, 801, 804, 806, 807, 810, 812, 814, 816, 821, 822, 823, 824, 826, 827, 837, 842, 843, 852, 859, 862, 865, 869, 876, 882, 897, 901, 917, 932]",
         "[31, 142, 147, 180, 338, 352, 367, 387, 403, 405, 408, 410, 455, 465, 466, 468, 470, 472, 473, 483, 484, 514, 613, 618, 651, 794, 807, 837, 852, 854, 858, 861, 902, 912, 913, 915, 917, 919, 920, 931, 934, 935]",
         "[31, 142, 147, 179, 180, 338, 352, 353, 367, 386, 387, 402, 403, 405, 408, 410, 426, 428, 455, 465, 466, 468, 470, 472, 473, 483, 484, 514, 613, 618, 650, 651, 794, 807, 808, 836, 837, 851, 852, 854, 858, 861, 878, 880, 902, 912, 913, 915, 917, 919, 920, 931, 934, 935]",
         "[916, 514, 917, 918, 387, 919, 920, 921, 922, 31, 923, 924, 925, 560, 926, 927, 62, 928, 929, 930, 584, 931, 932, 933, 89, 934, 935, 613, 618, 108, 643, 392, 651, 650, 142, 372, 147, 672, 393, 338, 373, 172, 685, 179, 180, 342, 343, 703, 344, 374, 345, 202, 346, 724, 217, 349, 221, 739, 351, 748, 352, 239, 353, 376, 355, 765, 357, 264, 779, 377, 359, 280, 794, 798, 799, 800, 289, 801, 804, 806, 807, 364, 808, 810, 812, 814, 816, 307, 821, 822, 823, 824, 367, 826, 827, 368, 321, 836, 837, 842, 371, 843, 848, 849, 850, 851, 852, 853, 854, 855, 856, 857, 858, 859, 860, 861, 862, 863, 864, 865, 866, 867, 868, 869, 870, 871, 872, 873, 874, 875, 876, 877, 878, 879, 880, 881, 882, 883, 884, 885, 886, 887, 888, 889, 890, 891, 892, 893, 894, 895, 896, 897, 898, 899, 900, 901, 902, 903, 904, 905, 906, 907, 908, 909, 398, 399, 400, 401, 402, 403, 404, 405, 406, 407, 408, 409, 410, 411, 412, 413, 414, 415, 416, 417, 418, 419, 420, 421, 422, 423, 424, 425, 426, 427, 428, 429, 430, 431, 432, 433, 434, 435, 436, 437, 438, 439, 440, 441, 442, 443, 444, 445, 446, 447, 448, 449, 450, 451, 452, 453, 454, 455, 456, 457, 458, 459, 460, 461, 462, 463, 464, 465, 466, 467, 468, 469, 470, 471, 472, 473, 474, 475, 476, 477, 478, 479, 480, 481, 482, 483, 484, 910, 911, 912, 913, 386, 914, 915]",
         "[403, 852]",
         "True",
         "[]",
         "[398, 399, 400, 401, 402, 403, 404, 405, 406, 407, 408, 409, 410, 411, 412, 413, 414, 415, 416, 417, 418, 419, 420, 421, 422, 423, 424, 425, 426, 427, 428, 429, 430, 431, 432, 433, 434, 435, 436, 437, 438, 439, 440, 441, 442, 443, 444, 445, 446, 447, 448, 449, 450, 451, 452, 453, 454, 455, 456, 457, 458, 459, 460, 461, 462, 463, 464, 465, 466, 467, 468, 469, 470, 471, 472, 473, 474, 475, 476, 477, 478, 479, 480, 481, 482, 483, 484, 848, 849, 850, 851, 852, 853, 854, 855, 856, 857, 858, 859, 860, 861, 862, 863, 864, 865, 866, 867, 868, 869, 870, 871, 872, 873, 874, 875, 876, 877, 878, 879, 880, 881, 882, 883, 884, 885, 886, 887, 888, 889, 890, 891, 892, 893, 894, 895, 896, 897, 898, 899, 900, 901, 902, 903, 904, 905, 906, 907, 908, 909, 910, 911, 912, 913, 914, 915, 916, 917, 918, 919, 920, 921, 922, 923, 924, 925, 926, 927, 928, 929, 930, 931, 932, 933, 934, 935]",
         "[289, 403, 748, 852]",
         "[62, 202, 307, 403, 672, 765, 852]",
         "[89, 108, 172, 217, 221, 239, 264, 280, 321, 342, 343, 344, 345, 346, 349, 351, 352, 355, 357, 359, 364, 368, 371, 372, 373, 374, 376, 377, 387, 392, 393, 403, 409, 411, 414, 424, 430, 449, 454, 470, 480, 560, 584, 643, 685, 703, 724, 739, 779, 798, 799, 800, 801, 804, 806, 807, 810, 812, 814, 816, 821, 822, 823, 824, 826, 827, 837, 842, 843, 852, 859, 862, 865, 869, 876, 882, 897, 901, 917, 932]",
         "[31, 142, 147, 179, 180, 338, 352, 353, 367, 386, 387, 402, 403, 405, 408, 410, 426, 428, 455, 465, 466, 468, 470, 472, 473, 483, 484, 514, 613, 618, 650, 651, 794, 807, 808, 836, 837, 851, 852, 854, 858, 861, 878, 880, 902, 912, 913, 915, 917, 919, 920, 931, 934, 935]",
         "[31, 142, 147, 180, 338, 352, 367, 387, 403, 405, 408, 410, 455, 465, 466, 468, 470, 472, 473, 483, 484, 514, 613, 618, 651, 794, 807, 837, 852, 854, 858, 861, 902, 912, 913, 915, 917, 919, 920, 931, 934, 935]",
         "7/6 successful match",
         "True",
         "[385, 386, 387]",
         "True",
         "4",
         "[9, 10, 11]",
         "True",
         "46; 46",
         "Utah; Utah",
         "BELL'S SILVERCREEK JUNCTION; BELL'S SILVERCREEK JUNCTION",
         "https://www.truckstopsandservices.com/location_details.php?id=319; http://www.rvandtravelers.com/location_details.php?id=319",
         "Trucker; RVer",
         "sinclair oil .svg; sinclair oil .svg",
         "40.734404; nan",
         "-111.498391; nan",
         "nan; nan",
         "40.734404; 40.734404",
         "-111.498391; -111.498391",
         "I-80; I-80",
         "146; 146",
         "7100 SILVER CREEK RD; 7100 SILVER CREEK RD",
         "SILVER CREEK; SILVER CREEK",
         "UT; UT",
         "84098; 84098",
         "435-649-9243 (TRAVEL CENTER); 435-649-9243 (TRAVEL CENTER)",
         "435-649-9245; 435-649-9245",
         "435-649-9243 (SUBWAY); 435-649-9243 (SUBWAY)",
         "435-649-9243 (PIZZA HUT); 435-649-9243 (PIZZA HUT)",
         "nan; nan",
         "nan; nan",
         "nan; nan",
         "nan; nan",
         "nan; nan",
         "nan; nan",
         "[403, 852]",
         "46; 46",
         "Utah; Utah",
         "BELL'S SILVERCREEK JUNCTION; BELL'S SILVERCREEK JUNCTION",
         "https://www.truckstopsandservices.com/location_details.php?id=319; http://www.rvandtravelers.com/location_details.php?id=319",
         "Trucker; RVer",
         "sinclair oil .svg; sinclair oil .svg",
         "40.734404; nan",
         "-111.498391; nan",
         "nan; nan",
         "40.734404; 40.734404",
         "-111.498391; -111.498391",
         "I-80; I-80",
         "146; 146",
         "7100 SILVER CREEK RD; 7100 SILVER CREEK RD",
         "SILVER CREEK; SILVER CREEK",
         "UT; UT",
         "84098; 84098",
         "435-649-9243 (TRAVEL CENTER); 435-649-9243 (TRAVEL CENTER)",
         "435-649-9245; 435-649-9245",
         "435-649-9243 (SUBWAY); 435-649-9243 (SUBWAY)",
         "435-649-9243 (PIZZA HUT); 435-649-9243 (PIZZA HUT)",
         "nan; nan",
         "nan; nan",
         "nan; nan",
         "nan; nan",
         "nan; nan",
         "nan; nan",
         "14356499243; 14356499243; 14356499243",
         "Blimpie; Bell's Silver Creek; Subway",
         "4.0; 1.8; 2.7",
         "1.0; 9.0; 3.0",
         "7100 Silver Creek Rd, Park City, UT 84098; 7100 Silver Creek Rd, Park City, UT 84098; 7100 Silver Creek Rd, Park City, UT 84098",
         "Park City; Park City; Park City",
         "UT; UT; UT",
         "84098.0; 84098.0; 84098.0",
         "(435) 649-9243; (435) 649-9243; (435) 649-9243",
         "Sandwiches; Convenience Stores; Sandwiches, Fast Food",
         "40.73416; 40.73416; 40.73416151067082",
         "-111.49884; -111.49884; -111.49888136867628",
         "nan; nan; nan",
         "True; False; False",
         "https://www.yelp.com/biz/blimpie-park-city?adjust_creative=xElCeMfmOucjLmXEMhJkIg&utm_campaign=yelp_api_v3&utm_medium=api_v3_phone_search&utm_source=xElCeMfmOucjLmXEMhJkIg; https://www.yelp.com/biz/bells-silver-creek-park-city?adjust_creative=xElCeMfmOucjLmXEMhJkIg&utm_campaign=yelp_api_v3&utm_medium=api_v3_phone_search&utm_source=xElCeMfmOucjLmXEMhJkIg; https://www.yelp.com/biz/subway-park-city-10?adjust_creative=xElCeMfmOucjLmXEMhJkIg&utm_campaign=yelp_api_v3&utm_medium=api_v3_phone_search&utm_source=xElCeMfmOucjLmXEMhJkIg",
         "7100 Silver Creek RdPark City, UT 84098; 7100 Silver Creek RdPark City, UT 84098; 7100 Silver Creek RdPark City, UT 84098",
         "nan; nan; Cng America - Bells Silver Creek - Sinclair",
         "Sinclair Gas Station; Subway; Bells Silver Creek",
         "https://www.yellowpages.com/park-city-ut/mip/sinclair-gas-station-476008800; https://www.yellowpages.com/park-city-ut/mip/subway-530022502; https://www.yellowpages.com/park-city-ut/mip/bells-silver-creek-458137400",
         "Gas Stations, Convenience Stores; Fast Food Restaurants, Restaurants, Sandwich Shops; Pizza, Convenience Stores, Restaurants",
         "nan; nan; 435 649 9245",
         "nan; nan; nan",
         "Park City; Park City; Park City",
         "40.73355; 40.73355; 40.73355",
         "-111.498886; -111.498886; -111.498886",
         "Sinclair Gas Station; Subway; Bells Silver Creek",
         "(435) 649-9243; (435) 649-9243; (435) 649-9243",
         "UT; UT; UT",
         "7100 Silver Creek Rd; 7100 Silver Creek Rd; 7100 Silver Creek Rd",
         "84098.0; 84098.0; 84098.0",
         "435-649-9243; 435-649-9243; 435-649-9243",
         "(435) 649-9243Call; (435) 649-9243Call; (435) 649-9243Call",
         "2025-07-07T04:12:39.934Z; 2025-07-07T04:12:42.946Z; 2025-07-07T04:12:46.659Z",
         "https://www.yellowpages.com/search?search_terms=435+649+9243; https://www.yellowpages.com/search?search_terms=435+649+9243; https://www.yellowpages.com/search?search_terms=435+649+9243",
         "nan; nan; nan",
         "nan; https://restaurants.subway.com/united-states/ut/park-city/7100-silver-creek-road?utm_source=yext-other&utm_medium=local&utm_term=acq&utm_content=67161&utm_campaign=evergreen-2020&y_source=1_MTQ5MDIyNjUtNTUzLWxvY2F0aW9uLndlYnNpdGU%3D; https://am-best.com",
         "0.0644468574755644",
         "Webscraped vs YellowPages (Phone)",
         "0.0289281104719189",
         "Webscraped vs Yelp (Phone)",
         "0.0289281104719189",
         "Webscraped vs Yelp (Phone)",
         "40.734282",
         "-111.4986155",
         null,
         null,
         null,
         null,
         "40.734282",
         "-111.4986155",
         null,
         null,
         null,
         null,
         null,
         null
        ],
        [
         "22",
         "Silver Creek ( 84060 ) Bell's Silver Creek Junction ( Sinclair )",
         "435-649-9243 I-80 Exit 146 ( US 40 ) AMREST",
         "24 S D",
         "Silver Creek",
         "84060",
         "Bell's Silver Creek Junction ( Sinclair )",
         "435-649-9243",
         "2015",
         "Park City",
         "UT",
         "Sinclair",
         "( US 40 ) AMREST",
         "I-80 Exit 146 ",
         "Exit",
         "146",
         "146",
         null,
         "False",
         null,
         "False",
         "I-80",
         null,
         null,
         null,
         null,
         "[403, 852]",
         "[]",
         "[289, 403, 748, 852]",
         "[62, 202, 307, 403, 672, 765, 852]",
         "[398, 399, 400, 401, 402, 403, 404, 405, 406, 407, 408, 409, 410, 411, 412, 413, 414, 415, 416, 417, 418, 419, 420, 421, 422, 423, 424, 425, 426, 427, 428, 429, 430, 431, 432, 433, 434, 435, 436, 437, 438, 439, 440, 441, 442, 443, 444, 445, 446, 447, 448, 449, 450, 451, 452, 453, 454, 455, 456, 457, 458, 459, 460, 461, 462, 463, 464, 465, 466, 467, 468, 469, 470, 471, 472, 473, 474, 475, 476, 477, 478, 479, 480, 481, 482, 483, 484, 848, 849, 850, 851, 852, 853, 854, 855, 856, 857, 858, 859, 860, 861, 862, 863, 864, 865, 866, 867, 868, 869, 870, 871, 872, 873, 874, 875, 876, 877, 878, 879, 880, 881, 882, 883, 884, 885, 886, 887, 888, 889, 890, 891, 892, 893, 894, 895, 896, 897, 898, 899, 900, 901, 902, 903, 904, 905, 906, 907, 908, 909, 910, 911, 912, 913, 914, 915, 916, 917, 918, 919, 920, 921, 922, 923, 924, 925, 926, 927, 928, 929, 930, 931, 932, 933, 934, 935]",
         "[89, 108, 172, 217, 221, 239, 264, 280, 321, 342, 343, 344, 345, 346, 349, 351, 352, 355, 357, 359, 364, 368, 371, 372, 373, 374, 376, 377, 387, 392, 393, 403, 409, 411, 414, 424, 430, 449, 454, 470, 480, 560, 584, 643, 685, 703, 724, 739, 779, 798, 799, 800, 801, 804, 806, 807, 810, 812, 814, 816, 821, 822, 823, 824, 826, 827, 837, 842, 843, 852, 859, 862, 865, 869, 876, 882, 897, 901, 917, 932]",
         "[31, 142, 147, 180, 338, 352, 367, 387, 403, 405, 408, 410, 455, 465, 466, 468, 470, 472, 473, 483, 484, 514, 613, 618, 651, 794, 807, 837, 852, 854, 858, 861, 902, 912, 913, 915, 917, 919, 920, 931, 934, 935]",
         "[31, 142, 147, 179, 180, 338, 352, 353, 367, 386, 387, 402, 403, 405, 408, 410, 426, 428, 455, 465, 466, 468, 470, 472, 473, 483, 484, 514, 613, 618, 650, 651, 794, 807, 808, 836, 837, 851, 852, 854, 858, 861, 878, 880, 902, 912, 913, 915, 917, 919, 920, 931, 934, 935]",
         "[916, 514, 917, 918, 387, 919, 920, 921, 922, 31, 923, 924, 925, 560, 926, 927, 62, 928, 929, 930, 584, 931, 932, 933, 89, 934, 935, 613, 618, 108, 643, 392, 651, 650, 142, 372, 147, 672, 393, 338, 373, 172, 685, 179, 180, 342, 343, 703, 344, 374, 345, 202, 346, 724, 217, 349, 221, 739, 351, 748, 352, 239, 353, 376, 355, 765, 357, 264, 779, 377, 359, 280, 794, 798, 799, 800, 289, 801, 804, 806, 807, 364, 808, 810, 812, 814, 816, 307, 821, 822, 823, 824, 367, 826, 827, 368, 321, 836, 837, 842, 371, 843, 848, 849, 850, 851, 852, 853, 854, 855, 856, 857, 858, 859, 860, 861, 862, 863, 864, 865, 866, 867, 868, 869, 870, 871, 872, 873, 874, 875, 876, 877, 878, 879, 880, 881, 882, 883, 884, 885, 886, 887, 888, 889, 890, 891, 892, 893, 894, 895, 896, 897, 898, 899, 900, 901, 902, 903, 904, 905, 906, 907, 908, 909, 398, 399, 400, 401, 402, 403, 404, 405, 406, 407, 408, 409, 410, 411, 412, 413, 414, 415, 416, 417, 418, 419, 420, 421, 422, 423, 424, 425, 426, 427, 428, 429, 430, 431, 432, 433, 434, 435, 436, 437, 438, 439, 440, 441, 442, 443, 444, 445, 446, 447, 448, 449, 450, 451, 452, 453, 454, 455, 456, 457, 458, 459, 460, 461, 462, 463, 464, 465, 466, 467, 468, 469, 470, 471, 472, 473, 474, 475, 476, 477, 478, 479, 480, 481, 482, 483, 484, 910, 911, 912, 913, 386, 914, 915]",
         "[403, 852]",
         "True",
         "[]",
         "[398, 399, 400, 401, 402, 403, 404, 405, 406, 407, 408, 409, 410, 411, 412, 413, 414, 415, 416, 417, 418, 419, 420, 421, 422, 423, 424, 425, 426, 427, 428, 429, 430, 431, 432, 433, 434, 435, 436, 437, 438, 439, 440, 441, 442, 443, 444, 445, 446, 447, 448, 449, 450, 451, 452, 453, 454, 455, 456, 457, 458, 459, 460, 461, 462, 463, 464, 465, 466, 467, 468, 469, 470, 471, 472, 473, 474, 475, 476, 477, 478, 479, 480, 481, 482, 483, 484, 848, 849, 850, 851, 852, 853, 854, 855, 856, 857, 858, 859, 860, 861, 862, 863, 864, 865, 866, 867, 868, 869, 870, 871, 872, 873, 874, 875, 876, 877, 878, 879, 880, 881, 882, 883, 884, 885, 886, 887, 888, 889, 890, 891, 892, 893, 894, 895, 896, 897, 898, 899, 900, 901, 902, 903, 904, 905, 906, 907, 908, 909, 910, 911, 912, 913, 914, 915, 916, 917, 918, 919, 920, 921, 922, 923, 924, 925, 926, 927, 928, 929, 930, 931, 932, 933, 934, 935]",
         "[289, 403, 748, 852]",
         "[62, 202, 307, 403, 672, 765, 852]",
         "[89, 108, 172, 217, 221, 239, 264, 280, 321, 342, 343, 344, 345, 346, 349, 351, 352, 355, 357, 359, 364, 368, 371, 372, 373, 374, 376, 377, 387, 392, 393, 403, 409, 411, 414, 424, 430, 449, 454, 470, 480, 560, 584, 643, 685, 703, 724, 739, 779, 798, 799, 800, 801, 804, 806, 807, 810, 812, 814, 816, 821, 822, 823, 824, 826, 827, 837, 842, 843, 852, 859, 862, 865, 869, 876, 882, 897, 901, 917, 932]",
         "[31, 142, 147, 179, 180, 338, 352, 353, 367, 386, 387, 402, 403, 405, 408, 410, 426, 428, 455, 465, 466, 468, 470, 472, 473, 483, 484, 514, 613, 618, 650, 651, 794, 807, 808, 836, 837, 851, 852, 854, 858, 861, 878, 880, 902, 912, 913, 915, 917, 919, 920, 931, 934, 935]",
         "[31, 142, 147, 180, 338, 352, 367, 387, 403, 405, 408, 410, 455, 465, 466, 468, 470, 472, 473, 483, 484, 514, 613, 618, 651, 794, 807, 837, 852, 854, 858, 861, 902, 912, 913, 915, 917, 919, 920, 931, 934, 935]",
         "7/6 successful match",
         "True",
         "[385, 386, 387]",
         "True",
         "4",
         "[9, 10, 11]",
         "True",
         "46; 46",
         "Utah; Utah",
         "BELL'S SILVERCREEK JUNCTION; BELL'S SILVERCREEK JUNCTION",
         "https://www.truckstopsandservices.com/location_details.php?id=319; http://www.rvandtravelers.com/location_details.php?id=319",
         "Trucker; RVer",
         "sinclair oil .svg; sinclair oil .svg",
         "40.734404; nan",
         "-111.498391; nan",
         "nan; nan",
         "40.734404; 40.734404",
         "-111.498391; -111.498391",
         "I-80; I-80",
         "146; 146",
         "7100 SILVER CREEK RD; 7100 SILVER CREEK RD",
         "SILVER CREEK; SILVER CREEK",
         "UT; UT",
         "84098; 84098",
         "435-649-9243 (TRAVEL CENTER); 435-649-9243 (TRAVEL CENTER)",
         "435-649-9245; 435-649-9245",
         "435-649-9243 (SUBWAY); 435-649-9243 (SUBWAY)",
         "435-649-9243 (PIZZA HUT); 435-649-9243 (PIZZA HUT)",
         "nan; nan",
         "nan; nan",
         "nan; nan",
         "nan; nan",
         "nan; nan",
         "nan; nan",
         "[403, 852]",
         "46; 46",
         "Utah; Utah",
         "BELL'S SILVERCREEK JUNCTION; BELL'S SILVERCREEK JUNCTION",
         "https://www.truckstopsandservices.com/location_details.php?id=319; http://www.rvandtravelers.com/location_details.php?id=319",
         "Trucker; RVer",
         "sinclair oil .svg; sinclair oil .svg",
         "40.734404; nan",
         "-111.498391; nan",
         "nan; nan",
         "40.734404; 40.734404",
         "-111.498391; -111.498391",
         "I-80; I-80",
         "146; 146",
         "7100 SILVER CREEK RD; 7100 SILVER CREEK RD",
         "SILVER CREEK; SILVER CREEK",
         "UT; UT",
         "84098; 84098",
         "435-649-9243 (TRAVEL CENTER); 435-649-9243 (TRAVEL CENTER)",
         "435-649-9245; 435-649-9245",
         "435-649-9243 (SUBWAY); 435-649-9243 (SUBWAY)",
         "435-649-9243 (PIZZA HUT); 435-649-9243 (PIZZA HUT)",
         "nan; nan",
         "nan; nan",
         "nan; nan",
         "nan; nan",
         "nan; nan",
         "nan; nan",
         "14356499243; 14356499243; 14356499243",
         "Blimpie; Bell's Silver Creek; Subway",
         "4.0; 1.8; 2.7",
         "1.0; 9.0; 3.0",
         "7100 Silver Creek Rd, Park City, UT 84098; 7100 Silver Creek Rd, Park City, UT 84098; 7100 Silver Creek Rd, Park City, UT 84098",
         "Park City; Park City; Park City",
         "UT; UT; UT",
         "84098.0; 84098.0; 84098.0",
         "(435) 649-9243; (435) 649-9243; (435) 649-9243",
         "Sandwiches; Convenience Stores; Sandwiches, Fast Food",
         "40.73416; 40.73416; 40.73416151067082",
         "-111.49884; -111.49884; -111.49888136867628",
         "nan; nan; nan",
         "True; False; False",
         "https://www.yelp.com/biz/blimpie-park-city?adjust_creative=xElCeMfmOucjLmXEMhJkIg&utm_campaign=yelp_api_v3&utm_medium=api_v3_phone_search&utm_source=xElCeMfmOucjLmXEMhJkIg; https://www.yelp.com/biz/bells-silver-creek-park-city?adjust_creative=xElCeMfmOucjLmXEMhJkIg&utm_campaign=yelp_api_v3&utm_medium=api_v3_phone_search&utm_source=xElCeMfmOucjLmXEMhJkIg; https://www.yelp.com/biz/subway-park-city-10?adjust_creative=xElCeMfmOucjLmXEMhJkIg&utm_campaign=yelp_api_v3&utm_medium=api_v3_phone_search&utm_source=xElCeMfmOucjLmXEMhJkIg",
         "7100 Silver Creek RdPark City, UT 84098; 7100 Silver Creek RdPark City, UT 84098; 7100 Silver Creek RdPark City, UT 84098",
         "nan; nan; Cng America - Bells Silver Creek - Sinclair",
         "Sinclair Gas Station; Subway; Bells Silver Creek",
         "https://www.yellowpages.com/park-city-ut/mip/sinclair-gas-station-476008800; https://www.yellowpages.com/park-city-ut/mip/subway-530022502; https://www.yellowpages.com/park-city-ut/mip/bells-silver-creek-458137400",
         "Gas Stations, Convenience Stores; Fast Food Restaurants, Restaurants, Sandwich Shops; Pizza, Convenience Stores, Restaurants",
         "nan; nan; 435 649 9245",
         "nan; nan; nan",
         "Park City; Park City; Park City",
         "40.73355; 40.73355; 40.73355",
         "-111.498886; -111.498886; -111.498886",
         "Sinclair Gas Station; Subway; Bells Silver Creek",
         "(435) 649-9243; (435) 649-9243; (435) 649-9243",
         "UT; UT; UT",
         "7100 Silver Creek Rd; 7100 Silver Creek Rd; 7100 Silver Creek Rd",
         "84098.0; 84098.0; 84098.0",
         "435-649-9243; 435-649-9243; 435-649-9243",
         "(435) 649-9243Call; (435) 649-9243Call; (435) 649-9243Call",
         "2025-07-07T04:12:39.934Z; 2025-07-07T04:12:42.946Z; 2025-07-07T04:12:46.659Z",
         "https://www.yellowpages.com/search?search_terms=435+649+9243; https://www.yellowpages.com/search?search_terms=435+649+9243; https://www.yellowpages.com/search?search_terms=435+649+9243",
         "nan; nan; nan",
         "nan; https://restaurants.subway.com/united-states/ut/park-city/7100-silver-creek-road?utm_source=yext-other&utm_medium=local&utm_term=acq&utm_content=67161&utm_campaign=evergreen-2020&y_source=1_MTQ5MDIyNjUtNTUzLWxvY2F0aW9uLndlYnNpdGU%3D; https://am-best.com",
         "0.0644468574755644",
         "Webscraped vs YellowPages (Phone)",
         "0.0289281104719189",
         "Webscraped vs Yelp (Phone)",
         "0.0289281104719189",
         "Webscraped vs Yelp (Phone)",
         "40.734282",
         "-111.4986155",
         null,
         null,
         null,
         null,
         "40.734282",
         "-111.4986155",
         null,
         null,
         null,
         null,
         null,
         null
        ],
        [
         "23",
         "D Silver Creek ( 84060 ) Bell's Silver Creek Junction ( Sinclair )",
         "435-649-9243 I-80 Exit 146 ( US 40 )",
         "24 S <U+2610>",
         "Silver Creek",
         "84060",
         "Bell's Silver Creek Junction ( Sinclair )",
         "435-649-9243",
         "2016",
         "Park City",
         "UT",
         "Sinclair",
         "( US 40 )",
         "I-80 Exit 146 ",
         "Exit",
         "146",
         "146",
         null,
         "False",
         null,
         "False",
         "I-80",
         null,
         null,
         null,
         null,
         "[403, 852]",
         "[]",
         "[289, 403, 748, 852]",
         "[62, 202, 307, 403, 672, 765, 852]",
         "[398, 399, 400, 401, 402, 403, 404, 405, 406, 407, 408, 409, 410, 411, 412, 413, 414, 415, 416, 417, 418, 419, 420, 421, 422, 423, 424, 425, 426, 427, 428, 429, 430, 431, 432, 433, 434, 435, 436, 437, 438, 439, 440, 441, 442, 443, 444, 445, 446, 447, 448, 449, 450, 451, 452, 453, 454, 455, 456, 457, 458, 459, 460, 461, 462, 463, 464, 465, 466, 467, 468, 469, 470, 471, 472, 473, 474, 475, 476, 477, 478, 479, 480, 481, 482, 483, 484, 848, 849, 850, 851, 852, 853, 854, 855, 856, 857, 858, 859, 860, 861, 862, 863, 864, 865, 866, 867, 868, 869, 870, 871, 872, 873, 874, 875, 876, 877, 878, 879, 880, 881, 882, 883, 884, 885, 886, 887, 888, 889, 890, 891, 892, 893, 894, 895, 896, 897, 898, 899, 900, 901, 902, 903, 904, 905, 906, 907, 908, 909, 910, 911, 912, 913, 914, 915, 916, 917, 918, 919, 920, 921, 922, 923, 924, 925, 926, 927, 928, 929, 930, 931, 932, 933, 934, 935]",
         "[89, 108, 172, 217, 221, 239, 264, 280, 321, 342, 343, 344, 345, 346, 349, 351, 352, 355, 357, 359, 364, 368, 371, 372, 373, 374, 376, 377, 387, 392, 393, 403, 409, 411, 414, 424, 430, 449, 454, 470, 480, 560, 584, 643, 685, 703, 724, 739, 779, 798, 799, 800, 801, 804, 806, 807, 810, 812, 814, 816, 821, 822, 823, 824, 826, 827, 837, 842, 843, 852, 859, 862, 865, 869, 876, 882, 897, 901, 917, 932]",
         "[31, 142, 147, 180, 338, 352, 367, 387, 403, 405, 408, 410, 455, 465, 466, 468, 470, 472, 473, 483, 484, 514, 613, 618, 651, 794, 807, 837, 852, 854, 858, 861, 902, 912, 913, 915, 917, 919, 920, 931, 934, 935]",
         "[31, 142, 147, 179, 180, 338, 352, 353, 367, 386, 387, 402, 403, 405, 408, 410, 426, 428, 455, 465, 466, 468, 470, 472, 473, 483, 484, 514, 613, 618, 650, 651, 794, 807, 808, 836, 837, 851, 852, 854, 858, 861, 878, 880, 902, 912, 913, 915, 917, 919, 920, 931, 934, 935]",
         "[916, 514, 917, 918, 387, 919, 920, 921, 922, 31, 923, 924, 925, 560, 926, 927, 62, 928, 929, 930, 584, 931, 932, 933, 89, 934, 935, 613, 618, 108, 643, 392, 651, 650, 142, 372, 147, 672, 393, 338, 373, 172, 685, 179, 180, 342, 343, 703, 344, 374, 345, 202, 346, 724, 217, 349, 221, 739, 351, 748, 352, 239, 353, 376, 355, 765, 357, 264, 779, 377, 359, 280, 794, 798, 799, 800, 289, 801, 804, 806, 807, 364, 808, 810, 812, 814, 816, 307, 821, 822, 823, 824, 367, 826, 827, 368, 321, 836, 837, 842, 371, 843, 848, 849, 850, 851, 852, 853, 854, 855, 856, 857, 858, 859, 860, 861, 862, 863, 864, 865, 866, 867, 868, 869, 870, 871, 872, 873, 874, 875, 876, 877, 878, 879, 880, 881, 882, 883, 884, 885, 886, 887, 888, 889, 890, 891, 892, 893, 894, 895, 896, 897, 898, 899, 900, 901, 902, 903, 904, 905, 906, 907, 908, 909, 398, 399, 400, 401, 402, 403, 404, 405, 406, 407, 408, 409, 410, 411, 412, 413, 414, 415, 416, 417, 418, 419, 420, 421, 422, 423, 424, 425, 426, 427, 428, 429, 430, 431, 432, 433, 434, 435, 436, 437, 438, 439, 440, 441, 442, 443, 444, 445, 446, 447, 448, 449, 450, 451, 452, 453, 454, 455, 456, 457, 458, 459, 460, 461, 462, 463, 464, 465, 466, 467, 468, 469, 470, 471, 472, 473, 474, 475, 476, 477, 478, 479, 480, 481, 482, 483, 484, 910, 911, 912, 913, 386, 914, 915]",
         "[403, 852]",
         "True",
         "[]",
         "[398, 399, 400, 401, 402, 403, 404, 405, 406, 407, 408, 409, 410, 411, 412, 413, 414, 415, 416, 417, 418, 419, 420, 421, 422, 423, 424, 425, 426, 427, 428, 429, 430, 431, 432, 433, 434, 435, 436, 437, 438, 439, 440, 441, 442, 443, 444, 445, 446, 447, 448, 449, 450, 451, 452, 453, 454, 455, 456, 457, 458, 459, 460, 461, 462, 463, 464, 465, 466, 467, 468, 469, 470, 471, 472, 473, 474, 475, 476, 477, 478, 479, 480, 481, 482, 483, 484, 848, 849, 850, 851, 852, 853, 854, 855, 856, 857, 858, 859, 860, 861, 862, 863, 864, 865, 866, 867, 868, 869, 870, 871, 872, 873, 874, 875, 876, 877, 878, 879, 880, 881, 882, 883, 884, 885, 886, 887, 888, 889, 890, 891, 892, 893, 894, 895, 896, 897, 898, 899, 900, 901, 902, 903, 904, 905, 906, 907, 908, 909, 910, 911, 912, 913, 914, 915, 916, 917, 918, 919, 920, 921, 922, 923, 924, 925, 926, 927, 928, 929, 930, 931, 932, 933, 934, 935]",
         "[289, 403, 748, 852]",
         "[62, 202, 307, 403, 672, 765, 852]",
         "[89, 108, 172, 217, 221, 239, 264, 280, 321, 342, 343, 344, 345, 346, 349, 351, 352, 355, 357, 359, 364, 368, 371, 372, 373, 374, 376, 377, 387, 392, 393, 403, 409, 411, 414, 424, 430, 449, 454, 470, 480, 560, 584, 643, 685, 703, 724, 739, 779, 798, 799, 800, 801, 804, 806, 807, 810, 812, 814, 816, 821, 822, 823, 824, 826, 827, 837, 842, 843, 852, 859, 862, 865, 869, 876, 882, 897, 901, 917, 932]",
         "[31, 142, 147, 179, 180, 338, 352, 353, 367, 386, 387, 402, 403, 405, 408, 410, 426, 428, 455, 465, 466, 468, 470, 472, 473, 483, 484, 514, 613, 618, 650, 651, 794, 807, 808, 836, 837, 851, 852, 854, 858, 861, 878, 880, 902, 912, 913, 915, 917, 919, 920, 931, 934, 935]",
         "[31, 142, 147, 180, 338, 352, 367, 387, 403, 405, 408, 410, 455, 465, 466, 468, 470, 472, 473, 483, 484, 514, 613, 618, 651, 794, 807, 837, 852, 854, 858, 861, 902, 912, 913, 915, 917, 919, 920, 931, 934, 935]",
         "7/6 successful match",
         "True",
         "[385, 386, 387]",
         "True",
         "4",
         "[9, 10, 11]",
         "True",
         "46; 46",
         "Utah; Utah",
         "BELL'S SILVERCREEK JUNCTION; BELL'S SILVERCREEK JUNCTION",
         "https://www.truckstopsandservices.com/location_details.php?id=319; http://www.rvandtravelers.com/location_details.php?id=319",
         "Trucker; RVer",
         "sinclair oil .svg; sinclair oil .svg",
         "40.734404; nan",
         "-111.498391; nan",
         "nan; nan",
         "40.734404; 40.734404",
         "-111.498391; -111.498391",
         "I-80; I-80",
         "146; 146",
         "7100 SILVER CREEK RD; 7100 SILVER CREEK RD",
         "SILVER CREEK; SILVER CREEK",
         "UT; UT",
         "84098; 84098",
         "435-649-9243 (TRAVEL CENTER); 435-649-9243 (TRAVEL CENTER)",
         "435-649-9245; 435-649-9245",
         "435-649-9243 (SUBWAY); 435-649-9243 (SUBWAY)",
         "435-649-9243 (PIZZA HUT); 435-649-9243 (PIZZA HUT)",
         "nan; nan",
         "nan; nan",
         "nan; nan",
         "nan; nan",
         "nan; nan",
         "nan; nan",
         "[403, 852]",
         "46; 46",
         "Utah; Utah",
         "BELL'S SILVERCREEK JUNCTION; BELL'S SILVERCREEK JUNCTION",
         "https://www.truckstopsandservices.com/location_details.php?id=319; http://www.rvandtravelers.com/location_details.php?id=319",
         "Trucker; RVer",
         "sinclair oil .svg; sinclair oil .svg",
         "40.734404; nan",
         "-111.498391; nan",
         "nan; nan",
         "40.734404; 40.734404",
         "-111.498391; -111.498391",
         "I-80; I-80",
         "146; 146",
         "7100 SILVER CREEK RD; 7100 SILVER CREEK RD",
         "SILVER CREEK; SILVER CREEK",
         "UT; UT",
         "84098; 84098",
         "435-649-9243 (TRAVEL CENTER); 435-649-9243 (TRAVEL CENTER)",
         "435-649-9245; 435-649-9245",
         "435-649-9243 (SUBWAY); 435-649-9243 (SUBWAY)",
         "435-649-9243 (PIZZA HUT); 435-649-9243 (PIZZA HUT)",
         "nan; nan",
         "nan; nan",
         "nan; nan",
         "nan; nan",
         "nan; nan",
         "nan; nan",
         "14356499243; 14356499243; 14356499243",
         "Blimpie; Bell's Silver Creek; Subway",
         "4.0; 1.8; 2.7",
         "1.0; 9.0; 3.0",
         "7100 Silver Creek Rd, Park City, UT 84098; 7100 Silver Creek Rd, Park City, UT 84098; 7100 Silver Creek Rd, Park City, UT 84098",
         "Park City; Park City; Park City",
         "UT; UT; UT",
         "84098.0; 84098.0; 84098.0",
         "(435) 649-9243; (435) 649-9243; (435) 649-9243",
         "Sandwiches; Convenience Stores; Sandwiches, Fast Food",
         "40.73416; 40.73416; 40.73416151067082",
         "-111.49884; -111.49884; -111.49888136867628",
         "nan; nan; nan",
         "True; False; False",
         "https://www.yelp.com/biz/blimpie-park-city?adjust_creative=xElCeMfmOucjLmXEMhJkIg&utm_campaign=yelp_api_v3&utm_medium=api_v3_phone_search&utm_source=xElCeMfmOucjLmXEMhJkIg; https://www.yelp.com/biz/bells-silver-creek-park-city?adjust_creative=xElCeMfmOucjLmXEMhJkIg&utm_campaign=yelp_api_v3&utm_medium=api_v3_phone_search&utm_source=xElCeMfmOucjLmXEMhJkIg; https://www.yelp.com/biz/subway-park-city-10?adjust_creative=xElCeMfmOucjLmXEMhJkIg&utm_campaign=yelp_api_v3&utm_medium=api_v3_phone_search&utm_source=xElCeMfmOucjLmXEMhJkIg",
         "7100 Silver Creek RdPark City, UT 84098; 7100 Silver Creek RdPark City, UT 84098; 7100 Silver Creek RdPark City, UT 84098",
         "nan; nan; Cng America - Bells Silver Creek - Sinclair",
         "Sinclair Gas Station; Subway; Bells Silver Creek",
         "https://www.yellowpages.com/park-city-ut/mip/sinclair-gas-station-476008800; https://www.yellowpages.com/park-city-ut/mip/subway-530022502; https://www.yellowpages.com/park-city-ut/mip/bells-silver-creek-458137400",
         "Gas Stations, Convenience Stores; Fast Food Restaurants, Restaurants, Sandwich Shops; Pizza, Convenience Stores, Restaurants",
         "nan; nan; 435 649 9245",
         "nan; nan; nan",
         "Park City; Park City; Park City",
         "40.73355; 40.73355; 40.73355",
         "-111.498886; -111.498886; -111.498886",
         "Sinclair Gas Station; Subway; Bells Silver Creek",
         "(435) 649-9243; (435) 649-9243; (435) 649-9243",
         "UT; UT; UT",
         "7100 Silver Creek Rd; 7100 Silver Creek Rd; 7100 Silver Creek Rd",
         "84098.0; 84098.0; 84098.0",
         "435-649-9243; 435-649-9243; 435-649-9243",
         "(435) 649-9243Call; (435) 649-9243Call; (435) 649-9243Call",
         "2025-07-07T04:12:39.934Z; 2025-07-07T04:12:42.946Z; 2025-07-07T04:12:46.659Z",
         "https://www.yellowpages.com/search?search_terms=435+649+9243; https://www.yellowpages.com/search?search_terms=435+649+9243; https://www.yellowpages.com/search?search_terms=435+649+9243",
         "nan; nan; nan",
         "nan; https://restaurants.subway.com/united-states/ut/park-city/7100-silver-creek-road?utm_source=yext-other&utm_medium=local&utm_term=acq&utm_content=67161&utm_campaign=evergreen-2020&y_source=1_MTQ5MDIyNjUtNTUzLWxvY2F0aW9uLndlYnNpdGU%3D; https://am-best.com",
         "0.0644468574755644",
         "Webscraped vs YellowPages (Phone)",
         "0.0289281104719189",
         "Webscraped vs Yelp (Phone)",
         "0.0289281104719189",
         "Webscraped vs Yelp (Phone)",
         "40.734282",
         "-111.4986155",
         null,
         null,
         null,
         null,
         "40.734282",
         "-111.4986155",
         null,
         null,
         null,
         null,
         null,
         null
        ],
        [
         "24",
         "Roosevelt , 84066 Top Stop Food Store # 66 ( Sinclair )",
         "435-722-9940 US 40 W",
         "S T",
         "Roosevelt",
         "84066",
         "Top Stop Food Store # 66 ( Sinclair )",
         "435-722-9940",
         "2006",
         "Roosevelt",
         "UT",
         "Sinclair",
         null,
         "US 40 W",
         "empty",
         null,
         null,
         null,
         "False",
         null,
         "False",
         "US 40",
         null,
         null,
         null,
         null,
         "[928, 477]",
         "[459, 477, 906, 928]",
         "[459, 477, 906, 928]",
         "[]",
         "[398, 399, 400, 401, 402, 403, 404, 405, 406, 407, 408, 409, 410, 411, 412, 413, 414, 415, 416, 417, 418, 419, 420, 421, 422, 423, 424, 425, 426, 427, 428, 429, 430, 431, 432, 433, 434, 435, 436, 437, 438, 439, 440, 441, 442, 443, 444, 445, 446, 447, 448, 449, 450, 451, 452, 453, 454, 455, 456, 457, 458, 459, 460, 461, 462, 463, 464, 465, 466, 467, 468, 469, 470, 471, 472, 473, 474, 475, 476, 477, 478, 479, 480, 481, 482, 483, 484, 848, 849, 850, 851, 852, 853, 854, 855, 856, 857, 858, 859, 860, 861, 862, 863, 864, 865, 866, 867, 868, 869, 870, 871, 872, 873, 874, 875, 876, 877, 878, 879, 880, 881, 882, 883, 884, 885, 886, 887, 888, 889, 890, 891, 892, 893, 894, 895, 896, 897, 898, 899, 900, 901, 902, 903, 904, 905, 906, 907, 908, 909, 910, 911, 912, 913, 914, 915, 916, 917, 918, 919, 920, 921, 922, 923, 924, 925, 926, 927, 928, 929, 930, 931, 932, 933, 934, 935]",
         "[4, 11, 18, 21, 23, 26, 27, 28, 31, 35, 36, 43, 45, 52, 55, 56, 60, 62, 64, 70, 71, 80, 90, 94, 97, 183, 197, 232, 334, 426, 455, 472, 477, 478, 480, 483, 484, 490, 496, 505, 507, 509, 510, 511, 514, 516, 517, 523, 525, 529, 532, 533, 536, 538, 545, 546, 552, 561, 565, 568, 654, 668, 696, 790, 857, 878, 902, 919, 928, 929, 932, 934, 935]",
         "[31, 142, 147, 180, 338, 352, 367, 387, 403, 405, 408, 410, 455, 465, 466, 468, 470, 472, 473, 483, 484, 514, 613, 618, 651, 794, 807, 837, 852, 854, 858, 861, 902, 912, 913, 915, 917, 919, 920, 931, 934, 935]",
         "[31, 142, 147, 180, 338, 352, 367, 387, 401, 402, 403, 405, 408, 410, 424, 427, 455, 464, 465, 466, 468, 469, 470, 472, 473, 477, 478, 479, 483, 484, 514, 613, 618, 651, 794, 807, 837, 850, 851, 852, 854, 858, 861, 876, 879, 902, 911, 912, 913, 915, 916, 917, 919, 920, 928, 929, 930, 931, 934, 935]",
         "[916, 514, 4, 516, 917, 517, 918, 11, 523, 525, 387, 919, 529, 18, 532, 920, 21, 23, 533, 536, 921, 26, 27, 28, 538, 922, 31, 545, 546, 35, 923, 36, 552, 924, 43, 45, 925, 561, 926, 52, 565, 55, 927, 56, 568, 60, 62, 64, 929, 70, 71, 930, 931, 80, 932, 933, 90, 934, 94, 935, 97, 613, 618, 651, 654, 142, 147, 668, 338, 180, 183, 696, 197, 232, 352, 790, 794, 807, 367, 837, 334, 848, 849, 850, 851, 852, 853, 854, 855, 856, 857, 858, 859, 860, 861, 862, 863, 864, 865, 866, 867, 868, 869, 870, 871, 872, 873, 874, 875, 876, 877, 878, 879, 880, 881, 882, 883, 884, 885, 886, 887, 888, 889, 890, 891, 892, 893, 894, 895, 896, 897, 898, 899, 900, 901, 902, 903, 904, 905, 906, 907, 908, 909, 398, 399, 400, 401, 402, 403, 404, 405, 406, 407, 408, 409, 410, 411, 412, 413, 414, 415, 928, 416, 417, 418, 419, 420, 421, 422, 423, 424, 425, 426, 427, 428, 429, 430, 431, 432, 433, 434, 435, 436, 437, 438, 439, 440, 441, 442, 443, 444, 445, 446, 447, 448, 449, 450, 451, 452, 453, 454, 455, 456, 457, 459, 458, 460, 461, 462, 463, 464, 465, 466, 467, 468, 469, 470, 471, 472, 473, 474, 475, 477, 476, 478, 479, 480, 481, 482, 483, 484, 910, 911, 490, 912, 496, 913, 914, 505, 507, 915, 509, 510, 511]",
         "[928, 477]",
         "True",
         "[459, 477, 906, 928]",
         "[398, 399, 400, 401, 402, 403, 404, 405, 406, 407, 408, 409, 410, 411, 412, 413, 414, 415, 416, 417, 418, 419, 420, 421, 422, 423, 424, 425, 426, 427, 428, 429, 430, 431, 432, 433, 434, 435, 436, 437, 438, 439, 440, 441, 442, 443, 444, 445, 446, 447, 448, 449, 450, 451, 452, 453, 454, 455, 456, 457, 458, 459, 460, 461, 462, 463, 464, 465, 466, 467, 468, 469, 470, 471, 472, 473, 474, 475, 476, 477, 478, 479, 480, 481, 482, 483, 484, 848, 849, 850, 851, 852, 853, 854, 855, 856, 857, 858, 859, 860, 861, 862, 863, 864, 865, 866, 867, 868, 869, 870, 871, 872, 873, 874, 875, 876, 877, 878, 879, 880, 881, 882, 883, 884, 885, 886, 887, 888, 889, 890, 891, 892, 893, 894, 895, 896, 897, 898, 899, 900, 901, 902, 903, 904, 905, 906, 907, 908, 909, 910, 911, 912, 913, 914, 915, 916, 917, 918, 919, 920, 921, 922, 923, 924, 925, 926, 927, 928, 929, 930, 931, 932, 933, 934, 935]",
         "[459, 477, 906, 928]",
         "[]",
         "[4, 11, 18, 21, 23, 26, 27, 28, 31, 35, 36, 43, 45, 52, 55, 56, 60, 62, 64, 70, 71, 80, 90, 94, 97, 183, 197, 232, 334, 426, 455, 472, 477, 478, 480, 483, 484, 490, 496, 505, 507, 509, 510, 511, 514, 516, 517, 523, 525, 529, 532, 533, 536, 538, 545, 546, 552, 561, 565, 568, 654, 668, 696, 790, 857, 878, 902, 919, 928, 929, 932, 934, 935]",
         "[31, 142, 147, 180, 338, 352, 367, 387, 401, 402, 403, 405, 408, 410, 424, 427, 455, 464, 465, 466, 468, 469, 470, 472, 473, 477, 478, 479, 483, 484, 514, 613, 618, 651, 794, 807, 837, 850, 851, 852, 854, 858, 861, 876, 879, 902, 911, 912, 913, 915, 916, 917, 919, 920, 928, 929, 930, 931, 934, 935]",
         "[31, 142, 147, 180, 338, 352, 367, 387, 403, 405, 408, 410, 455, 465, 466, 468, 470, 472, 473, 483, 484, 514, 613, 618, 651, 794, 807, 837, 852, 854, 858, 861, 902, 912, 913, 915, 917, 919, 920, 931, 934, 935]",
         "6/6 successful match",
         "True",
         "[71]",
         "True",
         "5",
         "[12, 13]",
         "True",
         "46; 46",
         "Utah; Utah",
         "TOP STOP; TOP STOP",
         "http://www.rvandtravelers.com/location_details.php?id=12443; https://www.truckstopsandservices.com/location_details.php?id=12443",
         "RVer; Trucker",
         "chevron; chevron",
         "nan; 40.283481",
         "nan; -110.011147",
         "nan; nan",
         "40.283481; 40.283481",
         "-110.011147; -110.011147",
         "US 40; US 40",
         "nan; nan",
         "1128 US 40; 1128 US 40",
         "ROOSEVELT; ROOSEVELT",
         "UT; UT",
         "84066; 84066",
         "435-722-9940 (TRAVEL CENTER); 435-722-9940 (TRAVEL CENTER)",
         "nan; nan",
         "435-722-9940 (PACOS); 435-722-9940 (PACOS)",
         "nan; nan",
         "nan; nan",
         "nan; nan",
         "nan; nan",
         "nan; nan",
         "nan; nan",
         "nan; nan",
         "[928, 477]",
         "46; 46",
         "Utah; Utah",
         "TOP STOP; TOP STOP",
         "http://www.rvandtravelers.com/location_details.php?id=12443; https://www.truckstopsandservices.com/location_details.php?id=12443",
         "RVer; Trucker",
         "chevron; chevron",
         "nan; 40.283481",
         "nan; -110.011147",
         "nan; nan",
         "40.283481; 40.283481",
         "-110.011147; -110.011147",
         "US 40; US 40",
         "nan; nan",
         "1128 US 40; 1128 US 40",
         "ROOSEVELT; ROOSEVELT",
         "UT; UT",
         "84066; 84066",
         "435-722-9940 (TRAVEL CENTER); 435-722-9940 (TRAVEL CENTER)",
         "nan; nan",
         "435-722-9940 (PACOS); 435-722-9940 (PACOS)",
         "nan; nan",
         "nan; nan",
         "nan; nan",
         "nan; nan",
         "nan; nan",
         "nan; nan",
         "nan; nan",
         "14357229940",
         "Krispy Krunchy Chicken",
         "4.0",
         "1.0",
         "522 E 200th N, Roosevelt, UT 84066",
         "Roosevelt",
         "UT",
         "84066.0",
         "(435) 722-9940",
         "Chicken Shop, Convenience Stores, Fast Food",
         "40.30187",
         "-109.984111",
         null,
         "False",
         "https://www.yelp.com/biz/krispy-krunchy-chicken-roosevelt?adjust_creative=xElCeMfmOucjLmXEMhJkIg&utm_campaign=yelp_api_v3&utm_medium=api_v3_phone_search&utm_source=xElCeMfmOucjLmXEMhJkIg",
         "1128 W Highway 40Roosevelt, UT 84066; 1128 W Highway 40Roosevelt, UT 84066",
         "Top Stop Convenience Store, Chevron Station #355740, Top Stop #66; Top Stop Convenience Store, Chevron Station #355740, Top Stop #66",
         "Chevron; Chevron",
         "https://www.yellowpages.com/roosevelt-ut/mip/chevron-503084774; https://www.yellowpages.com/roosevelt-ut/mip/chevron-503084774#photo-gallery",
         "Gas Stations, Convenience Stores; Gas Stations, Convenience Stores",
         "800 403 6142, 801 489 3212; 800 403 6142, 801 489 3212",
         "nan; nan",
         "Roosevelt; Roosevelt",
         "40.283314; 40.283314",
         "-110.01142; -110.01142",
         "Chevron; Chevron",
         "(435) 722-9940; (435) 722-9940",
         "UT; UT",
         "1128 W Highway 40; 1128 W Highway 40",
         "84066.0; 84066.0",
         "435-722-9940; 435-722-9940",
         "(435) 722-9940Call; (435) 722-9940Call",
         "2025-07-07T04:12:56.868Z; 2025-07-07T04:12:58.914Z",
         "https://www.yellowpages.com/search?search_terms=435+722+9940; https://www.yellowpages.com/search?search_terms=435+722+9940",
         "nan; nan",
         "http://chevronwithtechron.com; http://chevronwithtechron.com",
         "1.927482186738884",
         "Yelp (Phone) vs YellowPages (Phone)",
         "0.0184445084155708",
         "Webscraped vs YellowPages (Phone)",
         "0.0184445084155708",
         "Webscraped vs YellowPages (Phone)",
         "40.2833975",
         "-110.0112835",
         null,
         null,
         null,
         null,
         "40.2833975",
         "-110.0112835",
         null,
         null,
         null,
         null,
         null,
         null
        ],
        [
         "25",
         "Roosevelt , 84066 Top Stop Food Store # 66 ( Sinclair )",
         "435-722-9940 US 40 W",
         "SO",
         "Roosevelt",
         "84066",
         "Top Stop Food Store # 66 ( Sinclair )",
         "435-722-9940",
         "2007",
         "Roosevelt",
         "UT",
         "Sinclair",
         null,
         "US 40 W",
         "empty",
         null,
         null,
         null,
         "False",
         null,
         "False",
         "US 40",
         null,
         null,
         null,
         null,
         "[928, 477]",
         "[459, 477, 906, 928]",
         "[459, 477, 906, 928]",
         "[]",
         "[398, 399, 400, 401, 402, 403, 404, 405, 406, 407, 408, 409, 410, 411, 412, 413, 414, 415, 416, 417, 418, 419, 420, 421, 422, 423, 424, 425, 426, 427, 428, 429, 430, 431, 432, 433, 434, 435, 436, 437, 438, 439, 440, 441, 442, 443, 444, 445, 446, 447, 448, 449, 450, 451, 452, 453, 454, 455, 456, 457, 458, 459, 460, 461, 462, 463, 464, 465, 466, 467, 468, 469, 470, 471, 472, 473, 474, 475, 476, 477, 478, 479, 480, 481, 482, 483, 484, 848, 849, 850, 851, 852, 853, 854, 855, 856, 857, 858, 859, 860, 861, 862, 863, 864, 865, 866, 867, 868, 869, 870, 871, 872, 873, 874, 875, 876, 877, 878, 879, 880, 881, 882, 883, 884, 885, 886, 887, 888, 889, 890, 891, 892, 893, 894, 895, 896, 897, 898, 899, 900, 901, 902, 903, 904, 905, 906, 907, 908, 909, 910, 911, 912, 913, 914, 915, 916, 917, 918, 919, 920, 921, 922, 923, 924, 925, 926, 927, 928, 929, 930, 931, 932, 933, 934, 935]",
         "[4, 11, 18, 21, 23, 26, 27, 28, 31, 35, 36, 43, 45, 52, 55, 56, 60, 62, 64, 70, 71, 80, 90, 94, 97, 183, 197, 232, 334, 426, 455, 472, 477, 478, 480, 483, 484, 490, 496, 505, 507, 509, 510, 511, 514, 516, 517, 523, 525, 529, 532, 533, 536, 538, 545, 546, 552, 561, 565, 568, 654, 668, 696, 790, 857, 878, 902, 919, 928, 929, 932, 934, 935]",
         "[31, 142, 147, 180, 338, 352, 367, 387, 403, 405, 408, 410, 455, 465, 466, 468, 470, 472, 473, 483, 484, 514, 613, 618, 651, 794, 807, 837, 852, 854, 858, 861, 902, 912, 913, 915, 917, 919, 920, 931, 934, 935]",
         "[31, 142, 147, 180, 338, 352, 367, 387, 401, 402, 403, 405, 408, 410, 424, 427, 455, 464, 465, 466, 468, 469, 470, 472, 473, 477, 478, 479, 483, 484, 514, 613, 618, 651, 794, 807, 837, 850, 851, 852, 854, 858, 861, 876, 879, 902, 911, 912, 913, 915, 916, 917, 919, 920, 928, 929, 930, 931, 934, 935]",
         "[916, 514, 4, 516, 917, 517, 918, 11, 523, 525, 387, 919, 529, 18, 532, 920, 21, 23, 533, 536, 921, 26, 27, 28, 538, 922, 31, 545, 546, 35, 923, 36, 552, 924, 43, 45, 925, 561, 926, 52, 565, 55, 927, 56, 568, 60, 62, 64, 929, 70, 71, 930, 931, 80, 932, 933, 90, 934, 94, 935, 97, 613, 618, 651, 654, 142, 147, 668, 338, 180, 183, 696, 197, 232, 352, 790, 794, 807, 367, 837, 334, 848, 849, 850, 851, 852, 853, 854, 855, 856, 857, 858, 859, 860, 861, 862, 863, 864, 865, 866, 867, 868, 869, 870, 871, 872, 873, 874, 875, 876, 877, 878, 879, 880, 881, 882, 883, 884, 885, 886, 887, 888, 889, 890, 891, 892, 893, 894, 895, 896, 897, 898, 899, 900, 901, 902, 903, 904, 905, 906, 907, 908, 909, 398, 399, 400, 401, 402, 403, 404, 405, 406, 407, 408, 409, 410, 411, 412, 413, 414, 415, 928, 416, 417, 418, 419, 420, 421, 422, 423, 424, 425, 426, 427, 428, 429, 430, 431, 432, 433, 434, 435, 436, 437, 438, 439, 440, 441, 442, 443, 444, 445, 446, 447, 448, 449, 450, 451, 452, 453, 454, 455, 456, 457, 459, 458, 460, 461, 462, 463, 464, 465, 466, 467, 468, 469, 470, 471, 472, 473, 474, 475, 477, 476, 478, 479, 480, 481, 482, 483, 484, 910, 911, 490, 912, 496, 913, 914, 505, 507, 915, 509, 510, 511]",
         "[928, 477]",
         "True",
         "[459, 477, 906, 928]",
         "[398, 399, 400, 401, 402, 403, 404, 405, 406, 407, 408, 409, 410, 411, 412, 413, 414, 415, 416, 417, 418, 419, 420, 421, 422, 423, 424, 425, 426, 427, 428, 429, 430, 431, 432, 433, 434, 435, 436, 437, 438, 439, 440, 441, 442, 443, 444, 445, 446, 447, 448, 449, 450, 451, 452, 453, 454, 455, 456, 457, 458, 459, 460, 461, 462, 463, 464, 465, 466, 467, 468, 469, 470, 471, 472, 473, 474, 475, 476, 477, 478, 479, 480, 481, 482, 483, 484, 848, 849, 850, 851, 852, 853, 854, 855, 856, 857, 858, 859, 860, 861, 862, 863, 864, 865, 866, 867, 868, 869, 870, 871, 872, 873, 874, 875, 876, 877, 878, 879, 880, 881, 882, 883, 884, 885, 886, 887, 888, 889, 890, 891, 892, 893, 894, 895, 896, 897, 898, 899, 900, 901, 902, 903, 904, 905, 906, 907, 908, 909, 910, 911, 912, 913, 914, 915, 916, 917, 918, 919, 920, 921, 922, 923, 924, 925, 926, 927, 928, 929, 930, 931, 932, 933, 934, 935]",
         "[459, 477, 906, 928]",
         "[]",
         "[4, 11, 18, 21, 23, 26, 27, 28, 31, 35, 36, 43, 45, 52, 55, 56, 60, 62, 64, 70, 71, 80, 90, 94, 97, 183, 197, 232, 334, 426, 455, 472, 477, 478, 480, 483, 484, 490, 496, 505, 507, 509, 510, 511, 514, 516, 517, 523, 525, 529, 532, 533, 536, 538, 545, 546, 552, 561, 565, 568, 654, 668, 696, 790, 857, 878, 902, 919, 928, 929, 932, 934, 935]",
         "[31, 142, 147, 180, 338, 352, 367, 387, 401, 402, 403, 405, 408, 410, 424, 427, 455, 464, 465, 466, 468, 469, 470, 472, 473, 477, 478, 479, 483, 484, 514, 613, 618, 651, 794, 807, 837, 850, 851, 852, 854, 858, 861, 876, 879, 902, 911, 912, 913, 915, 916, 917, 919, 920, 928, 929, 930, 931, 934, 935]",
         "[31, 142, 147, 180, 338, 352, 367, 387, 403, 405, 408, 410, 455, 465, 466, 468, 470, 472, 473, 483, 484, 514, 613, 618, 651, 794, 807, 837, 852, 854, 858, 861, 902, 912, 913, 915, 917, 919, 920, 931, 934, 935]",
         "6/6 successful match",
         "True",
         "[71]",
         "True",
         "5",
         "[12, 13]",
         "True",
         "46; 46",
         "Utah; Utah",
         "TOP STOP; TOP STOP",
         "http://www.rvandtravelers.com/location_details.php?id=12443; https://www.truckstopsandservices.com/location_details.php?id=12443",
         "RVer; Trucker",
         "chevron; chevron",
         "nan; 40.283481",
         "nan; -110.011147",
         "nan; nan",
         "40.283481; 40.283481",
         "-110.011147; -110.011147",
         "US 40; US 40",
         "nan; nan",
         "1128 US 40; 1128 US 40",
         "ROOSEVELT; ROOSEVELT",
         "UT; UT",
         "84066; 84066",
         "435-722-9940 (TRAVEL CENTER); 435-722-9940 (TRAVEL CENTER)",
         "nan; nan",
         "435-722-9940 (PACOS); 435-722-9940 (PACOS)",
         "nan; nan",
         "nan; nan",
         "nan; nan",
         "nan; nan",
         "nan; nan",
         "nan; nan",
         "nan; nan",
         "[928, 477]",
         "46; 46",
         "Utah; Utah",
         "TOP STOP; TOP STOP",
         "http://www.rvandtravelers.com/location_details.php?id=12443; https://www.truckstopsandservices.com/location_details.php?id=12443",
         "RVer; Trucker",
         "chevron; chevron",
         "nan; 40.283481",
         "nan; -110.011147",
         "nan; nan",
         "40.283481; 40.283481",
         "-110.011147; -110.011147",
         "US 40; US 40",
         "nan; nan",
         "1128 US 40; 1128 US 40",
         "ROOSEVELT; ROOSEVELT",
         "UT; UT",
         "84066; 84066",
         "435-722-9940 (TRAVEL CENTER); 435-722-9940 (TRAVEL CENTER)",
         "nan; nan",
         "435-722-9940 (PACOS); 435-722-9940 (PACOS)",
         "nan; nan",
         "nan; nan",
         "nan; nan",
         "nan; nan",
         "nan; nan",
         "nan; nan",
         "nan; nan",
         "14357229940",
         "Krispy Krunchy Chicken",
         "4.0",
         "1.0",
         "522 E 200th N, Roosevelt, UT 84066",
         "Roosevelt",
         "UT",
         "84066.0",
         "(435) 722-9940",
         "Chicken Shop, Convenience Stores, Fast Food",
         "40.30187",
         "-109.984111",
         null,
         "False",
         "https://www.yelp.com/biz/krispy-krunchy-chicken-roosevelt?adjust_creative=xElCeMfmOucjLmXEMhJkIg&utm_campaign=yelp_api_v3&utm_medium=api_v3_phone_search&utm_source=xElCeMfmOucjLmXEMhJkIg",
         "1128 W Highway 40Roosevelt, UT 84066; 1128 W Highway 40Roosevelt, UT 84066",
         "Top Stop Convenience Store, Chevron Station #355740, Top Stop #66; Top Stop Convenience Store, Chevron Station #355740, Top Stop #66",
         "Chevron; Chevron",
         "https://www.yellowpages.com/roosevelt-ut/mip/chevron-503084774; https://www.yellowpages.com/roosevelt-ut/mip/chevron-503084774#photo-gallery",
         "Gas Stations, Convenience Stores; Gas Stations, Convenience Stores",
         "800 403 6142, 801 489 3212; 800 403 6142, 801 489 3212",
         "nan; nan",
         "Roosevelt; Roosevelt",
         "40.283314; 40.283314",
         "-110.01142; -110.01142",
         "Chevron; Chevron",
         "(435) 722-9940; (435) 722-9940",
         "UT; UT",
         "1128 W Highway 40; 1128 W Highway 40",
         "84066.0; 84066.0",
         "435-722-9940; 435-722-9940",
         "(435) 722-9940Call; (435) 722-9940Call",
         "2025-07-07T04:12:56.868Z; 2025-07-07T04:12:58.914Z",
         "https://www.yellowpages.com/search?search_terms=435+722+9940; https://www.yellowpages.com/search?search_terms=435+722+9940",
         "nan; nan",
         "http://chevronwithtechron.com; http://chevronwithtechron.com",
         "1.927482186738884",
         "Yelp (Phone) vs YellowPages (Phone)",
         "0.0184445084155708",
         "Webscraped vs YellowPages (Phone)",
         "0.0184445084155708",
         "Webscraped vs YellowPages (Phone)",
         "40.2833975",
         "-110.0112835",
         null,
         null,
         null,
         null,
         "40.2833975",
         "-110.0112835",
         null,
         null,
         null,
         null,
         null,
         null
        ],
        [
         "26",
         "E Roosevelt , 84066 Top Stop Food Store # 66 ( Sinclair )",
         "435-722-9940 US 40 W",
         "<U+2610> <U+2610> <U+25A1> <U+25A1> <U+2610>",
         "Roosevelt",
         "84066",
         "Top Stop Food Store # 66 ( Sinclair )",
         "435-722-9940",
         "2008",
         "Roosevelt",
         "UT",
         "Sinclair",
         null,
         "US 40 W",
         "empty",
         null,
         null,
         null,
         "False",
         null,
         "False",
         "US 40",
         null,
         null,
         null,
         null,
         "[928, 477]",
         "[459, 477, 906, 928]",
         "[459, 477, 906, 928]",
         "[]",
         "[398, 399, 400, 401, 402, 403, 404, 405, 406, 407, 408, 409, 410, 411, 412, 413, 414, 415, 416, 417, 418, 419, 420, 421, 422, 423, 424, 425, 426, 427, 428, 429, 430, 431, 432, 433, 434, 435, 436, 437, 438, 439, 440, 441, 442, 443, 444, 445, 446, 447, 448, 449, 450, 451, 452, 453, 454, 455, 456, 457, 458, 459, 460, 461, 462, 463, 464, 465, 466, 467, 468, 469, 470, 471, 472, 473, 474, 475, 476, 477, 478, 479, 480, 481, 482, 483, 484, 848, 849, 850, 851, 852, 853, 854, 855, 856, 857, 858, 859, 860, 861, 862, 863, 864, 865, 866, 867, 868, 869, 870, 871, 872, 873, 874, 875, 876, 877, 878, 879, 880, 881, 882, 883, 884, 885, 886, 887, 888, 889, 890, 891, 892, 893, 894, 895, 896, 897, 898, 899, 900, 901, 902, 903, 904, 905, 906, 907, 908, 909, 910, 911, 912, 913, 914, 915, 916, 917, 918, 919, 920, 921, 922, 923, 924, 925, 926, 927, 928, 929, 930, 931, 932, 933, 934, 935]",
         "[4, 11, 18, 21, 23, 26, 27, 28, 31, 35, 36, 43, 45, 52, 55, 56, 60, 62, 64, 70, 71, 80, 90, 94, 97, 183, 197, 232, 334, 426, 455, 472, 477, 478, 480, 483, 484, 490, 496, 505, 507, 509, 510, 511, 514, 516, 517, 523, 525, 529, 532, 533, 536, 538, 545, 546, 552, 561, 565, 568, 654, 668, 696, 790, 857, 878, 902, 919, 928, 929, 932, 934, 935]",
         "[31, 142, 147, 180, 338, 352, 367, 387, 403, 405, 408, 410, 455, 465, 466, 468, 470, 472, 473, 483, 484, 514, 613, 618, 651, 794, 807, 837, 852, 854, 858, 861, 902, 912, 913, 915, 917, 919, 920, 931, 934, 935]",
         "[31, 142, 147, 180, 338, 352, 367, 387, 401, 402, 403, 405, 408, 410, 424, 427, 455, 464, 465, 466, 468, 469, 470, 472, 473, 477, 478, 479, 483, 484, 514, 613, 618, 651, 794, 807, 837, 850, 851, 852, 854, 858, 861, 876, 879, 902, 911, 912, 913, 915, 916, 917, 919, 920, 928, 929, 930, 931, 934, 935]",
         "[916, 514, 4, 516, 917, 517, 918, 11, 523, 525, 387, 919, 529, 18, 532, 920, 21, 23, 533, 536, 921, 26, 27, 28, 538, 922, 31, 545, 546, 35, 923, 36, 552, 924, 43, 45, 925, 561, 926, 52, 565, 55, 927, 56, 568, 60, 62, 64, 929, 70, 71, 930, 931, 80, 932, 933, 90, 934, 94, 935, 97, 613, 618, 651, 654, 142, 147, 668, 338, 180, 183, 696, 197, 232, 352, 790, 794, 807, 367, 837, 334, 848, 849, 850, 851, 852, 853, 854, 855, 856, 857, 858, 859, 860, 861, 862, 863, 864, 865, 866, 867, 868, 869, 870, 871, 872, 873, 874, 875, 876, 877, 878, 879, 880, 881, 882, 883, 884, 885, 886, 887, 888, 889, 890, 891, 892, 893, 894, 895, 896, 897, 898, 899, 900, 901, 902, 903, 904, 905, 906, 907, 908, 909, 398, 399, 400, 401, 402, 403, 404, 405, 406, 407, 408, 409, 410, 411, 412, 413, 414, 415, 928, 416, 417, 418, 419, 420, 421, 422, 423, 424, 425, 426, 427, 428, 429, 430, 431, 432, 433, 434, 435, 436, 437, 438, 439, 440, 441, 442, 443, 444, 445, 446, 447, 448, 449, 450, 451, 452, 453, 454, 455, 456, 457, 459, 458, 460, 461, 462, 463, 464, 465, 466, 467, 468, 469, 470, 471, 472, 473, 474, 475, 477, 476, 478, 479, 480, 481, 482, 483, 484, 910, 911, 490, 912, 496, 913, 914, 505, 507, 915, 509, 510, 511]",
         "[928, 477]",
         "True",
         "[459, 477, 906, 928]",
         "[398, 399, 400, 401, 402, 403, 404, 405, 406, 407, 408, 409, 410, 411, 412, 413, 414, 415, 416, 417, 418, 419, 420, 421, 422, 423, 424, 425, 426, 427, 428, 429, 430, 431, 432, 433, 434, 435, 436, 437, 438, 439, 440, 441, 442, 443, 444, 445, 446, 447, 448, 449, 450, 451, 452, 453, 454, 455, 456, 457, 458, 459, 460, 461, 462, 463, 464, 465, 466, 467, 468, 469, 470, 471, 472, 473, 474, 475, 476, 477, 478, 479, 480, 481, 482, 483, 484, 848, 849, 850, 851, 852, 853, 854, 855, 856, 857, 858, 859, 860, 861, 862, 863, 864, 865, 866, 867, 868, 869, 870, 871, 872, 873, 874, 875, 876, 877, 878, 879, 880, 881, 882, 883, 884, 885, 886, 887, 888, 889, 890, 891, 892, 893, 894, 895, 896, 897, 898, 899, 900, 901, 902, 903, 904, 905, 906, 907, 908, 909, 910, 911, 912, 913, 914, 915, 916, 917, 918, 919, 920, 921, 922, 923, 924, 925, 926, 927, 928, 929, 930, 931, 932, 933, 934, 935]",
         "[459, 477, 906, 928]",
         "[]",
         "[4, 11, 18, 21, 23, 26, 27, 28, 31, 35, 36, 43, 45, 52, 55, 56, 60, 62, 64, 70, 71, 80, 90, 94, 97, 183, 197, 232, 334, 426, 455, 472, 477, 478, 480, 483, 484, 490, 496, 505, 507, 509, 510, 511, 514, 516, 517, 523, 525, 529, 532, 533, 536, 538, 545, 546, 552, 561, 565, 568, 654, 668, 696, 790, 857, 878, 902, 919, 928, 929, 932, 934, 935]",
         "[31, 142, 147, 180, 338, 352, 367, 387, 401, 402, 403, 405, 408, 410, 424, 427, 455, 464, 465, 466, 468, 469, 470, 472, 473, 477, 478, 479, 483, 484, 514, 613, 618, 651, 794, 807, 837, 850, 851, 852, 854, 858, 861, 876, 879, 902, 911, 912, 913, 915, 916, 917, 919, 920, 928, 929, 930, 931, 934, 935]",
         "[31, 142, 147, 180, 338, 352, 367, 387, 403, 405, 408, 410, 455, 465, 466, 468, 470, 472, 473, 483, 484, 514, 613, 618, 651, 794, 807, 837, 852, 854, 858, 861, 902, 912, 913, 915, 917, 919, 920, 931, 934, 935]",
         "6/6 successful match",
         "True",
         "[71]",
         "True",
         "5",
         "[12, 13]",
         "True",
         "46; 46",
         "Utah; Utah",
         "TOP STOP; TOP STOP",
         "http://www.rvandtravelers.com/location_details.php?id=12443; https://www.truckstopsandservices.com/location_details.php?id=12443",
         "RVer; Trucker",
         "chevron; chevron",
         "nan; 40.283481",
         "nan; -110.011147",
         "nan; nan",
         "40.283481; 40.283481",
         "-110.011147; -110.011147",
         "US 40; US 40",
         "nan; nan",
         "1128 US 40; 1128 US 40",
         "ROOSEVELT; ROOSEVELT",
         "UT; UT",
         "84066; 84066",
         "435-722-9940 (TRAVEL CENTER); 435-722-9940 (TRAVEL CENTER)",
         "nan; nan",
         "435-722-9940 (PACOS); 435-722-9940 (PACOS)",
         "nan; nan",
         "nan; nan",
         "nan; nan",
         "nan; nan",
         "nan; nan",
         "nan; nan",
         "nan; nan",
         "[928, 477]",
         "46; 46",
         "Utah; Utah",
         "TOP STOP; TOP STOP",
         "http://www.rvandtravelers.com/location_details.php?id=12443; https://www.truckstopsandservices.com/location_details.php?id=12443",
         "RVer; Trucker",
         "chevron; chevron",
         "nan; 40.283481",
         "nan; -110.011147",
         "nan; nan",
         "40.283481; 40.283481",
         "-110.011147; -110.011147",
         "US 40; US 40",
         "nan; nan",
         "1128 US 40; 1128 US 40",
         "ROOSEVELT; ROOSEVELT",
         "UT; UT",
         "84066; 84066",
         "435-722-9940 (TRAVEL CENTER); 435-722-9940 (TRAVEL CENTER)",
         "nan; nan",
         "435-722-9940 (PACOS); 435-722-9940 (PACOS)",
         "nan; nan",
         "nan; nan",
         "nan; nan",
         "nan; nan",
         "nan; nan",
         "nan; nan",
         "nan; nan",
         "14357229940",
         "Krispy Krunchy Chicken",
         "4.0",
         "1.0",
         "522 E 200th N, Roosevelt, UT 84066",
         "Roosevelt",
         "UT",
         "84066.0",
         "(435) 722-9940",
         "Chicken Shop, Convenience Stores, Fast Food",
         "40.30187",
         "-109.984111",
         null,
         "False",
         "https://www.yelp.com/biz/krispy-krunchy-chicken-roosevelt?adjust_creative=xElCeMfmOucjLmXEMhJkIg&utm_campaign=yelp_api_v3&utm_medium=api_v3_phone_search&utm_source=xElCeMfmOucjLmXEMhJkIg",
         "1128 W Highway 40Roosevelt, UT 84066; 1128 W Highway 40Roosevelt, UT 84066",
         "Top Stop Convenience Store, Chevron Station #355740, Top Stop #66; Top Stop Convenience Store, Chevron Station #355740, Top Stop #66",
         "Chevron; Chevron",
         "https://www.yellowpages.com/roosevelt-ut/mip/chevron-503084774; https://www.yellowpages.com/roosevelt-ut/mip/chevron-503084774#photo-gallery",
         "Gas Stations, Convenience Stores; Gas Stations, Convenience Stores",
         "800 403 6142, 801 489 3212; 800 403 6142, 801 489 3212",
         "nan; nan",
         "Roosevelt; Roosevelt",
         "40.283314; 40.283314",
         "-110.01142; -110.01142",
         "Chevron; Chevron",
         "(435) 722-9940; (435) 722-9940",
         "UT; UT",
         "1128 W Highway 40; 1128 W Highway 40",
         "84066.0; 84066.0",
         "435-722-9940; 435-722-9940",
         "(435) 722-9940Call; (435) 722-9940Call",
         "2025-07-07T04:12:56.868Z; 2025-07-07T04:12:58.914Z",
         "https://www.yellowpages.com/search?search_terms=435+722+9940; https://www.yellowpages.com/search?search_terms=435+722+9940",
         "nan; nan",
         "http://chevronwithtechron.com; http://chevronwithtechron.com",
         "1.927482186738884",
         "Yelp (Phone) vs YellowPages (Phone)",
         "0.0184445084155708",
         "Webscraped vs YellowPages (Phone)",
         "0.0184445084155708",
         "Webscraped vs YellowPages (Phone)",
         "40.2833975",
         "-110.0112835",
         null,
         null,
         null,
         null,
         "40.2833975",
         "-110.0112835",
         null,
         null,
         null,
         null,
         null,
         null
        ],
        [
         "27",
         "Roosevelt ( 84066 ) Top Stop # 66 ( Chevron )",
         "435-722-9940 1128 US 40 ( 1 mi W of town )",
         "<U+25A1> S <U+25A1>",
         "Roosevelt",
         "84066",
         "Top Stop # 66 ( Chevron )",
         "435-722-9940",
         "2014",
         "Roosevelt",
         "UT",
         "Chevron",
         "( 1 mi W of town )",
         "1128 US 40",
         "Proper",
         null,
         null,
         null,
         "False",
         null,
         "False",
         "US 40",
         null,
         null,
         null,
         null,
         "[928, 477]",
         "[459, 477, 906, 928]",
         "[459, 477, 906, 928]",
         "[]",
         "[398, 399, 400, 401, 402, 403, 404, 405, 406, 407, 408, 409, 410, 411, 412, 413, 414, 415, 416, 417, 418, 419, 420, 421, 422, 423, 424, 425, 426, 427, 428, 429, 430, 431, 432, 433, 434, 435, 436, 437, 438, 439, 440, 441, 442, 443, 444, 445, 446, 447, 448, 449, 450, 451, 452, 453, 454, 455, 456, 457, 458, 459, 460, 461, 462, 463, 464, 465, 466, 467, 468, 469, 470, 471, 472, 473, 474, 475, 476, 477, 478, 479, 480, 481, 482, 483, 484, 848, 849, 850, 851, 852, 853, 854, 855, 856, 857, 858, 859, 860, 861, 862, 863, 864, 865, 866, 867, 868, 869, 870, 871, 872, 873, 874, 875, 876, 877, 878, 879, 880, 881, 882, 883, 884, 885, 886, 887, 888, 889, 890, 891, 892, 893, 894, 895, 896, 897, 898, 899, 900, 901, 902, 903, 904, 905, 906, 907, 908, 909, 910, 911, 912, 913, 914, 915, 916, 917, 918, 919, 920, 921, 922, 923, 924, 925, 926, 927, 928, 929, 930, 931, 932, 933, 934, 935]",
         "[4, 11, 18, 21, 23, 26, 27, 28, 31, 35, 36, 43, 45, 52, 55, 56, 60, 62, 64, 70, 71, 80, 90, 94, 97, 183, 197, 232, 334, 426, 455, 472, 477, 478, 480, 483, 484, 490, 496, 505, 507, 509, 510, 511, 514, 516, 517, 523, 525, 529, 532, 533, 536, 538, 545, 546, 552, 561, 565, 568, 654, 668, 696, 790, 857, 878, 902, 919, 928, 929, 932, 934, 935]",
         "[12, 24, 25, 28, 88, 100, 104, 119, 123, 129, 136, 137, 139, 140, 141, 148, 155, 169, 172, 179, 183, 185, 188, 196, 198, 217, 237, 267, 270, 278, 319, 321, 324, 325, 330, 334, 335, 354, 366, 369, 380, 383, 384, 386, 395, 407, 411, 423, 428, 436, 437, 452, 453, 456, 467, 471, 477, 478, 479, 497, 508, 511, 559, 571, 575, 590, 594, 600, 607, 608, 610, 611, 612, 619, 627, 640, 643, 650, 654, 656, 659, 667, 669, 685, 701, 726, 729, 737, 777, 779, 782, 783, 787, 790, 791, 809, 817, 819, 830, 833, 834, 836, 845, 856, 857, 860, 862, 875, 880, 887, 888, 899, 900, 914, 918, 921, 928, 929, 930]",
         "[12, 24, 25, 28, 88, 100, 104, 119, 123, 129, 136, 137, 139, 140, 141, 148, 155, 169, 172, 179, 183, 185, 188, 196, 198, 217, 237, 267, 270, 278, 319, 321, 324, 325, 330, 334, 335, 354, 366, 369, 380, 383, 384, 386, 395, 401, 402, 407, 411, 423, 424, 427, 428, 436, 437, 452, 453, 456, 464, 467, 469, 471, 477, 478, 479, 497, 508, 511, 559, 571, 575, 590, 594, 600, 607, 608, 610, 611, 612, 619, 627, 640, 643, 650, 654, 656, 659, 667, 669, 685, 701, 726, 729, 737, 777, 779, 782, 783, 787, 790, 791, 809, 817, 819, 830, 833, 834, 836, 845, 850, 851, 856, 857, 860, 862, 875, 876, 879, 880, 887, 888, 899, 900, 911, 914, 916, 918, 921, 928, 929, 930, 931]",
         "[4, 11, 12, 18, 21, 23, 24, 25, 26, 27, 28, 31, 35, 36, 43, 45, 52, 55, 56, 60, 62, 64, 70, 71, 80, 88, 90, 94, 97, 100, 104, 119, 123, 129, 136, 137, 139, 140, 141, 148, 155, 169, 172, 179, 183, 185, 188, 196, 197, 198, 217, 232, 237, 267, 270, 278, 319, 321, 324, 325, 330, 334, 335, 354, 366, 369, 380, 383, 384, 386, 395, 398, 399, 400, 401, 402, 403, 404, 405, 406, 407, 408, 409, 410, 411, 412, 413, 414, 415, 416, 417, 418, 419, 420, 421, 422, 423, 424, 425, 426, 427, 428, 429, 430, 431, 432, 433, 434, 435, 436, 437, 438, 439, 440, 441, 442, 443, 444, 445, 446, 447, 448, 449, 450, 451, 452, 453, 454, 455, 456, 457, 458, 459, 460, 461, 462, 463, 464, 465, 466, 467, 468, 469, 470, 471, 472, 473, 474, 475, 476, 477, 478, 479, 480, 481, 482, 483, 484, 490, 496, 497, 505, 507, 508, 509, 510, 511, 514, 516, 517, 523, 525, 529, 532, 533, 536, 538, 545, 546, 552, 559, 561, 565, 568, 571, 575, 590, 594, 600, 607, 608, 610, 611, 612, 619, 627, 640, 643, 650, 654, 656, 659, 667, 668, 669, 685, 696, 701, 726, 729, 737, 777, 779, 782, 783, 787, 790, 791, 809, 817, 819, 830, 833, 834, 836, 845, 848, 849, 850, 851, 852, 853, 854, 855, 856, 857, 858, 859, 860, 861, 862, 863, 864, 865, 866, 867, 868, 869, 870, 871, 872, 873, 874, 875, 876, 877, 878, 879, 880, 881, 882, 883, 884, 885, 886, 887, 888, 889, 890, 891, 892, 893, 894, 895, 896, 897, 898, 899, 900, 901, 902, 903, 904, 905, 906, 907, 908, 909, 910, 911, 912, 913, 914, 915, 916, 917, 918, 919, 920, 921, 922, 923, 924, 925, 926, 927, 928, 929, 930, 931, 932, 933, 934, 935]",
         "[928, 477]",
         "True",
         "[459, 477, 906, 928]",
         "[398, 399, 400, 401, 402, 403, 404, 405, 406, 407, 408, 409, 410, 411, 412, 413, 414, 415, 416, 417, 418, 419, 420, 421, 422, 423, 424, 425, 426, 427, 428, 429, 430, 431, 432, 433, 434, 435, 436, 437, 438, 439, 440, 441, 442, 443, 444, 445, 446, 447, 448, 449, 450, 451, 452, 453, 454, 455, 456, 457, 458, 459, 460, 461, 462, 463, 464, 465, 466, 467, 468, 469, 470, 471, 472, 473, 474, 475, 476, 477, 478, 479, 480, 481, 482, 483, 484, 848, 849, 850, 851, 852, 853, 854, 855, 856, 857, 858, 859, 860, 861, 862, 863, 864, 865, 866, 867, 868, 869, 870, 871, 872, 873, 874, 875, 876, 877, 878, 879, 880, 881, 882, 883, 884, 885, 886, 887, 888, 889, 890, 891, 892, 893, 894, 895, 896, 897, 898, 899, 900, 901, 902, 903, 904, 905, 906, 907, 908, 909, 910, 911, 912, 913, 914, 915, 916, 917, 918, 919, 920, 921, 922, 923, 924, 925, 926, 927, 928, 929, 930, 931, 932, 933, 934, 935]",
         "[459, 477, 906, 928]",
         "[]",
         "[4, 11, 18, 21, 23, 26, 27, 28, 31, 35, 36, 43, 45, 52, 55, 56, 60, 62, 64, 70, 71, 80, 90, 94, 97, 183, 197, 232, 334, 426, 455, 472, 477, 478, 480, 483, 484, 490, 496, 505, 507, 509, 510, 511, 514, 516, 517, 523, 525, 529, 532, 533, 536, 538, 545, 546, 552, 561, 565, 568, 654, 668, 696, 790, 857, 878, 902, 919, 928, 929, 932, 934, 935]",
         "[12, 24, 25, 28, 88, 100, 104, 119, 123, 129, 136, 137, 139, 140, 141, 148, 155, 169, 172, 179, 183, 185, 188, 196, 198, 217, 237, 267, 270, 278, 319, 321, 324, 325, 330, 334, 335, 354, 366, 369, 380, 383, 384, 386, 395, 401, 402, 407, 411, 423, 424, 427, 428, 436, 437, 452, 453, 456, 464, 467, 469, 471, 477, 478, 479, 497, 508, 511, 559, 571, 575, 590, 594, 600, 607, 608, 610, 611, 612, 619, 627, 640, 643, 650, 654, 656, 659, 667, 669, 685, 701, 726, 729, 737, 777, 779, 782, 783, 787, 790, 791, 809, 817, 819, 830, 833, 834, 836, 845, 850, 851, 856, 857, 860, 862, 875, 876, 879, 880, 887, 888, 899, 900, 911, 914, 916, 918, 921, 928, 929, 930, 931]",
         "[12, 24, 25, 28, 88, 100, 104, 119, 123, 129, 136, 137, 139, 140, 141, 148, 155, 169, 172, 179, 183, 185, 188, 196, 198, 217, 237, 267, 270, 278, 319, 321, 324, 325, 330, 334, 335, 354, 366, 369, 380, 383, 384, 386, 395, 407, 411, 423, 428, 436, 437, 452, 453, 456, 467, 471, 477, 478, 479, 497, 508, 511, 559, 571, 575, 590, 594, 600, 607, 608, 610, 611, 612, 619, 627, 640, 643, 650, 654, 656, 659, 667, 669, 685, 701, 726, 729, 737, 777, 779, 782, 783, 787, 790, 791, 809, 817, 819, 830, 833, 834, 836, 845, 856, 857, 860, 862, 875, 880, 887, 888, 899, 900, 914, 918, 921, 928, 929, 930]",
         "7/6 successful match",
         "True",
         "[71]",
         "True",
         "5",
         "[12, 13]",
         "True",
         "46; 46",
         "Utah; Utah",
         "TOP STOP; TOP STOP",
         "http://www.rvandtravelers.com/location_details.php?id=12443; https://www.truckstopsandservices.com/location_details.php?id=12443",
         "RVer; Trucker",
         "chevron; chevron",
         "nan; 40.283481",
         "nan; -110.011147",
         "nan; nan",
         "40.283481; 40.283481",
         "-110.011147; -110.011147",
         "US 40; US 40",
         "nan; nan",
         "1128 US 40; 1128 US 40",
         "ROOSEVELT; ROOSEVELT",
         "UT; UT",
         "84066; 84066",
         "435-722-9940 (TRAVEL CENTER); 435-722-9940 (TRAVEL CENTER)",
         "nan; nan",
         "435-722-9940 (PACOS); 435-722-9940 (PACOS)",
         "nan; nan",
         "nan; nan",
         "nan; nan",
         "nan; nan",
         "nan; nan",
         "nan; nan",
         "nan; nan",
         "[928, 477]",
         "46; 46",
         "Utah; Utah",
         "TOP STOP; TOP STOP",
         "http://www.rvandtravelers.com/location_details.php?id=12443; https://www.truckstopsandservices.com/location_details.php?id=12443",
         "RVer; Trucker",
         "chevron; chevron",
         "nan; 40.283481",
         "nan; -110.011147",
         "nan; nan",
         "40.283481; 40.283481",
         "-110.011147; -110.011147",
         "US 40; US 40",
         "nan; nan",
         "1128 US 40; 1128 US 40",
         "ROOSEVELT; ROOSEVELT",
         "UT; UT",
         "84066; 84066",
         "435-722-9940 (TRAVEL CENTER); 435-722-9940 (TRAVEL CENTER)",
         "nan; nan",
         "435-722-9940 (PACOS); 435-722-9940 (PACOS)",
         "nan; nan",
         "nan; nan",
         "nan; nan",
         "nan; nan",
         "nan; nan",
         "nan; nan",
         "nan; nan",
         "14357229940",
         "Krispy Krunchy Chicken",
         "4.0",
         "1.0",
         "522 E 200th N, Roosevelt, UT 84066",
         "Roosevelt",
         "UT",
         "84066.0",
         "(435) 722-9940",
         "Chicken Shop, Convenience Stores, Fast Food",
         "40.30187",
         "-109.984111",
         null,
         "False",
         "https://www.yelp.com/biz/krispy-krunchy-chicken-roosevelt?adjust_creative=xElCeMfmOucjLmXEMhJkIg&utm_campaign=yelp_api_v3&utm_medium=api_v3_phone_search&utm_source=xElCeMfmOucjLmXEMhJkIg",
         "1128 W Highway 40Roosevelt, UT 84066; 1128 W Highway 40Roosevelt, UT 84066",
         "Top Stop Convenience Store, Chevron Station #355740, Top Stop #66; Top Stop Convenience Store, Chevron Station #355740, Top Stop #66",
         "Chevron; Chevron",
         "https://www.yellowpages.com/roosevelt-ut/mip/chevron-503084774; https://www.yellowpages.com/roosevelt-ut/mip/chevron-503084774#photo-gallery",
         "Gas Stations, Convenience Stores; Gas Stations, Convenience Stores",
         "800 403 6142, 801 489 3212; 800 403 6142, 801 489 3212",
         "nan; nan",
         "Roosevelt; Roosevelt",
         "40.283314; 40.283314",
         "-110.01142; -110.01142",
         "Chevron; Chevron",
         "(435) 722-9940; (435) 722-9940",
         "UT; UT",
         "1128 W Highway 40; 1128 W Highway 40",
         "84066.0; 84066.0",
         "435-722-9940; 435-722-9940",
         "(435) 722-9940Call; (435) 722-9940Call",
         "2025-07-07T04:12:56.868Z; 2025-07-07T04:12:58.914Z",
         "https://www.yellowpages.com/search?search_terms=435+722+9940; https://www.yellowpages.com/search?search_terms=435+722+9940",
         "nan; nan",
         "http://chevronwithtechron.com; http://chevronwithtechron.com",
         "1.927482186738884",
         "Yelp (Phone) vs YellowPages (Phone)",
         "0.0184445084155708",
         "Webscraped vs YellowPages (Phone)",
         "0.0184445084155708",
         "Webscraped vs YellowPages (Phone)",
         "40.2833975",
         "-110.0112835",
         null,
         null,
         null,
         null,
         "40.2833975",
         "-110.0112835",
         "OK",
         "1128 US-40, Roosevelt, UT 84066, USA",
         "40.2832919",
         "-110.0123375",
         "ChIJDYInAhGjT4cRBnjjtlUuPgA",
         "premise,street_address"
        ],
        [
         "28",
         "Roosevelt ( 84066 ) Top Stop # 66 ( Chevron )",
         "$ 435-722-9940 1128 US 40 ( 1 mi W of town )",
         "<U+2610> S <U+25A1> <U+25A1> <U+25A1>",
         "Roosevelt",
         "84066",
         "Top Stop # 66 ( Chevron )",
         "435-722-9940",
         "2015",
         "Roosevelt",
         "UT",
         "Chevron",
         "( 1 mi W of town )",
         "1128 US 40",
         "Proper",
         null,
         null,
         null,
         "False",
         null,
         "False",
         "US 40",
         null,
         null,
         null,
         null,
         "[928, 477]",
         "[459, 477, 906, 928]",
         "[459, 477, 906, 928]",
         "[]",
         "[398, 399, 400, 401, 402, 403, 404, 405, 406, 407, 408, 409, 410, 411, 412, 413, 414, 415, 416, 417, 418, 419, 420, 421, 422, 423, 424, 425, 426, 427, 428, 429, 430, 431, 432, 433, 434, 435, 436, 437, 438, 439, 440, 441, 442, 443, 444, 445, 446, 447, 448, 449, 450, 451, 452, 453, 454, 455, 456, 457, 458, 459, 460, 461, 462, 463, 464, 465, 466, 467, 468, 469, 470, 471, 472, 473, 474, 475, 476, 477, 478, 479, 480, 481, 482, 483, 484, 848, 849, 850, 851, 852, 853, 854, 855, 856, 857, 858, 859, 860, 861, 862, 863, 864, 865, 866, 867, 868, 869, 870, 871, 872, 873, 874, 875, 876, 877, 878, 879, 880, 881, 882, 883, 884, 885, 886, 887, 888, 889, 890, 891, 892, 893, 894, 895, 896, 897, 898, 899, 900, 901, 902, 903, 904, 905, 906, 907, 908, 909, 910, 911, 912, 913, 914, 915, 916, 917, 918, 919, 920, 921, 922, 923, 924, 925, 926, 927, 928, 929, 930, 931, 932, 933, 934, 935]",
         "[4, 11, 18, 21, 23, 26, 27, 28, 31, 35, 36, 43, 45, 52, 55, 56, 60, 62, 64, 70, 71, 80, 90, 94, 97, 183, 197, 232, 334, 426, 455, 472, 477, 478, 480, 483, 484, 490, 496, 505, 507, 509, 510, 511, 514, 516, 517, 523, 525, 529, 532, 533, 536, 538, 545, 546, 552, 561, 565, 568, 654, 668, 696, 790, 857, 878, 902, 919, 928, 929, 932, 934, 935]",
         "[12, 24, 25, 28, 88, 100, 104, 119, 123, 129, 136, 137, 139, 140, 141, 148, 155, 169, 172, 179, 183, 185, 188, 196, 198, 217, 237, 267, 270, 278, 319, 321, 324, 325, 330, 334, 335, 354, 366, 369, 380, 383, 384, 386, 395, 407, 411, 423, 428, 436, 437, 452, 453, 456, 467, 471, 477, 478, 479, 497, 508, 511, 559, 571, 575, 590, 594, 600, 607, 608, 610, 611, 612, 619, 627, 640, 643, 650, 654, 656, 659, 667, 669, 685, 701, 726, 729, 737, 777, 779, 782, 783, 787, 790, 791, 809, 817, 819, 830, 833, 834, 836, 845, 856, 857, 860, 862, 875, 880, 887, 888, 899, 900, 914, 918, 921, 928, 929, 930]",
         "[12, 24, 25, 28, 88, 100, 104, 119, 123, 129, 136, 137, 139, 140, 141, 148, 155, 169, 172, 179, 183, 185, 188, 196, 198, 217, 237, 267, 270, 278, 319, 321, 324, 325, 330, 334, 335, 354, 366, 369, 380, 383, 384, 386, 395, 401, 402, 407, 411, 423, 424, 427, 428, 436, 437, 452, 453, 456, 464, 467, 469, 471, 477, 478, 479, 497, 508, 511, 559, 571, 575, 590, 594, 600, 607, 608, 610, 611, 612, 619, 627, 640, 643, 650, 654, 656, 659, 667, 669, 685, 701, 726, 729, 737, 777, 779, 782, 783, 787, 790, 791, 809, 817, 819, 830, 833, 834, 836, 845, 850, 851, 856, 857, 860, 862, 875, 876, 879, 880, 887, 888, 899, 900, 911, 914, 916, 918, 921, 928, 929, 930, 931]",
         "[4, 11, 12, 18, 21, 23, 24, 25, 26, 27, 28, 31, 35, 36, 43, 45, 52, 55, 56, 60, 62, 64, 70, 71, 80, 88, 90, 94, 97, 100, 104, 119, 123, 129, 136, 137, 139, 140, 141, 148, 155, 169, 172, 179, 183, 185, 188, 196, 197, 198, 217, 232, 237, 267, 270, 278, 319, 321, 324, 325, 330, 334, 335, 354, 366, 369, 380, 383, 384, 386, 395, 398, 399, 400, 401, 402, 403, 404, 405, 406, 407, 408, 409, 410, 411, 412, 413, 414, 415, 416, 417, 418, 419, 420, 421, 422, 423, 424, 425, 426, 427, 428, 429, 430, 431, 432, 433, 434, 435, 436, 437, 438, 439, 440, 441, 442, 443, 444, 445, 446, 447, 448, 449, 450, 451, 452, 453, 454, 455, 456, 457, 458, 459, 460, 461, 462, 463, 464, 465, 466, 467, 468, 469, 470, 471, 472, 473, 474, 475, 476, 477, 478, 479, 480, 481, 482, 483, 484, 490, 496, 497, 505, 507, 508, 509, 510, 511, 514, 516, 517, 523, 525, 529, 532, 533, 536, 538, 545, 546, 552, 559, 561, 565, 568, 571, 575, 590, 594, 600, 607, 608, 610, 611, 612, 619, 627, 640, 643, 650, 654, 656, 659, 667, 668, 669, 685, 696, 701, 726, 729, 737, 777, 779, 782, 783, 787, 790, 791, 809, 817, 819, 830, 833, 834, 836, 845, 848, 849, 850, 851, 852, 853, 854, 855, 856, 857, 858, 859, 860, 861, 862, 863, 864, 865, 866, 867, 868, 869, 870, 871, 872, 873, 874, 875, 876, 877, 878, 879, 880, 881, 882, 883, 884, 885, 886, 887, 888, 889, 890, 891, 892, 893, 894, 895, 896, 897, 898, 899, 900, 901, 902, 903, 904, 905, 906, 907, 908, 909, 910, 911, 912, 913, 914, 915, 916, 917, 918, 919, 920, 921, 922, 923, 924, 925, 926, 927, 928, 929, 930, 931, 932, 933, 934, 935]",
         "[928, 477]",
         "True",
         "[459, 477, 906, 928]",
         "[398, 399, 400, 401, 402, 403, 404, 405, 406, 407, 408, 409, 410, 411, 412, 413, 414, 415, 416, 417, 418, 419, 420, 421, 422, 423, 424, 425, 426, 427, 428, 429, 430, 431, 432, 433, 434, 435, 436, 437, 438, 439, 440, 441, 442, 443, 444, 445, 446, 447, 448, 449, 450, 451, 452, 453, 454, 455, 456, 457, 458, 459, 460, 461, 462, 463, 464, 465, 466, 467, 468, 469, 470, 471, 472, 473, 474, 475, 476, 477, 478, 479, 480, 481, 482, 483, 484, 848, 849, 850, 851, 852, 853, 854, 855, 856, 857, 858, 859, 860, 861, 862, 863, 864, 865, 866, 867, 868, 869, 870, 871, 872, 873, 874, 875, 876, 877, 878, 879, 880, 881, 882, 883, 884, 885, 886, 887, 888, 889, 890, 891, 892, 893, 894, 895, 896, 897, 898, 899, 900, 901, 902, 903, 904, 905, 906, 907, 908, 909, 910, 911, 912, 913, 914, 915, 916, 917, 918, 919, 920, 921, 922, 923, 924, 925, 926, 927, 928, 929, 930, 931, 932, 933, 934, 935]",
         "[459, 477, 906, 928]",
         "[]",
         "[4, 11, 18, 21, 23, 26, 27, 28, 31, 35, 36, 43, 45, 52, 55, 56, 60, 62, 64, 70, 71, 80, 90, 94, 97, 183, 197, 232, 334, 426, 455, 472, 477, 478, 480, 483, 484, 490, 496, 505, 507, 509, 510, 511, 514, 516, 517, 523, 525, 529, 532, 533, 536, 538, 545, 546, 552, 561, 565, 568, 654, 668, 696, 790, 857, 878, 902, 919, 928, 929, 932, 934, 935]",
         "[12, 24, 25, 28, 88, 100, 104, 119, 123, 129, 136, 137, 139, 140, 141, 148, 155, 169, 172, 179, 183, 185, 188, 196, 198, 217, 237, 267, 270, 278, 319, 321, 324, 325, 330, 334, 335, 354, 366, 369, 380, 383, 384, 386, 395, 401, 402, 407, 411, 423, 424, 427, 428, 436, 437, 452, 453, 456, 464, 467, 469, 471, 477, 478, 479, 497, 508, 511, 559, 571, 575, 590, 594, 600, 607, 608, 610, 611, 612, 619, 627, 640, 643, 650, 654, 656, 659, 667, 669, 685, 701, 726, 729, 737, 777, 779, 782, 783, 787, 790, 791, 809, 817, 819, 830, 833, 834, 836, 845, 850, 851, 856, 857, 860, 862, 875, 876, 879, 880, 887, 888, 899, 900, 911, 914, 916, 918, 921, 928, 929, 930, 931]",
         "[12, 24, 25, 28, 88, 100, 104, 119, 123, 129, 136, 137, 139, 140, 141, 148, 155, 169, 172, 179, 183, 185, 188, 196, 198, 217, 237, 267, 270, 278, 319, 321, 324, 325, 330, 334, 335, 354, 366, 369, 380, 383, 384, 386, 395, 407, 411, 423, 428, 436, 437, 452, 453, 456, 467, 471, 477, 478, 479, 497, 508, 511, 559, 571, 575, 590, 594, 600, 607, 608, 610, 611, 612, 619, 627, 640, 643, 650, 654, 656, 659, 667, 669, 685, 701, 726, 729, 737, 777, 779, 782, 783, 787, 790, 791, 809, 817, 819, 830, 833, 834, 836, 845, 856, 857, 860, 862, 875, 880, 887, 888, 899, 900, 914, 918, 921, 928, 929, 930]",
         "7/6 successful match",
         "True",
         "[71]",
         "True",
         "5",
         "[12, 13]",
         "True",
         "46; 46",
         "Utah; Utah",
         "TOP STOP; TOP STOP",
         "http://www.rvandtravelers.com/location_details.php?id=12443; https://www.truckstopsandservices.com/location_details.php?id=12443",
         "RVer; Trucker",
         "chevron; chevron",
         "nan; 40.283481",
         "nan; -110.011147",
         "nan; nan",
         "40.283481; 40.283481",
         "-110.011147; -110.011147",
         "US 40; US 40",
         "nan; nan",
         "1128 US 40; 1128 US 40",
         "ROOSEVELT; ROOSEVELT",
         "UT; UT",
         "84066; 84066",
         "435-722-9940 (TRAVEL CENTER); 435-722-9940 (TRAVEL CENTER)",
         "nan; nan",
         "435-722-9940 (PACOS); 435-722-9940 (PACOS)",
         "nan; nan",
         "nan; nan",
         "nan; nan",
         "nan; nan",
         "nan; nan",
         "nan; nan",
         "nan; nan",
         "[928, 477]",
         "46; 46",
         "Utah; Utah",
         "TOP STOP; TOP STOP",
         "http://www.rvandtravelers.com/location_details.php?id=12443; https://www.truckstopsandservices.com/location_details.php?id=12443",
         "RVer; Trucker",
         "chevron; chevron",
         "nan; 40.283481",
         "nan; -110.011147",
         "nan; nan",
         "40.283481; 40.283481",
         "-110.011147; -110.011147",
         "US 40; US 40",
         "nan; nan",
         "1128 US 40; 1128 US 40",
         "ROOSEVELT; ROOSEVELT",
         "UT; UT",
         "84066; 84066",
         "435-722-9940 (TRAVEL CENTER); 435-722-9940 (TRAVEL CENTER)",
         "nan; nan",
         "435-722-9940 (PACOS); 435-722-9940 (PACOS)",
         "nan; nan",
         "nan; nan",
         "nan; nan",
         "nan; nan",
         "nan; nan",
         "nan; nan",
         "nan; nan",
         "14357229940",
         "Krispy Krunchy Chicken",
         "4.0",
         "1.0",
         "522 E 200th N, Roosevelt, UT 84066",
         "Roosevelt",
         "UT",
         "84066.0",
         "(435) 722-9940",
         "Chicken Shop, Convenience Stores, Fast Food",
         "40.30187",
         "-109.984111",
         null,
         "False",
         "https://www.yelp.com/biz/krispy-krunchy-chicken-roosevelt?adjust_creative=xElCeMfmOucjLmXEMhJkIg&utm_campaign=yelp_api_v3&utm_medium=api_v3_phone_search&utm_source=xElCeMfmOucjLmXEMhJkIg",
         "1128 W Highway 40Roosevelt, UT 84066; 1128 W Highway 40Roosevelt, UT 84066",
         "Top Stop Convenience Store, Chevron Station #355740, Top Stop #66; Top Stop Convenience Store, Chevron Station #355740, Top Stop #66",
         "Chevron; Chevron",
         "https://www.yellowpages.com/roosevelt-ut/mip/chevron-503084774; https://www.yellowpages.com/roosevelt-ut/mip/chevron-503084774#photo-gallery",
         "Gas Stations, Convenience Stores; Gas Stations, Convenience Stores",
         "800 403 6142, 801 489 3212; 800 403 6142, 801 489 3212",
         "nan; nan",
         "Roosevelt; Roosevelt",
         "40.283314; 40.283314",
         "-110.01142; -110.01142",
         "Chevron; Chevron",
         "(435) 722-9940; (435) 722-9940",
         "UT; UT",
         "1128 W Highway 40; 1128 W Highway 40",
         "84066.0; 84066.0",
         "435-722-9940; 435-722-9940",
         "(435) 722-9940Call; (435) 722-9940Call",
         "2025-07-07T04:12:56.868Z; 2025-07-07T04:12:58.914Z",
         "https://www.yellowpages.com/search?search_terms=435+722+9940; https://www.yellowpages.com/search?search_terms=435+722+9940",
         "nan; nan",
         "http://chevronwithtechron.com; http://chevronwithtechron.com",
         "1.927482186738884",
         "Yelp (Phone) vs YellowPages (Phone)",
         "0.0184445084155708",
         "Webscraped vs YellowPages (Phone)",
         "0.0184445084155708",
         "Webscraped vs YellowPages (Phone)",
         "40.2833975",
         "-110.0112835",
         null,
         null,
         null,
         null,
         "40.2833975",
         "-110.0112835",
         "OK",
         "1128 US-40, Roosevelt, UT 84066, USA",
         "40.2832919",
         "-110.0123375",
         "ChIJDYInAhGjT4cRBnjjtlUuPgA",
         "premise,street_address"
        ],
        [
         "29",
         "Roosevelt ( 84066 ) Top Stop # 66 ( Chevron )",
         "6 435-722-9940 1128 US 40 ( 1 mi W of town )",
         "<U+2610> SO <U+25A1>",
         "Roosevelt",
         "84066",
         "Top Stop # 66 ( Chevron )",
         "435-722-9940",
         "2016",
         "Roosevelt",
         "UT",
         "Chevron",
         "( 1 mi W of town )",
         "1128 US 40",
         "Proper",
         null,
         null,
         null,
         "False",
         null,
         "False",
         "US 40",
         null,
         null,
         null,
         null,
         "[928, 477]",
         "[459, 477, 906, 928]",
         "[459, 477, 906, 928]",
         "[]",
         "[398, 399, 400, 401, 402, 403, 404, 405, 406, 407, 408, 409, 410, 411, 412, 413, 414, 415, 416, 417, 418, 419, 420, 421, 422, 423, 424, 425, 426, 427, 428, 429, 430, 431, 432, 433, 434, 435, 436, 437, 438, 439, 440, 441, 442, 443, 444, 445, 446, 447, 448, 449, 450, 451, 452, 453, 454, 455, 456, 457, 458, 459, 460, 461, 462, 463, 464, 465, 466, 467, 468, 469, 470, 471, 472, 473, 474, 475, 476, 477, 478, 479, 480, 481, 482, 483, 484, 848, 849, 850, 851, 852, 853, 854, 855, 856, 857, 858, 859, 860, 861, 862, 863, 864, 865, 866, 867, 868, 869, 870, 871, 872, 873, 874, 875, 876, 877, 878, 879, 880, 881, 882, 883, 884, 885, 886, 887, 888, 889, 890, 891, 892, 893, 894, 895, 896, 897, 898, 899, 900, 901, 902, 903, 904, 905, 906, 907, 908, 909, 910, 911, 912, 913, 914, 915, 916, 917, 918, 919, 920, 921, 922, 923, 924, 925, 926, 927, 928, 929, 930, 931, 932, 933, 934, 935]",
         "[4, 11, 18, 21, 23, 26, 27, 28, 31, 35, 36, 43, 45, 52, 55, 56, 60, 62, 64, 70, 71, 80, 90, 94, 97, 183, 197, 232, 334, 426, 455, 472, 477, 478, 480, 483, 484, 490, 496, 505, 507, 509, 510, 511, 514, 516, 517, 523, 525, 529, 532, 533, 536, 538, 545, 546, 552, 561, 565, 568, 654, 668, 696, 790, 857, 878, 902, 919, 928, 929, 932, 934, 935]",
         "[12, 24, 25, 28, 88, 100, 104, 119, 123, 129, 136, 137, 139, 140, 141, 148, 155, 169, 172, 179, 183, 185, 188, 196, 198, 217, 237, 267, 270, 278, 319, 321, 324, 325, 330, 334, 335, 354, 366, 369, 380, 383, 384, 386, 395, 407, 411, 423, 428, 436, 437, 452, 453, 456, 467, 471, 477, 478, 479, 497, 508, 511, 559, 571, 575, 590, 594, 600, 607, 608, 610, 611, 612, 619, 627, 640, 643, 650, 654, 656, 659, 667, 669, 685, 701, 726, 729, 737, 777, 779, 782, 783, 787, 790, 791, 809, 817, 819, 830, 833, 834, 836, 845, 856, 857, 860, 862, 875, 880, 887, 888, 899, 900, 914, 918, 921, 928, 929, 930]",
         "[12, 24, 25, 28, 88, 100, 104, 119, 123, 129, 136, 137, 139, 140, 141, 148, 155, 169, 172, 179, 183, 185, 188, 196, 198, 217, 237, 267, 270, 278, 319, 321, 324, 325, 330, 334, 335, 354, 366, 369, 380, 383, 384, 386, 395, 401, 402, 407, 411, 423, 424, 427, 428, 436, 437, 452, 453, 456, 464, 467, 469, 471, 477, 478, 479, 497, 508, 511, 559, 571, 575, 590, 594, 600, 607, 608, 610, 611, 612, 619, 627, 640, 643, 650, 654, 656, 659, 667, 669, 685, 701, 726, 729, 737, 777, 779, 782, 783, 787, 790, 791, 809, 817, 819, 830, 833, 834, 836, 845, 850, 851, 856, 857, 860, 862, 875, 876, 879, 880, 887, 888, 899, 900, 911, 914, 916, 918, 921, 928, 929, 930, 931]",
         "[4, 11, 12, 18, 21, 23, 24, 25, 26, 27, 28, 31, 35, 36, 43, 45, 52, 55, 56, 60, 62, 64, 70, 71, 80, 88, 90, 94, 97, 100, 104, 119, 123, 129, 136, 137, 139, 140, 141, 148, 155, 169, 172, 179, 183, 185, 188, 196, 197, 198, 217, 232, 237, 267, 270, 278, 319, 321, 324, 325, 330, 334, 335, 354, 366, 369, 380, 383, 384, 386, 395, 398, 399, 400, 401, 402, 403, 404, 405, 406, 407, 408, 409, 410, 411, 412, 413, 414, 415, 416, 417, 418, 419, 420, 421, 422, 423, 424, 425, 426, 427, 428, 429, 430, 431, 432, 433, 434, 435, 436, 437, 438, 439, 440, 441, 442, 443, 444, 445, 446, 447, 448, 449, 450, 451, 452, 453, 454, 455, 456, 457, 458, 459, 460, 461, 462, 463, 464, 465, 466, 467, 468, 469, 470, 471, 472, 473, 474, 475, 476, 477, 478, 479, 480, 481, 482, 483, 484, 490, 496, 497, 505, 507, 508, 509, 510, 511, 514, 516, 517, 523, 525, 529, 532, 533, 536, 538, 545, 546, 552, 559, 561, 565, 568, 571, 575, 590, 594, 600, 607, 608, 610, 611, 612, 619, 627, 640, 643, 650, 654, 656, 659, 667, 668, 669, 685, 696, 701, 726, 729, 737, 777, 779, 782, 783, 787, 790, 791, 809, 817, 819, 830, 833, 834, 836, 845, 848, 849, 850, 851, 852, 853, 854, 855, 856, 857, 858, 859, 860, 861, 862, 863, 864, 865, 866, 867, 868, 869, 870, 871, 872, 873, 874, 875, 876, 877, 878, 879, 880, 881, 882, 883, 884, 885, 886, 887, 888, 889, 890, 891, 892, 893, 894, 895, 896, 897, 898, 899, 900, 901, 902, 903, 904, 905, 906, 907, 908, 909, 910, 911, 912, 913, 914, 915, 916, 917, 918, 919, 920, 921, 922, 923, 924, 925, 926, 927, 928, 929, 930, 931, 932, 933, 934, 935]",
         "[928, 477]",
         "True",
         "[459, 477, 906, 928]",
         "[398, 399, 400, 401, 402, 403, 404, 405, 406, 407, 408, 409, 410, 411, 412, 413, 414, 415, 416, 417, 418, 419, 420, 421, 422, 423, 424, 425, 426, 427, 428, 429, 430, 431, 432, 433, 434, 435, 436, 437, 438, 439, 440, 441, 442, 443, 444, 445, 446, 447, 448, 449, 450, 451, 452, 453, 454, 455, 456, 457, 458, 459, 460, 461, 462, 463, 464, 465, 466, 467, 468, 469, 470, 471, 472, 473, 474, 475, 476, 477, 478, 479, 480, 481, 482, 483, 484, 848, 849, 850, 851, 852, 853, 854, 855, 856, 857, 858, 859, 860, 861, 862, 863, 864, 865, 866, 867, 868, 869, 870, 871, 872, 873, 874, 875, 876, 877, 878, 879, 880, 881, 882, 883, 884, 885, 886, 887, 888, 889, 890, 891, 892, 893, 894, 895, 896, 897, 898, 899, 900, 901, 902, 903, 904, 905, 906, 907, 908, 909, 910, 911, 912, 913, 914, 915, 916, 917, 918, 919, 920, 921, 922, 923, 924, 925, 926, 927, 928, 929, 930, 931, 932, 933, 934, 935]",
         "[459, 477, 906, 928]",
         "[]",
         "[4, 11, 18, 21, 23, 26, 27, 28, 31, 35, 36, 43, 45, 52, 55, 56, 60, 62, 64, 70, 71, 80, 90, 94, 97, 183, 197, 232, 334, 426, 455, 472, 477, 478, 480, 483, 484, 490, 496, 505, 507, 509, 510, 511, 514, 516, 517, 523, 525, 529, 532, 533, 536, 538, 545, 546, 552, 561, 565, 568, 654, 668, 696, 790, 857, 878, 902, 919, 928, 929, 932, 934, 935]",
         "[12, 24, 25, 28, 88, 100, 104, 119, 123, 129, 136, 137, 139, 140, 141, 148, 155, 169, 172, 179, 183, 185, 188, 196, 198, 217, 237, 267, 270, 278, 319, 321, 324, 325, 330, 334, 335, 354, 366, 369, 380, 383, 384, 386, 395, 401, 402, 407, 411, 423, 424, 427, 428, 436, 437, 452, 453, 456, 464, 467, 469, 471, 477, 478, 479, 497, 508, 511, 559, 571, 575, 590, 594, 600, 607, 608, 610, 611, 612, 619, 627, 640, 643, 650, 654, 656, 659, 667, 669, 685, 701, 726, 729, 737, 777, 779, 782, 783, 787, 790, 791, 809, 817, 819, 830, 833, 834, 836, 845, 850, 851, 856, 857, 860, 862, 875, 876, 879, 880, 887, 888, 899, 900, 911, 914, 916, 918, 921, 928, 929, 930, 931]",
         "[12, 24, 25, 28, 88, 100, 104, 119, 123, 129, 136, 137, 139, 140, 141, 148, 155, 169, 172, 179, 183, 185, 188, 196, 198, 217, 237, 267, 270, 278, 319, 321, 324, 325, 330, 334, 335, 354, 366, 369, 380, 383, 384, 386, 395, 407, 411, 423, 428, 436, 437, 452, 453, 456, 467, 471, 477, 478, 479, 497, 508, 511, 559, 571, 575, 590, 594, 600, 607, 608, 610, 611, 612, 619, 627, 640, 643, 650, 654, 656, 659, 667, 669, 685, 701, 726, 729, 737, 777, 779, 782, 783, 787, 790, 791, 809, 817, 819, 830, 833, 834, 836, 845, 856, 857, 860, 862, 875, 880, 887, 888, 899, 900, 914, 918, 921, 928, 929, 930]",
         "7/6 successful match",
         "True",
         "[71]",
         "True",
         "5",
         "[12, 13]",
         "True",
         "46; 46",
         "Utah; Utah",
         "TOP STOP; TOP STOP",
         "http://www.rvandtravelers.com/location_details.php?id=12443; https://www.truckstopsandservices.com/location_details.php?id=12443",
         "RVer; Trucker",
         "chevron; chevron",
         "nan; 40.283481",
         "nan; -110.011147",
         "nan; nan",
         "40.283481; 40.283481",
         "-110.011147; -110.011147",
         "US 40; US 40",
         "nan; nan",
         "1128 US 40; 1128 US 40",
         "ROOSEVELT; ROOSEVELT",
         "UT; UT",
         "84066; 84066",
         "435-722-9940 (TRAVEL CENTER); 435-722-9940 (TRAVEL CENTER)",
         "nan; nan",
         "435-722-9940 (PACOS); 435-722-9940 (PACOS)",
         "nan; nan",
         "nan; nan",
         "nan; nan",
         "nan; nan",
         "nan; nan",
         "nan; nan",
         "nan; nan",
         "[928, 477]",
         "46; 46",
         "Utah; Utah",
         "TOP STOP; TOP STOP",
         "http://www.rvandtravelers.com/location_details.php?id=12443; https://www.truckstopsandservices.com/location_details.php?id=12443",
         "RVer; Trucker",
         "chevron; chevron",
         "nan; 40.283481",
         "nan; -110.011147",
         "nan; nan",
         "40.283481; 40.283481",
         "-110.011147; -110.011147",
         "US 40; US 40",
         "nan; nan",
         "1128 US 40; 1128 US 40",
         "ROOSEVELT; ROOSEVELT",
         "UT; UT",
         "84066; 84066",
         "435-722-9940 (TRAVEL CENTER); 435-722-9940 (TRAVEL CENTER)",
         "nan; nan",
         "435-722-9940 (PACOS); 435-722-9940 (PACOS)",
         "nan; nan",
         "nan; nan",
         "nan; nan",
         "nan; nan",
         "nan; nan",
         "nan; nan",
         "nan; nan",
         "14357229940",
         "Krispy Krunchy Chicken",
         "4.0",
         "1.0",
         "522 E 200th N, Roosevelt, UT 84066",
         "Roosevelt",
         "UT",
         "84066.0",
         "(435) 722-9940",
         "Chicken Shop, Convenience Stores, Fast Food",
         "40.30187",
         "-109.984111",
         null,
         "False",
         "https://www.yelp.com/biz/krispy-krunchy-chicken-roosevelt?adjust_creative=xElCeMfmOucjLmXEMhJkIg&utm_campaign=yelp_api_v3&utm_medium=api_v3_phone_search&utm_source=xElCeMfmOucjLmXEMhJkIg",
         "1128 W Highway 40Roosevelt, UT 84066; 1128 W Highway 40Roosevelt, UT 84066",
         "Top Stop Convenience Store, Chevron Station #355740, Top Stop #66; Top Stop Convenience Store, Chevron Station #355740, Top Stop #66",
         "Chevron; Chevron",
         "https://www.yellowpages.com/roosevelt-ut/mip/chevron-503084774; https://www.yellowpages.com/roosevelt-ut/mip/chevron-503084774#photo-gallery",
         "Gas Stations, Convenience Stores; Gas Stations, Convenience Stores",
         "800 403 6142, 801 489 3212; 800 403 6142, 801 489 3212",
         "nan; nan",
         "Roosevelt; Roosevelt",
         "40.283314; 40.283314",
         "-110.01142; -110.01142",
         "Chevron; Chevron",
         "(435) 722-9940; (435) 722-9940",
         "UT; UT",
         "1128 W Highway 40; 1128 W Highway 40",
         "84066.0; 84066.0",
         "435-722-9940; 435-722-9940",
         "(435) 722-9940Call; (435) 722-9940Call",
         "2025-07-07T04:12:56.868Z; 2025-07-07T04:12:58.914Z",
         "https://www.yellowpages.com/search?search_terms=435+722+9940; https://www.yellowpages.com/search?search_terms=435+722+9940",
         "nan; nan",
         "http://chevronwithtechron.com; http://chevronwithtechron.com",
         "1.927482186738884",
         "Yelp (Phone) vs YellowPages (Phone)",
         "0.0184445084155708",
         "Webscraped vs YellowPages (Phone)",
         "0.0184445084155708",
         "Webscraped vs YellowPages (Phone)",
         "40.2833975",
         "-110.0112835",
         null,
         null,
         null,
         null,
         "40.2833975",
         "-110.0112835",
         "OK",
         "1128 US-40, Roosevelt, UT 84066, USA",
         "40.2832919",
         "-110.0123375",
         "ChIJDYInAhGjT4cRBnjjtlUuPgA",
         "premise,street_address"
        ],
        [
         "30",
         "D Lake Point , 84074 TravelCenters of America / Salt E )",
         "801-250-8585 I-80 Exit 99 Lake City",
         "TA 24 XL O <U+2610>",
         "Lake Point",
         "84074",
         "TravelCenters of America / Salt E )",
         "801-250-8585",
         "2006",
         "Tooele",
         "UT",
         "TravelCenters",
         null,
         "I-80 Exit 99 Lake City",
         "Exit",
         "99",
         "99",
         null,
         "False",
         null,
         "False",
         "I-80",
         null,
         null,
         null,
         null,
         "[480, 932]",
         "[414, 480, 865, 932]",
         "[43, 66, 71, 104, 411, 414, 417, 420, 430, 441, 446, 448, 449, 450, 468, 480, 523, 541, 546, 575, 860, 862, 865, 868, 869, 872, 882, 896, 897, 915, 932]",
         "[118, 335, 414, 480, 589, 791, 865, 932]",
         "[398, 399, 400, 401, 402, 403, 404, 405, 406, 407, 408, 409, 410, 411, 412, 413, 414, 415, 416, 417, 418, 419, 420, 421, 422, 423, 424, 425, 426, 427, 428, 429, 430, 431, 432, 433, 434, 435, 436, 437, 438, 439, 440, 441, 442, 443, 444, 445, 446, 447, 448, 449, 450, 451, 452, 453, 454, 455, 456, 457, 458, 459, 460, 461, 462, 463, 464, 465, 466, 467, 468, 469, 470, 471, 472, 473, 474, 475, 476, 477, 478, 479, 480, 481, 482, 483, 484, 848, 849, 850, 851, 852, 853, 854, 855, 856, 857, 858, 859, 860, 861, 862, 863, 864, 865, 866, 867, 868, 869, 870, 871, 872, 873, 874, 875, 876, 877, 878, 879, 880, 881, 882, 883, 884, 885, 886, 887, 888, 889, 890, 891, 892, 893, 894, 895, 896, 897, 898, 899, 900, 901, 902, 903, 904, 905, 906, 907, 908, 909, 910, 911, 912, 913, 914, 915, 916, 917, 918, 919, 920, 921, 922, 923, 924, 925, 926, 927, 928, 929, 930, 931, 932, 933, 934, 935]",
         "[89, 108, 172, 217, 221, 239, 264, 280, 321, 342, 343, 344, 345, 346, 349, 351, 352, 355, 357, 359, 364, 368, 371, 372, 373, 374, 376, 377, 387, 392, 393, 403, 409, 411, 414, 424, 430, 449, 454, 470, 480, 560, 584, 643, 685, 703, 724, 739, 779, 798, 799, 800, 801, 804, 806, 807, 810, 812, 814, 816, 821, 822, 823, 824, 826, 827, 837, 842, 843, 852, 859, 862, 865, 869, 876, 882, 897, 901, 917, 932]",
         "[98, 476, 481, 569, 924, 925]",
         "[]",
         "[916, 917, 523, 918, 387, 919, 920, 921, 541, 922, 546, 923, 924, 43, 925, 560, 926, 927, 569, 928, 575, 66, 929, 71, 930, 584, 589, 931, 933, 89, 934, 935, 98, 104, 108, 118, 643, 392, 372, 393, 373, 172, 685, 342, 343, 703, 344, 374, 345, 346, 724, 217, 349, 221, 739, 351, 352, 239, 376, 355, 357, 264, 779, 377, 359, 791, 280, 798, 799, 800, 801, 804, 806, 807, 364, 810, 812, 814, 816, 821, 822, 823, 824, 826, 827, 368, 321, 837, 842, 371, 843, 335, 848, 849, 850, 851, 852, 853, 854, 855, 856, 857, 858, 859, 860, 861, 862, 863, 864, 865, 866, 867, 868, 869, 870, 871, 872, 873, 874, 875, 876, 877, 878, 879, 880, 881, 882, 883, 884, 885, 886, 887, 888, 889, 890, 891, 892, 893, 894, 895, 896, 897, 898, 899, 900, 901, 902, 903, 904, 905, 906, 907, 908, 909, 398, 399, 400, 401, 402, 915, 403, 404, 405, 406, 407, 408, 409, 411, 410, 412, 414, 413, 415, 417, 416, 418, 932, 420, 419, 421, 422, 423, 424, 425, 426, 427, 430, 428, 429, 431, 432, 433, 434, 435, 436, 437, 438, 441, 439, 443, 440, 445, 446, 442, 448, 449, 450, 444, 447, 451, 452, 453, 454, 455, 456, 457, 458, 459, 460, 461, 462, 463, 464, 465, 468, 466, 467, 469, 470, 471, 472, 473, 474, 475, 476, 477, 480, 478, 479, 481, 482, 483, 484, 910, 911, 912, 913, 914]",
         "[480, 932]",
         "True",
         "[414, 480, 865, 932]",
         "[398, 399, 400, 401, 402, 403, 404, 405, 406, 407, 408, 409, 410, 411, 412, 413, 414, 415, 416, 417, 418, 419, 420, 421, 422, 423, 424, 425, 426, 427, 428, 429, 430, 431, 432, 433, 434, 435, 436, 437, 438, 439, 440, 441, 442, 443, 444, 445, 446, 447, 448, 449, 450, 451, 452, 453, 454, 455, 456, 457, 458, 459, 460, 461, 462, 463, 464, 465, 466, 467, 468, 469, 470, 471, 472, 473, 474, 475, 476, 477, 478, 479, 480, 481, 482, 483, 484, 848, 849, 850, 851, 852, 853, 854, 855, 856, 857, 858, 859, 860, 861, 862, 863, 864, 865, 866, 867, 868, 869, 870, 871, 872, 873, 874, 875, 876, 877, 878, 879, 880, 881, 882, 883, 884, 885, 886, 887, 888, 889, 890, 891, 892, 893, 894, 895, 896, 897, 898, 899, 900, 901, 902, 903, 904, 905, 906, 907, 908, 909, 910, 911, 912, 913, 914, 915, 916, 917, 918, 919, 920, 921, 922, 923, 924, 925, 926, 927, 928, 929, 930, 931, 932, 933, 934, 935]",
         "[43, 66, 71, 104, 411, 414, 417, 420, 430, 441, 446, 448, 449, 450, 468, 480, 523, 541, 546, 575, 860, 862, 865, 868, 869, 872, 882, 896, 897, 915, 932]",
         "[118, 335, 414, 480, 589, 791, 865, 932]",
         "[89, 108, 172, 217, 221, 239, 264, 280, 321, 342, 343, 344, 345, 346, 349, 351, 352, 355, 357, 359, 364, 368, 371, 372, 373, 374, 376, 377, 387, 392, 393, 403, 409, 411, 414, 424, 430, 449, 454, 470, 480, 560, 584, 643, 685, 703, 724, 739, 779, 798, 799, 800, 801, 804, 806, 807, 810, 812, 814, 816, 821, 822, 823, 824, 826, 827, 837, 842, 843, 852, 859, 862, 865, 869, 876, 882, 897, 901, 917, 932]",
         "[]",
         "[98, 476, 481, 569, 924, 925]",
         "6/6 successful match",
         "True",
         "[326, 327, 328, 329]",
         "True",
         "6",
         "[14, 15, 16]",
         "True",
         "46; 46",
         "Utah; Utah",
         "TRAVEL CENTERS OF AMERICA #060; TRAVEL CENTERS OF AMERICA #060",
         "https://www.truckstopsandservices.com/location_details.php?id=16611; http://www.rvandtravelers.com/location_details.php?id=16611",
         "Trucker; RVer",
         "catscale3; catscale3",
         "40.689663; nan",
         "-112.263838; nan",
         "https://www.ta-petro.com/location/ut/ta-tooele; http://https://www.ta-petro.com/location/ut/ta-tooele",
         "40.689663; 40.689663",
         "-112.263838; -112.263838",
         "I-80; I-80",
         "99; 99",
         "8836 N HWY 40; 8836 N HWY 40",
         "TOOELE; TOOELE",
         "UT; UT",
         "84074; 84074",
         "801-250-8585 (TRAVEL CENTER); 801-250-8585 (TRAVEL CENTER)",
         "801-252-2224; 801-252-2224",
         "801-250-8585 (TACO BELL); 801-250-8585 (TACO BELL)",
         "801-250-8585 (BURGER KING); 801-250-8585 (BURGER KING)",
         "nan; nan",
         "nan; nan",
         "nan; nan",
         "nan; nan",
         "nan; www.ta-petro.com/location/ut/ta-tooele",
         "nan; nan",
         "[]",
         null,
         null,
         null,
         null,
         null,
         null,
         null,
         null,
         null,
         null,
         null,
         null,
         null,
         null,
         null,
         null,
         null,
         null,
         null,
         null,
         null,
         null,
         null,
         null,
         null,
         null,
         null,
         "18012508585; 18012508585; 18012508585; 18012508585",
         "Taco Bell; TA Tooele; TA Travel Center; Burger King",
         "2.5; 2.5; 2.5; 1.6",
         "2.0; 4.0; 6.0; 9.0",
         "8836 Hwy 40, Travel Centers Of America, Tooele, UT 84074; 8836 N Hwy 40, Salt Lake City, UT 84074; 8836 N Hwy 40, Salt Lake City, UT 84074; 8836 N Hwy 40, Tooele, UT 84074",
         "Tooele; Salt Lake City; Salt Lake City; Tooele",
         "UT; UT; UT; UT",
         "84074.0; 84074.0; 84074.0; 84074.0",
         "(801) 250-8585; (801) 250-8585; (801) 250-8585; (801) 250-8585",
         "Tex-Mex, Fast Food, Mexican; Gas Stations, Convenience Stores; Gas Stations, Convenience Stores, Commercial Truck Repair; Burgers, Fast Food",
         "40.5307776; 40.760311126709; 40.69009774670599; 40.68992716345105",
         "-112.29828; -111.888221740723; -112.26291687445595; -112.26291955755148",
         "nan; nan; nan; $",
         "True; False; False; False",
         "https://www.yelp.com/biz/taco-bell-tooele-2?adjust_creative=xElCeMfmOucjLmXEMhJkIg&utm_campaign=yelp_api_v3&utm_medium=api_v3_phone_search&utm_source=xElCeMfmOucjLmXEMhJkIg; https://www.yelp.com/biz/ta-tooele-salt-lake-city?adjust_creative=xElCeMfmOucjLmXEMhJkIg&utm_campaign=yelp_api_v3&utm_medium=api_v3_phone_search&utm_source=xElCeMfmOucjLmXEMhJkIg; https://www.yelp.com/biz/ta-travel-center-salt-lake-city?adjust_creative=xElCeMfmOucjLmXEMhJkIg&utm_campaign=yelp_api_v3&utm_medium=api_v3_phone_search&utm_source=xElCeMfmOucjLmXEMhJkIg; https://www.yelp.com/biz/burger-king-tooele-3?adjust_creative=xElCeMfmOucjLmXEMhJkIg&utm_campaign=yelp_api_v3&utm_medium=api_v3_phone_search&utm_source=xElCeMfmOucjLmXEMhJkIg",
         "8836 Clinton Landing RdTooele, UT 84074; 8836 Clinton Landing RdTooele, UT 84074; 8836 Clinton Landing RdTooele, UT 84074",
         "Western Union Agent Location; nan; nan",
         "Western Union; Burger King; Shell",
         "https://www.yellowpages.com/tooele-ut/mip/western-union-502909171; https://www.yellowpages.com/tooele-ut/mip/burger-king-458111103; https://www.yellowpages.com/tooele-ut/mip/shell-506356806",
         "Money Transfer Service, Money Order Service; Fast Food Restaurants, Hamburgers & Hot Dogs, Restaurants; Gas Stations",
         "217 277 0466; nan; nan",
         "nan; nan; nan",
         "Tooele; Tooele; Tooele",
         "40.689903; 40.689903; 40.689884",
         "-112.26376; -112.26376; -112.26388",
         "Western Union; Burger King; Shell",
         "(801) 250-8585; (801) 250-8585; (801) 250-8585",
         "UT; UT; UT",
         "8836 Clinton Landing Rd; 8836 Clinton Landing Rd; 8836 Clinton Landing Rd",
         "84074.0; 84074.0; 84074.0",
         "801-250-8585; 801-250-8585; 801-250-8585",
         "(801) 250-8585Call; (801) 250-8585Call; (801) 250-8585Call",
         "2025-07-07T04:13:09.065Z; 2025-07-07T04:13:12.753Z; 2025-07-07T04:13:16.417Z",
         "https://www.yellowpages.com/search?search_terms=801+250+8585; https://www.yellowpages.com/search?search_terms=801+250+8585; https://www.yellowpages.com/search?search_terms=801+250+8585",
         "nan; nan; nan",
         "https://www.westernunion.com/global-services/find-locations/us/ut/tooele/0ee808d1d5412ebe48d8f8254949dc89; https://burgerking.com/store-locator/store/restaurant_6998; https://find.shell.com/us/fuel/10060302-8836-n-highway-40-i-80-exit-99/en_US",
         "20.265044218387903",
         "Webscraped vs Yelp (Phone)",
         "0.0154275217372564",
         "Webscraped vs YellowPages (Phone)",
         "0.0154275217372564",
         "Webscraped vs YellowPages (Phone)",
         "40.6897735",
         "-112.263859",
         null,
         null,
         null,
         null,
         "40.6897735",
         "-112.263859",
         null,
         null,
         null,
         null,
         null,
         null
        ],
        [
         "31",
         "Lake Point , 84074 TravelCenters of America / SLC",
         "801-250-8585 I-80 Exit 99 TA",
         "24 O",
         "Lake Point",
         "84074",
         "TravelCenters of America / SLC",
         "801-250-8585",
         "2007",
         "Tooele",
         "UT",
         "TravelCenters",
         null,
         "I-80 Exit 99 TA",
         "Exit",
         "99",
         "99",
         null,
         "False",
         null,
         "False",
         "I-80",
         null,
         null,
         null,
         null,
         "[480, 932]",
         "[414, 480, 865, 932]",
         "[43, 66, 71, 104, 411, 414, 417, 420, 430, 441, 446, 448, 449, 450, 468, 480, 523, 541, 546, 575, 860, 862, 865, 868, 869, 872, 882, 896, 897, 915, 932]",
         "[118, 335, 414, 480, 589, 791, 865, 932]",
         "[398, 399, 400, 401, 402, 403, 404, 405, 406, 407, 408, 409, 410, 411, 412, 413, 414, 415, 416, 417, 418, 419, 420, 421, 422, 423, 424, 425, 426, 427, 428, 429, 430, 431, 432, 433, 434, 435, 436, 437, 438, 439, 440, 441, 442, 443, 444, 445, 446, 447, 448, 449, 450, 451, 452, 453, 454, 455, 456, 457, 458, 459, 460, 461, 462, 463, 464, 465, 466, 467, 468, 469, 470, 471, 472, 473, 474, 475, 476, 477, 478, 479, 480, 481, 482, 483, 484, 848, 849, 850, 851, 852, 853, 854, 855, 856, 857, 858, 859, 860, 861, 862, 863, 864, 865, 866, 867, 868, 869, 870, 871, 872, 873, 874, 875, 876, 877, 878, 879, 880, 881, 882, 883, 884, 885, 886, 887, 888, 889, 890, 891, 892, 893, 894, 895, 896, 897, 898, 899, 900, 901, 902, 903, 904, 905, 906, 907, 908, 909, 910, 911, 912, 913, 914, 915, 916, 917, 918, 919, 920, 921, 922, 923, 924, 925, 926, 927, 928, 929, 930, 931, 932, 933, 934, 935]",
         "[89, 108, 172, 217, 221, 239, 264, 280, 321, 342, 343, 344, 345, 346, 349, 351, 352, 355, 357, 359, 364, 368, 371, 372, 373, 374, 376, 377, 387, 392, 393, 403, 409, 411, 414, 424, 430, 449, 454, 470, 480, 560, 584, 643, 685, 703, 724, 739, 779, 798, 799, 800, 801, 804, 806, 807, 810, 812, 814, 816, 821, 822, 823, 824, 826, 827, 837, 842, 843, 852, 859, 862, 865, 869, 876, 882, 897, 901, 917, 932]",
         "[98, 476, 481, 569, 924, 925]",
         "[]",
         "[916, 917, 523, 918, 387, 919, 920, 921, 541, 922, 546, 923, 924, 43, 925, 560, 926, 927, 569, 928, 575, 66, 929, 71, 930, 584, 589, 931, 933, 89, 934, 935, 98, 104, 108, 118, 643, 392, 372, 393, 373, 172, 685, 342, 343, 703, 344, 374, 345, 346, 724, 217, 349, 221, 739, 351, 352, 239, 376, 355, 357, 264, 779, 377, 359, 791, 280, 798, 799, 800, 801, 804, 806, 807, 364, 810, 812, 814, 816, 821, 822, 823, 824, 826, 827, 368, 321, 837, 842, 371, 843, 335, 848, 849, 850, 851, 852, 853, 854, 855, 856, 857, 858, 859, 860, 861, 862, 863, 864, 865, 866, 867, 868, 869, 870, 871, 872, 873, 874, 875, 876, 877, 878, 879, 880, 881, 882, 883, 884, 885, 886, 887, 888, 889, 890, 891, 892, 893, 894, 895, 896, 897, 898, 899, 900, 901, 902, 903, 904, 905, 906, 907, 908, 909, 398, 399, 400, 401, 402, 915, 403, 404, 405, 406, 407, 408, 409, 411, 410, 412, 414, 413, 415, 417, 416, 418, 932, 420, 419, 421, 422, 423, 424, 425, 426, 427, 430, 428, 429, 431, 432, 433, 434, 435, 436, 437, 438, 441, 439, 443, 440, 445, 446, 442, 448, 449, 450, 444, 447, 451, 452, 453, 454, 455, 456, 457, 458, 459, 460, 461, 462, 463, 464, 465, 468, 466, 467, 469, 470, 471, 472, 473, 474, 475, 476, 477, 480, 478, 479, 481, 482, 483, 484, 910, 911, 912, 913, 914]",
         "[480, 932]",
         "True",
         "[414, 480, 865, 932]",
         "[398, 399, 400, 401, 402, 403, 404, 405, 406, 407, 408, 409, 410, 411, 412, 413, 414, 415, 416, 417, 418, 419, 420, 421, 422, 423, 424, 425, 426, 427, 428, 429, 430, 431, 432, 433, 434, 435, 436, 437, 438, 439, 440, 441, 442, 443, 444, 445, 446, 447, 448, 449, 450, 451, 452, 453, 454, 455, 456, 457, 458, 459, 460, 461, 462, 463, 464, 465, 466, 467, 468, 469, 470, 471, 472, 473, 474, 475, 476, 477, 478, 479, 480, 481, 482, 483, 484, 848, 849, 850, 851, 852, 853, 854, 855, 856, 857, 858, 859, 860, 861, 862, 863, 864, 865, 866, 867, 868, 869, 870, 871, 872, 873, 874, 875, 876, 877, 878, 879, 880, 881, 882, 883, 884, 885, 886, 887, 888, 889, 890, 891, 892, 893, 894, 895, 896, 897, 898, 899, 900, 901, 902, 903, 904, 905, 906, 907, 908, 909, 910, 911, 912, 913, 914, 915, 916, 917, 918, 919, 920, 921, 922, 923, 924, 925, 926, 927, 928, 929, 930, 931, 932, 933, 934, 935]",
         "[43, 66, 71, 104, 411, 414, 417, 420, 430, 441, 446, 448, 449, 450, 468, 480, 523, 541, 546, 575, 860, 862, 865, 868, 869, 872, 882, 896, 897, 915, 932]",
         "[118, 335, 414, 480, 589, 791, 865, 932]",
         "[89, 108, 172, 217, 221, 239, 264, 280, 321, 342, 343, 344, 345, 346, 349, 351, 352, 355, 357, 359, 364, 368, 371, 372, 373, 374, 376, 377, 387, 392, 393, 403, 409, 411, 414, 424, 430, 449, 454, 470, 480, 560, 584, 643, 685, 703, 724, 739, 779, 798, 799, 800, 801, 804, 806, 807, 810, 812, 814, 816, 821, 822, 823, 824, 826, 827, 837, 842, 843, 852, 859, 862, 865, 869, 876, 882, 897, 901, 917, 932]",
         "[]",
         "[98, 476, 481, 569, 924, 925]",
         "6/6 successful match",
         "True",
         "[326, 327, 328, 329]",
         "True",
         "6",
         "[14, 15, 16]",
         "True",
         "46; 46",
         "Utah; Utah",
         "TRAVEL CENTERS OF AMERICA #060; TRAVEL CENTERS OF AMERICA #060",
         "https://www.truckstopsandservices.com/location_details.php?id=16611; http://www.rvandtravelers.com/location_details.php?id=16611",
         "Trucker; RVer",
         "catscale3; catscale3",
         "40.689663; nan",
         "-112.263838; nan",
         "https://www.ta-petro.com/location/ut/ta-tooele; http://https://www.ta-petro.com/location/ut/ta-tooele",
         "40.689663; 40.689663",
         "-112.263838; -112.263838",
         "I-80; I-80",
         "99; 99",
         "8836 N HWY 40; 8836 N HWY 40",
         "TOOELE; TOOELE",
         "UT; UT",
         "84074; 84074",
         "801-250-8585 (TRAVEL CENTER); 801-250-8585 (TRAVEL CENTER)",
         "801-252-2224; 801-252-2224",
         "801-250-8585 (TACO BELL); 801-250-8585 (TACO BELL)",
         "801-250-8585 (BURGER KING); 801-250-8585 (BURGER KING)",
         "nan; nan",
         "nan; nan",
         "nan; nan",
         "nan; nan",
         "nan; www.ta-petro.com/location/ut/ta-tooele",
         "nan; nan",
         "[]",
         null,
         null,
         null,
         null,
         null,
         null,
         null,
         null,
         null,
         null,
         null,
         null,
         null,
         null,
         null,
         null,
         null,
         null,
         null,
         null,
         null,
         null,
         null,
         null,
         null,
         null,
         null,
         "18012508585; 18012508585; 18012508585; 18012508585",
         "Taco Bell; TA Tooele; TA Travel Center; Burger King",
         "2.5; 2.5; 2.5; 1.6",
         "2.0; 4.0; 6.0; 9.0",
         "8836 Hwy 40, Travel Centers Of America, Tooele, UT 84074; 8836 N Hwy 40, Salt Lake City, UT 84074; 8836 N Hwy 40, Salt Lake City, UT 84074; 8836 N Hwy 40, Tooele, UT 84074",
         "Tooele; Salt Lake City; Salt Lake City; Tooele",
         "UT; UT; UT; UT",
         "84074.0; 84074.0; 84074.0; 84074.0",
         "(801) 250-8585; (801) 250-8585; (801) 250-8585; (801) 250-8585",
         "Tex-Mex, Fast Food, Mexican; Gas Stations, Convenience Stores; Gas Stations, Convenience Stores, Commercial Truck Repair; Burgers, Fast Food",
         "40.5307776; 40.760311126709; 40.69009774670599; 40.68992716345105",
         "-112.29828; -111.888221740723; -112.26291687445595; -112.26291955755148",
         "nan; nan; nan; $",
         "True; False; False; False",
         "https://www.yelp.com/biz/taco-bell-tooele-2?adjust_creative=xElCeMfmOucjLmXEMhJkIg&utm_campaign=yelp_api_v3&utm_medium=api_v3_phone_search&utm_source=xElCeMfmOucjLmXEMhJkIg; https://www.yelp.com/biz/ta-tooele-salt-lake-city?adjust_creative=xElCeMfmOucjLmXEMhJkIg&utm_campaign=yelp_api_v3&utm_medium=api_v3_phone_search&utm_source=xElCeMfmOucjLmXEMhJkIg; https://www.yelp.com/biz/ta-travel-center-salt-lake-city?adjust_creative=xElCeMfmOucjLmXEMhJkIg&utm_campaign=yelp_api_v3&utm_medium=api_v3_phone_search&utm_source=xElCeMfmOucjLmXEMhJkIg; https://www.yelp.com/biz/burger-king-tooele-3?adjust_creative=xElCeMfmOucjLmXEMhJkIg&utm_campaign=yelp_api_v3&utm_medium=api_v3_phone_search&utm_source=xElCeMfmOucjLmXEMhJkIg",
         "8836 Clinton Landing RdTooele, UT 84074; 8836 Clinton Landing RdTooele, UT 84074; 8836 Clinton Landing RdTooele, UT 84074",
         "Western Union Agent Location; nan; nan",
         "Western Union; Burger King; Shell",
         "https://www.yellowpages.com/tooele-ut/mip/western-union-502909171; https://www.yellowpages.com/tooele-ut/mip/burger-king-458111103; https://www.yellowpages.com/tooele-ut/mip/shell-506356806",
         "Money Transfer Service, Money Order Service; Fast Food Restaurants, Hamburgers & Hot Dogs, Restaurants; Gas Stations",
         "217 277 0466; nan; nan",
         "nan; nan; nan",
         "Tooele; Tooele; Tooele",
         "40.689903; 40.689903; 40.689884",
         "-112.26376; -112.26376; -112.26388",
         "Western Union; Burger King; Shell",
         "(801) 250-8585; (801) 250-8585; (801) 250-8585",
         "UT; UT; UT",
         "8836 Clinton Landing Rd; 8836 Clinton Landing Rd; 8836 Clinton Landing Rd",
         "84074.0; 84074.0; 84074.0",
         "801-250-8585; 801-250-8585; 801-250-8585",
         "(801) 250-8585Call; (801) 250-8585Call; (801) 250-8585Call",
         "2025-07-07T04:13:09.065Z; 2025-07-07T04:13:12.753Z; 2025-07-07T04:13:16.417Z",
         "https://www.yellowpages.com/search?search_terms=801+250+8585; https://www.yellowpages.com/search?search_terms=801+250+8585; https://www.yellowpages.com/search?search_terms=801+250+8585",
         "nan; nan; nan",
         "https://www.westernunion.com/global-services/find-locations/us/ut/tooele/0ee808d1d5412ebe48d8f8254949dc89; https://burgerking.com/store-locator/store/restaurant_6998; https://find.shell.com/us/fuel/10060302-8836-n-highway-40-i-80-exit-99/en_US",
         "20.265044218387903",
         "Webscraped vs Yelp (Phone)",
         "0.0154275217372564",
         "Webscraped vs YellowPages (Phone)",
         "0.0154275217372564",
         "Webscraped vs YellowPages (Phone)",
         "40.6897735",
         "-112.263859",
         null,
         null,
         null,
         null,
         "40.6897735",
         "-112.263859",
         null,
         null,
         null,
         null,
         null,
         null
        ],
        [
         "32",
         "ILake Point , 84074 TA- Salt Lake City ( Tesoro )",
         "3 801-250-8585 I-80 Exit 99 TA",
         "HRS 24 XL 24",
         "Lake Point",
         "84074",
         "TA- Salt Lake City ( Tesoro )",
         "801-250-8585",
         "2008",
         "Tooele",
         "UT",
         "Tesoro",
         null,
         "I-80 Exit 99 TA",
         "Exit",
         "99",
         "99",
         null,
         "False",
         null,
         "False",
         "I-80",
         null,
         null,
         null,
         null,
         "[480, 932]",
         "[414, 480, 865, 932]",
         "[43, 66, 71, 104, 411, 414, 417, 420, 430, 441, 446, 448, 449, 450, 468, 480, 523, 541, 546, 575, 860, 862, 865, 868, 869, 872, 882, 896, 897, 915, 932]",
         "[118, 335, 414, 480, 589, 791, 865, 932]",
         "[398, 399, 400, 401, 402, 403, 404, 405, 406, 407, 408, 409, 410, 411, 412, 413, 414, 415, 416, 417, 418, 419, 420, 421, 422, 423, 424, 425, 426, 427, 428, 429, 430, 431, 432, 433, 434, 435, 436, 437, 438, 439, 440, 441, 442, 443, 444, 445, 446, 447, 448, 449, 450, 451, 452, 453, 454, 455, 456, 457, 458, 459, 460, 461, 462, 463, 464, 465, 466, 467, 468, 469, 470, 471, 472, 473, 474, 475, 476, 477, 478, 479, 480, 481, 482, 483, 484, 848, 849, 850, 851, 852, 853, 854, 855, 856, 857, 858, 859, 860, 861, 862, 863, 864, 865, 866, 867, 868, 869, 870, 871, 872, 873, 874, 875, 876, 877, 878, 879, 880, 881, 882, 883, 884, 885, 886, 887, 888, 889, 890, 891, 892, 893, 894, 895, 896, 897, 898, 899, 900, 901, 902, 903, 904, 905, 906, 907, 908, 909, 910, 911, 912, 913, 914, 915, 916, 917, 918, 919, 920, 921, 922, 923, 924, 925, 926, 927, 928, 929, 930, 931, 932, 933, 934, 935]",
         "[89, 108, 172, 217, 221, 239, 264, 280, 321, 342, 343, 344, 345, 346, 349, 351, 352, 355, 357, 359, 364, 368, 371, 372, 373, 374, 376, 377, 387, 392, 393, 403, 409, 411, 414, 424, 430, 449, 454, 470, 480, 560, 584, 643, 685, 703, 724, 739, 779, 798, 799, 800, 801, 804, 806, 807, 810, 812, 814, 816, 821, 822, 823, 824, 826, 827, 837, 842, 843, 852, 859, 862, 865, 869, 876, 882, 897, 901, 917, 932]",
         "[296, 409, 755, 859]",
         "[29, 296, 301, 409, 476, 512, 755, 859, 924, 925]",
         "[512, 916, 917, 523, 918, 387, 919, 920, 921, 541, 29, 922, 546, 923, 924, 43, 925, 560, 926, 927, 928, 575, 66, 929, 71, 930, 584, 589, 931, 933, 89, 934, 935, 104, 108, 118, 643, 392, 372, 393, 373, 172, 685, 342, 343, 703, 344, 374, 345, 346, 724, 217, 349, 221, 739, 351, 352, 239, 755, 376, 355, 357, 264, 779, 377, 359, 791, 280, 798, 799, 800, 801, 804, 806, 807, 364, 296, 810, 812, 301, 814, 816, 821, 822, 823, 824, 826, 827, 368, 321, 837, 842, 371, 843, 335, 848, 849, 850, 851, 852, 853, 854, 855, 856, 857, 858, 859, 860, 861, 862, 863, 864, 865, 866, 867, 868, 869, 870, 871, 872, 873, 874, 875, 876, 877, 878, 879, 880, 881, 882, 883, 884, 885, 886, 887, 888, 889, 890, 891, 892, 893, 894, 895, 896, 897, 898, 899, 900, 901, 902, 903, 904, 905, 906, 907, 908, 909, 398, 399, 400, 401, 402, 915, 403, 404, 405, 406, 407, 408, 409, 411, 410, 412, 414, 413, 415, 417, 416, 418, 932, 420, 419, 421, 422, 423, 424, 425, 426, 427, 430, 428, 429, 431, 432, 433, 434, 435, 436, 437, 438, 441, 439, 443, 440, 445, 446, 442, 448, 449, 450, 444, 447, 451, 452, 453, 454, 455, 456, 457, 458, 459, 460, 461, 462, 463, 464, 465, 468, 466, 467, 469, 470, 471, 472, 473, 474, 475, 476, 477, 480, 478, 479, 481, 482, 483, 484, 910, 911, 912, 913, 914]",
         "[480, 932]",
         "True",
         "[414, 480, 865, 932]",
         "[398, 399, 400, 401, 402, 403, 404, 405, 406, 407, 408, 409, 410, 411, 412, 413, 414, 415, 416, 417, 418, 419, 420, 421, 422, 423, 424, 425, 426, 427, 428, 429, 430, 431, 432, 433, 434, 435, 436, 437, 438, 439, 440, 441, 442, 443, 444, 445, 446, 447, 448, 449, 450, 451, 452, 453, 454, 455, 456, 457, 458, 459, 460, 461, 462, 463, 464, 465, 466, 467, 468, 469, 470, 471, 472, 473, 474, 475, 476, 477, 478, 479, 480, 481, 482, 483, 484, 848, 849, 850, 851, 852, 853, 854, 855, 856, 857, 858, 859, 860, 861, 862, 863, 864, 865, 866, 867, 868, 869, 870, 871, 872, 873, 874, 875, 876, 877, 878, 879, 880, 881, 882, 883, 884, 885, 886, 887, 888, 889, 890, 891, 892, 893, 894, 895, 896, 897, 898, 899, 900, 901, 902, 903, 904, 905, 906, 907, 908, 909, 910, 911, 912, 913, 914, 915, 916, 917, 918, 919, 920, 921, 922, 923, 924, 925, 926, 927, 928, 929, 930, 931, 932, 933, 934, 935]",
         "[43, 66, 71, 104, 411, 414, 417, 420, 430, 441, 446, 448, 449, 450, 468, 480, 523, 541, 546, 575, 860, 862, 865, 868, 869, 872, 882, 896, 897, 915, 932]",
         "[118, 335, 414, 480, 589, 791, 865, 932]",
         "[89, 108, 172, 217, 221, 239, 264, 280, 321, 342, 343, 344, 345, 346, 349, 351, 352, 355, 357, 359, 364, 368, 371, 372, 373, 374, 376, 377, 387, 392, 393, 403, 409, 411, 414, 424, 430, 449, 454, 470, 480, 560, 584, 643, 685, 703, 724, 739, 779, 798, 799, 800, 801, 804, 806, 807, 810, 812, 814, 816, 821, 822, 823, 824, 826, 827, 837, 842, 843, 852, 859, 862, 865, 869, 876, 882, 897, 901, 917, 932]",
         "[29, 296, 301, 409, 476, 512, 755, 859, 924, 925]",
         "[296, 409, 755, 859]",
         "5/6 successful match",
         "True",
         "[326, 327, 328, 329]",
         "True",
         "6",
         "[14, 15, 16]",
         "True",
         "46; 46",
         "Utah; Utah",
         "TRAVEL CENTERS OF AMERICA #060; TRAVEL CENTERS OF AMERICA #060",
         "https://www.truckstopsandservices.com/location_details.php?id=16611; http://www.rvandtravelers.com/location_details.php?id=16611",
         "Trucker; RVer",
         "catscale3; catscale3",
         "40.689663; nan",
         "-112.263838; nan",
         "https://www.ta-petro.com/location/ut/ta-tooele; http://https://www.ta-petro.com/location/ut/ta-tooele",
         "40.689663; 40.689663",
         "-112.263838; -112.263838",
         "I-80; I-80",
         "99; 99",
         "8836 N HWY 40; 8836 N HWY 40",
         "TOOELE; TOOELE",
         "UT; UT",
         "84074; 84074",
         "801-250-8585 (TRAVEL CENTER); 801-250-8585 (TRAVEL CENTER)",
         "801-252-2224; 801-252-2224",
         "801-250-8585 (TACO BELL); 801-250-8585 (TACO BELL)",
         "801-250-8585 (BURGER KING); 801-250-8585 (BURGER KING)",
         "nan; nan",
         "nan; nan",
         "nan; nan",
         "nan; nan",
         "nan; www.ta-petro.com/location/ut/ta-tooele",
         "nan; nan",
         "[]",
         null,
         null,
         null,
         null,
         null,
         null,
         null,
         null,
         null,
         null,
         null,
         null,
         null,
         null,
         null,
         null,
         null,
         null,
         null,
         null,
         null,
         null,
         null,
         null,
         null,
         null,
         null,
         "18012508585; 18012508585; 18012508585; 18012508585",
         "Taco Bell; TA Tooele; TA Travel Center; Burger King",
         "2.5; 2.5; 2.5; 1.6",
         "2.0; 4.0; 6.0; 9.0",
         "8836 Hwy 40, Travel Centers Of America, Tooele, UT 84074; 8836 N Hwy 40, Salt Lake City, UT 84074; 8836 N Hwy 40, Salt Lake City, UT 84074; 8836 N Hwy 40, Tooele, UT 84074",
         "Tooele; Salt Lake City; Salt Lake City; Tooele",
         "UT; UT; UT; UT",
         "84074.0; 84074.0; 84074.0; 84074.0",
         "(801) 250-8585; (801) 250-8585; (801) 250-8585; (801) 250-8585",
         "Tex-Mex, Fast Food, Mexican; Gas Stations, Convenience Stores; Gas Stations, Convenience Stores, Commercial Truck Repair; Burgers, Fast Food",
         "40.5307776; 40.760311126709; 40.69009774670599; 40.68992716345105",
         "-112.29828; -111.888221740723; -112.26291687445595; -112.26291955755148",
         "nan; nan; nan; $",
         "True; False; False; False",
         "https://www.yelp.com/biz/taco-bell-tooele-2?adjust_creative=xElCeMfmOucjLmXEMhJkIg&utm_campaign=yelp_api_v3&utm_medium=api_v3_phone_search&utm_source=xElCeMfmOucjLmXEMhJkIg; https://www.yelp.com/biz/ta-tooele-salt-lake-city?adjust_creative=xElCeMfmOucjLmXEMhJkIg&utm_campaign=yelp_api_v3&utm_medium=api_v3_phone_search&utm_source=xElCeMfmOucjLmXEMhJkIg; https://www.yelp.com/biz/ta-travel-center-salt-lake-city?adjust_creative=xElCeMfmOucjLmXEMhJkIg&utm_campaign=yelp_api_v3&utm_medium=api_v3_phone_search&utm_source=xElCeMfmOucjLmXEMhJkIg; https://www.yelp.com/biz/burger-king-tooele-3?adjust_creative=xElCeMfmOucjLmXEMhJkIg&utm_campaign=yelp_api_v3&utm_medium=api_v3_phone_search&utm_source=xElCeMfmOucjLmXEMhJkIg",
         "8836 Clinton Landing RdTooele, UT 84074; 8836 Clinton Landing RdTooele, UT 84074; 8836 Clinton Landing RdTooele, UT 84074",
         "Western Union Agent Location; nan; nan",
         "Western Union; Burger King; Shell",
         "https://www.yellowpages.com/tooele-ut/mip/western-union-502909171; https://www.yellowpages.com/tooele-ut/mip/burger-king-458111103; https://www.yellowpages.com/tooele-ut/mip/shell-506356806",
         "Money Transfer Service, Money Order Service; Fast Food Restaurants, Hamburgers & Hot Dogs, Restaurants; Gas Stations",
         "217 277 0466; nan; nan",
         "nan; nan; nan",
         "Tooele; Tooele; Tooele",
         "40.689903; 40.689903; 40.689884",
         "-112.26376; -112.26376; -112.26388",
         "Western Union; Burger King; Shell",
         "(801) 250-8585; (801) 250-8585; (801) 250-8585",
         "UT; UT; UT",
         "8836 Clinton Landing Rd; 8836 Clinton Landing Rd; 8836 Clinton Landing Rd",
         "84074.0; 84074.0; 84074.0",
         "801-250-8585; 801-250-8585; 801-250-8585",
         "(801) 250-8585Call; (801) 250-8585Call; (801) 250-8585Call",
         "2025-07-07T04:13:09.065Z; 2025-07-07T04:13:12.753Z; 2025-07-07T04:13:16.417Z",
         "https://www.yellowpages.com/search?search_terms=801+250+8585; https://www.yellowpages.com/search?search_terms=801+250+8585; https://www.yellowpages.com/search?search_terms=801+250+8585",
         "nan; nan; nan",
         "https://www.westernunion.com/global-services/find-locations/us/ut/tooele/0ee808d1d5412ebe48d8f8254949dc89; https://burgerking.com/store-locator/store/restaurant_6998; https://find.shell.com/us/fuel/10060302-8836-n-highway-40-i-80-exit-99/en_US",
         "20.265044218387903",
         "Webscraped vs Yelp (Phone)",
         "0.0154275217372564",
         "Webscraped vs YellowPages (Phone)",
         "0.0154275217372564",
         "Webscraped vs YellowPages (Phone)",
         "40.6897735",
         "-112.263859",
         null,
         null,
         null,
         null,
         "40.6897735",
         "-112.263859",
         null,
         null,
         null,
         null,
         null,
         null
        ],
        [
         "33",
         "D Lake Point ( 84074 ) TA Tooele # 060 ( Shell )",
         "801-250-8585 I-80 Exit 99",
         "A 24 <U+2610> XL",
         "Lake Point",
         "84074",
         "TA Tooele # 060 ( Shell )",
         "801-250-8585",
         "2014",
         "Tooele",
         "UT",
         "Shell",
         null,
         "I-80 Exit 99",
         "Exit",
         "99",
         "99",
         null,
         "False",
         null,
         "False",
         "I-80",
         null,
         null,
         null,
         null,
         "[480, 932]",
         "[414, 480, 865, 932]",
         "[43, 66, 71, 104, 411, 414, 417, 420, 430, 441, 446, 448, 449, 450, 468, 480, 523, 541, 546, 575, 860, 862, 865, 868, 869, 872, 882, 896, 897, 915, 932]",
         "[118, 335, 414, 480, 589, 791, 865, 932]",
         "[398, 399, 400, 401, 402, 403, 404, 405, 406, 407, 408, 409, 410, 411, 412, 413, 414, 415, 416, 417, 418, 419, 420, 421, 422, 423, 424, 425, 426, 427, 428, 429, 430, 431, 432, 433, 434, 435, 436, 437, 438, 439, 440, 441, 442, 443, 444, 445, 446, 447, 448, 449, 450, 451, 452, 453, 454, 455, 456, 457, 458, 459, 460, 461, 462, 463, 464, 465, 466, 467, 468, 469, 470, 471, 472, 473, 474, 475, 476, 477, 478, 479, 480, 481, 482, 483, 484, 848, 849, 850, 851, 852, 853, 854, 855, 856, 857, 858, 859, 860, 861, 862, 863, 864, 865, 866, 867, 868, 869, 870, 871, 872, 873, 874, 875, 876, 877, 878, 879, 880, 881, 882, 883, 884, 885, 886, 887, 888, 889, 890, 891, 892, 893, 894, 895, 896, 897, 898, 899, 900, 901, 902, 903, 904, 905, 906, 907, 908, 909, 910, 911, 912, 913, 914, 915, 916, 917, 918, 919, 920, 921, 922, 923, 924, 925, 926, 927, 928, 929, 930, 931, 932, 933, 934, 935]",
         "[89, 108, 172, 217, 221, 239, 264, 280, 321, 342, 343, 344, 345, 346, 349, 351, 352, 355, 357, 359, 364, 368, 371, 372, 373, 374, 376, 377, 387, 392, 393, 403, 409, 411, 414, 424, 430, 449, 454, 470, 480, 560, 584, 643, 685, 703, 724, 739, 779, 798, 799, 800, 801, 804, 806, 807, 810, 812, 814, 816, 821, 822, 823, 824, 826, 827, 837, 842, 843, 852, 859, 862, 865, 869, 876, 882, 897, 901, 917, 932]",
         "[1, 13, 14, 29, 54, 55, 56, 57, 58, 60, 102, 118, 125, 127, 130, 134, 146, 149, 153, 175, 182, 187, 189, 191, 197, 225, 230, 238, 264, 265, 266, 286, 302, 317, 336, 379, 388, 389, 425, 454, 458, 463, 475, 487, 498, 499, 512, 530, 531, 532, 533, 534, 536, 573, 589, 596, 598, 601, 605, 617, 620, 624, 646, 653, 658, 660, 662, 668, 689, 694, 702, 724, 725, 745, 760, 775, 793, 829, 838, 839, 877, 901, 903, 905, 910, 923]",
         "[1, 13, 14, 29, 54, 55, 56, 57, 58, 60, 102, 118, 125, 127, 130, 134, 146, 149, 153, 175, 182, 187, 189, 191, 197, 225, 230, 238, 264, 265, 266, 286, 301, 302, 317, 336, 354, 379, 388, 389, 425, 454, 458, 463, 475, 476, 480, 487, 498, 499, 512, 530, 531, 532, 533, 534, 536, 573, 589, 596, 598, 601, 605, 617, 620, 624, 646, 653, 658, 660, 662, 668, 689, 694, 702, 724, 725, 745, 760, 775, 793, 809, 829, 838, 839, 877, 901, 903, 905, 910, 923, 924, 925, 932]",
         "[1, 13, 14, 29, 43, 54, 55, 56, 57, 58, 60, 66, 71, 89, 102, 104, 108, 118, 125, 127, 130, 134, 146, 149, 153, 172, 175, 182, 187, 189, 191, 197, 217, 221, 225, 230, 238, 239, 264, 265, 266, 280, 286, 301, 302, 317, 321, 335, 336, 342, 343, 344, 345, 346, 349, 351, 352, 354, 355, 357, 359, 364, 368, 371, 372, 373, 374, 376, 377, 379, 387, 388, 389, 392, 393, 398, 399, 400, 401, 402, 403, 404, 405, 406, 407, 408, 409, 410, 411, 412, 413, 414, 415, 416, 417, 418, 419, 420, 421, 422, 423, 424, 425, 426, 427, 428, 429, 430, 431, 432, 433, 434, 435, 436, 437, 438, 439, 440, 441, 442, 443, 444, 445, 446, 447, 448, 449, 450, 451, 452, 453, 454, 455, 456, 457, 458, 459, 460, 461, 462, 463, 464, 465, 466, 467, 468, 469, 470, 471, 472, 473, 474, 475, 476, 477, 478, 479, 480, 481, 482, 483, 484, 487, 498, 499, 512, 523, 530, 531, 532, 533, 534, 536, 541, 546, 560, 573, 575, 584, 589, 596, 598, 601, 605, 617, 620, 624, 643, 646, 653, 658, 660, 662, 668, 685, 689, 694, 702, 703, 724, 725, 739, 745, 760, 775, 779, 791, 793, 798, 799, 800, 801, 804, 806, 807, 809, 810, 812, 814, 816, 821, 822, 823, 824, 826, 827, 829, 837, 838, 839, 842, 843, 848, 849, 850, 851, 852, 853, 854, 855, 856, 857, 858, 859, 860, 861, 862, 863, 864, 865, 866, 867, 868, 869, 870, 871, 872, 873, 874, 875, 876, 877, 878, 879, 880, 881, 882, 883, 884, 885, 886, 887, 888, 889, 890, 891, 892, 893, 894, 895, 896, 897, 898, 899, 900, 901, 902, 903, 904, 905, 906, 907, 908, 909, 910, 911, 912, 913, 914, 915, 916, 917, 918, 919, 920, 921, 922, 923, 924, 925, 926, 927, 928, 929, 930, 931, 932, 933, 934, 935]",
         "[480, 932]",
         "True",
         "[414, 480, 865, 932]",
         "[398, 399, 400, 401, 402, 403, 404, 405, 406, 407, 408, 409, 410, 411, 412, 413, 414, 415, 416, 417, 418, 419, 420, 421, 422, 423, 424, 425, 426, 427, 428, 429, 430, 431, 432, 433, 434, 435, 436, 437, 438, 439, 440, 441, 442, 443, 444, 445, 446, 447, 448, 449, 450, 451, 452, 453, 454, 455, 456, 457, 458, 459, 460, 461, 462, 463, 464, 465, 466, 467, 468, 469, 470, 471, 472, 473, 474, 475, 476, 477, 478, 479, 480, 481, 482, 483, 484, 848, 849, 850, 851, 852, 853, 854, 855, 856, 857, 858, 859, 860, 861, 862, 863, 864, 865, 866, 867, 868, 869, 870, 871, 872, 873, 874, 875, 876, 877, 878, 879, 880, 881, 882, 883, 884, 885, 886, 887, 888, 889, 890, 891, 892, 893, 894, 895, 896, 897, 898, 899, 900, 901, 902, 903, 904, 905, 906, 907, 908, 909, 910, 911, 912, 913, 914, 915, 916, 917, 918, 919, 920, 921, 922, 923, 924, 925, 926, 927, 928, 929, 930, 931, 932, 933, 934, 935]",
         "[43, 66, 71, 104, 411, 414, 417, 420, 430, 441, 446, 448, 449, 450, 468, 480, 523, 541, 546, 575, 860, 862, 865, 868, 869, 872, 882, 896, 897, 915, 932]",
         "[118, 335, 414, 480, 589, 791, 865, 932]",
         "[89, 108, 172, 217, 221, 239, 264, 280, 321, 342, 343, 344, 345, 346, 349, 351, 352, 355, 357, 359, 364, 368, 371, 372, 373, 374, 376, 377, 387, 392, 393, 403, 409, 411, 414, 424, 430, 449, 454, 470, 480, 560, 584, 643, 685, 703, 724, 739, 779, 798, 799, 800, 801, 804, 806, 807, 810, 812, 814, 816, 821, 822, 823, 824, 826, 827, 837, 842, 843, 852, 859, 862, 865, 869, 876, 882, 897, 901, 917, 932]",
         "[1, 13, 14, 29, 54, 55, 56, 57, 58, 60, 102, 118, 125, 127, 130, 134, 146, 149, 153, 175, 182, 187, 189, 191, 197, 225, 230, 238, 264, 265, 266, 286, 301, 302, 317, 336, 354, 379, 388, 389, 425, 454, 458, 463, 475, 476, 480, 487, 498, 499, 512, 530, 531, 532, 533, 534, 536, 573, 589, 596, 598, 601, 605, 617, 620, 624, 646, 653, 658, 660, 662, 668, 689, 694, 702, 724, 725, 745, 760, 775, 793, 809, 829, 838, 839, 877, 901, 903, 905, 910, 923, 924, 925, 932]",
         "[1, 13, 14, 29, 54, 55, 56, 57, 58, 60, 102, 118, 125, 127, 130, 134, 146, 149, 153, 175, 182, 187, 189, 191, 197, 225, 230, 238, 264, 265, 266, 286, 302, 317, 336, 379, 388, 389, 425, 454, 458, 463, 475, 487, 498, 499, 512, 530, 531, 532, 533, 534, 536, 573, 589, 596, 598, 601, 605, 617, 620, 624, 646, 653, 658, 660, 662, 668, 689, 694, 702, 724, 725, 745, 760, 775, 793, 829, 838, 839, 877, 901, 903, 905, 910, 923]",
         "6/6 successful match",
         "True",
         "[326, 327, 328, 329]",
         "True",
         "6",
         "[14, 15, 16]",
         "True",
         "46; 46",
         "Utah; Utah",
         "TRAVEL CENTERS OF AMERICA #060; TRAVEL CENTERS OF AMERICA #060",
         "https://www.truckstopsandservices.com/location_details.php?id=16611; http://www.rvandtravelers.com/location_details.php?id=16611",
         "Trucker; RVer",
         "catscale3; catscale3",
         "40.689663; nan",
         "-112.263838; nan",
         "https://www.ta-petro.com/location/ut/ta-tooele; http://https://www.ta-petro.com/location/ut/ta-tooele",
         "40.689663; 40.689663",
         "-112.263838; -112.263838",
         "I-80; I-80",
         "99; 99",
         "8836 N HWY 40; 8836 N HWY 40",
         "TOOELE; TOOELE",
         "UT; UT",
         "84074; 84074",
         "801-250-8585 (TRAVEL CENTER); 801-250-8585 (TRAVEL CENTER)",
         "801-252-2224; 801-252-2224",
         "801-250-8585 (TACO BELL); 801-250-8585 (TACO BELL)",
         "801-250-8585 (BURGER KING); 801-250-8585 (BURGER KING)",
         "nan; nan",
         "nan; nan",
         "nan; nan",
         "nan; nan",
         "nan; www.ta-petro.com/location/ut/ta-tooele",
         "nan; nan",
         "[932, 480]",
         "46; 46",
         "Utah; Utah",
         "TRAVEL CENTERS OF AMERICA #060; TRAVEL CENTERS OF AMERICA #060",
         "http://www.rvandtravelers.com/location_details.php?id=16611; https://www.truckstopsandservices.com/location_details.php?id=16611",
         "RVer; Trucker",
         "catscale3; catscale3",
         "nan; 40.689663",
         "nan; -112.263838",
         "http://https://www.ta-petro.com/location/ut/ta-tooele; https://www.ta-petro.com/location/ut/ta-tooele",
         "40.689663; 40.689663",
         "-112.263838; -112.263838",
         "I-80; I-80",
         "99; 99",
         "8836 N HWY 40; 8836 N HWY 40",
         "TOOELE; TOOELE",
         "UT; UT",
         "84074; 84074",
         "801-250-8585 (TRAVEL CENTER); 801-250-8585 (TRAVEL CENTER)",
         "801-252-2224; 801-252-2224",
         "801-250-8585 (TACO BELL); 801-250-8585 (TACO BELL)",
         "801-250-8585 (BURGER KING); 801-250-8585 (BURGER KING)",
         "nan; nan",
         "nan; nan",
         "nan; nan",
         "nan; nan",
         "www.ta-petro.com/location/ut/ta-tooele; nan",
         "nan; nan",
         "18012508585; 18012508585; 18012508585; 18012508585",
         "Taco Bell; TA Tooele; TA Travel Center; Burger King",
         "2.5; 2.5; 2.5; 1.6",
         "2.0; 4.0; 6.0; 9.0",
         "8836 Hwy 40, Travel Centers Of America, Tooele, UT 84074; 8836 N Hwy 40, Salt Lake City, UT 84074; 8836 N Hwy 40, Salt Lake City, UT 84074; 8836 N Hwy 40, Tooele, UT 84074",
         "Tooele; Salt Lake City; Salt Lake City; Tooele",
         "UT; UT; UT; UT",
         "84074.0; 84074.0; 84074.0; 84074.0",
         "(801) 250-8585; (801) 250-8585; (801) 250-8585; (801) 250-8585",
         "Tex-Mex, Fast Food, Mexican; Gas Stations, Convenience Stores; Gas Stations, Convenience Stores, Commercial Truck Repair; Burgers, Fast Food",
         "40.5307776; 40.760311126709; 40.69009774670599; 40.68992716345105",
         "-112.29828; -111.888221740723; -112.26291687445595; -112.26291955755148",
         "nan; nan; nan; $",
         "True; False; False; False",
         "https://www.yelp.com/biz/taco-bell-tooele-2?adjust_creative=xElCeMfmOucjLmXEMhJkIg&utm_campaign=yelp_api_v3&utm_medium=api_v3_phone_search&utm_source=xElCeMfmOucjLmXEMhJkIg; https://www.yelp.com/biz/ta-tooele-salt-lake-city?adjust_creative=xElCeMfmOucjLmXEMhJkIg&utm_campaign=yelp_api_v3&utm_medium=api_v3_phone_search&utm_source=xElCeMfmOucjLmXEMhJkIg; https://www.yelp.com/biz/ta-travel-center-salt-lake-city?adjust_creative=xElCeMfmOucjLmXEMhJkIg&utm_campaign=yelp_api_v3&utm_medium=api_v3_phone_search&utm_source=xElCeMfmOucjLmXEMhJkIg; https://www.yelp.com/biz/burger-king-tooele-3?adjust_creative=xElCeMfmOucjLmXEMhJkIg&utm_campaign=yelp_api_v3&utm_medium=api_v3_phone_search&utm_source=xElCeMfmOucjLmXEMhJkIg",
         "8836 Clinton Landing RdTooele, UT 84074; 8836 Clinton Landing RdTooele, UT 84074; 8836 Clinton Landing RdTooele, UT 84074",
         "Western Union Agent Location; nan; nan",
         "Western Union; Burger King; Shell",
         "https://www.yellowpages.com/tooele-ut/mip/western-union-502909171; https://www.yellowpages.com/tooele-ut/mip/burger-king-458111103; https://www.yellowpages.com/tooele-ut/mip/shell-506356806",
         "Money Transfer Service, Money Order Service; Fast Food Restaurants, Hamburgers & Hot Dogs, Restaurants; Gas Stations",
         "217 277 0466; nan; nan",
         "nan; nan; nan",
         "Tooele; Tooele; Tooele",
         "40.689903; 40.689903; 40.689884",
         "-112.26376; -112.26376; -112.26388",
         "Western Union; Burger King; Shell",
         "(801) 250-8585; (801) 250-8585; (801) 250-8585",
         "UT; UT; UT",
         "8836 Clinton Landing Rd; 8836 Clinton Landing Rd; 8836 Clinton Landing Rd",
         "84074.0; 84074.0; 84074.0",
         "801-250-8585; 801-250-8585; 801-250-8585",
         "(801) 250-8585Call; (801) 250-8585Call; (801) 250-8585Call",
         "2025-07-07T04:13:09.065Z; 2025-07-07T04:13:12.753Z; 2025-07-07T04:13:16.417Z",
         "https://www.yellowpages.com/search?search_terms=801+250+8585; https://www.yellowpages.com/search?search_terms=801+250+8585; https://www.yellowpages.com/search?search_terms=801+250+8585",
         "nan; nan; nan",
         "https://www.westernunion.com/global-services/find-locations/us/ut/tooele/0ee808d1d5412ebe48d8f8254949dc89; https://burgerking.com/store-locator/store/restaurant_6998; https://find.shell.com/us/fuel/10060302-8836-n-highway-40-i-80-exit-99/en_US",
         "20.265044218387903",
         "Webscraped vs Yelp (Phone)",
         "0.0154275217372564",
         "Webscraped vs YellowPages (Phone)",
         "0.0154275217372564",
         "Webscraped vs YellowPages (Phone)",
         "40.6897735",
         "-112.263859",
         null,
         null,
         null,
         null,
         "40.6897735",
         "-112.263859",
         null,
         null,
         null,
         null,
         null,
         null
        ],
        [
         "34",
         "D Lake Point ( 84074 ) TA Tooele # 060 ( Shell )",
         "801-250-8585 I-80 Exit 99",
         "ZA 24 <U+2610> XL",
         "Lake Point",
         "84074",
         "TA Tooele # 060 ( Shell )",
         "801-250-8585",
         "2015",
         "Tooele",
         "UT",
         "Shell",
         null,
         "I-80 Exit 99",
         "Exit",
         "99",
         "99",
         null,
         "False",
         null,
         "False",
         "I-80",
         null,
         null,
         null,
         null,
         "[480, 932]",
         "[414, 480, 865, 932]",
         "[43, 66, 71, 104, 411, 414, 417, 420, 430, 441, 446, 448, 449, 450, 468, 480, 523, 541, 546, 575, 860, 862, 865, 868, 869, 872, 882, 896, 897, 915, 932]",
         "[118, 335, 414, 480, 589, 791, 865, 932]",
         "[398, 399, 400, 401, 402, 403, 404, 405, 406, 407, 408, 409, 410, 411, 412, 413, 414, 415, 416, 417, 418, 419, 420, 421, 422, 423, 424, 425, 426, 427, 428, 429, 430, 431, 432, 433, 434, 435, 436, 437, 438, 439, 440, 441, 442, 443, 444, 445, 446, 447, 448, 449, 450, 451, 452, 453, 454, 455, 456, 457, 458, 459, 460, 461, 462, 463, 464, 465, 466, 467, 468, 469, 470, 471, 472, 473, 474, 475, 476, 477, 478, 479, 480, 481, 482, 483, 484, 848, 849, 850, 851, 852, 853, 854, 855, 856, 857, 858, 859, 860, 861, 862, 863, 864, 865, 866, 867, 868, 869, 870, 871, 872, 873, 874, 875, 876, 877, 878, 879, 880, 881, 882, 883, 884, 885, 886, 887, 888, 889, 890, 891, 892, 893, 894, 895, 896, 897, 898, 899, 900, 901, 902, 903, 904, 905, 906, 907, 908, 909, 910, 911, 912, 913, 914, 915, 916, 917, 918, 919, 920, 921, 922, 923, 924, 925, 926, 927, 928, 929, 930, 931, 932, 933, 934, 935]",
         "[89, 108, 172, 217, 221, 239, 264, 280, 321, 342, 343, 344, 345, 346, 349, 351, 352, 355, 357, 359, 364, 368, 371, 372, 373, 374, 376, 377, 387, 392, 393, 403, 409, 411, 414, 424, 430, 449, 454, 470, 480, 560, 584, 643, 685, 703, 724, 739, 779, 798, 799, 800, 801, 804, 806, 807, 810, 812, 814, 816, 821, 822, 823, 824, 826, 827, 837, 842, 843, 852, 859, 862, 865, 869, 876, 882, 897, 901, 917, 932]",
         "[1, 13, 14, 29, 54, 55, 56, 57, 58, 60, 102, 118, 125, 127, 130, 134, 146, 149, 153, 175, 182, 187, 189, 191, 197, 225, 230, 238, 264, 265, 266, 286, 302, 317, 336, 379, 388, 389, 425, 454, 458, 463, 475, 487, 498, 499, 512, 530, 531, 532, 533, 534, 536, 573, 589, 596, 598, 601, 605, 617, 620, 624, 646, 653, 658, 660, 662, 668, 689, 694, 702, 724, 725, 745, 760, 775, 793, 829, 838, 839, 877, 901, 903, 905, 910, 923]",
         "[1, 13, 14, 29, 54, 55, 56, 57, 58, 60, 102, 118, 125, 127, 130, 134, 146, 149, 153, 175, 182, 187, 189, 191, 197, 225, 230, 238, 264, 265, 266, 286, 301, 302, 317, 336, 354, 379, 388, 389, 425, 454, 458, 463, 475, 476, 480, 487, 498, 499, 512, 530, 531, 532, 533, 534, 536, 573, 589, 596, 598, 601, 605, 617, 620, 624, 646, 653, 658, 660, 662, 668, 689, 694, 702, 724, 725, 745, 760, 775, 793, 809, 829, 838, 839, 877, 901, 903, 905, 910, 923, 924, 925, 932]",
         "[1, 13, 14, 29, 43, 54, 55, 56, 57, 58, 60, 66, 71, 89, 102, 104, 108, 118, 125, 127, 130, 134, 146, 149, 153, 172, 175, 182, 187, 189, 191, 197, 217, 221, 225, 230, 238, 239, 264, 265, 266, 280, 286, 301, 302, 317, 321, 335, 336, 342, 343, 344, 345, 346, 349, 351, 352, 354, 355, 357, 359, 364, 368, 371, 372, 373, 374, 376, 377, 379, 387, 388, 389, 392, 393, 398, 399, 400, 401, 402, 403, 404, 405, 406, 407, 408, 409, 410, 411, 412, 413, 414, 415, 416, 417, 418, 419, 420, 421, 422, 423, 424, 425, 426, 427, 428, 429, 430, 431, 432, 433, 434, 435, 436, 437, 438, 439, 440, 441, 442, 443, 444, 445, 446, 447, 448, 449, 450, 451, 452, 453, 454, 455, 456, 457, 458, 459, 460, 461, 462, 463, 464, 465, 466, 467, 468, 469, 470, 471, 472, 473, 474, 475, 476, 477, 478, 479, 480, 481, 482, 483, 484, 487, 498, 499, 512, 523, 530, 531, 532, 533, 534, 536, 541, 546, 560, 573, 575, 584, 589, 596, 598, 601, 605, 617, 620, 624, 643, 646, 653, 658, 660, 662, 668, 685, 689, 694, 702, 703, 724, 725, 739, 745, 760, 775, 779, 791, 793, 798, 799, 800, 801, 804, 806, 807, 809, 810, 812, 814, 816, 821, 822, 823, 824, 826, 827, 829, 837, 838, 839, 842, 843, 848, 849, 850, 851, 852, 853, 854, 855, 856, 857, 858, 859, 860, 861, 862, 863, 864, 865, 866, 867, 868, 869, 870, 871, 872, 873, 874, 875, 876, 877, 878, 879, 880, 881, 882, 883, 884, 885, 886, 887, 888, 889, 890, 891, 892, 893, 894, 895, 896, 897, 898, 899, 900, 901, 902, 903, 904, 905, 906, 907, 908, 909, 910, 911, 912, 913, 914, 915, 916, 917, 918, 919, 920, 921, 922, 923, 924, 925, 926, 927, 928, 929, 930, 931, 932, 933, 934, 935]",
         "[480, 932]",
         "True",
         "[414, 480, 865, 932]",
         "[398, 399, 400, 401, 402, 403, 404, 405, 406, 407, 408, 409, 410, 411, 412, 413, 414, 415, 416, 417, 418, 419, 420, 421, 422, 423, 424, 425, 426, 427, 428, 429, 430, 431, 432, 433, 434, 435, 436, 437, 438, 439, 440, 441, 442, 443, 444, 445, 446, 447, 448, 449, 450, 451, 452, 453, 454, 455, 456, 457, 458, 459, 460, 461, 462, 463, 464, 465, 466, 467, 468, 469, 470, 471, 472, 473, 474, 475, 476, 477, 478, 479, 480, 481, 482, 483, 484, 848, 849, 850, 851, 852, 853, 854, 855, 856, 857, 858, 859, 860, 861, 862, 863, 864, 865, 866, 867, 868, 869, 870, 871, 872, 873, 874, 875, 876, 877, 878, 879, 880, 881, 882, 883, 884, 885, 886, 887, 888, 889, 890, 891, 892, 893, 894, 895, 896, 897, 898, 899, 900, 901, 902, 903, 904, 905, 906, 907, 908, 909, 910, 911, 912, 913, 914, 915, 916, 917, 918, 919, 920, 921, 922, 923, 924, 925, 926, 927, 928, 929, 930, 931, 932, 933, 934, 935]",
         "[43, 66, 71, 104, 411, 414, 417, 420, 430, 441, 446, 448, 449, 450, 468, 480, 523, 541, 546, 575, 860, 862, 865, 868, 869, 872, 882, 896, 897, 915, 932]",
         "[118, 335, 414, 480, 589, 791, 865, 932]",
         "[89, 108, 172, 217, 221, 239, 264, 280, 321, 342, 343, 344, 345, 346, 349, 351, 352, 355, 357, 359, 364, 368, 371, 372, 373, 374, 376, 377, 387, 392, 393, 403, 409, 411, 414, 424, 430, 449, 454, 470, 480, 560, 584, 643, 685, 703, 724, 739, 779, 798, 799, 800, 801, 804, 806, 807, 810, 812, 814, 816, 821, 822, 823, 824, 826, 827, 837, 842, 843, 852, 859, 862, 865, 869, 876, 882, 897, 901, 917, 932]",
         "[1, 13, 14, 29, 54, 55, 56, 57, 58, 60, 102, 118, 125, 127, 130, 134, 146, 149, 153, 175, 182, 187, 189, 191, 197, 225, 230, 238, 264, 265, 266, 286, 301, 302, 317, 336, 354, 379, 388, 389, 425, 454, 458, 463, 475, 476, 480, 487, 498, 499, 512, 530, 531, 532, 533, 534, 536, 573, 589, 596, 598, 601, 605, 617, 620, 624, 646, 653, 658, 660, 662, 668, 689, 694, 702, 724, 725, 745, 760, 775, 793, 809, 829, 838, 839, 877, 901, 903, 905, 910, 923, 924, 925, 932]",
         "[1, 13, 14, 29, 54, 55, 56, 57, 58, 60, 102, 118, 125, 127, 130, 134, 146, 149, 153, 175, 182, 187, 189, 191, 197, 225, 230, 238, 264, 265, 266, 286, 302, 317, 336, 379, 388, 389, 425, 454, 458, 463, 475, 487, 498, 499, 512, 530, 531, 532, 533, 534, 536, 573, 589, 596, 598, 601, 605, 617, 620, 624, 646, 653, 658, 660, 662, 668, 689, 694, 702, 724, 725, 745, 760, 775, 793, 829, 838, 839, 877, 901, 903, 905, 910, 923]",
         "6/6 successful match",
         "True",
         "[326, 327, 328, 329]",
         "True",
         "6",
         "[14, 15, 16]",
         "True",
         "46; 46",
         "Utah; Utah",
         "TRAVEL CENTERS OF AMERICA #060; TRAVEL CENTERS OF AMERICA #060",
         "https://www.truckstopsandservices.com/location_details.php?id=16611; http://www.rvandtravelers.com/location_details.php?id=16611",
         "Trucker; RVer",
         "catscale3; catscale3",
         "40.689663; nan",
         "-112.263838; nan",
         "https://www.ta-petro.com/location/ut/ta-tooele; http://https://www.ta-petro.com/location/ut/ta-tooele",
         "40.689663; 40.689663",
         "-112.263838; -112.263838",
         "I-80; I-80",
         "99; 99",
         "8836 N HWY 40; 8836 N HWY 40",
         "TOOELE; TOOELE",
         "UT; UT",
         "84074; 84074",
         "801-250-8585 (TRAVEL CENTER); 801-250-8585 (TRAVEL CENTER)",
         "801-252-2224; 801-252-2224",
         "801-250-8585 (TACO BELL); 801-250-8585 (TACO BELL)",
         "801-250-8585 (BURGER KING); 801-250-8585 (BURGER KING)",
         "nan; nan",
         "nan; nan",
         "nan; nan",
         "nan; nan",
         "nan; www.ta-petro.com/location/ut/ta-tooele",
         "nan; nan",
         "[932, 480]",
         "46; 46",
         "Utah; Utah",
         "TRAVEL CENTERS OF AMERICA #060; TRAVEL CENTERS OF AMERICA #060",
         "http://www.rvandtravelers.com/location_details.php?id=16611; https://www.truckstopsandservices.com/location_details.php?id=16611",
         "RVer; Trucker",
         "catscale3; catscale3",
         "nan; 40.689663",
         "nan; -112.263838",
         "http://https://www.ta-petro.com/location/ut/ta-tooele; https://www.ta-petro.com/location/ut/ta-tooele",
         "40.689663; 40.689663",
         "-112.263838; -112.263838",
         "I-80; I-80",
         "99; 99",
         "8836 N HWY 40; 8836 N HWY 40",
         "TOOELE; TOOELE",
         "UT; UT",
         "84074; 84074",
         "801-250-8585 (TRAVEL CENTER); 801-250-8585 (TRAVEL CENTER)",
         "801-252-2224; 801-252-2224",
         "801-250-8585 (TACO BELL); 801-250-8585 (TACO BELL)",
         "801-250-8585 (BURGER KING); 801-250-8585 (BURGER KING)",
         "nan; nan",
         "nan; nan",
         "nan; nan",
         "nan; nan",
         "www.ta-petro.com/location/ut/ta-tooele; nan",
         "nan; nan",
         "18012508585; 18012508585; 18012508585; 18012508585",
         "Taco Bell; TA Tooele; TA Travel Center; Burger King",
         "2.5; 2.5; 2.5; 1.6",
         "2.0; 4.0; 6.0; 9.0",
         "8836 Hwy 40, Travel Centers Of America, Tooele, UT 84074; 8836 N Hwy 40, Salt Lake City, UT 84074; 8836 N Hwy 40, Salt Lake City, UT 84074; 8836 N Hwy 40, Tooele, UT 84074",
         "Tooele; Salt Lake City; Salt Lake City; Tooele",
         "UT; UT; UT; UT",
         "84074.0; 84074.0; 84074.0; 84074.0",
         "(801) 250-8585; (801) 250-8585; (801) 250-8585; (801) 250-8585",
         "Tex-Mex, Fast Food, Mexican; Gas Stations, Convenience Stores; Gas Stations, Convenience Stores, Commercial Truck Repair; Burgers, Fast Food",
         "40.5307776; 40.760311126709; 40.69009774670599; 40.68992716345105",
         "-112.29828; -111.888221740723; -112.26291687445595; -112.26291955755148",
         "nan; nan; nan; $",
         "True; False; False; False",
         "https://www.yelp.com/biz/taco-bell-tooele-2?adjust_creative=xElCeMfmOucjLmXEMhJkIg&utm_campaign=yelp_api_v3&utm_medium=api_v3_phone_search&utm_source=xElCeMfmOucjLmXEMhJkIg; https://www.yelp.com/biz/ta-tooele-salt-lake-city?adjust_creative=xElCeMfmOucjLmXEMhJkIg&utm_campaign=yelp_api_v3&utm_medium=api_v3_phone_search&utm_source=xElCeMfmOucjLmXEMhJkIg; https://www.yelp.com/biz/ta-travel-center-salt-lake-city?adjust_creative=xElCeMfmOucjLmXEMhJkIg&utm_campaign=yelp_api_v3&utm_medium=api_v3_phone_search&utm_source=xElCeMfmOucjLmXEMhJkIg; https://www.yelp.com/biz/burger-king-tooele-3?adjust_creative=xElCeMfmOucjLmXEMhJkIg&utm_campaign=yelp_api_v3&utm_medium=api_v3_phone_search&utm_source=xElCeMfmOucjLmXEMhJkIg",
         "8836 Clinton Landing RdTooele, UT 84074; 8836 Clinton Landing RdTooele, UT 84074; 8836 Clinton Landing RdTooele, UT 84074",
         "Western Union Agent Location; nan; nan",
         "Western Union; Burger King; Shell",
         "https://www.yellowpages.com/tooele-ut/mip/western-union-502909171; https://www.yellowpages.com/tooele-ut/mip/burger-king-458111103; https://www.yellowpages.com/tooele-ut/mip/shell-506356806",
         "Money Transfer Service, Money Order Service; Fast Food Restaurants, Hamburgers & Hot Dogs, Restaurants; Gas Stations",
         "217 277 0466; nan; nan",
         "nan; nan; nan",
         "Tooele; Tooele; Tooele",
         "40.689903; 40.689903; 40.689884",
         "-112.26376; -112.26376; -112.26388",
         "Western Union; Burger King; Shell",
         "(801) 250-8585; (801) 250-8585; (801) 250-8585",
         "UT; UT; UT",
         "8836 Clinton Landing Rd; 8836 Clinton Landing Rd; 8836 Clinton Landing Rd",
         "84074.0; 84074.0; 84074.0",
         "801-250-8585; 801-250-8585; 801-250-8585",
         "(801) 250-8585Call; (801) 250-8585Call; (801) 250-8585Call",
         "2025-07-07T04:13:09.065Z; 2025-07-07T04:13:12.753Z; 2025-07-07T04:13:16.417Z",
         "https://www.yellowpages.com/search?search_terms=801+250+8585; https://www.yellowpages.com/search?search_terms=801+250+8585; https://www.yellowpages.com/search?search_terms=801+250+8585",
         "nan; nan; nan",
         "https://www.westernunion.com/global-services/find-locations/us/ut/tooele/0ee808d1d5412ebe48d8f8254949dc89; https://burgerking.com/store-locator/store/restaurant_6998; https://find.shell.com/us/fuel/10060302-8836-n-highway-40-i-80-exit-99/en_US",
         "20.265044218387903",
         "Webscraped vs Yelp (Phone)",
         "0.0154275217372564",
         "Webscraped vs YellowPages (Phone)",
         "0.0154275217372564",
         "Webscraped vs YellowPages (Phone)",
         "40.6897735",
         "-112.263859",
         null,
         null,
         null,
         null,
         "40.6897735",
         "-112.263859",
         null,
         null,
         null,
         null,
         null,
         null
        ],
        [
         "35",
         "D Lake Point ( 84074 ) TA Tooele # 060 ( Shell ) Z",
         "801-250-8585 I-80 Exit 99",
         "Z XL",
         "Lake Point",
         "84074",
         "TA Tooele # 060 ( Shell ) Z",
         "801-250-8585",
         "2016",
         "Tooele",
         "UT",
         "Shell",
         null,
         "I-80 Exit 99",
         "Exit",
         "99",
         "99",
         null,
         "False",
         null,
         "False",
         "I-80",
         null,
         null,
         null,
         null,
         "[480, 932]",
         "[414, 480, 865, 932]",
         "[43, 66, 71, 104, 411, 414, 417, 420, 430, 441, 446, 448, 449, 450, 468, 480, 523, 541, 546, 575, 860, 862, 865, 868, 869, 872, 882, 896, 897, 915, 932]",
         "[118, 335, 414, 480, 589, 791, 865, 932]",
         "[398, 399, 400, 401, 402, 403, 404, 405, 406, 407, 408, 409, 410, 411, 412, 413, 414, 415, 416, 417, 418, 419, 420, 421, 422, 423, 424, 425, 426, 427, 428, 429, 430, 431, 432, 433, 434, 435, 436, 437, 438, 439, 440, 441, 442, 443, 444, 445, 446, 447, 448, 449, 450, 451, 452, 453, 454, 455, 456, 457, 458, 459, 460, 461, 462, 463, 464, 465, 466, 467, 468, 469, 470, 471, 472, 473, 474, 475, 476, 477, 478, 479, 480, 481, 482, 483, 484, 848, 849, 850, 851, 852, 853, 854, 855, 856, 857, 858, 859, 860, 861, 862, 863, 864, 865, 866, 867, 868, 869, 870, 871, 872, 873, 874, 875, 876, 877, 878, 879, 880, 881, 882, 883, 884, 885, 886, 887, 888, 889, 890, 891, 892, 893, 894, 895, 896, 897, 898, 899, 900, 901, 902, 903, 904, 905, 906, 907, 908, 909, 910, 911, 912, 913, 914, 915, 916, 917, 918, 919, 920, 921, 922, 923, 924, 925, 926, 927, 928, 929, 930, 931, 932, 933, 934, 935]",
         "[89, 108, 172, 217, 221, 239, 264, 280, 321, 342, 343, 344, 345, 346, 349, 351, 352, 355, 357, 359, 364, 368, 371, 372, 373, 374, 376, 377, 387, 392, 393, 403, 409, 411, 414, 424, 430, 449, 454, 470, 480, 560, 584, 643, 685, 703, 724, 739, 779, 798, 799, 800, 801, 804, 806, 807, 810, 812, 814, 816, 821, 822, 823, 824, 826, 827, 837, 842, 843, 852, 859, 862, 865, 869, 876, 882, 897, 901, 917, 932]",
         "[1, 13, 14, 29, 54, 55, 56, 57, 58, 60, 102, 118, 125, 127, 130, 134, 146, 149, 153, 175, 182, 187, 189, 191, 197, 225, 230, 238, 264, 265, 266, 286, 302, 317, 336, 379, 388, 389, 425, 454, 458, 463, 475, 487, 498, 499, 512, 530, 531, 532, 533, 534, 536, 573, 589, 596, 598, 601, 605, 617, 620, 624, 646, 653, 658, 660, 662, 668, 689, 694, 702, 724, 725, 745, 760, 775, 793, 829, 838, 839, 877, 901, 903, 905, 910, 923]",
         "[1, 13, 14, 29, 54, 55, 56, 57, 58, 60, 102, 118, 125, 127, 130, 134, 146, 149, 153, 175, 182, 187, 189, 191, 197, 225, 230, 238, 264, 265, 266, 286, 301, 302, 317, 336, 354, 379, 388, 389, 425, 454, 458, 463, 475, 476, 480, 487, 498, 499, 512, 530, 531, 532, 533, 534, 536, 573, 589, 596, 598, 601, 605, 617, 620, 624, 646, 653, 658, 660, 662, 668, 689, 694, 702, 724, 725, 745, 760, 775, 793, 809, 829, 838, 839, 877, 901, 903, 905, 910, 923, 924, 925, 932]",
         "[1, 13, 14, 29, 43, 54, 55, 56, 57, 58, 60, 66, 71, 89, 102, 104, 108, 118, 125, 127, 130, 134, 146, 149, 153, 172, 175, 182, 187, 189, 191, 197, 217, 221, 225, 230, 238, 239, 264, 265, 266, 280, 286, 301, 302, 317, 321, 335, 336, 342, 343, 344, 345, 346, 349, 351, 352, 354, 355, 357, 359, 364, 368, 371, 372, 373, 374, 376, 377, 379, 387, 388, 389, 392, 393, 398, 399, 400, 401, 402, 403, 404, 405, 406, 407, 408, 409, 410, 411, 412, 413, 414, 415, 416, 417, 418, 419, 420, 421, 422, 423, 424, 425, 426, 427, 428, 429, 430, 431, 432, 433, 434, 435, 436, 437, 438, 439, 440, 441, 442, 443, 444, 445, 446, 447, 448, 449, 450, 451, 452, 453, 454, 455, 456, 457, 458, 459, 460, 461, 462, 463, 464, 465, 466, 467, 468, 469, 470, 471, 472, 473, 474, 475, 476, 477, 478, 479, 480, 481, 482, 483, 484, 487, 498, 499, 512, 523, 530, 531, 532, 533, 534, 536, 541, 546, 560, 573, 575, 584, 589, 596, 598, 601, 605, 617, 620, 624, 643, 646, 653, 658, 660, 662, 668, 685, 689, 694, 702, 703, 724, 725, 739, 745, 760, 775, 779, 791, 793, 798, 799, 800, 801, 804, 806, 807, 809, 810, 812, 814, 816, 821, 822, 823, 824, 826, 827, 829, 837, 838, 839, 842, 843, 848, 849, 850, 851, 852, 853, 854, 855, 856, 857, 858, 859, 860, 861, 862, 863, 864, 865, 866, 867, 868, 869, 870, 871, 872, 873, 874, 875, 876, 877, 878, 879, 880, 881, 882, 883, 884, 885, 886, 887, 888, 889, 890, 891, 892, 893, 894, 895, 896, 897, 898, 899, 900, 901, 902, 903, 904, 905, 906, 907, 908, 909, 910, 911, 912, 913, 914, 915, 916, 917, 918, 919, 920, 921, 922, 923, 924, 925, 926, 927, 928, 929, 930, 931, 932, 933, 934, 935]",
         "[480, 932]",
         "True",
         "[414, 480, 865, 932]",
         "[398, 399, 400, 401, 402, 403, 404, 405, 406, 407, 408, 409, 410, 411, 412, 413, 414, 415, 416, 417, 418, 419, 420, 421, 422, 423, 424, 425, 426, 427, 428, 429, 430, 431, 432, 433, 434, 435, 436, 437, 438, 439, 440, 441, 442, 443, 444, 445, 446, 447, 448, 449, 450, 451, 452, 453, 454, 455, 456, 457, 458, 459, 460, 461, 462, 463, 464, 465, 466, 467, 468, 469, 470, 471, 472, 473, 474, 475, 476, 477, 478, 479, 480, 481, 482, 483, 484, 848, 849, 850, 851, 852, 853, 854, 855, 856, 857, 858, 859, 860, 861, 862, 863, 864, 865, 866, 867, 868, 869, 870, 871, 872, 873, 874, 875, 876, 877, 878, 879, 880, 881, 882, 883, 884, 885, 886, 887, 888, 889, 890, 891, 892, 893, 894, 895, 896, 897, 898, 899, 900, 901, 902, 903, 904, 905, 906, 907, 908, 909, 910, 911, 912, 913, 914, 915, 916, 917, 918, 919, 920, 921, 922, 923, 924, 925, 926, 927, 928, 929, 930, 931, 932, 933, 934, 935]",
         "[43, 66, 71, 104, 411, 414, 417, 420, 430, 441, 446, 448, 449, 450, 468, 480, 523, 541, 546, 575, 860, 862, 865, 868, 869, 872, 882, 896, 897, 915, 932]",
         "[118, 335, 414, 480, 589, 791, 865, 932]",
         "[89, 108, 172, 217, 221, 239, 264, 280, 321, 342, 343, 344, 345, 346, 349, 351, 352, 355, 357, 359, 364, 368, 371, 372, 373, 374, 376, 377, 387, 392, 393, 403, 409, 411, 414, 424, 430, 449, 454, 470, 480, 560, 584, 643, 685, 703, 724, 739, 779, 798, 799, 800, 801, 804, 806, 807, 810, 812, 814, 816, 821, 822, 823, 824, 826, 827, 837, 842, 843, 852, 859, 862, 865, 869, 876, 882, 897, 901, 917, 932]",
         "[1, 13, 14, 29, 54, 55, 56, 57, 58, 60, 102, 118, 125, 127, 130, 134, 146, 149, 153, 175, 182, 187, 189, 191, 197, 225, 230, 238, 264, 265, 266, 286, 301, 302, 317, 336, 354, 379, 388, 389, 425, 454, 458, 463, 475, 476, 480, 487, 498, 499, 512, 530, 531, 532, 533, 534, 536, 573, 589, 596, 598, 601, 605, 617, 620, 624, 646, 653, 658, 660, 662, 668, 689, 694, 702, 724, 725, 745, 760, 775, 793, 809, 829, 838, 839, 877, 901, 903, 905, 910, 923, 924, 925, 932]",
         "[1, 13, 14, 29, 54, 55, 56, 57, 58, 60, 102, 118, 125, 127, 130, 134, 146, 149, 153, 175, 182, 187, 189, 191, 197, 225, 230, 238, 264, 265, 266, 286, 302, 317, 336, 379, 388, 389, 425, 454, 458, 463, 475, 487, 498, 499, 512, 530, 531, 532, 533, 534, 536, 573, 589, 596, 598, 601, 605, 617, 620, 624, 646, 653, 658, 660, 662, 668, 689, 694, 702, 724, 725, 745, 760, 775, 793, 829, 838, 839, 877, 901, 903, 905, 910, 923]",
         "6/6 successful match",
         "True",
         "[326, 327, 328, 329]",
         "True",
         "6",
         "[14, 15, 16]",
         "True",
         "46; 46",
         "Utah; Utah",
         "TRAVEL CENTERS OF AMERICA #060; TRAVEL CENTERS OF AMERICA #060",
         "https://www.truckstopsandservices.com/location_details.php?id=16611; http://www.rvandtravelers.com/location_details.php?id=16611",
         "Trucker; RVer",
         "catscale3; catscale3",
         "40.689663; nan",
         "-112.263838; nan",
         "https://www.ta-petro.com/location/ut/ta-tooele; http://https://www.ta-petro.com/location/ut/ta-tooele",
         "40.689663; 40.689663",
         "-112.263838; -112.263838",
         "I-80; I-80",
         "99; 99",
         "8836 N HWY 40; 8836 N HWY 40",
         "TOOELE; TOOELE",
         "UT; UT",
         "84074; 84074",
         "801-250-8585 (TRAVEL CENTER); 801-250-8585 (TRAVEL CENTER)",
         "801-252-2224; 801-252-2224",
         "801-250-8585 (TACO BELL); 801-250-8585 (TACO BELL)",
         "801-250-8585 (BURGER KING); 801-250-8585 (BURGER KING)",
         "nan; nan",
         "nan; nan",
         "nan; nan",
         "nan; nan",
         "nan; www.ta-petro.com/location/ut/ta-tooele",
         "nan; nan",
         "[932, 480]",
         "46; 46",
         "Utah; Utah",
         "TRAVEL CENTERS OF AMERICA #060; TRAVEL CENTERS OF AMERICA #060",
         "http://www.rvandtravelers.com/location_details.php?id=16611; https://www.truckstopsandservices.com/location_details.php?id=16611",
         "RVer; Trucker",
         "catscale3; catscale3",
         "nan; 40.689663",
         "nan; -112.263838",
         "http://https://www.ta-petro.com/location/ut/ta-tooele; https://www.ta-petro.com/location/ut/ta-tooele",
         "40.689663; 40.689663",
         "-112.263838; -112.263838",
         "I-80; I-80",
         "99; 99",
         "8836 N HWY 40; 8836 N HWY 40",
         "TOOELE; TOOELE",
         "UT; UT",
         "84074; 84074",
         "801-250-8585 (TRAVEL CENTER); 801-250-8585 (TRAVEL CENTER)",
         "801-252-2224; 801-252-2224",
         "801-250-8585 (TACO BELL); 801-250-8585 (TACO BELL)",
         "801-250-8585 (BURGER KING); 801-250-8585 (BURGER KING)",
         "nan; nan",
         "nan; nan",
         "nan; nan",
         "nan; nan",
         "www.ta-petro.com/location/ut/ta-tooele; nan",
         "nan; nan",
         "18012508585; 18012508585; 18012508585; 18012508585",
         "Taco Bell; TA Tooele; TA Travel Center; Burger King",
         "2.5; 2.5; 2.5; 1.6",
         "2.0; 4.0; 6.0; 9.0",
         "8836 Hwy 40, Travel Centers Of America, Tooele, UT 84074; 8836 N Hwy 40, Salt Lake City, UT 84074; 8836 N Hwy 40, Salt Lake City, UT 84074; 8836 N Hwy 40, Tooele, UT 84074",
         "Tooele; Salt Lake City; Salt Lake City; Tooele",
         "UT; UT; UT; UT",
         "84074.0; 84074.0; 84074.0; 84074.0",
         "(801) 250-8585; (801) 250-8585; (801) 250-8585; (801) 250-8585",
         "Tex-Mex, Fast Food, Mexican; Gas Stations, Convenience Stores; Gas Stations, Convenience Stores, Commercial Truck Repair; Burgers, Fast Food",
         "40.5307776; 40.760311126709; 40.69009774670599; 40.68992716345105",
         "-112.29828; -111.888221740723; -112.26291687445595; -112.26291955755148",
         "nan; nan; nan; $",
         "True; False; False; False",
         "https://www.yelp.com/biz/taco-bell-tooele-2?adjust_creative=xElCeMfmOucjLmXEMhJkIg&utm_campaign=yelp_api_v3&utm_medium=api_v3_phone_search&utm_source=xElCeMfmOucjLmXEMhJkIg; https://www.yelp.com/biz/ta-tooele-salt-lake-city?adjust_creative=xElCeMfmOucjLmXEMhJkIg&utm_campaign=yelp_api_v3&utm_medium=api_v3_phone_search&utm_source=xElCeMfmOucjLmXEMhJkIg; https://www.yelp.com/biz/ta-travel-center-salt-lake-city?adjust_creative=xElCeMfmOucjLmXEMhJkIg&utm_campaign=yelp_api_v3&utm_medium=api_v3_phone_search&utm_source=xElCeMfmOucjLmXEMhJkIg; https://www.yelp.com/biz/burger-king-tooele-3?adjust_creative=xElCeMfmOucjLmXEMhJkIg&utm_campaign=yelp_api_v3&utm_medium=api_v3_phone_search&utm_source=xElCeMfmOucjLmXEMhJkIg",
         "8836 Clinton Landing RdTooele, UT 84074; 8836 Clinton Landing RdTooele, UT 84074; 8836 Clinton Landing RdTooele, UT 84074",
         "Western Union Agent Location; nan; nan",
         "Western Union; Burger King; Shell",
         "https://www.yellowpages.com/tooele-ut/mip/western-union-502909171; https://www.yellowpages.com/tooele-ut/mip/burger-king-458111103; https://www.yellowpages.com/tooele-ut/mip/shell-506356806",
         "Money Transfer Service, Money Order Service; Fast Food Restaurants, Hamburgers & Hot Dogs, Restaurants; Gas Stations",
         "217 277 0466; nan; nan",
         "nan; nan; nan",
         "Tooele; Tooele; Tooele",
         "40.689903; 40.689903; 40.689884",
         "-112.26376; -112.26376; -112.26388",
         "Western Union; Burger King; Shell",
         "(801) 250-8585; (801) 250-8585; (801) 250-8585",
         "UT; UT; UT",
         "8836 Clinton Landing Rd; 8836 Clinton Landing Rd; 8836 Clinton Landing Rd",
         "84074.0; 84074.0; 84074.0",
         "801-250-8585; 801-250-8585; 801-250-8585",
         "(801) 250-8585Call; (801) 250-8585Call; (801) 250-8585Call",
         "2025-07-07T04:13:09.065Z; 2025-07-07T04:13:12.753Z; 2025-07-07T04:13:16.417Z",
         "https://www.yellowpages.com/search?search_terms=801+250+8585; https://www.yellowpages.com/search?search_terms=801+250+8585; https://www.yellowpages.com/search?search_terms=801+250+8585",
         "nan; nan; nan",
         "https://www.westernunion.com/global-services/find-locations/us/ut/tooele/0ee808d1d5412ebe48d8f8254949dc89; https://burgerking.com/store-locator/store/restaurant_6998; https://find.shell.com/us/fuel/10060302-8836-n-highway-40-i-80-exit-99/en_US",
         "20.265044218387903",
         "Webscraped vs Yelp (Phone)",
         "0.0154275217372564",
         "Webscraped vs YellowPages (Phone)",
         "0.0154275217372564",
         "Webscraped vs YellowPages (Phone)",
         "40.6897735",
         "-112.263859",
         null,
         null,
         null,
         null,
         "40.6897735",
         "-112.263859",
         null,
         null,
         null,
         null,
         null,
         null
        ],
        [
         "36",
         "Lake Point , 84074 Flying J Travel Plaza # 0500015",
         "801-508-7400 I-80 Exit 99",
         null,
         "Lake Point",
         "84074",
         "Flying J Travel Plaza # 0500015",
         "801-508-7400",
         "2006",
         "Tooele",
         "UT",
         "Flying J",
         null,
         "I-80 Exit 99",
         "Exit",
         "99",
         "99",
         null,
         "False",
         null,
         "False",
         "I-80",
         null,
         null,
         null,
         null,
         "[865, 414]",
         "[414, 480, 865, 932]",
         "[43, 66, 71, 104, 411, 414, 417, 420, 430, 441, 446, 448, 449, 450, 468, 480, 523, 541, 546, 575, 860, 862, 865, 868, 869, 872, 882, 896, 897, 915, 932]",
         "[118, 335, 414, 480, 589, 791, 865, 932]",
         "[398, 399, 400, 401, 402, 403, 404, 405, 406, 407, 408, 409, 410, 411, 412, 413, 414, 415, 416, 417, 418, 419, 420, 421, 422, 423, 424, 425, 426, 427, 428, 429, 430, 431, 432, 433, 434, 435, 436, 437, 438, 439, 440, 441, 442, 443, 444, 445, 446, 447, 448, 449, 450, 451, 452, 453, 454, 455, 456, 457, 458, 459, 460, 461, 462, 463, 464, 465, 466, 467, 468, 469, 470, 471, 472, 473, 474, 475, 476, 477, 478, 479, 480, 481, 482, 483, 484, 848, 849, 850, 851, 852, 853, 854, 855, 856, 857, 858, 859, 860, 861, 862, 863, 864, 865, 866, 867, 868, 869, 870, 871, 872, 873, 874, 875, 876, 877, 878, 879, 880, 881, 882, 883, 884, 885, 886, 887, 888, 889, 890, 891, 892, 893, 894, 895, 896, 897, 898, 899, 900, 901, 902, 903, 904, 905, 906, 907, 908, 909, 910, 911, 912, 913, 914, 915, 916, 917, 918, 919, 920, 921, 922, 923, 924, 925, 926, 927, 928, 929, 930, 931, 932, 933, 934, 935]",
         "[89, 108, 172, 217, 221, 239, 264, 280, 321, 342, 343, 344, 345, 346, 349, 351, 352, 355, 357, 359, 364, 368, 371, 372, 373, 374, 376, 377, 387, 392, 393, 403, 409, 411, 414, 424, 430, 449, 454, 470, 480, 560, 584, 643, 685, 703, 724, 739, 779, 798, 799, 800, 801, 804, 806, 807, 810, 812, 814, 816, 821, 822, 823, 824, 826, 827, 837, 842, 843, 852, 859, 862, 865, 869, 876, 882, 897, 901, 917, 932]",
         "[17, 18, 19, 20, 21, 22, 23, 156, 157, 158, 159, 160, 161, 162, 163, 164, 165, 166, 167, 341, 342, 343, 344, 345, 412, 413, 414, 415, 416, 417, 418, 419, 420, 421, 422, 502, 503, 504, 505, 506, 507, 628, 629, 630, 631, 632, 633, 634, 635, 636, 637, 638, 639, 792, 797, 798, 799, 800, 801, 863, 864, 865, 866, 867, 868, 869, 870, 871, 872, 873, 874]",
         "[17, 18, 19, 20, 21, 22, 23, 156, 157, 158, 159, 160, 161, 162, 163, 164, 165, 166, 167, 168, 340, 341, 342, 343, 344, 345, 346, 412, 413, 414, 415, 416, 417, 418, 419, 420, 421, 422, 502, 503, 504, 505, 506, 507, 628, 629, 630, 631, 632, 633, 634, 635, 636, 637, 638, 639, 792, 796, 797, 798, 799, 800, 801, 863, 864, 865, 866, 867, 868, 869, 870, 871, 872, 873, 874]",
         "[916, 917, 523, 918, 387, 919, 17, 18, 19, 20, 920, 21, 22, 23, 921, 541, 922, 546, 923, 924, 43, 925, 560, 926, 927, 928, 575, 66, 929, 71, 930, 584, 589, 931, 933, 89, 934, 935, 104, 108, 628, 629, 118, 630, 631, 632, 633, 634, 635, 636, 637, 638, 639, 643, 392, 372, 156, 157, 158, 159, 160, 161, 162, 393, 163, 164, 165, 166, 167, 168, 373, 172, 685, 340, 341, 342, 343, 703, 344, 374, 345, 346, 724, 217, 349, 221, 739, 351, 352, 239, 376, 355, 357, 264, 779, 377, 359, 791, 280, 792, 796, 797, 798, 799, 800, 801, 804, 806, 807, 364, 810, 812, 814, 816, 821, 822, 823, 824, 826, 827, 368, 321, 837, 842, 371, 843, 335, 848, 849, 850, 851, 852, 853, 854, 855, 856, 857, 858, 859, 860, 861, 862, 863, 864, 865, 866, 867, 868, 869, 870, 871, 872, 873, 874, 875, 876, 877, 878, 879, 880, 881, 882, 883, 884, 885, 886, 887, 888, 889, 890, 891, 892, 893, 894, 895, 896, 897, 898, 899, 900, 901, 902, 903, 904, 905, 906, 907, 908, 909, 398, 399, 400, 401, 402, 915, 403, 404, 405, 406, 407, 408, 409, 411, 410, 412, 414, 413, 415, 417, 416, 418, 932, 420, 419, 421, 422, 423, 424, 425, 426, 427, 430, 428, 429, 431, 432, 433, 434, 435, 436, 437, 438, 441, 439, 443, 440, 445, 446, 442, 448, 449, 450, 444, 447, 451, 452, 453, 454, 455, 456, 457, 458, 459, 460, 461, 462, 463, 464, 465, 468, 466, 467, 469, 470, 471, 472, 473, 474, 475, 476, 477, 480, 478, 479, 481, 482, 483, 484, 910, 911, 503, 912, 913, 502, 914, 504, 505, 506, 507]",
         "[865, 414]",
         "True",
         "[414, 480, 865, 932]",
         "[398, 399, 400, 401, 402, 403, 404, 405, 406, 407, 408, 409, 410, 411, 412, 413, 414, 415, 416, 417, 418, 419, 420, 421, 422, 423, 424, 425, 426, 427, 428, 429, 430, 431, 432, 433, 434, 435, 436, 437, 438, 439, 440, 441, 442, 443, 444, 445, 446, 447, 448, 449, 450, 451, 452, 453, 454, 455, 456, 457, 458, 459, 460, 461, 462, 463, 464, 465, 466, 467, 468, 469, 470, 471, 472, 473, 474, 475, 476, 477, 478, 479, 480, 481, 482, 483, 484, 848, 849, 850, 851, 852, 853, 854, 855, 856, 857, 858, 859, 860, 861, 862, 863, 864, 865, 866, 867, 868, 869, 870, 871, 872, 873, 874, 875, 876, 877, 878, 879, 880, 881, 882, 883, 884, 885, 886, 887, 888, 889, 890, 891, 892, 893, 894, 895, 896, 897, 898, 899, 900, 901, 902, 903, 904, 905, 906, 907, 908, 909, 910, 911, 912, 913, 914, 915, 916, 917, 918, 919, 920, 921, 922, 923, 924, 925, 926, 927, 928, 929, 930, 931, 932, 933, 934, 935]",
         "[43, 66, 71, 104, 411, 414, 417, 420, 430, 441, 446, 448, 449, 450, 468, 480, 523, 541, 546, 575, 860, 862, 865, 868, 869, 872, 882, 896, 897, 915, 932]",
         "[118, 335, 414, 480, 589, 791, 865, 932]",
         "[89, 108, 172, 217, 221, 239, 264, 280, 321, 342, 343, 344, 345, 346, 349, 351, 352, 355, 357, 359, 364, 368, 371, 372, 373, 374, 376, 377, 387, 392, 393, 403, 409, 411, 414, 424, 430, 449, 454, 470, 480, 560, 584, 643, 685, 703, 724, 739, 779, 798, 799, 800, 801, 804, 806, 807, 810, 812, 814, 816, 821, 822, 823, 824, 826, 827, 837, 842, 843, 852, 859, 862, 865, 869, 876, 882, 897, 901, 917, 932]",
         "[17, 18, 19, 20, 21, 22, 23, 156, 157, 158, 159, 160, 161, 162, 163, 164, 165, 166, 167, 168, 340, 341, 342, 343, 344, 345, 346, 412, 413, 414, 415, 416, 417, 418, 419, 420, 421, 422, 502, 503, 504, 505, 506, 507, 628, 629, 630, 631, 632, 633, 634, 635, 636, 637, 638, 639, 792, 796, 797, 798, 799, 800, 801, 863, 864, 865, 866, 867, 868, 869, 870, 871, 872, 873, 874]",
         "[17, 18, 19, 20, 21, 22, 23, 156, 157, 158, 159, 160, 161, 162, 163, 164, 165, 166, 167, 341, 342, 343, 344, 345, 412, 413, 414, 415, 416, 417, 418, 419, 420, 421, 422, 502, 503, 504, 505, 506, 507, 628, 629, 630, 631, 632, 633, 634, 635, 636, 637, 638, 639, 792, 797, 798, 799, 800, 801, 863, 864, 865, 866, 867, 868, 869, 870, 871, 872, 873, 874]",
         "7/6 successful match",
         "True",
         "[524]",
         "True",
         "7",
         "[17, 18, 19]",
         "True",
         "46; 46",
         "Utah; Utah",
         "FLYING J TRAVEL CENTER #742; FLYING J TRAVEL CENTER #742",
         "http://www.rvandtravelers.com/location_details.php?id=18308; https://www.truckstopsandservices.com/location_details.php?id=18308",
         "RVer; Trucker",
         "flying j; flying j",
         "nan; 40.685281",
         "nan; -112.266205",
         "http://https://pilotflyingj.com/stores/742; https://pilotflyingj.com/stores/742",
         "40.685281; 40.685281",
         "-112.266205; -112.266205",
         "I-80; I-80",
         "99; 99",
         "1605 E SADDLEBACK BLVD; 1605 E SADDLEBACK BLVD",
         "LAKE POINT; LAKE POINT",
         "UT; UT",
         "84074; 84074",
         "801-508-7400 (TRAVEL CENTER); 801-508-7400 (TRAVEL CENTER)",
         "801-508-7404; 801-508-7404",
         "801-508-7400 (DENNY'S); 801-508-7400 (DENNY'S)",
         "nan; nan",
         "nan; nan",
         "nan; nan",
         "nan; nan",
         "nan; nan",
         "pilotflyingj.com/stores/742; nan",
         "nan; nan",
         "[414, 865, 869]",
         "46; 46; 46",
         "Utah; Utah; Utah",
         "FLYING J TRAVEL CENTER #742; FLYING J TRAVEL CENTER #742; FLYING J TRAVEL CENTER #746",
         "https://www.truckstopsandservices.com/location_details.php?id=18308; http://www.rvandtravelers.com/location_details.php?id=18308; http://www.rvandtravelers.com/location_details.php?id=44768",
         "Trucker; RVer; RVer",
         "flying j; flying j; flying j",
         "40.685281; nan; nan",
         "-112.266205; nan; nan",
         "https://pilotflyingj.com/stores/742; http://https://pilotflyingj.com/stores/742; http://https://pilotflyingj.com/stores/746",
         "40.685281; 40.685281; 40.727223",
         "-112.266205; -112.266205; -111.916591",
         "I-80; I-80; I-80",
         "99; 99; 122",
         "1605 E SADDLEBACK BLVD; 1605 E SADDLEBACK BLVD; 2025 S 900 W",
         "LAKE POINT; LAKE POINT; SALT LAKE CITY",
         "UT; UT; UT",
         "84074; 84074; 84116",
         "801-508-7400 (TRAVEL CENTER); 801-508-7400 (TRAVEL CENTER); 801-972-3711 (TRAVEL CENTER)",
         "801-508-7404; 801-508-7404; 801-972-6174",
         "801-508-7400 (DENNY'S); 801-508-7400 (DENNY'S); 801-972-3711 (DENNY'S)",
         "nan; nan; nan",
         "nan; nan; nan",
         "nan; nan; nan",
         "nan; nan; nan",
         "nan; nan; nan",
         "nan; pilotflyingj.com/stores/742; pilotflyingj.com/stores/746",
         "nan; nan; nan",
         "18015087400",
         "Flying J Travel Plaza",
         "2.6",
         "16.0",
         "8636 Highway 36, Tooele, UT 84074",
         "Tooele",
         "UT",
         "84074.0",
         "(801) 508-7400",
         "Convenience Stores",
         "40.685496",
         "-112.267083",
         "$",
         "False",
         "https://www.yelp.com/biz/flying-j-travel-plaza-tooele?adjust_creative=xElCeMfmOucjLmXEMhJkIg&utm_campaign=yelp_api_v3&utm_medium=api_v3_phone_search&utm_source=xElCeMfmOucjLmXEMhJkIg",
         "1605 Saddleback BlvdTooele, UT 84074; 1605 Saddleback BlvdLake Point, UT 84074; 1605 Saddleback BlvdLake Point, UT 84074",
         "Western Union Agent Location; nan; nan",
         "Western Union; Flying J Travel Center; CAT Scale",
         "https://www.yellowpages.com/tooele-ut/mip/western-union-502910325; https://www.yellowpages.com/lake-point-ut/mip/flying-j-travel-center-470403412; https://www.yellowpages.com/lake-point-ut/mip/cat-scale-570303293",
         "Money Transfer Service, Money Order Service; Truck Stops, Diesel Fuel, Gas Stations; Truck Stops, Gas Stations",
         "nan; 801 508 7404; 877 228 7225",
         "nan; nan; nan",
         "Tooele; Lake Point; Lake Point",
         "40.685455; 40.685455; 40.685455",
         "-112.26736; -112.26736; -112.26736",
         "Western Union; Flying J Travel Center; CAT Scale",
         "(801) 508-7400; (801) 508-7400; (801) 508-7400",
         "UT; UT; UT",
         "1605 Saddleback Blvd; 1605 Saddleback Blvd; 1605 Saddleback Blvd",
         "84074.0; 84074.0; 84074.0",
         "801-508-7400; 801-508-7400; 801-508-7400",
         "(801) 508-7400Call; (801) 508-7400Call; (801) 508-7400Call",
         "2025-07-07T04:13:26.318Z; 2025-07-07T04:13:30.301Z; 2025-07-07T04:13:34.192Z",
         "https://www.yellowpages.com/search?search_terms=801+508+7400; https://www.yellowpages.com/search?search_terms=801+508+7400; https://www.yellowpages.com/search?search_terms=801+508+7400",
         "nan; nan; nan",
         "https://www.westernunion.com/global-services/find-locations/us/ut/lake-point/ba3c0cb66898c493e953e791d87a6cab; https://locations.pilotflyingj.com/us/ut/lake-point/1605-east-saddleback-blvd.; http://catscale.com/?utm_medium=yext&utm_source=extnet",
         "18.59770961002761",
         "Webscraped vs YellowPages (Phone)",
         "0.0483411129185785",
         "Webscraped vs Yelp (Phone)",
         "0.0147870369984478",
         "Yelp (Phone) vs YellowPages (Phone)",
         "40.6853885",
         "-112.266644",
         null,
         null,
         null,
         null,
         "40.6853885",
         "-112.266644",
         null,
         null,
         null,
         null,
         null,
         null
        ],
        [
         "37",
         "Flying J Travel Plaza # 0500015",
         "GLake 3801-508-7400 Point , 84074 I-80 Exit 99 #",
         "24",
         null,
         "84074",
         "15",
         "801-508-7400",
         "2007",
         "Tooele",
         "UT",
         null,
         null,
         "Point , 84074 I-80 Exit 99 #",
         "Exit",
         "99",
         "99",
         null,
         "False",
         null,
         "False",
         "I-80",
         null,
         null,
         null,
         null,
         "[865, 414]",
         "[414, 480, 865, 932]",
         "[480, 932]",
         "[118, 335, 414, 480, 589, 791, 865, 932]",
         "[398, 399, 400, 401, 402, 403, 404, 405, 406, 407, 408, 409, 410, 411, 412, 413, 414, 415, 416, 417, 418, 419, 420, 421, 422, 423, 424, 425, 426, 427, 428, 429, 430, 431, 432, 433, 434, 435, 436, 437, 438, 439, 440, 441, 442, 443, 444, 445, 446, 447, 448, 449, 450, 451, 452, 453, 454, 455, 456, 457, 458, 459, 460, 461, 462, 463, 464, 465, 466, 467, 468, 469, 470, 471, 472, 473, 474, 475, 476, 477, 478, 479, 480, 481, 482, 483, 484, 848, 849, 850, 851, 852, 853, 854, 855, 856, 857, 858, 859, 860, 861, 862, 863, 864, 865, 866, 867, 868, 869, 870, 871, 872, 873, 874, 875, 876, 877, 878, 879, 880, 881, 882, 883, 884, 885, 886, 887, 888, 889, 890, 891, 892, 893, 894, 895, 896, 897, 898, 899, 900, 901, 902, 903, 904, 905, 906, 907, 908, 909, 910, 911, 912, 913, 914, 915, 916, 917, 918, 919, 920, 921, 922, 923, 924, 925, 926, 927, 928, 929, 930, 931, 932, 933, 934, 935]",
         "[89, 108, 172, 217, 221, 239, 264, 280, 321, 342, 343, 344, 345, 346, 349, 351, 352, 355, 357, 359, 364, 368, 371, 372, 373, 374, 376, 377, 387, 392, 393, 403, 409, 411, 414, 424, 430, 449, 454, 470, 480, 560, 584, 643, 685, 703, 724, 739, 779, 798, 799, 800, 801, 804, 806, 807, 810, 812, 814, 816, 821, 822, 823, 824, 826, 827, 837, 842, 843, 852, 859, 862, 865, 869, 876, 882, 897, 901, 917, 932]",
         "[]",
         "[]",
         "[916, 917, 918, 387, 919, 920, 921, 922, 923, 924, 925, 560, 926, 927, 928, 929, 930, 584, 589, 931, 933, 89, 934, 935, 108, 118, 643, 392, 372, 393, 373, 172, 685, 342, 343, 703, 344, 374, 345, 346, 724, 217, 349, 221, 739, 351, 352, 239, 376, 355, 357, 264, 779, 377, 359, 791, 280, 798, 799, 800, 801, 804, 806, 807, 364, 810, 812, 814, 816, 821, 822, 823, 824, 826, 827, 368, 321, 837, 842, 371, 843, 335, 848, 849, 850, 851, 852, 853, 854, 855, 856, 857, 858, 859, 860, 861, 862, 863, 864, 865, 866, 867, 868, 869, 870, 871, 872, 873, 874, 875, 876, 877, 878, 879, 880, 881, 882, 883, 884, 885, 886, 887, 888, 889, 890, 891, 892, 893, 894, 895, 896, 897, 898, 899, 900, 901, 902, 903, 904, 905, 906, 907, 908, 909, 398, 399, 400, 401, 402, 403, 404, 405, 406, 407, 408, 409, 410, 411, 412, 413, 414, 415, 416, 417, 418, 419, 932, 420, 421, 422, 423, 424, 425, 426, 427, 428, 429, 430, 431, 432, 433, 434, 435, 436, 437, 438, 439, 440, 441, 442, 443, 444, 445, 446, 447, 448, 449, 450, 451, 452, 453, 454, 455, 456, 457, 458, 459, 460, 461, 462, 463, 464, 465, 466, 467, 468, 469, 470, 471, 472, 473, 474, 475, 476, 477, 478, 480, 479, 481, 482, 483, 484, 910, 911, 912, 913, 914, 915]",
         "[865, 414]",
         "True",
         "[414, 480, 865, 932]",
         "[398, 399, 400, 401, 402, 403, 404, 405, 406, 407, 408, 409, 410, 411, 412, 413, 414, 415, 416, 417, 418, 419, 420, 421, 422, 423, 424, 425, 426, 427, 428, 429, 430, 431, 432, 433, 434, 435, 436, 437, 438, 439, 440, 441, 442, 443, 444, 445, 446, 447, 448, 449, 450, 451, 452, 453, 454, 455, 456, 457, 458, 459, 460, 461, 462, 463, 464, 465, 466, 467, 468, 469, 470, 471, 472, 473, 474, 475, 476, 477, 478, 479, 480, 481, 482, 483, 484, 848, 849, 850, 851, 852, 853, 854, 855, 856, 857, 858, 859, 860, 861, 862, 863, 864, 865, 866, 867, 868, 869, 870, 871, 872, 873, 874, 875, 876, 877, 878, 879, 880, 881, 882, 883, 884, 885, 886, 887, 888, 889, 890, 891, 892, 893, 894, 895, 896, 897, 898, 899, 900, 901, 902, 903, 904, 905, 906, 907, 908, 909, 910, 911, 912, 913, 914, 915, 916, 917, 918, 919, 920, 921, 922, 923, 924, 925, 926, 927, 928, 929, 930, 931, 932, 933, 934, 935]",
         "[480, 932]",
         "[118, 335, 414, 480, 589, 791, 865, 932]",
         "[89, 108, 172, 217, 221, 239, 264, 280, 321, 342, 343, 344, 345, 346, 349, 351, 352, 355, 357, 359, 364, 368, 371, 372, 373, 374, 376, 377, 387, 392, 393, 403, 409, 411, 414, 424, 430, 449, 454, 470, 480, 560, 584, 643, 685, 703, 724, 739, 779, 798, 799, 800, 801, 804, 806, 807, 810, 812, 814, 816, 821, 822, 823, 824, 826, 827, 837, 842, 843, 852, 859, 862, 865, 869, 876, 882, 897, 901, 917, 932]",
         "[]",
         "[]",
         "7/6 successful match",
         "True",
         "[524]",
         "True",
         "7",
         "[17, 18, 19]",
         "True",
         "46; 46",
         "Utah; Utah",
         "FLYING J TRAVEL CENTER #742; FLYING J TRAVEL CENTER #742",
         "http://www.rvandtravelers.com/location_details.php?id=18308; https://www.truckstopsandservices.com/location_details.php?id=18308",
         "RVer; Trucker",
         "flying j; flying j",
         "nan; 40.685281",
         "nan; -112.266205",
         "http://https://pilotflyingj.com/stores/742; https://pilotflyingj.com/stores/742",
         "40.685281; 40.685281",
         "-112.266205; -112.266205",
         "I-80; I-80",
         "99; 99",
         "1605 E SADDLEBACK BLVD; 1605 E SADDLEBACK BLVD",
         "LAKE POINT; LAKE POINT",
         "UT; UT",
         "84074; 84074",
         "801-508-7400 (TRAVEL CENTER); 801-508-7400 (TRAVEL CENTER)",
         "801-508-7404; 801-508-7404",
         "801-508-7400 (DENNY'S); 801-508-7400 (DENNY'S)",
         "nan; nan",
         "nan; nan",
         "nan; nan",
         "nan; nan",
         "nan; nan",
         "pilotflyingj.com/stores/742; nan",
         "nan; nan",
         "[]",
         null,
         null,
         null,
         null,
         null,
         null,
         null,
         null,
         null,
         null,
         null,
         null,
         null,
         null,
         null,
         null,
         null,
         null,
         null,
         null,
         null,
         null,
         null,
         null,
         null,
         null,
         null,
         "18015087400",
         "Flying J Travel Plaza",
         "2.6",
         "16.0",
         "8636 Highway 36, Tooele, UT 84074",
         "Tooele",
         "UT",
         "84074.0",
         "(801) 508-7400",
         "Convenience Stores",
         "40.685496",
         "-112.267083",
         "$",
         "False",
         "https://www.yelp.com/biz/flying-j-travel-plaza-tooele?adjust_creative=xElCeMfmOucjLmXEMhJkIg&utm_campaign=yelp_api_v3&utm_medium=api_v3_phone_search&utm_source=xElCeMfmOucjLmXEMhJkIg",
         "1605 Saddleback BlvdTooele, UT 84074; 1605 Saddleback BlvdLake Point, UT 84074; 1605 Saddleback BlvdLake Point, UT 84074",
         "Western Union Agent Location; nan; nan",
         "Western Union; Flying J Travel Center; CAT Scale",
         "https://www.yellowpages.com/tooele-ut/mip/western-union-502910325; https://www.yellowpages.com/lake-point-ut/mip/flying-j-travel-center-470403412; https://www.yellowpages.com/lake-point-ut/mip/cat-scale-570303293",
         "Money Transfer Service, Money Order Service; Truck Stops, Diesel Fuel, Gas Stations; Truck Stops, Gas Stations",
         "nan; 801 508 7404; 877 228 7225",
         "nan; nan; nan",
         "Tooele; Lake Point; Lake Point",
         "40.685455; 40.685455; 40.685455",
         "-112.26736; -112.26736; -112.26736",
         "Western Union; Flying J Travel Center; CAT Scale",
         "(801) 508-7400; (801) 508-7400; (801) 508-7400",
         "UT; UT; UT",
         "1605 Saddleback Blvd; 1605 Saddleback Blvd; 1605 Saddleback Blvd",
         "84074.0; 84074.0; 84074.0",
         "801-508-7400; 801-508-7400; 801-508-7400",
         "(801) 508-7400Call; (801) 508-7400Call; (801) 508-7400Call",
         "2025-07-07T04:13:26.318Z; 2025-07-07T04:13:30.301Z; 2025-07-07T04:13:34.192Z",
         "https://www.yellowpages.com/search?search_terms=801+508+7400; https://www.yellowpages.com/search?search_terms=801+508+7400; https://www.yellowpages.com/search?search_terms=801+508+7400",
         "nan; nan; nan",
         "https://www.westernunion.com/global-services/find-locations/us/ut/lake-point/ba3c0cb66898c493e953e791d87a6cab; https://locations.pilotflyingj.com/us/ut/lake-point/1605-east-saddleback-blvd.; http://catscale.com/?utm_medium=yext&utm_source=extnet",
         "0.0616978647241256",
         "Webscraped vs YellowPages (Phone)",
         "0.0483411129185785",
         "Webscraped vs Yelp (Phone)",
         "0.0147870369984478",
         "Yelp (Phone) vs YellowPages (Phone)",
         "40.6853885",
         "-112.266644",
         null,
         null,
         null,
         null,
         "40.6853885",
         "-112.266644",
         null,
         null,
         null,
         null,
         null,
         null
        ],
        [
         "38",
         "D Lake Point , 84074 Flying J Travel",
         "3 801-508-7400 I-80 Exit 99 Plaza # 0500015 B",
         "24 HRS XL",
         "Lake Point",
         "84074",
         "Flying J Travel",
         "801-508-7400",
         "2008",
         "Tooele",
         "UT",
         "Flying J",
         null,
         "I-80 Exit 99 Plaza # 0500015 B",
         "Exit",
         "99",
         "99",
         null,
         "False",
         null,
         "False",
         "I-80",
         null,
         null,
         null,
         null,
         "[865, 414]",
         "[414, 480, 865, 932]",
         "[43, 66, 71, 104, 411, 414, 417, 420, 430, 441, 446, 448, 449, 450, 468, 480, 523, 541, 546, 575, 860, 862, 865, 868, 869, 872, 882, 896, 897, 915, 932]",
         "[118, 335, 414, 480, 589, 791, 865, 932]",
         "[398, 399, 400, 401, 402, 403, 404, 405, 406, 407, 408, 409, 410, 411, 412, 413, 414, 415, 416, 417, 418, 419, 420, 421, 422, 423, 424, 425, 426, 427, 428, 429, 430, 431, 432, 433, 434, 435, 436, 437, 438, 439, 440, 441, 442, 443, 444, 445, 446, 447, 448, 449, 450, 451, 452, 453, 454, 455, 456, 457, 458, 459, 460, 461, 462, 463, 464, 465, 466, 467, 468, 469, 470, 471, 472, 473, 474, 475, 476, 477, 478, 479, 480, 481, 482, 483, 484, 848, 849, 850, 851, 852, 853, 854, 855, 856, 857, 858, 859, 860, 861, 862, 863, 864, 865, 866, 867, 868, 869, 870, 871, 872, 873, 874, 875, 876, 877, 878, 879, 880, 881, 882, 883, 884, 885, 886, 887, 888, 889, 890, 891, 892, 893, 894, 895, 896, 897, 898, 899, 900, 901, 902, 903, 904, 905, 906, 907, 908, 909, 910, 911, 912, 913, 914, 915, 916, 917, 918, 919, 920, 921, 922, 923, 924, 925, 926, 927, 928, 929, 930, 931, 932, 933, 934, 935]",
         "[89, 108, 172, 217, 221, 239, 264, 280, 321, 342, 343, 344, 345, 346, 349, 351, 352, 355, 357, 359, 364, 368, 371, 372, 373, 374, 376, 377, 387, 392, 393, 403, 409, 411, 414, 424, 430, 449, 454, 470, 480, 560, 584, 643, 685, 703, 724, 739, 779, 798, 799, 800, 801, 804, 806, 807, 810, 812, 814, 816, 821, 822, 823, 824, 826, 827, 837, 842, 843, 852, 859, 862, 865, 869, 876, 882, 897, 901, 917, 932]",
         "[17, 18, 19, 20, 21, 22, 23, 156, 157, 158, 159, 160, 161, 162, 163, 164, 165, 166, 167, 341, 342, 343, 344, 345, 412, 413, 414, 415, 416, 417, 418, 419, 420, 421, 422, 502, 503, 504, 505, 506, 507, 628, 629, 630, 631, 632, 633, 634, 635, 636, 637, 638, 639, 792, 797, 798, 799, 800, 801, 863, 864, 865, 866, 867, 868, 869, 870, 871, 872, 873, 874]",
         "[17, 18, 19, 20, 21, 22, 23, 156, 157, 158, 159, 160, 161, 162, 163, 164, 165, 166, 167, 168, 340, 341, 342, 343, 344, 345, 346, 412, 413, 414, 415, 416, 417, 418, 419, 420, 421, 422, 502, 503, 504, 505, 506, 507, 628, 629, 630, 631, 632, 633, 634, 635, 636, 637, 638, 639, 792, 796, 797, 798, 799, 800, 801, 863, 864, 865, 866, 867, 868, 869, 870, 871, 872, 873, 874]",
         "[916, 917, 523, 918, 387, 919, 17, 18, 19, 20, 920, 21, 22, 23, 921, 541, 922, 546, 923, 924, 43, 925, 560, 926, 927, 928, 575, 66, 929, 71, 930, 584, 589, 931, 933, 89, 934, 935, 104, 108, 628, 629, 118, 630, 631, 632, 633, 634, 635, 636, 637, 638, 639, 643, 392, 372, 156, 157, 158, 159, 160, 161, 162, 393, 163, 164, 165, 166, 167, 168, 373, 172, 685, 340, 341, 342, 343, 703, 344, 374, 345, 346, 724, 217, 349, 221, 739, 351, 352, 239, 376, 355, 357, 264, 779, 377, 359, 791, 280, 792, 796, 797, 798, 799, 800, 801, 804, 806, 807, 364, 810, 812, 814, 816, 821, 822, 823, 824, 826, 827, 368, 321, 837, 842, 371, 843, 335, 848, 849, 850, 851, 852, 853, 854, 855, 856, 857, 858, 859, 860, 861, 862, 863, 864, 865, 866, 867, 868, 869, 870, 871, 872, 873, 874, 875, 876, 877, 878, 879, 880, 881, 882, 883, 884, 885, 886, 887, 888, 889, 890, 891, 892, 893, 894, 895, 896, 897, 898, 899, 900, 901, 902, 903, 904, 905, 906, 907, 908, 909, 398, 399, 400, 401, 402, 915, 403, 404, 405, 406, 407, 408, 409, 411, 410, 412, 414, 413, 415, 417, 416, 418, 932, 420, 419, 421, 422, 423, 424, 425, 426, 427, 430, 428, 429, 431, 432, 433, 434, 435, 436, 437, 438, 441, 439, 443, 440, 445, 446, 442, 448, 449, 450, 444, 447, 451, 452, 453, 454, 455, 456, 457, 458, 459, 460, 461, 462, 463, 464, 465, 468, 466, 467, 469, 470, 471, 472, 473, 474, 475, 476, 477, 480, 478, 479, 481, 482, 483, 484, 910, 911, 503, 912, 913, 502, 914, 504, 505, 506, 507]",
         "[865, 414]",
         "True",
         "[414, 480, 865, 932]",
         "[398, 399, 400, 401, 402, 403, 404, 405, 406, 407, 408, 409, 410, 411, 412, 413, 414, 415, 416, 417, 418, 419, 420, 421, 422, 423, 424, 425, 426, 427, 428, 429, 430, 431, 432, 433, 434, 435, 436, 437, 438, 439, 440, 441, 442, 443, 444, 445, 446, 447, 448, 449, 450, 451, 452, 453, 454, 455, 456, 457, 458, 459, 460, 461, 462, 463, 464, 465, 466, 467, 468, 469, 470, 471, 472, 473, 474, 475, 476, 477, 478, 479, 480, 481, 482, 483, 484, 848, 849, 850, 851, 852, 853, 854, 855, 856, 857, 858, 859, 860, 861, 862, 863, 864, 865, 866, 867, 868, 869, 870, 871, 872, 873, 874, 875, 876, 877, 878, 879, 880, 881, 882, 883, 884, 885, 886, 887, 888, 889, 890, 891, 892, 893, 894, 895, 896, 897, 898, 899, 900, 901, 902, 903, 904, 905, 906, 907, 908, 909, 910, 911, 912, 913, 914, 915, 916, 917, 918, 919, 920, 921, 922, 923, 924, 925, 926, 927, 928, 929, 930, 931, 932, 933, 934, 935]",
         "[43, 66, 71, 104, 411, 414, 417, 420, 430, 441, 446, 448, 449, 450, 468, 480, 523, 541, 546, 575, 860, 862, 865, 868, 869, 872, 882, 896, 897, 915, 932]",
         "[118, 335, 414, 480, 589, 791, 865, 932]",
         "[89, 108, 172, 217, 221, 239, 264, 280, 321, 342, 343, 344, 345, 346, 349, 351, 352, 355, 357, 359, 364, 368, 371, 372, 373, 374, 376, 377, 387, 392, 393, 403, 409, 411, 414, 424, 430, 449, 454, 470, 480, 560, 584, 643, 685, 703, 724, 739, 779, 798, 799, 800, 801, 804, 806, 807, 810, 812, 814, 816, 821, 822, 823, 824, 826, 827, 837, 842, 843, 852, 859, 862, 865, 869, 876, 882, 897, 901, 917, 932]",
         "[17, 18, 19, 20, 21, 22, 23, 156, 157, 158, 159, 160, 161, 162, 163, 164, 165, 166, 167, 168, 340, 341, 342, 343, 344, 345, 346, 412, 413, 414, 415, 416, 417, 418, 419, 420, 421, 422, 502, 503, 504, 505, 506, 507, 628, 629, 630, 631, 632, 633, 634, 635, 636, 637, 638, 639, 792, 796, 797, 798, 799, 800, 801, 863, 864, 865, 866, 867, 868, 869, 870, 871, 872, 873, 874]",
         "[17, 18, 19, 20, 21, 22, 23, 156, 157, 158, 159, 160, 161, 162, 163, 164, 165, 166, 167, 341, 342, 343, 344, 345, 412, 413, 414, 415, 416, 417, 418, 419, 420, 421, 422, 502, 503, 504, 505, 506, 507, 628, 629, 630, 631, 632, 633, 634, 635, 636, 637, 638, 639, 792, 797, 798, 799, 800, 801, 863, 864, 865, 866, 867, 868, 869, 870, 871, 872, 873, 874]",
         "7/6 successful match",
         "True",
         "[524]",
         "True",
         "7",
         "[17, 18, 19]",
         "True",
         "46; 46",
         "Utah; Utah",
         "FLYING J TRAVEL CENTER #742; FLYING J TRAVEL CENTER #742",
         "http://www.rvandtravelers.com/location_details.php?id=18308; https://www.truckstopsandservices.com/location_details.php?id=18308",
         "RVer; Trucker",
         "flying j; flying j",
         "nan; 40.685281",
         "nan; -112.266205",
         "http://https://pilotflyingj.com/stores/742; https://pilotflyingj.com/stores/742",
         "40.685281; 40.685281",
         "-112.266205; -112.266205",
         "I-80; I-80",
         "99; 99",
         "1605 E SADDLEBACK BLVD; 1605 E SADDLEBACK BLVD",
         "LAKE POINT; LAKE POINT",
         "UT; UT",
         "84074; 84074",
         "801-508-7400 (TRAVEL CENTER); 801-508-7400 (TRAVEL CENTER)",
         "801-508-7404; 801-508-7404",
         "801-508-7400 (DENNY'S); 801-508-7400 (DENNY'S)",
         "nan; nan",
         "nan; nan",
         "nan; nan",
         "nan; nan",
         "nan; nan",
         "pilotflyingj.com/stores/742; nan",
         "nan; nan",
         "[414, 865, 869]",
         "46; 46; 46",
         "Utah; Utah; Utah",
         "FLYING J TRAVEL CENTER #742; FLYING J TRAVEL CENTER #742; FLYING J TRAVEL CENTER #746",
         "https://www.truckstopsandservices.com/location_details.php?id=18308; http://www.rvandtravelers.com/location_details.php?id=18308; http://www.rvandtravelers.com/location_details.php?id=44768",
         "Trucker; RVer; RVer",
         "flying j; flying j; flying j",
         "40.685281; nan; nan",
         "-112.266205; nan; nan",
         "https://pilotflyingj.com/stores/742; http://https://pilotflyingj.com/stores/742; http://https://pilotflyingj.com/stores/746",
         "40.685281; 40.685281; 40.727223",
         "-112.266205; -112.266205; -111.916591",
         "I-80; I-80; I-80",
         "99; 99; 122",
         "1605 E SADDLEBACK BLVD; 1605 E SADDLEBACK BLVD; 2025 S 900 W",
         "LAKE POINT; LAKE POINT; SALT LAKE CITY",
         "UT; UT; UT",
         "84074; 84074; 84116",
         "801-508-7400 (TRAVEL CENTER); 801-508-7400 (TRAVEL CENTER); 801-972-3711 (TRAVEL CENTER)",
         "801-508-7404; 801-508-7404; 801-972-6174",
         "801-508-7400 (DENNY'S); 801-508-7400 (DENNY'S); 801-972-3711 (DENNY'S)",
         "nan; nan; nan",
         "nan; nan; nan",
         "nan; nan; nan",
         "nan; nan; nan",
         "nan; nan; nan",
         "nan; pilotflyingj.com/stores/742; pilotflyingj.com/stores/746",
         "nan; nan; nan",
         "18015087400",
         "Flying J Travel Plaza",
         "2.6",
         "16.0",
         "8636 Highway 36, Tooele, UT 84074",
         "Tooele",
         "UT",
         "84074.0",
         "(801) 508-7400",
         "Convenience Stores",
         "40.685496",
         "-112.267083",
         "$",
         "False",
         "https://www.yelp.com/biz/flying-j-travel-plaza-tooele?adjust_creative=xElCeMfmOucjLmXEMhJkIg&utm_campaign=yelp_api_v3&utm_medium=api_v3_phone_search&utm_source=xElCeMfmOucjLmXEMhJkIg",
         "1605 Saddleback BlvdTooele, UT 84074; 1605 Saddleback BlvdLake Point, UT 84074; 1605 Saddleback BlvdLake Point, UT 84074",
         "Western Union Agent Location; nan; nan",
         "Western Union; Flying J Travel Center; CAT Scale",
         "https://www.yellowpages.com/tooele-ut/mip/western-union-502910325; https://www.yellowpages.com/lake-point-ut/mip/flying-j-travel-center-470403412; https://www.yellowpages.com/lake-point-ut/mip/cat-scale-570303293",
         "Money Transfer Service, Money Order Service; Truck Stops, Diesel Fuel, Gas Stations; Truck Stops, Gas Stations",
         "nan; 801 508 7404; 877 228 7225",
         "nan; nan; nan",
         "Tooele; Lake Point; Lake Point",
         "40.685455; 40.685455; 40.685455",
         "-112.26736; -112.26736; -112.26736",
         "Western Union; Flying J Travel Center; CAT Scale",
         "(801) 508-7400; (801) 508-7400; (801) 508-7400",
         "UT; UT; UT",
         "1605 Saddleback Blvd; 1605 Saddleback Blvd; 1605 Saddleback Blvd",
         "84074.0; 84074.0; 84074.0",
         "801-508-7400; 801-508-7400; 801-508-7400",
         "(801) 508-7400Call; (801) 508-7400Call; (801) 508-7400Call",
         "2025-07-07T04:13:26.318Z; 2025-07-07T04:13:30.301Z; 2025-07-07T04:13:34.192Z",
         "https://www.yellowpages.com/search?search_terms=801+508+7400; https://www.yellowpages.com/search?search_terms=801+508+7400; https://www.yellowpages.com/search?search_terms=801+508+7400",
         "nan; nan; nan",
         "https://www.westernunion.com/global-services/find-locations/us/ut/lake-point/ba3c0cb66898c493e953e791d87a6cab; https://locations.pilotflyingj.com/us/ut/lake-point/1605-east-saddleback-blvd.; http://catscale.com/?utm_medium=yext&utm_source=extnet",
         "18.59770961002761",
         "Webscraped vs YellowPages (Phone)",
         "0.0483411129185785",
         "Webscraped vs Yelp (Phone)",
         "0.0147870369984478",
         "Yelp (Phone) vs YellowPages (Phone)",
         "40.6853885",
         "-112.266644",
         null,
         null,
         null,
         null,
         "40.6853885",
         "-112.266644",
         null,
         null,
         null,
         null,
         null,
         null
        ],
        [
         "39",
         "D Lake Point ( 84074 ) Flying J Travel Plaza # 742",
         "801-508-7400 I-80 Exit 99",
         "24",
         "Lake Point",
         "84074",
         "Flying J Travel Plaza # 742",
         "801-508-7400",
         "2014",
         "Tooele",
         "UT",
         "Flying J",
         null,
         "I-80 Exit 99",
         "Exit",
         "99",
         "99",
         null,
         "False",
         null,
         "False",
         "I-80",
         null,
         null,
         null,
         null,
         "[865, 414]",
         "[414, 480, 865, 932]",
         "[43, 66, 71, 104, 411, 414, 417, 420, 430, 441, 446, 448, 449, 450, 468, 480, 523, 541, 546, 575, 860, 862, 865, 868, 869, 872, 882, 896, 897, 915, 932]",
         "[118, 335, 414, 480, 589, 791, 865, 932]",
         "[398, 399, 400, 401, 402, 403, 404, 405, 406, 407, 408, 409, 410, 411, 412, 413, 414, 415, 416, 417, 418, 419, 420, 421, 422, 423, 424, 425, 426, 427, 428, 429, 430, 431, 432, 433, 434, 435, 436, 437, 438, 439, 440, 441, 442, 443, 444, 445, 446, 447, 448, 449, 450, 451, 452, 453, 454, 455, 456, 457, 458, 459, 460, 461, 462, 463, 464, 465, 466, 467, 468, 469, 470, 471, 472, 473, 474, 475, 476, 477, 478, 479, 480, 481, 482, 483, 484, 848, 849, 850, 851, 852, 853, 854, 855, 856, 857, 858, 859, 860, 861, 862, 863, 864, 865, 866, 867, 868, 869, 870, 871, 872, 873, 874, 875, 876, 877, 878, 879, 880, 881, 882, 883, 884, 885, 886, 887, 888, 889, 890, 891, 892, 893, 894, 895, 896, 897, 898, 899, 900, 901, 902, 903, 904, 905, 906, 907, 908, 909, 910, 911, 912, 913, 914, 915, 916, 917, 918, 919, 920, 921, 922, 923, 924, 925, 926, 927, 928, 929, 930, 931, 932, 933, 934, 935]",
         "[89, 108, 172, 217, 221, 239, 264, 280, 321, 342, 343, 344, 345, 346, 349, 351, 352, 355, 357, 359, 364, 368, 371, 372, 373, 374, 376, 377, 387, 392, 393, 403, 409, 411, 414, 424, 430, 449, 454, 470, 480, 560, 584, 643, 685, 703, 724, 739, 779, 798, 799, 800, 801, 804, 806, 807, 810, 812, 814, 816, 821, 822, 823, 824, 826, 827, 837, 842, 843, 852, 859, 862, 865, 869, 876, 882, 897, 901, 917, 932]",
         "[17, 18, 19, 20, 21, 22, 23, 156, 157, 158, 159, 160, 161, 162, 163, 164, 165, 166, 167, 341, 342, 343, 344, 345, 412, 413, 414, 415, 416, 417, 418, 419, 420, 421, 422, 502, 503, 504, 505, 506, 507, 628, 629, 630, 631, 632, 633, 634, 635, 636, 637, 638, 639, 792, 797, 798, 799, 800, 801, 863, 864, 865, 866, 867, 868, 869, 870, 871, 872, 873, 874]",
         "[17, 18, 19, 20, 21, 22, 23, 156, 157, 158, 159, 160, 161, 162, 163, 164, 165, 166, 167, 168, 340, 341, 342, 343, 344, 345, 346, 412, 413, 414, 415, 416, 417, 418, 419, 420, 421, 422, 502, 503, 504, 505, 506, 507, 628, 629, 630, 631, 632, 633, 634, 635, 636, 637, 638, 639, 792, 796, 797, 798, 799, 800, 801, 863, 864, 865, 866, 867, 868, 869, 870, 871, 872, 873, 874]",
         "[916, 917, 523, 918, 387, 919, 17, 18, 19, 20, 920, 21, 22, 23, 921, 541, 922, 546, 923, 924, 43, 925, 560, 926, 927, 928, 575, 66, 929, 71, 930, 584, 589, 931, 933, 89, 934, 935, 104, 108, 628, 629, 118, 630, 631, 632, 633, 634, 635, 636, 637, 638, 639, 643, 392, 372, 156, 157, 158, 159, 160, 161, 162, 393, 163, 164, 165, 166, 167, 168, 373, 172, 685, 340, 341, 342, 343, 703, 344, 374, 345, 346, 724, 217, 349, 221, 739, 351, 352, 239, 376, 355, 357, 264, 779, 377, 359, 791, 280, 792, 796, 797, 798, 799, 800, 801, 804, 806, 807, 364, 810, 812, 814, 816, 821, 822, 823, 824, 826, 827, 368, 321, 837, 842, 371, 843, 335, 848, 849, 850, 851, 852, 853, 854, 855, 856, 857, 858, 859, 860, 861, 862, 863, 864, 865, 866, 867, 868, 869, 870, 871, 872, 873, 874, 875, 876, 877, 878, 879, 880, 881, 882, 883, 884, 885, 886, 887, 888, 889, 890, 891, 892, 893, 894, 895, 896, 897, 898, 899, 900, 901, 902, 903, 904, 905, 906, 907, 908, 909, 398, 399, 400, 401, 402, 915, 403, 404, 405, 406, 407, 408, 409, 411, 410, 412, 414, 413, 415, 417, 416, 418, 932, 420, 419, 421, 422, 423, 424, 425, 426, 427, 430, 428, 429, 431, 432, 433, 434, 435, 436, 437, 438, 441, 439, 443, 440, 445, 446, 442, 448, 449, 450, 444, 447, 451, 452, 453, 454, 455, 456, 457, 458, 459, 460, 461, 462, 463, 464, 465, 468, 466, 467, 469, 470, 471, 472, 473, 474, 475, 476, 477, 480, 478, 479, 481, 482, 483, 484, 910, 911, 503, 912, 913, 502, 914, 504, 505, 506, 507]",
         "[865, 414]",
         "True",
         "[414, 480, 865, 932]",
         "[398, 399, 400, 401, 402, 403, 404, 405, 406, 407, 408, 409, 410, 411, 412, 413, 414, 415, 416, 417, 418, 419, 420, 421, 422, 423, 424, 425, 426, 427, 428, 429, 430, 431, 432, 433, 434, 435, 436, 437, 438, 439, 440, 441, 442, 443, 444, 445, 446, 447, 448, 449, 450, 451, 452, 453, 454, 455, 456, 457, 458, 459, 460, 461, 462, 463, 464, 465, 466, 467, 468, 469, 470, 471, 472, 473, 474, 475, 476, 477, 478, 479, 480, 481, 482, 483, 484, 848, 849, 850, 851, 852, 853, 854, 855, 856, 857, 858, 859, 860, 861, 862, 863, 864, 865, 866, 867, 868, 869, 870, 871, 872, 873, 874, 875, 876, 877, 878, 879, 880, 881, 882, 883, 884, 885, 886, 887, 888, 889, 890, 891, 892, 893, 894, 895, 896, 897, 898, 899, 900, 901, 902, 903, 904, 905, 906, 907, 908, 909, 910, 911, 912, 913, 914, 915, 916, 917, 918, 919, 920, 921, 922, 923, 924, 925, 926, 927, 928, 929, 930, 931, 932, 933, 934, 935]",
         "[43, 66, 71, 104, 411, 414, 417, 420, 430, 441, 446, 448, 449, 450, 468, 480, 523, 541, 546, 575, 860, 862, 865, 868, 869, 872, 882, 896, 897, 915, 932]",
         "[118, 335, 414, 480, 589, 791, 865, 932]",
         "[89, 108, 172, 217, 221, 239, 264, 280, 321, 342, 343, 344, 345, 346, 349, 351, 352, 355, 357, 359, 364, 368, 371, 372, 373, 374, 376, 377, 387, 392, 393, 403, 409, 411, 414, 424, 430, 449, 454, 470, 480, 560, 584, 643, 685, 703, 724, 739, 779, 798, 799, 800, 801, 804, 806, 807, 810, 812, 814, 816, 821, 822, 823, 824, 826, 827, 837, 842, 843, 852, 859, 862, 865, 869, 876, 882, 897, 901, 917, 932]",
         "[17, 18, 19, 20, 21, 22, 23, 156, 157, 158, 159, 160, 161, 162, 163, 164, 165, 166, 167, 168, 340, 341, 342, 343, 344, 345, 346, 412, 413, 414, 415, 416, 417, 418, 419, 420, 421, 422, 502, 503, 504, 505, 506, 507, 628, 629, 630, 631, 632, 633, 634, 635, 636, 637, 638, 639, 792, 796, 797, 798, 799, 800, 801, 863, 864, 865, 866, 867, 868, 869, 870, 871, 872, 873, 874]",
         "[17, 18, 19, 20, 21, 22, 23, 156, 157, 158, 159, 160, 161, 162, 163, 164, 165, 166, 167, 341, 342, 343, 344, 345, 412, 413, 414, 415, 416, 417, 418, 419, 420, 421, 422, 502, 503, 504, 505, 506, 507, 628, 629, 630, 631, 632, 633, 634, 635, 636, 637, 638, 639, 792, 797, 798, 799, 800, 801, 863, 864, 865, 866, 867, 868, 869, 870, 871, 872, 873, 874]",
         "7/6 successful match",
         "True",
         "[524]",
         "True",
         "7",
         "[17, 18, 19]",
         "True",
         "46; 46",
         "Utah; Utah",
         "FLYING J TRAVEL CENTER #742; FLYING J TRAVEL CENTER #742",
         "http://www.rvandtravelers.com/location_details.php?id=18308; https://www.truckstopsandservices.com/location_details.php?id=18308",
         "RVer; Trucker",
         "flying j; flying j",
         "nan; 40.685281",
         "nan; -112.266205",
         "http://https://pilotflyingj.com/stores/742; https://pilotflyingj.com/stores/742",
         "40.685281; 40.685281",
         "-112.266205; -112.266205",
         "I-80; I-80",
         "99; 99",
         "1605 E SADDLEBACK BLVD; 1605 E SADDLEBACK BLVD",
         "LAKE POINT; LAKE POINT",
         "UT; UT",
         "84074; 84074",
         "801-508-7400 (TRAVEL CENTER); 801-508-7400 (TRAVEL CENTER)",
         "801-508-7404; 801-508-7404",
         "801-508-7400 (DENNY'S); 801-508-7400 (DENNY'S)",
         "nan; nan",
         "nan; nan",
         "nan; nan",
         "nan; nan",
         "nan; nan",
         "pilotflyingj.com/stores/742; nan",
         "nan; nan",
         "[414, 865, 869]",
         "46; 46; 46",
         "Utah; Utah; Utah",
         "FLYING J TRAVEL CENTER #742; FLYING J TRAVEL CENTER #742; FLYING J TRAVEL CENTER #746",
         "https://www.truckstopsandservices.com/location_details.php?id=18308; http://www.rvandtravelers.com/location_details.php?id=18308; http://www.rvandtravelers.com/location_details.php?id=44768",
         "Trucker; RVer; RVer",
         "flying j; flying j; flying j",
         "40.685281; nan; nan",
         "-112.266205; nan; nan",
         "https://pilotflyingj.com/stores/742; http://https://pilotflyingj.com/stores/742; http://https://pilotflyingj.com/stores/746",
         "40.685281; 40.685281; 40.727223",
         "-112.266205; -112.266205; -111.916591",
         "I-80; I-80; I-80",
         "99; 99; 122",
         "1605 E SADDLEBACK BLVD; 1605 E SADDLEBACK BLVD; 2025 S 900 W",
         "LAKE POINT; LAKE POINT; SALT LAKE CITY",
         "UT; UT; UT",
         "84074; 84074; 84116",
         "801-508-7400 (TRAVEL CENTER); 801-508-7400 (TRAVEL CENTER); 801-972-3711 (TRAVEL CENTER)",
         "801-508-7404; 801-508-7404; 801-972-6174",
         "801-508-7400 (DENNY'S); 801-508-7400 (DENNY'S); 801-972-3711 (DENNY'S)",
         "nan; nan; nan",
         "nan; nan; nan",
         "nan; nan; nan",
         "nan; nan; nan",
         "nan; nan; nan",
         "nan; pilotflyingj.com/stores/742; pilotflyingj.com/stores/746",
         "nan; nan; nan",
         "18015087400",
         "Flying J Travel Plaza",
         "2.6",
         "16.0",
         "8636 Highway 36, Tooele, UT 84074",
         "Tooele",
         "UT",
         "84074.0",
         "(801) 508-7400",
         "Convenience Stores",
         "40.685496",
         "-112.267083",
         "$",
         "False",
         "https://www.yelp.com/biz/flying-j-travel-plaza-tooele?adjust_creative=xElCeMfmOucjLmXEMhJkIg&utm_campaign=yelp_api_v3&utm_medium=api_v3_phone_search&utm_source=xElCeMfmOucjLmXEMhJkIg",
         "1605 Saddleback BlvdTooele, UT 84074; 1605 Saddleback BlvdLake Point, UT 84074; 1605 Saddleback BlvdLake Point, UT 84074",
         "Western Union Agent Location; nan; nan",
         "Western Union; Flying J Travel Center; CAT Scale",
         "https://www.yellowpages.com/tooele-ut/mip/western-union-502910325; https://www.yellowpages.com/lake-point-ut/mip/flying-j-travel-center-470403412; https://www.yellowpages.com/lake-point-ut/mip/cat-scale-570303293",
         "Money Transfer Service, Money Order Service; Truck Stops, Diesel Fuel, Gas Stations; Truck Stops, Gas Stations",
         "nan; 801 508 7404; 877 228 7225",
         "nan; nan; nan",
         "Tooele; Lake Point; Lake Point",
         "40.685455; 40.685455; 40.685455",
         "-112.26736; -112.26736; -112.26736",
         "Western Union; Flying J Travel Center; CAT Scale",
         "(801) 508-7400; (801) 508-7400; (801) 508-7400",
         "UT; UT; UT",
         "1605 Saddleback Blvd; 1605 Saddleback Blvd; 1605 Saddleback Blvd",
         "84074.0; 84074.0; 84074.0",
         "801-508-7400; 801-508-7400; 801-508-7400",
         "(801) 508-7400Call; (801) 508-7400Call; (801) 508-7400Call",
         "2025-07-07T04:13:26.318Z; 2025-07-07T04:13:30.301Z; 2025-07-07T04:13:34.192Z",
         "https://www.yellowpages.com/search?search_terms=801+508+7400; https://www.yellowpages.com/search?search_terms=801+508+7400; https://www.yellowpages.com/search?search_terms=801+508+7400",
         "nan; nan; nan",
         "https://www.westernunion.com/global-services/find-locations/us/ut/lake-point/ba3c0cb66898c493e953e791d87a6cab; https://locations.pilotflyingj.com/us/ut/lake-point/1605-east-saddleback-blvd.; http://catscale.com/?utm_medium=yext&utm_source=extnet",
         "18.59770961002761",
         "Webscraped vs YellowPages (Phone)",
         "0.0483411129185785",
         "Webscraped vs Yelp (Phone)",
         "0.0147870369984478",
         "Yelp (Phone) vs YellowPages (Phone)",
         "40.6853885",
         "-112.266644",
         null,
         null,
         null,
         null,
         "40.6853885",
         "-112.266644",
         null,
         null,
         null,
         null,
         null,
         null
        ],
        [
         "40",
         "D Lake Point ( 84074 ) Flying J Travel Plaza # 742",
         "801-508-7400 I-80 Exit 99 FLYING",
         "FLYING 24 XL 24 5:04",
         "Lake Point",
         "84074",
         "Flying J Travel Plaza # 742",
         "801-508-7400",
         "2015",
         "Tooele",
         "UT",
         "Flying J",
         null,
         "I-80 Exit 99 FLYING",
         "Exit",
         "99",
         "99",
         null,
         "False",
         null,
         "False",
         "I-80",
         null,
         null,
         null,
         null,
         "[865, 414]",
         "[414, 480, 865, 932]",
         "[43, 66, 71, 104, 411, 414, 417, 420, 430, 441, 446, 448, 449, 450, 468, 480, 523, 541, 546, 575, 860, 862, 865, 868, 869, 872, 882, 896, 897, 915, 932]",
         "[118, 335, 414, 480, 589, 791, 865, 932]",
         "[398, 399, 400, 401, 402, 403, 404, 405, 406, 407, 408, 409, 410, 411, 412, 413, 414, 415, 416, 417, 418, 419, 420, 421, 422, 423, 424, 425, 426, 427, 428, 429, 430, 431, 432, 433, 434, 435, 436, 437, 438, 439, 440, 441, 442, 443, 444, 445, 446, 447, 448, 449, 450, 451, 452, 453, 454, 455, 456, 457, 458, 459, 460, 461, 462, 463, 464, 465, 466, 467, 468, 469, 470, 471, 472, 473, 474, 475, 476, 477, 478, 479, 480, 481, 482, 483, 484, 848, 849, 850, 851, 852, 853, 854, 855, 856, 857, 858, 859, 860, 861, 862, 863, 864, 865, 866, 867, 868, 869, 870, 871, 872, 873, 874, 875, 876, 877, 878, 879, 880, 881, 882, 883, 884, 885, 886, 887, 888, 889, 890, 891, 892, 893, 894, 895, 896, 897, 898, 899, 900, 901, 902, 903, 904, 905, 906, 907, 908, 909, 910, 911, 912, 913, 914, 915, 916, 917, 918, 919, 920, 921, 922, 923, 924, 925, 926, 927, 928, 929, 930, 931, 932, 933, 934, 935]",
         "[89, 108, 172, 217, 221, 239, 264, 280, 321, 342, 343, 344, 345, 346, 349, 351, 352, 355, 357, 359, 364, 368, 371, 372, 373, 374, 376, 377, 387, 392, 393, 403, 409, 411, 414, 424, 430, 449, 454, 470, 480, 560, 584, 643, 685, 703, 724, 739, 779, 798, 799, 800, 801, 804, 806, 807, 810, 812, 814, 816, 821, 822, 823, 824, 826, 827, 837, 842, 843, 852, 859, 862, 865, 869, 876, 882, 897, 901, 917, 932]",
         "[17, 18, 19, 20, 21, 22, 23, 156, 157, 158, 159, 160, 161, 162, 163, 164, 165, 166, 167, 341, 342, 343, 344, 345, 412, 413, 414, 415, 416, 417, 418, 419, 420, 421, 422, 502, 503, 504, 505, 506, 507, 628, 629, 630, 631, 632, 633, 634, 635, 636, 637, 638, 639, 792, 797, 798, 799, 800, 801, 863, 864, 865, 866, 867, 868, 869, 870, 871, 872, 873, 874]",
         "[17, 18, 19, 20, 21, 22, 23, 156, 157, 158, 159, 160, 161, 162, 163, 164, 165, 166, 167, 168, 340, 341, 342, 343, 344, 345, 346, 412, 413, 414, 415, 416, 417, 418, 419, 420, 421, 422, 502, 503, 504, 505, 506, 507, 628, 629, 630, 631, 632, 633, 634, 635, 636, 637, 638, 639, 792, 796, 797, 798, 799, 800, 801, 863, 864, 865, 866, 867, 868, 869, 870, 871, 872, 873, 874]",
         "[916, 917, 523, 918, 387, 919, 17, 18, 19, 20, 920, 21, 22, 23, 921, 541, 922, 546, 923, 924, 43, 925, 560, 926, 927, 928, 575, 66, 929, 71, 930, 584, 589, 931, 933, 89, 934, 935, 104, 108, 628, 629, 118, 630, 631, 632, 633, 634, 635, 636, 637, 638, 639, 643, 392, 372, 156, 157, 158, 159, 160, 161, 162, 393, 163, 164, 165, 166, 167, 168, 373, 172, 685, 340, 341, 342, 343, 703, 344, 374, 345, 346, 724, 217, 349, 221, 739, 351, 352, 239, 376, 355, 357, 264, 779, 377, 359, 791, 280, 792, 796, 797, 798, 799, 800, 801, 804, 806, 807, 364, 810, 812, 814, 816, 821, 822, 823, 824, 826, 827, 368, 321, 837, 842, 371, 843, 335, 848, 849, 850, 851, 852, 853, 854, 855, 856, 857, 858, 859, 860, 861, 862, 863, 864, 865, 866, 867, 868, 869, 870, 871, 872, 873, 874, 875, 876, 877, 878, 879, 880, 881, 882, 883, 884, 885, 886, 887, 888, 889, 890, 891, 892, 893, 894, 895, 896, 897, 898, 899, 900, 901, 902, 903, 904, 905, 906, 907, 908, 909, 398, 399, 400, 401, 402, 915, 403, 404, 405, 406, 407, 408, 409, 411, 410, 412, 414, 413, 415, 417, 416, 418, 932, 420, 419, 421, 422, 423, 424, 425, 426, 427, 430, 428, 429, 431, 432, 433, 434, 435, 436, 437, 438, 441, 439, 443, 440, 445, 446, 442, 448, 449, 450, 444, 447, 451, 452, 453, 454, 455, 456, 457, 458, 459, 460, 461, 462, 463, 464, 465, 468, 466, 467, 469, 470, 471, 472, 473, 474, 475, 476, 477, 480, 478, 479, 481, 482, 483, 484, 910, 911, 503, 912, 913, 502, 914, 504, 505, 506, 507]",
         "[865, 414]",
         "True",
         "[414, 480, 865, 932]",
         "[398, 399, 400, 401, 402, 403, 404, 405, 406, 407, 408, 409, 410, 411, 412, 413, 414, 415, 416, 417, 418, 419, 420, 421, 422, 423, 424, 425, 426, 427, 428, 429, 430, 431, 432, 433, 434, 435, 436, 437, 438, 439, 440, 441, 442, 443, 444, 445, 446, 447, 448, 449, 450, 451, 452, 453, 454, 455, 456, 457, 458, 459, 460, 461, 462, 463, 464, 465, 466, 467, 468, 469, 470, 471, 472, 473, 474, 475, 476, 477, 478, 479, 480, 481, 482, 483, 484, 848, 849, 850, 851, 852, 853, 854, 855, 856, 857, 858, 859, 860, 861, 862, 863, 864, 865, 866, 867, 868, 869, 870, 871, 872, 873, 874, 875, 876, 877, 878, 879, 880, 881, 882, 883, 884, 885, 886, 887, 888, 889, 890, 891, 892, 893, 894, 895, 896, 897, 898, 899, 900, 901, 902, 903, 904, 905, 906, 907, 908, 909, 910, 911, 912, 913, 914, 915, 916, 917, 918, 919, 920, 921, 922, 923, 924, 925, 926, 927, 928, 929, 930, 931, 932, 933, 934, 935]",
         "[43, 66, 71, 104, 411, 414, 417, 420, 430, 441, 446, 448, 449, 450, 468, 480, 523, 541, 546, 575, 860, 862, 865, 868, 869, 872, 882, 896, 897, 915, 932]",
         "[118, 335, 414, 480, 589, 791, 865, 932]",
         "[89, 108, 172, 217, 221, 239, 264, 280, 321, 342, 343, 344, 345, 346, 349, 351, 352, 355, 357, 359, 364, 368, 371, 372, 373, 374, 376, 377, 387, 392, 393, 403, 409, 411, 414, 424, 430, 449, 454, 470, 480, 560, 584, 643, 685, 703, 724, 739, 779, 798, 799, 800, 801, 804, 806, 807, 810, 812, 814, 816, 821, 822, 823, 824, 826, 827, 837, 842, 843, 852, 859, 862, 865, 869, 876, 882, 897, 901, 917, 932]",
         "[17, 18, 19, 20, 21, 22, 23, 156, 157, 158, 159, 160, 161, 162, 163, 164, 165, 166, 167, 168, 340, 341, 342, 343, 344, 345, 346, 412, 413, 414, 415, 416, 417, 418, 419, 420, 421, 422, 502, 503, 504, 505, 506, 507, 628, 629, 630, 631, 632, 633, 634, 635, 636, 637, 638, 639, 792, 796, 797, 798, 799, 800, 801, 863, 864, 865, 866, 867, 868, 869, 870, 871, 872, 873, 874]",
         "[17, 18, 19, 20, 21, 22, 23, 156, 157, 158, 159, 160, 161, 162, 163, 164, 165, 166, 167, 341, 342, 343, 344, 345, 412, 413, 414, 415, 416, 417, 418, 419, 420, 421, 422, 502, 503, 504, 505, 506, 507, 628, 629, 630, 631, 632, 633, 634, 635, 636, 637, 638, 639, 792, 797, 798, 799, 800, 801, 863, 864, 865, 866, 867, 868, 869, 870, 871, 872, 873, 874]",
         "7/6 successful match",
         "True",
         "[524]",
         "True",
         "7",
         "[17, 18, 19]",
         "True",
         "46; 46",
         "Utah; Utah",
         "FLYING J TRAVEL CENTER #742; FLYING J TRAVEL CENTER #742",
         "http://www.rvandtravelers.com/location_details.php?id=18308; https://www.truckstopsandservices.com/location_details.php?id=18308",
         "RVer; Trucker",
         "flying j; flying j",
         "nan; 40.685281",
         "nan; -112.266205",
         "http://https://pilotflyingj.com/stores/742; https://pilotflyingj.com/stores/742",
         "40.685281; 40.685281",
         "-112.266205; -112.266205",
         "I-80; I-80",
         "99; 99",
         "1605 E SADDLEBACK BLVD; 1605 E SADDLEBACK BLVD",
         "LAKE POINT; LAKE POINT",
         "UT; UT",
         "84074; 84074",
         "801-508-7400 (TRAVEL CENTER); 801-508-7400 (TRAVEL CENTER)",
         "801-508-7404; 801-508-7404",
         "801-508-7400 (DENNY'S); 801-508-7400 (DENNY'S)",
         "nan; nan",
         "nan; nan",
         "nan; nan",
         "nan; nan",
         "nan; nan",
         "pilotflyingj.com/stores/742; nan",
         "nan; nan",
         "[414, 865, 869]",
         "46; 46; 46",
         "Utah; Utah; Utah",
         "FLYING J TRAVEL CENTER #742; FLYING J TRAVEL CENTER #742; FLYING J TRAVEL CENTER #746",
         "https://www.truckstopsandservices.com/location_details.php?id=18308; http://www.rvandtravelers.com/location_details.php?id=18308; http://www.rvandtravelers.com/location_details.php?id=44768",
         "Trucker; RVer; RVer",
         "flying j; flying j; flying j",
         "40.685281; nan; nan",
         "-112.266205; nan; nan",
         "https://pilotflyingj.com/stores/742; http://https://pilotflyingj.com/stores/742; http://https://pilotflyingj.com/stores/746",
         "40.685281; 40.685281; 40.727223",
         "-112.266205; -112.266205; -111.916591",
         "I-80; I-80; I-80",
         "99; 99; 122",
         "1605 E SADDLEBACK BLVD; 1605 E SADDLEBACK BLVD; 2025 S 900 W",
         "LAKE POINT; LAKE POINT; SALT LAKE CITY",
         "UT; UT; UT",
         "84074; 84074; 84116",
         "801-508-7400 (TRAVEL CENTER); 801-508-7400 (TRAVEL CENTER); 801-972-3711 (TRAVEL CENTER)",
         "801-508-7404; 801-508-7404; 801-972-6174",
         "801-508-7400 (DENNY'S); 801-508-7400 (DENNY'S); 801-972-3711 (DENNY'S)",
         "nan; nan; nan",
         "nan; nan; nan",
         "nan; nan; nan",
         "nan; nan; nan",
         "nan; nan; nan",
         "nan; pilotflyingj.com/stores/742; pilotflyingj.com/stores/746",
         "nan; nan; nan",
         "18015087400",
         "Flying J Travel Plaza",
         "2.6",
         "16.0",
         "8636 Highway 36, Tooele, UT 84074",
         "Tooele",
         "UT",
         "84074.0",
         "(801) 508-7400",
         "Convenience Stores",
         "40.685496",
         "-112.267083",
         "$",
         "False",
         "https://www.yelp.com/biz/flying-j-travel-plaza-tooele?adjust_creative=xElCeMfmOucjLmXEMhJkIg&utm_campaign=yelp_api_v3&utm_medium=api_v3_phone_search&utm_source=xElCeMfmOucjLmXEMhJkIg",
         "1605 Saddleback BlvdTooele, UT 84074; 1605 Saddleback BlvdLake Point, UT 84074; 1605 Saddleback BlvdLake Point, UT 84074",
         "Western Union Agent Location; nan; nan",
         "Western Union; Flying J Travel Center; CAT Scale",
         "https://www.yellowpages.com/tooele-ut/mip/western-union-502910325; https://www.yellowpages.com/lake-point-ut/mip/flying-j-travel-center-470403412; https://www.yellowpages.com/lake-point-ut/mip/cat-scale-570303293",
         "Money Transfer Service, Money Order Service; Truck Stops, Diesel Fuel, Gas Stations; Truck Stops, Gas Stations",
         "nan; 801 508 7404; 877 228 7225",
         "nan; nan; nan",
         "Tooele; Lake Point; Lake Point",
         "40.685455; 40.685455; 40.685455",
         "-112.26736; -112.26736; -112.26736",
         "Western Union; Flying J Travel Center; CAT Scale",
         "(801) 508-7400; (801) 508-7400; (801) 508-7400",
         "UT; UT; UT",
         "1605 Saddleback Blvd; 1605 Saddleback Blvd; 1605 Saddleback Blvd",
         "84074.0; 84074.0; 84074.0",
         "801-508-7400; 801-508-7400; 801-508-7400",
         "(801) 508-7400Call; (801) 508-7400Call; (801) 508-7400Call",
         "2025-07-07T04:13:26.318Z; 2025-07-07T04:13:30.301Z; 2025-07-07T04:13:34.192Z",
         "https://www.yellowpages.com/search?search_terms=801+508+7400; https://www.yellowpages.com/search?search_terms=801+508+7400; https://www.yellowpages.com/search?search_terms=801+508+7400",
         "nan; nan; nan",
         "https://www.westernunion.com/global-services/find-locations/us/ut/lake-point/ba3c0cb66898c493e953e791d87a6cab; https://locations.pilotflyingj.com/us/ut/lake-point/1605-east-saddleback-blvd.; http://catscale.com/?utm_medium=yext&utm_source=extnet",
         "18.59770961002761",
         "Webscraped vs YellowPages (Phone)",
         "0.0483411129185785",
         "Webscraped vs Yelp (Phone)",
         "0.0147870369984478",
         "Yelp (Phone) vs YellowPages (Phone)",
         "40.6853885",
         "-112.266644",
         null,
         null,
         null,
         null,
         "40.6853885",
         "-112.266644",
         null,
         null,
         null,
         null,
         null,
         null
        ],
        [
         "41",
         "D Lake Point ( 84074 ) Flying J Travel Plaza # 742 FLYING J",
         "3 801-508-7400 I-80 Exit 99",
         "J 24 X 24",
         "Lake Point",
         "84074",
         "Flying J Travel Plaza # 742 FLYING J",
         "801-508-7400",
         "2016",
         "Tooele",
         "UT",
         "Flying J",
         null,
         "I-80 Exit 99",
         "Exit",
         "99",
         "99",
         null,
         "False",
         null,
         "False",
         "I-80",
         null,
         null,
         null,
         null,
         "[865, 414]",
         "[414, 480, 865, 932]",
         "[43, 66, 71, 104, 411, 414, 417, 420, 430, 441, 446, 448, 449, 450, 468, 480, 523, 541, 546, 575, 860, 862, 865, 868, 869, 872, 882, 896, 897, 915, 932]",
         "[118, 335, 414, 480, 589, 791, 865, 932]",
         "[398, 399, 400, 401, 402, 403, 404, 405, 406, 407, 408, 409, 410, 411, 412, 413, 414, 415, 416, 417, 418, 419, 420, 421, 422, 423, 424, 425, 426, 427, 428, 429, 430, 431, 432, 433, 434, 435, 436, 437, 438, 439, 440, 441, 442, 443, 444, 445, 446, 447, 448, 449, 450, 451, 452, 453, 454, 455, 456, 457, 458, 459, 460, 461, 462, 463, 464, 465, 466, 467, 468, 469, 470, 471, 472, 473, 474, 475, 476, 477, 478, 479, 480, 481, 482, 483, 484, 848, 849, 850, 851, 852, 853, 854, 855, 856, 857, 858, 859, 860, 861, 862, 863, 864, 865, 866, 867, 868, 869, 870, 871, 872, 873, 874, 875, 876, 877, 878, 879, 880, 881, 882, 883, 884, 885, 886, 887, 888, 889, 890, 891, 892, 893, 894, 895, 896, 897, 898, 899, 900, 901, 902, 903, 904, 905, 906, 907, 908, 909, 910, 911, 912, 913, 914, 915, 916, 917, 918, 919, 920, 921, 922, 923, 924, 925, 926, 927, 928, 929, 930, 931, 932, 933, 934, 935]",
         "[89, 108, 172, 217, 221, 239, 264, 280, 321, 342, 343, 344, 345, 346, 349, 351, 352, 355, 357, 359, 364, 368, 371, 372, 373, 374, 376, 377, 387, 392, 393, 403, 409, 411, 414, 424, 430, 449, 454, 470, 480, 560, 584, 643, 685, 703, 724, 739, 779, 798, 799, 800, 801, 804, 806, 807, 810, 812, 814, 816, 821, 822, 823, 824, 826, 827, 837, 842, 843, 852, 859, 862, 865, 869, 876, 882, 897, 901, 917, 932]",
         "[17, 18, 19, 20, 21, 22, 23, 156, 157, 158, 159, 160, 161, 162, 163, 164, 165, 166, 167, 341, 342, 343, 344, 345, 412, 413, 414, 415, 416, 417, 418, 419, 420, 421, 422, 502, 503, 504, 505, 506, 507, 628, 629, 630, 631, 632, 633, 634, 635, 636, 637, 638, 639, 792, 797, 798, 799, 800, 801, 863, 864, 865, 866, 867, 868, 869, 870, 871, 872, 873, 874]",
         "[17, 18, 19, 20, 21, 22, 23, 156, 157, 158, 159, 160, 161, 162, 163, 164, 165, 166, 167, 168, 340, 341, 342, 343, 344, 345, 346, 412, 413, 414, 415, 416, 417, 418, 419, 420, 421, 422, 502, 503, 504, 505, 506, 507, 628, 629, 630, 631, 632, 633, 634, 635, 636, 637, 638, 639, 792, 796, 797, 798, 799, 800, 801, 863, 864, 865, 866, 867, 868, 869, 870, 871, 872, 873, 874]",
         "[916, 917, 523, 918, 387, 919, 17, 18, 19, 20, 920, 21, 22, 23, 921, 541, 922, 546, 923, 924, 43, 925, 560, 926, 927, 928, 575, 66, 929, 71, 930, 584, 589, 931, 933, 89, 934, 935, 104, 108, 628, 629, 118, 630, 631, 632, 633, 634, 635, 636, 637, 638, 639, 643, 392, 372, 156, 157, 158, 159, 160, 161, 162, 393, 163, 164, 165, 166, 167, 168, 373, 172, 685, 340, 341, 342, 343, 703, 344, 374, 345, 346, 724, 217, 349, 221, 739, 351, 352, 239, 376, 355, 357, 264, 779, 377, 359, 791, 280, 792, 796, 797, 798, 799, 800, 801, 804, 806, 807, 364, 810, 812, 814, 816, 821, 822, 823, 824, 826, 827, 368, 321, 837, 842, 371, 843, 335, 848, 849, 850, 851, 852, 853, 854, 855, 856, 857, 858, 859, 860, 861, 862, 863, 864, 865, 866, 867, 868, 869, 870, 871, 872, 873, 874, 875, 876, 877, 878, 879, 880, 881, 882, 883, 884, 885, 886, 887, 888, 889, 890, 891, 892, 893, 894, 895, 896, 897, 898, 899, 900, 901, 902, 903, 904, 905, 906, 907, 908, 909, 398, 399, 400, 401, 402, 915, 403, 404, 405, 406, 407, 408, 409, 411, 410, 412, 414, 413, 415, 417, 416, 418, 932, 420, 419, 421, 422, 423, 424, 425, 426, 427, 430, 428, 429, 431, 432, 433, 434, 435, 436, 437, 438, 441, 439, 443, 440, 445, 446, 442, 448, 449, 450, 444, 447, 451, 452, 453, 454, 455, 456, 457, 458, 459, 460, 461, 462, 463, 464, 465, 468, 466, 467, 469, 470, 471, 472, 473, 474, 475, 476, 477, 480, 478, 479, 481, 482, 483, 484, 910, 911, 503, 912, 913, 502, 914, 504, 505, 506, 507]",
         "[865, 414]",
         "True",
         "[414, 480, 865, 932]",
         "[398, 399, 400, 401, 402, 403, 404, 405, 406, 407, 408, 409, 410, 411, 412, 413, 414, 415, 416, 417, 418, 419, 420, 421, 422, 423, 424, 425, 426, 427, 428, 429, 430, 431, 432, 433, 434, 435, 436, 437, 438, 439, 440, 441, 442, 443, 444, 445, 446, 447, 448, 449, 450, 451, 452, 453, 454, 455, 456, 457, 458, 459, 460, 461, 462, 463, 464, 465, 466, 467, 468, 469, 470, 471, 472, 473, 474, 475, 476, 477, 478, 479, 480, 481, 482, 483, 484, 848, 849, 850, 851, 852, 853, 854, 855, 856, 857, 858, 859, 860, 861, 862, 863, 864, 865, 866, 867, 868, 869, 870, 871, 872, 873, 874, 875, 876, 877, 878, 879, 880, 881, 882, 883, 884, 885, 886, 887, 888, 889, 890, 891, 892, 893, 894, 895, 896, 897, 898, 899, 900, 901, 902, 903, 904, 905, 906, 907, 908, 909, 910, 911, 912, 913, 914, 915, 916, 917, 918, 919, 920, 921, 922, 923, 924, 925, 926, 927, 928, 929, 930, 931, 932, 933, 934, 935]",
         "[43, 66, 71, 104, 411, 414, 417, 420, 430, 441, 446, 448, 449, 450, 468, 480, 523, 541, 546, 575, 860, 862, 865, 868, 869, 872, 882, 896, 897, 915, 932]",
         "[118, 335, 414, 480, 589, 791, 865, 932]",
         "[89, 108, 172, 217, 221, 239, 264, 280, 321, 342, 343, 344, 345, 346, 349, 351, 352, 355, 357, 359, 364, 368, 371, 372, 373, 374, 376, 377, 387, 392, 393, 403, 409, 411, 414, 424, 430, 449, 454, 470, 480, 560, 584, 643, 685, 703, 724, 739, 779, 798, 799, 800, 801, 804, 806, 807, 810, 812, 814, 816, 821, 822, 823, 824, 826, 827, 837, 842, 843, 852, 859, 862, 865, 869, 876, 882, 897, 901, 917, 932]",
         "[17, 18, 19, 20, 21, 22, 23, 156, 157, 158, 159, 160, 161, 162, 163, 164, 165, 166, 167, 168, 340, 341, 342, 343, 344, 345, 346, 412, 413, 414, 415, 416, 417, 418, 419, 420, 421, 422, 502, 503, 504, 505, 506, 507, 628, 629, 630, 631, 632, 633, 634, 635, 636, 637, 638, 639, 792, 796, 797, 798, 799, 800, 801, 863, 864, 865, 866, 867, 868, 869, 870, 871, 872, 873, 874]",
         "[17, 18, 19, 20, 21, 22, 23, 156, 157, 158, 159, 160, 161, 162, 163, 164, 165, 166, 167, 341, 342, 343, 344, 345, 412, 413, 414, 415, 416, 417, 418, 419, 420, 421, 422, 502, 503, 504, 505, 506, 507, 628, 629, 630, 631, 632, 633, 634, 635, 636, 637, 638, 639, 792, 797, 798, 799, 800, 801, 863, 864, 865, 866, 867, 868, 869, 870, 871, 872, 873, 874]",
         "7/6 successful match",
         "True",
         "[524]",
         "True",
         "7",
         "[17, 18, 19]",
         "True",
         "46; 46",
         "Utah; Utah",
         "FLYING J TRAVEL CENTER #742; FLYING J TRAVEL CENTER #742",
         "http://www.rvandtravelers.com/location_details.php?id=18308; https://www.truckstopsandservices.com/location_details.php?id=18308",
         "RVer; Trucker",
         "flying j; flying j",
         "nan; 40.685281",
         "nan; -112.266205",
         "http://https://pilotflyingj.com/stores/742; https://pilotflyingj.com/stores/742",
         "40.685281; 40.685281",
         "-112.266205; -112.266205",
         "I-80; I-80",
         "99; 99",
         "1605 E SADDLEBACK BLVD; 1605 E SADDLEBACK BLVD",
         "LAKE POINT; LAKE POINT",
         "UT; UT",
         "84074; 84074",
         "801-508-7400 (TRAVEL CENTER); 801-508-7400 (TRAVEL CENTER)",
         "801-508-7404; 801-508-7404",
         "801-508-7400 (DENNY'S); 801-508-7400 (DENNY'S)",
         "nan; nan",
         "nan; nan",
         "nan; nan",
         "nan; nan",
         "nan; nan",
         "pilotflyingj.com/stores/742; nan",
         "nan; nan",
         "[414, 865, 869]",
         "46; 46; 46",
         "Utah; Utah; Utah",
         "FLYING J TRAVEL CENTER #742; FLYING J TRAVEL CENTER #742; FLYING J TRAVEL CENTER #746",
         "https://www.truckstopsandservices.com/location_details.php?id=18308; http://www.rvandtravelers.com/location_details.php?id=18308; http://www.rvandtravelers.com/location_details.php?id=44768",
         "Trucker; RVer; RVer",
         "flying j; flying j; flying j",
         "40.685281; nan; nan",
         "-112.266205; nan; nan",
         "https://pilotflyingj.com/stores/742; http://https://pilotflyingj.com/stores/742; http://https://pilotflyingj.com/stores/746",
         "40.685281; 40.685281; 40.727223",
         "-112.266205; -112.266205; -111.916591",
         "I-80; I-80; I-80",
         "99; 99; 122",
         "1605 E SADDLEBACK BLVD; 1605 E SADDLEBACK BLVD; 2025 S 900 W",
         "LAKE POINT; LAKE POINT; SALT LAKE CITY",
         "UT; UT; UT",
         "84074; 84074; 84116",
         "801-508-7400 (TRAVEL CENTER); 801-508-7400 (TRAVEL CENTER); 801-972-3711 (TRAVEL CENTER)",
         "801-508-7404; 801-508-7404; 801-972-6174",
         "801-508-7400 (DENNY'S); 801-508-7400 (DENNY'S); 801-972-3711 (DENNY'S)",
         "nan; nan; nan",
         "nan; nan; nan",
         "nan; nan; nan",
         "nan; nan; nan",
         "nan; nan; nan",
         "nan; pilotflyingj.com/stores/742; pilotflyingj.com/stores/746",
         "nan; nan; nan",
         "18015087400",
         "Flying J Travel Plaza",
         "2.6",
         "16.0",
         "8636 Highway 36, Tooele, UT 84074",
         "Tooele",
         "UT",
         "84074.0",
         "(801) 508-7400",
         "Convenience Stores",
         "40.685496",
         "-112.267083",
         "$",
         "False",
         "https://www.yelp.com/biz/flying-j-travel-plaza-tooele?adjust_creative=xElCeMfmOucjLmXEMhJkIg&utm_campaign=yelp_api_v3&utm_medium=api_v3_phone_search&utm_source=xElCeMfmOucjLmXEMhJkIg",
         "1605 Saddleback BlvdTooele, UT 84074; 1605 Saddleback BlvdLake Point, UT 84074; 1605 Saddleback BlvdLake Point, UT 84074",
         "Western Union Agent Location; nan; nan",
         "Western Union; Flying J Travel Center; CAT Scale",
         "https://www.yellowpages.com/tooele-ut/mip/western-union-502910325; https://www.yellowpages.com/lake-point-ut/mip/flying-j-travel-center-470403412; https://www.yellowpages.com/lake-point-ut/mip/cat-scale-570303293",
         "Money Transfer Service, Money Order Service; Truck Stops, Diesel Fuel, Gas Stations; Truck Stops, Gas Stations",
         "nan; 801 508 7404; 877 228 7225",
         "nan; nan; nan",
         "Tooele; Lake Point; Lake Point",
         "40.685455; 40.685455; 40.685455",
         "-112.26736; -112.26736; -112.26736",
         "Western Union; Flying J Travel Center; CAT Scale",
         "(801) 508-7400; (801) 508-7400; (801) 508-7400",
         "UT; UT; UT",
         "1605 Saddleback Blvd; 1605 Saddleback Blvd; 1605 Saddleback Blvd",
         "84074.0; 84074.0; 84074.0",
         "801-508-7400; 801-508-7400; 801-508-7400",
         "(801) 508-7400Call; (801) 508-7400Call; (801) 508-7400Call",
         "2025-07-07T04:13:26.318Z; 2025-07-07T04:13:30.301Z; 2025-07-07T04:13:34.192Z",
         "https://www.yellowpages.com/search?search_terms=801+508+7400; https://www.yellowpages.com/search?search_terms=801+508+7400; https://www.yellowpages.com/search?search_terms=801+508+7400",
         "nan; nan; nan",
         "https://www.westernunion.com/global-services/find-locations/us/ut/lake-point/ba3c0cb66898c493e953e791d87a6cab; https://locations.pilotflyingj.com/us/ut/lake-point/1605-east-saddleback-blvd.; http://catscale.com/?utm_medium=yext&utm_source=extnet",
         "18.59770961002761",
         "Webscraped vs YellowPages (Phone)",
         "0.0483411129185785",
         "Webscraped vs Yelp (Phone)",
         "0.0147870369984478",
         "Yelp (Phone) vs YellowPages (Phone)",
         "40.6853885",
         "-112.266644",
         null,
         null,
         null,
         null,
         "40.6853885",
         "-112.266644",
         null,
         null,
         null,
         null,
         null,
         null
        ],
        [
         "42",
         "Vernal , 84078 Top Stop # 40 ( Sinclair )",
         "435-789-8292 1355 US 40 E",
         "S",
         "Vernal",
         "84078",
         "Top Stop # 40 ( Sinclair )",
         "435-789-8292",
         "2006",
         "Vernal",
         "UT",
         "Sinclair",
         null,
         "1355 US 40 E",
         "Proper",
         null,
         null,
         null,
         "False",
         null,
         "False",
         "US 40",
         null,
         null,
         null,
         null,
         "[929, 478]",
         "[478, 929]",
         "[472, 478, 919, 929]",
         "[]",
         "[398, 399, 400, 401, 402, 403, 404, 405, 406, 407, 408, 409, 410, 411, 412, 413, 414, 415, 416, 417, 418, 419, 420, 421, 422, 423, 424, 425, 426, 427, 428, 429, 430, 431, 432, 433, 434, 435, 436, 437, 438, 439, 440, 441, 442, 443, 444, 445, 446, 447, 448, 449, 450, 451, 452, 453, 454, 455, 456, 457, 458, 459, 460, 461, 462, 463, 464, 465, 466, 467, 468, 469, 470, 471, 472, 473, 474, 475, 476, 477, 478, 479, 480, 481, 482, 483, 484, 848, 849, 850, 851, 852, 853, 854, 855, 856, 857, 858, 859, 860, 861, 862, 863, 864, 865, 866, 867, 868, 869, 870, 871, 872, 873, 874, 875, 876, 877, 878, 879, 880, 881, 882, 883, 884, 885, 886, 887, 888, 889, 890, 891, 892, 893, 894, 895, 896, 897, 898, 899, 900, 901, 902, 903, 904, 905, 906, 907, 908, 909, 910, 911, 912, 913, 914, 915, 916, 917, 918, 919, 920, 921, 922, 923, 924, 925, 926, 927, 928, 929, 930, 931, 932, 933, 934, 935]",
         "[4, 11, 18, 21, 23, 26, 27, 28, 31, 35, 36, 43, 45, 52, 55, 56, 60, 62, 64, 70, 71, 80, 90, 94, 97, 183, 197, 232, 334, 426, 455, 472, 477, 478, 480, 483, 484, 490, 496, 505, 507, 509, 510, 511, 514, 516, 517, 523, 525, 529, 532, 533, 536, 538, 545, 546, 552, 561, 565, 568, 654, 668, 696, 790, 857, 878, 902, 919, 928, 929, 932, 934, 935]",
         "[31, 142, 147, 180, 338, 352, 367, 387, 403, 405, 408, 410, 455, 465, 466, 468, 470, 472, 473, 483, 484, 514, 613, 618, 651, 794, 807, 837, 852, 854, 858, 861, 902, 912, 913, 915, 917, 919, 920, 931, 934, 935]",
         "[31, 142, 147, 180, 338, 352, 367, 387, 403, 405, 408, 410, 455, 465, 466, 468, 470, 472, 473, 477, 478, 479, 483, 484, 514, 613, 618, 651, 794, 807, 837, 852, 854, 858, 861, 902, 912, 913, 915, 917, 919, 920, 928, 929, 930, 931, 934, 935]",
         "[916, 514, 4, 516, 917, 517, 918, 11, 523, 525, 387, 529, 18, 532, 920, 21, 23, 533, 536, 921, 26, 27, 28, 538, 922, 31, 545, 546, 35, 923, 36, 552, 924, 43, 45, 925, 561, 926, 52, 565, 55, 927, 56, 568, 60, 928, 62, 64, 70, 71, 930, 931, 80, 932, 933, 90, 934, 94, 935, 97, 613, 618, 651, 654, 142, 147, 668, 338, 180, 183, 696, 197, 232, 352, 790, 794, 807, 367, 837, 334, 848, 849, 850, 851, 852, 853, 854, 855, 856, 857, 858, 859, 860, 861, 862, 863, 864, 865, 866, 867, 868, 869, 870, 871, 872, 873, 874, 875, 876, 877, 878, 879, 880, 881, 882, 883, 884, 885, 886, 887, 888, 889, 890, 891, 892, 893, 894, 895, 896, 897, 898, 899, 900, 901, 902, 903, 904, 905, 906, 907, 908, 909, 398, 399, 400, 401, 402, 403, 404, 405, 406, 407, 408, 919, 409, 410, 411, 412, 413, 414, 415, 929, 416, 417, 418, 419, 420, 421, 422, 423, 424, 425, 426, 427, 428, 429, 430, 431, 432, 433, 434, 435, 436, 437, 438, 439, 440, 441, 442, 443, 444, 445, 446, 447, 448, 449, 450, 451, 452, 453, 454, 455, 456, 457, 458, 459, 460, 461, 462, 463, 464, 465, 466, 467, 468, 469, 472, 470, 471, 473, 474, 475, 478, 476, 477, 479, 480, 481, 482, 483, 484, 910, 911, 490, 912, 496, 913, 914, 505, 507, 915, 509, 510, 511]",
         "[929, 478]",
         "True",
         "[478, 929]",
         "[398, 399, 400, 401, 402, 403, 404, 405, 406, 407, 408, 409, 410, 411, 412, 413, 414, 415, 416, 417, 418, 419, 420, 421, 422, 423, 424, 425, 426, 427, 428, 429, 430, 431, 432, 433, 434, 435, 436, 437, 438, 439, 440, 441, 442, 443, 444, 445, 446, 447, 448, 449, 450, 451, 452, 453, 454, 455, 456, 457, 458, 459, 460, 461, 462, 463, 464, 465, 466, 467, 468, 469, 470, 471, 472, 473, 474, 475, 476, 477, 478, 479, 480, 481, 482, 483, 484, 848, 849, 850, 851, 852, 853, 854, 855, 856, 857, 858, 859, 860, 861, 862, 863, 864, 865, 866, 867, 868, 869, 870, 871, 872, 873, 874, 875, 876, 877, 878, 879, 880, 881, 882, 883, 884, 885, 886, 887, 888, 889, 890, 891, 892, 893, 894, 895, 896, 897, 898, 899, 900, 901, 902, 903, 904, 905, 906, 907, 908, 909, 910, 911, 912, 913, 914, 915, 916, 917, 918, 919, 920, 921, 922, 923, 924, 925, 926, 927, 928, 929, 930, 931, 932, 933, 934, 935]",
         "[472, 478, 919, 929]",
         "[]",
         "[4, 11, 18, 21, 23, 26, 27, 28, 31, 35, 36, 43, 45, 52, 55, 56, 60, 62, 64, 70, 71, 80, 90, 94, 97, 183, 197, 232, 334, 426, 455, 472, 477, 478, 480, 483, 484, 490, 496, 505, 507, 509, 510, 511, 514, 516, 517, 523, 525, 529, 532, 533, 536, 538, 545, 546, 552, 561, 565, 568, 654, 668, 696, 790, 857, 878, 902, 919, 928, 929, 932, 934, 935]",
         "[31, 142, 147, 180, 338, 352, 367, 387, 403, 405, 408, 410, 455, 465, 466, 468, 470, 472, 473, 477, 478, 479, 483, 484, 514, 613, 618, 651, 794, 807, 837, 852, 854, 858, 861, 902, 912, 913, 915, 917, 919, 920, 928, 929, 930, 931, 934, 935]",
         "[31, 142, 147, 180, 338, 352, 367, 387, 403, 405, 408, 410, 455, 465, 466, 468, 470, 472, 473, 483, 484, 514, 613, 618, 651, 794, 807, 837, 852, 854, 858, 861, 902, 912, 913, 915, 917, 919, 920, 931, 934, 935]",
         "7/6 successful match",
         "True",
         null,
         "False",
         "8",
         "[20, 21, 22]",
         "True",
         "46; 46",
         "Utah; Utah",
         "TOP STOP # 40; TOP STOP # 40",
         "http://www.rvandtravelers.com/location_details.php?id=12442; https://www.truckstopsandservices.com/location_details.php?id=12442",
         "RVer; Trucker",
         "chevron; chevron",
         "nan; 40.449119",
         "nan; -109.502159",
         "nan; nan",
         "40.449119; 40.449119",
         "-109.502159; -109.502159",
         "US 40; US 40",
         "nan; nan",
         "1355 E HWY 40; 1355 E HWY 40",
         "VERNAL; VERNAL",
         "UT; UT",
         "84078; 84078",
         "435-789-8292 (TRAVEL CENTER); 435-789-8292 (TRAVEL CENTER)",
         "435-789-3944; 435-789-3944",
         "nan; nan",
         "nan; nan",
         "nan; nan",
         "nan; nan",
         "nan; nan",
         "nan; nan",
         "nan; nan",
         "nan; nan",
         "[472, 929, 478, 919]",
         "46; 46; 46; 46",
         "Utah; Utah; Utah; Utah",
         "SPLIT MOUNTAIN TRAVEL PLAZA; TOP STOP # 40; TOP STOP # 40; SPLIT MOUNTAIN TRAVEL PLAZA",
         "https://www.truckstopsandservices.com/location_details.php?id=12456; http://www.rvandtravelers.com/location_details.php?id=12442; https://www.truckstopsandservices.com/location_details.php?id=12442; http://www.rvandtravelers.com/location_details.php?id=12456",
         "Trucker; RVer; Trucker; RVer",
         "sinclair oil .svg; chevron; chevron; sinclair oil .svg",
         "40.386928; nan; 40.449119; nan",
         "-109.438917; nan; -109.502159; nan",
         "nan; nan; nan; nan",
         "40.386928; 40.449119; 40.449119; 40.386928",
         "-109.438917; -109.502159; -109.502159; -109.438917",
         "US 40; US 40; US 40; US 40",
         "nan; nan; nan; nan",
         "4743 S 4625 E; 1355 E HWY 40; 1355 E HWY 40; 4743 S 4625 E",
         "VERNAL; VERNAL; VERNAL; VERNAL",
         "UT; UT; UT; UT",
         "84079; 84078; 84078; 84079",
         "435-781-6500 (TRAVEL CENTER); 435-789-8292 (TRAVEL CENTER); 435-789-8292 (TRAVEL CENTER); 435-781-6500 (TRAVEL CENTER)",
         "nan; 435-789-3944; 435-789-3944; nan",
         "nan; nan; nan; nan",
         "nan; nan; nan; nan",
         "nan; nan; nan; nan",
         "nan; nan; nan; nan",
         "nan; nan; nan; nan",
         "nan; nan; nan; nan",
         "nan; nan; nan; nan",
         "nan; nan; nan; nan",
         null,
         null,
         null,
         null,
         null,
         null,
         null,
         null,
         null,
         null,
         null,
         null,
         null,
         null,
         null,
         "1355 E Highway 40Vernal, UT 84078; 1355 Us 40Vernal, UT 84078; 1355 E Highway 40Vernal, UT 84078",
         "Chevron Station #355746, Top Stop Chevron - Vernal C40; nan; Top Stop Convenience Stores, Sinclair Oil, Top Stop #40",
         "Chevron; Top Stop Chevron-Vernal C40; Top Stop Chevron - Vernal C40",
         "https://www.yellowpages.com/vernal-ut/mip/chevron-466537643; https://www.yellowpages.com/vernal-ut/mip/top-stop-chevron-vernal-c40-569848699; https://www.yellowpages.com/vernal-ut/mip/top-stop-chevron-vernal-c40-8992234",
         "Gas Stations, Convenience Stores, Take Out Restaurants; Gas Companies, Gas Stations; Gas Stations, Convenience Stores",
         "281 286 4882, 435 657 7123; nan; 435 789 3944, 435 657 7123",
         "nan; nan; nan",
         "Vernal; Vernal; Vernal",
         "40.44913; 40.2828; 40.44913",
         "-109.50224; -109.4699; -109.50224",
         "Chevron; Top Stop Chevron-Vernal C40; Top Stop Chevron - Vernal C40",
         "(435) 789-8292; (435) 789-8292; (435) 789-8292",
         "UT; UT; UT",
         "1355 E Highway 40; 1355 Us 40; 1355 E Highway 40",
         "84078.0; 84078.0; 84078.0",
         "435-789-8292; 435-789-8292; 435-789-8292",
         "(435) 789-8292Call; (435) 789-8292Call; (435) 789-8292Call",
         "2025-07-07T04:13:44.517Z; 2025-07-07T04:13:48.070Z; 2025-07-07T04:13:51.869Z",
         "https://www.yellowpages.com/search?search_terms=435+789+8292; https://www.yellowpages.com/search?search_terms=435+789+8292; https://www.yellowpages.com/search?search_terms=435+789+8292",
         "nan; nan; nan",
         "https://topstopstores.com; https://topstopstores.com; http://sinclairoil.com",
         "11.61646809310193",
         "Webscraped vs YellowPages (Phone)",
         "0.0043262154392004",
         "Webscraped vs YellowPages (Phone)",
         "0.0043262154392004",
         "Webscraped vs YellowPages (Phone)",
         "40.4491245",
         "-109.5021995",
         null,
         null,
         null,
         null,
         "40.4491245",
         "-109.5021995",
         "OK",
         "1355 US-40, Vernal, UT 84078, USA",
         "40.4495715",
         "-109.5021486",
         "ChIJfXoOTKNjRYcRLrtuerxejQo",
         "premise,street_address"
        ],
        [
         "43",
         "D Vernal , 84078 Top Stop # 40 ( Sinclair )",
         "435-789-8292 1355 US 40 E",
         "S <U+2610> -",
         "Vernal",
         "84078",
         "Top Stop # 40 ( Sinclair )",
         "435-789-8292",
         "2007",
         "Vernal",
         "UT",
         "Sinclair",
         null,
         "1355 US 40 E",
         "Proper",
         null,
         null,
         null,
         "False",
         null,
         "False",
         "US 40",
         null,
         null,
         null,
         null,
         "[929, 478]",
         "[478, 929]",
         "[472, 478, 919, 929]",
         "[]",
         "[398, 399, 400, 401, 402, 403, 404, 405, 406, 407, 408, 409, 410, 411, 412, 413, 414, 415, 416, 417, 418, 419, 420, 421, 422, 423, 424, 425, 426, 427, 428, 429, 430, 431, 432, 433, 434, 435, 436, 437, 438, 439, 440, 441, 442, 443, 444, 445, 446, 447, 448, 449, 450, 451, 452, 453, 454, 455, 456, 457, 458, 459, 460, 461, 462, 463, 464, 465, 466, 467, 468, 469, 470, 471, 472, 473, 474, 475, 476, 477, 478, 479, 480, 481, 482, 483, 484, 848, 849, 850, 851, 852, 853, 854, 855, 856, 857, 858, 859, 860, 861, 862, 863, 864, 865, 866, 867, 868, 869, 870, 871, 872, 873, 874, 875, 876, 877, 878, 879, 880, 881, 882, 883, 884, 885, 886, 887, 888, 889, 890, 891, 892, 893, 894, 895, 896, 897, 898, 899, 900, 901, 902, 903, 904, 905, 906, 907, 908, 909, 910, 911, 912, 913, 914, 915, 916, 917, 918, 919, 920, 921, 922, 923, 924, 925, 926, 927, 928, 929, 930, 931, 932, 933, 934, 935]",
         "[4, 11, 18, 21, 23, 26, 27, 28, 31, 35, 36, 43, 45, 52, 55, 56, 60, 62, 64, 70, 71, 80, 90, 94, 97, 183, 197, 232, 334, 426, 455, 472, 477, 478, 480, 483, 484, 490, 496, 505, 507, 509, 510, 511, 514, 516, 517, 523, 525, 529, 532, 533, 536, 538, 545, 546, 552, 561, 565, 568, 654, 668, 696, 790, 857, 878, 902, 919, 928, 929, 932, 934, 935]",
         "[31, 142, 147, 180, 338, 352, 367, 387, 403, 405, 408, 410, 455, 465, 466, 468, 470, 472, 473, 483, 484, 514, 613, 618, 651, 794, 807, 837, 852, 854, 858, 861, 902, 912, 913, 915, 917, 919, 920, 931, 934, 935]",
         "[31, 142, 147, 180, 338, 352, 367, 387, 403, 405, 408, 410, 455, 465, 466, 468, 470, 472, 473, 477, 478, 479, 483, 484, 514, 613, 618, 651, 794, 807, 837, 852, 854, 858, 861, 902, 912, 913, 915, 917, 919, 920, 928, 929, 930, 931, 934, 935]",
         "[916, 514, 4, 516, 917, 517, 918, 11, 523, 525, 387, 529, 18, 532, 920, 21, 23, 533, 536, 921, 26, 27, 28, 538, 922, 31, 545, 546, 35, 923, 36, 552, 924, 43, 45, 925, 561, 926, 52, 565, 55, 927, 56, 568, 60, 928, 62, 64, 70, 71, 930, 931, 80, 932, 933, 90, 934, 94, 935, 97, 613, 618, 651, 654, 142, 147, 668, 338, 180, 183, 696, 197, 232, 352, 790, 794, 807, 367, 837, 334, 848, 849, 850, 851, 852, 853, 854, 855, 856, 857, 858, 859, 860, 861, 862, 863, 864, 865, 866, 867, 868, 869, 870, 871, 872, 873, 874, 875, 876, 877, 878, 879, 880, 881, 882, 883, 884, 885, 886, 887, 888, 889, 890, 891, 892, 893, 894, 895, 896, 897, 898, 899, 900, 901, 902, 903, 904, 905, 906, 907, 908, 909, 398, 399, 400, 401, 402, 403, 404, 405, 406, 407, 408, 919, 409, 410, 411, 412, 413, 414, 415, 929, 416, 417, 418, 419, 420, 421, 422, 423, 424, 425, 426, 427, 428, 429, 430, 431, 432, 433, 434, 435, 436, 437, 438, 439, 440, 441, 442, 443, 444, 445, 446, 447, 448, 449, 450, 451, 452, 453, 454, 455, 456, 457, 458, 459, 460, 461, 462, 463, 464, 465, 466, 467, 468, 469, 472, 470, 471, 473, 474, 475, 478, 476, 477, 479, 480, 481, 482, 483, 484, 910, 911, 490, 912, 496, 913, 914, 505, 507, 915, 509, 510, 511]",
         "[929, 478]",
         "True",
         "[478, 929]",
         "[398, 399, 400, 401, 402, 403, 404, 405, 406, 407, 408, 409, 410, 411, 412, 413, 414, 415, 416, 417, 418, 419, 420, 421, 422, 423, 424, 425, 426, 427, 428, 429, 430, 431, 432, 433, 434, 435, 436, 437, 438, 439, 440, 441, 442, 443, 444, 445, 446, 447, 448, 449, 450, 451, 452, 453, 454, 455, 456, 457, 458, 459, 460, 461, 462, 463, 464, 465, 466, 467, 468, 469, 470, 471, 472, 473, 474, 475, 476, 477, 478, 479, 480, 481, 482, 483, 484, 848, 849, 850, 851, 852, 853, 854, 855, 856, 857, 858, 859, 860, 861, 862, 863, 864, 865, 866, 867, 868, 869, 870, 871, 872, 873, 874, 875, 876, 877, 878, 879, 880, 881, 882, 883, 884, 885, 886, 887, 888, 889, 890, 891, 892, 893, 894, 895, 896, 897, 898, 899, 900, 901, 902, 903, 904, 905, 906, 907, 908, 909, 910, 911, 912, 913, 914, 915, 916, 917, 918, 919, 920, 921, 922, 923, 924, 925, 926, 927, 928, 929, 930, 931, 932, 933, 934, 935]",
         "[472, 478, 919, 929]",
         "[]",
         "[4, 11, 18, 21, 23, 26, 27, 28, 31, 35, 36, 43, 45, 52, 55, 56, 60, 62, 64, 70, 71, 80, 90, 94, 97, 183, 197, 232, 334, 426, 455, 472, 477, 478, 480, 483, 484, 490, 496, 505, 507, 509, 510, 511, 514, 516, 517, 523, 525, 529, 532, 533, 536, 538, 545, 546, 552, 561, 565, 568, 654, 668, 696, 790, 857, 878, 902, 919, 928, 929, 932, 934, 935]",
         "[31, 142, 147, 180, 338, 352, 367, 387, 403, 405, 408, 410, 455, 465, 466, 468, 470, 472, 473, 477, 478, 479, 483, 484, 514, 613, 618, 651, 794, 807, 837, 852, 854, 858, 861, 902, 912, 913, 915, 917, 919, 920, 928, 929, 930, 931, 934, 935]",
         "[31, 142, 147, 180, 338, 352, 367, 387, 403, 405, 408, 410, 455, 465, 466, 468, 470, 472, 473, 483, 484, 514, 613, 618, 651, 794, 807, 837, 852, 854, 858, 861, 902, 912, 913, 915, 917, 919, 920, 931, 934, 935]",
         "7/6 successful match",
         "True",
         null,
         "False",
         "8",
         "[20, 21, 22]",
         "True",
         "46; 46",
         "Utah; Utah",
         "TOP STOP # 40; TOP STOP # 40",
         "http://www.rvandtravelers.com/location_details.php?id=12442; https://www.truckstopsandservices.com/location_details.php?id=12442",
         "RVer; Trucker",
         "chevron; chevron",
         "nan; 40.449119",
         "nan; -109.502159",
         "nan; nan",
         "40.449119; 40.449119",
         "-109.502159; -109.502159",
         "US 40; US 40",
         "nan; nan",
         "1355 E HWY 40; 1355 E HWY 40",
         "VERNAL; VERNAL",
         "UT; UT",
         "84078; 84078",
         "435-789-8292 (TRAVEL CENTER); 435-789-8292 (TRAVEL CENTER)",
         "435-789-3944; 435-789-3944",
         "nan; nan",
         "nan; nan",
         "nan; nan",
         "nan; nan",
         "nan; nan",
         "nan; nan",
         "nan; nan",
         "nan; nan",
         "[472, 929, 478, 919]",
         "46; 46; 46; 46",
         "Utah; Utah; Utah; Utah",
         "SPLIT MOUNTAIN TRAVEL PLAZA; TOP STOP # 40; TOP STOP # 40; SPLIT MOUNTAIN TRAVEL PLAZA",
         "https://www.truckstopsandservices.com/location_details.php?id=12456; http://www.rvandtravelers.com/location_details.php?id=12442; https://www.truckstopsandservices.com/location_details.php?id=12442; http://www.rvandtravelers.com/location_details.php?id=12456",
         "Trucker; RVer; Trucker; RVer",
         "sinclair oil .svg; chevron; chevron; sinclair oil .svg",
         "40.386928; nan; 40.449119; nan",
         "-109.438917; nan; -109.502159; nan",
         "nan; nan; nan; nan",
         "40.386928; 40.449119; 40.449119; 40.386928",
         "-109.438917; -109.502159; -109.502159; -109.438917",
         "US 40; US 40; US 40; US 40",
         "nan; nan; nan; nan",
         "4743 S 4625 E; 1355 E HWY 40; 1355 E HWY 40; 4743 S 4625 E",
         "VERNAL; VERNAL; VERNAL; VERNAL",
         "UT; UT; UT; UT",
         "84079; 84078; 84078; 84079",
         "435-781-6500 (TRAVEL CENTER); 435-789-8292 (TRAVEL CENTER); 435-789-8292 (TRAVEL CENTER); 435-781-6500 (TRAVEL CENTER)",
         "nan; 435-789-3944; 435-789-3944; nan",
         "nan; nan; nan; nan",
         "nan; nan; nan; nan",
         "nan; nan; nan; nan",
         "nan; nan; nan; nan",
         "nan; nan; nan; nan",
         "nan; nan; nan; nan",
         "nan; nan; nan; nan",
         "nan; nan; nan; nan",
         null,
         null,
         null,
         null,
         null,
         null,
         null,
         null,
         null,
         null,
         null,
         null,
         null,
         null,
         null,
         "1355 E Highway 40Vernal, UT 84078; 1355 Us 40Vernal, UT 84078; 1355 E Highway 40Vernal, UT 84078",
         "Chevron Station #355746, Top Stop Chevron - Vernal C40; nan; Top Stop Convenience Stores, Sinclair Oil, Top Stop #40",
         "Chevron; Top Stop Chevron-Vernal C40; Top Stop Chevron - Vernal C40",
         "https://www.yellowpages.com/vernal-ut/mip/chevron-466537643; https://www.yellowpages.com/vernal-ut/mip/top-stop-chevron-vernal-c40-569848699; https://www.yellowpages.com/vernal-ut/mip/top-stop-chevron-vernal-c40-8992234",
         "Gas Stations, Convenience Stores, Take Out Restaurants; Gas Companies, Gas Stations; Gas Stations, Convenience Stores",
         "281 286 4882, 435 657 7123; nan; 435 789 3944, 435 657 7123",
         "nan; nan; nan",
         "Vernal; Vernal; Vernal",
         "40.44913; 40.2828; 40.44913",
         "-109.50224; -109.4699; -109.50224",
         "Chevron; Top Stop Chevron-Vernal C40; Top Stop Chevron - Vernal C40",
         "(435) 789-8292; (435) 789-8292; (435) 789-8292",
         "UT; UT; UT",
         "1355 E Highway 40; 1355 Us 40; 1355 E Highway 40",
         "84078.0; 84078.0; 84078.0",
         "435-789-8292; 435-789-8292; 435-789-8292",
         "(435) 789-8292Call; (435) 789-8292Call; (435) 789-8292Call",
         "2025-07-07T04:13:44.517Z; 2025-07-07T04:13:48.070Z; 2025-07-07T04:13:51.869Z",
         "https://www.yellowpages.com/search?search_terms=435+789+8292; https://www.yellowpages.com/search?search_terms=435+789+8292; https://www.yellowpages.com/search?search_terms=435+789+8292",
         "nan; nan; nan",
         "https://topstopstores.com; https://topstopstores.com; http://sinclairoil.com",
         "11.61646809310193",
         "Webscraped vs YellowPages (Phone)",
         "0.0043262154392004",
         "Webscraped vs YellowPages (Phone)",
         "0.0043262154392004",
         "Webscraped vs YellowPages (Phone)",
         "40.4491245",
         "-109.5021995",
         null,
         null,
         null,
         null,
         "40.4491245",
         "-109.5021995",
         "OK",
         "1355 US-40, Vernal, UT 84078, USA",
         "40.4495715",
         "-109.5021486",
         "ChIJfXoOTKNjRYcRLrtuerxejQo",
         "premise,street_address"
        ],
        [
         "44",
         "D Vernal , 84078 Top Stop # 40 (",
         "435-789-8292 1355 US 40 E Sinclair )",
         "24 HAS S",
         "Vernal",
         "84078",
         "Top Stop # 40 (",
         "435-789-8292",
         "2008",
         "Vernal",
         "UT",
         null,
         null,
         "1355 US 40 E Sinclair ",
         "Proper",
         null,
         null,
         null,
         "False",
         null,
         "False",
         "US 40",
         null,
         null,
         null,
         null,
         "[929, 478]",
         "[478, 929]",
         "[472, 478, 919, 929]",
         "[]",
         "[398, 399, 400, 401, 402, 403, 404, 405, 406, 407, 408, 409, 410, 411, 412, 413, 414, 415, 416, 417, 418, 419, 420, 421, 422, 423, 424, 425, 426, 427, 428, 429, 430, 431, 432, 433, 434, 435, 436, 437, 438, 439, 440, 441, 442, 443, 444, 445, 446, 447, 448, 449, 450, 451, 452, 453, 454, 455, 456, 457, 458, 459, 460, 461, 462, 463, 464, 465, 466, 467, 468, 469, 470, 471, 472, 473, 474, 475, 476, 477, 478, 479, 480, 481, 482, 483, 484, 848, 849, 850, 851, 852, 853, 854, 855, 856, 857, 858, 859, 860, 861, 862, 863, 864, 865, 866, 867, 868, 869, 870, 871, 872, 873, 874, 875, 876, 877, 878, 879, 880, 881, 882, 883, 884, 885, 886, 887, 888, 889, 890, 891, 892, 893, 894, 895, 896, 897, 898, 899, 900, 901, 902, 903, 904, 905, 906, 907, 908, 909, 910, 911, 912, 913, 914, 915, 916, 917, 918, 919, 920, 921, 922, 923, 924, 925, 926, 927, 928, 929, 930, 931, 932, 933, 934, 935]",
         "[4, 11, 18, 21, 23, 26, 27, 28, 31, 35, 36, 43, 45, 52, 55, 56, 60, 62, 64, 70, 71, 80, 90, 94, 97, 183, 197, 232, 334, 426, 455, 472, 477, 478, 480, 483, 484, 490, 496, 505, 507, 509, 510, 511, 514, 516, 517, 523, 525, 529, 532, 533, 536, 538, 545, 546, 552, 561, 565, 568, 654, 668, 696, 790, 857, 878, 902, 919, 928, 929, 932, 934, 935]",
         "[]",
         "[477, 478, 479, 928, 929, 930, 931]",
         "[916, 514, 4, 516, 917, 517, 918, 11, 523, 525, 529, 18, 532, 920, 21, 23, 533, 536, 921, 26, 27, 28, 538, 922, 31, 545, 546, 35, 923, 36, 552, 924, 43, 45, 925, 561, 926, 52, 565, 55, 927, 56, 568, 60, 928, 62, 64, 70, 71, 930, 931, 80, 932, 933, 90, 934, 94, 935, 97, 654, 668, 183, 696, 197, 232, 790, 334, 848, 849, 850, 851, 852, 853, 854, 855, 856, 857, 858, 859, 860, 861, 862, 863, 864, 865, 866, 867, 868, 869, 870, 871, 872, 873, 874, 875, 876, 877, 878, 879, 880, 881, 882, 883, 884, 885, 886, 887, 888, 889, 890, 891, 892, 893, 894, 895, 896, 897, 898, 899, 900, 901, 902, 903, 904, 905, 906, 907, 908, 909, 398, 399, 400, 401, 402, 403, 404, 405, 406, 407, 408, 919, 409, 410, 411, 412, 413, 414, 415, 929, 416, 417, 418, 419, 420, 421, 422, 423, 424, 425, 426, 427, 428, 429, 430, 431, 432, 433, 434, 435, 436, 437, 438, 439, 440, 441, 442, 443, 444, 445, 446, 447, 448, 449, 450, 451, 452, 453, 454, 455, 456, 457, 458, 459, 460, 461, 462, 463, 464, 465, 466, 467, 468, 469, 472, 470, 471, 473, 474, 475, 478, 476, 477, 479, 480, 481, 482, 483, 484, 910, 911, 490, 912, 496, 913, 914, 505, 507, 915, 509, 510, 511]",
         "[929, 478]",
         "True",
         "[478, 929]",
         "[398, 399, 400, 401, 402, 403, 404, 405, 406, 407, 408, 409, 410, 411, 412, 413, 414, 415, 416, 417, 418, 419, 420, 421, 422, 423, 424, 425, 426, 427, 428, 429, 430, 431, 432, 433, 434, 435, 436, 437, 438, 439, 440, 441, 442, 443, 444, 445, 446, 447, 448, 449, 450, 451, 452, 453, 454, 455, 456, 457, 458, 459, 460, 461, 462, 463, 464, 465, 466, 467, 468, 469, 470, 471, 472, 473, 474, 475, 476, 477, 478, 479, 480, 481, 482, 483, 484, 848, 849, 850, 851, 852, 853, 854, 855, 856, 857, 858, 859, 860, 861, 862, 863, 864, 865, 866, 867, 868, 869, 870, 871, 872, 873, 874, 875, 876, 877, 878, 879, 880, 881, 882, 883, 884, 885, 886, 887, 888, 889, 890, 891, 892, 893, 894, 895, 896, 897, 898, 899, 900, 901, 902, 903, 904, 905, 906, 907, 908, 909, 910, 911, 912, 913, 914, 915, 916, 917, 918, 919, 920, 921, 922, 923, 924, 925, 926, 927, 928, 929, 930, 931, 932, 933, 934, 935]",
         "[472, 478, 919, 929]",
         "[]",
         "[4, 11, 18, 21, 23, 26, 27, 28, 31, 35, 36, 43, 45, 52, 55, 56, 60, 62, 64, 70, 71, 80, 90, 94, 97, 183, 197, 232, 334, 426, 455, 472, 477, 478, 480, 483, 484, 490, 496, 505, 507, 509, 510, 511, 514, 516, 517, 523, 525, 529, 532, 533, 536, 538, 545, 546, 552, 561, 565, 568, 654, 668, 696, 790, 857, 878, 902, 919, 928, 929, 932, 934, 935]",
         "[477, 478, 479, 928, 929, 930, 931]",
         "[]",
         "7/6 successful match",
         "True",
         null,
         "False",
         "8",
         "[20, 21, 22]",
         "True",
         "46; 46",
         "Utah; Utah",
         "TOP STOP # 40; TOP STOP # 40",
         "http://www.rvandtravelers.com/location_details.php?id=12442; https://www.truckstopsandservices.com/location_details.php?id=12442",
         "RVer; Trucker",
         "chevron; chevron",
         "nan; 40.449119",
         "nan; -109.502159",
         "nan; nan",
         "40.449119; 40.449119",
         "-109.502159; -109.502159",
         "US 40; US 40",
         "nan; nan",
         "1355 E HWY 40; 1355 E HWY 40",
         "VERNAL; VERNAL",
         "UT; UT",
         "84078; 84078",
         "435-789-8292 (TRAVEL CENTER); 435-789-8292 (TRAVEL CENTER)",
         "435-789-3944; 435-789-3944",
         "nan; nan",
         "nan; nan",
         "nan; nan",
         "nan; nan",
         "nan; nan",
         "nan; nan",
         "nan; nan",
         "nan; nan",
         "[929, 478]",
         "46; 46",
         "Utah; Utah",
         "TOP STOP # 40; TOP STOP # 40",
         "http://www.rvandtravelers.com/location_details.php?id=12442; https://www.truckstopsandservices.com/location_details.php?id=12442",
         "RVer; Trucker",
         "chevron; chevron",
         "nan; 40.449119",
         "nan; -109.502159",
         "nan; nan",
         "40.449119; 40.449119",
         "-109.502159; -109.502159",
         "US 40; US 40",
         "nan; nan",
         "1355 E HWY 40; 1355 E HWY 40",
         "VERNAL; VERNAL",
         "UT; UT",
         "84078; 84078",
         "435-789-8292 (TRAVEL CENTER); 435-789-8292 (TRAVEL CENTER)",
         "435-789-3944; 435-789-3944",
         "nan; nan",
         "nan; nan",
         "nan; nan",
         "nan; nan",
         "nan; nan",
         "nan; nan",
         "nan; nan",
         "nan; nan",
         null,
         null,
         null,
         null,
         null,
         null,
         null,
         null,
         null,
         null,
         null,
         null,
         null,
         null,
         null,
         "1355 E Highway 40Vernal, UT 84078; 1355 Us 40Vernal, UT 84078; 1355 E Highway 40Vernal, UT 84078",
         "Chevron Station #355746, Top Stop Chevron - Vernal C40; nan; Top Stop Convenience Stores, Sinclair Oil, Top Stop #40",
         "Chevron; Top Stop Chevron-Vernal C40; Top Stop Chevron - Vernal C40",
         "https://www.yellowpages.com/vernal-ut/mip/chevron-466537643; https://www.yellowpages.com/vernal-ut/mip/top-stop-chevron-vernal-c40-569848699; https://www.yellowpages.com/vernal-ut/mip/top-stop-chevron-vernal-c40-8992234",
         "Gas Stations, Convenience Stores, Take Out Restaurants; Gas Companies, Gas Stations; Gas Stations, Convenience Stores",
         "281 286 4882, 435 657 7123; nan; 435 789 3944, 435 657 7123",
         "nan; nan; nan",
         "Vernal; Vernal; Vernal",
         "40.44913; 40.2828; 40.44913",
         "-109.50224; -109.4699; -109.50224",
         "Chevron; Top Stop Chevron-Vernal C40; Top Stop Chevron - Vernal C40",
         "(435) 789-8292; (435) 789-8292; (435) 789-8292",
         "UT; UT; UT",
         "1355 E Highway 40; 1355 Us 40; 1355 E Highway 40",
         "84078.0; 84078.0; 84078.0",
         "435-789-8292; 435-789-8292; 435-789-8292",
         "(435) 789-8292Call; (435) 789-8292Call; (435) 789-8292Call",
         "2025-07-07T04:13:44.517Z; 2025-07-07T04:13:48.070Z; 2025-07-07T04:13:51.869Z",
         "https://www.yellowpages.com/search?search_terms=435+789+8292; https://www.yellowpages.com/search?search_terms=435+789+8292; https://www.yellowpages.com/search?search_terms=435+789+8292",
         "nan; nan; nan",
         "https://topstopstores.com; https://topstopstores.com; http://sinclairoil.com",
         "11.61646809310193",
         "Webscraped vs YellowPages (Phone)",
         "0.0043262154392004",
         "Webscraped vs YellowPages (Phone)",
         "0.0043262154392004",
         "Webscraped vs YellowPages (Phone)",
         "40.4491245",
         "-109.5021995",
         null,
         null,
         null,
         null,
         "40.4491245",
         "-109.5021995",
         "OK",
         "1355 US-40, Vernal, UT 84078, USA",
         "40.4495715",
         "-109.5021486",
         "ChIJfXoOTKNjRYcRLrtuerxejQo",
         "premise,street_address"
        ],
        [
         "45",
         "D Vernal ( 84078 ) Top Stop # 40 ( Chevron )",
         "6 435-789-8292 1355 US 40 E",
         "24 SO <U+2610> <U+2610><U+2610>",
         "Vernal",
         "84078",
         "Top Stop # 40 ( Chevron )",
         "435-789-8292",
         "2014",
         "Vernal",
         "UT",
         "Chevron",
         null,
         "1355 US 40 E",
         "Proper",
         null,
         null,
         null,
         "False",
         null,
         "False",
         "US 40",
         null,
         null,
         null,
         null,
         "[929, 478]",
         "[478, 929]",
         "[472, 478, 919, 929]",
         "[]",
         "[398, 399, 400, 401, 402, 403, 404, 405, 406, 407, 408, 409, 410, 411, 412, 413, 414, 415, 416, 417, 418, 419, 420, 421, 422, 423, 424, 425, 426, 427, 428, 429, 430, 431, 432, 433, 434, 435, 436, 437, 438, 439, 440, 441, 442, 443, 444, 445, 446, 447, 448, 449, 450, 451, 452, 453, 454, 455, 456, 457, 458, 459, 460, 461, 462, 463, 464, 465, 466, 467, 468, 469, 470, 471, 472, 473, 474, 475, 476, 477, 478, 479, 480, 481, 482, 483, 484, 848, 849, 850, 851, 852, 853, 854, 855, 856, 857, 858, 859, 860, 861, 862, 863, 864, 865, 866, 867, 868, 869, 870, 871, 872, 873, 874, 875, 876, 877, 878, 879, 880, 881, 882, 883, 884, 885, 886, 887, 888, 889, 890, 891, 892, 893, 894, 895, 896, 897, 898, 899, 900, 901, 902, 903, 904, 905, 906, 907, 908, 909, 910, 911, 912, 913, 914, 915, 916, 917, 918, 919, 920, 921, 922, 923, 924, 925, 926, 927, 928, 929, 930, 931, 932, 933, 934, 935]",
         "[4, 11, 18, 21, 23, 26, 27, 28, 31, 35, 36, 43, 45, 52, 55, 56, 60, 62, 64, 70, 71, 80, 90, 94, 97, 183, 197, 232, 334, 426, 455, 472, 477, 478, 480, 483, 484, 490, 496, 505, 507, 509, 510, 511, 514, 516, 517, 523, 525, 529, 532, 533, 536, 538, 545, 546, 552, 561, 565, 568, 654, 668, 696, 790, 857, 878, 902, 919, 928, 929, 932, 934, 935]",
         "[12, 24, 25, 28, 88, 100, 104, 119, 123, 129, 136, 137, 139, 140, 141, 148, 155, 169, 172, 179, 183, 185, 188, 196, 198, 217, 237, 267, 270, 278, 319, 321, 324, 325, 330, 334, 335, 354, 366, 369, 380, 383, 384, 386, 395, 407, 411, 423, 428, 436, 437, 452, 453, 456, 467, 471, 477, 478, 479, 497, 508, 511, 559, 571, 575, 590, 594, 600, 607, 608, 610, 611, 612, 619, 627, 640, 643, 650, 654, 656, 659, 667, 669, 685, 701, 726, 729, 737, 777, 779, 782, 783, 787, 790, 791, 809, 817, 819, 830, 833, 834, 836, 845, 856, 857, 860, 862, 875, 880, 887, 888, 899, 900, 914, 918, 921, 928, 929, 930]",
         "[12, 24, 25, 28, 88, 100, 104, 119, 123, 129, 136, 137, 139, 140, 141, 148, 155, 169, 172, 179, 183, 185, 188, 196, 198, 217, 237, 267, 270, 278, 319, 321, 324, 325, 330, 334, 335, 354, 366, 369, 380, 383, 384, 386, 395, 407, 411, 423, 428, 436, 437, 452, 453, 456, 467, 471, 477, 478, 479, 497, 508, 511, 559, 571, 575, 590, 594, 600, 607, 608, 610, 611, 612, 619, 627, 640, 643, 650, 654, 656, 659, 667, 669, 685, 701, 726, 729, 737, 777, 779, 782, 783, 787, 790, 791, 809, 817, 819, 830, 833, 834, 836, 845, 856, 857, 860, 862, 875, 880, 887, 888, 899, 900, 914, 918, 921, 928, 929, 930, 931]",
         "[4, 11, 12, 18, 21, 23, 24, 25, 26, 27, 28, 31, 35, 36, 43, 45, 52, 55, 56, 60, 62, 64, 70, 71, 80, 88, 90, 94, 97, 100, 104, 119, 123, 129, 136, 137, 139, 140, 141, 148, 155, 169, 172, 179, 183, 185, 188, 196, 197, 198, 217, 232, 237, 267, 270, 278, 319, 321, 324, 325, 330, 334, 335, 354, 366, 369, 380, 383, 384, 386, 395, 398, 399, 400, 401, 402, 403, 404, 405, 406, 407, 408, 409, 410, 411, 412, 413, 414, 415, 416, 417, 418, 419, 420, 421, 422, 423, 424, 425, 426, 427, 428, 429, 430, 431, 432, 433, 434, 435, 436, 437, 438, 439, 440, 441, 442, 443, 444, 445, 446, 447, 448, 449, 450, 451, 452, 453, 454, 455, 456, 457, 458, 459, 460, 461, 462, 463, 464, 465, 466, 467, 468, 469, 470, 471, 472, 473, 474, 475, 476, 477, 478, 479, 480, 481, 482, 483, 484, 490, 496, 497, 505, 507, 508, 509, 510, 511, 514, 516, 517, 523, 525, 529, 532, 533, 536, 538, 545, 546, 552, 559, 561, 565, 568, 571, 575, 590, 594, 600, 607, 608, 610, 611, 612, 619, 627, 640, 643, 650, 654, 656, 659, 667, 668, 669, 685, 696, 701, 726, 729, 737, 777, 779, 782, 783, 787, 790, 791, 809, 817, 819, 830, 833, 834, 836, 845, 848, 849, 850, 851, 852, 853, 854, 855, 856, 857, 858, 859, 860, 861, 862, 863, 864, 865, 866, 867, 868, 869, 870, 871, 872, 873, 874, 875, 876, 877, 878, 879, 880, 881, 882, 883, 884, 885, 886, 887, 888, 889, 890, 891, 892, 893, 894, 895, 896, 897, 898, 899, 900, 901, 902, 903, 904, 905, 906, 907, 908, 909, 910, 911, 912, 913, 914, 915, 916, 917, 918, 919, 920, 921, 922, 923, 924, 925, 926, 927, 928, 929, 930, 931, 932, 933, 934, 935]",
         "[929, 478]",
         "True",
         "[478, 929]",
         "[398, 399, 400, 401, 402, 403, 404, 405, 406, 407, 408, 409, 410, 411, 412, 413, 414, 415, 416, 417, 418, 419, 420, 421, 422, 423, 424, 425, 426, 427, 428, 429, 430, 431, 432, 433, 434, 435, 436, 437, 438, 439, 440, 441, 442, 443, 444, 445, 446, 447, 448, 449, 450, 451, 452, 453, 454, 455, 456, 457, 458, 459, 460, 461, 462, 463, 464, 465, 466, 467, 468, 469, 470, 471, 472, 473, 474, 475, 476, 477, 478, 479, 480, 481, 482, 483, 484, 848, 849, 850, 851, 852, 853, 854, 855, 856, 857, 858, 859, 860, 861, 862, 863, 864, 865, 866, 867, 868, 869, 870, 871, 872, 873, 874, 875, 876, 877, 878, 879, 880, 881, 882, 883, 884, 885, 886, 887, 888, 889, 890, 891, 892, 893, 894, 895, 896, 897, 898, 899, 900, 901, 902, 903, 904, 905, 906, 907, 908, 909, 910, 911, 912, 913, 914, 915, 916, 917, 918, 919, 920, 921, 922, 923, 924, 925, 926, 927, 928, 929, 930, 931, 932, 933, 934, 935]",
         "[472, 478, 919, 929]",
         "[]",
         "[4, 11, 18, 21, 23, 26, 27, 28, 31, 35, 36, 43, 45, 52, 55, 56, 60, 62, 64, 70, 71, 80, 90, 94, 97, 183, 197, 232, 334, 426, 455, 472, 477, 478, 480, 483, 484, 490, 496, 505, 507, 509, 510, 511, 514, 516, 517, 523, 525, 529, 532, 533, 536, 538, 545, 546, 552, 561, 565, 568, 654, 668, 696, 790, 857, 878, 902, 919, 928, 929, 932, 934, 935]",
         "[12, 24, 25, 28, 88, 100, 104, 119, 123, 129, 136, 137, 139, 140, 141, 148, 155, 169, 172, 179, 183, 185, 188, 196, 198, 217, 237, 267, 270, 278, 319, 321, 324, 325, 330, 334, 335, 354, 366, 369, 380, 383, 384, 386, 395, 407, 411, 423, 428, 436, 437, 452, 453, 456, 467, 471, 477, 478, 479, 497, 508, 511, 559, 571, 575, 590, 594, 600, 607, 608, 610, 611, 612, 619, 627, 640, 643, 650, 654, 656, 659, 667, 669, 685, 701, 726, 729, 737, 777, 779, 782, 783, 787, 790, 791, 809, 817, 819, 830, 833, 834, 836, 845, 856, 857, 860, 862, 875, 880, 887, 888, 899, 900, 914, 918, 921, 928, 929, 930, 931]",
         "[12, 24, 25, 28, 88, 100, 104, 119, 123, 129, 136, 137, 139, 140, 141, 148, 155, 169, 172, 179, 183, 185, 188, 196, 198, 217, 237, 267, 270, 278, 319, 321, 324, 325, 330, 334, 335, 354, 366, 369, 380, 383, 384, 386, 395, 407, 411, 423, 428, 436, 437, 452, 453, 456, 467, 471, 477, 478, 479, 497, 508, 511, 559, 571, 575, 590, 594, 600, 607, 608, 610, 611, 612, 619, 627, 640, 643, 650, 654, 656, 659, 667, 669, 685, 701, 726, 729, 737, 777, 779, 782, 783, 787, 790, 791, 809, 817, 819, 830, 833, 834, 836, 845, 856, 857, 860, 862, 875, 880, 887, 888, 899, 900, 914, 918, 921, 928, 929, 930]",
         "7/6 successful match",
         "True",
         null,
         "False",
         "8",
         "[20, 21, 22]",
         "True",
         "46; 46",
         "Utah; Utah",
         "TOP STOP # 40; TOP STOP # 40",
         "http://www.rvandtravelers.com/location_details.php?id=12442; https://www.truckstopsandservices.com/location_details.php?id=12442",
         "RVer; Trucker",
         "chevron; chevron",
         "nan; 40.449119",
         "nan; -109.502159",
         "nan; nan",
         "40.449119; 40.449119",
         "-109.502159; -109.502159",
         "US 40; US 40",
         "nan; nan",
         "1355 E HWY 40; 1355 E HWY 40",
         "VERNAL; VERNAL",
         "UT; UT",
         "84078; 84078",
         "435-789-8292 (TRAVEL CENTER); 435-789-8292 (TRAVEL CENTER)",
         "435-789-3944; 435-789-3944",
         "nan; nan",
         "nan; nan",
         "nan; nan",
         "nan; nan",
         "nan; nan",
         "nan; nan",
         "nan; nan",
         "nan; nan",
         "[929, 478]",
         "46; 46",
         "Utah; Utah",
         "TOP STOP # 40; TOP STOP # 40",
         "http://www.rvandtravelers.com/location_details.php?id=12442; https://www.truckstopsandservices.com/location_details.php?id=12442",
         "RVer; Trucker",
         "chevron; chevron",
         "nan; 40.449119",
         "nan; -109.502159",
         "nan; nan",
         "40.449119; 40.449119",
         "-109.502159; -109.502159",
         "US 40; US 40",
         "nan; nan",
         "1355 E HWY 40; 1355 E HWY 40",
         "VERNAL; VERNAL",
         "UT; UT",
         "84078; 84078",
         "435-789-8292 (TRAVEL CENTER); 435-789-8292 (TRAVEL CENTER)",
         "435-789-3944; 435-789-3944",
         "nan; nan",
         "nan; nan",
         "nan; nan",
         "nan; nan",
         "nan; nan",
         "nan; nan",
         "nan; nan",
         "nan; nan",
         null,
         null,
         null,
         null,
         null,
         null,
         null,
         null,
         null,
         null,
         null,
         null,
         null,
         null,
         null,
         "1355 E Highway 40Vernal, UT 84078; 1355 Us 40Vernal, UT 84078; 1355 E Highway 40Vernal, UT 84078",
         "Chevron Station #355746, Top Stop Chevron - Vernal C40; nan; Top Stop Convenience Stores, Sinclair Oil, Top Stop #40",
         "Chevron; Top Stop Chevron-Vernal C40; Top Stop Chevron - Vernal C40",
         "https://www.yellowpages.com/vernal-ut/mip/chevron-466537643; https://www.yellowpages.com/vernal-ut/mip/top-stop-chevron-vernal-c40-569848699; https://www.yellowpages.com/vernal-ut/mip/top-stop-chevron-vernal-c40-8992234",
         "Gas Stations, Convenience Stores, Take Out Restaurants; Gas Companies, Gas Stations; Gas Stations, Convenience Stores",
         "281 286 4882, 435 657 7123; nan; 435 789 3944, 435 657 7123",
         "nan; nan; nan",
         "Vernal; Vernal; Vernal",
         "40.44913; 40.2828; 40.44913",
         "-109.50224; -109.4699; -109.50224",
         "Chevron; Top Stop Chevron-Vernal C40; Top Stop Chevron - Vernal C40",
         "(435) 789-8292; (435) 789-8292; (435) 789-8292",
         "UT; UT; UT",
         "1355 E Highway 40; 1355 Us 40; 1355 E Highway 40",
         "84078.0; 84078.0; 84078.0",
         "435-789-8292; 435-789-8292; 435-789-8292",
         "(435) 789-8292Call; (435) 789-8292Call; (435) 789-8292Call",
         "2025-07-07T04:13:44.517Z; 2025-07-07T04:13:48.070Z; 2025-07-07T04:13:51.869Z",
         "https://www.yellowpages.com/search?search_terms=435+789+8292; https://www.yellowpages.com/search?search_terms=435+789+8292; https://www.yellowpages.com/search?search_terms=435+789+8292",
         "nan; nan; nan",
         "https://topstopstores.com; https://topstopstores.com; http://sinclairoil.com",
         "11.61646809310193",
         "Webscraped vs YellowPages (Phone)",
         "0.0043262154392004",
         "Webscraped vs YellowPages (Phone)",
         "0.0043262154392004",
         "Webscraped vs YellowPages (Phone)",
         "40.4491245",
         "-109.5021995",
         null,
         null,
         null,
         null,
         "40.4491245",
         "-109.5021995",
         "OK",
         "1355 US-40, Vernal, UT 84078, USA",
         "40.4495715",
         "-109.5021486",
         "ChIJfXoOTKNjRYcRLrtuerxejQo",
         "premise,street_address"
        ],
        [
         "46",
         "D Vernal ( 84078 ) Top Stop # 40 ( Chevron )",
         "435-789-8292 1355 US 40 E",
         "24 S <U+25A1>",
         "Vernal",
         "84078",
         "Top Stop # 40 ( Chevron )",
         "435-789-8292",
         "2015",
         "Vernal",
         "UT",
         "Chevron",
         null,
         "1355 US 40 E",
         "Proper",
         null,
         null,
         null,
         "False",
         null,
         "False",
         "US 40",
         null,
         null,
         null,
         null,
         "[929, 478]",
         "[478, 929]",
         "[472, 478, 919, 929]",
         "[]",
         "[398, 399, 400, 401, 402, 403, 404, 405, 406, 407, 408, 409, 410, 411, 412, 413, 414, 415, 416, 417, 418, 419, 420, 421, 422, 423, 424, 425, 426, 427, 428, 429, 430, 431, 432, 433, 434, 435, 436, 437, 438, 439, 440, 441, 442, 443, 444, 445, 446, 447, 448, 449, 450, 451, 452, 453, 454, 455, 456, 457, 458, 459, 460, 461, 462, 463, 464, 465, 466, 467, 468, 469, 470, 471, 472, 473, 474, 475, 476, 477, 478, 479, 480, 481, 482, 483, 484, 848, 849, 850, 851, 852, 853, 854, 855, 856, 857, 858, 859, 860, 861, 862, 863, 864, 865, 866, 867, 868, 869, 870, 871, 872, 873, 874, 875, 876, 877, 878, 879, 880, 881, 882, 883, 884, 885, 886, 887, 888, 889, 890, 891, 892, 893, 894, 895, 896, 897, 898, 899, 900, 901, 902, 903, 904, 905, 906, 907, 908, 909, 910, 911, 912, 913, 914, 915, 916, 917, 918, 919, 920, 921, 922, 923, 924, 925, 926, 927, 928, 929, 930, 931, 932, 933, 934, 935]",
         "[4, 11, 18, 21, 23, 26, 27, 28, 31, 35, 36, 43, 45, 52, 55, 56, 60, 62, 64, 70, 71, 80, 90, 94, 97, 183, 197, 232, 334, 426, 455, 472, 477, 478, 480, 483, 484, 490, 496, 505, 507, 509, 510, 511, 514, 516, 517, 523, 525, 529, 532, 533, 536, 538, 545, 546, 552, 561, 565, 568, 654, 668, 696, 790, 857, 878, 902, 919, 928, 929, 932, 934, 935]",
         "[12, 24, 25, 28, 88, 100, 104, 119, 123, 129, 136, 137, 139, 140, 141, 148, 155, 169, 172, 179, 183, 185, 188, 196, 198, 217, 237, 267, 270, 278, 319, 321, 324, 325, 330, 334, 335, 354, 366, 369, 380, 383, 384, 386, 395, 407, 411, 423, 428, 436, 437, 452, 453, 456, 467, 471, 477, 478, 479, 497, 508, 511, 559, 571, 575, 590, 594, 600, 607, 608, 610, 611, 612, 619, 627, 640, 643, 650, 654, 656, 659, 667, 669, 685, 701, 726, 729, 737, 777, 779, 782, 783, 787, 790, 791, 809, 817, 819, 830, 833, 834, 836, 845, 856, 857, 860, 862, 875, 880, 887, 888, 899, 900, 914, 918, 921, 928, 929, 930]",
         "[12, 24, 25, 28, 88, 100, 104, 119, 123, 129, 136, 137, 139, 140, 141, 148, 155, 169, 172, 179, 183, 185, 188, 196, 198, 217, 237, 267, 270, 278, 319, 321, 324, 325, 330, 334, 335, 354, 366, 369, 380, 383, 384, 386, 395, 407, 411, 423, 428, 436, 437, 452, 453, 456, 467, 471, 477, 478, 479, 497, 508, 511, 559, 571, 575, 590, 594, 600, 607, 608, 610, 611, 612, 619, 627, 640, 643, 650, 654, 656, 659, 667, 669, 685, 701, 726, 729, 737, 777, 779, 782, 783, 787, 790, 791, 809, 817, 819, 830, 833, 834, 836, 845, 856, 857, 860, 862, 875, 880, 887, 888, 899, 900, 914, 918, 921, 928, 929, 930, 931]",
         "[4, 11, 12, 18, 21, 23, 24, 25, 26, 27, 28, 31, 35, 36, 43, 45, 52, 55, 56, 60, 62, 64, 70, 71, 80, 88, 90, 94, 97, 100, 104, 119, 123, 129, 136, 137, 139, 140, 141, 148, 155, 169, 172, 179, 183, 185, 188, 196, 197, 198, 217, 232, 237, 267, 270, 278, 319, 321, 324, 325, 330, 334, 335, 354, 366, 369, 380, 383, 384, 386, 395, 398, 399, 400, 401, 402, 403, 404, 405, 406, 407, 408, 409, 410, 411, 412, 413, 414, 415, 416, 417, 418, 419, 420, 421, 422, 423, 424, 425, 426, 427, 428, 429, 430, 431, 432, 433, 434, 435, 436, 437, 438, 439, 440, 441, 442, 443, 444, 445, 446, 447, 448, 449, 450, 451, 452, 453, 454, 455, 456, 457, 458, 459, 460, 461, 462, 463, 464, 465, 466, 467, 468, 469, 470, 471, 472, 473, 474, 475, 476, 477, 478, 479, 480, 481, 482, 483, 484, 490, 496, 497, 505, 507, 508, 509, 510, 511, 514, 516, 517, 523, 525, 529, 532, 533, 536, 538, 545, 546, 552, 559, 561, 565, 568, 571, 575, 590, 594, 600, 607, 608, 610, 611, 612, 619, 627, 640, 643, 650, 654, 656, 659, 667, 668, 669, 685, 696, 701, 726, 729, 737, 777, 779, 782, 783, 787, 790, 791, 809, 817, 819, 830, 833, 834, 836, 845, 848, 849, 850, 851, 852, 853, 854, 855, 856, 857, 858, 859, 860, 861, 862, 863, 864, 865, 866, 867, 868, 869, 870, 871, 872, 873, 874, 875, 876, 877, 878, 879, 880, 881, 882, 883, 884, 885, 886, 887, 888, 889, 890, 891, 892, 893, 894, 895, 896, 897, 898, 899, 900, 901, 902, 903, 904, 905, 906, 907, 908, 909, 910, 911, 912, 913, 914, 915, 916, 917, 918, 919, 920, 921, 922, 923, 924, 925, 926, 927, 928, 929, 930, 931, 932, 933, 934, 935]",
         "[929, 478]",
         "True",
         "[478, 929]",
         "[398, 399, 400, 401, 402, 403, 404, 405, 406, 407, 408, 409, 410, 411, 412, 413, 414, 415, 416, 417, 418, 419, 420, 421, 422, 423, 424, 425, 426, 427, 428, 429, 430, 431, 432, 433, 434, 435, 436, 437, 438, 439, 440, 441, 442, 443, 444, 445, 446, 447, 448, 449, 450, 451, 452, 453, 454, 455, 456, 457, 458, 459, 460, 461, 462, 463, 464, 465, 466, 467, 468, 469, 470, 471, 472, 473, 474, 475, 476, 477, 478, 479, 480, 481, 482, 483, 484, 848, 849, 850, 851, 852, 853, 854, 855, 856, 857, 858, 859, 860, 861, 862, 863, 864, 865, 866, 867, 868, 869, 870, 871, 872, 873, 874, 875, 876, 877, 878, 879, 880, 881, 882, 883, 884, 885, 886, 887, 888, 889, 890, 891, 892, 893, 894, 895, 896, 897, 898, 899, 900, 901, 902, 903, 904, 905, 906, 907, 908, 909, 910, 911, 912, 913, 914, 915, 916, 917, 918, 919, 920, 921, 922, 923, 924, 925, 926, 927, 928, 929, 930, 931, 932, 933, 934, 935]",
         "[472, 478, 919, 929]",
         "[]",
         "[4, 11, 18, 21, 23, 26, 27, 28, 31, 35, 36, 43, 45, 52, 55, 56, 60, 62, 64, 70, 71, 80, 90, 94, 97, 183, 197, 232, 334, 426, 455, 472, 477, 478, 480, 483, 484, 490, 496, 505, 507, 509, 510, 511, 514, 516, 517, 523, 525, 529, 532, 533, 536, 538, 545, 546, 552, 561, 565, 568, 654, 668, 696, 790, 857, 878, 902, 919, 928, 929, 932, 934, 935]",
         "[12, 24, 25, 28, 88, 100, 104, 119, 123, 129, 136, 137, 139, 140, 141, 148, 155, 169, 172, 179, 183, 185, 188, 196, 198, 217, 237, 267, 270, 278, 319, 321, 324, 325, 330, 334, 335, 354, 366, 369, 380, 383, 384, 386, 395, 407, 411, 423, 428, 436, 437, 452, 453, 456, 467, 471, 477, 478, 479, 497, 508, 511, 559, 571, 575, 590, 594, 600, 607, 608, 610, 611, 612, 619, 627, 640, 643, 650, 654, 656, 659, 667, 669, 685, 701, 726, 729, 737, 777, 779, 782, 783, 787, 790, 791, 809, 817, 819, 830, 833, 834, 836, 845, 856, 857, 860, 862, 875, 880, 887, 888, 899, 900, 914, 918, 921, 928, 929, 930, 931]",
         "[12, 24, 25, 28, 88, 100, 104, 119, 123, 129, 136, 137, 139, 140, 141, 148, 155, 169, 172, 179, 183, 185, 188, 196, 198, 217, 237, 267, 270, 278, 319, 321, 324, 325, 330, 334, 335, 354, 366, 369, 380, 383, 384, 386, 395, 407, 411, 423, 428, 436, 437, 452, 453, 456, 467, 471, 477, 478, 479, 497, 508, 511, 559, 571, 575, 590, 594, 600, 607, 608, 610, 611, 612, 619, 627, 640, 643, 650, 654, 656, 659, 667, 669, 685, 701, 726, 729, 737, 777, 779, 782, 783, 787, 790, 791, 809, 817, 819, 830, 833, 834, 836, 845, 856, 857, 860, 862, 875, 880, 887, 888, 899, 900, 914, 918, 921, 928, 929, 930]",
         "7/6 successful match",
         "True",
         null,
         "False",
         "8",
         "[20, 21, 22]",
         "True",
         "46; 46",
         "Utah; Utah",
         "TOP STOP # 40; TOP STOP # 40",
         "http://www.rvandtravelers.com/location_details.php?id=12442; https://www.truckstopsandservices.com/location_details.php?id=12442",
         "RVer; Trucker",
         "chevron; chevron",
         "nan; 40.449119",
         "nan; -109.502159",
         "nan; nan",
         "40.449119; 40.449119",
         "-109.502159; -109.502159",
         "US 40; US 40",
         "nan; nan",
         "1355 E HWY 40; 1355 E HWY 40",
         "VERNAL; VERNAL",
         "UT; UT",
         "84078; 84078",
         "435-789-8292 (TRAVEL CENTER); 435-789-8292 (TRAVEL CENTER)",
         "435-789-3944; 435-789-3944",
         "nan; nan",
         "nan; nan",
         "nan; nan",
         "nan; nan",
         "nan; nan",
         "nan; nan",
         "nan; nan",
         "nan; nan",
         "[929, 478]",
         "46; 46",
         "Utah; Utah",
         "TOP STOP # 40; TOP STOP # 40",
         "http://www.rvandtravelers.com/location_details.php?id=12442; https://www.truckstopsandservices.com/location_details.php?id=12442",
         "RVer; Trucker",
         "chevron; chevron",
         "nan; 40.449119",
         "nan; -109.502159",
         "nan; nan",
         "40.449119; 40.449119",
         "-109.502159; -109.502159",
         "US 40; US 40",
         "nan; nan",
         "1355 E HWY 40; 1355 E HWY 40",
         "VERNAL; VERNAL",
         "UT; UT",
         "84078; 84078",
         "435-789-8292 (TRAVEL CENTER); 435-789-8292 (TRAVEL CENTER)",
         "435-789-3944; 435-789-3944",
         "nan; nan",
         "nan; nan",
         "nan; nan",
         "nan; nan",
         "nan; nan",
         "nan; nan",
         "nan; nan",
         "nan; nan",
         null,
         null,
         null,
         null,
         null,
         null,
         null,
         null,
         null,
         null,
         null,
         null,
         null,
         null,
         null,
         "1355 E Highway 40Vernal, UT 84078; 1355 Us 40Vernal, UT 84078; 1355 E Highway 40Vernal, UT 84078",
         "Chevron Station #355746, Top Stop Chevron - Vernal C40; nan; Top Stop Convenience Stores, Sinclair Oil, Top Stop #40",
         "Chevron; Top Stop Chevron-Vernal C40; Top Stop Chevron - Vernal C40",
         "https://www.yellowpages.com/vernal-ut/mip/chevron-466537643; https://www.yellowpages.com/vernal-ut/mip/top-stop-chevron-vernal-c40-569848699; https://www.yellowpages.com/vernal-ut/mip/top-stop-chevron-vernal-c40-8992234",
         "Gas Stations, Convenience Stores, Take Out Restaurants; Gas Companies, Gas Stations; Gas Stations, Convenience Stores",
         "281 286 4882, 435 657 7123; nan; 435 789 3944, 435 657 7123",
         "nan; nan; nan",
         "Vernal; Vernal; Vernal",
         "40.44913; 40.2828; 40.44913",
         "-109.50224; -109.4699; -109.50224",
         "Chevron; Top Stop Chevron-Vernal C40; Top Stop Chevron - Vernal C40",
         "(435) 789-8292; (435) 789-8292; (435) 789-8292",
         "UT; UT; UT",
         "1355 E Highway 40; 1355 Us 40; 1355 E Highway 40",
         "84078.0; 84078.0; 84078.0",
         "435-789-8292; 435-789-8292; 435-789-8292",
         "(435) 789-8292Call; (435) 789-8292Call; (435) 789-8292Call",
         "2025-07-07T04:13:44.517Z; 2025-07-07T04:13:48.070Z; 2025-07-07T04:13:51.869Z",
         "https://www.yellowpages.com/search?search_terms=435+789+8292; https://www.yellowpages.com/search?search_terms=435+789+8292; https://www.yellowpages.com/search?search_terms=435+789+8292",
         "nan; nan; nan",
         "https://topstopstores.com; https://topstopstores.com; http://sinclairoil.com",
         "11.61646809310193",
         "Webscraped vs YellowPages (Phone)",
         "0.0043262154392004",
         "Webscraped vs YellowPages (Phone)",
         "0.0043262154392004",
         "Webscraped vs YellowPages (Phone)",
         "40.4491245",
         "-109.5021995",
         null,
         null,
         null,
         null,
         "40.4491245",
         "-109.5021995",
         "OK",
         "1355 US-40, Vernal, UT 84078, USA",
         "40.4495715",
         "-109.5021486",
         "ChIJfXoOTKNjRYcRLrtuerxejQo",
         "premise,street_address"
        ],
        [
         "47",
         "Vernal ( 84078 ) Top Stop # 40 ( Chevron )",
         "435-789-8292 1355 US 40 E",
         "24 OSO D",
         "Vernal",
         "84078",
         "Top Stop # 40 ( Chevron )",
         "435-789-8292",
         "2016",
         "Vernal",
         "UT",
         "Chevron",
         null,
         "1355 US 40 E",
         "Proper",
         null,
         null,
         null,
         "False",
         null,
         "False",
         "US 40",
         null,
         null,
         null,
         null,
         "[929, 478]",
         "[478, 929]",
         "[472, 478, 919, 929]",
         "[]",
         "[398, 399, 400, 401, 402, 403, 404, 405, 406, 407, 408, 409, 410, 411, 412, 413, 414, 415, 416, 417, 418, 419, 420, 421, 422, 423, 424, 425, 426, 427, 428, 429, 430, 431, 432, 433, 434, 435, 436, 437, 438, 439, 440, 441, 442, 443, 444, 445, 446, 447, 448, 449, 450, 451, 452, 453, 454, 455, 456, 457, 458, 459, 460, 461, 462, 463, 464, 465, 466, 467, 468, 469, 470, 471, 472, 473, 474, 475, 476, 477, 478, 479, 480, 481, 482, 483, 484, 848, 849, 850, 851, 852, 853, 854, 855, 856, 857, 858, 859, 860, 861, 862, 863, 864, 865, 866, 867, 868, 869, 870, 871, 872, 873, 874, 875, 876, 877, 878, 879, 880, 881, 882, 883, 884, 885, 886, 887, 888, 889, 890, 891, 892, 893, 894, 895, 896, 897, 898, 899, 900, 901, 902, 903, 904, 905, 906, 907, 908, 909, 910, 911, 912, 913, 914, 915, 916, 917, 918, 919, 920, 921, 922, 923, 924, 925, 926, 927, 928, 929, 930, 931, 932, 933, 934, 935]",
         "[4, 11, 18, 21, 23, 26, 27, 28, 31, 35, 36, 43, 45, 52, 55, 56, 60, 62, 64, 70, 71, 80, 90, 94, 97, 183, 197, 232, 334, 426, 455, 472, 477, 478, 480, 483, 484, 490, 496, 505, 507, 509, 510, 511, 514, 516, 517, 523, 525, 529, 532, 533, 536, 538, 545, 546, 552, 561, 565, 568, 654, 668, 696, 790, 857, 878, 902, 919, 928, 929, 932, 934, 935]",
         "[12, 24, 25, 28, 88, 100, 104, 119, 123, 129, 136, 137, 139, 140, 141, 148, 155, 169, 172, 179, 183, 185, 188, 196, 198, 217, 237, 267, 270, 278, 319, 321, 324, 325, 330, 334, 335, 354, 366, 369, 380, 383, 384, 386, 395, 407, 411, 423, 428, 436, 437, 452, 453, 456, 467, 471, 477, 478, 479, 497, 508, 511, 559, 571, 575, 590, 594, 600, 607, 608, 610, 611, 612, 619, 627, 640, 643, 650, 654, 656, 659, 667, 669, 685, 701, 726, 729, 737, 777, 779, 782, 783, 787, 790, 791, 809, 817, 819, 830, 833, 834, 836, 845, 856, 857, 860, 862, 875, 880, 887, 888, 899, 900, 914, 918, 921, 928, 929, 930]",
         "[12, 24, 25, 28, 88, 100, 104, 119, 123, 129, 136, 137, 139, 140, 141, 148, 155, 169, 172, 179, 183, 185, 188, 196, 198, 217, 237, 267, 270, 278, 319, 321, 324, 325, 330, 334, 335, 354, 366, 369, 380, 383, 384, 386, 395, 407, 411, 423, 428, 436, 437, 452, 453, 456, 467, 471, 477, 478, 479, 497, 508, 511, 559, 571, 575, 590, 594, 600, 607, 608, 610, 611, 612, 619, 627, 640, 643, 650, 654, 656, 659, 667, 669, 685, 701, 726, 729, 737, 777, 779, 782, 783, 787, 790, 791, 809, 817, 819, 830, 833, 834, 836, 845, 856, 857, 860, 862, 875, 880, 887, 888, 899, 900, 914, 918, 921, 928, 929, 930, 931]",
         "[4, 11, 12, 18, 21, 23, 24, 25, 26, 27, 28, 31, 35, 36, 43, 45, 52, 55, 56, 60, 62, 64, 70, 71, 80, 88, 90, 94, 97, 100, 104, 119, 123, 129, 136, 137, 139, 140, 141, 148, 155, 169, 172, 179, 183, 185, 188, 196, 197, 198, 217, 232, 237, 267, 270, 278, 319, 321, 324, 325, 330, 334, 335, 354, 366, 369, 380, 383, 384, 386, 395, 398, 399, 400, 401, 402, 403, 404, 405, 406, 407, 408, 409, 410, 411, 412, 413, 414, 415, 416, 417, 418, 419, 420, 421, 422, 423, 424, 425, 426, 427, 428, 429, 430, 431, 432, 433, 434, 435, 436, 437, 438, 439, 440, 441, 442, 443, 444, 445, 446, 447, 448, 449, 450, 451, 452, 453, 454, 455, 456, 457, 458, 459, 460, 461, 462, 463, 464, 465, 466, 467, 468, 469, 470, 471, 472, 473, 474, 475, 476, 477, 478, 479, 480, 481, 482, 483, 484, 490, 496, 497, 505, 507, 508, 509, 510, 511, 514, 516, 517, 523, 525, 529, 532, 533, 536, 538, 545, 546, 552, 559, 561, 565, 568, 571, 575, 590, 594, 600, 607, 608, 610, 611, 612, 619, 627, 640, 643, 650, 654, 656, 659, 667, 668, 669, 685, 696, 701, 726, 729, 737, 777, 779, 782, 783, 787, 790, 791, 809, 817, 819, 830, 833, 834, 836, 845, 848, 849, 850, 851, 852, 853, 854, 855, 856, 857, 858, 859, 860, 861, 862, 863, 864, 865, 866, 867, 868, 869, 870, 871, 872, 873, 874, 875, 876, 877, 878, 879, 880, 881, 882, 883, 884, 885, 886, 887, 888, 889, 890, 891, 892, 893, 894, 895, 896, 897, 898, 899, 900, 901, 902, 903, 904, 905, 906, 907, 908, 909, 910, 911, 912, 913, 914, 915, 916, 917, 918, 919, 920, 921, 922, 923, 924, 925, 926, 927, 928, 929, 930, 931, 932, 933, 934, 935]",
         "[929, 478]",
         "True",
         "[478, 929]",
         "[398, 399, 400, 401, 402, 403, 404, 405, 406, 407, 408, 409, 410, 411, 412, 413, 414, 415, 416, 417, 418, 419, 420, 421, 422, 423, 424, 425, 426, 427, 428, 429, 430, 431, 432, 433, 434, 435, 436, 437, 438, 439, 440, 441, 442, 443, 444, 445, 446, 447, 448, 449, 450, 451, 452, 453, 454, 455, 456, 457, 458, 459, 460, 461, 462, 463, 464, 465, 466, 467, 468, 469, 470, 471, 472, 473, 474, 475, 476, 477, 478, 479, 480, 481, 482, 483, 484, 848, 849, 850, 851, 852, 853, 854, 855, 856, 857, 858, 859, 860, 861, 862, 863, 864, 865, 866, 867, 868, 869, 870, 871, 872, 873, 874, 875, 876, 877, 878, 879, 880, 881, 882, 883, 884, 885, 886, 887, 888, 889, 890, 891, 892, 893, 894, 895, 896, 897, 898, 899, 900, 901, 902, 903, 904, 905, 906, 907, 908, 909, 910, 911, 912, 913, 914, 915, 916, 917, 918, 919, 920, 921, 922, 923, 924, 925, 926, 927, 928, 929, 930, 931, 932, 933, 934, 935]",
         "[472, 478, 919, 929]",
         "[]",
         "[4, 11, 18, 21, 23, 26, 27, 28, 31, 35, 36, 43, 45, 52, 55, 56, 60, 62, 64, 70, 71, 80, 90, 94, 97, 183, 197, 232, 334, 426, 455, 472, 477, 478, 480, 483, 484, 490, 496, 505, 507, 509, 510, 511, 514, 516, 517, 523, 525, 529, 532, 533, 536, 538, 545, 546, 552, 561, 565, 568, 654, 668, 696, 790, 857, 878, 902, 919, 928, 929, 932, 934, 935]",
         "[12, 24, 25, 28, 88, 100, 104, 119, 123, 129, 136, 137, 139, 140, 141, 148, 155, 169, 172, 179, 183, 185, 188, 196, 198, 217, 237, 267, 270, 278, 319, 321, 324, 325, 330, 334, 335, 354, 366, 369, 380, 383, 384, 386, 395, 407, 411, 423, 428, 436, 437, 452, 453, 456, 467, 471, 477, 478, 479, 497, 508, 511, 559, 571, 575, 590, 594, 600, 607, 608, 610, 611, 612, 619, 627, 640, 643, 650, 654, 656, 659, 667, 669, 685, 701, 726, 729, 737, 777, 779, 782, 783, 787, 790, 791, 809, 817, 819, 830, 833, 834, 836, 845, 856, 857, 860, 862, 875, 880, 887, 888, 899, 900, 914, 918, 921, 928, 929, 930, 931]",
         "[12, 24, 25, 28, 88, 100, 104, 119, 123, 129, 136, 137, 139, 140, 141, 148, 155, 169, 172, 179, 183, 185, 188, 196, 198, 217, 237, 267, 270, 278, 319, 321, 324, 325, 330, 334, 335, 354, 366, 369, 380, 383, 384, 386, 395, 407, 411, 423, 428, 436, 437, 452, 453, 456, 467, 471, 477, 478, 479, 497, 508, 511, 559, 571, 575, 590, 594, 600, 607, 608, 610, 611, 612, 619, 627, 640, 643, 650, 654, 656, 659, 667, 669, 685, 701, 726, 729, 737, 777, 779, 782, 783, 787, 790, 791, 809, 817, 819, 830, 833, 834, 836, 845, 856, 857, 860, 862, 875, 880, 887, 888, 899, 900, 914, 918, 921, 928, 929, 930]",
         "7/6 successful match",
         "True",
         null,
         "False",
         "8",
         "[20, 21, 22]",
         "True",
         "46; 46",
         "Utah; Utah",
         "TOP STOP # 40; TOP STOP # 40",
         "http://www.rvandtravelers.com/location_details.php?id=12442; https://www.truckstopsandservices.com/location_details.php?id=12442",
         "RVer; Trucker",
         "chevron; chevron",
         "nan; 40.449119",
         "nan; -109.502159",
         "nan; nan",
         "40.449119; 40.449119",
         "-109.502159; -109.502159",
         "US 40; US 40",
         "nan; nan",
         "1355 E HWY 40; 1355 E HWY 40",
         "VERNAL; VERNAL",
         "UT; UT",
         "84078; 84078",
         "435-789-8292 (TRAVEL CENTER); 435-789-8292 (TRAVEL CENTER)",
         "435-789-3944; 435-789-3944",
         "nan; nan",
         "nan; nan",
         "nan; nan",
         "nan; nan",
         "nan; nan",
         "nan; nan",
         "nan; nan",
         "nan; nan",
         "[929, 478]",
         "46; 46",
         "Utah; Utah",
         "TOP STOP # 40; TOP STOP # 40",
         "http://www.rvandtravelers.com/location_details.php?id=12442; https://www.truckstopsandservices.com/location_details.php?id=12442",
         "RVer; Trucker",
         "chevron; chevron",
         "nan; 40.449119",
         "nan; -109.502159",
         "nan; nan",
         "40.449119; 40.449119",
         "-109.502159; -109.502159",
         "US 40; US 40",
         "nan; nan",
         "1355 E HWY 40; 1355 E HWY 40",
         "VERNAL; VERNAL",
         "UT; UT",
         "84078; 84078",
         "435-789-8292 (TRAVEL CENTER); 435-789-8292 (TRAVEL CENTER)",
         "435-789-3944; 435-789-3944",
         "nan; nan",
         "nan; nan",
         "nan; nan",
         "nan; nan",
         "nan; nan",
         "nan; nan",
         "nan; nan",
         "nan; nan",
         null,
         null,
         null,
         null,
         null,
         null,
         null,
         null,
         null,
         null,
         null,
         null,
         null,
         null,
         null,
         "1355 E Highway 40Vernal, UT 84078; 1355 Us 40Vernal, UT 84078; 1355 E Highway 40Vernal, UT 84078",
         "Chevron Station #355746, Top Stop Chevron - Vernal C40; nan; Top Stop Convenience Stores, Sinclair Oil, Top Stop #40",
         "Chevron; Top Stop Chevron-Vernal C40; Top Stop Chevron - Vernal C40",
         "https://www.yellowpages.com/vernal-ut/mip/chevron-466537643; https://www.yellowpages.com/vernal-ut/mip/top-stop-chevron-vernal-c40-569848699; https://www.yellowpages.com/vernal-ut/mip/top-stop-chevron-vernal-c40-8992234",
         "Gas Stations, Convenience Stores, Take Out Restaurants; Gas Companies, Gas Stations; Gas Stations, Convenience Stores",
         "281 286 4882, 435 657 7123; nan; 435 789 3944, 435 657 7123",
         "nan; nan; nan",
         "Vernal; Vernal; Vernal",
         "40.44913; 40.2828; 40.44913",
         "-109.50224; -109.4699; -109.50224",
         "Chevron; Top Stop Chevron-Vernal C40; Top Stop Chevron - Vernal C40",
         "(435) 789-8292; (435) 789-8292; (435) 789-8292",
         "UT; UT; UT",
         "1355 E Highway 40; 1355 Us 40; 1355 E Highway 40",
         "84078.0; 84078.0; 84078.0",
         "435-789-8292; 435-789-8292; 435-789-8292",
         "(435) 789-8292Call; (435) 789-8292Call; (435) 789-8292Call",
         "2025-07-07T04:13:44.517Z; 2025-07-07T04:13:48.070Z; 2025-07-07T04:13:51.869Z",
         "https://www.yellowpages.com/search?search_terms=435+789+8292; https://www.yellowpages.com/search?search_terms=435+789+8292; https://www.yellowpages.com/search?search_terms=435+789+8292",
         "nan; nan; nan",
         "https://topstopstores.com; https://topstopstores.com; http://sinclairoil.com",
         "11.61646809310193",
         "Webscraped vs YellowPages (Phone)",
         "0.0043262154392004",
         "Webscraped vs YellowPages (Phone)",
         "0.0043262154392004",
         "Webscraped vs YellowPages (Phone)",
         "40.4491245",
         "-109.5021995",
         null,
         null,
         null,
         null,
         "40.4491245",
         "-109.5021995",
         "OK",
         "1355 US-40, Vernal, UT 84078, USA",
         "40.4495715",
         "-109.5021486",
         "ChIJfXoOTKNjRYcRLrtuerxejQo",
         "premise,street_address"
        ],
        [
         "48",
         "Woods Cross , 84087 RB's One Stop ( 66 )",
         "801-295-3241 I-15 Exit 316 ( 500 S )",
         "HRS 24",
         "Woods Cross",
         "84087",
         "RB's One Stop ( 66 )",
         "801-295-3241",
         "2006",
         "Woods Cross",
         "UT",
         null,
         "( 500 S )",
         "I-15 Exit 316 ",
         "Exit",
         "316",
         "316",
         null,
         "False",
         null,
         "False",
         "I-15",
         null,
         null,
         null,
         null,
         "[464, 911]",
         "[464, 911]",
         "[464, 471, 911, 918]",
         "[464, 911]",
         "[398, 399, 400, 401, 402, 403, 404, 405, 406, 407, 408, 409, 410, 411, 412, 413, 414, 415, 416, 417, 418, 419, 420, 421, 422, 423, 424, 425, 426, 427, 428, 429, 430, 431, 432, 433, 434, 435, 436, 437, 438, 439, 440, 441, 442, 443, 444, 445, 446, 447, 448, 449, 450, 451, 452, 453, 454, 455, 456, 457, 458, 459, 460, 461, 462, 463, 464, 465, 466, 467, 468, 469, 470, 471, 472, 473, 474, 475, 476, 477, 478, 479, 480, 481, 482, 483, 484, 848, 849, 850, 851, 852, 853, 854, 855, 856, 857, 858, 859, 860, 861, 862, 863, 864, 865, 866, 867, 868, 869, 870, 871, 872, 873, 874, 875, 876, 877, 878, 879, 880, 881, 882, 883, 884, 885, 886, 887, 888, 889, 890, 891, 892, 893, 894, 895, 896, 897, 898, 899, 900, 901, 902, 903, 904, 905, 906, 907, 908, 909, 910, 911, 912, 913, 914, 915, 916, 917, 918, 919, 920, 921, 922, 923, 924, 925, 926, 927, 928, 929, 930, 931, 932, 933, 934, 935]",
         "[16, 125, 156, 163, 168, 184, 205, 222, 229, 253, 258, 265, 313, 317, 336, 340, 341, 356, 363, 365, 366, 367, 370, 375, 388, 391, 394, 396, 402, 410, 411, 412, 413, 415, 416, 417, 418, 419, 425, 429, 431, 433, 435, 437, 440, 441, 442, 443, 451, 452, 456, 457, 458, 460, 461, 464, 471, 473, 474, 475, 481, 482, 501, 596, 628, 635, 655, 675, 693, 716, 720, 725, 771, 775, 793, 796, 797, 811, 817, 818, 820, 825, 838, 841, 844, 846, 851, 857, 861, 862, 863, 864, 866, 867, 868, 870, 871, 877, 881, 883, 885, 888, 891, 892, 893, 898, 899, 904, 905, 907, 908, 911, 918, 920, 921, 922, 923, 924, 926, 931, 933]",
         "[]",
         "[401, 402, 424, 427, 464, 469, 850, 851, 876, 879, 911, 916]",
         "[916, 917, 919, 16, 920, 921, 922, 923, 388, 924, 925, 926, 927, 928, 929, 930, 931, 932, 596, 933, 934, 935, 391, 628, 635, 125, 655, 336, 156, 163, 675, 168, 340, 341, 693, 184, 394, 716, 205, 720, 725, 375, 222, 229, 396, 253, 356, 258, 771, 775, 265, 793, 796, 797, 363, 811, 365, 817, 366, 818, 820, 367, 313, 825, 317, 370, 838, 841, 844, 846, 848, 849, 850, 851, 852, 853, 854, 855, 856, 857, 858, 859, 860, 861, 862, 863, 864, 865, 866, 867, 868, 869, 870, 871, 872, 873, 874, 875, 876, 877, 878, 879, 880, 881, 882, 883, 884, 885, 886, 887, 888, 889, 890, 891, 892, 893, 894, 895, 896, 897, 898, 899, 900, 901, 902, 903, 904, 905, 906, 907, 908, 909, 398, 911, 399, 400, 401, 402, 403, 404, 918, 407, 408, 409, 410, 405, 406, 411, 412, 413, 414, 415, 416, 417, 418, 419, 420, 421, 422, 423, 424, 425, 426, 427, 428, 429, 430, 431, 432, 433, 434, 435, 436, 437, 438, 439, 440, 441, 442, 443, 444, 445, 446, 447, 448, 449, 450, 451, 452, 453, 454, 455, 456, 457, 458, 459, 460, 461, 464, 462, 463, 465, 466, 467, 468, 471, 469, 470, 472, 473, 474, 475, 476, 477, 478, 479, 480, 481, 482, 483, 484, 910, 912, 913, 501, 914, 915]",
         "[464, 911]",
         "True",
         "[464, 911]",
         "[398, 399, 400, 401, 402, 403, 404, 405, 406, 407, 408, 409, 410, 411, 412, 413, 414, 415, 416, 417, 418, 419, 420, 421, 422, 423, 424, 425, 426, 427, 428, 429, 430, 431, 432, 433, 434, 435, 436, 437, 438, 439, 440, 441, 442, 443, 444, 445, 446, 447, 448, 449, 450, 451, 452, 453, 454, 455, 456, 457, 458, 459, 460, 461, 462, 463, 464, 465, 466, 467, 468, 469, 470, 471, 472, 473, 474, 475, 476, 477, 478, 479, 480, 481, 482, 483, 484, 848, 849, 850, 851, 852, 853, 854, 855, 856, 857, 858, 859, 860, 861, 862, 863, 864, 865, 866, 867, 868, 869, 870, 871, 872, 873, 874, 875, 876, 877, 878, 879, 880, 881, 882, 883, 884, 885, 886, 887, 888, 889, 890, 891, 892, 893, 894, 895, 896, 897, 898, 899, 900, 901, 902, 903, 904, 905, 906, 907, 908, 909, 910, 911, 912, 913, 914, 915, 916, 917, 918, 919, 920, 921, 922, 923, 924, 925, 926, 927, 928, 929, 930, 931, 932, 933, 934, 935]",
         "[464, 471, 911, 918]",
         "[464, 911]",
         "[16, 125, 156, 163, 168, 184, 205, 222, 229, 253, 258, 265, 313, 317, 336, 340, 341, 356, 363, 365, 366, 367, 370, 375, 388, 391, 394, 396, 402, 410, 411, 412, 413, 415, 416, 417, 418, 419, 425, 429, 431, 433, 435, 437, 440, 441, 442, 443, 451, 452, 456, 457, 458, 460, 461, 464, 471, 473, 474, 475, 481, 482, 501, 596, 628, 635, 655, 675, 693, 716, 720, 725, 771, 775, 793, 796, 797, 811, 817, 818, 820, 825, 838, 841, 844, 846, 851, 857, 861, 862, 863, 864, 866, 867, 868, 870, 871, 877, 881, 883, 885, 888, 891, 892, 893, 898, 899, 904, 905, 907, 908, 911, 918, 920, 921, 922, 923, 924, 926, 931, 933]",
         "[401, 402, 424, 427, 464, 469, 850, 851, 876, 879, 911, 916]",
         "[]",
         "7/6 successful match",
         "True",
         "[453]",
         "True",
         "9",
         "[23, 24, 25]",
         "True",
         "46; 46",
         "Utah; Utah",
         "RB'S ONE STOP; RB'S ONE STOP",
         "https://www.truckstopsandservices.com/location_details.php?id=2724; http://www.rvandtravelers.com/location_details.php?id=2724",
         "Trucker; RVer",
         "66 gas; 66 gas",
         "40.883317; nan",
         "-111.898937; nan",
         "nan; nan",
         "40.883317; 40.883317",
         "-111.898937; -111.898937",
         "I-15; I-15",
         "316; 316",
         "527 S 700 W; 527 S 700 W",
         "WOODS CROSS; WOODS CROSS",
         "UT; UT",
         "84087; 84087",
         "801-295-3241 (TRAVEL CENTER); 801-295-3241 (TRAVEL CENTER)",
         "801-298-0599; 801-298-0599",
         "801-295-3241 (DAIRY QUEEN); 801-295-3241 (DAIRY QUEEN)",
         "nan; nan",
         "nan; nan",
         "nan; nan",
         "nan; nan",
         "nan; nan",
         "nan; nan",
         "nan; nan",
         "[464, 911]",
         "46; 46",
         "Utah; Utah",
         "RB'S ONE STOP; RB'S ONE STOP",
         "https://www.truckstopsandservices.com/location_details.php?id=2724; http://www.rvandtravelers.com/location_details.php?id=2724",
         "Trucker; RVer",
         "66 gas; 66 gas",
         "40.883317; nan",
         "-111.898937; nan",
         "nan; nan",
         "40.883317; 40.883317",
         "-111.898937; -111.898937",
         "I-15; I-15",
         "316; 316",
         "527 S 700 W; 527 S 700 W",
         "WOODS CROSS; WOODS CROSS",
         "UT; UT",
         "84087; 84087",
         "801-295-3241 (TRAVEL CENTER); 801-295-3241 (TRAVEL CENTER)",
         "801-298-0599; 801-298-0599",
         "801-295-3241 (DAIRY QUEEN); 801-295-3241 (DAIRY QUEEN)",
         "nan; nan",
         "nan; nan",
         "nan; nan",
         "nan; nan",
         "nan; nan",
         "nan; nan",
         "nan; nan",
         "18012953241",
         "RB's One Stop",
         "3.3",
         "3.0",
         "527 S 700th W, Woods Cross, UT 84087",
         "Woods Cross",
         "UT",
         "84087.0",
         "(801) 295-3241",
         "Gas Stations, Convenience Stores, Car Wash",
         "40.8839051",
         "-111.8991028",
         "$",
         "False",
         "https://www.yelp.com/biz/rbs-one-stop-woods-cross?adjust_creative=xElCeMfmOucjLmXEMhJkIg&utm_campaign=yelp_api_v3&utm_medium=api_v3_phone_search&utm_source=xElCeMfmOucjLmXEMhJkIg",
         "527 S 700 WWoods Cross, UT 84087; 527 S 700 WWoods Cross, UT 84087; 527 S 700 WWoods Cross, UT 84087",
         "nan; Rb's Onestop; Rb's Onestop",
         "Rbs Interstate; Phillips 66; Phillips 66",
         "https://www.yellowpages.com/woods-cross-ut/mip/rbs-interstate-475993584; https://www.yellowpages.com/woods-cross-ut/mip/phillips-66-476002699; https://www.yellowpages.com/woods-cross-ut/mip/phillips-66-476002699#photo-gallery",
         "Gas Stations, Convenience Stores; Gas Stations, Convenience Stores; Gas Stations, Convenience Stores",
         "nan; 801 294 7731; 801 294 7731",
         "nan; nan; nan",
         "Woods Cross; Woods Cross; Woods Cross",
         "40.884045; 40.884045; 40.884045",
         "-111.89892; -111.89892; -111.89892",
         "Rbs Interstate; Phillips 66; Phillips 66",
         "(801) 295-3241; (801) 295-3241; (801) 295-3241",
         "UT; UT; UT",
         "527 S 700 W; 527 S 700 W; 527 S 700 W",
         "84087.0; 84087.0; 84087.0",
         "801-295-3241; 801-295-3241; 801-295-3241",
         "(801) 295-3241Call; (801) 295-3241Call; (801) 295-3241Call",
         "2025-07-07T04:14:00.403Z; 2025-07-07T04:14:03.616Z; 2025-07-07T04:14:05.652Z",
         "https://www.yellowpages.com/search?search_terms=801+295+3241; https://www.yellowpages.com/search?search_terms=801+295+3241; https://www.yellowpages.com/search?search_terms=801+295+3241",
         "nan; nan; nan",
         "http://www.phillips66.com; https://www.phillips66gas.com; https://www.phillips66gas.com",
         "0.0503083392446808",
         "Webscraped vs YellowPages (Phone)",
         "0.0415470219369687",
         "Webscraped vs Yelp (Phone)",
         "0.013587527659739",
         "Yelp (Phone) vs YellowPages (Phone)",
         "40.88361105",
         "-111.8990199",
         null,
         null,
         null,
         null,
         "40.88361105",
         "-111.8990199",
         null,
         null,
         null,
         null,
         null,
         null
        ],
        [
         "49",
         "Cross , 84087 RB's One Stop ( 66 )",
         "DWoods 3801-295-3241 I-15 Exit 316 ( 500 S )",
         "24 SO",
         "Cross",
         "84087",
         "RB's One Stop ( 66 )",
         "801-295-3241",
         "2007",
         "Woods Cross",
         "UT",
         null,
         "( 500 S )",
         "I-15 Exit 316 ",
         "Exit",
         "316",
         "316",
         null,
         "False",
         null,
         "False",
         "I-15",
         null,
         null,
         null,
         null,
         "[464, 911]",
         "[464, 911]",
         "[464, 471, 911, 918]",
         "[464, 911]",
         "[398, 399, 400, 401, 402, 403, 404, 405, 406, 407, 408, 409, 410, 411, 412, 413, 414, 415, 416, 417, 418, 419, 420, 421, 422, 423, 424, 425, 426, 427, 428, 429, 430, 431, 432, 433, 434, 435, 436, 437, 438, 439, 440, 441, 442, 443, 444, 445, 446, 447, 448, 449, 450, 451, 452, 453, 454, 455, 456, 457, 458, 459, 460, 461, 462, 463, 464, 465, 466, 467, 468, 469, 470, 471, 472, 473, 474, 475, 476, 477, 478, 479, 480, 481, 482, 483, 484, 848, 849, 850, 851, 852, 853, 854, 855, 856, 857, 858, 859, 860, 861, 862, 863, 864, 865, 866, 867, 868, 869, 870, 871, 872, 873, 874, 875, 876, 877, 878, 879, 880, 881, 882, 883, 884, 885, 886, 887, 888, 889, 890, 891, 892, 893, 894, 895, 896, 897, 898, 899, 900, 901, 902, 903, 904, 905, 906, 907, 908, 909, 910, 911, 912, 913, 914, 915, 916, 917, 918, 919, 920, 921, 922, 923, 924, 925, 926, 927, 928, 929, 930, 931, 932, 933, 934, 935]",
         "[16, 125, 156, 163, 168, 184, 205, 222, 229, 253, 258, 265, 313, 317, 336, 340, 341, 356, 363, 365, 366, 367, 370, 375, 388, 391, 394, 396, 402, 410, 411, 412, 413, 415, 416, 417, 418, 419, 425, 429, 431, 433, 435, 437, 440, 441, 442, 443, 451, 452, 456, 457, 458, 460, 461, 464, 471, 473, 474, 475, 481, 482, 501, 596, 628, 635, 655, 675, 693, 716, 720, 725, 771, 775, 793, 796, 797, 811, 817, 818, 820, 825, 838, 841, 844, 846, 851, 857, 861, 862, 863, 864, 866, 867, 868, 870, 871, 877, 881, 883, 885, 888, 891, 892, 893, 898, 899, 904, 905, 907, 908, 911, 918, 920, 921, 922, 923, 924, 926, 931, 933]",
         "[]",
         "[401, 402, 424, 427, 464, 469, 850, 851, 876, 879, 911, 916]",
         "[916, 917, 919, 16, 920, 921, 922, 923, 388, 924, 925, 926, 927, 928, 929, 930, 931, 932, 596, 933, 934, 935, 391, 628, 635, 125, 655, 336, 156, 163, 675, 168, 340, 341, 693, 184, 394, 716, 205, 720, 725, 375, 222, 229, 396, 253, 356, 258, 771, 775, 265, 793, 796, 797, 363, 811, 365, 817, 366, 818, 820, 367, 313, 825, 317, 370, 838, 841, 844, 846, 848, 849, 850, 851, 852, 853, 854, 855, 856, 857, 858, 859, 860, 861, 862, 863, 864, 865, 866, 867, 868, 869, 870, 871, 872, 873, 874, 875, 876, 877, 878, 879, 880, 881, 882, 883, 884, 885, 886, 887, 888, 889, 890, 891, 892, 893, 894, 895, 896, 897, 898, 899, 900, 901, 902, 903, 904, 905, 906, 907, 908, 909, 398, 911, 399, 400, 401, 402, 403, 404, 918, 407, 408, 409, 410, 405, 406, 411, 412, 413, 414, 415, 416, 417, 418, 419, 420, 421, 422, 423, 424, 425, 426, 427, 428, 429, 430, 431, 432, 433, 434, 435, 436, 437, 438, 439, 440, 441, 442, 443, 444, 445, 446, 447, 448, 449, 450, 451, 452, 453, 454, 455, 456, 457, 458, 459, 460, 461, 464, 462, 463, 465, 466, 467, 468, 471, 469, 470, 472, 473, 474, 475, 476, 477, 478, 479, 480, 481, 482, 483, 484, 910, 912, 913, 501, 914, 915]",
         "[464, 911]",
         "True",
         "[464, 911]",
         "[398, 399, 400, 401, 402, 403, 404, 405, 406, 407, 408, 409, 410, 411, 412, 413, 414, 415, 416, 417, 418, 419, 420, 421, 422, 423, 424, 425, 426, 427, 428, 429, 430, 431, 432, 433, 434, 435, 436, 437, 438, 439, 440, 441, 442, 443, 444, 445, 446, 447, 448, 449, 450, 451, 452, 453, 454, 455, 456, 457, 458, 459, 460, 461, 462, 463, 464, 465, 466, 467, 468, 469, 470, 471, 472, 473, 474, 475, 476, 477, 478, 479, 480, 481, 482, 483, 484, 848, 849, 850, 851, 852, 853, 854, 855, 856, 857, 858, 859, 860, 861, 862, 863, 864, 865, 866, 867, 868, 869, 870, 871, 872, 873, 874, 875, 876, 877, 878, 879, 880, 881, 882, 883, 884, 885, 886, 887, 888, 889, 890, 891, 892, 893, 894, 895, 896, 897, 898, 899, 900, 901, 902, 903, 904, 905, 906, 907, 908, 909, 910, 911, 912, 913, 914, 915, 916, 917, 918, 919, 920, 921, 922, 923, 924, 925, 926, 927, 928, 929, 930, 931, 932, 933, 934, 935]",
         "[464, 471, 911, 918]",
         "[464, 911]",
         "[16, 125, 156, 163, 168, 184, 205, 222, 229, 253, 258, 265, 313, 317, 336, 340, 341, 356, 363, 365, 366, 367, 370, 375, 388, 391, 394, 396, 402, 410, 411, 412, 413, 415, 416, 417, 418, 419, 425, 429, 431, 433, 435, 437, 440, 441, 442, 443, 451, 452, 456, 457, 458, 460, 461, 464, 471, 473, 474, 475, 481, 482, 501, 596, 628, 635, 655, 675, 693, 716, 720, 725, 771, 775, 793, 796, 797, 811, 817, 818, 820, 825, 838, 841, 844, 846, 851, 857, 861, 862, 863, 864, 866, 867, 868, 870, 871, 877, 881, 883, 885, 888, 891, 892, 893, 898, 899, 904, 905, 907, 908, 911, 918, 920, 921, 922, 923, 924, 926, 931, 933]",
         "[401, 402, 424, 427, 464, 469, 850, 851, 876, 879, 911, 916]",
         "[]",
         "7/6 successful match",
         "True",
         "[453]",
         "True",
         "9",
         "[23, 24, 25]",
         "True",
         "46; 46",
         "Utah; Utah",
         "RB'S ONE STOP; RB'S ONE STOP",
         "https://www.truckstopsandservices.com/location_details.php?id=2724; http://www.rvandtravelers.com/location_details.php?id=2724",
         "Trucker; RVer",
         "66 gas; 66 gas",
         "40.883317; nan",
         "-111.898937; nan",
         "nan; nan",
         "40.883317; 40.883317",
         "-111.898937; -111.898937",
         "I-15; I-15",
         "316; 316",
         "527 S 700 W; 527 S 700 W",
         "WOODS CROSS; WOODS CROSS",
         "UT; UT",
         "84087; 84087",
         "801-295-3241 (TRAVEL CENTER); 801-295-3241 (TRAVEL CENTER)",
         "801-298-0599; 801-298-0599",
         "801-295-3241 (DAIRY QUEEN); 801-295-3241 (DAIRY QUEEN)",
         "nan; nan",
         "nan; nan",
         "nan; nan",
         "nan; nan",
         "nan; nan",
         "nan; nan",
         "nan; nan",
         "[464, 911]",
         "46; 46",
         "Utah; Utah",
         "RB'S ONE STOP; RB'S ONE STOP",
         "https://www.truckstopsandservices.com/location_details.php?id=2724; http://www.rvandtravelers.com/location_details.php?id=2724",
         "Trucker; RVer",
         "66 gas; 66 gas",
         "40.883317; nan",
         "-111.898937; nan",
         "nan; nan",
         "40.883317; 40.883317",
         "-111.898937; -111.898937",
         "I-15; I-15",
         "316; 316",
         "527 S 700 W; 527 S 700 W",
         "WOODS CROSS; WOODS CROSS",
         "UT; UT",
         "84087; 84087",
         "801-295-3241 (TRAVEL CENTER); 801-295-3241 (TRAVEL CENTER)",
         "801-298-0599; 801-298-0599",
         "801-295-3241 (DAIRY QUEEN); 801-295-3241 (DAIRY QUEEN)",
         "nan; nan",
         "nan; nan",
         "nan; nan",
         "nan; nan",
         "nan; nan",
         "nan; nan",
         "nan; nan",
         "18012953241",
         "RB's One Stop",
         "3.3",
         "3.0",
         "527 S 700th W, Woods Cross, UT 84087",
         "Woods Cross",
         "UT",
         "84087.0",
         "(801) 295-3241",
         "Gas Stations, Convenience Stores, Car Wash",
         "40.8839051",
         "-111.8991028",
         "$",
         "False",
         "https://www.yelp.com/biz/rbs-one-stop-woods-cross?adjust_creative=xElCeMfmOucjLmXEMhJkIg&utm_campaign=yelp_api_v3&utm_medium=api_v3_phone_search&utm_source=xElCeMfmOucjLmXEMhJkIg",
         "527 S 700 WWoods Cross, UT 84087; 527 S 700 WWoods Cross, UT 84087; 527 S 700 WWoods Cross, UT 84087",
         "nan; Rb's Onestop; Rb's Onestop",
         "Rbs Interstate; Phillips 66; Phillips 66",
         "https://www.yellowpages.com/woods-cross-ut/mip/rbs-interstate-475993584; https://www.yellowpages.com/woods-cross-ut/mip/phillips-66-476002699; https://www.yellowpages.com/woods-cross-ut/mip/phillips-66-476002699#photo-gallery",
         "Gas Stations, Convenience Stores; Gas Stations, Convenience Stores; Gas Stations, Convenience Stores",
         "nan; 801 294 7731; 801 294 7731",
         "nan; nan; nan",
         "Woods Cross; Woods Cross; Woods Cross",
         "40.884045; 40.884045; 40.884045",
         "-111.89892; -111.89892; -111.89892",
         "Rbs Interstate; Phillips 66; Phillips 66",
         "(801) 295-3241; (801) 295-3241; (801) 295-3241",
         "UT; UT; UT",
         "527 S 700 W; 527 S 700 W; 527 S 700 W",
         "84087.0; 84087.0; 84087.0",
         "801-295-3241; 801-295-3241; 801-295-3241",
         "(801) 295-3241Call; (801) 295-3241Call; (801) 295-3241Call",
         "2025-07-07T04:14:00.403Z; 2025-07-07T04:14:03.616Z; 2025-07-07T04:14:05.652Z",
         "https://www.yellowpages.com/search?search_terms=801+295+3241; https://www.yellowpages.com/search?search_terms=801+295+3241; https://www.yellowpages.com/search?search_terms=801+295+3241",
         "nan; nan; nan",
         "http://www.phillips66.com; https://www.phillips66gas.com; https://www.phillips66gas.com",
         "0.0503083392446808",
         "Webscraped vs YellowPages (Phone)",
         "0.0415470219369687",
         "Webscraped vs Yelp (Phone)",
         "0.013587527659739",
         "Yelp (Phone) vs YellowPages (Phone)",
         "40.88361105",
         "-111.8990199",
         null,
         null,
         null,
         null,
         "40.88361105",
         "-111.8990199",
         null,
         null,
         null,
         null,
         null,
         null
        ]
       ],
       "shape": {
        "columns": 161,
        "rows": 2333
       }
      },
      "text/html": [
       "<div>\n",
       "<style scoped>\n",
       "    .dataframe tbody tr th:only-of-type {\n",
       "        vertical-align: middle;\n",
       "    }\n",
       "\n",
       "    .dataframe tbody tr th {\n",
       "        vertical-align: top;\n",
       "    }\n",
       "\n",
       "    .dataframe thead th {\n",
       "        text-align: right;\n",
       "    }\n",
       "</style>\n",
       "<table border=\"1\" class=\"dataframe\">\n",
       "  <thead>\n",
       "    <tr style=\"text-align: right;\">\n",
       "      <th></th>\n",
       "      <th>clean_line1</th>\n",
       "      <th>clean_line2</th>\n",
       "      <th>line3</th>\n",
       "      <th>city</th>\n",
       "      <th>zip_code</th>\n",
       "      <th>label</th>\n",
       "      <th>phone</th>\n",
       "      <th>year</th>\n",
       "      <th>major_city</th>\n",
       "      <th>state</th>\n",
       "      <th>...</th>\n",
       "      <th>Manual_Lat</th>\n",
       "      <th>Manual_Long</th>\n",
       "      <th>Final_Lat</th>\n",
       "      <th>Final_Long</th>\n",
       "      <th>Geocoding_API_geo_status</th>\n",
       "      <th>Geocoding_API_formatted_address</th>\n",
       "      <th>Geocoding_API_lat</th>\n",
       "      <th>Geocoding_API_lng</th>\n",
       "      <th>Geocoding_API_place_id</th>\n",
       "      <th>Geocoding_API_types</th>\n",
       "    </tr>\n",
       "  </thead>\n",
       "  <tbody>\n",
       "    <tr>\n",
       "      <th>0</th>\n",
       "      <td>Coalville , 84017 Holiday Hills ( 66 )</td>\n",
       "      <td>435-336-4421 I-80 Exit 162 ( UT 280 )</td>\n",
       "      <td>MO</td>\n",
       "      <td>Coalville</td>\n",
       "      <td>84017</td>\n",
       "      <td>Holiday Hills ( 66 )</td>\n",
       "      <td>435-336-4421</td>\n",
       "      <td>2006</td>\n",
       "      <td>Coalville</td>\n",
       "      <td>UT</td>\n",
       "      <td>...</td>\n",
       "      <td>NaN</td>\n",
       "      <td>NaN</td>\n",
       "      <td>40.910948</td>\n",
       "      <td>-111.404529</td>\n",
       "      <td>NaN</td>\n",
       "      <td>NaN</td>\n",
       "      <td>NaN</td>\n",
       "      <td>NaN</td>\n",
       "      <td>NaN</td>\n",
       "      <td>NaN</td>\n",
       "    </tr>\n",
       "    <tr>\n",
       "      <th>1</th>\n",
       "      <td>Coalville , 84017 Hills ( 66 )</td>\n",
       "      <td>435-336-4421 I-80 Holiday Exit 162 ( UT 280 )</td>\n",
       "      <td>M &lt;U+25A1&gt;</td>\n",
       "      <td>Coalville</td>\n",
       "      <td>84017</td>\n",
       "      <td>Hills ( 66 )</td>\n",
       "      <td>435-336-4421</td>\n",
       "      <td>2007</td>\n",
       "      <td>Coalville</td>\n",
       "      <td>UT</td>\n",
       "      <td>...</td>\n",
       "      <td>NaN</td>\n",
       "      <td>NaN</td>\n",
       "      <td>40.910948</td>\n",
       "      <td>-111.404529</td>\n",
       "      <td>NaN</td>\n",
       "      <td>NaN</td>\n",
       "      <td>NaN</td>\n",
       "      <td>NaN</td>\n",
       "      <td>NaN</td>\n",
       "      <td>NaN</td>\n",
       "    </tr>\n",
       "    <tr>\n",
       "      <th>2</th>\n",
       "      <td>D Coalville , 84017 Holiday Hills ( 66 ) )</td>\n",
       "      <td>4 435-336-4421 I-80 Exit 162 ( UT 280 )</td>\n",
       "      <td>M &lt;U+2610&gt; &lt;U+2610&gt; &lt;U+2610&gt;</td>\n",
       "      <td>Coalville</td>\n",
       "      <td>84017</td>\n",
       "      <td>Holiday Hills ( 66 ) )</td>\n",
       "      <td>435-336-4421</td>\n",
       "      <td>2008</td>\n",
       "      <td>Coalville</td>\n",
       "      <td>UT</td>\n",
       "      <td>...</td>\n",
       "      <td>NaN</td>\n",
       "      <td>NaN</td>\n",
       "      <td>40.910948</td>\n",
       "      <td>-111.404529</td>\n",
       "      <td>NaN</td>\n",
       "      <td>NaN</td>\n",
       "      <td>NaN</td>\n",
       "      <td>NaN</td>\n",
       "      <td>NaN</td>\n",
       "      <td>NaN</td>\n",
       "    </tr>\n",
       "    <tr>\n",
       "      <th>3</th>\n",
       "      <td>D Coalville ( 84017 ) Holiday Hills ( 66 )</td>\n",
       "      <td>435-336-4421 I-80 Exit 162 ( UT 280 )</td>\n",
       "      <td>M &lt;U+25A1&gt; &lt;U+2610&gt;</td>\n",
       "      <td>Coalville</td>\n",
       "      <td>84017</td>\n",
       "      <td>Holiday Hills ( 66 )</td>\n",
       "      <td>435-336-4421</td>\n",
       "      <td>2014</td>\n",
       "      <td>Coalville</td>\n",
       "      <td>UT</td>\n",
       "      <td>...</td>\n",
       "      <td>NaN</td>\n",
       "      <td>NaN</td>\n",
       "      <td>40.910948</td>\n",
       "      <td>-111.404529</td>\n",
       "      <td>NaN</td>\n",
       "      <td>NaN</td>\n",
       "      <td>NaN</td>\n",
       "      <td>NaN</td>\n",
       "      <td>NaN</td>\n",
       "      <td>NaN</td>\n",
       "    </tr>\n",
       "    <tr>\n",
       "      <th>4</th>\n",
       "      <td>D Coalville ( 84017 ) Holiday Hills ( 66 )</td>\n",
       "      <td>4 435-336-4421 I-80 Exit 162 ( UT 280 )</td>\n",
       "      <td>D M &lt;U+25A1&gt; D D</td>\n",
       "      <td>Coalville</td>\n",
       "      <td>84017</td>\n",
       "      <td>Holiday Hills ( 66 )</td>\n",
       "      <td>435-336-4421</td>\n",
       "      <td>2015</td>\n",
       "      <td>Coalville</td>\n",
       "      <td>UT</td>\n",
       "      <td>...</td>\n",
       "      <td>NaN</td>\n",
       "      <td>NaN</td>\n",
       "      <td>40.910948</td>\n",
       "      <td>-111.404529</td>\n",
       "      <td>NaN</td>\n",
       "      <td>NaN</td>\n",
       "      <td>NaN</td>\n",
       "      <td>NaN</td>\n",
       "      <td>NaN</td>\n",
       "      <td>NaN</td>\n",
       "    </tr>\n",
       "    <tr>\n",
       "      <th>...</th>\n",
       "      <td>...</td>\n",
       "      <td>...</td>\n",
       "      <td>...</td>\n",
       "      <td>...</td>\n",
       "      <td>...</td>\n",
       "      <td>...</td>\n",
       "      <td>...</td>\n",
       "      <td>...</td>\n",
       "      <td>...</td>\n",
       "      <td>...</td>\n",
       "      <td>...</td>\n",
       "      <td>...</td>\n",
       "      <td>...</td>\n",
       "      <td>...</td>\n",
       "      <td>...</td>\n",
       "      <td>...</td>\n",
       "      <td>...</td>\n",
       "      <td>...</td>\n",
       "      <td>...</td>\n",
       "      <td>...</td>\n",
       "      <td>...</td>\n",
       "    </tr>\n",
       "    <tr>\n",
       "      <th>2328</th>\n",
       "      <td>Corning ( 96021 ) Love's Travel Stop # 410</td>\n",
       "      <td>2 530-824-8767 I-5 Exit 630 ( South Ave )</td>\n",
       "      <td>24 XL 24 24</td>\n",
       "      <td>Corning</td>\n",
       "      <td>96021</td>\n",
       "      <td>Love's Travel Stop # 410</td>\n",
       "      <td>530-824-8767</td>\n",
       "      <td>2016</td>\n",
       "      <td>Corning</td>\n",
       "      <td>CA</td>\n",
       "      <td>...</td>\n",
       "      <td>NaN</td>\n",
       "      <td>NaN</td>\n",
       "      <td>39.906627</td>\n",
       "      <td>-122.195031</td>\n",
       "      <td>NaN</td>\n",
       "      <td>NaN</td>\n",
       "      <td>NaN</td>\n",
       "      <td>NaN</td>\n",
       "      <td>NaN</td>\n",
       "      <td>NaN</td>\n",
       "    </tr>\n",
       "    <tr>\n",
       "      <th>2329</th>\n",
       "      <td>, 96021 Flying J Travel Plaza # 0510154</td>\n",
       "      <td>CCorning 2530-824-8770 I-5 Exit 630 ( South Ave )</td>\n",
       "      <td>XL 24 45</td>\n",
       "      <td>NaN</td>\n",
       "      <td>96021</td>\n",
       "      <td>Flying J Travel Plaza # 0510154</td>\n",
       "      <td>530-824-8770</td>\n",
       "      <td>2007</td>\n",
       "      <td>Corning</td>\n",
       "      <td>CA</td>\n",
       "      <td>...</td>\n",
       "      <td>NaN</td>\n",
       "      <td>NaN</td>\n",
       "      <td>41.646968</td>\n",
       "      <td>-122.528414</td>\n",
       "      <td>NaN</td>\n",
       "      <td>NaN</td>\n",
       "      <td>NaN</td>\n",
       "      <td>NaN</td>\n",
       "      <td>NaN</td>\n",
       "      <td>NaN</td>\n",
       "    </tr>\n",
       "    <tr>\n",
       "      <th>2330</th>\n",
       "      <td>Corning , 96021 Flying J Travel Plaza # 0510154</td>\n",
       "      <td>2 530-824-8770 I-5 Exit 630 ( South Ave )</td>\n",
       "      <td>124 HRS XL 24 HRS</td>\n",
       "      <td>Corning</td>\n",
       "      <td>96021</td>\n",
       "      <td>Flying J Travel Plaza # 0510154</td>\n",
       "      <td>530-824-8770</td>\n",
       "      <td>2008</td>\n",
       "      <td>Corning</td>\n",
       "      <td>CA</td>\n",
       "      <td>...</td>\n",
       "      <td>NaN</td>\n",
       "      <td>NaN</td>\n",
       "      <td>41.646968</td>\n",
       "      <td>-122.528414</td>\n",
       "      <td>NaN</td>\n",
       "      <td>NaN</td>\n",
       "      <td>NaN</td>\n",
       "      <td>NaN</td>\n",
       "      <td>NaN</td>\n",
       "      <td>NaN</td>\n",
       "    </tr>\n",
       "    <tr>\n",
       "      <th>2331</th>\n",
       "      <td>A Grenada ( 96038 ) 3 J's Food Mart ( 76 )</td>\n",
       "      <td>530-436-2208 I-5 Exit 766 ( CA A12 E )</td>\n",
       "      <td>&lt;U+2610&gt;&lt;U+2610&gt; XL &lt;U+2610&gt;</td>\n",
       "      <td>Grenada</td>\n",
       "      <td>96038</td>\n",
       "      <td>3 J's Food Mart ( 76 )</td>\n",
       "      <td>530-436-2208</td>\n",
       "      <td>2014</td>\n",
       "      <td>Grenada</td>\n",
       "      <td>CA</td>\n",
       "      <td>...</td>\n",
       "      <td>NaN</td>\n",
       "      <td>NaN</td>\n",
       "      <td>41.646968</td>\n",
       "      <td>-122.528414</td>\n",
       "      <td>NaN</td>\n",
       "      <td>NaN</td>\n",
       "      <td>NaN</td>\n",
       "      <td>NaN</td>\n",
       "      <td>NaN</td>\n",
       "      <td>NaN</td>\n",
       "    </tr>\n",
       "    <tr>\n",
       "      <th>2332</th>\n",
       "      <td>A Grenada ( 96038 ) 3 J's Food Mart ( 76 ) Dr )</td>\n",
       "      <td>530-436-2208 I-5 Exit 766 ( CA</td>\n",
       "      <td>&lt;U+2610&gt;&lt;U+2610&gt; XL &lt;U+25A1&gt; &lt;U+2610&gt;</td>\n",
       "      <td>Grenada</td>\n",
       "      <td>96038</td>\n",
       "      <td>3 J's Food Mart ( 76 ) Dr )</td>\n",
       "      <td>530-436-2208</td>\n",
       "      <td>2015</td>\n",
       "      <td>Grenada</td>\n",
       "      <td>CA</td>\n",
       "      <td>...</td>\n",
       "      <td>NaN</td>\n",
       "      <td>NaN</td>\n",
       "      <td>41.646968</td>\n",
       "      <td>-122.528414</td>\n",
       "      <td>NaN</td>\n",
       "      <td>NaN</td>\n",
       "      <td>NaN</td>\n",
       "      <td>NaN</td>\n",
       "      <td>NaN</td>\n",
       "      <td>NaN</td>\n",
       "    </tr>\n",
       "  </tbody>\n",
       "</table>\n",
       "<p>2333 rows × 161 columns</p>\n",
       "</div>"
      ],
      "text/plain": [
       "                                          clean_line1  \\\n",
       "0              Coalville , 84017 Holiday Hills ( 66 )   \n",
       "1                      Coalville , 84017 Hills ( 66 )   \n",
       "2          D Coalville , 84017 Holiday Hills ( 66 ) )   \n",
       "3          D Coalville ( 84017 ) Holiday Hills ( 66 )   \n",
       "4          D Coalville ( 84017 ) Holiday Hills ( 66 )   \n",
       "...                                               ...   \n",
       "2328       Corning ( 96021 ) Love's Travel Stop # 410   \n",
       "2329          , 96021 Flying J Travel Plaza # 0510154   \n",
       "2330  Corning , 96021 Flying J Travel Plaza # 0510154   \n",
       "2331       A Grenada ( 96038 ) 3 J's Food Mart ( 76 )   \n",
       "2332  A Grenada ( 96038 ) 3 J's Food Mart ( 76 ) Dr )   \n",
       "\n",
       "                                            clean_line2  \\\n",
       "0                 435-336-4421 I-80 Exit 162 ( UT 280 )   \n",
       "1         435-336-4421 I-80 Holiday Exit 162 ( UT 280 )   \n",
       "2               4 435-336-4421 I-80 Exit 162 ( UT 280 )   \n",
       "3                 435-336-4421 I-80 Exit 162 ( UT 280 )   \n",
       "4               4 435-336-4421 I-80 Exit 162 ( UT 280 )   \n",
       "...                                                 ...   \n",
       "2328          2 530-824-8767 I-5 Exit 630 ( South Ave )   \n",
       "2329  CCorning 2530-824-8770 I-5 Exit 630 ( South Ave )   \n",
       "2330          2 530-824-8770 I-5 Exit 630 ( South Ave )   \n",
       "2331             530-436-2208 I-5 Exit 766 ( CA A12 E )   \n",
       "2332                     530-436-2208 I-5 Exit 766 ( CA   \n",
       "\n",
       "                                      line3       city  zip_code  \\\n",
       "0                                        MO  Coalville     84017   \n",
       "1                                M <U+25A1>  Coalville     84017   \n",
       "2              M <U+2610> <U+2610> <U+2610>  Coalville     84017   \n",
       "3                       M <U+25A1> <U+2610>  Coalville     84017   \n",
       "4                          D M <U+25A1> D D  Coalville     84017   \n",
       "...                                     ...        ...       ...   \n",
       "2328                            24 XL 24 24    Corning     96021   \n",
       "2329                               XL 24 45        NaN     96021   \n",
       "2330                      124 HRS XL 24 HRS    Corning     96021   \n",
       "2331           <U+2610><U+2610> XL <U+2610>    Grenada     96038   \n",
       "2332  <U+2610><U+2610> XL <U+25A1> <U+2610>    Grenada     96038   \n",
       "\n",
       "                                label         phone  year major_city state  \\\n",
       "0                Holiday Hills ( 66 )  435-336-4421  2006  Coalville    UT   \n",
       "1                        Hills ( 66 )  435-336-4421  2007  Coalville    UT   \n",
       "2              Holiday Hills ( 66 ) )  435-336-4421  2008  Coalville    UT   \n",
       "3                Holiday Hills ( 66 )  435-336-4421  2014  Coalville    UT   \n",
       "4                Holiday Hills ( 66 )  435-336-4421  2015  Coalville    UT   \n",
       "...                               ...           ...   ...        ...   ...   \n",
       "2328         Love's Travel Stop # 410  530-824-8767  2016    Corning    CA   \n",
       "2329  Flying J Travel Plaza # 0510154  530-824-8770  2007    Corning    CA   \n",
       "2330  Flying J Travel Plaza # 0510154  530-824-8770  2008    Corning    CA   \n",
       "2331           3 J's Food Mart ( 76 )  530-436-2208  2014    Grenada    CA   \n",
       "2332      3 J's Food Mart ( 76 ) Dr )  530-436-2208  2015    Grenada    CA   \n",
       "\n",
       "      ... Manual_Lat Manual_Long  Final_Lat  Final_Long  \\\n",
       "0     ...        NaN         NaN  40.910948 -111.404529   \n",
       "1     ...        NaN         NaN  40.910948 -111.404529   \n",
       "2     ...        NaN         NaN  40.910948 -111.404529   \n",
       "3     ...        NaN         NaN  40.910948 -111.404529   \n",
       "4     ...        NaN         NaN  40.910948 -111.404529   \n",
       "...   ...        ...         ...        ...         ...   \n",
       "2328  ...        NaN         NaN  39.906627 -122.195031   \n",
       "2329  ...        NaN         NaN  41.646968 -122.528414   \n",
       "2330  ...        NaN         NaN  41.646968 -122.528414   \n",
       "2331  ...        NaN         NaN  41.646968 -122.528414   \n",
       "2332  ...        NaN         NaN  41.646968 -122.528414   \n",
       "\n",
       "     Geocoding_API_geo_status Geocoding_API_formatted_address  \\\n",
       "0                         NaN                             NaN   \n",
       "1                         NaN                             NaN   \n",
       "2                         NaN                             NaN   \n",
       "3                         NaN                             NaN   \n",
       "4                         NaN                             NaN   \n",
       "...                       ...                             ...   \n",
       "2328                      NaN                             NaN   \n",
       "2329                      NaN                             NaN   \n",
       "2330                      NaN                             NaN   \n",
       "2331                      NaN                             NaN   \n",
       "2332                      NaN                             NaN   \n",
       "\n",
       "      Geocoding_API_lat  Geocoding_API_lng Geocoding_API_place_id  \\\n",
       "0                   NaN                NaN                    NaN   \n",
       "1                   NaN                NaN                    NaN   \n",
       "2                   NaN                NaN                    NaN   \n",
       "3                   NaN                NaN                    NaN   \n",
       "4                   NaN                NaN                    NaN   \n",
       "...                 ...                ...                    ...   \n",
       "2328                NaN                NaN                    NaN   \n",
       "2329                NaN                NaN                    NaN   \n",
       "2330                NaN                NaN                    NaN   \n",
       "2331                NaN                NaN                    NaN   \n",
       "2332                NaN                NaN                    NaN   \n",
       "\n",
       "      Geocoding_API_types  \n",
       "0                     NaN  \n",
       "1                     NaN  \n",
       "2                     NaN  \n",
       "3                     NaN  \n",
       "4                     NaN  \n",
       "...                   ...  \n",
       "2328                  NaN  \n",
       "2329                  NaN  \n",
       "2330                  NaN  \n",
       "2331                  NaN  \n",
       "2332                  NaN  \n",
       "\n",
       "[2333 rows x 161 columns]"
      ]
     },
     "execution_count": 2,
     "metadata": {},
     "output_type": "execute_result"
    }
   ],
   "source": [
    "import pandas as pd\n",
    "\n",
    "\n",
    "\n",
    "\n",
    "df = pd.read_csv(r'C:\\Users\\clint\\Desktop\\Geocoding_Documentation\\Notebooks\\9_5.csv')\n",
    "df"
   ]
  },
  {
   "cell_type": "code",
   "execution_count": 3,
   "id": "f03ec2c7",
   "metadata": {},
   "outputs": [],
   "source": [
    "df=df[df['Address_Type'] == 'Proper']"
   ]
  },
  {
   "cell_type": "code",
   "execution_count": 6,
   "id": "e10efbb6",
   "metadata": {},
   "outputs": [
    {
     "name": "stdout",
     "output_type": "stream",
     "text": [
      "Available columns:\n",
      "['Webscraped_Phone_Latitude', 'Webscraped_Phone_Longitude', 'Webscraped_Phone_LD_Latitude', 'Webscraped_Phone_LD_Longitude', 'Webscraped_PlacedMatched_Latitude', 'Webscraped_PlacedMatched_Longitude', 'Webscraped_PlacedMatched_LD_Latitude', 'Webscraped_PlacedMatched_LD_Longitude', 'Yelp_Latitude', 'Yelp_Longitude', 'YellowPages_JSONLD_LAT_1', 'YellowPages_JSONLD_LNG_1', 'Mid_Lat', 'Mid_Long', 'Manual_Lat', 'Manual_Long', 'Final_Lat', 'Final_Long', 'Geocoding_API_geo_status', 'Geocoding_API_formatted_address', 'Geocoding_API_lat', 'Geocoding_API_lng', 'Geocoding_API_place_id', 'Geocoding_API_types']\n",
      "\n",
      "Dataframe shape: (2333, 161)\n"
     ]
    }
   ],
   "source": [
    "# Check column names to ensure we use the correct ones\n",
    "print(\"Available columns:\")\n",
    "print([col for col in df.columns if 'lat' in col.lower() or 'lng' in col.lower() or 'lon' in col.lower() or 'final' in col.lower() or 'geocoding' in col.lower()])\n",
    "print(\"\\nDataframe shape:\", df.shape)"
   ]
  },
  {
   "cell_type": "code",
   "execution_count": 8,
   "id": "015f0c33",
   "metadata": {},
   "outputs": [
    {
     "name": "stderr",
     "output_type": "stream",
     "text": [
      "C:\\Users\\clint\\AppData\\Local\\Temp\\ipykernel_28084\\1043520720.py:48: DeprecationWarning:\n",
      "\n",
      "*scattermapbox* is deprecated! Use *scattermap* instead. Learn more at: https://plotly.com/python/mapbox-to-maplibre/\n",
      "\n"
     ]
    },
    {
     "data": {
      "application/vnd.plotly.v1+json": {
       "config": {
        "plotlyServerURL": "https://plot.ly"
       },
       "data": [
        {
         "hoverinfo": "text+lat+lon",
         "lat": [
          37.1000755,
          37.1284195
         ],
         "line": {
          "width": 2
         },
         "lon": [
          -113.1281215,
          -113.2183048
         ],
         "marker": {
          "size": 8
         },
         "mode": "markers+lines",
         "name": "Row 258",
         "showlegend": true,
         "text": [
          "Row: 258<br>Source: Final Coordinates",
          "Row: 258<br>Source: Geocoding API"
         ],
         "type": "scattermapbox"
        },
        {
         "hoverinfo": "text+lat+lon",
         "lat": [
          37.1000755,
          37.1284195
         ],
         "line": {
          "width": 2
         },
         "lon": [
          -113.1281215,
          -113.2183048
         ],
         "marker": {
          "size": 8
         },
         "mode": "markers+lines",
         "name": "Row 259",
         "showlegend": true,
         "text": [
          "Row: 259<br>Source: Final Coordinates",
          "Row: 259<br>Source: Geocoding API"
         ],
         "type": "scattermapbox"
        },
        {
         "hoverinfo": "text+lat+lon",
         "lat": [
          37.1000755,
          37.1284195
         ],
         "line": {
          "width": 2
         },
         "lon": [
          -113.1281215,
          -113.2183048
         ],
         "marker": {
          "size": 8
         },
         "mode": "markers+lines",
         "name": "Row 260",
         "showlegend": true,
         "text": [
          "Row: 260<br>Source: Final Coordinates",
          "Row: 260<br>Source: Geocoding API"
         ],
         "type": "scattermapbox"
        },
        {
         "hoverinfo": "text+lat+lon",
         "lat": [
          37.1000755,
          37.1284195
         ],
         "line": {
          "width": 2
         },
         "lon": [
          -113.1281215,
          -113.2183048
         ],
         "marker": {
          "size": 8
         },
         "mode": "markers+lines",
         "name": "Row 261",
         "showlegend": true,
         "text": [
          "Row: 261<br>Source: Final Coordinates",
          "Row: 261<br>Source: Geocoding API"
         ],
         "type": "scattermapbox"
        },
        {
         "hoverinfo": "text+lat+lon",
         "lat": [
          37.1000755,
          37.1284195
         ],
         "line": {
          "width": 2
         },
         "lon": [
          -113.1281215,
          -113.2183048
         ],
         "marker": {
          "size": 8
         },
         "mode": "markers+lines",
         "name": "Row 262",
         "showlegend": true,
         "text": [
          "Row: 262<br>Source: Final Coordinates",
          "Row: 262<br>Source: Geocoding API"
         ],
         "type": "scattermapbox"
        },
        {
         "hoverinfo": "text+lat+lon",
         "lat": [
          37.1000755,
          37.1284195
         ],
         "line": {
          "width": 2
         },
         "lon": [
          -113.1281215,
          -113.2183048
         ],
         "marker": {
          "size": 8
         },
         "mode": "markers+lines",
         "name": "Row 263",
         "showlegend": true,
         "text": [
          "Row: 263<br>Source: Final Coordinates",
          "Row: 263<br>Source: Geocoding API"
         ],
         "type": "scattermapbox"
        },
        {
         "hoverinfo": "text+lat+lon",
         "lat": [
          37.825708000000006,
          40.8378025
         ],
         "line": {
          "width": 2
         },
         "lon": [
          -112.4359585,
          -111.9120997
         ],
         "marker": {
          "size": 8
         },
         "mode": "markers+lines",
         "name": "Row 270",
         "showlegend": true,
         "text": [
          "Row: 270<br>Source: Final Coordinates",
          "Row: 270<br>Source: Geocoding API"
         ],
         "type": "scattermapbox"
        },
        {
         "hoverinfo": "text+lat+lon",
         "lat": [
          37.825708000000006,
          40.8378025
         ],
         "line": {
          "width": 2
         },
         "lon": [
          -112.4359585,
          -111.9120997
         ],
         "marker": {
          "size": 8
         },
         "mode": "markers+lines",
         "name": "Row 272",
         "showlegend": true,
         "text": [
          "Row: 272<br>Source: Final Coordinates",
          "Row: 272<br>Source: Geocoding API"
         ],
         "type": "scattermapbox"
        },
        {
         "hoverinfo": "text+lat+lon",
         "lat": [
          37.825708000000006,
          40.8378025
         ],
         "line": {
          "width": 2
         },
         "lon": [
          -112.4359585,
          -111.9120997
         ],
         "marker": {
          "size": 8
         },
         "mode": "markers+lines",
         "name": "Row 273",
         "showlegend": true,
         "text": [
          "Row: 273<br>Source: Final Coordinates",
          "Row: 273<br>Source: Geocoding API"
         ],
         "type": "scattermapbox"
        },
        {
         "hoverinfo": "text+lat+lon",
         "lat": [
          37.825708000000006,
          40.8378025
         ],
         "line": {
          "width": 2
         },
         "lon": [
          -112.4359585,
          -111.9120997
         ],
         "marker": {
          "size": 8
         },
         "mode": "markers+lines",
         "name": "Row 274",
         "showlegend": true,
         "text": [
          "Row: 274<br>Source: Final Coordinates",
          "Row: 274<br>Source: Geocoding API"
         ],
         "type": "scattermapbox"
        },
        {
         "hoverinfo": "text+lat+lon",
         "lat": [
          37.825708000000006,
          40.8378025
         ],
         "line": {
          "width": 2
         },
         "lon": [
          -112.4359585,
          -111.9120997
         ],
         "marker": {
          "size": 8
         },
         "mode": "markers+lines",
         "name": "Row 275",
         "showlegend": true,
         "text": [
          "Row: 275<br>Source: Final Coordinates",
          "Row: 275<br>Source: Geocoding API"
         ],
         "type": "scattermapbox"
        },
        {
         "hoverinfo": "text+lat+lon",
         "lat": [
          32.67031849999999,
          32.350733
         ],
         "line": {
          "width": 2
         },
         "lon": [
          -114.5786175,
          -88.7434417
         ],
         "marker": {
          "size": 8
         },
         "mode": "markers+lines",
         "name": "Row 402",
         "showlegend": true,
         "text": [
          "Row: 402<br>Source: Final Coordinates",
          "Row: 402<br>Source: Geocoding API"
         ],
         "type": "scattermapbox"
        },
        {
         "hoverinfo": "text+lat+lon",
         "lat": [
          32.67031849999999,
          32.350733
         ],
         "line": {
          "width": 2
         },
         "lon": [
          -114.5786175,
          -88.7434417
         ],
         "marker": {
          "size": 8
         },
         "mode": "markers+lines",
         "name": "Row 403",
         "showlegend": true,
         "text": [
          "Row: 403<br>Source: Final Coordinates",
          "Row: 403<br>Source: Geocoding API"
         ],
         "type": "scattermapbox"
        },
        {
         "hoverinfo": "text+lat+lon",
         "lat": [
          32.67031849999999,
          32.350733
         ],
         "line": {
          "width": 2
         },
         "lon": [
          -114.5786175,
          -88.7434417
         ],
         "marker": {
          "size": 8
         },
         "mode": "markers+lines",
         "name": "Row 404",
         "showlegend": true,
         "text": [
          "Row: 404<br>Source: Final Coordinates",
          "Row: 404<br>Source: Geocoding API"
         ],
         "type": "scattermapbox"
        },
        {
         "hoverinfo": "text+lat+lon",
         "lat": [
          32.67031849999999,
          40.7453416
         ],
         "line": {
          "width": 2
         },
         "lon": [
          -114.5786175,
          -73.9811861
         ],
         "marker": {
          "size": 8
         },
         "mode": "markers+lines",
         "name": "Row 405",
         "showlegend": true,
         "text": [
          "Row: 405<br>Source: Final Coordinates",
          "Row: 405<br>Source: Geocoding API"
         ],
         "type": "scattermapbox"
        },
        {
         "hoverinfo": "text+lat+lon",
         "lat": [
          32.67031849999999,
          40.7453416
         ],
         "line": {
          "width": 2
         },
         "lon": [
          -114.5786175,
          -73.9811861
         ],
         "marker": {
          "size": 8
         },
         "mode": "markers+lines",
         "name": "Row 406",
         "showlegend": true,
         "text": [
          "Row: 406<br>Source: Final Coordinates",
          "Row: 406<br>Source: Geocoding API"
         ],
         "type": "scattermapbox"
        },
        {
         "hoverinfo": "text+lat+lon",
         "lat": [
          32.67031849999999,
          40.7453416
         ],
         "line": {
          "width": 2
         },
         "lon": [
          -114.5786175,
          -73.9811861
         ],
         "marker": {
          "size": 8
         },
         "mode": "markers+lines",
         "name": "Row 407",
         "showlegend": true,
         "text": [
          "Row: 407<br>Source: Final Coordinates",
          "Row: 407<br>Source: Geocoding API"
         ],
         "type": "scattermapbox"
        },
        {
         "hoverinfo": "text+lat+lon",
         "lat": [
          38.0640845,
          41.91732460000001
         ],
         "line": {
          "width": 2
         },
         "lon": [
          -117.2252,
          -69.9911827
         ],
         "marker": {
          "size": 8
         },
         "mode": "markers+lines",
         "name": "Row 630",
         "showlegend": true,
         "text": [
          "Row: 630<br>Source: Final Coordinates",
          "Row: 630<br>Source: Geocoding API"
         ],
         "type": "scattermapbox"
        },
        {
         "hoverinfo": "text+lat+lon",
         "lat": [
          38.0640845,
          41.91732460000001
         ],
         "line": {
          "width": 2
         },
         "lon": [
          -117.2252,
          -69.9911827
         ],
         "marker": {
          "size": 8
         },
         "mode": "markers+lines",
         "name": "Row 631",
         "showlegend": true,
         "text": [
          "Row: 631<br>Source: Final Coordinates",
          "Row: 631<br>Source: Geocoding API"
         ],
         "type": "scattermapbox"
        },
        {
         "hoverinfo": "text+lat+lon",
         "lat": [
          38.0640845,
          41.91732460000001
         ],
         "line": {
          "width": 2
         },
         "lon": [
          -117.2252,
          -69.9911827
         ],
         "marker": {
          "size": 8
         },
         "mode": "markers+lines",
         "name": "Row 632",
         "showlegend": true,
         "text": [
          "Row: 632<br>Source: Final Coordinates",
          "Row: 632<br>Source: Geocoding API"
         ],
         "type": "scattermapbox"
        },
        {
         "hoverinfo": "text+lat+lon",
         "lat": [
          38.0640845,
          36.59166829999999
         ],
         "line": {
          "width": 2
         },
         "lon": [
          -117.2252,
          -116.0380216
         ],
         "marker": {
          "size": 8
         },
         "mode": "markers+lines",
         "name": "Row 633",
         "showlegend": true,
         "text": [
          "Row: 633<br>Source: Final Coordinates",
          "Row: 633<br>Source: Geocoding API"
         ],
         "type": "scattermapbox"
        },
        {
         "hoverinfo": "text+lat+lon",
         "lat": [
          38.0640845,
          36.59166829999999
         ],
         "line": {
          "width": 2
         },
         "lon": [
          -117.2252,
          -116.0380216
         ],
         "marker": {
          "size": 8
         },
         "mode": "markers+lines",
         "name": "Row 634",
         "showlegend": true,
         "text": [
          "Row: 634<br>Source: Final Coordinates",
          "Row: 634<br>Source: Geocoding API"
         ],
         "type": "scattermapbox"
        },
        {
         "hoverinfo": "text+lat+lon",
         "lat": [
          38.0640845,
          36.59166829999999
         ],
         "line": {
          "width": 2
         },
         "lon": [
          -117.2252,
          -116.0380216
         ],
         "marker": {
          "size": 8
         },
         "mode": "markers+lines",
         "name": "Row 635",
         "showlegend": true,
         "text": [
          "Row: 635<br>Source: Final Coordinates",
          "Row: 635<br>Source: Geocoding API"
         ],
         "type": "scattermapbox"
        },
        {
         "hoverinfo": "text+lat+lon",
         "lat": [
          39.255001440925554,
          39.2780778
         ],
         "line": {
          "width": 2
         },
         "lon": [
          -114.8695712653025,
          -80.9545686
         ],
         "marker": {
          "size": 8
         },
         "mode": "markers+lines",
         "name": "Row 654",
         "showlegend": true,
         "text": [
          "Row: 654<br>Source: Final Coordinates",
          "Row: 654<br>Source: Geocoding API"
         ],
         "type": "scattermapbox"
        },
        {
         "hoverinfo": "text+lat+lon",
         "lat": [
          39.255001440925554,
          39.2780778
         ],
         "line": {
          "width": 2
         },
         "lon": [
          -114.8695712653025,
          -80.9545686
         ],
         "marker": {
          "size": 8
         },
         "mode": "markers+lines",
         "name": "Row 655",
         "showlegend": true,
         "text": [
          "Row: 655<br>Source: Final Coordinates",
          "Row: 655<br>Source: Geocoding API"
         ],
         "type": "scattermapbox"
        },
        {
         "hoverinfo": "text+lat+lon",
         "lat": [
          39.255001440925554,
          39.2780778
         ],
         "line": {
          "width": 2
         },
         "lon": [
          -114.8695712653025,
          -80.9545686
         ],
         "marker": {
          "size": 8
         },
         "mode": "markers+lines",
         "name": "Row 656",
         "showlegend": true,
         "text": [
          "Row: 656<br>Source: Final Coordinates",
          "Row: 656<br>Source: Geocoding API"
         ],
         "type": "scattermapbox"
        },
        {
         "hoverinfo": "text+lat+lon",
         "lat": [
          39.255001440925554,
          46.31029789999999
         ],
         "line": {
          "width": 2
         },
         "lon": [
          -114.8695712653025,
          -114.1565955
         ],
         "marker": {
          "size": 8
         },
         "mode": "markers+lines",
         "name": "Row 657",
         "showlegend": true,
         "text": [
          "Row: 657<br>Source: Final Coordinates",
          "Row: 657<br>Source: Geocoding API"
         ],
         "type": "scattermapbox"
        },
        {
         "hoverinfo": "text+lat+lon",
         "lat": [
          39.255001440925554,
          46.31029789999999
         ],
         "line": {
          "width": 2
         },
         "lon": [
          -114.8695712653025,
          -114.1565955
         ],
         "marker": {
          "size": 8
         },
         "mode": "markers+lines",
         "name": "Row 658",
         "showlegend": true,
         "text": [
          "Row: 658<br>Source: Final Coordinates",
          "Row: 658<br>Source: Geocoding API"
         ],
         "type": "scattermapbox"
        },
        {
         "hoverinfo": "text+lat+lon",
         "lat": [
          39.255001440925554,
          46.31029789999999
         ],
         "line": {
          "width": 2
         },
         "lon": [
          -114.8695712653025,
          -114.1565955
         ],
         "marker": {
          "size": 8
         },
         "mode": "markers+lines",
         "name": "Row 659",
         "showlegend": true,
         "text": [
          "Row: 659<br>Source: Final Coordinates",
          "Row: 659<br>Source: Geocoding API"
         ],
         "type": "scattermapbox"
        },
        {
         "hoverinfo": "text+lat+lon",
         "lat": [
          37.165826,
          38.837475
         ],
         "line": {
          "width": 2
         },
         "lon": [
          -118.289709,
          -119.6301656
         ],
         "marker": {
          "size": 8
         },
         "mode": "markers+lines",
         "name": "Row 1170",
         "showlegend": true,
         "text": [
          "Row: 1170<br>Source: Final Coordinates",
          "Row: 1170<br>Source: Geocoding API"
         ],
         "type": "scattermapbox"
        },
        {
         "hoverinfo": "text+lat+lon",
         "lat": [
          37.165826,
          38.837475
         ],
         "line": {
          "width": 2
         },
         "lon": [
          -118.289709,
          -119.6301656
         ],
         "marker": {
          "size": 8
         },
         "mode": "markers+lines",
         "name": "Row 1171",
         "showlegend": true,
         "text": [
          "Row: 1171<br>Source: Final Coordinates",
          "Row: 1171<br>Source: Geocoding API"
         ],
         "type": "scattermapbox"
        },
        {
         "hoverinfo": "text+lat+lon",
         "lat": [
          37.165826,
          38.837475
         ],
         "line": {
          "width": 2
         },
         "lon": [
          -118.289709,
          -119.6301656
         ],
         "marker": {
          "size": 8
         },
         "mode": "markers+lines",
         "name": "Row 1172",
         "showlegend": true,
         "text": [
          "Row: 1172<br>Source: Final Coordinates",
          "Row: 1172<br>Source: Geocoding API"
         ],
         "type": "scattermapbox"
        },
        {
         "hoverinfo": "text+lat+lon",
         "lat": [
          37.165826,
          38.837475
         ],
         "line": {
          "width": 2
         },
         "lon": [
          -118.289709,
          -119.6301656
         ],
         "marker": {
          "size": 8
         },
         "mode": "markers+lines",
         "name": "Row 1173",
         "showlegend": true,
         "text": [
          "Row: 1173<br>Source: Final Coordinates",
          "Row: 1173<br>Source: Geocoding API"
         ],
         "type": "scattermapbox"
        },
        {
         "hoverinfo": "text+lat+lon",
         "lat": [
          37.165826,
          38.837475
         ],
         "line": {
          "width": 2
         },
         "lon": [
          -118.289709,
          -119.6301656
         ],
         "marker": {
          "size": 8
         },
         "mode": "markers+lines",
         "name": "Row 1174",
         "showlegend": true,
         "text": [
          "Row: 1174<br>Source: Final Coordinates",
          "Row: 1174<br>Source: Geocoding API"
         ],
         "type": "scattermapbox"
        },
        {
         "hoverinfo": "text+lat+lon",
         "lat": [
          37.165826,
          38.837475
         ],
         "line": {
          "width": 2
         },
         "lon": [
          -118.289709,
          -119.6301656
         ],
         "marker": {
          "size": 8
         },
         "mode": "markers+lines",
         "name": "Row 1175",
         "showlegend": true,
         "text": [
          "Row: 1175<br>Source: Final Coordinates",
          "Row: 1175<br>Source: Geocoding API"
         ],
         "type": "scattermapbox"
        },
        {
         "hoverinfo": "text+lat+lon",
         "lat": [
          35.7988745,
          42.7593986
         ],
         "line": {
          "width": 2
         },
         "lon": [
          -117.8722155,
          -105.3984498
         ],
         "marker": {
          "size": 8
         },
         "mode": "markers+lines",
         "name": "Row 1188",
         "showlegend": true,
         "text": [
          "Row: 1188<br>Source: Final Coordinates",
          "Row: 1188<br>Source: Geocoding API"
         ],
         "type": "scattermapbox"
        },
        {
         "hoverinfo": "text+lat+lon",
         "lat": [
          35.7988745,
          42.7593986
         ],
         "line": {
          "width": 2
         },
         "lon": [
          -117.8722155,
          -105.3984498
         ],
         "marker": {
          "size": 8
         },
         "mode": "markers+lines",
         "name": "Row 1189",
         "showlegend": true,
         "text": [
          "Row: 1189<br>Source: Final Coordinates",
          "Row: 1189<br>Source: Geocoding API"
         ],
         "type": "scattermapbox"
        },
        {
         "hoverinfo": "text+lat+lon",
         "lat": [
          35.7988745,
          42.7593986
         ],
         "line": {
          "width": 2
         },
         "lon": [
          -117.8722155,
          -105.3984498
         ],
         "marker": {
          "size": 8
         },
         "mode": "markers+lines",
         "name": "Row 1190",
         "showlegend": true,
         "text": [
          "Row: 1190<br>Source: Final Coordinates",
          "Row: 1190<br>Source: Geocoding API"
         ],
         "type": "scattermapbox"
        },
        {
         "hoverinfo": "text+lat+lon",
         "lat": [
          35.7988745,
          42.7593986
         ],
         "line": {
          "width": 2
         },
         "lon": [
          -117.8722155,
          -105.3984498
         ],
         "marker": {
          "size": 8
         },
         "mode": "markers+lines",
         "name": "Row 1191",
         "showlegend": true,
         "text": [
          "Row: 1191<br>Source: Final Coordinates",
          "Row: 1191<br>Source: Geocoding API"
         ],
         "type": "scattermapbox"
        },
        {
         "hoverinfo": "text+lat+lon",
         "lat": [
          35.7988745,
          42.7593986
         ],
         "line": {
          "width": 2
         },
         "lon": [
          -117.8722155,
          -105.3984498
         ],
         "marker": {
          "size": 8
         },
         "mode": "markers+lines",
         "name": "Row 1192",
         "showlegend": true,
         "text": [
          "Row: 1192<br>Source: Final Coordinates",
          "Row: 1192<br>Source: Geocoding API"
         ],
         "type": "scattermapbox"
        },
        {
         "hoverinfo": "text+lat+lon",
         "lat": [
          35.7988745,
          42.7593986
         ],
         "line": {
          "width": 2
         },
         "lon": [
          -117.8722155,
          -105.3984498
         ],
         "marker": {
          "size": 8
         },
         "mode": "markers+lines",
         "name": "Row 1193",
         "showlegend": true,
         "text": [
          "Row: 1193<br>Source: Final Coordinates",
          "Row: 1193<br>Source: Geocoding API"
         ],
         "type": "scattermapbox"
        },
        {
         "hoverinfo": "text+lat+lon",
         "lat": [
          34.50616985,
          34.4402355
         ],
         "line": {
          "width": 2
         },
         "lon": [
          -117.89696865,
          -117.6422652
         ],
         "marker": {
          "size": 8
         },
         "mode": "markers+lines",
         "name": "Row 1194",
         "showlegend": true,
         "text": [
          "Row: 1194<br>Source: Final Coordinates",
          "Row: 1194<br>Source: Geocoding API"
         ],
         "type": "scattermapbox"
        },
        {
         "hoverinfo": "text+lat+lon",
         "lat": [
          34.50616985,
          34.4402355
         ],
         "line": {
          "width": 2
         },
         "lon": [
          -117.89696865,
          -117.6422652
         ],
         "marker": {
          "size": 8
         },
         "mode": "markers+lines",
         "name": "Row 1195",
         "showlegend": true,
         "text": [
          "Row: 1195<br>Source: Final Coordinates",
          "Row: 1195<br>Source: Geocoding API"
         ],
         "type": "scattermapbox"
        },
        {
         "hoverinfo": "text+lat+lon",
         "lat": [
          34.50616985,
          34.4402355
         ],
         "line": {
          "width": 2
         },
         "lon": [
          -117.89696865,
          -117.6422652
         ],
         "marker": {
          "size": 8
         },
         "mode": "markers+lines",
         "name": "Row 1196",
         "showlegend": true,
         "text": [
          "Row: 1196<br>Source: Final Coordinates",
          "Row: 1196<br>Source: Geocoding API"
         ],
         "type": "scattermapbox"
        },
        {
         "hoverinfo": "text+lat+lon",
         "lat": [
          34.50616985,
          34.4402355
         ],
         "line": {
          "width": 2
         },
         "lon": [
          -117.89696865,
          -117.6422652
         ],
         "marker": {
          "size": 8
         },
         "mode": "markers+lines",
         "name": "Row 1197",
         "showlegend": true,
         "text": [
          "Row: 1197<br>Source: Final Coordinates",
          "Row: 1197<br>Source: Geocoding API"
         ],
         "type": "scattermapbox"
        },
        {
         "hoverinfo": "text+lat+lon",
         "lat": [
          34.50616985,
          34.4402355
         ],
         "line": {
          "width": 2
         },
         "lon": [
          -117.89696865,
          -117.6422652
         ],
         "marker": {
          "size": 8
         },
         "mode": "markers+lines",
         "name": "Row 1198",
         "showlegend": true,
         "text": [
          "Row: 1198<br>Source: Final Coordinates",
          "Row: 1198<br>Source: Geocoding API"
         ],
         "type": "scattermapbox"
        },
        {
         "hoverinfo": "text+lat+lon",
         "lat": [
          34.50616985,
          34.4402355
         ],
         "line": {
          "width": 2
         },
         "lon": [
          -117.89696865,
          -117.6422652
         ],
         "marker": {
          "size": 8
         },
         "mode": "markers+lines",
         "name": "Row 1199",
         "showlegend": true,
         "text": [
          "Row: 1199<br>Source: Final Coordinates",
          "Row: 1199<br>Source: Geocoding API"
         ],
         "type": "scattermapbox"
        },
        {
         "hoverinfo": "text+lat+lon",
         "lat": [
          39.0180625,
          40.7121653
         ],
         "line": {
          "width": 2
         },
         "lon": [
          -122.912806,
          -111.8910852
         ],
         "marker": {
          "size": 8
         },
         "mode": "markers+lines",
         "name": "Row 1446",
         "showlegend": true,
         "text": [
          "Row: 1446<br>Source: Final Coordinates",
          "Row: 1446<br>Source: Geocoding API"
         ],
         "type": "scattermapbox"
        },
        {
         "hoverinfo": "text+lat+lon",
         "lat": [
          39.0180625,
          40.7121653
         ],
         "line": {
          "width": 2
         },
         "lon": [
          -122.912806,
          -111.8910852
         ],
         "marker": {
          "size": 8
         },
         "mode": "markers+lines",
         "name": "Row 1447",
         "showlegend": true,
         "text": [
          "Row: 1447<br>Source: Final Coordinates",
          "Row: 1447<br>Source: Geocoding API"
         ],
         "type": "scattermapbox"
        },
        {
         "hoverinfo": "text+lat+lon",
         "lat": [
          39.0180625,
          40.7121653
         ],
         "line": {
          "width": 2
         },
         "lon": [
          -122.912806,
          -111.8910852
         ],
         "marker": {
          "size": 8
         },
         "mode": "markers+lines",
         "name": "Row 1448",
         "showlegend": true,
         "text": [
          "Row: 1448<br>Source: Final Coordinates",
          "Row: 1448<br>Source: Geocoding API"
         ],
         "type": "scattermapbox"
        },
        {
         "hoverinfo": "text+lat+lon",
         "lat": [
          40.769677,
          40.82577140000001
         ],
         "line": {
          "width": 2
         },
         "lon": [
          -124.19162,
          -124.0820184
         ],
         "marker": {
          "size": 8
         },
         "mode": "markers+lines",
         "name": "Row 1452",
         "showlegend": true,
         "text": [
          "Row: 1452<br>Source: Final Coordinates",
          "Row: 1452<br>Source: Geocoding API"
         ],
         "type": "scattermapbox"
        },
        {
         "hoverinfo": "text+lat+lon",
         "lat": [
          40.769677,
          40.82577140000001
         ],
         "line": {
          "width": 2
         },
         "lon": [
          -124.19162,
          -124.0820184
         ],
         "marker": {
          "size": 8
         },
         "mode": "markers+lines",
         "name": "Row 1453",
         "showlegend": true,
         "text": [
          "Row: 1453<br>Source: Final Coordinates",
          "Row: 1453<br>Source: Geocoding API"
         ],
         "type": "scattermapbox"
        },
        {
         "hoverinfo": "text+lat+lon",
         "lat": [
          40.769677,
          40.82577140000001
         ],
         "line": {
          "width": 2
         },
         "lon": [
          -124.19162,
          -124.0820184
         ],
         "marker": {
          "size": 8
         },
         "mode": "markers+lines",
         "name": "Row 1454",
         "showlegend": true,
         "text": [
          "Row: 1454<br>Source: Final Coordinates",
          "Row: 1454<br>Source: Geocoding API"
         ],
         "type": "scattermapbox"
        },
        {
         "hoverinfo": "text+lat+lon",
         "lat": [
          40.769677,
          40.82577140000001
         ],
         "line": {
          "width": 2
         },
         "lon": [
          -124.19162,
          -124.0820184
         ],
         "marker": {
          "size": 8
         },
         "mode": "markers+lines",
         "name": "Row 1455",
         "showlegend": true,
         "text": [
          "Row: 1455<br>Source: Final Coordinates",
          "Row: 1455<br>Source: Geocoding API"
         ],
         "type": "scattermapbox"
        },
        {
         "hoverinfo": "text+lat+lon",
         "lat": [
          40.769677,
          40.82577140000001
         ],
         "line": {
          "width": 2
         },
         "lon": [
          -124.19162,
          -124.0820184
         ],
         "marker": {
          "size": 8
         },
         "mode": "markers+lines",
         "name": "Row 1456",
         "showlegend": true,
         "text": [
          "Row: 1456<br>Source: Final Coordinates",
          "Row: 1456<br>Source: Geocoding API"
         ],
         "type": "scattermapbox"
        },
        {
         "hoverinfo": "text+lat+lon",
         "lat": [
          40.769677,
          40.82577140000001
         ],
         "line": {
          "width": 2
         },
         "lon": [
          -124.19162,
          -124.0820184
         ],
         "marker": {
          "size": 8
         },
         "mode": "markers+lines",
         "name": "Row 1457",
         "showlegend": true,
         "text": [
          "Row: 1457<br>Source: Final Coordinates",
          "Row: 1457<br>Source: Geocoding API"
         ],
         "type": "scattermapbox"
        },
        {
         "hoverinfo": "text+lat+lon",
         "lat": [
          36.8030995,
          39.0669396
         ],
         "line": {
          "width": 2
         },
         "lon": [
          -119.5158815,
          -121.632404
         ],
         "marker": {
          "size": 8
         },
         "mode": "markers+lines",
         "name": "Row 1488",
         "showlegend": true,
         "text": [
          "Row: 1488<br>Source: Final Coordinates",
          "Row: 1488<br>Source: Geocoding API"
         ],
         "type": "scattermapbox"
        },
        {
         "hoverinfo": "text+lat+lon",
         "lat": [
          36.8030995,
          39.0669396
         ],
         "line": {
          "width": 2
         },
         "lon": [
          -119.5158815,
          -121.632404
         ],
         "marker": {
          "size": 8
         },
         "mode": "markers+lines",
         "name": "Row 1489",
         "showlegend": true,
         "text": [
          "Row: 1489<br>Source: Final Coordinates",
          "Row: 1489<br>Source: Geocoding API"
         ],
         "type": "scattermapbox"
        },
        {
         "hoverinfo": "text+lat+lon",
         "lat": [
          36.8030995,
          39.0669396
         ],
         "line": {
          "width": 2
         },
         "lon": [
          -119.5158815,
          -121.632404
         ],
         "marker": {
          "size": 8
         },
         "mode": "markers+lines",
         "name": "Row 1490",
         "showlegend": true,
         "text": [
          "Row: 1490<br>Source: Final Coordinates",
          "Row: 1490<br>Source: Geocoding API"
         ],
         "type": "scattermapbox"
        },
        {
         "hoverinfo": "text+lat+lon",
         "lat": [
          36.8030995,
          39.0669396
         ],
         "line": {
          "width": 2
         },
         "lon": [
          -119.5158815,
          -121.632404
         ],
         "marker": {
          "size": 8
         },
         "mode": "markers+lines",
         "name": "Row 1491",
         "showlegend": true,
         "text": [
          "Row: 1491<br>Source: Final Coordinates",
          "Row: 1491<br>Source: Geocoding API"
         ],
         "type": "scattermapbox"
        },
        {
         "hoverinfo": "text+lat+lon",
         "lat": [
          36.8030995,
          39.0669396
         ],
         "line": {
          "width": 2
         },
         "lon": [
          -119.5158815,
          -121.632404
         ],
         "marker": {
          "size": 8
         },
         "mode": "markers+lines",
         "name": "Row 1492",
         "showlegend": true,
         "text": [
          "Row: 1492<br>Source: Final Coordinates",
          "Row: 1492<br>Source: Geocoding API"
         ],
         "type": "scattermapbox"
        },
        {
         "hoverinfo": "text+lat+lon",
         "lat": [
          36.8030995,
          39.0669396
         ],
         "line": {
          "width": 2
         },
         "lon": [
          -119.5158815,
          -121.632404
         ],
         "marker": {
          "size": 8
         },
         "mode": "markers+lines",
         "name": "Row 1493",
         "showlegend": true,
         "text": [
          "Row: 1493<br>Source: Final Coordinates",
          "Row: 1493<br>Source: Geocoding API"
         ],
         "type": "scattermapbox"
        },
        {
         "hoverinfo": "text+lat+lon",
         "lat": [
          40.301685500000005,
          39.0803628
         ],
         "line": {
          "width": 2
         },
         "lon": [
          -109.859581,
          -88.6667717
         ],
         "marker": {
          "size": 8
         },
         "mode": "markers+lines",
         "name": "Row 1544",
         "showlegend": true,
         "text": [
          "Row: 1544<br>Source: Final Coordinates",
          "Row: 1544<br>Source: Geocoding API"
         ],
         "type": "scattermapbox"
        },
        {
         "hoverinfo": "text+lat+lon",
         "lat": [
          40.301685500000005,
          39.0803628
         ],
         "line": {
          "width": 2
         },
         "lon": [
          -109.859581,
          -88.6667717
         ],
         "marker": {
          "size": 8
         },
         "mode": "markers+lines",
         "name": "Row 1545",
         "showlegend": true,
         "text": [
          "Row: 1545<br>Source: Final Coordinates",
          "Row: 1545<br>Source: Geocoding API"
         ],
         "type": "scattermapbox"
        },
        {
         "hoverinfo": "text+lat+lon",
         "lat": [
          40.301685500000005,
          39.0803628
         ],
         "line": {
          "width": 2
         },
         "lon": [
          -109.859581,
          -88.6667717
         ],
         "marker": {
          "size": 8
         },
         "mode": "markers+lines",
         "name": "Row 1546",
         "showlegend": true,
         "text": [
          "Row: 1546<br>Source: Final Coordinates",
          "Row: 1546<br>Source: Geocoding API"
         ],
         "type": "scattermapbox"
        },
        {
         "hoverinfo": "text+lat+lon",
         "lat": [
          40.2941785,
          39.6800657
         ],
         "line": {
          "width": 2
         },
         "lon": [
          -109.989289,
          -75.471584
         ],
         "marker": {
          "size": 8
         },
         "mode": "markers+lines",
         "name": "Row 1553",
         "showlegend": true,
         "text": [
          "Row: 1553<br>Source: Final Coordinates",
          "Row: 1553<br>Source: Geocoding API"
         ],
         "type": "scattermapbox"
        },
        {
         "hoverinfo": "text+lat+lon",
         "lat": [
          40.2941785,
          39.6800657
         ],
         "line": {
          "width": 2
         },
         "lon": [
          -109.989289,
          -75.471584
         ],
         "marker": {
          "size": 8
         },
         "mode": "markers+lines",
         "name": "Row 1555",
         "showlegend": true,
         "text": [
          "Row: 1555<br>Source: Final Coordinates",
          "Row: 1555<br>Source: Geocoding API"
         ],
         "type": "scattermapbox"
        },
        {
         "hoverinfo": "text+lat+lon",
         "lat": [
          39.5429425,
          41.8299589
         ],
         "line": {
          "width": 2
         },
         "lon": [
          -110.68792,
          -71.5329273
         ],
         "marker": {
          "size": 8
         },
         "mode": "markers+lines",
         "name": "Row 1604",
         "showlegend": true,
         "text": [
          "Row: 1604<br>Source: Final Coordinates",
          "Row: 1604<br>Source: Geocoding API"
         ],
         "type": "scattermapbox"
        },
        {
         "hoverinfo": "text+lat+lon",
         "lat": [
          39.5429425,
          41.8299589
         ],
         "line": {
          "width": 2
         },
         "lon": [
          -110.68792,
          -71.5329273
         ],
         "marker": {
          "size": 8
         },
         "mode": "markers+lines",
         "name": "Row 1605",
         "showlegend": true,
         "text": [
          "Row: 1605<br>Source: Final Coordinates",
          "Row: 1605<br>Source: Geocoding API"
         ],
         "type": "scattermapbox"
        },
        {
         "hoverinfo": "text+lat+lon",
         "lat": [
          39.5429693,
          39.7253008
         ],
         "line": {
          "width": 2
         },
         "lon": [
          -110.6882878,
          -110.8676348
         ],
         "marker": {
          "size": 8
         },
         "mode": "markers+lines",
         "name": "Row 1610",
         "showlegend": true,
         "text": [
          "Row: 1610<br>Source: Final Coordinates",
          "Row: 1610<br>Source: Geocoding API"
         ],
         "type": "scattermapbox"
        },
        {
         "hoverinfo": "text+lat+lon",
         "lat": [
          39.5429693,
          39.7253008
         ],
         "line": {
          "width": 2
         },
         "lon": [
          -110.6882878,
          -110.8676348
         ],
         "marker": {
          "size": 8
         },
         "mode": "markers+lines",
         "name": "Row 1611",
         "showlegend": true,
         "text": [
          "Row: 1611<br>Source: Final Coordinates",
          "Row: 1611<br>Source: Geocoding API"
         ],
         "type": "scattermapbox"
        },
        {
         "hoverinfo": "text+lat+lon",
         "lat": [
          39.5429693,
          41.8299589
         ],
         "line": {
          "width": 2
         },
         "lon": [
          -110.6882878,
          -71.5329273
         ],
         "marker": {
          "size": 8
         },
         "mode": "markers+lines",
         "name": "Row 1613",
         "showlegend": true,
         "text": [
          "Row: 1613<br>Source: Final Coordinates",
          "Row: 1613<br>Source: Geocoding API"
         ],
         "type": "scattermapbox"
        },
        {
         "hoverinfo": "text+lat+lon",
         "lat": [
          32.491554,
          47.520092
         ],
         "line": {
          "width": 2
         },
         "lon": [
          -114.78273,
          -116.937892
         ],
         "marker": {
          "size": 8
         },
         "mode": "markers+lines",
         "name": "Row 1736",
         "showlegend": true,
         "text": [
          "Row: 1736<br>Source: Final Coordinates",
          "Row: 1736<br>Source: Geocoding API"
         ],
         "type": "scattermapbox"
        },
        {
         "hoverinfo": "text+lat+lon",
         "lat": [
          32.491554,
          47.520092
         ],
         "line": {
          "width": 2
         },
         "lon": [
          -114.78273,
          -116.937892
         ],
         "marker": {
          "size": 8
         },
         "mode": "markers+lines",
         "name": "Row 1737",
         "showlegend": true,
         "text": [
          "Row: 1737<br>Source: Final Coordinates",
          "Row: 1737<br>Source: Geocoding API"
         ],
         "type": "scattermapbox"
        },
        {
         "hoverinfo": "text+lat+lon",
         "lat": [
          32.491554,
          47.520092
         ],
         "line": {
          "width": 2
         },
         "lon": [
          -114.78273,
          -116.937892
         ],
         "marker": {
          "size": 8
         },
         "mode": "markers+lines",
         "name": "Row 1738",
         "showlegend": true,
         "text": [
          "Row: 1738<br>Source: Final Coordinates",
          "Row: 1738<br>Source: Geocoding API"
         ],
         "type": "scattermapbox"
        },
        {
         "hoverinfo": "text+lat+lon",
         "lat": [
          34.759205,
          34.7299923
         ],
         "line": {
          "width": 2
         },
         "lon": [
          -112.453995,
          -112.4550623
         ],
         "marker": {
          "size": 8
         },
         "mode": "markers+lines",
         "name": "Row 1791",
         "showlegend": true,
         "text": [
          "Row: 1791<br>Source: Final Coordinates",
          "Row: 1791<br>Source: Geocoding API"
         ],
         "type": "scattermapbox"
        },
        {
         "hoverinfo": "text+lat+lon",
         "lat": [
          34.759205,
          34.7299923
         ],
         "line": {
          "width": 2
         },
         "lon": [
          -112.453995,
          -112.4550623
         ],
         "marker": {
          "size": 8
         },
         "mode": "markers+lines",
         "name": "Row 1792",
         "showlegend": true,
         "text": [
          "Row: 1792<br>Source: Final Coordinates",
          "Row: 1792<br>Source: Geocoding API"
         ],
         "type": "scattermapbox"
        },
        {
         "hoverinfo": "text+lat+lon",
         "lat": [
          34.759205,
          34.7299923
         ],
         "line": {
          "width": 2
         },
         "lon": [
          -112.453995,
          -112.4550623
         ],
         "marker": {
          "size": 8
         },
         "mode": "markers+lines",
         "name": "Row 1793",
         "showlegend": true,
         "text": [
          "Row: 1793<br>Source: Final Coordinates",
          "Row: 1793<br>Source: Geocoding API"
         ],
         "type": "scattermapbox"
        },
        {
         "hoverinfo": "text+lat+lon",
         "lat": [
          36.216873,
          36.2482029
         ],
         "line": {
          "width": 2
         },
         "lon": [
          -115.09515,
          -115.0413738
         ],
         "marker": {
          "size": 8
         },
         "mode": "markers+lines",
         "name": "Row 1836",
         "showlegend": true,
         "text": [
          "Row: 1836<br>Source: Final Coordinates",
          "Row: 1836<br>Source: Geocoding API"
         ],
         "type": "scattermapbox"
        },
        {
         "hoverinfo": "text+lat+lon",
         "lat": [
          36.216985357666005,
          36.2482029
         ],
         "line": {
          "width": 2
         },
         "lon": [
          -115.09524175415048,
          -115.0413738
         ],
         "marker": {
          "size": 8
         },
         "mode": "markers+lines",
         "name": "Row 1838",
         "showlegend": true,
         "text": [
          "Row: 1838<br>Source: Final Coordinates",
          "Row: 1838<br>Source: Geocoding API"
         ],
         "type": "scattermapbox"
        },
        {
         "hoverinfo": "text+lat+lon",
         "lat": [
          36.216985357666005,
          36.2482029
         ],
         "line": {
          "width": 2
         },
         "lon": [
          -115.09524175415048,
          -115.0413738
         ],
         "marker": {
          "size": 8
         },
         "mode": "markers+lines",
         "name": "Row 1839",
         "showlegend": true,
         "text": [
          "Row: 1839<br>Source: Final Coordinates",
          "Row: 1839<br>Source: Geocoding API"
         ],
         "type": "scattermapbox"
        },
        {
         "hoverinfo": "text+lat+lon",
         "lat": [
          36.216985357666005,
          36.2482029
         ],
         "line": {
          "width": 2
         },
         "lon": [
          -115.09524175415048,
          -115.0413738
         ],
         "marker": {
          "size": 8
         },
         "mode": "markers+lines",
         "name": "Row 1840",
         "showlegend": true,
         "text": [
          "Row: 1840<br>Source: Final Coordinates",
          "Row: 1840<br>Source: Geocoding API"
         ],
         "type": "scattermapbox"
        },
        {
         "hoverinfo": "text+lat+lon",
         "lat": [
          36.216985357666005,
          38.8026097
         ],
         "line": {
          "width": 2
         },
         "lon": [
          -115.09524175415048,
          -116.419389
         ],
         "marker": {
          "size": 8
         },
         "mode": "markers+lines",
         "name": "Row 1841",
         "showlegend": true,
         "text": [
          "Row: 1841<br>Source: Final Coordinates",
          "Row: 1841<br>Source: Geocoding API"
         ],
         "type": "scattermapbox"
        },
        {
         "hoverinfo": "text+lat+lon",
         "lat": [
          39.47483697944864,
          38.9760305
         ],
         "line": {
          "width": 2
         },
         "lon": [
          -118.79599687566424,
          -85.7459928
         ],
         "marker": {
          "size": 8
         },
         "mode": "markers+lines",
         "name": "Row 1850",
         "showlegend": true,
         "text": [
          "Row: 1850<br>Source: Final Coordinates",
          "Row: 1850<br>Source: Geocoding API"
         ],
         "type": "scattermapbox"
        },
        {
         "hoverinfo": "text+lat+lon",
         "lat": [
          39.47483697944864,
          38.9760305
         ],
         "line": {
          "width": 2
         },
         "lon": [
          -118.79599687566424,
          -85.7459928
         ],
         "marker": {
          "size": 8
         },
         "mode": "markers+lines",
         "name": "Row 1851",
         "showlegend": true,
         "text": [
          "Row: 1851<br>Source: Final Coordinates",
          "Row: 1851<br>Source: Geocoding API"
         ],
         "type": "scattermapbox"
        },
        {
         "hoverinfo": "text+lat+lon",
         "lat": [
          39.47483697944864,
          38.9760305
         ],
         "line": {
          "width": 2
         },
         "lon": [
          -118.79599687566424,
          -85.7459928
         ],
         "marker": {
          "size": 8
         },
         "mode": "markers+lines",
         "name": "Row 1852",
         "showlegend": true,
         "text": [
          "Row: 1852<br>Source: Final Coordinates",
          "Row: 1852<br>Source: Geocoding API"
         ],
         "type": "scattermapbox"
        },
        {
         "hoverinfo": "text+lat+lon",
         "lat": [
          39.47483697944864,
          38.9760305
         ],
         "line": {
          "width": 2
         },
         "lon": [
          -118.79599687566424,
          -85.7459928
         ],
         "marker": {
          "size": 8
         },
         "mode": "markers+lines",
         "name": "Row 1853",
         "showlegend": true,
         "text": [
          "Row: 1853<br>Source: Final Coordinates",
          "Row: 1853<br>Source: Geocoding API"
         ],
         "type": "scattermapbox"
        },
        {
         "hoverinfo": "text+lat+lon",
         "lat": [
          39.47483697944864,
          38.9760305
         ],
         "line": {
          "width": 2
         },
         "lon": [
          -118.79599687566424,
          -85.7459928
         ],
         "marker": {
          "size": 8
         },
         "mode": "markers+lines",
         "name": "Row 1854",
         "showlegend": true,
         "text": [
          "Row: 1854<br>Source: Final Coordinates",
          "Row: 1854<br>Source: Geocoding API"
         ],
         "type": "scattermapbox"
        },
        {
         "hoverinfo": "text+lat+lon",
         "lat": [
          33.3562915,
          33.6863388
         ],
         "line": {
          "width": 2
         },
         "lon": [
          -116.0196105,
          -116.1629742
         ],
         "marker": {
          "size": 8
         },
         "mode": "markers+lines",
         "name": "Row 1995",
         "showlegend": true,
         "text": [
          "Row: 1995<br>Source: Final Coordinates",
          "Row: 1995<br>Source: Geocoding API"
         ],
         "type": "scattermapbox"
        },
        {
         "hoverinfo": "text+lat+lon",
         "lat": [
          37.16635,
          38.8372954
         ],
         "line": {
          "width": 2
         },
         "lon": [
          -118.28971,
          -119.6332945
         ],
         "marker": {
          "size": 8
         },
         "mode": "markers+lines",
         "name": "Row 2155",
         "showlegend": true,
         "text": [
          "Row: 2155<br>Source: Final Coordinates",
          "Row: 2155<br>Source: Geocoding API"
         ],
         "type": "scattermapbox"
        },
        {
         "hoverinfo": "text+lat+lon",
         "lat": [
          37.16635,
          38.8372954
         ],
         "line": {
          "width": 2
         },
         "lon": [
          -118.28971,
          -119.6332945
         ],
         "marker": {
          "size": 8
         },
         "mode": "markers+lines",
         "name": "Row 2156",
         "showlegend": true,
         "text": [
          "Row: 2156<br>Source: Final Coordinates",
          "Row: 2156<br>Source: Geocoding API"
         ],
         "type": "scattermapbox"
        },
        {
         "hoverinfo": "text+lat+lon",
         "lat": [
          37.16635,
          38.8372954
         ],
         "line": {
          "width": 2
         },
         "lon": [
          -118.28971,
          -119.6332945
         ],
         "marker": {
          "size": 8
         },
         "mode": "markers+lines",
         "name": "Row 2157",
         "showlegend": true,
         "text": [
          "Row: 2157<br>Source: Final Coordinates",
          "Row: 2157<br>Source: Geocoding API"
         ],
         "type": "scattermapbox"
        },
        {
         "hoverinfo": "text+lat+lon",
         "lat": [
          37.3574775,
          40.1354372
         ],
         "line": {
          "width": 2
         },
         "lon": [
          -118.3950735,
          -120.2665621
         ],
         "marker": {
          "size": 8
         },
         "mode": "markers+lines",
         "name": "Row 2161",
         "showlegend": true,
         "text": [
          "Row: 2161<br>Source: Final Coordinates",
          "Row: 2161<br>Source: Geocoding API"
         ],
         "type": "scattermapbox"
        },
        {
         "hoverinfo": "text+lat+lon",
         "lat": [
          37.3574775,
          40.1354372
         ],
         "line": {
          "width": 2
         },
         "lon": [
          -118.3950735,
          -120.2665621
         ],
         "marker": {
          "size": 8
         },
         "mode": "markers+lines",
         "name": "Row 2162",
         "showlegend": true,
         "text": [
          "Row: 2162<br>Source: Final Coordinates",
          "Row: 2162<br>Source: Geocoding API"
         ],
         "type": "scattermapbox"
        },
        {
         "hoverinfo": "text+lat+lon",
         "lat": [
          37.3574775,
          40.1354372
         ],
         "line": {
          "width": 2
         },
         "lon": [
          -118.3950735,
          -120.2665621
         ],
         "marker": {
          "size": 8
         },
         "mode": "markers+lines",
         "name": "Row 2163",
         "showlegend": true,
         "text": [
          "Row: 2163<br>Source: Final Coordinates",
          "Row: 2163<br>Source: Geocoding API"
         ],
         "type": "scattermapbox"
        },
        {
         "hoverinfo": "text+lat+lon",
         "lat": [
          37.3574775,
          40.1354372
         ],
         "line": {
          "width": 2
         },
         "lon": [
          -118.3950735,
          -120.2665621
         ],
         "marker": {
          "size": 8
         },
         "mode": "markers+lines",
         "name": "Row 2164",
         "showlegend": true,
         "text": [
          "Row: 2164<br>Source: Final Coordinates",
          "Row: 2164<br>Source: Geocoding API"
         ],
         "type": "scattermapbox"
        },
        {
         "hoverinfo": "text+lat+lon",
         "lat": [
          37.3574775,
          40.1354372
         ],
         "line": {
          "width": 2
         },
         "lon": [
          -118.3950735,
          -120.2665621
         ],
         "marker": {
          "size": 8
         },
         "mode": "markers+lines",
         "name": "Row 2165",
         "showlegend": true,
         "text": [
          "Row: 2165<br>Source: Final Coordinates",
          "Row: 2165<br>Source: Geocoding API"
         ],
         "type": "scattermapbox"
        },
        {
         "hoverinfo": "text+lat+lon",
         "lat": [
          37.9342,
          37.889131
         ],
         "line": {
          "width": 2
         },
         "lon": [
          -121.698204,
          -121.6075998
         ],
         "marker": {
          "size": 8
         },
         "mode": "markers+lines",
         "name": "Row 2203",
         "showlegend": true,
         "text": [
          "Row: 2203<br>Source: Final Coordinates",
          "Row: 2203<br>Source: Geocoding API"
         ],
         "type": "scattermapbox"
        },
        {
         "hoverinfo": "text+lat+lon",
         "lat": [
          37.9342,
          37.889131
         ],
         "line": {
          "width": 2
         },
         "lon": [
          -121.698204,
          -121.6075998
         ],
         "marker": {
          "size": 8
         },
         "mode": "markers+lines",
         "name": "Row 2204",
         "showlegend": true,
         "text": [
          "Row: 2204<br>Source: Final Coordinates",
          "Row: 2204<br>Source: Geocoding API"
         ],
         "type": "scattermapbox"
        },
        {
         "hoverinfo": "text+lat+lon",
         "lat": [
          37.9342,
          37.889131
         ],
         "line": {
          "width": 2
         },
         "lon": [
          -121.698204,
          -121.6075998
         ],
         "marker": {
          "size": 8
         },
         "mode": "markers+lines",
         "name": "Row 2205",
         "showlegend": true,
         "text": [
          "Row: 2205<br>Source: Final Coordinates",
          "Row: 2205<br>Source: Geocoding API"
         ],
         "type": "scattermapbox"
        },
        {
         "hoverinfo": "text+lat+lon",
         "lat": [
          38.9308126846924,
          38.9867503
         ],
         "line": {
          "width": 2
         },
         "lon": [
          -122.7424165966795,
          -77.02687970000001
         ],
         "marker": {
          "size": 8
         },
         "mode": "markers+lines",
         "name": "Row 2259",
         "showlegend": true,
         "text": [
          "Row: 2259<br>Source: Final Coordinates",
          "Row: 2259<br>Source: Geocoding API"
         ],
         "type": "scattermapbox"
        },
        {
         "hoverinfo": "text+lat+lon",
         "lat": [
          38.930223615007975,
          38.9867503
         ],
         "line": {
          "width": 2
         },
         "lon": [
          -122.74217121479325,
          -77.02687970000001
         ],
         "marker": {
          "size": 8
         },
         "mode": "markers+lines",
         "name": "Row 2260",
         "showlegend": true,
         "text": [
          "Row: 2260<br>Source: Final Coordinates",
          "Row: 2260<br>Source: Geocoding API"
         ],
         "type": "scattermapbox"
        },
        {
         "hoverinfo": "text+lat+lon",
         "lat": [
          38.930223615007975,
          38.9867503
         ],
         "line": {
          "width": 2
         },
         "lon": [
          -122.74217121479325,
          -77.02687970000001
         ],
         "marker": {
          "size": 8
         },
         "mode": "markers+lines",
         "name": "Row 2261",
         "showlegend": true,
         "text": [
          "Row: 2261<br>Source: Final Coordinates",
          "Row: 2261<br>Source: Geocoding API"
         ],
         "type": "scattermapbox"
        },
        {
         "hoverinfo": "text+lat+lon",
         "lat": [
          38.930223615007975,
          38.9867503
         ],
         "line": {
          "width": 2
         },
         "lon": [
          -122.74217121479325,
          -77.02687970000001
         ],
         "marker": {
          "size": 8
         },
         "mode": "markers+lines",
         "name": "Row 2262",
         "showlegend": true,
         "text": [
          "Row: 2262<br>Source: Final Coordinates",
          "Row: 2262<br>Source: Geocoding API"
         ],
         "type": "scattermapbox"
        },
        {
         "hoverinfo": "text+lat+lon",
         "lat": [
          38.930223615007975,
          38.9867503
         ],
         "line": {
          "width": 2
         },
         "lon": [
          -122.74217121479325,
          -77.02687970000001
         ],
         "marker": {
          "size": 8
         },
         "mode": "markers+lines",
         "name": "Row 2263",
         "showlegend": true,
         "text": [
          "Row: 2263<br>Source: Final Coordinates",
          "Row: 2263<br>Source: Geocoding API"
         ],
         "type": "scattermapbox"
        },
        {
         "hoverinfo": "text+lat+lon",
         "lat": [
          38.930223615007975,
          38.9867503
         ],
         "line": {
          "width": 2
         },
         "lon": [
          -122.74217121479325,
          -77.02687970000001
         ],
         "marker": {
          "size": 8
         },
         "mode": "markers+lines",
         "name": "Row 2264",
         "showlegend": true,
         "text": [
          "Row: 2264<br>Source: Final Coordinates",
          "Row: 2264<br>Source: Geocoding API"
         ],
         "type": "scattermapbox"
        },
        {
         "hoverinfo": "text+lat+lon",
         "lat": [
          40.77498155,
          44.3343423
         ],
         "line": {
          "width": 2
         },
         "lon": [
          -124.1902463,
          -124.0985251
         ],
         "marker": {
          "size": 8
         },
         "mode": "markers+lines",
         "name": "Row 2276",
         "showlegend": true,
         "text": [
          "Row: 2276<br>Source: Final Coordinates",
          "Row: 2276<br>Source: Geocoding API"
         ],
         "type": "scattermapbox"
        },
        {
         "hoverinfo": "text+lat+lon",
         "lat": [
          40.77498155,
          44.3343423
         ],
         "line": {
          "width": 2
         },
         "lon": [
          -124.1902463,
          -124.0985251
         ],
         "marker": {
          "size": 8
         },
         "mode": "markers+lines",
         "name": "Row 2277",
         "showlegend": true,
         "text": [
          "Row: 2277<br>Source: Final Coordinates",
          "Row: 2277<br>Source: Geocoding API"
         ],
         "type": "scattermapbox"
        },
        {
         "hoverinfo": "text+lat+lon",
         "lat": [
          40.77498155,
          44.3343423
         ],
         "line": {
          "width": 2
         },
         "lon": [
          -124.1902463,
          -124.0985251
         ],
         "marker": {
          "size": 8
         },
         "mode": "markers+lines",
         "name": "Row 2278",
         "showlegend": true,
         "text": [
          "Row: 2278<br>Source: Final Coordinates",
          "Row: 2278<br>Source: Geocoding API"
         ],
         "type": "scattermapbox"
        },
        {
         "hoverinfo": "text+lat+lon",
         "lat": [
          40.77498155,
          44.3343423
         ],
         "line": {
          "width": 2
         },
         "lon": [
          -124.1902463,
          -124.0985251
         ],
         "marker": {
          "size": 8
         },
         "mode": "markers+lines",
         "name": "Row 2279",
         "showlegend": true,
         "text": [
          "Row: 2279<br>Source: Final Coordinates",
          "Row: 2279<br>Source: Geocoding API"
         ],
         "type": "scattermapbox"
        },
        {
         "hoverinfo": "text+lat+lon",
         "lat": [
          40.77498155,
          44.3343423
         ],
         "line": {
          "width": 2
         },
         "lon": [
          -124.1902463,
          -124.0985251
         ],
         "marker": {
          "size": 8
         },
         "mode": "markers+lines",
         "name": "Row 2280",
         "showlegend": true,
         "text": [
          "Row: 2280<br>Source: Final Coordinates",
          "Row: 2280<br>Source: Geocoding API"
         ],
         "type": "scattermapbox"
        }
       ],
       "layout": {
        "mapbox": {
         "center": {
          "lat": 39.5,
          "lon": -98.35
         },
         "style": "open-street-map",
         "zoom": 4
        },
        "margin": {
         "b": 0,
         "l": 0,
         "r": 0,
         "t": 0
        },
        "showlegend": true,
        "template": {
         "data": {
          "bar": [
           {
            "error_x": {
             "color": "#2a3f5f"
            },
            "error_y": {
             "color": "#2a3f5f"
            },
            "marker": {
             "line": {
              "color": "#E5ECF6",
              "width": 0.5
             },
             "pattern": {
              "fillmode": "overlay",
              "size": 10,
              "solidity": 0.2
             }
            },
            "type": "bar"
           }
          ],
          "barpolar": [
           {
            "marker": {
             "line": {
              "color": "#E5ECF6",
              "width": 0.5
             },
             "pattern": {
              "fillmode": "overlay",
              "size": 10,
              "solidity": 0.2
             }
            },
            "type": "barpolar"
           }
          ],
          "carpet": [
           {
            "aaxis": {
             "endlinecolor": "#2a3f5f",
             "gridcolor": "white",
             "linecolor": "white",
             "minorgridcolor": "white",
             "startlinecolor": "#2a3f5f"
            },
            "baxis": {
             "endlinecolor": "#2a3f5f",
             "gridcolor": "white",
             "linecolor": "white",
             "minorgridcolor": "white",
             "startlinecolor": "#2a3f5f"
            },
            "type": "carpet"
           }
          ],
          "choropleth": [
           {
            "colorbar": {
             "outlinewidth": 0,
             "ticks": ""
            },
            "type": "choropleth"
           }
          ],
          "contour": [
           {
            "colorbar": {
             "outlinewidth": 0,
             "ticks": ""
            },
            "colorscale": [
             [
              0,
              "#0d0887"
             ],
             [
              0.1111111111111111,
              "#46039f"
             ],
             [
              0.2222222222222222,
              "#7201a8"
             ],
             [
              0.3333333333333333,
              "#9c179e"
             ],
             [
              0.4444444444444444,
              "#bd3786"
             ],
             [
              0.5555555555555556,
              "#d8576b"
             ],
             [
              0.6666666666666666,
              "#ed7953"
             ],
             [
              0.7777777777777778,
              "#fb9f3a"
             ],
             [
              0.8888888888888888,
              "#fdca26"
             ],
             [
              1,
              "#f0f921"
             ]
            ],
            "type": "contour"
           }
          ],
          "contourcarpet": [
           {
            "colorbar": {
             "outlinewidth": 0,
             "ticks": ""
            },
            "type": "contourcarpet"
           }
          ],
          "heatmap": [
           {
            "colorbar": {
             "outlinewidth": 0,
             "ticks": ""
            },
            "colorscale": [
             [
              0,
              "#0d0887"
             ],
             [
              0.1111111111111111,
              "#46039f"
             ],
             [
              0.2222222222222222,
              "#7201a8"
             ],
             [
              0.3333333333333333,
              "#9c179e"
             ],
             [
              0.4444444444444444,
              "#bd3786"
             ],
             [
              0.5555555555555556,
              "#d8576b"
             ],
             [
              0.6666666666666666,
              "#ed7953"
             ],
             [
              0.7777777777777778,
              "#fb9f3a"
             ],
             [
              0.8888888888888888,
              "#fdca26"
             ],
             [
              1,
              "#f0f921"
             ]
            ],
            "type": "heatmap"
           }
          ],
          "histogram": [
           {
            "marker": {
             "pattern": {
              "fillmode": "overlay",
              "size": 10,
              "solidity": 0.2
             }
            },
            "type": "histogram"
           }
          ],
          "histogram2d": [
           {
            "colorbar": {
             "outlinewidth": 0,
             "ticks": ""
            },
            "colorscale": [
             [
              0,
              "#0d0887"
             ],
             [
              0.1111111111111111,
              "#46039f"
             ],
             [
              0.2222222222222222,
              "#7201a8"
             ],
             [
              0.3333333333333333,
              "#9c179e"
             ],
             [
              0.4444444444444444,
              "#bd3786"
             ],
             [
              0.5555555555555556,
              "#d8576b"
             ],
             [
              0.6666666666666666,
              "#ed7953"
             ],
             [
              0.7777777777777778,
              "#fb9f3a"
             ],
             [
              0.8888888888888888,
              "#fdca26"
             ],
             [
              1,
              "#f0f921"
             ]
            ],
            "type": "histogram2d"
           }
          ],
          "histogram2dcontour": [
           {
            "colorbar": {
             "outlinewidth": 0,
             "ticks": ""
            },
            "colorscale": [
             [
              0,
              "#0d0887"
             ],
             [
              0.1111111111111111,
              "#46039f"
             ],
             [
              0.2222222222222222,
              "#7201a8"
             ],
             [
              0.3333333333333333,
              "#9c179e"
             ],
             [
              0.4444444444444444,
              "#bd3786"
             ],
             [
              0.5555555555555556,
              "#d8576b"
             ],
             [
              0.6666666666666666,
              "#ed7953"
             ],
             [
              0.7777777777777778,
              "#fb9f3a"
             ],
             [
              0.8888888888888888,
              "#fdca26"
             ],
             [
              1,
              "#f0f921"
             ]
            ],
            "type": "histogram2dcontour"
           }
          ],
          "mesh3d": [
           {
            "colorbar": {
             "outlinewidth": 0,
             "ticks": ""
            },
            "type": "mesh3d"
           }
          ],
          "parcoords": [
           {
            "line": {
             "colorbar": {
              "outlinewidth": 0,
              "ticks": ""
             }
            },
            "type": "parcoords"
           }
          ],
          "pie": [
           {
            "automargin": true,
            "type": "pie"
           }
          ],
          "scatter": [
           {
            "fillpattern": {
             "fillmode": "overlay",
             "size": 10,
             "solidity": 0.2
            },
            "type": "scatter"
           }
          ],
          "scatter3d": [
           {
            "line": {
             "colorbar": {
              "outlinewidth": 0,
              "ticks": ""
             }
            },
            "marker": {
             "colorbar": {
              "outlinewidth": 0,
              "ticks": ""
             }
            },
            "type": "scatter3d"
           }
          ],
          "scattercarpet": [
           {
            "marker": {
             "colorbar": {
              "outlinewidth": 0,
              "ticks": ""
             }
            },
            "type": "scattercarpet"
           }
          ],
          "scattergeo": [
           {
            "marker": {
             "colorbar": {
              "outlinewidth": 0,
              "ticks": ""
             }
            },
            "type": "scattergeo"
           }
          ],
          "scattergl": [
           {
            "marker": {
             "colorbar": {
              "outlinewidth": 0,
              "ticks": ""
             }
            },
            "type": "scattergl"
           }
          ],
          "scattermap": [
           {
            "marker": {
             "colorbar": {
              "outlinewidth": 0,
              "ticks": ""
             }
            },
            "type": "scattermap"
           }
          ],
          "scattermapbox": [
           {
            "marker": {
             "colorbar": {
              "outlinewidth": 0,
              "ticks": ""
             }
            },
            "type": "scattermapbox"
           }
          ],
          "scatterpolar": [
           {
            "marker": {
             "colorbar": {
              "outlinewidth": 0,
              "ticks": ""
             }
            },
            "type": "scatterpolar"
           }
          ],
          "scatterpolargl": [
           {
            "marker": {
             "colorbar": {
              "outlinewidth": 0,
              "ticks": ""
             }
            },
            "type": "scatterpolargl"
           }
          ],
          "scatterternary": [
           {
            "marker": {
             "colorbar": {
              "outlinewidth": 0,
              "ticks": ""
             }
            },
            "type": "scatterternary"
           }
          ],
          "surface": [
           {
            "colorbar": {
             "outlinewidth": 0,
             "ticks": ""
            },
            "colorscale": [
             [
              0,
              "#0d0887"
             ],
             [
              0.1111111111111111,
              "#46039f"
             ],
             [
              0.2222222222222222,
              "#7201a8"
             ],
             [
              0.3333333333333333,
              "#9c179e"
             ],
             [
              0.4444444444444444,
              "#bd3786"
             ],
             [
              0.5555555555555556,
              "#d8576b"
             ],
             [
              0.6666666666666666,
              "#ed7953"
             ],
             [
              0.7777777777777778,
              "#fb9f3a"
             ],
             [
              0.8888888888888888,
              "#fdca26"
             ],
             [
              1,
              "#f0f921"
             ]
            ],
            "type": "surface"
           }
          ],
          "table": [
           {
            "cells": {
             "fill": {
              "color": "#EBF0F8"
             },
             "line": {
              "color": "white"
             }
            },
            "header": {
             "fill": {
              "color": "#C8D4E3"
             },
             "line": {
              "color": "white"
             }
            },
            "type": "table"
           }
          ]
         },
         "layout": {
          "annotationdefaults": {
           "arrowcolor": "#2a3f5f",
           "arrowhead": 0,
           "arrowwidth": 1
          },
          "autotypenumbers": "strict",
          "coloraxis": {
           "colorbar": {
            "outlinewidth": 0,
            "ticks": ""
           }
          },
          "colorscale": {
           "diverging": [
            [
             0,
             "#8e0152"
            ],
            [
             0.1,
             "#c51b7d"
            ],
            [
             0.2,
             "#de77ae"
            ],
            [
             0.3,
             "#f1b6da"
            ],
            [
             0.4,
             "#fde0ef"
            ],
            [
             0.5,
             "#f7f7f7"
            ],
            [
             0.6,
             "#e6f5d0"
            ],
            [
             0.7,
             "#b8e186"
            ],
            [
             0.8,
             "#7fbc41"
            ],
            [
             0.9,
             "#4d9221"
            ],
            [
             1,
             "#276419"
            ]
           ],
           "sequential": [
            [
             0,
             "#0d0887"
            ],
            [
             0.1111111111111111,
             "#46039f"
            ],
            [
             0.2222222222222222,
             "#7201a8"
            ],
            [
             0.3333333333333333,
             "#9c179e"
            ],
            [
             0.4444444444444444,
             "#bd3786"
            ],
            [
             0.5555555555555556,
             "#d8576b"
            ],
            [
             0.6666666666666666,
             "#ed7953"
            ],
            [
             0.7777777777777778,
             "#fb9f3a"
            ],
            [
             0.8888888888888888,
             "#fdca26"
            ],
            [
             1,
             "#f0f921"
            ]
           ],
           "sequentialminus": [
            [
             0,
             "#0d0887"
            ],
            [
             0.1111111111111111,
             "#46039f"
            ],
            [
             0.2222222222222222,
             "#7201a8"
            ],
            [
             0.3333333333333333,
             "#9c179e"
            ],
            [
             0.4444444444444444,
             "#bd3786"
            ],
            [
             0.5555555555555556,
             "#d8576b"
            ],
            [
             0.6666666666666666,
             "#ed7953"
            ],
            [
             0.7777777777777778,
             "#fb9f3a"
            ],
            [
             0.8888888888888888,
             "#fdca26"
            ],
            [
             1,
             "#f0f921"
            ]
           ]
          },
          "colorway": [
           "#636efa",
           "#EF553B",
           "#00cc96",
           "#ab63fa",
           "#FFA15A",
           "#19d3f3",
           "#FF6692",
           "#B6E880",
           "#FF97FF",
           "#FECB52"
          ],
          "font": {
           "color": "#2a3f5f"
          },
          "geo": {
           "bgcolor": "white",
           "lakecolor": "white",
           "landcolor": "#E5ECF6",
           "showlakes": true,
           "showland": true,
           "subunitcolor": "white"
          },
          "hoverlabel": {
           "align": "left"
          },
          "hovermode": "closest",
          "mapbox": {
           "style": "light"
          },
          "paper_bgcolor": "white",
          "plot_bgcolor": "#E5ECF6",
          "polar": {
           "angularaxis": {
            "gridcolor": "white",
            "linecolor": "white",
            "ticks": ""
           },
           "bgcolor": "#E5ECF6",
           "radialaxis": {
            "gridcolor": "white",
            "linecolor": "white",
            "ticks": ""
           }
          },
          "scene": {
           "xaxis": {
            "backgroundcolor": "#E5ECF6",
            "gridcolor": "white",
            "gridwidth": 2,
            "linecolor": "white",
            "showbackground": true,
            "ticks": "",
            "zerolinecolor": "white"
           },
           "yaxis": {
            "backgroundcolor": "#E5ECF6",
            "gridcolor": "white",
            "gridwidth": 2,
            "linecolor": "white",
            "showbackground": true,
            "ticks": "",
            "zerolinecolor": "white"
           },
           "zaxis": {
            "backgroundcolor": "#E5ECF6",
            "gridcolor": "white",
            "gridwidth": 2,
            "linecolor": "white",
            "showbackground": true,
            "ticks": "",
            "zerolinecolor": "white"
           }
          },
          "shapedefaults": {
           "line": {
            "color": "#2a3f5f"
           }
          },
          "ternary": {
           "aaxis": {
            "gridcolor": "white",
            "linecolor": "white",
            "ticks": ""
           },
           "baxis": {
            "gridcolor": "white",
            "linecolor": "white",
            "ticks": ""
           },
           "bgcolor": "#E5ECF6",
           "caxis": {
            "gridcolor": "white",
            "linecolor": "white",
            "ticks": ""
           }
          },
          "title": {
           "x": 0.05
          },
          "xaxis": {
           "automargin": true,
           "gridcolor": "white",
           "linecolor": "white",
           "ticks": "",
           "title": {
            "standoff": 15
           },
           "zerolinecolor": "white",
           "zerolinewidth": 2
          },
          "yaxis": {
           "automargin": true,
           "gridcolor": "white",
           "linecolor": "white",
           "ticks": "",
           "title": {
            "standoff": 15
           },
           "zerolinecolor": "white",
           "zerolinewidth": 2
          }
         }
        },
        "title": {
         "text": "Accuracy Comparison: Final Coordinates vs Geocoding API"
        }
       }
      }
     },
     "metadata": {},
     "output_type": "display_data"
    }
   ],
   "source": [
    "import numpy as np\n",
    "import plotly.graph_objects as go\n",
    "from math import radians, cos, sin, asin, sqrt\n",
    "\n",
    "# Define the columns and their labels for comparing Final coordinates with Geocoding API\n",
    "columns_info = [\n",
    "    ('Final_Lat', 'Final_Long', 'Final Coordinates'),\n",
    "    ('Geocoding_API_lat', 'Geocoding_API_lng', 'Geocoding API')\n",
    "]\n",
    "\n",
    "def parse_coords(lat_str, lon_str):\n",
    "    lats = [float(x) for x in str(lat_str).split(';') if x.strip().lower() not in ['nan', '', 'none', 'removed']]\n",
    "    lons = [float(x) for x in str(lon_str).split(';') if x.strip().lower() not in ['nan', '', 'none', 'removed']]\n",
    "    return list(zip(lats, lons))\n",
    "\n",
    "fig = go.Figure()\n",
    "min_dist = 2  # miles\n",
    "\n",
    "for idx, row in df.iterrows():\n",
    "    all_coords = []\n",
    "    hover_texts = []\n",
    "    for lat_col, lon_col, label in columns_info:\n",
    "        if lat_col in row and lon_col in row:\n",
    "            coords = parse_coords(row[lat_col], row[lon_col])\n",
    "            if coords:\n",
    "                all_coords.extend(coords)\n",
    "                hover_texts.extend([f'Row: {idx}<br>Source: {label}'] * len(coords))\n",
    "    \n",
    "    # Check if at least one segment is greater than min_dist\n",
    "    show_trace = False\n",
    "    if len(all_coords) > 1:\n",
    "        for i in range(1, len(all_coords)):\n",
    "            lat1, lon1 = all_coords[i-1]\n",
    "            lat2, lon2 = all_coords[i]\n",
    "            R = 3958.8  # Earth's radius in miles\n",
    "            dlat = radians(lat2 - lat1)\n",
    "            dlon = radians(lon2 - lon1)\n",
    "            a = sin(dlat/2)**2 + cos(radians(lat1)) * cos(radians(lat2)) * sin(dlon/2)**2\n",
    "            c = 2 * asin(sqrt(a))\n",
    "            d = R * c\n",
    "            if d >= min_dist:\n",
    "                show_trace = True\n",
    "                break\n",
    "    \n",
    "    # If at least one segment is long enough, show the whole trace\n",
    "    if show_trace and len(all_coords) > 1:\n",
    "        lats, lons = zip(*all_coords)\n",
    "        fig.add_trace(go.Scattermapbox(\n",
    "            lat=lats,\n",
    "            lon=lons,\n",
    "            mode='markers+lines',\n",
    "            marker=dict(size=8),\n",
    "            line=dict(width=2),\n",
    "            name=f'Row {idx}',\n",
    "            showlegend=True,\n",
    "            text=hover_texts,\n",
    "            hoverinfo='text+lat+lon'\n",
    "        ))\n",
    "    # If only one point, do not show it (per your request)\n",
    "\n",
    "fig.update_layout(\n",
    "    mapbox_style=\"open-street-map\",\n",
    "    mapbox_zoom=4,\n",
    "    mapbox_center={\"lat\": 39.5, \"lon\": -98.35},\n",
    "    margin={\"r\":0,\"t\":0,\"l\":0,\"b\":0},\n",
    "    showlegend=True,\n",
    "    title=\"Accuracy Comparison: Final Coordinates vs Geocoding API\"\n",
    ")\n",
    "fig.write_html(r'C:\\Users\\clint\\Desktop\\Geocoding_Documentation\\Data\\final_vs_geocoding_api_map.html')\n",
    "fig.show()"
   ]
  },
  {
   "cell_type": "code",
   "execution_count": 4,
   "id": "8680f0da",
   "metadata": {},
   "outputs": [
    {
     "name": "stdout",
     "output_type": "stream",
     "text": [
      "Accuracy Statistics: Final Coordinates vs Geocoding API\n",
      "============================================================\n",
      "Total comparisons: 242\n",
      "Mean distance: 325.06 miles\n",
      "Median distance: 0.31 miles\n",
      "Standard deviation: 673.65 miles\n",
      "Min distance: 0.01 miles\n",
      "Max distance: 2482.89 miles\n",
      "\n",
      "Distance Distribution:\n",
      "Within 0.1 miles: 102 (42.1%)\n",
      "Within 0.5 miles: 124 (51.2%)\n",
      "Within 1 mile: 124 (51.2%)\n",
      "Within 2 miles: 131 (54.1%)\n",
      "Greater than 2 miles: 111 (45.9%)\n"
     ]
    },
    {
     "name": "stderr",
     "output_type": "stream",
     "text": [
      "C:\\Users\\clint\\AppData\\Local\\Temp\\ipykernel_8760\\400148559.py:22: SettingWithCopyWarning: \n",
      "A value is trying to be set on a copy of a slice from a DataFrame.\n",
      "Try using .loc[row_indexer,col_indexer] = value instead\n",
      "\n",
      "See the caveats in the documentation: https://pandas.pydata.org/pandas-docs/stable/user_guide/indexing.html#returning-a-view-versus-a-copy\n",
      "  df['Distance_Final_vs_API'] = df.apply(\n"
     ]
    }
   ],
   "source": [
    "# Calculate accuracy statistics between Final coordinates and Geocoding API\n",
    "import pandas as pd\n",
    "from math import radians, cos, sin, asin, sqrt\n",
    "\n",
    "def haversine_distance(lat1, lon1, lat2, lon2):\n",
    "    \"\"\"Calculate the great circle distance between two points on Earth (in miles)\"\"\"\n",
    "    if pd.isna(lat1) or pd.isna(lon1) or pd.isna(lat2) or pd.isna(lon2):\n",
    "        return None\n",
    "    \n",
    "    # Convert decimal degrees to radians\n",
    "    lat1, lon1, lat2, lon2 = map(radians, [lat1, lon1, lat2, lon2])\n",
    "    \n",
    "    # Haversine formula\n",
    "    dlat = lat2 - lat1\n",
    "    dlon = lon2 - lon1\n",
    "    a = sin(dlat/2)**2 + cos(lat1) * cos(lat2) * sin(dlon/2)**2\n",
    "    c = 2 * asin(sqrt(a))\n",
    "    r = 3958.8  # Radius of Earth in miles\n",
    "    return c * r\n",
    "\n",
    "# Calculate distances between Final and Geocoding API coordinates\n",
    "df['Distance_Final_vs_API'] = df.apply(\n",
    "    lambda row: haversine_distance(\n",
    "        row['Final_Lat'], row['Final_Long'], \n",
    "        row['Geocoding_API_lat'], row['Geocoding_API_lng']\n",
    "    ), axis=1\n",
    ")\n",
    "\n",
    "# Filter out rows where distance couldn't be calculated\n",
    "valid_distances = df['Distance_Final_vs_API'].dropna()\n",
    "\n",
    "print(\"Accuracy Statistics: Final Coordinates vs Geocoding API\")\n",
    "print(\"=\" * 60)\n",
    "print(f\"Total comparisons: {len(valid_distances)}\")\n",
    "print(f\"Mean distance: {valid_distances.mean():.2f} miles\")\n",
    "print(f\"Median distance: {valid_distances.median():.2f} miles\")\n",
    "print(f\"Standard deviation: {valid_distances.std():.2f} miles\")\n",
    "print(f\"Min distance: {valid_distances.min():.2f} miles\")\n",
    "print(f\"Max distance: {valid_distances.max():.2f} miles\")\n",
    "print()\n",
    "print(\"Distance Distribution:\")\n",
    "print(f\"Within 0.1 miles: {(valid_distances <= 0.1).sum()} ({(valid_distances <= 0.1).mean()*100:.1f}%)\")\n",
    "print(f\"Within 0.5 miles: {(valid_distances <= 0.5).sum()} ({(valid_distances <= 0.5).mean()*100:.1f}%)\")\n",
    "print(f\"Within 1 mile: {(valid_distances <= 1).sum()} ({(valid_distances <= 1).mean()*100:.1f}%)\")\n",
    "print(f\"Within 2 miles: {(valid_distances <= 2).sum()} ({(valid_distances <= 2).mean()*100:.1f}%)\")\n",
    "print(f\"Greater than 2 miles: {(valid_distances > 2).sum()} ({(valid_distances > 2).mean()*100:.1f}%)\")"
   ]
  },
  {
   "cell_type": "code",
   "execution_count": 9,
   "id": "ca20e7ec",
   "metadata": {},
   "outputs": [
    {
     "name": "stderr",
     "output_type": "stream",
     "text": [
      "C:\\Users\\clint\\AppData\\Local\\Temp\\ipykernel_28084\\648175396.py:49: DeprecationWarning:\n",
      "\n",
      "*scattermapbox* is deprecated! Use *scattermap* instead. Learn more at: https://plotly.com/python/mapbox-to-maplibre/\n",
      "\n"
     ]
    }
   ],
   "source": [
    "import numpy as np\n",
    "import plotly.graph_objects as go\n",
    "from math import radians, cos, sin, asin, sqrt\n",
    "\n",
    "# Define the columns and their labels (order matters for connection)\n",
    "columns_info = [\n",
    "    ('Webscraped_Phone_Latitude', 'Webscraped_Phone_Longitude', 'Truckstopsandservices (Phone)'),\n",
    "    ('Webscraped_PlacedMatched_Latitude', 'Webscraped_PlacedMatched_Longitude', 'truckstopsandservices (PlaceMatched)'),\n",
    "    ('Yelp_Latitude', 'Yelp_Longitude', 'Yelp (Phone)'),\n",
    "    ('YellowPages_JSONLD_LAT_1', 'YellowPages_JSONLD_LNG_1', 'YellowPages (Phone)')\n",
    "    # Add more sources here if needed\n",
    " ]\n",
    "\n",
    "def parse_coords(lat_str, lon_str):\n",
    "    lats = [float(x) for x in str(lat_str).split(';') if x.strip().lower() not in ['nan', '', 'none', 'removed']]\n",
    "    lons = [float(x) for x in str(lon_str).split(';') if x.strip().lower() not in ['nan', '', 'none', 'removed']]\n",
    "    return list(zip(lats, lons))\n",
    "\n",
    "fig = go.Figure()\n",
    "min_dist = 2  # miles\n",
    "\n",
    "for idx, row in df.iterrows():\n",
    "    all_coords = []\n",
    "    hover_texts = []\n",
    "    for lat_col, lon_col, label in columns_info:\n",
    "        if lat_col in row and lon_col in row:\n",
    "            coords = parse_coords(row[lat_col], row[lon_col])\n",
    "            if coords:\n",
    "                all_coords.extend(coords)\n",
    "                hover_texts.extend([f'Row: {idx}<br>Source: {label}'] * len(coords))\n",
    "    # Check if at least one segment is greater than min_dist\n",
    "    show_trace = False\n",
    "    if len(all_coords) > 1:\n",
    "        for i in range(1, len(all_coords)):\n",
    "            lat1, lon1 = all_coords[i-1]\n",
    "            lat2, lon2 = all_coords[i]\n",
    "            R = 3958.8\n",
    "            dlat = radians(lat2 - lat1)\n",
    "            dlon = radians(lon2 - lon1)\n",
    "            a = sin(dlat/2)**2 + cos(radians(lat1)) * cos(radians(lat2)) * sin(dlon/2)**2\n",
    "            c = 2 * asin(sqrt(a))\n",
    "            d = R * c\n",
    "            if d >= min_dist:\n",
    "                show_trace = True\n",
    "                break\n",
    "    # If at least one segment is long enough, show the whole trace\n",
    "    if show_trace and len(all_coords) > 1:\n",
    "        lats, lons = zip(*all_coords)\n",
    "        fig.add_trace(go.Scattermapbox(\n",
    "            lat=lats,\n",
    "            lon=lons,\n",
    "            mode='markers+lines',\n",
    "            marker=dict(size=8),\n",
    "            line=dict(width=2),\n",
    "            name=f'Row {idx}',\n",
    "            showlegend=True,\n",
    "            text=hover_texts,\n",
    "            hoverinfo='text+lat+lon'\n",
    "        ))\n",
    "    # If only one point, do not show it (per your request)\n",
    "\n",
    "fig.update_layout(\n",
    "    mapbox_style=\"open-street-map\",\n",
    "    mapbox_zoom=4,\n",
    "    mapbox_center={\"lat\": 39.5, \"lon\": -98.35},\n",
    "    margin={\"r\":0,\"t\":0,\"l\":0,\"b\":0},\n",
    "    showlegend=True\n",
    ")\n",
    "fig.write_html(r'C:\\Users\\clint\\Desktop\\Geocoding_Documentation\\Data\\webscraped_map_3.html')"
   ]
  },
  {
   "cell_type": "code",
   "execution_count": 11,
   "id": "12987024",
   "metadata": {},
   "outputs": [
    {
     "data": {
      "application/vnd.plotly.v1+json": {
       "config": {
        "plotlyServerURL": "https://plot.ly"
       },
       "data": [
        {
         "name": "Full Range",
         "nbinsx": 50,
         "type": "histogram",
         "x": {
          "bdata": "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",
          "dtype": "f8"
         },
         "xaxis": "x",
         "yaxis": "y"
        },
        {
         "name": "0-10 miles",
         "nbinsx": 50,
         "type": "histogram",
         "x": {
          "bdata": "ReqhKLacoD9F6qEotpygP0XqoSi2nKA/ReqhKLacoD+/uw2bQbCsP7+7DZtBsKw/v7sNm0GwrD9x2OpIrL6fP3HY6kisvp8/cdjqSKy+nz9x2OpIrL6fP3HY6kisvp8/cdjqSKy+nz/SLLKCZUPEP9IssoJlQ8Q/0iyygmVDxD9Ezk1aG10VQETOTVobXRVARM5NWhtdFUBEzk1aG10VQETOTVobXRVARM5NWhtdFUCTRedQK3/5P/QA/ME885o/9AD8wTzzmj/0APzBPPOaP/QA/ME885o/9AD8wTzzmj/0APzBPPOaPy7WIPWX2pU/LtYg9ZfalT8u1iD1l9qVPy7WIPWX2pU/LtYg9ZfalT8u1iD1l9qVP6NtmTA8UII/o22ZMDxQgj+jbZkwPFCCP6NtmTA8UII/o22ZMDxQgj+jbZkwPFCCPwoej0yCw3g/Ch6PTILDeD8KHo9MgsN4Pwoej0yCw3g/Ch6PTILDeD8KHo9MgsN4P1Xhlw7KerA/VeGXDsp6sD9V4ZcOynqwP1Xhlw7KerA/VeGXDsp6sD/95FouMCWpP/3kWi4wJak//eRaLjAlqT/95FouMCWpP/3kWi4wJak//eRaLjAlqT/E2eygQvWRP8TZ7KBC9ZE/xNnsoEL1kT/E2eygQvWRP8TZ7KBC9ZE/xNnsoEL1kT/GRMGKAYOLP8ZEwYoBg4s/xkTBigGDiz/GRMGKAYOLP8ZEwYoBg4s/xkTBigGDiz8sbfX8fJySPyxt9fx8nJI/LG31/Hyckj8sbfX8fJySPyxt9fx8nJI/LG31/Hyckj/BbuStDJTAP8Fu5K0MlMA/wW7krQyUwD/BbuStDJTAP8Fu5K0MlMA/wW7krQyUwD/AZ7eUPZeQP8Bnt5Q9l5A/wGe3lD2XkD/AZ7eUPZeQP8Bnt5Q9l5A/wGe3lD2XkD9F6a8LGK4bQEXprwsYrhtARemvCxiuG0BF6a8LGK4bQEXprwsYrhtARemvCxiuG0AZtIB41SjWPxm0gHjVKNY/GbSAeNUo1j+Cdx6YaMLJP4J3Hphowsk/gncemGjCyT+Wr3Cej2jHP5avcJ6PaMc/lq9wno9oxz/nhvsvgDufP+REUlUiaPw/5ERSVSJo/D/kRFJVImj8P7FkpE3kZ5M/sWSkTeRnkz/UVIjOmCcAQNRUiM6YJwBA1FSIzpgnAECdFkOGr5MNQNtslATjkg1A22yUBOOSDUDbbJQE45INQL7jnSm1Nv0/vuOdKbU2/T++450ptTb9P4Nf57OtD40/g1/ns60PjT+DX+ezrQ+NP9W1JPByH9E/1bUk8HIf0T/VtSTwch/RP9W1JPByH9E/Vh45rOm3nz9WHjms6befP1YeOazpt58/xSqdwLJJkj+DRn1SqH6GPxtSp2CHxaI/G1KnYIfFoj8bUqdgh8WiP9ZB+fWearM/1kH59Z5qsz/WQfn1nmqzP33j5p6jbKY/fePmnqNspj994+aeo2ymP33j5p6jbKY/4ZRt7La7qj/hlG3struqP+GUbey2u6o/EdxbHkZweD8R3FseRnB4PxHcWx5GcHg/X4x5yOZaF0BfjHnI5loXQF+MecjmWhdAVWGLscy2fz9VYYuxzLZ/P8iw8yoARog/",
          "dtype": "f8"
         },
         "xaxis": "x2",
         "yaxis": "y2"
        },
        {
         "name": "Distance Distribution",
         "type": "box",
         "xaxis": "x3",
         "y": {
          "bdata": "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",
          "dtype": "f8"
         },
         "yaxis": "y3"
        },
        {
         "mode": "lines",
         "name": "Cumulative",
         "type": "scatter",
         "x": {
          "bdata": "EdxbHkZweD8R3FseRnB4PxHcWx5GcHg/Ch6PTILDeD8KHo9MgsN4Pwoej0yCw3g/Ch6PTILDeD8KHo9MgsN4Pwoej0yCw3g/VWGLscy2fz9VYYuxzLZ/P6NtmTA8UII/o22ZMDxQgj+jbZkwPFCCP6NtmTA8UII/o22ZMDxQgj+jbZkwPFCCP4NGfVKofoY/yLDzKgBGiD/GRMGKAYOLP8ZEwYoBg4s/xkTBigGDiz/GRMGKAYOLP8ZEwYoBg4s/xkTBigGDiz+DX+ezrQ+NP4Nf57OtD40/g1/ns60PjT/AZ7eUPZeQP8Bnt5Q9l5A/wGe3lD2XkD/AZ7eUPZeQP8Bnt5Q9l5A/wGe3lD2XkD/E2eygQvWRP8TZ7KBC9ZE/xNnsoEL1kT/E2eygQvWRP8TZ7KBC9ZE/xNnsoEL1kT/FKp3AskmSPyxt9fx8nJI/LG31/Hyckj8sbfX8fJySPyxt9fx8nJI/LG31/Hyckj8sbfX8fJySP7FkpE3kZ5M/sWSkTeRnkz8u1iD1l9qVPy7WIPWX2pU/LtYg9ZfalT8u1iD1l9qVPy7WIPWX2pU/LtYg9ZfalT/0APzBPPOaP/QA/ME885o/9AD8wTzzmj/0APzBPPOaP/QA/ME885o/9AD8wTzzmj/nhvsvgDufP1YeOazpt58/Vh45rOm3nz9WHjms6befP3HY6kisvp8/cdjqSKy+nz9x2OpIrL6fP3HY6kisvp8/cdjqSKy+nz9x2OpIrL6fP0XqoSi2nKA/ReqhKLacoD9F6qEotpygP0XqoSi2nKA/G1KnYIfFoj8bUqdgh8WiPxtSp2CHxaI/fePmnqNspj994+aeo2ymP33j5p6jbKY/fePmnqNspj/95FouMCWpP/3kWi4wJak//eRaLjAlqT/95FouMCWpP/3kWi4wJak//eRaLjAlqT/hlG3struqP+GUbey2u6o/4ZRt7La7qj+/uw2bQbCsP7+7DZtBsKw/v7sNm0GwrD9V4ZcOynqwP1Xhlw7KerA/VeGXDsp6sD9V4ZcOynqwP1Xhlw7KerA/1kH59Z5qsz/WQfn1nmqzP9ZB+fWearM/wW7krQyUwD/BbuStDJTAP8Fu5K0MlMA/wW7krQyUwD/BbuStDJTAP8Fu5K0MlMA/0iyygmVDxD/SLLKCZUPEP9IssoJlQ8Q/lq9wno9oxz+Wr3Cej2jHP5avcJ6PaMc/gncemGjCyT+Cdx6YaMLJP4J3Hphowsk/1bUk8HIf0T/VtSTwch/RP9W1JPByH9E/1bUk8HIf0T8ZtIB41SjWPxm0gHjVKNY/GbSAeNUo1j+TRedQK3/5P+REUlUiaPw/5ERSVSJo/D/kRFJVImj8P77jnSm1Nv0/vuOdKbU2/T++450ptTb9P9RUiM6YJwBA1FSIzpgnAEDUVIjOmCcAQNtslATjkg1A22yUBOOSDUDbbJQE45INQJ0WQ4avkw1ARM5NWhtdFUBEzk1aG10VQETOTVobXRVARM5NWhtdFUBEzk1aG10VQETOTVobXRVAX4x5yOZaF0BfjHnI5loXQF+MecjmWhdARemvCxiuG0BF6a8LGK4bQEXprwsYrhtARemvCxiuG0BF6a8LGK4bQEXprwsYrhtA/+4YprlpLkD/7himuWkuQP/uGKa5aS5A/+4YprlpLkD/7himuWkuQP/uGKa5aS5A4+9cvfWbL0Dj71y99ZsvQDd1p9zlQDhASuyKuCg2XkBK7Iq4KDZeQErsirgoNl5AV1DZw+sTYUBXUNnD6xNhQFdQ2cPrE2FAV1DZw+sTYUBXUNnD6xNhQFdQ2cPrE2FAiNHkSoQVYUCI0eRKhBVhQIjR5EqEFWFA3NYdmlkaaEBK0RcOlkpoQErRFw6WSmhAStEXDpZKaEBK0RcOlkpoQErRFw6WSmhAStEXDpZKaEDYu9LpuD9qQNi70um4P2pA2LvS6bg/akDYu9LpuD9qQNi70um4P2pAsevJ/N4Za0Cx68n83hlrQLHryfzeGWtAsevJ/N4Za0Cx68n83hlrQGDKs7Mzv25AYMqzszO/bkBgyrOzM79uQGDKs7Mzv25AYMqzszO/bkCVrRvi/ox+QJWtG+L+jH5Ala0b4v6MfkCO8v+XlJ2CQI7y/5eUnYJAjvL/l5SdgkDEZ/di56eJQMRn92Lnp4lAxGf3YueniUDEZ/di56eJQMRn92Lnp4lAxGf3YueniUCC+3NwEVKQQIL7c3ARUpBAgvtzcBFSkEBwIKd18JyRQHAgp3XwnJFAcCCndfCckUD6PHSs/3aXQPo8dKz/dpdA+jx0rP92l0BbBDunSn2bQFsEO6dKfZtAWwQ7p0p9m0BbBDunSn2bQFsEO6dKfZtAQrDu6qMtnEBCsO7qoy2cQEKw7uqjLZxAdZ+/VK1gnEB1n79UrWCcQPkaAYkK359A+RoBiQrfn0D33+YhHd+fQAOLF2uM7qFAA4sXa4zuoUADixdrjO6hQGPqTOD6+qJAY+pM4Pr6okBj6kzg+vqiQGPqTOD6+qJAY+pM4Pr6okCkiCAI/PqiQAOnYHXJZaNAA6dgdcllo0ADp2B1yWWjQA==",
          "dtype": "f8"
         },
         "xaxis": "x4",
         "y": {
          "bdata": "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",
          "dtype": "f8"
         },
         "yaxis": "y4"
        }
       ],
       "layout": {
        "annotations": [
         {
          "font": {
           "size": 16
          },
          "showarrow": false,
          "text": "Histogram - Full Range",
          "x": 0.225,
          "xanchor": "center",
          "xref": "paper",
          "y": 1,
          "yanchor": "bottom",
          "yref": "paper"
         },
         {
          "font": {
           "size": 16
          },
          "showarrow": false,
          "text": "Histogram - Zoomed (0-10 miles)",
          "x": 0.775,
          "xanchor": "center",
          "xref": "paper",
          "y": 1,
          "yanchor": "bottom",
          "yref": "paper"
         },
         {
          "font": {
           "size": 16
          },
          "showarrow": false,
          "text": "Box Plot",
          "x": 0.225,
          "xanchor": "center",
          "xref": "paper",
          "y": 0.375,
          "yanchor": "bottom",
          "yref": "paper"
         },
         {
          "font": {
           "size": 16
          },
          "showarrow": false,
          "text": "Cumulative Distribution",
          "x": 0.775,
          "xanchor": "center",
          "xref": "paper",
          "y": 0.375,
          "yanchor": "bottom",
          "yref": "paper"
         }
        ],
        "height": 800,
        "showlegend": false,
        "template": {
         "data": {
          "bar": [
           {
            "error_x": {
             "color": "#2a3f5f"
            },
            "error_y": {
             "color": "#2a3f5f"
            },
            "marker": {
             "line": {
              "color": "#E5ECF6",
              "width": 0.5
             },
             "pattern": {
              "fillmode": "overlay",
              "size": 10,
              "solidity": 0.2
             }
            },
            "type": "bar"
           }
          ],
          "barpolar": [
           {
            "marker": {
             "line": {
              "color": "#E5ECF6",
              "width": 0.5
             },
             "pattern": {
              "fillmode": "overlay",
              "size": 10,
              "solidity": 0.2
             }
            },
            "type": "barpolar"
           }
          ],
          "carpet": [
           {
            "aaxis": {
             "endlinecolor": "#2a3f5f",
             "gridcolor": "white",
             "linecolor": "white",
             "minorgridcolor": "white",
             "startlinecolor": "#2a3f5f"
            },
            "baxis": {
             "endlinecolor": "#2a3f5f",
             "gridcolor": "white",
             "linecolor": "white",
             "minorgridcolor": "white",
             "startlinecolor": "#2a3f5f"
            },
            "type": "carpet"
           }
          ],
          "choropleth": [
           {
            "colorbar": {
             "outlinewidth": 0,
             "ticks": ""
            },
            "type": "choropleth"
           }
          ],
          "contour": [
           {
            "colorbar": {
             "outlinewidth": 0,
             "ticks": ""
            },
            "colorscale": [
             [
              0,
              "#0d0887"
             ],
             [
              0.1111111111111111,
              "#46039f"
             ],
             [
              0.2222222222222222,
              "#7201a8"
             ],
             [
              0.3333333333333333,
              "#9c179e"
             ],
             [
              0.4444444444444444,
              "#bd3786"
             ],
             [
              0.5555555555555556,
              "#d8576b"
             ],
             [
              0.6666666666666666,
              "#ed7953"
             ],
             [
              0.7777777777777778,
              "#fb9f3a"
             ],
             [
              0.8888888888888888,
              "#fdca26"
             ],
             [
              1,
              "#f0f921"
             ]
            ],
            "type": "contour"
           }
          ],
          "contourcarpet": [
           {
            "colorbar": {
             "outlinewidth": 0,
             "ticks": ""
            },
            "type": "contourcarpet"
           }
          ],
          "heatmap": [
           {
            "colorbar": {
             "outlinewidth": 0,
             "ticks": ""
            },
            "colorscale": [
             [
              0,
              "#0d0887"
             ],
             [
              0.1111111111111111,
              "#46039f"
             ],
             [
              0.2222222222222222,
              "#7201a8"
             ],
             [
              0.3333333333333333,
              "#9c179e"
             ],
             [
              0.4444444444444444,
              "#bd3786"
             ],
             [
              0.5555555555555556,
              "#d8576b"
             ],
             [
              0.6666666666666666,
              "#ed7953"
             ],
             [
              0.7777777777777778,
              "#fb9f3a"
             ],
             [
              0.8888888888888888,
              "#fdca26"
             ],
             [
              1,
              "#f0f921"
             ]
            ],
            "type": "heatmap"
           }
          ],
          "histogram": [
           {
            "marker": {
             "pattern": {
              "fillmode": "overlay",
              "size": 10,
              "solidity": 0.2
             }
            },
            "type": "histogram"
           }
          ],
          "histogram2d": [
           {
            "colorbar": {
             "outlinewidth": 0,
             "ticks": ""
            },
            "colorscale": [
             [
              0,
              "#0d0887"
             ],
             [
              0.1111111111111111,
              "#46039f"
             ],
             [
              0.2222222222222222,
              "#7201a8"
             ],
             [
              0.3333333333333333,
              "#9c179e"
             ],
             [
              0.4444444444444444,
              "#bd3786"
             ],
             [
              0.5555555555555556,
              "#d8576b"
             ],
             [
              0.6666666666666666,
              "#ed7953"
             ],
             [
              0.7777777777777778,
              "#fb9f3a"
             ],
             [
              0.8888888888888888,
              "#fdca26"
             ],
             [
              1,
              "#f0f921"
             ]
            ],
            "type": "histogram2d"
           }
          ],
          "histogram2dcontour": [
           {
            "colorbar": {
             "outlinewidth": 0,
             "ticks": ""
            },
            "colorscale": [
             [
              0,
              "#0d0887"
             ],
             [
              0.1111111111111111,
              "#46039f"
             ],
             [
              0.2222222222222222,
              "#7201a8"
             ],
             [
              0.3333333333333333,
              "#9c179e"
             ],
             [
              0.4444444444444444,
              "#bd3786"
             ],
             [
              0.5555555555555556,
              "#d8576b"
             ],
             [
              0.6666666666666666,
              "#ed7953"
             ],
             [
              0.7777777777777778,
              "#fb9f3a"
             ],
             [
              0.8888888888888888,
              "#fdca26"
             ],
             [
              1,
              "#f0f921"
             ]
            ],
            "type": "histogram2dcontour"
           }
          ],
          "mesh3d": [
           {
            "colorbar": {
             "outlinewidth": 0,
             "ticks": ""
            },
            "type": "mesh3d"
           }
          ],
          "parcoords": [
           {
            "line": {
             "colorbar": {
              "outlinewidth": 0,
              "ticks": ""
             }
            },
            "type": "parcoords"
           }
          ],
          "pie": [
           {
            "automargin": true,
            "type": "pie"
           }
          ],
          "scatter": [
           {
            "fillpattern": {
             "fillmode": "overlay",
             "size": 10,
             "solidity": 0.2
            },
            "type": "scatter"
           }
          ],
          "scatter3d": [
           {
            "line": {
             "colorbar": {
              "outlinewidth": 0,
              "ticks": ""
             }
            },
            "marker": {
             "colorbar": {
              "outlinewidth": 0,
              "ticks": ""
             }
            },
            "type": "scatter3d"
           }
          ],
          "scattercarpet": [
           {
            "marker": {
             "colorbar": {
              "outlinewidth": 0,
              "ticks": ""
             }
            },
            "type": "scattercarpet"
           }
          ],
          "scattergeo": [
           {
            "marker": {
             "colorbar": {
              "outlinewidth": 0,
              "ticks": ""
             }
            },
            "type": "scattergeo"
           }
          ],
          "scattergl": [
           {
            "marker": {
             "colorbar": {
              "outlinewidth": 0,
              "ticks": ""
             }
            },
            "type": "scattergl"
           }
          ],
          "scattermap": [
           {
            "marker": {
             "colorbar": {
              "outlinewidth": 0,
              "ticks": ""
             }
            },
            "type": "scattermap"
           }
          ],
          "scattermapbox": [
           {
            "marker": {
             "colorbar": {
              "outlinewidth": 0,
              "ticks": ""
             }
            },
            "type": "scattermapbox"
           }
          ],
          "scatterpolar": [
           {
            "marker": {
             "colorbar": {
              "outlinewidth": 0,
              "ticks": ""
             }
            },
            "type": "scatterpolar"
           }
          ],
          "scatterpolargl": [
           {
            "marker": {
             "colorbar": {
              "outlinewidth": 0,
              "ticks": ""
             }
            },
            "type": "scatterpolargl"
           }
          ],
          "scatterternary": [
           {
            "marker": {
             "colorbar": {
              "outlinewidth": 0,
              "ticks": ""
             }
            },
            "type": "scatterternary"
           }
          ],
          "surface": [
           {
            "colorbar": {
             "outlinewidth": 0,
             "ticks": ""
            },
            "colorscale": [
             [
              0,
              "#0d0887"
             ],
             [
              0.1111111111111111,
              "#46039f"
             ],
             [
              0.2222222222222222,
              "#7201a8"
             ],
             [
              0.3333333333333333,
              "#9c179e"
             ],
             [
              0.4444444444444444,
              "#bd3786"
             ],
             [
              0.5555555555555556,
              "#d8576b"
             ],
             [
              0.6666666666666666,
              "#ed7953"
             ],
             [
              0.7777777777777778,
              "#fb9f3a"
             ],
             [
              0.8888888888888888,
              "#fdca26"
             ],
             [
              1,
              "#f0f921"
             ]
            ],
            "type": "surface"
           }
          ],
          "table": [
           {
            "cells": {
             "fill": {
              "color": "#EBF0F8"
             },
             "line": {
              "color": "white"
             }
            },
            "header": {
             "fill": {
              "color": "#C8D4E3"
             },
             "line": {
              "color": "white"
             }
            },
            "type": "table"
           }
          ]
         },
         "layout": {
          "annotationdefaults": {
           "arrowcolor": "#2a3f5f",
           "arrowhead": 0,
           "arrowwidth": 1
          },
          "autotypenumbers": "strict",
          "coloraxis": {
           "colorbar": {
            "outlinewidth": 0,
            "ticks": ""
           }
          },
          "colorscale": {
           "diverging": [
            [
             0,
             "#8e0152"
            ],
            [
             0.1,
             "#c51b7d"
            ],
            [
             0.2,
             "#de77ae"
            ],
            [
             0.3,
             "#f1b6da"
            ],
            [
             0.4,
             "#fde0ef"
            ],
            [
             0.5,
             "#f7f7f7"
            ],
            [
             0.6,
             "#e6f5d0"
            ],
            [
             0.7,
             "#b8e186"
            ],
            [
             0.8,
             "#7fbc41"
            ],
            [
             0.9,
             "#4d9221"
            ],
            [
             1,
             "#276419"
            ]
           ],
           "sequential": [
            [
             0,
             "#0d0887"
            ],
            [
             0.1111111111111111,
             "#46039f"
            ],
            [
             0.2222222222222222,
             "#7201a8"
            ],
            [
             0.3333333333333333,
             "#9c179e"
            ],
            [
             0.4444444444444444,
             "#bd3786"
            ],
            [
             0.5555555555555556,
             "#d8576b"
            ],
            [
             0.6666666666666666,
             "#ed7953"
            ],
            [
             0.7777777777777778,
             "#fb9f3a"
            ],
            [
             0.8888888888888888,
             "#fdca26"
            ],
            [
             1,
             "#f0f921"
            ]
           ],
           "sequentialminus": [
            [
             0,
             "#0d0887"
            ],
            [
             0.1111111111111111,
             "#46039f"
            ],
            [
             0.2222222222222222,
             "#7201a8"
            ],
            [
             0.3333333333333333,
             "#9c179e"
            ],
            [
             0.4444444444444444,
             "#bd3786"
            ],
            [
             0.5555555555555556,
             "#d8576b"
            ],
            [
             0.6666666666666666,
             "#ed7953"
            ],
            [
             0.7777777777777778,
             "#fb9f3a"
            ],
            [
             0.8888888888888888,
             "#fdca26"
            ],
            [
             1,
             "#f0f921"
            ]
           ]
          },
          "colorway": [
           "#636efa",
           "#EF553B",
           "#00cc96",
           "#ab63fa",
           "#FFA15A",
           "#19d3f3",
           "#FF6692",
           "#B6E880",
           "#FF97FF",
           "#FECB52"
          ],
          "font": {
           "color": "#2a3f5f"
          },
          "geo": {
           "bgcolor": "white",
           "lakecolor": "white",
           "landcolor": "#E5ECF6",
           "showlakes": true,
           "showland": true,
           "subunitcolor": "white"
          },
          "hoverlabel": {
           "align": "left"
          },
          "hovermode": "closest",
          "mapbox": {
           "style": "light"
          },
          "paper_bgcolor": "white",
          "plot_bgcolor": "#E5ECF6",
          "polar": {
           "angularaxis": {
            "gridcolor": "white",
            "linecolor": "white",
            "ticks": ""
           },
           "bgcolor": "#E5ECF6",
           "radialaxis": {
            "gridcolor": "white",
            "linecolor": "white",
            "ticks": ""
           }
          },
          "scene": {
           "xaxis": {
            "backgroundcolor": "#E5ECF6",
            "gridcolor": "white",
            "gridwidth": 2,
            "linecolor": "white",
            "showbackground": true,
            "ticks": "",
            "zerolinecolor": "white"
           },
           "yaxis": {
            "backgroundcolor": "#E5ECF6",
            "gridcolor": "white",
            "gridwidth": 2,
            "linecolor": "white",
            "showbackground": true,
            "ticks": "",
            "zerolinecolor": "white"
           },
           "zaxis": {
            "backgroundcolor": "#E5ECF6",
            "gridcolor": "white",
            "gridwidth": 2,
            "linecolor": "white",
            "showbackground": true,
            "ticks": "",
            "zerolinecolor": "white"
           }
          },
          "shapedefaults": {
           "line": {
            "color": "#2a3f5f"
           }
          },
          "ternary": {
           "aaxis": {
            "gridcolor": "white",
            "linecolor": "white",
            "ticks": ""
           },
           "baxis": {
            "gridcolor": "white",
            "linecolor": "white",
            "ticks": ""
           },
           "bgcolor": "#E5ECF6",
           "caxis": {
            "gridcolor": "white",
            "linecolor": "white",
            "ticks": ""
           }
          },
          "title": {
           "x": 0.05
          },
          "xaxis": {
           "automargin": true,
           "gridcolor": "white",
           "linecolor": "white",
           "ticks": "",
           "title": {
            "standoff": 15
           },
           "zerolinecolor": "white",
           "zerolinewidth": 2
          },
          "yaxis": {
           "automargin": true,
           "gridcolor": "white",
           "linecolor": "white",
           "ticks": "",
           "title": {
            "standoff": 15
           },
           "zerolinecolor": "white",
           "zerolinewidth": 2
          }
         }
        },
        "title": {
         "text": "Distribution of Distance_Final_vs_Geocoding_API (miles)"
        },
        "xaxis": {
         "anchor": "y",
         "domain": [
          0,
          0.45
         ],
         "title": {
          "text": "Distance (miles)"
         }
        },
        "xaxis2": {
         "anchor": "y2",
         "domain": [
          0.55,
          1
         ],
         "title": {
          "text": "Distance (miles)"
         }
        },
        "xaxis3": {
         "anchor": "y3",
         "domain": [
          0,
          0.45
         ],
         "title": {
          "text": ""
         }
        },
        "xaxis4": {
         "anchor": "y4",
         "domain": [
          0.55,
          1
         ],
         "title": {
          "text": "Distance (miles)"
         }
        },
        "yaxis": {
         "anchor": "x",
         "domain": [
          0.625,
          1
         ],
         "title": {
          "text": "Count"
         }
        },
        "yaxis2": {
         "anchor": "x2",
         "domain": [
          0.625,
          1
         ],
         "title": {
          "text": "Count"
         }
        },
        "yaxis3": {
         "anchor": "x3",
         "domain": [
          0,
          0.375
         ],
         "title": {
          "text": "Distance (miles)"
         }
        },
        "yaxis4": {
         "anchor": "x4",
         "domain": [
          0,
          0.375
         ],
         "title": {
          "text": "Cumulative Probability"
         }
        }
       }
      }
     },
     "metadata": {},
     "output_type": "display_data"
    },
    {
     "name": "stdout",
     "output_type": "stream",
     "text": [
      "Distribution Summary: Final Coordinates vs Geocoding API\n",
      "=======================================================\n",
      "Total observations: 242\n",
      "Mean: 325.06 miles\n",
      "Median: 0.31 miles\n",
      "Mode (most frequent bin): 0.01 miles\n",
      "Standard deviation: 673.65 miles\n",
      "Variance: 453811.01\n",
      "Skewness: 2.16\n",
      "Kurtosis: 3.35\n",
      "\n",
      "Percentiles:\n",
      "25th percentile: 0.03 miles\n",
      "50th percentile (median): 0.31 miles\n",
      "75th percentile: 206.08 miles\n",
      "90th percentile: 1733.57 miles\n",
      "95th percentile: 2039.78 miles\n",
      "99th percentile: 2461.00 miles\n"
     ]
    }
   ],
   "source": [
    "import plotly.express as px\n",
    "import plotly.graph_objects as go\n",
    "from plotly.subplots import make_subplots\n",
    "import numpy as np\n",
    "\n",
    "# Get the valid distances (non-null values)\n",
    "valid_distances = df['Distance_Final_vs_API'].dropna()\n",
    "\n",
    "# Create subplots with multiple distribution visualizations\n",
    "fig = make_subplots(\n",
    "    rows=2, cols=2,\n",
    "    subplot_titles=('Histogram - Full Range', 'Histogram - Zoomed (0-10 miles)', \n",
    "                   'Box Plot', 'Cumulative Distribution'),\n",
    "    specs=[[{\"secondary_y\": False}, {\"secondary_y\": False}],\n",
    "           [{\"secondary_y\": False}, {\"secondary_y\": False}]]\n",
    ")\n",
    "\n",
    "# 1. Histogram - Full range\n",
    "fig.add_trace(\n",
    "    go.Histogram(x=valid_distances, nbinsx=50, name='Full Range'),\n",
    "    row=1, col=1\n",
    ")\n",
    "\n",
    "# 2. Histogram - Zoomed to 0-10 miles\n",
    "distances_zoomed = valid_distances[valid_distances <= 10]\n",
    "fig.add_trace(\n",
    "    go.Histogram(x=distances_zoomed, nbinsx=50, name='0-10 miles'),\n",
    "    row=1, col=2\n",
    ")\n",
    "\n",
    "# 3. Box plot\n",
    "fig.add_trace(\n",
    "    go.Box(y=valid_distances, name='Distance Distribution'),\n",
    "    row=2, col=1\n",
    ")\n",
    "\n",
    "# 4. Cumulative distribution\n",
    "sorted_distances = np.sort(valid_distances)\n",
    "cumulative_prob = np.arange(1, len(sorted_distances) + 1) / len(sorted_distances)\n",
    "fig.add_trace(\n",
    "    go.Scatter(x=sorted_distances, y=cumulative_prob, mode='lines', name='Cumulative'),\n",
    "    row=2, col=2\n",
    ")\n",
    "\n",
    "# Update layout\n",
    "fig.update_layout(\n",
    "    height=800,\n",
    "    title_text=\"Distribution of Distance_Final_vs_Geocoding_API (miles)\",\n",
    "    showlegend=False\n",
    ")\n",
    "\n",
    "# Update x-axis labels\n",
    "fig.update_xaxes(title_text=\"Distance (miles)\", row=1, col=1)\n",
    "fig.update_xaxes(title_text=\"Distance (miles)\", row=1, col=2)\n",
    "fig.update_xaxes(title_text=\"\", row=2, col=1)\n",
    "fig.update_xaxes(title_text=\"Distance (miles)\", row=2, col=2)\n",
    "\n",
    "# Update y-axis labels\n",
    "fig.update_yaxes(title_text=\"Count\", row=1, col=1)\n",
    "fig.update_yaxes(title_text=\"Count\", row=1, col=2)\n",
    "fig.update_yaxes(title_text=\"Distance (miles)\", row=2, col=1)\n",
    "fig.update_yaxes(title_text=\"Cumulative Probability\", row=2, col=2)\n",
    "\n",
    "fig.show()\n",
    "\n",
    "# Additional summary statistics\n",
    "print(\"Distribution Summary: Final Coordinates vs Geocoding API\")\n",
    "print(\"=\" * 55)\n",
    "print(f\"Total observations: {len(valid_distances)}\")\n",
    "print(f\"Mean: {valid_distances.mean():.2f} miles\")\n",
    "print(f\"Median: {valid_distances.median():.2f} miles\")\n",
    "print(f\"Mode (most frequent bin): {valid_distances.mode().iloc[0]:.2f} miles\" if not valid_distances.mode().empty else \"Mode: N/A\")\n",
    "print(f\"Standard deviation: {valid_distances.std():.2f} miles\")\n",
    "print(f\"Variance: {valid_distances.var():.2f}\")\n",
    "print(f\"Skewness: {valid_distances.skew():.2f}\")\n",
    "print(f\"Kurtosis: {valid_distances.kurtosis():.2f}\")\n",
    "print()\n",
    "print(\"Percentiles:\")\n",
    "print(f\"25th percentile: {valid_distances.quantile(0.25):.2f} miles\")\n",
    "print(f\"50th percentile (median): {valid_distances.quantile(0.50):.2f} miles\") \n",
    "print(f\"75th percentile: {valid_distances.quantile(0.75):.2f} miles\")\n",
    "print(f\"90th percentile: {valid_distances.quantile(0.90):.2f} miles\")\n",
    "print(f\"95th percentile: {valid_distances.quantile(0.95):.2f} miles\")\n",
    "print(f\"99th percentile: {valid_distances.quantile(0.99):.2f} miles\")"
   ]
  },
  {
   "cell_type": "code",
   "execution_count": 12,
   "id": "839f8ad4",
   "metadata": {},
   "outputs": [
    {
     "name": "stdout",
     "output_type": "stream",
     "text": [
      "Outlier Analysis:\n",
      "========================================\n",
      "Original data points: 242\n",
      "Q1 (25th percentile): 0.03 miles\n",
      "Q3 (75th percentile): 206.08 miles\n",
      "IQR: 206.05 miles\n",
      "Lower bound (Q1 - 1.5*IQR): -309.05 miles\n",
      "Upper bound (Q3 + 1.5*IQR): 515.15 miles\n",
      "Data points after removing outliers: 199\n",
      "Outliers removed: 43 (17.8%)\n",
      "\n"
     ]
    },
    {
     "data": {
      "application/vnd.plotly.v1+json": {
       "config": {
        "plotlyServerURL": "https://plot.ly"
       },
       "data": [
        {
         "name": "No Outliers",
         "nbinsx": 30,
         "type": "histogram",
         "x": {
          "bdata": "ReqhKLacoD9F6qEotpygP0XqoSi2nKA/ReqhKLacoD+/uw2bQbCsP7+7DZtBsKw/v7sNm0GwrD9x2OpIrL6fP3HY6kisvp8/cdjqSKy+nz9x2OpIrL6fP3HY6kisvp8/cdjqSKy+nz/SLLKCZUPEP9IssoJlQ8Q/0iyygmVDxD9Ezk1aG10VQETOTVobXRVARM5NWhtdFUBEzk1aG10VQETOTVobXRVARM5NWhtdFUDYu9LpuD9qQJNF51Arf/k/2LvS6bg/akDYu9LpuD9qQNi70um4P2pA2LvS6bg/akD0APzBPPOaP/QA/ME885o/9AD8wTzzmj/0APzBPPOaP/QA/ME885o/9AD8wTzzmj8u1iD1l9qVPy7WIPWX2pU/LtYg9ZfalT8u1iD1l9qVPy7WIPWX2pU/LtYg9ZfalT+jbZkwPFCCP6NtmTA8UII/o22ZMDxQgj+jbZkwPFCCP6NtmTA8UII/o22ZMDxQgj8KHo9MgsN4Pwoej0yCw3g/Ch6PTILDeD8KHo9MgsN4Pwoej0yCw3g/Ch6PTILDeD9V4ZcOynqwP1Xhlw7KerA/VeGXDsp6sD9V4ZcOynqwP1Xhlw7KerA//eRaLjAlqT/95FouMCWpP/3kWi4wJak//eRaLjAlqT/95FouMCWpP/3kWi4wJak/xNnsoEL1kT/E2eygQvWRP8TZ7KBC9ZE/xNnsoEL1kT/E2eygQvWRP8TZ7KBC9ZE/SuyKuCg2XkBK7Iq4KDZeQErsirgoNl5AxkTBigGDiz/GRMGKAYOLP8ZEwYoBg4s/xkTBigGDiz/GRMGKAYOLP8ZEwYoBg4s/la0b4v6MfkCVrRvi/ox+QJWtG+L+jH5ALG31/Hyckj8sbfX8fJySPyxt9fx8nJI/LG31/Hyckj8sbfX8fJySPyxt9fx8nJI/wW7krQyUwD/BbuStDJTAP8Fu5K0MlMA/wW7krQyUwD/BbuStDJTAP8Fu5K0MlMA/V1DZw+sTYUBXUNnD6xNhQFdQ2cPrE2FAV1DZw+sTYUBXUNnD6xNhQFdQ2cPrE2FA/+4YprlpLkD/7himuWkuQP/uGKa5aS5A/+4YprlpLkD/7himuWkuQP/uGKa5aS5AwGe3lD2XkD/AZ7eUPZeQP8Bnt5Q9l5A/wGe3lD2XkD/AZ7eUPZeQP8Bnt5Q9l5A/RemvCxiuG0BF6a8LGK4bQEXprwsYrhtARemvCxiuG0BF6a8LGK4bQEXprwsYrhtAStEXDpZKaEBK0RcOlkpoQErRFw6WSmhAStEXDpZKaEBK0RcOlkpoQErRFw6WSmhAGbSAeNUo1j8ZtIB41SjWPxm0gHjVKNY/gncemGjCyT+Cdx6YaMLJP4J3Hphowsk/lq9wno9oxz+Wr3Cej2jHP5avcJ6PaMc/54b7L4A7nz/kRFJVImj8P+REUlUiaPw/5ERSVSJo/D/j71y99ZsvQOPvXL31my9AsWSkTeRnkz+xZKRN5GeTP9RUiM6YJwBA1FSIzpgnAEDUVIjOmCcAQJ0WQ4avkw1A22yUBOOSDUDbbJQE45INQNtslATjkg1A3NYdmlkaaEC+450ptTb9P77jnSm1Nv0/vuOdKbU2/T+DX+ezrQ+NP4Nf57OtD40/g1/ns60PjT83dafc5UA4QNW1JPByH9E/1bUk8HIf0T/VtSTwch/RP9W1JPByH9E/Vh45rOm3nz9WHjms6befP1YeOazpt58/xSqdwLJJkj+DRn1SqH6GPxtSp2CHxaI/G1KnYIfFoj8bUqdgh8WiP9ZB+fWearM/1kH59Z5qsz/WQfn1nmqzP33j5p6jbKY/fePmnqNspj994+aeo2ymP33j5p6jbKY/4ZRt7La7qj/hlG3struqP+GUbey2u6o/iNHkSoQVYUCI0eRKhBVhQIjR5EqEFWFAsevJ/N4Za0Cx68n83hlrQLHryfzeGWtAsevJ/N4Za0Cx68n83hlrQBHcWx5GcHg/EdxbHkZweD8R3FseRnB4P1+MecjmWhdAX4x5yOZaF0BfjHnI5loXQFVhi7HMtn8/VWGLscy2fz/IsPMqAEaIP2DKs7Mzv25AYMqzszO/bkBgyrOzM79uQGDKs7Mzv25AYMqzszO/bkA=",
          "dtype": "f8"
         },
         "xaxis": "x",
         "yaxis": "y"
        },
        {
         "name": "0-5 miles (No Outliers)",
         "nbinsx": 30,
         "type": "histogram",
         "x": {
          "bdata": "ReqhKLacoD9F6qEotpygP0XqoSi2nKA/ReqhKLacoD+/uw2bQbCsP7+7DZtBsKw/v7sNm0GwrD9x2OpIrL6fP3HY6kisvp8/cdjqSKy+nz9x2OpIrL6fP3HY6kisvp8/cdjqSKy+nz/SLLKCZUPEP9IssoJlQ8Q/0iyygmVDxD+TRedQK3/5P/QA/ME885o/9AD8wTzzmj/0APzBPPOaP/QA/ME885o/9AD8wTzzmj/0APzBPPOaPy7WIPWX2pU/LtYg9ZfalT8u1iD1l9qVPy7WIPWX2pU/LtYg9ZfalT8u1iD1l9qVP6NtmTA8UII/o22ZMDxQgj+jbZkwPFCCP6NtmTA8UII/o22ZMDxQgj+jbZkwPFCCPwoej0yCw3g/Ch6PTILDeD8KHo9MgsN4Pwoej0yCw3g/Ch6PTILDeD8KHo9MgsN4P1Xhlw7KerA/VeGXDsp6sD9V4ZcOynqwP1Xhlw7KerA/VeGXDsp6sD/95FouMCWpP/3kWi4wJak//eRaLjAlqT/95FouMCWpP/3kWi4wJak//eRaLjAlqT/E2eygQvWRP8TZ7KBC9ZE/xNnsoEL1kT/E2eygQvWRP8TZ7KBC9ZE/xNnsoEL1kT/GRMGKAYOLP8ZEwYoBg4s/xkTBigGDiz/GRMGKAYOLP8ZEwYoBg4s/xkTBigGDiz8sbfX8fJySPyxt9fx8nJI/LG31/Hyckj8sbfX8fJySPyxt9fx8nJI/LG31/Hyckj/BbuStDJTAP8Fu5K0MlMA/wW7krQyUwD/BbuStDJTAP8Fu5K0MlMA/wW7krQyUwD/AZ7eUPZeQP8Bnt5Q9l5A/wGe3lD2XkD/AZ7eUPZeQP8Bnt5Q9l5A/wGe3lD2XkD8ZtIB41SjWPxm0gHjVKNY/GbSAeNUo1j+Cdx6YaMLJP4J3Hphowsk/gncemGjCyT+Wr3Cej2jHP5avcJ6PaMc/lq9wno9oxz/nhvsvgDufP+REUlUiaPw/5ERSVSJo/D/kRFJVImj8P7FkpE3kZ5M/sWSkTeRnkz/UVIjOmCcAQNRUiM6YJwBA1FSIzpgnAECdFkOGr5MNQNtslATjkg1A22yUBOOSDUDbbJQE45INQL7jnSm1Nv0/vuOdKbU2/T++450ptTb9P4Nf57OtD40/g1/ns60PjT+DX+ezrQ+NP9W1JPByH9E/1bUk8HIf0T/VtSTwch/RP9W1JPByH9E/Vh45rOm3nz9WHjms6befP1YeOazpt58/xSqdwLJJkj+DRn1SqH6GPxtSp2CHxaI/G1KnYIfFoj8bUqdgh8WiP9ZB+fWearM/1kH59Z5qsz/WQfn1nmqzP33j5p6jbKY/fePmnqNspj994+aeo2ymP33j5p6jbKY/4ZRt7La7qj/hlG3struqP+GUbey2u6o/EdxbHkZweD8R3FseRnB4PxHcWx5GcHg/VWGLscy2fz9VYYuxzLZ/P8iw8yoARog/",
          "dtype": "f8"
         },
         "xaxis": "x2",
         "yaxis": "y2"
        },
        {
         "boxpoints": "outliers",
         "name": "With Outliers",
         "type": "box",
         "xaxis": "x3",
         "y": {
          "bdata": "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",
          "dtype": "f8"
         },
         "yaxis": "y3"
        },
        {
         "boxpoints": false,
         "name": "Without Outliers",
         "type": "box",
         "xaxis": "x3",
         "y": {
          "bdata": "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",
          "dtype": "f8"
         },
         "yaxis": "y3"
        },
        {
         "line": {
          "color": "blue"
         },
         "mode": "lines",
         "name": "With Outliers",
         "type": "scatter",
         "x": {
          "bdata": "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",
          "dtype": "f8"
         },
         "xaxis": "x4",
         "y": {
          "bdata": "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",
          "dtype": "f8"
         },
         "yaxis": "y4"
        },
        {
         "line": {
          "color": "red"
         },
         "mode": "lines",
         "name": "Without Outliers",
         "type": "scatter",
         "x": {
          "bdata": "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",
          "dtype": "f8"
         },
         "xaxis": "x4",
         "y": {
          "bdata": "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",
          "dtype": "f8"
         },
         "yaxis": "y4"
        }
       ],
       "layout": {
        "annotations": [
         {
          "font": {
           "size": 16
          },
          "showarrow": false,
          "text": "Histogram - Without Outliers",
          "x": 0.225,
          "xanchor": "center",
          "xref": "paper",
          "y": 1,
          "yanchor": "bottom",
          "yref": "paper"
         },
         {
          "font": {
           "size": 16
          },
          "showarrow": false,
          "text": "Histogram - Zoomed (0-5 miles)",
          "x": 0.775,
          "xanchor": "center",
          "xref": "paper",
          "y": 1,
          "yanchor": "bottom",
          "yref": "paper"
         },
         {
          "font": {
           "size": 16
          },
          "showarrow": false,
          "text": "Box Plot Comparison",
          "x": 0.225,
          "xanchor": "center",
          "xref": "paper",
          "y": 0.375,
          "yanchor": "bottom",
          "yref": "paper"
         },
         {
          "font": {
           "size": 16
          },
          "showarrow": false,
          "text": "Cumulative Distribution Comparison",
          "x": 0.775,
          "xanchor": "center",
          "xref": "paper",
          "y": 0.375,
          "yanchor": "bottom",
          "yref": "paper"
         }
        ],
        "height": 800,
        "showlegend": true,
        "template": {
         "data": {
          "bar": [
           {
            "error_x": {
             "color": "#2a3f5f"
            },
            "error_y": {
             "color": "#2a3f5f"
            },
            "marker": {
             "line": {
              "color": "#E5ECF6",
              "width": 0.5
             },
             "pattern": {
              "fillmode": "overlay",
              "size": 10,
              "solidity": 0.2
             }
            },
            "type": "bar"
           }
          ],
          "barpolar": [
           {
            "marker": {
             "line": {
              "color": "#E5ECF6",
              "width": 0.5
             },
             "pattern": {
              "fillmode": "overlay",
              "size": 10,
              "solidity": 0.2
             }
            },
            "type": "barpolar"
           }
          ],
          "carpet": [
           {
            "aaxis": {
             "endlinecolor": "#2a3f5f",
             "gridcolor": "white",
             "linecolor": "white",
             "minorgridcolor": "white",
             "startlinecolor": "#2a3f5f"
            },
            "baxis": {
             "endlinecolor": "#2a3f5f",
             "gridcolor": "white",
             "linecolor": "white",
             "minorgridcolor": "white",
             "startlinecolor": "#2a3f5f"
            },
            "type": "carpet"
           }
          ],
          "choropleth": [
           {
            "colorbar": {
             "outlinewidth": 0,
             "ticks": ""
            },
            "type": "choropleth"
           }
          ],
          "contour": [
           {
            "colorbar": {
             "outlinewidth": 0,
             "ticks": ""
            },
            "colorscale": [
             [
              0,
              "#0d0887"
             ],
             [
              0.1111111111111111,
              "#46039f"
             ],
             [
              0.2222222222222222,
              "#7201a8"
             ],
             [
              0.3333333333333333,
              "#9c179e"
             ],
             [
              0.4444444444444444,
              "#bd3786"
             ],
             [
              0.5555555555555556,
              "#d8576b"
             ],
             [
              0.6666666666666666,
              "#ed7953"
             ],
             [
              0.7777777777777778,
              "#fb9f3a"
             ],
             [
              0.8888888888888888,
              "#fdca26"
             ],
             [
              1,
              "#f0f921"
             ]
            ],
            "type": "contour"
           }
          ],
          "contourcarpet": [
           {
            "colorbar": {
             "outlinewidth": 0,
             "ticks": ""
            },
            "type": "contourcarpet"
           }
          ],
          "heatmap": [
           {
            "colorbar": {
             "outlinewidth": 0,
             "ticks": ""
            },
            "colorscale": [
             [
              0,
              "#0d0887"
             ],
             [
              0.1111111111111111,
              "#46039f"
             ],
             [
              0.2222222222222222,
              "#7201a8"
             ],
             [
              0.3333333333333333,
              "#9c179e"
             ],
             [
              0.4444444444444444,
              "#bd3786"
             ],
             [
              0.5555555555555556,
              "#d8576b"
             ],
             [
              0.6666666666666666,
              "#ed7953"
             ],
             [
              0.7777777777777778,
              "#fb9f3a"
             ],
             [
              0.8888888888888888,
              "#fdca26"
             ],
             [
              1,
              "#f0f921"
             ]
            ],
            "type": "heatmap"
           }
          ],
          "histogram": [
           {
            "marker": {
             "pattern": {
              "fillmode": "overlay",
              "size": 10,
              "solidity": 0.2
             }
            },
            "type": "histogram"
           }
          ],
          "histogram2d": [
           {
            "colorbar": {
             "outlinewidth": 0,
             "ticks": ""
            },
            "colorscale": [
             [
              0,
              "#0d0887"
             ],
             [
              0.1111111111111111,
              "#46039f"
             ],
             [
              0.2222222222222222,
              "#7201a8"
             ],
             [
              0.3333333333333333,
              "#9c179e"
             ],
             [
              0.4444444444444444,
              "#bd3786"
             ],
             [
              0.5555555555555556,
              "#d8576b"
             ],
             [
              0.6666666666666666,
              "#ed7953"
             ],
             [
              0.7777777777777778,
              "#fb9f3a"
             ],
             [
              0.8888888888888888,
              "#fdca26"
             ],
             [
              1,
              "#f0f921"
             ]
            ],
            "type": "histogram2d"
           }
          ],
          "histogram2dcontour": [
           {
            "colorbar": {
             "outlinewidth": 0,
             "ticks": ""
            },
            "colorscale": [
             [
              0,
              "#0d0887"
             ],
             [
              0.1111111111111111,
              "#46039f"
             ],
             [
              0.2222222222222222,
              "#7201a8"
             ],
             [
              0.3333333333333333,
              "#9c179e"
             ],
             [
              0.4444444444444444,
              "#bd3786"
             ],
             [
              0.5555555555555556,
              "#d8576b"
             ],
             [
              0.6666666666666666,
              "#ed7953"
             ],
             [
              0.7777777777777778,
              "#fb9f3a"
             ],
             [
              0.8888888888888888,
              "#fdca26"
             ],
             [
              1,
              "#f0f921"
             ]
            ],
            "type": "histogram2dcontour"
           }
          ],
          "mesh3d": [
           {
            "colorbar": {
             "outlinewidth": 0,
             "ticks": ""
            },
            "type": "mesh3d"
           }
          ],
          "parcoords": [
           {
            "line": {
             "colorbar": {
              "outlinewidth": 0,
              "ticks": ""
             }
            },
            "type": "parcoords"
           }
          ],
          "pie": [
           {
            "automargin": true,
            "type": "pie"
           }
          ],
          "scatter": [
           {
            "fillpattern": {
             "fillmode": "overlay",
             "size": 10,
             "solidity": 0.2
            },
            "type": "scatter"
           }
          ],
          "scatter3d": [
           {
            "line": {
             "colorbar": {
              "outlinewidth": 0,
              "ticks": ""
             }
            },
            "marker": {
             "colorbar": {
              "outlinewidth": 0,
              "ticks": ""
             }
            },
            "type": "scatter3d"
           }
          ],
          "scattercarpet": [
           {
            "marker": {
             "colorbar": {
              "outlinewidth": 0,
              "ticks": ""
             }
            },
            "type": "scattercarpet"
           }
          ],
          "scattergeo": [
           {
            "marker": {
             "colorbar": {
              "outlinewidth": 0,
              "ticks": ""
             }
            },
            "type": "scattergeo"
           }
          ],
          "scattergl": [
           {
            "marker": {
             "colorbar": {
              "outlinewidth": 0,
              "ticks": ""
             }
            },
            "type": "scattergl"
           }
          ],
          "scattermap": [
           {
            "marker": {
             "colorbar": {
              "outlinewidth": 0,
              "ticks": ""
             }
            },
            "type": "scattermap"
           }
          ],
          "scattermapbox": [
           {
            "marker": {
             "colorbar": {
              "outlinewidth": 0,
              "ticks": ""
             }
            },
            "type": "scattermapbox"
           }
          ],
          "scatterpolar": [
           {
            "marker": {
             "colorbar": {
              "outlinewidth": 0,
              "ticks": ""
             }
            },
            "type": "scatterpolar"
           }
          ],
          "scatterpolargl": [
           {
            "marker": {
             "colorbar": {
              "outlinewidth": 0,
              "ticks": ""
             }
            },
            "type": "scatterpolargl"
           }
          ],
          "scatterternary": [
           {
            "marker": {
             "colorbar": {
              "outlinewidth": 0,
              "ticks": ""
             }
            },
            "type": "scatterternary"
           }
          ],
          "surface": [
           {
            "colorbar": {
             "outlinewidth": 0,
             "ticks": ""
            },
            "colorscale": [
             [
              0,
              "#0d0887"
             ],
             [
              0.1111111111111111,
              "#46039f"
             ],
             [
              0.2222222222222222,
              "#7201a8"
             ],
             [
              0.3333333333333333,
              "#9c179e"
             ],
             [
              0.4444444444444444,
              "#bd3786"
             ],
             [
              0.5555555555555556,
              "#d8576b"
             ],
             [
              0.6666666666666666,
              "#ed7953"
             ],
             [
              0.7777777777777778,
              "#fb9f3a"
             ],
             [
              0.8888888888888888,
              "#fdca26"
             ],
             [
              1,
              "#f0f921"
             ]
            ],
            "type": "surface"
           }
          ],
          "table": [
           {
            "cells": {
             "fill": {
              "color": "#EBF0F8"
             },
             "line": {
              "color": "white"
             }
            },
            "header": {
             "fill": {
              "color": "#C8D4E3"
             },
             "line": {
              "color": "white"
             }
            },
            "type": "table"
           }
          ]
         },
         "layout": {
          "annotationdefaults": {
           "arrowcolor": "#2a3f5f",
           "arrowhead": 0,
           "arrowwidth": 1
          },
          "autotypenumbers": "strict",
          "coloraxis": {
           "colorbar": {
            "outlinewidth": 0,
            "ticks": ""
           }
          },
          "colorscale": {
           "diverging": [
            [
             0,
             "#8e0152"
            ],
            [
             0.1,
             "#c51b7d"
            ],
            [
             0.2,
             "#de77ae"
            ],
            [
             0.3,
             "#f1b6da"
            ],
            [
             0.4,
             "#fde0ef"
            ],
            [
             0.5,
             "#f7f7f7"
            ],
            [
             0.6,
             "#e6f5d0"
            ],
            [
             0.7,
             "#b8e186"
            ],
            [
             0.8,
             "#7fbc41"
            ],
            [
             0.9,
             "#4d9221"
            ],
            [
             1,
             "#276419"
            ]
           ],
           "sequential": [
            [
             0,
             "#0d0887"
            ],
            [
             0.1111111111111111,
             "#46039f"
            ],
            [
             0.2222222222222222,
             "#7201a8"
            ],
            [
             0.3333333333333333,
             "#9c179e"
            ],
            [
             0.4444444444444444,
             "#bd3786"
            ],
            [
             0.5555555555555556,
             "#d8576b"
            ],
            [
             0.6666666666666666,
             "#ed7953"
            ],
            [
             0.7777777777777778,
             "#fb9f3a"
            ],
            [
             0.8888888888888888,
             "#fdca26"
            ],
            [
             1,
             "#f0f921"
            ]
           ],
           "sequentialminus": [
            [
             0,
             "#0d0887"
            ],
            [
             0.1111111111111111,
             "#46039f"
            ],
            [
             0.2222222222222222,
             "#7201a8"
            ],
            [
             0.3333333333333333,
             "#9c179e"
            ],
            [
             0.4444444444444444,
             "#bd3786"
            ],
            [
             0.5555555555555556,
             "#d8576b"
            ],
            [
             0.6666666666666666,
             "#ed7953"
            ],
            [
             0.7777777777777778,
             "#fb9f3a"
            ],
            [
             0.8888888888888888,
             "#fdca26"
            ],
            [
             1,
             "#f0f921"
            ]
           ]
          },
          "colorway": [
           "#636efa",
           "#EF553B",
           "#00cc96",
           "#ab63fa",
           "#FFA15A",
           "#19d3f3",
           "#FF6692",
           "#B6E880",
           "#FF97FF",
           "#FECB52"
          ],
          "font": {
           "color": "#2a3f5f"
          },
          "geo": {
           "bgcolor": "white",
           "lakecolor": "white",
           "landcolor": "#E5ECF6",
           "showlakes": true,
           "showland": true,
           "subunitcolor": "white"
          },
          "hoverlabel": {
           "align": "left"
          },
          "hovermode": "closest",
          "mapbox": {
           "style": "light"
          },
          "paper_bgcolor": "white",
          "plot_bgcolor": "#E5ECF6",
          "polar": {
           "angularaxis": {
            "gridcolor": "white",
            "linecolor": "white",
            "ticks": ""
           },
           "bgcolor": "#E5ECF6",
           "radialaxis": {
            "gridcolor": "white",
            "linecolor": "white",
            "ticks": ""
           }
          },
          "scene": {
           "xaxis": {
            "backgroundcolor": "#E5ECF6",
            "gridcolor": "white",
            "gridwidth": 2,
            "linecolor": "white",
            "showbackground": true,
            "ticks": "",
            "zerolinecolor": "white"
           },
           "yaxis": {
            "backgroundcolor": "#E5ECF6",
            "gridcolor": "white",
            "gridwidth": 2,
            "linecolor": "white",
            "showbackground": true,
            "ticks": "",
            "zerolinecolor": "white"
           },
           "zaxis": {
            "backgroundcolor": "#E5ECF6",
            "gridcolor": "white",
            "gridwidth": 2,
            "linecolor": "white",
            "showbackground": true,
            "ticks": "",
            "zerolinecolor": "white"
           }
          },
          "shapedefaults": {
           "line": {
            "color": "#2a3f5f"
           }
          },
          "ternary": {
           "aaxis": {
            "gridcolor": "white",
            "linecolor": "white",
            "ticks": ""
           },
           "baxis": {
            "gridcolor": "white",
            "linecolor": "white",
            "ticks": ""
           },
           "bgcolor": "#E5ECF6",
           "caxis": {
            "gridcolor": "white",
            "linecolor": "white",
            "ticks": ""
           }
          },
          "title": {
           "x": 0.05
          },
          "xaxis": {
           "automargin": true,
           "gridcolor": "white",
           "linecolor": "white",
           "ticks": "",
           "title": {
            "standoff": 15
           },
           "zerolinecolor": "white",
           "zerolinewidth": 2
          },
          "yaxis": {
           "automargin": true,
           "gridcolor": "white",
           "linecolor": "white",
           "ticks": "",
           "title": {
            "standoff": 15
           },
           "zerolinecolor": "white",
           "zerolinewidth": 2
          }
         }
        },
        "title": {
         "text": "Distribution Analysis: Final Coordinates vs Geocoding API (Outliers Removed)"
        },
        "xaxis": {
         "anchor": "y",
         "domain": [
          0,
          0.45
         ],
         "title": {
          "text": "Distance (miles)"
         }
        },
        "xaxis2": {
         "anchor": "y2",
         "domain": [
          0.55,
          1
         ],
         "title": {
          "text": "Distance (miles)"
         }
        },
        "xaxis3": {
         "anchor": "y3",
         "domain": [
          0,
          0.45
         ],
         "title": {
          "text": ""
         }
        },
        "xaxis4": {
         "anchor": "y4",
         "domain": [
          0.55,
          1
         ],
         "title": {
          "text": "Distance (miles)"
         }
        },
        "yaxis": {
         "anchor": "x",
         "domain": [
          0.625,
          1
         ],
         "title": {
          "text": "Count"
         }
        },
        "yaxis2": {
         "anchor": "x2",
         "domain": [
          0.625,
          1
         ],
         "title": {
          "text": "Count"
         }
        },
        "yaxis3": {
         "anchor": "x3",
         "domain": [
          0,
          0.375
         ],
         "title": {
          "text": "Distance (miles)"
         }
        },
        "yaxis4": {
         "anchor": "x4",
         "domain": [
          0,
          0.375
         ],
         "title": {
          "text": "Cumulative Probability"
         }
        }
       }
      }
     },
     "metadata": {},
     "output_type": "display_data"
    },
    {
     "name": "stdout",
     "output_type": "stream",
     "text": [
      "Statistics Comparison:\n",
      "============================================================\n",
      "Metric                    With Outliers   Without Outliers\n",
      "------------------------------------------------------------\n",
      "Count                     242             199            \n",
      "Mean (miles)              325.06          40.50          \n",
      "Median (miles)            0.31            0.08           \n",
      "Std Dev (miles)           673.65          90.65          \n",
      "Min (miles)               0.01            0.01           \n",
      "Max (miles)               2482.89         488.81         \n",
      "Skewness                  2.16            2.68           \n",
      "\n",
      "Accuracy Distribution (Without Outliers):\n",
      "---------------------------------------------\n",
      "Within 0.1 miles: 102 (51.3%)\n",
      "Within 0.5 miles: 124 (62.3%)\n",
      "Within 1 mile: 124 (62.3%)\n",
      "Within 2 miles: 131 (65.8%)\n",
      "Within 5 miles: 138 (69.3%)\n"
     ]
    }
   ],
   "source": [
    "import plotly.express as px\n",
    "import plotly.graph_objects as go\n",
    "from plotly.subplots import make_subplots\n",
    "import numpy as np\n",
    "\n",
    "# Get the valid distances (non-null values)\n",
    "valid_distances = df['Distance_Final_vs_API'].dropna()\n",
    "\n",
    "# Remove outliers using IQR method\n",
    "Q1 = valid_distances.quantile(0.25)\n",
    "Q3 = valid_distances.quantile(0.75)\n",
    "IQR = Q3 - Q1\n",
    "lower_bound = Q1 - 1.5 * IQR\n",
    "upper_bound = Q3 + 1.5 * IQR\n",
    "\n",
    "# Filter out outliers\n",
    "distances_no_outliers = valid_distances[(valid_distances >= lower_bound) & (valid_distances <= upper_bound)]\n",
    "\n",
    "print(\"Outlier Analysis:\")\n",
    "print(\"=\" * 40)\n",
    "print(f\"Original data points: {len(valid_distances)}\")\n",
    "print(f\"Q1 (25th percentile): {Q1:.2f} miles\")\n",
    "print(f\"Q3 (75th percentile): {Q3:.2f} miles\") \n",
    "print(f\"IQR: {IQR:.2f} miles\")\n",
    "print(f\"Lower bound (Q1 - 1.5*IQR): {lower_bound:.2f} miles\")\n",
    "print(f\"Upper bound (Q3 + 1.5*IQR): {upper_bound:.2f} miles\")\n",
    "print(f\"Data points after removing outliers: {len(distances_no_outliers)}\")\n",
    "print(f\"Outliers removed: {len(valid_distances) - len(distances_no_outliers)} ({((len(valid_distances) - len(distances_no_outliers))/len(valid_distances)*100):.1f}%)\")\n",
    "print()\n",
    "\n",
    "# Create subplots comparing with and without outliers\n",
    "fig = make_subplots(\n",
    "    rows=2, cols=2,\n",
    "    subplot_titles=('Histogram - Without Outliers', 'Histogram - Zoomed (0-5 miles)', \n",
    "                   'Box Plot Comparison', 'Cumulative Distribution Comparison'),\n",
    "    specs=[[{\"secondary_y\": False}, {\"secondary_y\": False}],\n",
    "           [{\"secondary_y\": False}, {\"secondary_y\": False}]]\n",
    ")\n",
    "\n",
    "# 1. Histogram without outliers\n",
    "fig.add_trace(\n",
    "    go.Histogram(x=distances_no_outliers, nbinsx=30, name='No Outliers'),\n",
    "    row=1, col=1\n",
    ")\n",
    "\n",
    "# 2. Histogram - Zoomed to 0-5 miles (no outliers)\n",
    "distances_zoomed_no_outliers = distances_no_outliers[distances_no_outliers <= 5]\n",
    "fig.add_trace(\n",
    "    go.Histogram(x=distances_zoomed_no_outliers, nbinsx=30, name='0-5 miles (No Outliers)'),\n",
    "    row=1, col=2\n",
    ")\n",
    "\n",
    "# 3. Box plot comparison\n",
    "fig.add_trace(\n",
    "    go.Box(y=valid_distances, name='With Outliers', boxpoints='outliers'),\n",
    "    row=2, col=1\n",
    ")\n",
    "fig.add_trace(\n",
    "    go.Box(y=distances_no_outliers, name='Without Outliers', boxpoints=False),\n",
    "    row=2, col=1\n",
    ")\n",
    "\n",
    "# 4. Cumulative distribution comparison\n",
    "sorted_distances_original = np.sort(valid_distances)\n",
    "cumulative_prob_original = np.arange(1, len(sorted_distances_original) + 1) / len(sorted_distances_original)\n",
    "fig.add_trace(\n",
    "    go.Scatter(x=sorted_distances_original, y=cumulative_prob_original, mode='lines', \n",
    "              name='With Outliers', line=dict(color='blue')),\n",
    "    row=2, col=2\n",
    ")\n",
    "\n",
    "sorted_distances_no_outliers = np.sort(distances_no_outliers)\n",
    "cumulative_prob_no_outliers = np.arange(1, len(sorted_distances_no_outliers) + 1) / len(sorted_distances_no_outliers)\n",
    "fig.add_trace(\n",
    "    go.Scatter(x=sorted_distances_no_outliers, y=cumulative_prob_no_outliers, mode='lines', \n",
    "              name='Without Outliers', line=dict(color='red')),\n",
    "    row=2, col=2\n",
    ")\n",
    "\n",
    "# Update layout\n",
    "fig.update_layout(\n",
    "    height=800,\n",
    "    title_text=\"Distribution Analysis: Final Coordinates vs Geocoding API (Outliers Removed)\",\n",
    "    showlegend=True\n",
    ")\n",
    "\n",
    "# Update x-axis labels\n",
    "fig.update_xaxes(title_text=\"Distance (miles)\", row=1, col=1)\n",
    "fig.update_xaxes(title_text=\"Distance (miles)\", row=1, col=2)\n",
    "fig.update_xaxes(title_text=\"\", row=2, col=1)\n",
    "fig.update_xaxes(title_text=\"Distance (miles)\", row=2, col=2)\n",
    "\n",
    "# Update y-axis labels\n",
    "fig.update_yaxes(title_text=\"Count\", row=1, col=1)\n",
    "fig.update_yaxes(title_text=\"Count\", row=1, col=2)\n",
    "fig.update_yaxes(title_text=\"Distance (miles)\", row=2, col=1)\n",
    "fig.update_yaxes(title_text=\"Cumulative Probability\", row=2, col=2)\n",
    "\n",
    "fig.show()\n",
    "\n",
    "# Statistics comparison\n",
    "print(\"Statistics Comparison:\")\n",
    "print(\"=\" * 60)\n",
    "print(f\"{'Metric':<25} {'With Outliers':<15} {'Without Outliers':<15}\")\n",
    "print(\"-\" * 60)\n",
    "print(f\"{'Count':<25} {len(valid_distances):<15} {len(distances_no_outliers):<15}\")\n",
    "print(f\"{'Mean (miles)':<25} {valid_distances.mean():<15.2f} {distances_no_outliers.mean():<15.2f}\")\n",
    "print(f\"{'Median (miles)':<25} {valid_distances.median():<15.2f} {distances_no_outliers.median():<15.2f}\")\n",
    "print(f\"{'Std Dev (miles)':<25} {valid_distances.std():<15.2f} {distances_no_outliers.std():<15.2f}\")\n",
    "print(f\"{'Min (miles)':<25} {valid_distances.min():<15.2f} {distances_no_outliers.min():<15.2f}\")\n",
    "print(f\"{'Max (miles)':<25} {valid_distances.max():<15.2f} {distances_no_outliers.max():<15.2f}\")\n",
    "print(f\"{'Skewness':<25} {valid_distances.skew():<15.2f} {distances_no_outliers.skew():<15.2f}\")\n",
    "print()\n",
    "\n",
    "print(\"Accuracy Distribution (Without Outliers):\")\n",
    "print(\"-\" * 45)\n",
    "print(f\"Within 0.1 miles: {(distances_no_outliers <= 0.1).sum()} ({(distances_no_outliers <= 0.1).mean()*100:.1f}%)\")\n",
    "print(f\"Within 0.5 miles: {(distances_no_outliers <= 0.5).sum()} ({(distances_no_outliers <= 0.5).mean()*100:.1f}%)\")\n",
    "print(f\"Within 1 mile: {(distances_no_outliers <= 1).sum()} ({(distances_no_outliers <= 1).mean()*100:.1f}%)\")\n",
    "print(f\"Within 2 miles: {(distances_no_outliers <= 2).sum()} ({(distances_no_outliers <= 2).mean()*100:.1f}%)\")\n",
    "print(f\"Within 5 miles: {(distances_no_outliers <= 5).sum()} ({(distances_no_outliers <= 5).mean()*100:.1f}%)\")"
   ]
  },
  {
   "cell_type": "code",
   "execution_count": 13,
   "id": "1b31efd2",
   "metadata": {},
   "outputs": [
    {
     "name": "stdout",
     "output_type": "stream",
     "text": [
      "High-Accuracy Analysis: Distances Within 1 Mile\n",
      "==================================================\n",
      "Total data points: 242\n",
      "Points within 1 mile: 124 (51.2%)\n",
      "Points beyond 1 mile: 118 (48.8%)\n",
      "\n"
     ]
    },
    {
     "data": {
      "application/vnd.plotly.v1+json": {
       "config": {
        "plotlyServerURL": "https://plot.ly"
       },
       "data": [
        {
         "name": "Within 1 Mile",
         "nbinsx": 25,
         "type": "histogram",
         "x": {
          "bdata": "ReqhKLacoD9F6qEotpygP0XqoSi2nKA/ReqhKLacoD+/uw2bQbCsP7+7DZtBsKw/v7sNm0GwrD9x2OpIrL6fP3HY6kisvp8/cdjqSKy+nz9x2OpIrL6fP3HY6kisvp8/cdjqSKy+nz/SLLKCZUPEP9IssoJlQ8Q/0iyygmVDxD/0APzBPPOaP/QA/ME885o/9AD8wTzzmj/0APzBPPOaP/QA/ME885o/9AD8wTzzmj8u1iD1l9qVPy7WIPWX2pU/LtYg9ZfalT8u1iD1l9qVPy7WIPWX2pU/LtYg9ZfalT+jbZkwPFCCP6NtmTA8UII/o22ZMDxQgj+jbZkwPFCCP6NtmTA8UII/o22ZMDxQgj8KHo9MgsN4Pwoej0yCw3g/Ch6PTILDeD8KHo9MgsN4Pwoej0yCw3g/Ch6PTILDeD9V4ZcOynqwP1Xhlw7KerA/VeGXDsp6sD9V4ZcOynqwP1Xhlw7KerA//eRaLjAlqT/95FouMCWpP/3kWi4wJak//eRaLjAlqT/95FouMCWpP/3kWi4wJak/xNnsoEL1kT/E2eygQvWRP8TZ7KBC9ZE/xNnsoEL1kT/E2eygQvWRP8TZ7KBC9ZE/xkTBigGDiz/GRMGKAYOLP8ZEwYoBg4s/xkTBigGDiz/GRMGKAYOLP8ZEwYoBg4s/LG31/Hyckj8sbfX8fJySPyxt9fx8nJI/LG31/Hyckj8sbfX8fJySPyxt9fx8nJI/wW7krQyUwD/BbuStDJTAP8Fu5K0MlMA/wW7krQyUwD/BbuStDJTAP8Fu5K0MlMA/wGe3lD2XkD/AZ7eUPZeQP8Bnt5Q9l5A/wGe3lD2XkD/AZ7eUPZeQP8Bnt5Q9l5A/GbSAeNUo1j8ZtIB41SjWPxm0gHjVKNY/gncemGjCyT+Cdx6YaMLJP4J3Hphowsk/lq9wno9oxz+Wr3Cej2jHP5avcJ6PaMc/54b7L4A7nz+xZKRN5GeTP7FkpE3kZ5M/g1/ns60PjT+DX+ezrQ+NP4Nf57OtD40/1bUk8HIf0T/VtSTwch/RP9W1JPByH9E/1bUk8HIf0T9WHjms6befP1YeOazpt58/Vh45rOm3nz/FKp3AskmSP4NGfVKofoY/G1KnYIfFoj8bUqdgh8WiPxtSp2CHxaI/1kH59Z5qsz/WQfn1nmqzP9ZB+fWearM/fePmnqNspj994+aeo2ymP33j5p6jbKY/fePmnqNspj/hlG3struqP+GUbey2u6o/4ZRt7La7qj8R3FseRnB4PxHcWx5GcHg/EdxbHkZweD9VYYuxzLZ/P1Vhi7HMtn8/yLDzKgBGiD8=",
          "dtype": "f8"
         },
         "xaxis": "x",
         "yaxis": "y"
        },
        {
         "name": "0-0.1 miles",
         "nbinsx": 20,
         "type": "histogram",
         "x": {
          "bdata": "ReqhKLacoD9F6qEotpygP0XqoSi2nKA/ReqhKLacoD+/uw2bQbCsP7+7DZtBsKw/v7sNm0GwrD9x2OpIrL6fP3HY6kisvp8/cdjqSKy+nz9x2OpIrL6fP3HY6kisvp8/cdjqSKy+nz/0APzBPPOaP/QA/ME885o/9AD8wTzzmj/0APzBPPOaP/QA/ME885o/9AD8wTzzmj8u1iD1l9qVPy7WIPWX2pU/LtYg9ZfalT8u1iD1l9qVPy7WIPWX2pU/LtYg9ZfalT+jbZkwPFCCP6NtmTA8UII/o22ZMDxQgj+jbZkwPFCCP6NtmTA8UII/o22ZMDxQgj8KHo9MgsN4Pwoej0yCw3g/Ch6PTILDeD8KHo9MgsN4Pwoej0yCw3g/Ch6PTILDeD9V4ZcOynqwP1Xhlw7KerA/VeGXDsp6sD9V4ZcOynqwP1Xhlw7KerA//eRaLjAlqT/95FouMCWpP/3kWi4wJak//eRaLjAlqT/95FouMCWpP/3kWi4wJak/xNnsoEL1kT/E2eygQvWRP8TZ7KBC9ZE/xNnsoEL1kT/E2eygQvWRP8TZ7KBC9ZE/xkTBigGDiz/GRMGKAYOLP8ZEwYoBg4s/xkTBigGDiz/GRMGKAYOLP8ZEwYoBg4s/LG31/Hyckj8sbfX8fJySPyxt9fx8nJI/LG31/Hyckj8sbfX8fJySPyxt9fx8nJI/wGe3lD2XkD/AZ7eUPZeQP8Bnt5Q9l5A/wGe3lD2XkD/AZ7eUPZeQP8Bnt5Q9l5A/54b7L4A7nz+xZKRN5GeTP7FkpE3kZ5M/g1/ns60PjT+DX+ezrQ+NP4Nf57OtD40/Vh45rOm3nz9WHjms6befP1YeOazpt58/xSqdwLJJkj+DRn1SqH6GPxtSp2CHxaI/G1KnYIfFoj8bUqdgh8WiP9ZB+fWearM/1kH59Z5qsz/WQfn1nmqzP33j5p6jbKY/fePmnqNspj994+aeo2ymP33j5p6jbKY/4ZRt7La7qj/hlG3struqP+GUbey2u6o/EdxbHkZweD8R3FseRnB4PxHcWx5GcHg/VWGLscy2fz9VYYuxzLZ/P8iw8yoARog/",
          "dtype": "f8"
         },
         "xaxis": "x2",
         "yaxis": "y2"
        },
        {
         "boxpoints": "all",
         "name": "Within 1 Mile",
         "type": "box",
         "xaxis": "x3",
         "y": {
          "bdata": "ReqhKLacoD9F6qEotpygP0XqoSi2nKA/ReqhKLacoD+/uw2bQbCsP7+7DZtBsKw/v7sNm0GwrD9x2OpIrL6fP3HY6kisvp8/cdjqSKy+nz9x2OpIrL6fP3HY6kisvp8/cdjqSKy+nz/SLLKCZUPEP9IssoJlQ8Q/0iyygmVDxD/0APzBPPOaP/QA/ME885o/9AD8wTzzmj/0APzBPPOaP/QA/ME885o/9AD8wTzzmj8u1iD1l9qVPy7WIPWX2pU/LtYg9ZfalT8u1iD1l9qVPy7WIPWX2pU/LtYg9ZfalT+jbZkwPFCCP6NtmTA8UII/o22ZMDxQgj+jbZkwPFCCP6NtmTA8UII/o22ZMDxQgj8KHo9MgsN4Pwoej0yCw3g/Ch6PTILDeD8KHo9MgsN4Pwoej0yCw3g/Ch6PTILDeD9V4ZcOynqwP1Xhlw7KerA/VeGXDsp6sD9V4ZcOynqwP1Xhlw7KerA//eRaLjAlqT/95FouMCWpP/3kWi4wJak//eRaLjAlqT/95FouMCWpP/3kWi4wJak/xNnsoEL1kT/E2eygQvWRP8TZ7KBC9ZE/xNnsoEL1kT/E2eygQvWRP8TZ7KBC9ZE/xkTBigGDiz/GRMGKAYOLP8ZEwYoBg4s/xkTBigGDiz/GRMGKAYOLP8ZEwYoBg4s/LG31/Hyckj8sbfX8fJySPyxt9fx8nJI/LG31/Hyckj8sbfX8fJySPyxt9fx8nJI/wW7krQyUwD/BbuStDJTAP8Fu5K0MlMA/wW7krQyUwD/BbuStDJTAP8Fu5K0MlMA/wGe3lD2XkD/AZ7eUPZeQP8Bnt5Q9l5A/wGe3lD2XkD/AZ7eUPZeQP8Bnt5Q9l5A/GbSAeNUo1j8ZtIB41SjWPxm0gHjVKNY/gncemGjCyT+Cdx6YaMLJP4J3Hphowsk/lq9wno9oxz+Wr3Cej2jHP5avcJ6PaMc/54b7L4A7nz+xZKRN5GeTP7FkpE3kZ5M/g1/ns60PjT+DX+ezrQ+NP4Nf57OtD40/1bUk8HIf0T/VtSTwch/RP9W1JPByH9E/1bUk8HIf0T9WHjms6befP1YeOazpt58/Vh45rOm3nz/FKp3AskmSP4NGfVKofoY/G1KnYIfFoj8bUqdgh8WiPxtSp2CHxaI/1kH59Z5qsz/WQfn1nmqzP9ZB+fWearM/fePmnqNspj994+aeo2ymP33j5p6jbKY/fePmnqNspj/hlG3struqP+GUbey2u6o/4ZRt7La7qj8R3FseRnB4PxHcWx5GcHg/EdxbHkZweD9VYYuxzLZ/P1Vhi7HMtn8/yLDzKgBGiD8=",
          "dtype": "f8"
         },
         "yaxis": "y3"
        },
        {
         "line": {
          "color": "green"
         },
         "mode": "lines",
         "name": "Within 1 Mile",
         "type": "scatter",
         "x": {
          "bdata": "EdxbHkZweD8R3FseRnB4PxHcWx5GcHg/Ch6PTILDeD8KHo9MgsN4Pwoej0yCw3g/Ch6PTILDeD8KHo9MgsN4Pwoej0yCw3g/VWGLscy2fz9VYYuxzLZ/P6NtmTA8UII/o22ZMDxQgj+jbZkwPFCCP6NtmTA8UII/o22ZMDxQgj+jbZkwPFCCP4NGfVKofoY/yLDzKgBGiD/GRMGKAYOLP8ZEwYoBg4s/xkTBigGDiz/GRMGKAYOLP8ZEwYoBg4s/xkTBigGDiz+DX+ezrQ+NP4Nf57OtD40/g1/ns60PjT/AZ7eUPZeQP8Bnt5Q9l5A/wGe3lD2XkD/AZ7eUPZeQP8Bnt5Q9l5A/wGe3lD2XkD/E2eygQvWRP8TZ7KBC9ZE/xNnsoEL1kT/E2eygQvWRP8TZ7KBC9ZE/xNnsoEL1kT/FKp3AskmSPyxt9fx8nJI/LG31/Hyckj8sbfX8fJySPyxt9fx8nJI/LG31/Hyckj8sbfX8fJySP7FkpE3kZ5M/sWSkTeRnkz8u1iD1l9qVPy7WIPWX2pU/LtYg9ZfalT8u1iD1l9qVPy7WIPWX2pU/LtYg9ZfalT/0APzBPPOaP/QA/ME885o/9AD8wTzzmj/0APzBPPOaP/QA/ME885o/9AD8wTzzmj/nhvsvgDufP1YeOazpt58/Vh45rOm3nz9WHjms6befP3HY6kisvp8/cdjqSKy+nz9x2OpIrL6fP3HY6kisvp8/cdjqSKy+nz9x2OpIrL6fP0XqoSi2nKA/ReqhKLacoD9F6qEotpygP0XqoSi2nKA/G1KnYIfFoj8bUqdgh8WiPxtSp2CHxaI/fePmnqNspj994+aeo2ymP33j5p6jbKY/fePmnqNspj/95FouMCWpP/3kWi4wJak//eRaLjAlqT/95FouMCWpP/3kWi4wJak//eRaLjAlqT/hlG3struqP+GUbey2u6o/4ZRt7La7qj+/uw2bQbCsP7+7DZtBsKw/v7sNm0GwrD9V4ZcOynqwP1Xhlw7KerA/VeGXDsp6sD9V4ZcOynqwP1Xhlw7KerA/1kH59Z5qsz/WQfn1nmqzP9ZB+fWearM/wW7krQyUwD/BbuStDJTAP8Fu5K0MlMA/wW7krQyUwD/BbuStDJTAP8Fu5K0MlMA/0iyygmVDxD/SLLKCZUPEP9IssoJlQ8Q/lq9wno9oxz+Wr3Cej2jHP5avcJ6PaMc/gncemGjCyT+Cdx6YaMLJP4J3Hphowsk/1bUk8HIf0T/VtSTwch/RP9W1JPByH9E/1bUk8HIf0T8ZtIB41SjWPxm0gHjVKNY/GbSAeNUo1j8=",
          "dtype": "f8"
         },
         "xaxis": "x4",
         "y": {
          "bdata": "hBBCCCGEgD+EEEIIIYSQP8YYY4wxxpg/hBBCCCGEoD+llFJKKaWkP8YYY4wxxqg/55xzzjnnrD+EEEIIIYSwP5VSSimllLI/pZRSSimltD+21lprrbW2P8YYY4wxxrg/11prrbXWuj/nnHPOOee8P/jee++9974/hBBCCCGEwD+MMcYYY4zBP5VSSimllMI/nXPOOeecwz+llFJKKaXEP6211lprrcU/ttZaa621xj++9957773HP8YYY4wxxsg/zjnnnHPOyT/XWmuttdbKP99777333ss/55xzzjnnzD/vvffee+/NP/jee++9984/AAAAAAAA0D+EEEIIIYTQPwghhBBCCNE/jDHGGGOM0T8RQgghhBDSP5VSSimllNI/GWOMMcYY0z+dc84555zTPyGEEEIIIdQ/pZRSSiml1D8ppZRSSinVP6211lprrdU/MsYYY4wx1j+21lprrbXWPzrnnHPOOdc/vvfee++91z9CCCGEEELYP8YYY4wxxtg/SimllFJK2T/OOeecc87ZP1NKKaWUUto/11prrbXW2j9ba6211lrbP99777333ts/Y4wxxhhj3D/nnHPOOefcP2uttdZaa90/77333nvv3T90zjnnnHPeP/jee++9994/fO+999573z8AAAAAAADgP0IIIYQQQuA/hBBCCCGE4D/GGGOMMcbgPwghhBBCCOE/SimllFJK4T+MMcYYY4zhP84555xzzuE/EUIIIYQQ4j9TSimllFLiP5VSSimllOI/11prrbXW4j8ZY4wxxhjjP1trrbXWWuM/nXPOOeec4z/fe++9997jPyGEEEIIIeQ/Y4wxxhhj5D+llFJKKaXkP+ecc8455+Q/KaWUUkop5T9rrbXWWmvlP6211lprreU/77333nvv5T8yxhhjjDHmP3TOOeecc+Y/ttZaa6215j/43nvvvffmPzrnnHPOOec/fO+999575z++9957773nPwAAAAAAAOg/QgghhBBC6D+EEEIIIYToP8YYY4wxxug/CCGEEEII6T9KKaWUUkrpP4wxxhhjjOk/zjnnnHPO6T8RQgghhBDqP1NKKaWUUuo/lVJKKaWU6j/XWmuttdbqPxljjDHGGOs/W2uttdZa6z+dc84555zrP99777333us/IYQQQggh7D9jjDHGGGPsP6WUUkoppew/55xzzjnn7D8ppZRSSintP2uttdZaa+0/rbXWWmut7T/vvffee+/tPzLGGGOMMe4/dM4555xz7j+21lprrbXuP/jee++99+4/Ouecc8457z9877333nvvP7733nvvve8/AAAAAAAA8D8=",
          "dtype": "f8"
         },
         "yaxis": "y4"
        }
       ],
       "layout": {
        "annotations": [
         {
          "font": {
           "size": 16
          },
          "showarrow": false,
          "text": "Histogram - Within 1 Mile",
          "x": 0.225,
          "xanchor": "center",
          "xref": "paper",
          "y": 1,
          "yanchor": "bottom",
          "yref": "paper"
         },
         {
          "font": {
           "size": 16
          },
          "showarrow": false,
          "text": "Histogram - Ultra-High Accuracy (0-0.1 miles)",
          "x": 0.775,
          "xanchor": "center",
          "xref": "paper",
          "y": 1,
          "yanchor": "bottom",
          "yref": "paper"
         },
         {
          "font": {
           "size": 16
          },
          "showarrow": false,
          "text": "Box Plot - Within 1 Mile",
          "x": 0.225,
          "xanchor": "center",
          "xref": "paper",
          "y": 0.375,
          "yanchor": "bottom",
          "yref": "paper"
         },
         {
          "font": {
           "size": 16
          },
          "showarrow": false,
          "text": "Cumulative Distribution - Within 1 Mile",
          "x": 0.775,
          "xanchor": "center",
          "xref": "paper",
          "y": 0.375,
          "yanchor": "bottom",
          "yref": "paper"
         }
        ],
        "height": 800,
        "showlegend": true,
        "template": {
         "data": {
          "bar": [
           {
            "error_x": {
             "color": "#2a3f5f"
            },
            "error_y": {
             "color": "#2a3f5f"
            },
            "marker": {
             "line": {
              "color": "#E5ECF6",
              "width": 0.5
             },
             "pattern": {
              "fillmode": "overlay",
              "size": 10,
              "solidity": 0.2
             }
            },
            "type": "bar"
           }
          ],
          "barpolar": [
           {
            "marker": {
             "line": {
              "color": "#E5ECF6",
              "width": 0.5
             },
             "pattern": {
              "fillmode": "overlay",
              "size": 10,
              "solidity": 0.2
             }
            },
            "type": "barpolar"
           }
          ],
          "carpet": [
           {
            "aaxis": {
             "endlinecolor": "#2a3f5f",
             "gridcolor": "white",
             "linecolor": "white",
             "minorgridcolor": "white",
             "startlinecolor": "#2a3f5f"
            },
            "baxis": {
             "endlinecolor": "#2a3f5f",
             "gridcolor": "white",
             "linecolor": "white",
             "minorgridcolor": "white",
             "startlinecolor": "#2a3f5f"
            },
            "type": "carpet"
           }
          ],
          "choropleth": [
           {
            "colorbar": {
             "outlinewidth": 0,
             "ticks": ""
            },
            "type": "choropleth"
           }
          ],
          "contour": [
           {
            "colorbar": {
             "outlinewidth": 0,
             "ticks": ""
            },
            "colorscale": [
             [
              0,
              "#0d0887"
             ],
             [
              0.1111111111111111,
              "#46039f"
             ],
             [
              0.2222222222222222,
              "#7201a8"
             ],
             [
              0.3333333333333333,
              "#9c179e"
             ],
             [
              0.4444444444444444,
              "#bd3786"
             ],
             [
              0.5555555555555556,
              "#d8576b"
             ],
             [
              0.6666666666666666,
              "#ed7953"
             ],
             [
              0.7777777777777778,
              "#fb9f3a"
             ],
             [
              0.8888888888888888,
              "#fdca26"
             ],
             [
              1,
              "#f0f921"
             ]
            ],
            "type": "contour"
           }
          ],
          "contourcarpet": [
           {
            "colorbar": {
             "outlinewidth": 0,
             "ticks": ""
            },
            "type": "contourcarpet"
           }
          ],
          "heatmap": [
           {
            "colorbar": {
             "outlinewidth": 0,
             "ticks": ""
            },
            "colorscale": [
             [
              0,
              "#0d0887"
             ],
             [
              0.1111111111111111,
              "#46039f"
             ],
             [
              0.2222222222222222,
              "#7201a8"
             ],
             [
              0.3333333333333333,
              "#9c179e"
             ],
             [
              0.4444444444444444,
              "#bd3786"
             ],
             [
              0.5555555555555556,
              "#d8576b"
             ],
             [
              0.6666666666666666,
              "#ed7953"
             ],
             [
              0.7777777777777778,
              "#fb9f3a"
             ],
             [
              0.8888888888888888,
              "#fdca26"
             ],
             [
              1,
              "#f0f921"
             ]
            ],
            "type": "heatmap"
           }
          ],
          "histogram": [
           {
            "marker": {
             "pattern": {
              "fillmode": "overlay",
              "size": 10,
              "solidity": 0.2
             }
            },
            "type": "histogram"
           }
          ],
          "histogram2d": [
           {
            "colorbar": {
             "outlinewidth": 0,
             "ticks": ""
            },
            "colorscale": [
             [
              0,
              "#0d0887"
             ],
             [
              0.1111111111111111,
              "#46039f"
             ],
             [
              0.2222222222222222,
              "#7201a8"
             ],
             [
              0.3333333333333333,
              "#9c179e"
             ],
             [
              0.4444444444444444,
              "#bd3786"
             ],
             [
              0.5555555555555556,
              "#d8576b"
             ],
             [
              0.6666666666666666,
              "#ed7953"
             ],
             [
              0.7777777777777778,
              "#fb9f3a"
             ],
             [
              0.8888888888888888,
              "#fdca26"
             ],
             [
              1,
              "#f0f921"
             ]
            ],
            "type": "histogram2d"
           }
          ],
          "histogram2dcontour": [
           {
            "colorbar": {
             "outlinewidth": 0,
             "ticks": ""
            },
            "colorscale": [
             [
              0,
              "#0d0887"
             ],
             [
              0.1111111111111111,
              "#46039f"
             ],
             [
              0.2222222222222222,
              "#7201a8"
             ],
             [
              0.3333333333333333,
              "#9c179e"
             ],
             [
              0.4444444444444444,
              "#bd3786"
             ],
             [
              0.5555555555555556,
              "#d8576b"
             ],
             [
              0.6666666666666666,
              "#ed7953"
             ],
             [
              0.7777777777777778,
              "#fb9f3a"
             ],
             [
              0.8888888888888888,
              "#fdca26"
             ],
             [
              1,
              "#f0f921"
             ]
            ],
            "type": "histogram2dcontour"
           }
          ],
          "mesh3d": [
           {
            "colorbar": {
             "outlinewidth": 0,
             "ticks": ""
            },
            "type": "mesh3d"
           }
          ],
          "parcoords": [
           {
            "line": {
             "colorbar": {
              "outlinewidth": 0,
              "ticks": ""
             }
            },
            "type": "parcoords"
           }
          ],
          "pie": [
           {
            "automargin": true,
            "type": "pie"
           }
          ],
          "scatter": [
           {
            "fillpattern": {
             "fillmode": "overlay",
             "size": 10,
             "solidity": 0.2
            },
            "type": "scatter"
           }
          ],
          "scatter3d": [
           {
            "line": {
             "colorbar": {
              "outlinewidth": 0,
              "ticks": ""
             }
            },
            "marker": {
             "colorbar": {
              "outlinewidth": 0,
              "ticks": ""
             }
            },
            "type": "scatter3d"
           }
          ],
          "scattercarpet": [
           {
            "marker": {
             "colorbar": {
              "outlinewidth": 0,
              "ticks": ""
             }
            },
            "type": "scattercarpet"
           }
          ],
          "scattergeo": [
           {
            "marker": {
             "colorbar": {
              "outlinewidth": 0,
              "ticks": ""
             }
            },
            "type": "scattergeo"
           }
          ],
          "scattergl": [
           {
            "marker": {
             "colorbar": {
              "outlinewidth": 0,
              "ticks": ""
             }
            },
            "type": "scattergl"
           }
          ],
          "scattermap": [
           {
            "marker": {
             "colorbar": {
              "outlinewidth": 0,
              "ticks": ""
             }
            },
            "type": "scattermap"
           }
          ],
          "scattermapbox": [
           {
            "marker": {
             "colorbar": {
              "outlinewidth": 0,
              "ticks": ""
             }
            },
            "type": "scattermapbox"
           }
          ],
          "scatterpolar": [
           {
            "marker": {
             "colorbar": {
              "outlinewidth": 0,
              "ticks": ""
             }
            },
            "type": "scatterpolar"
           }
          ],
          "scatterpolargl": [
           {
            "marker": {
             "colorbar": {
              "outlinewidth": 0,
              "ticks": ""
             }
            },
            "type": "scatterpolargl"
           }
          ],
          "scatterternary": [
           {
            "marker": {
             "colorbar": {
              "outlinewidth": 0,
              "ticks": ""
             }
            },
            "type": "scatterternary"
           }
          ],
          "surface": [
           {
            "colorbar": {
             "outlinewidth": 0,
             "ticks": ""
            },
            "colorscale": [
             [
              0,
              "#0d0887"
             ],
             [
              0.1111111111111111,
              "#46039f"
             ],
             [
              0.2222222222222222,
              "#7201a8"
             ],
             [
              0.3333333333333333,
              "#9c179e"
             ],
             [
              0.4444444444444444,
              "#bd3786"
             ],
             [
              0.5555555555555556,
              "#d8576b"
             ],
             [
              0.6666666666666666,
              "#ed7953"
             ],
             [
              0.7777777777777778,
              "#fb9f3a"
             ],
             [
              0.8888888888888888,
              "#fdca26"
             ],
             [
              1,
              "#f0f921"
             ]
            ],
            "type": "surface"
           }
          ],
          "table": [
           {
            "cells": {
             "fill": {
              "color": "#EBF0F8"
             },
             "line": {
              "color": "white"
             }
            },
            "header": {
             "fill": {
              "color": "#C8D4E3"
             },
             "line": {
              "color": "white"
             }
            },
            "type": "table"
           }
          ]
         },
         "layout": {
          "annotationdefaults": {
           "arrowcolor": "#2a3f5f",
           "arrowhead": 0,
           "arrowwidth": 1
          },
          "autotypenumbers": "strict",
          "coloraxis": {
           "colorbar": {
            "outlinewidth": 0,
            "ticks": ""
           }
          },
          "colorscale": {
           "diverging": [
            [
             0,
             "#8e0152"
            ],
            [
             0.1,
             "#c51b7d"
            ],
            [
             0.2,
             "#de77ae"
            ],
            [
             0.3,
             "#f1b6da"
            ],
            [
             0.4,
             "#fde0ef"
            ],
            [
             0.5,
             "#f7f7f7"
            ],
            [
             0.6,
             "#e6f5d0"
            ],
            [
             0.7,
             "#b8e186"
            ],
            [
             0.8,
             "#7fbc41"
            ],
            [
             0.9,
             "#4d9221"
            ],
            [
             1,
             "#276419"
            ]
           ],
           "sequential": [
            [
             0,
             "#0d0887"
            ],
            [
             0.1111111111111111,
             "#46039f"
            ],
            [
             0.2222222222222222,
             "#7201a8"
            ],
            [
             0.3333333333333333,
             "#9c179e"
            ],
            [
             0.4444444444444444,
             "#bd3786"
            ],
            [
             0.5555555555555556,
             "#d8576b"
            ],
            [
             0.6666666666666666,
             "#ed7953"
            ],
            [
             0.7777777777777778,
             "#fb9f3a"
            ],
            [
             0.8888888888888888,
             "#fdca26"
            ],
            [
             1,
             "#f0f921"
            ]
           ],
           "sequentialminus": [
            [
             0,
             "#0d0887"
            ],
            [
             0.1111111111111111,
             "#46039f"
            ],
            [
             0.2222222222222222,
             "#7201a8"
            ],
            [
             0.3333333333333333,
             "#9c179e"
            ],
            [
             0.4444444444444444,
             "#bd3786"
            ],
            [
             0.5555555555555556,
             "#d8576b"
            ],
            [
             0.6666666666666666,
             "#ed7953"
            ],
            [
             0.7777777777777778,
             "#fb9f3a"
            ],
            [
             0.8888888888888888,
             "#fdca26"
            ],
            [
             1,
             "#f0f921"
            ]
           ]
          },
          "colorway": [
           "#636efa",
           "#EF553B",
           "#00cc96",
           "#ab63fa",
           "#FFA15A",
           "#19d3f3",
           "#FF6692",
           "#B6E880",
           "#FF97FF",
           "#FECB52"
          ],
          "font": {
           "color": "#2a3f5f"
          },
          "geo": {
           "bgcolor": "white",
           "lakecolor": "white",
           "landcolor": "#E5ECF6",
           "showlakes": true,
           "showland": true,
           "subunitcolor": "white"
          },
          "hoverlabel": {
           "align": "left"
          },
          "hovermode": "closest",
          "mapbox": {
           "style": "light"
          },
          "paper_bgcolor": "white",
          "plot_bgcolor": "#E5ECF6",
          "polar": {
           "angularaxis": {
            "gridcolor": "white",
            "linecolor": "white",
            "ticks": ""
           },
           "bgcolor": "#E5ECF6",
           "radialaxis": {
            "gridcolor": "white",
            "linecolor": "white",
            "ticks": ""
           }
          },
          "scene": {
           "xaxis": {
            "backgroundcolor": "#E5ECF6",
            "gridcolor": "white",
            "gridwidth": 2,
            "linecolor": "white",
            "showbackground": true,
            "ticks": "",
            "zerolinecolor": "white"
           },
           "yaxis": {
            "backgroundcolor": "#E5ECF6",
            "gridcolor": "white",
            "gridwidth": 2,
            "linecolor": "white",
            "showbackground": true,
            "ticks": "",
            "zerolinecolor": "white"
           },
           "zaxis": {
            "backgroundcolor": "#E5ECF6",
            "gridcolor": "white",
            "gridwidth": 2,
            "linecolor": "white",
            "showbackground": true,
            "ticks": "",
            "zerolinecolor": "white"
           }
          },
          "shapedefaults": {
           "line": {
            "color": "#2a3f5f"
           }
          },
          "ternary": {
           "aaxis": {
            "gridcolor": "white",
            "linecolor": "white",
            "ticks": ""
           },
           "baxis": {
            "gridcolor": "white",
            "linecolor": "white",
            "ticks": ""
           },
           "bgcolor": "#E5ECF6",
           "caxis": {
            "gridcolor": "white",
            "linecolor": "white",
            "ticks": ""
           }
          },
          "title": {
           "x": 0.05
          },
          "xaxis": {
           "automargin": true,
           "gridcolor": "white",
           "linecolor": "white",
           "ticks": "",
           "title": {
            "standoff": 15
           },
           "zerolinecolor": "white",
           "zerolinewidth": 2
          },
          "yaxis": {
           "automargin": true,
           "gridcolor": "white",
           "linecolor": "white",
           "ticks": "",
           "title": {
            "standoff": 15
           },
           "zerolinecolor": "white",
           "zerolinewidth": 2
          }
         }
        },
        "title": {
         "text": "High-Accuracy Analysis: Final Coordinates vs Geocoding API (≤ 1 Mile)"
        },
        "xaxis": {
         "anchor": "y",
         "domain": [
          0,
          0.45
         ],
         "title": {
          "text": "Distance (miles)"
         }
        },
        "xaxis2": {
         "anchor": "y2",
         "domain": [
          0.55,
          1
         ],
         "title": {
          "text": "Distance (miles)"
         }
        },
        "xaxis3": {
         "anchor": "y3",
         "domain": [
          0,
          0.45
         ],
         "title": {
          "text": ""
         }
        },
        "xaxis4": {
         "anchor": "y4",
         "domain": [
          0.55,
          1
         ],
         "title": {
          "text": "Distance (miles)"
         }
        },
        "yaxis": {
         "anchor": "x",
         "domain": [
          0.625,
          1
         ],
         "title": {
          "text": "Count"
         }
        },
        "yaxis2": {
         "anchor": "x2",
         "domain": [
          0.625,
          1
         ],
         "title": {
          "text": "Count"
         }
        },
        "yaxis3": {
         "anchor": "x3",
         "domain": [
          0,
          0.375
         ],
         "title": {
          "text": "Distance (miles)"
         }
        },
        "yaxis4": {
         "anchor": "x4",
         "domain": [
          0,
          0.375
         ],
         "title": {
          "text": "Cumulative Probability"
         }
        }
       }
      }
     },
     "metadata": {},
     "output_type": "display_data"
    },
    {
     "name": "stdout",
     "output_type": "stream",
     "text": [
      "Detailed Statistics for High-Accuracy Cases (≤ 1 Mile):\n",
      "============================================================\n",
      "Count: 124\n",
      "Mean: 0.0591 miles\n",
      "Median: 0.0307 miles\n",
      "Standard deviation: 0.0766 miles\n",
      "Min: 0.0060 miles\n",
      "Max: 0.3462 miles\n",
      "Skewness: 2.22\n",
      "Kurtosis: 4.50\n",
      "\n",
      "Precision Distribution (Within 1 Mile):\n",
      "---------------------------------------------\n",
      "Within 0.01 miles (53 feet): 17 (13.7%)\n",
      "Within 0.05 miles (264 feet): 88 (71.0%)\n",
      "Within 0.1 miles (528 feet): 102 (82.3%)\n",
      "Within 0.25 miles (1,320 feet): 117 (94.4%)\n",
      "Within 0.5 miles (2,640 feet): 124 (100.0%)\n",
      "0.5 - 1.0 miles: 0 (0.0%)\n",
      "\n",
      "Percentiles (Within 1 Mile):\n",
      "------------------------------\n",
      "10th percentile: 0.0089 miles (47 feet)\n",
      "25th percentile: 0.0162 miles (86 feet)\n",
      "50th percentile: 0.0307 miles (162 feet)\n",
      "75th percentile: 0.0560 miles (296 feet)\n",
      "90th percentile: 0.1755 miles (927 feet)\n",
      "95th percentile: 0.2576 miles (1360 feet)\n",
      "99th percentile: 0.3462 miles (1828 feet)\n",
      "\n",
      "Accuracy Level Breakdown:\n",
      "-----------------------------------\n",
      "Street-level accuracy (≤0.01 mi): 17/124 (13.7%)\n",
      "Block-level accuracy (0.01-0.1 mi): 85/124 (68.5%)\n",
      "Neighborhood accuracy (0.1-0.5 mi): 22/124 (17.7%)\n",
      "Local area accuracy (0.5-1.0 mi): 0/124 (0.0%)\n"
     ]
    }
   ],
   "source": [
    "import plotly.express as px\n",
    "import plotly.graph_objects as go\n",
    "from plotly.subplots import make_subplots\n",
    "import numpy as np\n",
    "\n",
    "# Get the valid distances (non-null values)\n",
    "valid_distances = df['Distance_Final_vs_API'].dropna()\n",
    "\n",
    "# Filter to only distances within 1 mile (high-accuracy cases)\n",
    "distances_within_1_mile = valid_distances[valid_distances <= 1]\n",
    "\n",
    "print(\"High-Accuracy Analysis: Distances Within 1 Mile\")\n",
    "print(\"=\" * 50)\n",
    "print(f\"Total data points: {len(valid_distances)}\")\n",
    "print(f\"Points within 1 mile: {len(distances_within_1_mile)} ({(len(distances_within_1_mile)/len(valid_distances)*100):.1f}%)\")\n",
    "print(f\"Points beyond 1 mile: {len(valid_distances) - len(distances_within_1_mile)} ({((len(valid_distances) - len(distances_within_1_mile))/len(valid_distances)*100):.1f}%)\")\n",
    "print()\n",
    "\n",
    "# Create detailed analysis for the within-1-mile subset\n",
    "fig = make_subplots(\n",
    "    rows=2, cols=2,\n",
    "    subplot_titles=('Histogram - Within 1 Mile', 'Histogram - Ultra-High Accuracy (0-0.1 miles)', \n",
    "                   'Box Plot - Within 1 Mile', 'Cumulative Distribution - Within 1 Mile'),\n",
    "    specs=[[{\"secondary_y\": False}, {\"secondary_y\": False}],\n",
    "           [{\"secondary_y\": False}, {\"secondary_y\": False}]]\n",
    ")\n",
    "\n",
    "# 1. Histogram - Within 1 mile\n",
    "fig.add_trace(\n",
    "    go.Histogram(x=distances_within_1_mile, nbinsx=25, name='Within 1 Mile'),\n",
    "    row=1, col=1\n",
    ")\n",
    "\n",
    "# 2. Histogram - Ultra-high accuracy (0-0.1 miles)\n",
    "distances_ultra_high = distances_within_1_mile[distances_within_1_mile <= 0.1]\n",
    "fig.add_trace(\n",
    "    go.Histogram(x=distances_ultra_high, nbinsx=20, name='0-0.1 miles'),\n",
    "    row=1, col=2\n",
    ")\n",
    "\n",
    "# 3. Box plot - Within 1 mile\n",
    "fig.add_trace(\n",
    "    go.Box(y=distances_within_1_mile, name='Within 1 Mile', boxpoints='all'),\n",
    "    row=2, col=1\n",
    ")\n",
    "\n",
    "# 4. Cumulative distribution - Within 1 mile\n",
    "sorted_distances_1mile = np.sort(distances_within_1_mile)\n",
    "cumulative_prob_1mile = np.arange(1, len(sorted_distances_1mile) + 1) / len(sorted_distances_1mile)\n",
    "fig.add_trace(\n",
    "    go.Scatter(x=sorted_distances_1mile, y=cumulative_prob_1mile, mode='lines', \n",
    "              name='Within 1 Mile', line=dict(color='green')),\n",
    "    row=2, col=2\n",
    ")\n",
    "\n",
    "# Update layout\n",
    "fig.update_layout(\n",
    "    height=800,\n",
    "    title_text=\"High-Accuracy Analysis: Final Coordinates vs Geocoding API (≤ 1 Mile)\",\n",
    "    showlegend=True\n",
    ")\n",
    "\n",
    "# Update x-axis labels\n",
    "fig.update_xaxes(title_text=\"Distance (miles)\", row=1, col=1)\n",
    "fig.update_xaxes(title_text=\"Distance (miles)\", row=1, col=2)\n",
    "fig.update_xaxes(title_text=\"\", row=2, col=1)\n",
    "fig.update_xaxes(title_text=\"Distance (miles)\", row=2, col=2)\n",
    "\n",
    "# Update y-axis labels\n",
    "fig.update_yaxes(title_text=\"Count\", row=1, col=1)\n",
    "fig.update_yaxes(title_text=\"Count\", row=1, col=2)\n",
    "fig.update_yaxes(title_text=\"Distance (miles)\", row=2, col=1)\n",
    "fig.update_yaxes(title_text=\"Cumulative Probability\", row=2, col=2)\n",
    "\n",
    "fig.show()\n",
    "\n",
    "# Detailed statistics for within 1 mile\n",
    "print(\"Detailed Statistics for High-Accuracy Cases (≤ 1 Mile):\")\n",
    "print(\"=\" * 60)\n",
    "print(f\"Count: {len(distances_within_1_mile)}\")\n",
    "print(f\"Mean: {distances_within_1_mile.mean():.4f} miles\")\n",
    "print(f\"Median: {distances_within_1_mile.median():.4f} miles\")\n",
    "print(f\"Standard deviation: {distances_within_1_mile.std():.4f} miles\")\n",
    "print(f\"Min: {distances_within_1_mile.min():.4f} miles\")\n",
    "print(f\"Max: {distances_within_1_mile.max():.4f} miles\")\n",
    "print(f\"Skewness: {distances_within_1_mile.skew():.2f}\")\n",
    "print(f\"Kurtosis: {distances_within_1_mile.kurtosis():.2f}\")\n",
    "print()\n",
    "\n",
    "print(\"Precision Distribution (Within 1 Mile):\")\n",
    "print(\"-\" * 45)\n",
    "print(f\"Within 0.01 miles (53 feet): {(distances_within_1_mile <= 0.01).sum()} ({(distances_within_1_mile <= 0.01).mean()*100:.1f}%)\")\n",
    "print(f\"Within 0.05 miles (264 feet): {(distances_within_1_mile <= 0.05).sum()} ({(distances_within_1_mile <= 0.05).mean()*100:.1f}%)\")\n",
    "print(f\"Within 0.1 miles (528 feet): {(distances_within_1_mile <= 0.1).sum()} ({(distances_within_1_mile <= 0.1).mean()*100:.1f}%)\")\n",
    "print(f\"Within 0.25 miles (1,320 feet): {(distances_within_1_mile <= 0.25).sum()} ({(distances_within_1_mile <= 0.25).mean()*100:.1f}%)\")\n",
    "print(f\"Within 0.5 miles (2,640 feet): {(distances_within_1_mile <= 0.5).sum()} ({(distances_within_1_mile <= 0.5).mean()*100:.1f}%)\")\n",
    "print(f\"0.5 - 1.0 miles: {((distances_within_1_mile > 0.5) & (distances_within_1_mile <= 1.0)).sum()} ({((distances_within_1_mile > 0.5) & (distances_within_1_mile <= 1.0)).mean()*100:.1f}%)\")\n",
    "print()\n",
    "\n",
    "print(\"Percentiles (Within 1 Mile):\")\n",
    "print(\"-\" * 30)\n",
    "percentiles = [10, 25, 50, 75, 90, 95, 99]\n",
    "for p in percentiles:\n",
    "    value = distances_within_1_mile.quantile(p/100)\n",
    "    print(f\"{p}th percentile: {value:.4f} miles ({value*5280:.0f} feet)\")\n",
    "print()\n",
    "\n",
    "# Compare accuracy levels\n",
    "print(\"Accuracy Level Breakdown:\")\n",
    "print(\"-\" * 35)\n",
    "total_within_1 = len(distances_within_1_mile)\n",
    "print(f\"Street-level accuracy (≤0.01 mi): {(distances_within_1_mile <= 0.01).sum()}/{total_within_1} ({(distances_within_1_mile <= 0.01).mean()*100:.1f}%)\")\n",
    "print(f\"Block-level accuracy (0.01-0.1 mi): {((distances_within_1_mile > 0.01) & (distances_within_1_mile <= 0.1)).sum()}/{total_within_1} ({((distances_within_1_mile > 0.01) & (distances_within_1_mile <= 0.1)).mean()*100:.1f}%)\")\n",
    "print(f\"Neighborhood accuracy (0.1-0.5 mi): {((distances_within_1_mile > 0.1) & (distances_within_1_mile <= 0.5)).sum()}/{total_within_1} ({((distances_within_1_mile > 0.1) & (distances_within_1_mile <= 0.5)).mean()*100:.1f}%)\")\n",
    "print(f\"Local area accuracy (0.5-1.0 mi): {((distances_within_1_mile > 0.5) & (distances_within_1_mile <= 1.0)).sum()}/{total_within_1} ({((distances_within_1_mile > 0.5) & (distances_within_1_mile <= 1.0)).mean()*100:.1f}%)\")"
   ]
  }
 ],
 "metadata": {
  "kernelspec": {
   "display_name": "Python 3",
   "language": "python",
   "name": "python3"
  },
  "language_info": {
   "codemirror_mode": {
    "name": "ipython",
    "version": 3
   },
   "file_extension": ".py",
   "mimetype": "text/x-python",
   "name": "python",
   "nbconvert_exporter": "python",
   "pygments_lexer": "ipython3",
   "version": "3.13.5"
  }
 },
 "nbformat": 4,
 "nbformat_minor": 5
}
